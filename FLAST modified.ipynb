{
 "cells": [
  {
   "cell_type": "markdown",
   "id": "6e54f4a5-348d-4e3f-9b6f-74f4506a9992",
   "metadata": {},
   "source": [
    "KNN"
   ]
  },
  {
   "cell_type": "code",
   "execution_count": 16,
   "id": "20573e37-1565-44bd-a94d-5c52b8d3f678",
   "metadata": {},
   "outputs": [
    {
     "name": "stdout",
     "output_type": "stream",
     "text": [
      "Starting 5-fold analysis...\n",
      "Number of flaky documents: 47\n",
      "Number of non-flaky documents: 47\n",
      "Total number of documents: 94\n",
      "Sample document: # Copyright 2021 The NetKet Authors - All rights reserved.\n",
      "#\n",
      "# Licensed under the Apache License, Version 2.0 (the \"License\");\n",
      "# you may not use this file except in compliance with the License.\n",
      "# You may obtain a copy of the License at\n",
      "#\n",
      "#    http://www.apache.org/licenses/LICENSE-2.0\n",
      "#\n",
      "# Unless required by applicable law or agreed to in writing, software\n",
      "# distributed under the License is distributed on an \"AS IS\" BASIS,\n",
      "# WITHOUT WARRANTIES OR CONDITIONS OF ANY KIND, either express or implied.\n",
      "# See the License for the specific language governing permissions and\n",
      "# limitations under the License.\n",
      "\n",
      "import dataclasses\n",
      "import abc\n",
      "\n",
      "from flax.core import freeze\n",
      "\n",
      "\n",
      "@dataclasses.dataclass(frozen=True)\n",
      "class ModuleFramework(abc.ABC):\n",
      "    @staticmethod\n",
      "    @abc.abstractmethod\n",
      "    def is_loaded() -> bool:\n",
      "        pass\n",
      "\n",
      "    @staticmethod\n",
      "    @abc.abstractmethod\n",
      "    def is_my_module(module):\n",
      "        pass\n",
      "\n",
      "    @staticmethod\n",
      "    @abc.abstractmethod\n",
      "    def wrap(module):\n",
      "        return module\n",
      "\n",
      "    @staticmethod\n",
      "    def wrap_params(variables):\n",
      "        return freeze({\"params\": variables})\n",
      "\n",
      "    @staticmethod\n",
      "    @abc.abstractmethod\n",
      "    def unwrap_params(wrapped_variables):\n",
      "        return wrapped_variables\n",
      "\n",
      "\n",
      "registered_frameworks = []\n",
      "\n",
      "\n",
      "def framework(clz):\n",
      "    \"\"\"\n",
      "    Registers a framework and it's wrapper methods to make it\n",
      "    behave like a flax framework.\n",
      "    \"\"\"\n",
      "    clz = dataclasses.dataclass(frozen=True)(clz)\n",
      "    registered_frameworks.append(clz)\n",
      "    return clz\n",
      "\n",
      "\n",
      "@dataclasses.dataclass(frozen=True)\n",
      "class UnknownFramework(ModuleFramework):\n",
      "    name: str = \"Unknown\"\n",
      "\n",
      "    @staticmethod\n",
      "    def is_loaded() -> bool:\n",
      "        return True\n",
      "\n",
      "    @staticmethod\n",
      "    def is_my_module(module):\n",
      "        return False\n",
      "\n",
      "    @staticmethod\n",
      "    def wrap(module):\n",
      "        return module\n",
      "\n",
      "    @staticmethod\n",
      "    def unwrap_params(wrapped_variables):\n",
      "        return wrapped_variables\n",
      "\n",
      "\n",
      "def identify_framework(module):\n",
      "    for _framework in registered_frameworks:\n",
      "        if _framework.is_my_module(module):\n",
      "            return _framework\n",
      "\n",
      "    return UnknownFramework\n",
      "\n",
      "\n",
      "def maybe_wrap_module(module):\n",
      "    \"\"\"\n",
      "    Passing a module from an unknown framework (might be user defined module, a jax\n",
      "    module, flax or haiku or anything else really), attempt to identify what is the\n",
      "    package/framework it comes from, and if so it correctly wraps it in order to\n",
      "    make it behave like a flax module (our default).\n",
      "\n",
      "    Also returns a function used to unpack the parameters once we are done.\n",
      "    \"\"\"\n",
      "    framewrk = identify_framework(module)\n",
      "\n",
      "    return framewrk, framewrk.wrap(module)\n",
      "Fitting 5 folds for each of 6 candidates, totalling 30 fits\n",
      "Best Parameters: {'knn__metric': 'cosine', 'knn__n_neighbors': 3}\n",
      "Best Accuracy Score: 0.7146198830409356\n",
      "KNN analysis completed for 5-folds. Results saved to: params-knn-5-folds.csv\n",
      "Starting 3-fold analysis...\n",
      "Number of flaky documents: 47\n",
      "Number of non-flaky documents: 47\n",
      "Total number of documents: 94\n",
      "Sample document: # Copyright 2021 The NetKet Authors - All rights reserved.\n",
      "#\n",
      "# Licensed under the Apache License, Version 2.0 (the \"License\");\n",
      "# you may not use this file except in compliance with the License.\n",
      "# You may obtain a copy of the License at\n",
      "#\n",
      "#    http://www.apache.org/licenses/LICENSE-2.0\n",
      "#\n",
      "# Unless required by applicable law or agreed to in writing, software\n",
      "# distributed under the License is distributed on an \"AS IS\" BASIS,\n",
      "# WITHOUT WARRANTIES OR CONDITIONS OF ANY KIND, either express or implied.\n",
      "# See the License for the specific language governing permissions and\n",
      "# limitations under the License.\n",
      "\n",
      "import dataclasses\n",
      "import abc\n",
      "\n",
      "from flax.core import freeze\n",
      "\n",
      "\n",
      "@dataclasses.dataclass(frozen=True)\n",
      "class ModuleFramework(abc.ABC):\n",
      "    @staticmethod\n",
      "    @abc.abstractmethod\n",
      "    def is_loaded() -> bool:\n",
      "        pass\n",
      "\n",
      "    @staticmethod\n",
      "    @abc.abstractmethod\n",
      "    def is_my_module(module):\n",
      "        pass\n",
      "\n",
      "    @staticmethod\n",
      "    @abc.abstractmethod\n",
      "    def wrap(module):\n",
      "        return module\n",
      "\n",
      "    @staticmethod\n",
      "    def wrap_params(variables):\n",
      "        return freeze({\"params\": variables})\n",
      "\n",
      "    @staticmethod\n",
      "    @abc.abstractmethod\n",
      "    def unwrap_params(wrapped_variables):\n",
      "        return wrapped_variables\n",
      "\n",
      "\n",
      "registered_frameworks = []\n",
      "\n",
      "\n",
      "def framework(clz):\n",
      "    \"\"\"\n",
      "    Registers a framework and it's wrapper methods to make it\n",
      "    behave like a flax framework.\n",
      "    \"\"\"\n",
      "    clz = dataclasses.dataclass(frozen=True)(clz)\n",
      "    registered_frameworks.append(clz)\n",
      "    return clz\n",
      "\n",
      "\n",
      "@dataclasses.dataclass(frozen=True)\n",
      "class UnknownFramework(ModuleFramework):\n",
      "    name: str = \"Unknown\"\n",
      "\n",
      "    @staticmethod\n",
      "    def is_loaded() -> bool:\n",
      "        return True\n",
      "\n",
      "    @staticmethod\n",
      "    def is_my_module(module):\n",
      "        return False\n",
      "\n",
      "    @staticmethod\n",
      "    def wrap(module):\n",
      "        return module\n",
      "\n",
      "    @staticmethod\n",
      "    def unwrap_params(wrapped_variables):\n",
      "        return wrapped_variables\n",
      "\n",
      "\n",
      "def identify_framework(module):\n",
      "    for _framework in registered_frameworks:\n",
      "        if _framework.is_my_module(module):\n",
      "            return _framework\n",
      "\n",
      "    return UnknownFramework\n",
      "\n",
      "\n",
      "def maybe_wrap_module(module):\n",
      "    \"\"\"\n",
      "    Passing a module from an unknown framework (might be user defined module, a jax\n",
      "    module, flax or haiku or anything else really), attempt to identify what is the\n",
      "    package/framework it comes from, and if so it correctly wraps it in order to\n",
      "    make it behave like a flax module (our default).\n",
      "\n",
      "    Also returns a function used to unpack the parameters once we are done.\n",
      "    \"\"\"\n",
      "    framewrk = identify_framework(module)\n",
      "\n",
      "    return framewrk, framewrk.wrap(module)\n",
      "Fitting 3 folds for each of 6 candidates, totalling 18 fits\n",
      "Best Parameters: {'knn__metric': 'cosine', 'knn__n_neighbors': 3}\n",
      "Best Accuracy Score: 0.7123655913978494\n",
      "KNN analysis completed for 3-folds. Results saved to: params-knn-3-folds.csv\n",
      "Best results for 5-fold:\n",
      "Best Parameters: {'knn__metric': 'cosine', 'knn__n_neighbors': 3}\n",
      "Best Accuracy Score: 0.7146198830409356\n",
      "Best results for 3-fold:\n",
      "Best Parameters: {'knn__metric': 'cosine', 'knn__n_neighbors': 3}\n",
      "Best Accuracy Score: 0.7123655913978494\n"
     ]
    }
   ],
   "source": [
    "import os\n",
    "import time\n",
    "import zipfile\n",
    "import pickle\n",
    "import numpy as np\n",
    "\n",
    "from sklearn.feature_extraction.text import CountVectorizer\n",
    "from sklearn.random_projection import johnson_lindenstrauss_min_dim, SparseRandomProjection\n",
    "from sklearn.neighbors import KNeighborsClassifier\n",
    "from sklearn.metrics import make_scorer, precision_score, recall_score, accuracy_score\n",
    "from sklearn.model_selection import StratifiedKFold, GridSearchCV\n",
    "from sklearn.pipeline import Pipeline\n",
    "\n",
    "###############################################################################\n",
    "# Utility functions\n",
    "\n",
    "def extract_zip(zip_file, extract_to):\n",
    "    \"\"\"Extracts a zip file to the specified directory.\"\"\"\n",
    "    with zipfile.ZipFile(zip_file, 'r') as zip_ref:\n",
    "        zip_ref.extractall(extract_to)\n",
    "\n",
    "def getDataPoints(path):\n",
    "    \"\"\"Collects content of all .py files within the given directory.\"\"\"\n",
    "    dataPointsList = []\n",
    "    if not os.path.exists(path):\n",
    "        print(f\"Directory does not exist: {path}\")\n",
    "        return dataPointsList\n",
    "\n",
    "    for root, dirs, files in os.walk(path):\n",
    "        for dataPointName in files:\n",
    "            if dataPointName.endswith(\".py\"):  # Only consider Python files\n",
    "                file_path = os.path.join(root, dataPointName)\n",
    "                with open(file_path, encoding=\"utf-8\") as fileIn:\n",
    "                    dp = fileIn.read().strip()\n",
    "                    if dp:  # Ensure the document is not empty\n",
    "                        dataPointsList.append(dp)\n",
    "                    else:\n",
    "                        print(f\"Empty file: {file_path}\")\n",
    "    \n",
    "    if len(dataPointsList) == 0:\n",
    "        print(f\"No valid documents found in directory: {path}\")\n",
    "    \n",
    "    return dataPointsList\n",
    "\n",
    "def flastVectorization(dataPoints, dim=0, eps=0.3):\n",
    "    countVec = CountVectorizer(stop_words=None)  # No stop word removal\n",
    "    Z_full = countVec.fit_transform(dataPoints)\n",
    "    if eps == 0:\n",
    "        Z = Z_full\n",
    "    else:\n",
    "        if dim <= 0:\n",
    "            dim = johnson_lindenstrauss_min_dim(Z_full.shape[0], eps=eps)\n",
    "        srp = SparseRandomProjection(n_components=dim)\n",
    "        Z = srp.fit_transform(Z_full)\n",
    "    return Z\n",
    "\n",
    "###############################################################################\n",
    "# KNN with GridSearchCV and Multiple Scoring Metrics\n",
    "\n",
    "def flastKNNWithGridSearchCV(outDir, flakyZip, nonFlakyZip, extractDir, n_splits, dim, eps):\n",
    "    v0 = time.perf_counter()\n",
    "\n",
    "    # Extract the zip files\n",
    "    flakyDir = os.path.join(extractDir, 'flaky')\n",
    "    nonFlakyDir = os.path.join(extractDir, 'nonFlaky')\n",
    "    os.makedirs(flakyDir, exist_ok=True)\n",
    "    os.makedirs(nonFlakyDir, exist_ok=True)\n",
    "    \n",
    "    extract_zip(flakyZip, flakyDir)\n",
    "    extract_zip(nonFlakyZip, nonFlakyDir)\n",
    "\n",
    "    dataPointsFlaky = getDataPoints(flakyDir)\n",
    "    dataPointsNonFlaky = getDataPoints(nonFlakyDir)\n",
    "    dataPoints = dataPointsFlaky + dataPointsNonFlaky\n",
    "\n",
    "    print(f\"Number of flaky documents: {len(dataPointsFlaky)}\")\n",
    "    print(f\"Number of non-flaky documents: {len(dataPointsNonFlaky)}\")\n",
    "    print(f\"Total number of documents: {len(dataPoints)}\")\n",
    "    if len(dataPoints) > 0:\n",
    "        print(f\"Sample document: {dataPoints[0]}\")\n",
    "\n",
    "    if len(dataPoints) == 0:\n",
    "        raise ValueError(\"No documents available for vectorization. Please check the input directories.\")\n",
    "\n",
    "    # Vectorization\n",
    "    Z = flastVectorization(dataPoints, dim=dim, eps=eps)\n",
    "    dataPointsList = np.array([Z[i].toarray() for i in range(Z.shape[0])])\n",
    "    dataLabelsList = np.array([1]*len(dataPointsFlaky) + [0]*len(dataPointsNonFlaky))\n",
    "    vecTime = time.perf_counter() - v0\n",
    "\n",
    "    # Define the pipeline for KNN\n",
    "    pipeline = Pipeline([\n",
    "        ('knn', KNeighborsClassifier())\n",
    "    ])\n",
    "\n",
    "    # Define parameter grid for hyperparameter tuning\n",
    "    param_grid = {\n",
    "        'knn__n_neighbors': [3, 5, 7],  # Hyperparameter for k in KNN\n",
    "        'knn__metric': ['cosine', 'euclidean'],  # Distance metrics\n",
    "    }\n",
    "\n",
    "    # Custom scoring functions for precision, recall, and accuracy\n",
    "    scoring = {\n",
    "        'precision': make_scorer(precision_score),\n",
    "        'recall': make_scorer(recall_score),\n",
    "        'accuracy': make_scorer(accuracy_score)\n",
    "    }\n",
    "\n",
    "    # Cross-validation\n",
    "    skf = StratifiedKFold(n_splits=n_splits, shuffle=True, random_state=42)\n",
    "\n",
    "    # Perform GridSearchCV with multiple scoring metrics\n",
    "    grid_search = GridSearchCV(pipeline, param_grid, cv=skf, scoring=scoring, refit='accuracy', verbose=1, return_train_score=True)\n",
    "\n",
    "    # Fit the GridSearchCV on training data\n",
    "    grid_search.fit(dataPointsList.reshape(len(dataPointsList), -1), dataLabelsList)\n",
    "\n",
    "    # Get the best parameters and the best score for accuracy\n",
    "    best_params = grid_search.best_params_\n",
    "    best_score = grid_search.best_score_\n",
    "\n",
    "    print(f\"Best Parameters: {best_params}\")\n",
    "    print(f\"Best Accuracy Score: {best_score}\")\n",
    "\n",
    "    # Save the results\n",
    "    outFile = f\"params-knn-{n_splits}-folds.csv\"\n",
    "    with open(os.path.join(outDir, outFile), \"w\") as fo:\n",
    "        fo.write(\"n_neighbors,metric,accuracy,precision,recall,preparationTime\\n\")\n",
    "        for idx, param in enumerate(grid_search.cv_results_['params']):\n",
    "            accuracy = grid_search.cv_results_['mean_test_accuracy'][idx]\n",
    "            precision = grid_search.cv_results_['mean_test_precision'][idx]\n",
    "            recall = grid_search.cv_results_['mean_test_recall'][idx]\n",
    "            preparationTime = vecTime / len(dataPointsList)  # Estimating preparation time\n",
    "            fo.write(f\"{param['knn__n_neighbors']},{param['knn__metric']},{accuracy},{precision},{recall},{preparationTime}\\n\")\n",
    "\n",
    "    print(f\"KNN analysis completed for {n_splits}-folds. Results saved to: {outFile}\")\n",
    "    return best_params, best_score\n",
    "\n",
    "if __name__ == \"__main__\":\n",
    "    # Parameters setup\n",
    "    flakyZip = \"C:/Users/kdeep/Downloads/Flakiness ML/cleaned_flaky_files.zip\"\n",
    "    nonFlakyZip = \"C:/Users/kdeep/Downloads/Flakiness ML/reduced_nonflaky_files.zip\"\n",
    "    extractDir = \"extracted\"\n",
    "    outDir = \"results/\"\n",
    "    os.makedirs(outDir, exist_ok=True)\n",
    "    os.makedirs(extractDir, exist_ok=True)\n",
    "\n",
    "    # Perform KNN analysis for 5 folds and 3 folds\n",
    "    dim = 100  # Example value for JL dimensionality reduction\n",
    "    eps = 0.3  # JL epsilon\n",
    "\n",
    "    print(\"Starting 5-fold analysis...\")\n",
    "    best_params_5folds, best_score_5folds = flastKNNWithGridSearchCV(outDir, flakyZip, nonFlakyZip, extractDir, 5, dim, eps)\n",
    "\n",
    "    print(\"Starting 3-fold analysis...\")\n",
    "    best_params_3folds, best_score_3folds = flastKNNWithGridSearchCV(outDir, flakyZip, nonFlakyZip, extractDir, 3, dim, eps)\n",
    "\n",
    "    print(\"Best results for 5-fold:\")\n",
    "    print(f\"Best Parameters: {best_params_5folds}\")\n",
    "    print(f\"Best Accuracy Score: {best_score_5folds}\")\n",
    "\n",
    "    print(\"Best results for 3-fold:\")\n",
    "    print(f\"Best Parameters: {best_params_3folds}\")\n",
    "    print(f\"Best Accuracy Score: {best_score_3folds}\")\n"
   ]
  },
  {
   "cell_type": "markdown",
   "id": "9d26a58c-f768-4863-ba1a-411cd77b6202",
   "metadata": {},
   "source": [
    "SVM"
   ]
  },
  {
   "cell_type": "code",
   "execution_count": 21,
   "id": "f4f8789a-f8d2-40c6-b5e9-e9f6a9f34129",
   "metadata": {},
   "outputs": [
    {
     "name": "stdout",
     "output_type": "stream",
     "text": [
      "Starting 5-fold analysis...\n",
      "Number of flaky documents: 47\n",
      "Number of non-flaky documents: 47\n",
      "Total number of documents: 94\n",
      "Fitting 5 folds for each of 12 candidates, totalling 60 fits\n",
      "Best Parameters: {'svm__C': 10.0, 'svm__kernel': 'rbf'}\n",
      "Best Accuracy Score: 0.724561403508772\n",
      "SVM analysis completed for 5-folds. Results saved to: params-svm-5-folds.csv\n",
      "Starting 3-fold analysis...\n",
      "Number of flaky documents: 47\n",
      "Number of non-flaky documents: 47\n",
      "Total number of documents: 94\n",
      "Fitting 3 folds for each of 12 candidates, totalling 36 fits\n",
      "Best Parameters: {'svm__C': 0.1, 'svm__kernel': 'linear'}\n",
      "Best Accuracy Score: 0.7348790322580645\n",
      "SVM analysis completed for 3-folds. Results saved to: params-svm-3-folds.csv\n",
      "Best results for 5-fold:\n",
      "Best Parameters: {'svm__C': 10.0, 'svm__kernel': 'rbf'}\n",
      "Best Accuracy Score: 0.724561403508772\n",
      "Best results for 3-fold:\n",
      "Best Parameters: {'svm__C': 0.1, 'svm__kernel': 'linear'}\n",
      "Best Accuracy Score: 0.7348790322580645\n"
     ]
    }
   ],
   "source": [
    "import os\n",
    "import time\n",
    "import zipfile\n",
    "import numpy as np\n",
    "\n",
    "from sklearn.feature_extraction.text import CountVectorizer\n",
    "from sklearn.svm import SVC\n",
    "from sklearn.metrics import make_scorer, precision_score, recall_score, accuracy_score\n",
    "from sklearn.model_selection import StratifiedKFold, GridSearchCV\n",
    "from sklearn.pipeline import Pipeline\n",
    "\n",
    "###############################################################################\n",
    "# Utility functions\n",
    "\n",
    "def extract_zip(zip_file, extract_to):\n",
    "    \"\"\"Extracts a zip file to the specified directory.\"\"\"\n",
    "    with zipfile.ZipFile(zip_file, 'r') as zip_ref:\n",
    "        zip_ref.extractall(extract_to)\n",
    "\n",
    "def getDataPoints(path):\n",
    "    \"\"\"Collects content of all .py files within the given directory.\"\"\"\n",
    "    dataPointsList = []\n",
    "    if not os.path.exists(path):\n",
    "        print(f\"Directory does not exist: {path}\")\n",
    "        return dataPointsList\n",
    "\n",
    "    for root, dirs, files in os.walk(path):\n",
    "        for dataPointName in files:\n",
    "            if dataPointName.endswith(\".py\"):  # Only consider Python files\n",
    "                file_path = os.path.join(root, dataPointName)\n",
    "                with open(file_path, encoding=\"utf-8\") as fileIn:\n",
    "                    dp = fileIn.read().strip()\n",
    "                    if dp:  # Ensure the document is not empty\n",
    "                        dataPointsList.append(dp)\n",
    "                    else:\n",
    "                        print(f\"Empty file: {file_path}\")\n",
    "    \n",
    "    if len(dataPointsList) == 0:\n",
    "        print(f\"No valid documents found in directory: {path}\")\n",
    "    \n",
    "    return dataPointsList\n",
    "\n",
    "def flastVectorization(dataPoints):\n",
    "    \"\"\"Vectorizes the data points using CountVectorizer.\"\"\"\n",
    "    countVec = CountVectorizer(stop_words=None)  # No stop word removal\n",
    "    Z = countVec.fit_transform(dataPoints)\n",
    "    return Z\n",
    "\n",
    "###############################################################################\n",
    "# SVM with GridSearchCV and Multiple Scoring Metrics\n",
    "\n",
    "def flastSVMWithGridSearchCV(outDir, flakyZip, nonFlakyZip, extractDir, n_splits):\n",
    "    v0 = time.perf_counter()\n",
    "\n",
    "    # Extract the zip files\n",
    "    flakyDir = os.path.join(extractDir, 'flaky')\n",
    "    nonFlakyDir = os.path.join(extractDir, 'nonFlaky')\n",
    "    os.makedirs(flakyDir, exist_ok=True)\n",
    "    os.makedirs(nonFlakyDir, exist_ok=True)\n",
    "    \n",
    "    extract_zip(flakyZip, flakyDir)\n",
    "    extract_zip(nonFlakyZip, nonFlakyDir)\n",
    "\n",
    "    dataPointsFlaky = getDataPoints(flakyDir)\n",
    "    dataPointsNonFlaky = getDataPoints(nonFlakyDir)\n",
    "    dataPoints = dataPointsFlaky + dataPointsNonFlaky\n",
    "\n",
    "    print(f\"Number of flaky documents: {len(dataPointsFlaky)}\")\n",
    "    print(f\"Number of non-flaky documents: {len(dataPointsNonFlaky)}\")\n",
    "    print(f\"Total number of documents: {len(dataPoints)}\")\n",
    "    \n",
    "    if len(dataPoints) == 0:\n",
    "        raise ValueError(\"No documents available for vectorization. Please check the input directories.\")\n",
    "\n",
    "    # Vectorization\n",
    "    Z = flastVectorization(dataPoints)\n",
    "    dataLabelsList = np.array([1]*len(dataPointsFlaky) + [0]*len(dataPointsNonFlaky))\n",
    "    vecTime = time.perf_counter() - v0\n",
    "\n",
    "    # Define the pipeline for SVM\n",
    "    pipeline = Pipeline([\n",
    "        ('svm', SVC())\n",
    "    ])\n",
    "\n",
    "    # Define parameter grid for hyperparameter tuning\n",
    "    param_grid = {\n",
    "        'svm__C': [0.1, 1.0, 10.0],  # Regularization parameter\n",
    "        'svm__kernel': ['linear', 'rbf', 'poly', 'sigmoid'],  # Kernel types\n",
    "    }\n",
    "\n",
    "    # Custom scoring functions for precision, recall, and accuracy\n",
    "    scoring = {\n",
    "        'precision': make_scorer(precision_score, zero_division=0),\n",
    "        'recall': make_scorer(recall_score, zero_division=0),\n",
    "        'accuracy': make_scorer(accuracy_score)\n",
    "    }\n",
    "\n",
    "    # Cross-validation\n",
    "    skf = StratifiedKFold(n_splits=n_splits, shuffle=True, random_state=42)\n",
    "\n",
    "    # Perform GridSearchCV with multiple scoring metrics\n",
    "    grid_search = GridSearchCV(pipeline, param_grid, cv=skf, scoring=scoring, refit='accuracy', verbose=1, return_train_score=True)\n",
    "\n",
    "    # Fit the GridSearchCV on training data\n",
    "    grid_search.fit(Z, dataLabelsList)\n",
    "\n",
    "    # Get the best parameters and the best score for accuracy\n",
    "    best_params = grid_search.best_params_\n",
    "    best_score = grid_search.best_score_\n",
    "\n",
    "    print(f\"Best Parameters: {best_params}\")\n",
    "    print(f\"Best Accuracy Score: {best_score}\")\n",
    "\n",
    "    # Save the results\n",
    "    outFile = f\"params-svm-{n_splits}-folds.csv\"\n",
    "    with open(os.path.join(outDir, outFile), \"w\") as fo:\n",
    "        fo.write(\"C,kernel,accuracy,precision,recall,preparationTime\\n\")\n",
    "        for idx, param in enumerate(grid_search.cv_results_['params']):\n",
    "            accuracy = grid_search.cv_results_['mean_test_accuracy'][idx]\n",
    "            precision = grid_search.cv_results_['mean_test_precision'][idx]\n",
    "            recall = grid_search.cv_results_['mean_test_recall'][idx]\n",
    "            preparationTime = vecTime / len(dataPoints)  # Estimating preparation time\n",
    "            fo.write(f\"{param['svm__C']},{param['svm__kernel']},{accuracy},{precision},{recall},{preparationTime}\\n\")\n",
    "\n",
    "    print(f\"SVM analysis completed for {n_splits}-folds. Results saved to: {outFile}\")\n",
    "    return best_params, best_score\n",
    "\n",
    "if __name__ == \"__main__\":\n",
    "    # Parameters setup\n",
    "    flakyZip = \"C:/Users/kdeep/Downloads/Flakiness ML/cleaned_flaky_files.zip\"\n",
    "    nonFlakyZip = \"C:/Users/kdeep/Downloads/Flakiness ML/reduced_nonflaky_files.zip\"\n",
    "    extractDir = \"extracted\"\n",
    "    outDir = \"results/\"\n",
    "    os.makedirs(outDir, exist_ok=True)\n",
    "    os.makedirs(extractDir, exist_ok=True)\n",
    "\n",
    "    # Perform SVM analysis for 5 folds and 3 folds\n",
    "    print(\"Starting 5-fold analysis...\")\n",
    "    best_params_5folds, best_score_5folds = flastSVMWithGridSearchCV(outDir, flakyZip, nonFlakyZip, extractDir, 5)\n",
    "\n",
    "    print(\"Starting 3-fold analysis...\")\n",
    "    best_params_3folds, best_score_3folds = flastSVMWithGridSearchCV(outDir, flakyZip, nonFlakyZip, extractDir, 3)\n",
    "\n",
    "    print(\"Best results for 5-fold:\")\n",
    "    print(f\"Best Parameters: {best_params_5folds}\")\n",
    "    print(f\"Best Accuracy Score: {best_score_5folds}\")\n",
    "\n",
    "    print(\"Best results for 3-fold:\")\n",
    "    print(f\"Best Parameters: {best_params_3folds}\")\n",
    "    print(f\"Best Accuracy Score: {best_score_3folds}\")\n"
   ]
  },
  {
   "cell_type": "markdown",
   "id": "0bb67b0a-56b4-4182-9c98-09be0f352ae0",
   "metadata": {},
   "source": [
    "NB"
   ]
  },
  {
   "cell_type": "code",
   "execution_count": 19,
   "id": "bbdaa8f8-efd5-407d-853a-ebdcbaba8e69",
   "metadata": {},
   "outputs": [
    {
     "name": "stdout",
     "output_type": "stream",
     "text": [
      "Starting 5-fold analysis...\n",
      "Number of flaky documents: 47\n",
      "Number of non-flaky documents: 47\n",
      "Total number of documents: 94\n",
      "Fitting 5 folds for each of 4 candidates, totalling 20 fits\n",
      "Best Parameters: {'nb__alpha': 0.01}\n",
      "Best Accuracy Score: 0.7555555555555555\n",
      "Naive Bayes analysis completed for 5-folds. Results saved to: params-nb-5-folds.csv\n",
      "Starting 3-fold analysis...\n",
      "Number of flaky documents: 47\n",
      "Number of non-flaky documents: 47\n",
      "Total number of documents: 94\n",
      "Fitting 3 folds for each of 4 candidates, totalling 12 fits\n",
      "Best Parameters: {'nb__alpha': 1.0}\n",
      "Best Accuracy Score: 0.7758736559139785\n",
      "Naive Bayes analysis completed for 3-folds. Results saved to: params-nb-3-folds.csv\n",
      "Best results for 5-fold:\n",
      "Best Parameters: {'nb__alpha': 0.01}\n",
      "Best Accuracy Score: 0.7555555555555555\n",
      "Best results for 3-fold:\n",
      "Best Parameters: {'nb__alpha': 1.0}\n",
      "Best Accuracy Score: 0.7758736559139785\n"
     ]
    }
   ],
   "source": [
    "import os\n",
    "import time\n",
    "import zipfile\n",
    "import pickle\n",
    "import numpy as np\n",
    "\n",
    "from sklearn.feature_extraction.text import CountVectorizer\n",
    "from sklearn.naive_bayes import MultinomialNB\n",
    "from sklearn.metrics import make_scorer, precision_score, recall_score, accuracy_score\n",
    "from sklearn.model_selection import StratifiedKFold, GridSearchCV\n",
    "from sklearn.pipeline import Pipeline\n",
    "\n",
    "###############################################################################\n",
    "# Utility functions\n",
    "\n",
    "def extract_zip(zip_file, extract_to):\n",
    "    \"\"\"Extracts a zip file to the specified directory.\"\"\"\n",
    "    with zipfile.ZipFile(zip_file, 'r') as zip_ref:\n",
    "        zip_ref.extractall(extract_to)\n",
    "\n",
    "def getDataPoints(path):\n",
    "    \"\"\"Collects content of all .py files within the given directory.\"\"\"\n",
    "    dataPointsList = []\n",
    "    if not os.path.exists(path):\n",
    "        print(f\"Directory does not exist: {path}\")\n",
    "        return dataPointsList\n",
    "\n",
    "    for root, dirs, files in os.walk(path):\n",
    "        for dataPointName in files:\n",
    "            if dataPointName.endswith(\".py\"):  # Only consider Python files\n",
    "                file_path = os.path.join(root, dataPointName)\n",
    "                with open(file_path, encoding=\"utf-8\") as fileIn:\n",
    "                    dp = fileIn.read().strip()\n",
    "                    if dp:  # Ensure the document is not empty\n",
    "                        dataPointsList.append(dp)\n",
    "                    else:\n",
    "                        print(f\"Empty file: {file_path}\")\n",
    "    \n",
    "    if len(dataPointsList) == 0:\n",
    "        print(f\"No valid documents found in directory: {path}\")\n",
    "    \n",
    "    return dataPointsList\n",
    "\n",
    "def flastVectorization(dataPoints):\n",
    "    \"\"\"Vectorizes the data points using CountVectorizer without dimensionality reduction.\"\"\"\n",
    "    countVec = CountVectorizer(stop_words=None)  # No stop word removal\n",
    "    Z = countVec.fit_transform(dataPoints)\n",
    "    return Z\n",
    "\n",
    "###############################################################################\n",
    "# Naive Bayes with GridSearchCV and Multiple Scoring Metrics\n",
    "\n",
    "def flastNBWithGridSearchCV(outDir, flakyZip, nonFlakyZip, extractDir, n_splits):\n",
    "    v0 = time.perf_counter()\n",
    "\n",
    "    # Extract the zip files\n",
    "    flakyDir = os.path.join(extractDir, 'flaky')\n",
    "    nonFlakyDir = os.path.join(extractDir, 'nonFlaky')\n",
    "    os.makedirs(flakyDir, exist_ok=True)\n",
    "    os.makedirs(nonFlakyDir, exist_ok=True)\n",
    "    \n",
    "    extract_zip(flakyZip, flakyDir)\n",
    "    extract_zip(nonFlakyZip, nonFlakyDir)\n",
    "\n",
    "    dataPointsFlaky = getDataPoints(flakyDir)\n",
    "    dataPointsNonFlaky = getDataPoints(nonFlakyDir)\n",
    "    dataPoints = dataPointsFlaky + dataPointsNonFlaky\n",
    "\n",
    "    print(f\"Number of flaky documents: {len(dataPointsFlaky)}\")\n",
    "    print(f\"Number of non-flaky documents: {len(dataPointsNonFlaky)}\")\n",
    "    print(f\"Total number of documents: {len(dataPoints)}\")\n",
    "    \n",
    "    if len(dataPoints) == 0:\n",
    "        raise ValueError(\"No documents available for vectorization. Please check the input directories.\")\n",
    "\n",
    "    # Vectorization without Random Projection\n",
    "    Z = flastVectorization(dataPoints)\n",
    "    dataLabelsList = np.array([1]*len(dataPointsFlaky) + [0]*len(dataPointsNonFlaky))\n",
    "    vecTime = time.perf_counter() - v0\n",
    "\n",
    "    # Define the pipeline for Naive Bayes\n",
    "    pipeline = Pipeline([\n",
    "        ('nb', MultinomialNB())\n",
    "    ])\n",
    "\n",
    "    # Define parameter grid for hyperparameter tuning\n",
    "    param_grid = {\n",
    "        'nb__alpha': [0.01, 0.1, 1.0, 10.0],  # Laplace smoothing parameter\n",
    "    }\n",
    "\n",
    "    # Custom scoring functions for precision, recall, and accuracy\n",
    "    scoring = {\n",
    "        'precision': make_scorer(precision_score),\n",
    "        'recall': make_scorer(recall_score),\n",
    "        'accuracy': make_scorer(accuracy_score)\n",
    "    }\n",
    "\n",
    "    # Cross-validation\n",
    "    skf = StratifiedKFold(n_splits=n_splits, shuffle=True, random_state=42)\n",
    "\n",
    "    # Perform GridSearchCV with multiple scoring metrics\n",
    "    grid_search = GridSearchCV(pipeline, param_grid, cv=skf, scoring=scoring, refit='accuracy', verbose=1, return_train_score=True)\n",
    "\n",
    "    # Fit the GridSearchCV on training data\n",
    "    grid_search.fit(Z, dataLabelsList)\n",
    "\n",
    "    # Get the best parameters and the best score for accuracy\n",
    "    best_params = grid_search.best_params_\n",
    "    best_score = grid_search.best_score_\n",
    "\n",
    "    print(f\"Best Parameters: {best_params}\")\n",
    "    print(f\"Best Accuracy Score: {best_score}\")\n",
    "\n",
    "    # Save the results\n",
    "    outFile = f\"params-nb-{n_splits}-folds.csv\"\n",
    "    with open(os.path.join(outDir, outFile), \"w\") as fo:\n",
    "        fo.write(\"alpha,accuracy,precision,recall,preparationTime\\n\")\n",
    "        for idx, param in enumerate(grid_search.cv_results_['params']):\n",
    "            accuracy = grid_search.cv_results_['mean_test_accuracy'][idx]\n",
    "            precision = grid_search.cv_results_['mean_test_precision'][idx]\n",
    "            recall = grid_search.cv_results_['mean_test_recall'][idx]\n",
    "            preparationTime = vecTime / len(dataPoints)  # Estimating preparation time\n",
    "            fo.write(f\"{param['nb__alpha']},{accuracy},{precision},{recall},{preparationTime}\\n\")\n",
    "\n",
    "    print(f\"Naive Bayes analysis completed for {n_splits}-folds. Results saved to: {outFile}\")\n",
    "    return best_params, best_score\n",
    "\n",
    "if __name__ == \"__main__\":\n",
    "    # Parameters setup\n",
    "    flakyZip = \"C:/Users/kdeep/Downloads/Flakiness ML/cleaned_flaky_files.zip\"\n",
    "    nonFlakyZip = \"C:/Users/kdeep/Downloads/Flakiness ML/reduced_nonflaky_files.zip\"\n",
    "    extractDir = \"extracted\"\n",
    "    outDir = \"results/\"\n",
    "    os.makedirs(outDir, exist_ok=True)\n",
    "    os.makedirs(extractDir, exist_ok=True)\n",
    "\n",
    "    # Perform Naive Bayes analysis for 5 folds and 3 folds\n",
    "    print(\"Starting 5-fold analysis...\")\n",
    "    best_params_5folds, best_score_5folds = flastNBWithGridSearchCV(outDir, flakyZip, nonFlakyZip, extractDir, 5)\n",
    "\n",
    "    print(\"Starting 3-fold analysis...\")\n",
    "    best_params_3folds, best_score_3folds = flastNBWithGridSearchCV(outDir, flakyZip, nonFlakyZip, extractDir, 3)\n",
    "\n",
    "    print(\"Best results for 5-fold:\")\n",
    "    print(f\"Best Parameters: {best_params_5folds}\")\n",
    "    print(f\"Best Accuracy Score: {best_score_5folds}\")\n",
    "\n",
    "    print(\"Best results for 3-fold:\")\n",
    "    print(f\"Best Parameters: {best_params_3folds}\")\n",
    "    print(f\"Best Accuracy Score: {best_score_3folds}\")\n"
   ]
  },
  {
   "cell_type": "markdown",
   "id": "51b751a1-1c35-4150-97cc-7b00124c835e",
   "metadata": {},
   "source": [
    "XG Boost"
   ]
  },
  {
   "cell_type": "code",
   "execution_count": 20,
   "id": "568fb140-510b-40d7-9308-d5d36a53ff3b",
   "metadata": {},
   "outputs": [
    {
     "name": "stdout",
     "output_type": "stream",
     "text": [
      "eta=0.1, depth=3, dim=0, eps=0.1\n",
      "Number of flaky documents: 47\n",
      "Number of non-flaky documents: 47\n",
      "Total number of documents: 94\n",
      "Sample document: # Copyright 2021 The NetKet Authors - All rights reserved.\n",
      "#\n",
      "# Licensed under the Apache License, Version 2.0 (the \"License\");\n",
      "# you may not use this file except in compliance with the License.\n",
      "# You may obtain a copy of the License at\n",
      "#\n",
      "#    http://www.apache.org/licenses/LICENSE-2.0\n",
      "#\n",
      "# Unless required by applicable law or agreed to in writing, software\n",
      "# distributed under the License is distributed on an \"AS IS\" BASIS,\n",
      "# WITHOUT WARRANTIES OR CONDITIONS OF ANY KIND, either express or implied.\n",
      "# See the License for the specific language governing permissions and\n",
      "# limitations under the License.\n",
      "\n",
      "import dataclasses\n",
      "import abc\n",
      "\n",
      "from flax.core import freeze\n",
      "\n",
      "\n",
      "@dataclasses.dataclass(frozen=True)\n",
      "class ModuleFramework(abc.ABC):\n",
      "    @staticmethod\n",
      "    @abc.abstractmethod\n",
      "    def is_loaded() -> bool:\n",
      "        pass\n",
      "\n",
      "    @staticmethod\n",
      "    @abc.abstractmethod\n",
      "    def is_my_module(module):\n",
      "        pass\n",
      "\n",
      "    @staticmethod\n",
      "    @abc.abstractmethod\n",
      "    def wrap(module):\n",
      "        return module\n",
      "\n",
      "    @staticmethod\n",
      "    def wrap_params(variables):\n",
      "        return freeze({\"params\": variables})\n",
      "\n",
      "    @staticmethod\n",
      "    @abc.abstractmethod\n",
      "    def unwrap_params(wrapped_variables):\n",
      "        return wrapped_variables\n",
      "\n",
      "\n",
      "registered_frameworks = []\n",
      "\n",
      "\n",
      "def framework(clz):\n",
      "    \"\"\"\n",
      "    Registers a framework and it's wrapper methods to make it\n",
      "    behave like a flax framework.\n",
      "    \"\"\"\n",
      "    clz = dataclasses.dataclass(frozen=True)(clz)\n",
      "    registered_frameworks.append(clz)\n",
      "    return clz\n",
      "\n",
      "\n",
      "@dataclasses.dataclass(frozen=True)\n",
      "class UnknownFramework(ModuleFramework):\n",
      "    name: str = \"Unknown\"\n",
      "\n",
      "    @staticmethod\n",
      "    def is_loaded() -> bool:\n",
      "        return True\n",
      "\n",
      "    @staticmethod\n",
      "    def is_my_module(module):\n",
      "        return False\n",
      "\n",
      "    @staticmethod\n",
      "    def wrap(module):\n",
      "        return module\n",
      "\n",
      "    @staticmethod\n",
      "    def unwrap_params(wrapped_variables):\n",
      "        return wrapped_variables\n",
      "\n",
      "\n",
      "def identify_framework(module):\n",
      "    for _framework in registered_frameworks:\n",
      "        if _framework.is_my_module(module):\n",
      "            return _framework\n",
      "\n",
      "    return UnknownFramework\n",
      "\n",
      "\n",
      "def maybe_wrap_module(module):\n",
      "    \"\"\"\n",
      "    Passing a module from an unknown framework (might be user defined module, a jax\n",
      "    module, flax or haiku or anything else really), attempt to identify what is the\n",
      "    package/framework it comes from, and if so it correctly wraps it in order to\n",
      "    make it behave like a flax module (our default).\n",
      "\n",
      "    Also returns a function used to unpack the parameters once we are done.\n",
      "    \"\"\"\n",
      "    framewrk = identify_framework(module)\n",
      "\n",
      "    return framewrk, framewrk.wrap(module)\n"
     ]
    },
    {
     "name": "stderr",
     "output_type": "stream",
     "text": [
      "C:\\Users\\kdeep\\anaconda3\\Lib\\site-packages\\xgboost\\core.py:158: UserWarning: [09:32:32] WARNING: C:\\buildkite-agent\\builds\\buildkite-windows-cpu-autoscaling-group-i-0015a694724fa8361-1\\xgboost\\xgboost-ci-windows\\src\\learner.cc:740: \n",
      "Parameters: { \"use_label_encoder\" } are not used.\n",
      "\n",
      "  warnings.warn(smsg, UserWarning)\n"
     ]
    },
    {
     "name": "stdout",
     "output_type": "stream",
     "text": [
      "Precision: 1.0, Recall: 0.4, Accuracy: 0.7\n"
     ]
    },
    {
     "name": "stderr",
     "output_type": "stream",
     "text": [
      "C:\\Users\\kdeep\\anaconda3\\Lib\\site-packages\\xgboost\\core.py:158: UserWarning: [09:32:34] WARNING: C:\\buildkite-agent\\builds\\buildkite-windows-cpu-autoscaling-group-i-0015a694724fa8361-1\\xgboost\\xgboost-ci-windows\\src\\learner.cc:740: \n",
      "Parameters: { \"use_label_encoder\" } are not used.\n",
      "\n",
      "  warnings.warn(smsg, UserWarning)\n"
     ]
    },
    {
     "name": "stdout",
     "output_type": "stream",
     "text": [
      "Precision: 1.0, Recall: 0.8, Accuracy: 0.9\n"
     ]
    },
    {
     "name": "stderr",
     "output_type": "stream",
     "text": [
      "C:\\Users\\kdeep\\anaconda3\\Lib\\site-packages\\xgboost\\core.py:158: UserWarning: [09:32:36] WARNING: C:\\buildkite-agent\\builds\\buildkite-windows-cpu-autoscaling-group-i-0015a694724fa8361-1\\xgboost\\xgboost-ci-windows\\src\\learner.cc:740: \n",
      "Parameters: { \"use_label_encoder\" } are not used.\n",
      "\n",
      "  warnings.warn(smsg, UserWarning)\n"
     ]
    },
    {
     "name": "stdout",
     "output_type": "stream",
     "text": [
      "Precision: 1.0, Recall: 0.8, Accuracy: 0.9\n"
     ]
    },
    {
     "name": "stderr",
     "output_type": "stream",
     "text": [
      "C:\\Users\\kdeep\\anaconda3\\Lib\\site-packages\\xgboost\\core.py:158: UserWarning: [09:32:38] WARNING: C:\\buildkite-agent\\builds\\buildkite-windows-cpu-autoscaling-group-i-0015a694724fa8361-1\\xgboost\\xgboost-ci-windows\\src\\learner.cc:740: \n",
      "Parameters: { \"use_label_encoder\" } are not used.\n",
      "\n",
      "  warnings.warn(smsg, UserWarning)\n"
     ]
    },
    {
     "name": "stdout",
     "output_type": "stream",
     "text": [
      "Precision: 1.0, Recall: 0.8, Accuracy: 0.9\n"
     ]
    },
    {
     "name": "stderr",
     "output_type": "stream",
     "text": [
      "C:\\Users\\kdeep\\anaconda3\\Lib\\site-packages\\xgboost\\core.py:158: UserWarning: [09:32:39] WARNING: C:\\buildkite-agent\\builds\\buildkite-windows-cpu-autoscaling-group-i-0015a694724fa8361-1\\xgboost\\xgboost-ci-windows\\src\\learner.cc:740: \n",
      "Parameters: { \"use_label_encoder\" } are not used.\n",
      "\n",
      "  warnings.warn(smsg, UserWarning)\n"
     ]
    },
    {
     "name": "stdout",
     "output_type": "stream",
     "text": [
      "Precision: 1.0, Recall: 0.4, Accuracy: 0.6666666666666666\n"
     ]
    },
    {
     "name": "stderr",
     "output_type": "stream",
     "text": [
      "C:\\Users\\kdeep\\anaconda3\\Lib\\site-packages\\xgboost\\core.py:158: UserWarning: [09:32:41] WARNING: C:\\buildkite-agent\\builds\\buildkite-windows-cpu-autoscaling-group-i-0015a694724fa8361-1\\xgboost\\xgboost-ci-windows\\src\\learner.cc:740: \n",
      "Parameters: { \"use_label_encoder\" } are not used.\n",
      "\n",
      "  warnings.warn(smsg, UserWarning)\n"
     ]
    },
    {
     "name": "stdout",
     "output_type": "stream",
     "text": [
      "Precision: 0.7142857142857143, Recall: 1.0, Accuracy: 0.7777777777777778\n"
     ]
    },
    {
     "name": "stderr",
     "output_type": "stream",
     "text": [
      "C:\\Users\\kdeep\\anaconda3\\Lib\\site-packages\\xgboost\\core.py:158: UserWarning: [09:32:43] WARNING: C:\\buildkite-agent\\builds\\buildkite-windows-cpu-autoscaling-group-i-0015a694724fa8361-1\\xgboost\\xgboost-ci-windows\\src\\learner.cc:740: \n",
      "Parameters: { \"use_label_encoder\" } are not used.\n",
      "\n",
      "  warnings.warn(smsg, UserWarning)\n"
     ]
    },
    {
     "name": "stdout",
     "output_type": "stream",
     "text": [
      "Precision: 0.6666666666666666, Recall: 0.8, Accuracy: 0.6666666666666666\n"
     ]
    },
    {
     "name": "stderr",
     "output_type": "stream",
     "text": [
      "C:\\Users\\kdeep\\anaconda3\\Lib\\site-packages\\xgboost\\core.py:158: UserWarning: [09:32:45] WARNING: C:\\buildkite-agent\\builds\\buildkite-windows-cpu-autoscaling-group-i-0015a694724fa8361-1\\xgboost\\xgboost-ci-windows\\src\\learner.cc:740: \n",
      "Parameters: { \"use_label_encoder\" } are not used.\n",
      "\n",
      "  warnings.warn(smsg, UserWarning)\n"
     ]
    },
    {
     "name": "stdout",
     "output_type": "stream",
     "text": [
      "Precision: 1.0, Recall: 0.75, Accuracy: 0.8888888888888888\n"
     ]
    },
    {
     "name": "stderr",
     "output_type": "stream",
     "text": [
      "C:\\Users\\kdeep\\anaconda3\\Lib\\site-packages\\xgboost\\core.py:158: UserWarning: [09:32:47] WARNING: C:\\buildkite-agent\\builds\\buildkite-windows-cpu-autoscaling-group-i-0015a694724fa8361-1\\xgboost\\xgboost-ci-windows\\src\\learner.cc:740: \n",
      "Parameters: { \"use_label_encoder\" } are not used.\n",
      "\n",
      "  warnings.warn(smsg, UserWarning)\n"
     ]
    },
    {
     "name": "stdout",
     "output_type": "stream",
     "text": [
      "Precision: 1.0, Recall: 1.0, Accuracy: 1.0\n"
     ]
    },
    {
     "name": "stderr",
     "output_type": "stream",
     "text": [
      "C:\\Users\\kdeep\\anaconda3\\Lib\\site-packages\\xgboost\\core.py:158: UserWarning: [09:32:49] WARNING: C:\\buildkite-agent\\builds\\buildkite-windows-cpu-autoscaling-group-i-0015a694724fa8361-1\\xgboost\\xgboost-ci-windows\\src\\learner.cc:740: \n",
      "Parameters: { \"use_label_encoder\" } are not used.\n",
      "\n",
      "  warnings.warn(smsg, UserWarning)\n"
     ]
    },
    {
     "name": "stdout",
     "output_type": "stream",
     "text": [
      "Precision: 0.6, Recall: 0.75, Accuracy: 0.6666666666666666\n",
      "Results to be written: eta=0.1, depth=3, dim=0, eps=0.1, (42.3, 42.3, 4.7, 4.7, 0.8980952380952381, 0.7499999999999999, 0.8066666666666666, 2928897, 4.765776090149303, 0.03564867374976276)\n",
      "eta=0.1, depth=3, dim=0, eps=0.3\n",
      "Number of flaky documents: 47\n",
      "Number of non-flaky documents: 47\n",
      "Total number of documents: 94\n",
      "Sample document: # Copyright 2021 The NetKet Authors - All rights reserved.\n",
      "#\n",
      "# Licensed under the Apache License, Version 2.0 (the \"License\");\n",
      "# you may not use this file except in compliance with the License.\n",
      "# You may obtain a copy of the License at\n",
      "#\n",
      "#    http://www.apache.org/licenses/LICENSE-2.0\n",
      "#\n",
      "# Unless required by applicable law or agreed to in writing, software\n",
      "# distributed under the License is distributed on an \"AS IS\" BASIS,\n",
      "# WITHOUT WARRANTIES OR CONDITIONS OF ANY KIND, either express or implied.\n",
      "# See the License for the specific language governing permissions and\n",
      "# limitations under the License.\n",
      "\n",
      "import dataclasses\n",
      "import abc\n",
      "\n",
      "from flax.core import freeze\n",
      "\n",
      "\n",
      "@dataclasses.dataclass(frozen=True)\n",
      "class ModuleFramework(abc.ABC):\n",
      "    @staticmethod\n",
      "    @abc.abstractmethod\n",
      "    def is_loaded() -> bool:\n",
      "        pass\n",
      "\n",
      "    @staticmethod\n",
      "    @abc.abstractmethod\n",
      "    def is_my_module(module):\n",
      "        pass\n",
      "\n",
      "    @staticmethod\n",
      "    @abc.abstractmethod\n",
      "    def wrap(module):\n",
      "        return module\n",
      "\n",
      "    @staticmethod\n",
      "    def wrap_params(variables):\n",
      "        return freeze({\"params\": variables})\n",
      "\n",
      "    @staticmethod\n",
      "    @abc.abstractmethod\n",
      "    def unwrap_params(wrapped_variables):\n",
      "        return wrapped_variables\n",
      "\n",
      "\n",
      "registered_frameworks = []\n",
      "\n",
      "\n",
      "def framework(clz):\n",
      "    \"\"\"\n",
      "    Registers a framework and it's wrapper methods to make it\n",
      "    behave like a flax framework.\n",
      "    \"\"\"\n",
      "    clz = dataclasses.dataclass(frozen=True)(clz)\n",
      "    registered_frameworks.append(clz)\n",
      "    return clz\n",
      "\n",
      "\n",
      "@dataclasses.dataclass(frozen=True)\n",
      "class UnknownFramework(ModuleFramework):\n",
      "    name: str = \"Unknown\"\n",
      "\n",
      "    @staticmethod\n",
      "    def is_loaded() -> bool:\n",
      "        return True\n",
      "\n",
      "    @staticmethod\n",
      "    def is_my_module(module):\n",
      "        return False\n",
      "\n",
      "    @staticmethod\n",
      "    def wrap(module):\n",
      "        return module\n",
      "\n",
      "    @staticmethod\n",
      "    def unwrap_params(wrapped_variables):\n",
      "        return wrapped_variables\n",
      "\n",
      "\n",
      "def identify_framework(module):\n",
      "    for _framework in registered_frameworks:\n",
      "        if _framework.is_my_module(module):\n",
      "            return _framework\n",
      "\n",
      "    return UnknownFramework\n",
      "\n",
      "\n",
      "def maybe_wrap_module(module):\n",
      "    \"\"\"\n",
      "    Passing a module from an unknown framework (might be user defined module, a jax\n",
      "    module, flax or haiku or anything else really), attempt to identify what is the\n",
      "    package/framework it comes from, and if so it correctly wraps it in order to\n",
      "    make it behave like a flax module (our default).\n",
      "\n",
      "    Also returns a function used to unpack the parameters once we are done.\n",
      "    \"\"\"\n",
      "    framewrk = identify_framework(module)\n",
      "\n",
      "    return framewrk, framewrk.wrap(module)\n"
     ]
    },
    {
     "name": "stderr",
     "output_type": "stream",
     "text": [
      "C:\\Users\\kdeep\\anaconda3\\Lib\\site-packages\\xgboost\\core.py:158: UserWarning: [09:32:51] WARNING: C:\\buildkite-agent\\builds\\buildkite-windows-cpu-autoscaling-group-i-0015a694724fa8361-1\\xgboost\\xgboost-ci-windows\\src\\learner.cc:740: \n",
      "Parameters: { \"use_label_encoder\" } are not used.\n",
      "\n",
      "  warnings.warn(smsg, UserWarning)\n"
     ]
    },
    {
     "name": "stdout",
     "output_type": "stream",
     "text": [
      "Precision: 0.5, Recall: 0.2, Accuracy: 0.5\n"
     ]
    },
    {
     "name": "stderr",
     "output_type": "stream",
     "text": [
      "C:\\Users\\kdeep\\anaconda3\\Lib\\site-packages\\xgboost\\core.py:158: UserWarning: [09:32:52] WARNING: C:\\buildkite-agent\\builds\\buildkite-windows-cpu-autoscaling-group-i-0015a694724fa8361-1\\xgboost\\xgboost-ci-windows\\src\\learner.cc:740: \n",
      "Parameters: { \"use_label_encoder\" } are not used.\n",
      "\n",
      "  warnings.warn(smsg, UserWarning)\n"
     ]
    },
    {
     "name": "stdout",
     "output_type": "stream",
     "text": [
      "Precision: 0.6666666666666666, Recall: 0.8, Accuracy: 0.7\n"
     ]
    },
    {
     "name": "stderr",
     "output_type": "stream",
     "text": [
      "C:\\Users\\kdeep\\anaconda3\\Lib\\site-packages\\xgboost\\core.py:158: UserWarning: [09:32:52] WARNING: C:\\buildkite-agent\\builds\\buildkite-windows-cpu-autoscaling-group-i-0015a694724fa8361-1\\xgboost\\xgboost-ci-windows\\src\\learner.cc:740: \n",
      "Parameters: { \"use_label_encoder\" } are not used.\n",
      "\n",
      "  warnings.warn(smsg, UserWarning)\n"
     ]
    },
    {
     "name": "stdout",
     "output_type": "stream",
     "text": [
      "Precision: 1.0, Recall: 1.0, Accuracy: 1.0\n"
     ]
    },
    {
     "name": "stderr",
     "output_type": "stream",
     "text": [
      "C:\\Users\\kdeep\\anaconda3\\Lib\\site-packages\\xgboost\\core.py:158: UserWarning: [09:32:52] WARNING: C:\\buildkite-agent\\builds\\buildkite-windows-cpu-autoscaling-group-i-0015a694724fa8361-1\\xgboost\\xgboost-ci-windows\\src\\learner.cc:740: \n",
      "Parameters: { \"use_label_encoder\" } are not used.\n",
      "\n",
      "  warnings.warn(smsg, UserWarning)\n"
     ]
    },
    {
     "name": "stdout",
     "output_type": "stream",
     "text": [
      "Precision: 1.0, Recall: 0.8, Accuracy: 0.9\n"
     ]
    },
    {
     "name": "stderr",
     "output_type": "stream",
     "text": [
      "C:\\Users\\kdeep\\anaconda3\\Lib\\site-packages\\xgboost\\core.py:158: UserWarning: [09:32:52] WARNING: C:\\buildkite-agent\\builds\\buildkite-windows-cpu-autoscaling-group-i-0015a694724fa8361-1\\xgboost\\xgboost-ci-windows\\src\\learner.cc:740: \n",
      "Parameters: { \"use_label_encoder\" } are not used.\n",
      "\n",
      "  warnings.warn(smsg, UserWarning)\n"
     ]
    },
    {
     "name": "stdout",
     "output_type": "stream",
     "text": [
      "Precision: 1.0, Recall: 0.6, Accuracy: 0.7777777777777778\n"
     ]
    },
    {
     "name": "stderr",
     "output_type": "stream",
     "text": [
      "C:\\Users\\kdeep\\anaconda3\\Lib\\site-packages\\xgboost\\core.py:158: UserWarning: [09:32:53] WARNING: C:\\buildkite-agent\\builds\\buildkite-windows-cpu-autoscaling-group-i-0015a694724fa8361-1\\xgboost\\xgboost-ci-windows\\src\\learner.cc:740: \n",
      "Parameters: { \"use_label_encoder\" } are not used.\n",
      "\n",
      "  warnings.warn(smsg, UserWarning)\n"
     ]
    },
    {
     "name": "stdout",
     "output_type": "stream",
     "text": [
      "Precision: 0.625, Recall: 1.0, Accuracy: 0.6666666666666666\n"
     ]
    },
    {
     "name": "stderr",
     "output_type": "stream",
     "text": [
      "C:\\Users\\kdeep\\anaconda3\\Lib\\site-packages\\xgboost\\core.py:158: UserWarning: [09:32:53] WARNING: C:\\buildkite-agent\\builds\\buildkite-windows-cpu-autoscaling-group-i-0015a694724fa8361-1\\xgboost\\xgboost-ci-windows\\src\\learner.cc:740: \n",
      "Parameters: { \"use_label_encoder\" } are not used.\n",
      "\n",
      "  warnings.warn(smsg, UserWarning)\n"
     ]
    },
    {
     "name": "stdout",
     "output_type": "stream",
     "text": [
      "Precision: 0.4, Recall: 0.4, Accuracy: 0.3333333333333333\n"
     ]
    },
    {
     "name": "stderr",
     "output_type": "stream",
     "text": [
      "C:\\Users\\kdeep\\anaconda3\\Lib\\site-packages\\xgboost\\core.py:158: UserWarning: [09:32:53] WARNING: C:\\buildkite-agent\\builds\\buildkite-windows-cpu-autoscaling-group-i-0015a694724fa8361-1\\xgboost\\xgboost-ci-windows\\src\\learner.cc:740: \n",
      "Parameters: { \"use_label_encoder\" } are not used.\n",
      "\n",
      "  warnings.warn(smsg, UserWarning)\n"
     ]
    },
    {
     "name": "stdout",
     "output_type": "stream",
     "text": [
      "Precision: 0.8, Recall: 1.0, Accuracy: 0.8888888888888888\n"
     ]
    },
    {
     "name": "stderr",
     "output_type": "stream",
     "text": [
      "C:\\Users\\kdeep\\anaconda3\\Lib\\site-packages\\xgboost\\core.py:158: UserWarning: [09:32:54] WARNING: C:\\buildkite-agent\\builds\\buildkite-windows-cpu-autoscaling-group-i-0015a694724fa8361-1\\xgboost\\xgboost-ci-windows\\src\\learner.cc:740: \n",
      "Parameters: { \"use_label_encoder\" } are not used.\n",
      "\n",
      "  warnings.warn(smsg, UserWarning)\n"
     ]
    },
    {
     "name": "stdout",
     "output_type": "stream",
     "text": [
      "Precision: 1.0, Recall: 0.5, Accuracy: 0.7777777777777778\n"
     ]
    },
    {
     "name": "stderr",
     "output_type": "stream",
     "text": [
      "C:\\Users\\kdeep\\anaconda3\\Lib\\site-packages\\xgboost\\core.py:158: UserWarning: [09:32:54] WARNING: C:\\buildkite-agent\\builds\\buildkite-windows-cpu-autoscaling-group-i-0015a694724fa8361-1\\xgboost\\xgboost-ci-windows\\src\\learner.cc:740: \n",
      "Parameters: { \"use_label_encoder\" } are not used.\n",
      "\n",
      "  warnings.warn(smsg, UserWarning)\n"
     ]
    },
    {
     "name": "stdout",
     "output_type": "stream",
     "text": [
      "Precision: 0.6666666666666666, Recall: 0.5, Accuracy: 0.6666666666666666\n",
      "Results to be written: eta=0.1, depth=3, dim=0, eps=0.3, (42.3, 42.3, 4.7, 4.7, 0.7658333333333334, 0.68, 0.721111111111111, 379617, 1.1938426799024453, 0.010461044000086305)\n",
      "eta=0.1, depth=3, dim=0, eps=0.5\n",
      "Number of flaky documents: 47\n",
      "Number of non-flaky documents: 47\n",
      "Total number of documents: 94\n",
      "Sample document: # Copyright 2021 The NetKet Authors - All rights reserved.\n",
      "#\n",
      "# Licensed under the Apache License, Version 2.0 (the \"License\");\n",
      "# you may not use this file except in compliance with the License.\n",
      "# You may obtain a copy of the License at\n",
      "#\n",
      "#    http://www.apache.org/licenses/LICENSE-2.0\n",
      "#\n",
      "# Unless required by applicable law or agreed to in writing, software\n",
      "# distributed under the License is distributed on an \"AS IS\" BASIS,\n",
      "# WITHOUT WARRANTIES OR CONDITIONS OF ANY KIND, either express or implied.\n",
      "# See the License for the specific language governing permissions and\n",
      "# limitations under the License.\n",
      "\n",
      "import dataclasses\n",
      "import abc\n",
      "\n",
      "from flax.core import freeze\n",
      "\n",
      "\n",
      "@dataclasses.dataclass(frozen=True)\n",
      "class ModuleFramework(abc.ABC):\n",
      "    @staticmethod\n",
      "    @abc.abstractmethod\n",
      "    def is_loaded() -> bool:\n",
      "        pass\n",
      "\n",
      "    @staticmethod\n",
      "    @abc.abstractmethod\n",
      "    def is_my_module(module):\n",
      "        pass\n",
      "\n",
      "    @staticmethod\n",
      "    @abc.abstractmethod\n",
      "    def wrap(module):\n",
      "        return module\n",
      "\n",
      "    @staticmethod\n",
      "    def wrap_params(variables):\n",
      "        return freeze({\"params\": variables})\n",
      "\n",
      "    @staticmethod\n",
      "    @abc.abstractmethod\n",
      "    def unwrap_params(wrapped_variables):\n",
      "        return wrapped_variables\n",
      "\n",
      "\n",
      "registered_frameworks = []\n",
      "\n",
      "\n",
      "def framework(clz):\n",
      "    \"\"\"\n",
      "    Registers a framework and it's wrapper methods to make it\n",
      "    behave like a flax framework.\n",
      "    \"\"\"\n",
      "    clz = dataclasses.dataclass(frozen=True)(clz)\n",
      "    registered_frameworks.append(clz)\n",
      "    return clz\n",
      "\n",
      "\n",
      "@dataclasses.dataclass(frozen=True)\n",
      "class UnknownFramework(ModuleFramework):\n",
      "    name: str = \"Unknown\"\n",
      "\n",
      "    @staticmethod\n",
      "    def is_loaded() -> bool:\n",
      "        return True\n",
      "\n",
      "    @staticmethod\n",
      "    def is_my_module(module):\n",
      "        return False\n",
      "\n",
      "    @staticmethod\n",
      "    def wrap(module):\n",
      "        return module\n",
      "\n",
      "    @staticmethod\n",
      "    def unwrap_params(wrapped_variables):\n",
      "        return wrapped_variables\n",
      "\n",
      "\n",
      "def identify_framework(module):\n",
      "    for _framework in registered_frameworks:\n",
      "        if _framework.is_my_module(module):\n",
      "            return _framework\n",
      "\n",
      "    return UnknownFramework\n",
      "\n",
      "\n",
      "def maybe_wrap_module(module):\n",
      "    \"\"\"\n",
      "    Passing a module from an unknown framework (might be user defined module, a jax\n",
      "    module, flax or haiku or anything else really), attempt to identify what is the\n",
      "    package/framework it comes from, and if so it correctly wraps it in order to\n",
      "    make it behave like a flax module (our default).\n",
      "\n",
      "    Also returns a function used to unpack the parameters once we are done.\n",
      "    \"\"\"\n",
      "    framewrk = identify_framework(module)\n",
      "\n",
      "    return framewrk, framewrk.wrap(module)\n"
     ]
    },
    {
     "name": "stderr",
     "output_type": "stream",
     "text": [
      "C:\\Users\\kdeep\\anaconda3\\Lib\\site-packages\\xgboost\\core.py:158: UserWarning: [09:32:55] WARNING: C:\\buildkite-agent\\builds\\buildkite-windows-cpu-autoscaling-group-i-0015a694724fa8361-1\\xgboost\\xgboost-ci-windows\\src\\learner.cc:740: \n",
      "Parameters: { \"use_label_encoder\" } are not used.\n",
      "\n",
      "  warnings.warn(smsg, UserWarning)\n"
     ]
    },
    {
     "name": "stdout",
     "output_type": "stream",
     "text": [
      "Precision: 1.0, Recall: 0.2, Accuracy: 0.6\n"
     ]
    },
    {
     "name": "stderr",
     "output_type": "stream",
     "text": [
      "C:\\Users\\kdeep\\anaconda3\\Lib\\site-packages\\xgboost\\core.py:158: UserWarning: [09:32:56] WARNING: C:\\buildkite-agent\\builds\\buildkite-windows-cpu-autoscaling-group-i-0015a694724fa8361-1\\xgboost\\xgboost-ci-windows\\src\\learner.cc:740: \n",
      "Parameters: { \"use_label_encoder\" } are not used.\n",
      "\n",
      "  warnings.warn(smsg, UserWarning)\n"
     ]
    },
    {
     "name": "stdout",
     "output_type": "stream",
     "text": [
      "Precision: 0.8, Recall: 0.8, Accuracy: 0.8\n"
     ]
    },
    {
     "name": "stderr",
     "output_type": "stream",
     "text": [
      "C:\\Users\\kdeep\\anaconda3\\Lib\\site-packages\\xgboost\\core.py:158: UserWarning: [09:32:56] WARNING: C:\\buildkite-agent\\builds\\buildkite-windows-cpu-autoscaling-group-i-0015a694724fa8361-1\\xgboost\\xgboost-ci-windows\\src\\learner.cc:740: \n",
      "Parameters: { \"use_label_encoder\" } are not used.\n",
      "\n",
      "  warnings.warn(smsg, UserWarning)\n"
     ]
    },
    {
     "name": "stdout",
     "output_type": "stream",
     "text": [
      "Precision: 0.8333333333333334, Recall: 1.0, Accuracy: 0.9\n"
     ]
    },
    {
     "name": "stderr",
     "output_type": "stream",
     "text": [
      "C:\\Users\\kdeep\\anaconda3\\Lib\\site-packages\\xgboost\\core.py:158: UserWarning: [09:32:56] WARNING: C:\\buildkite-agent\\builds\\buildkite-windows-cpu-autoscaling-group-i-0015a694724fa8361-1\\xgboost\\xgboost-ci-windows\\src\\learner.cc:740: \n",
      "Parameters: { \"use_label_encoder\" } are not used.\n",
      "\n",
      "  warnings.warn(smsg, UserWarning)\n"
     ]
    },
    {
     "name": "stdout",
     "output_type": "stream",
     "text": [
      "Precision: 1.0, Recall: 0.6, Accuracy: 0.8\n"
     ]
    },
    {
     "name": "stderr",
     "output_type": "stream",
     "text": [
      "C:\\Users\\kdeep\\anaconda3\\Lib\\site-packages\\xgboost\\core.py:158: UserWarning: [09:32:56] WARNING: C:\\buildkite-agent\\builds\\buildkite-windows-cpu-autoscaling-group-i-0015a694724fa8361-1\\xgboost\\xgboost-ci-windows\\src\\learner.cc:740: \n",
      "Parameters: { \"use_label_encoder\" } are not used.\n",
      "\n",
      "  warnings.warn(smsg, UserWarning)\n"
     ]
    },
    {
     "name": "stdout",
     "output_type": "stream",
     "text": [
      "Precision: 1.0, Recall: 0.6, Accuracy: 0.7777777777777778\n"
     ]
    },
    {
     "name": "stderr",
     "output_type": "stream",
     "text": [
      "C:\\Users\\kdeep\\anaconda3\\Lib\\site-packages\\xgboost\\core.py:158: UserWarning: [09:32:57] WARNING: C:\\buildkite-agent\\builds\\buildkite-windows-cpu-autoscaling-group-i-0015a694724fa8361-1\\xgboost\\xgboost-ci-windows\\src\\learner.cc:740: \n",
      "Parameters: { \"use_label_encoder\" } are not used.\n",
      "\n",
      "  warnings.warn(smsg, UserWarning)\n"
     ]
    },
    {
     "name": "stdout",
     "output_type": "stream",
     "text": [
      "Precision: 0.6666666666666666, Recall: 0.8, Accuracy: 0.6666666666666666\n"
     ]
    },
    {
     "name": "stderr",
     "output_type": "stream",
     "text": [
      "C:\\Users\\kdeep\\anaconda3\\Lib\\site-packages\\xgboost\\core.py:158: UserWarning: [09:32:57] WARNING: C:\\buildkite-agent\\builds\\buildkite-windows-cpu-autoscaling-group-i-0015a694724fa8361-1\\xgboost\\xgboost-ci-windows\\src\\learner.cc:740: \n",
      "Parameters: { \"use_label_encoder\" } are not used.\n",
      "\n",
      "  warnings.warn(smsg, UserWarning)\n"
     ]
    },
    {
     "name": "stdout",
     "output_type": "stream",
     "text": [
      "Precision: 0.6666666666666666, Recall: 0.8, Accuracy: 0.6666666666666666\n"
     ]
    },
    {
     "name": "stderr",
     "output_type": "stream",
     "text": [
      "C:\\Users\\kdeep\\anaconda3\\Lib\\site-packages\\xgboost\\core.py:158: UserWarning: [09:32:57] WARNING: C:\\buildkite-agent\\builds\\buildkite-windows-cpu-autoscaling-group-i-0015a694724fa8361-1\\xgboost\\xgboost-ci-windows\\src\\learner.cc:740: \n",
      "Parameters: { \"use_label_encoder\" } are not used.\n",
      "\n",
      "  warnings.warn(smsg, UserWarning)\n"
     ]
    },
    {
     "name": "stdout",
     "output_type": "stream",
     "text": [
      "Precision: 0.6666666666666666, Recall: 1.0, Accuracy: 0.7777777777777778\n"
     ]
    },
    {
     "name": "stderr",
     "output_type": "stream",
     "text": [
      "C:\\Users\\kdeep\\anaconda3\\Lib\\site-packages\\xgboost\\core.py:158: UserWarning: [09:32:58] WARNING: C:\\buildkite-agent\\builds\\buildkite-windows-cpu-autoscaling-group-i-0015a694724fa8361-1\\xgboost\\xgboost-ci-windows\\src\\learner.cc:740: \n",
      "Parameters: { \"use_label_encoder\" } are not used.\n",
      "\n",
      "  warnings.warn(smsg, UserWarning)\n"
     ]
    },
    {
     "name": "stdout",
     "output_type": "stream",
     "text": [
      "Precision: 1.0, Recall: 1.0, Accuracy: 1.0\n"
     ]
    },
    {
     "name": "stderr",
     "output_type": "stream",
     "text": [
      "C:\\Users\\kdeep\\anaconda3\\Lib\\site-packages\\xgboost\\core.py:158: UserWarning: [09:32:58] WARNING: C:\\buildkite-agent\\builds\\buildkite-windows-cpu-autoscaling-group-i-0015a694724fa8361-1\\xgboost\\xgboost-ci-windows\\src\\learner.cc:740: \n",
      "Parameters: { \"use_label_encoder\" } are not used.\n",
      "\n",
      "  warnings.warn(smsg, UserWarning)\n"
     ]
    },
    {
     "name": "stdout",
     "output_type": "stream",
     "text": [
      "Precision: 0.6, Recall: 0.75, Accuracy: 0.6666666666666666\n",
      "Results to be written: eta=0.1, depth=3, dim=0, eps=0.5, (42.3, 42.3, 4.7, 4.7, 0.8233333333333335, 0.755, 0.7655555555555555, 164544, 0.7032747199758888, 0.005428379594208562)\n",
      "eta=0.1, depth=3, dim=100, eps=0.1\n",
      "Number of flaky documents: 47\n",
      "Number of non-flaky documents: 47\n",
      "Total number of documents: 94\n",
      "Sample document: # Copyright 2021 The NetKet Authors - All rights reserved.\n",
      "#\n",
      "# Licensed under the Apache License, Version 2.0 (the \"License\");\n",
      "# you may not use this file except in compliance with the License.\n",
      "# You may obtain a copy of the License at\n",
      "#\n",
      "#    http://www.apache.org/licenses/LICENSE-2.0\n",
      "#\n",
      "# Unless required by applicable law or agreed to in writing, software\n",
      "# distributed under the License is distributed on an \"AS IS\" BASIS,\n",
      "# WITHOUT WARRANTIES OR CONDITIONS OF ANY KIND, either express or implied.\n",
      "# See the License for the specific language governing permissions and\n",
      "# limitations under the License.\n",
      "\n",
      "import dataclasses\n",
      "import abc\n",
      "\n",
      "from flax.core import freeze\n",
      "\n",
      "\n",
      "@dataclasses.dataclass(frozen=True)\n",
      "class ModuleFramework(abc.ABC):\n",
      "    @staticmethod\n",
      "    @abc.abstractmethod\n",
      "    def is_loaded() -> bool:\n",
      "        pass\n",
      "\n",
      "    @staticmethod\n",
      "    @abc.abstractmethod\n",
      "    def is_my_module(module):\n",
      "        pass\n",
      "\n",
      "    @staticmethod\n",
      "    @abc.abstractmethod\n",
      "    def wrap(module):\n",
      "        return module\n",
      "\n",
      "    @staticmethod\n",
      "    def wrap_params(variables):\n",
      "        return freeze({\"params\": variables})\n",
      "\n",
      "    @staticmethod\n",
      "    @abc.abstractmethod\n",
      "    def unwrap_params(wrapped_variables):\n",
      "        return wrapped_variables\n",
      "\n",
      "\n",
      "registered_frameworks = []\n",
      "\n",
      "\n",
      "def framework(clz):\n",
      "    \"\"\"\n",
      "    Registers a framework and it's wrapper methods to make it\n",
      "    behave like a flax framework.\n",
      "    \"\"\"\n",
      "    clz = dataclasses.dataclass(frozen=True)(clz)\n",
      "    registered_frameworks.append(clz)\n",
      "    return clz\n",
      "\n",
      "\n",
      "@dataclasses.dataclass(frozen=True)\n",
      "class UnknownFramework(ModuleFramework):\n",
      "    name: str = \"Unknown\"\n",
      "\n",
      "    @staticmethod\n",
      "    def is_loaded() -> bool:\n",
      "        return True\n",
      "\n",
      "    @staticmethod\n",
      "    def is_my_module(module):\n",
      "        return False\n",
      "\n",
      "    @staticmethod\n",
      "    def wrap(module):\n",
      "        return module\n",
      "\n",
      "    @staticmethod\n",
      "    def unwrap_params(wrapped_variables):\n",
      "        return wrapped_variables\n",
      "\n",
      "\n",
      "def identify_framework(module):\n",
      "    for _framework in registered_frameworks:\n",
      "        if _framework.is_my_module(module):\n",
      "            return _framework\n",
      "\n",
      "    return UnknownFramework\n",
      "\n",
      "\n",
      "def maybe_wrap_module(module):\n",
      "    \"\"\"\n",
      "    Passing a module from an unknown framework (might be user defined module, a jax\n",
      "    module, flax or haiku or anything else really), attempt to identify what is the\n",
      "    package/framework it comes from, and if so it correctly wraps it in order to\n",
      "    make it behave like a flax module (our default).\n",
      "\n",
      "    Also returns a function used to unpack the parameters once we are done.\n",
      "    \"\"\"\n",
      "    framewrk = identify_framework(module)\n",
      "\n",
      "    return framewrk, framewrk.wrap(module)\n"
     ]
    },
    {
     "name": "stderr",
     "output_type": "stream",
     "text": [
      "C:\\Users\\kdeep\\anaconda3\\Lib\\site-packages\\xgboost\\core.py:158: UserWarning: [09:32:59] WARNING: C:\\buildkite-agent\\builds\\buildkite-windows-cpu-autoscaling-group-i-0015a694724fa8361-1\\xgboost\\xgboost-ci-windows\\src\\learner.cc:740: \n",
      "Parameters: { \"use_label_encoder\" } are not used.\n",
      "\n",
      "  warnings.warn(smsg, UserWarning)\n"
     ]
    },
    {
     "name": "stdout",
     "output_type": "stream",
     "text": [
      "Precision: 0.6666666666666666, Recall: 0.4, Accuracy: 0.6\n"
     ]
    },
    {
     "name": "stderr",
     "output_type": "stream",
     "text": [
      "C:\\Users\\kdeep\\anaconda3\\Lib\\site-packages\\xgboost\\core.py:158: UserWarning: [09:32:59] WARNING: C:\\buildkite-agent\\builds\\buildkite-windows-cpu-autoscaling-group-i-0015a694724fa8361-1\\xgboost\\xgboost-ci-windows\\src\\learner.cc:740: \n",
      "Parameters: { \"use_label_encoder\" } are not used.\n",
      "\n",
      "  warnings.warn(smsg, UserWarning)\n"
     ]
    },
    {
     "name": "stdout",
     "output_type": "stream",
     "text": [
      "Precision: 1.0, Recall: 0.8, Accuracy: 0.9\n"
     ]
    },
    {
     "name": "stderr",
     "output_type": "stream",
     "text": [
      "C:\\Users\\kdeep\\anaconda3\\Lib\\site-packages\\xgboost\\core.py:158: UserWarning: [09:32:59] WARNING: C:\\buildkite-agent\\builds\\buildkite-windows-cpu-autoscaling-group-i-0015a694724fa8361-1\\xgboost\\xgboost-ci-windows\\src\\learner.cc:740: \n",
      "Parameters: { \"use_label_encoder\" } are not used.\n",
      "\n",
      "  warnings.warn(smsg, UserWarning)\n"
     ]
    },
    {
     "name": "stdout",
     "output_type": "stream",
     "text": [
      "Precision: 1.0, Recall: 0.8, Accuracy: 0.9\n"
     ]
    },
    {
     "name": "stderr",
     "output_type": "stream",
     "text": [
      "C:\\Users\\kdeep\\anaconda3\\Lib\\site-packages\\xgboost\\core.py:158: UserWarning: [09:32:59] WARNING: C:\\buildkite-agent\\builds\\buildkite-windows-cpu-autoscaling-group-i-0015a694724fa8361-1\\xgboost\\xgboost-ci-windows\\src\\learner.cc:740: \n",
      "Parameters: { \"use_label_encoder\" } are not used.\n",
      "\n",
      "  warnings.warn(smsg, UserWarning)\n"
     ]
    },
    {
     "name": "stdout",
     "output_type": "stream",
     "text": [
      "Precision: 1.0, Recall: 1.0, Accuracy: 1.0\n",
      "Precision: 0.3333333333333333, Recall: 0.2, Accuracy: 0.3333333333333333\n"
     ]
    },
    {
     "name": "stderr",
     "output_type": "stream",
     "text": [
      "C:\\Users\\kdeep\\anaconda3\\Lib\\site-packages\\xgboost\\core.py:158: UserWarning: [09:33:00] WARNING: C:\\buildkite-agent\\builds\\buildkite-windows-cpu-autoscaling-group-i-0015a694724fa8361-1\\xgboost\\xgboost-ci-windows\\src\\learner.cc:740: \n",
      "Parameters: { \"use_label_encoder\" } are not used.\n",
      "\n",
      "  warnings.warn(smsg, UserWarning)\n",
      "C:\\Users\\kdeep\\anaconda3\\Lib\\site-packages\\xgboost\\core.py:158: UserWarning: [09:33:00] WARNING: C:\\buildkite-agent\\builds\\buildkite-windows-cpu-autoscaling-group-i-0015a694724fa8361-1\\xgboost\\xgboost-ci-windows\\src\\learner.cc:740: \n",
      "Parameters: { \"use_label_encoder\" } are not used.\n",
      "\n",
      "  warnings.warn(smsg, UserWarning)\n"
     ]
    },
    {
     "name": "stdout",
     "output_type": "stream",
     "text": [
      "Precision: 0.5555555555555556, Recall: 1.0, Accuracy: 0.5555555555555556\n",
      "Precision: 1.0, Recall: 1.0, Accuracy: 1.0\n"
     ]
    },
    {
     "name": "stderr",
     "output_type": "stream",
     "text": [
      "C:\\Users\\kdeep\\anaconda3\\Lib\\site-packages\\xgboost\\core.py:158: UserWarning: [09:33:00] WARNING: C:\\buildkite-agent\\builds\\buildkite-windows-cpu-autoscaling-group-i-0015a694724fa8361-1\\xgboost\\xgboost-ci-windows\\src\\learner.cc:740: \n",
      "Parameters: { \"use_label_encoder\" } are not used.\n",
      "\n",
      "  warnings.warn(smsg, UserWarning)\n",
      "C:\\Users\\kdeep\\anaconda3\\Lib\\site-packages\\xgboost\\core.py:158: UserWarning: [09:33:00] WARNING: C:\\buildkite-agent\\builds\\buildkite-windows-cpu-autoscaling-group-i-0015a694724fa8361-1\\xgboost\\xgboost-ci-windows\\src\\learner.cc:740: \n",
      "Parameters: { \"use_label_encoder\" } are not used.\n",
      "\n",
      "  warnings.warn(smsg, UserWarning)\n"
     ]
    },
    {
     "name": "stdout",
     "output_type": "stream",
     "text": [
      "Precision: 0.75, Recall: 0.75, Accuracy: 0.7777777777777778\n",
      "Precision: 0.6666666666666666, Recall: 1.0, Accuracy: 0.7777777777777778\n"
     ]
    },
    {
     "name": "stderr",
     "output_type": "stream",
     "text": [
      "C:\\Users\\kdeep\\anaconda3\\Lib\\site-packages\\xgboost\\core.py:158: UserWarning: [09:33:00] WARNING: C:\\buildkite-agent\\builds\\buildkite-windows-cpu-autoscaling-group-i-0015a694724fa8361-1\\xgboost\\xgboost-ci-windows\\src\\learner.cc:740: \n",
      "Parameters: { \"use_label_encoder\" } are not used.\n",
      "\n",
      "  warnings.warn(smsg, UserWarning)\n",
      "C:\\Users\\kdeep\\anaconda3\\Lib\\site-packages\\xgboost\\core.py:158: UserWarning: [09:33:00] WARNING: C:\\buildkite-agent\\builds\\buildkite-windows-cpu-autoscaling-group-i-0015a694724fa8361-1\\xgboost\\xgboost-ci-windows\\src\\learner.cc:740: \n",
      "Parameters: { \"use_label_encoder\" } are not used.\n",
      "\n",
      "  warnings.warn(smsg, UserWarning)\n"
     ]
    },
    {
     "name": "stdout",
     "output_type": "stream",
     "text": [
      "Precision: 0.4, Recall: 0.5, Accuracy: 0.4444444444444444\n",
      "Results to be written: eta=0.1, depth=3, dim=100, eps=0.1, (42.3, 42.3, 4.7, 4.7, 0.7372222222222222, 0.745, 0.7288888888888889, 75808, 0.5653961399802938, 0.004822803329919678)\n",
      "eta=0.1, depth=3, dim=100, eps=0.3\n",
      "Number of flaky documents: 47\n",
      "Number of non-flaky documents: 47\n",
      "Total number of documents: 94\n",
      "Sample document: # Copyright 2021 The NetKet Authors - All rights reserved.\n",
      "#\n",
      "# Licensed under the Apache License, Version 2.0 (the \"License\");\n",
      "# you may not use this file except in compliance with the License.\n",
      "# You may obtain a copy of the License at\n",
      "#\n",
      "#    http://www.apache.org/licenses/LICENSE-2.0\n",
      "#\n",
      "# Unless required by applicable law or agreed to in writing, software\n",
      "# distributed under the License is distributed on an \"AS IS\" BASIS,\n",
      "# WITHOUT WARRANTIES OR CONDITIONS OF ANY KIND, either express or implied.\n",
      "# See the License for the specific language governing permissions and\n",
      "# limitations under the License.\n",
      "\n",
      "import dataclasses\n",
      "import abc\n",
      "\n",
      "from flax.core import freeze\n",
      "\n",
      "\n",
      "@dataclasses.dataclass(frozen=True)\n",
      "class ModuleFramework(abc.ABC):\n",
      "    @staticmethod\n",
      "    @abc.abstractmethod\n",
      "    def is_loaded() -> bool:\n",
      "        pass\n",
      "\n",
      "    @staticmethod\n",
      "    @abc.abstractmethod\n",
      "    def is_my_module(module):\n",
      "        pass\n",
      "\n",
      "    @staticmethod\n",
      "    @abc.abstractmethod\n",
      "    def wrap(module):\n",
      "        return module\n",
      "\n",
      "    @staticmethod\n",
      "    def wrap_params(variables):\n",
      "        return freeze({\"params\": variables})\n",
      "\n",
      "    @staticmethod\n",
      "    @abc.abstractmethod\n",
      "    def unwrap_params(wrapped_variables):\n",
      "        return wrapped_variables\n",
      "\n",
      "\n",
      "registered_frameworks = []\n",
      "\n",
      "\n",
      "def framework(clz):\n",
      "    \"\"\"\n",
      "    Registers a framework and it's wrapper methods to make it\n",
      "    behave like a flax framework.\n",
      "    \"\"\"\n",
      "    clz = dataclasses.dataclass(frozen=True)(clz)\n",
      "    registered_frameworks.append(clz)\n",
      "    return clz\n",
      "\n",
      "\n",
      "@dataclasses.dataclass(frozen=True)\n",
      "class UnknownFramework(ModuleFramework):\n",
      "    name: str = \"Unknown\"\n",
      "\n",
      "    @staticmethod\n",
      "    def is_loaded() -> bool:\n",
      "        return True\n",
      "\n",
      "    @staticmethod\n",
      "    def is_my_module(module):\n",
      "        return False\n",
      "\n",
      "    @staticmethod\n",
      "    def wrap(module):\n",
      "        return module\n",
      "\n",
      "    @staticmethod\n",
      "    def unwrap_params(wrapped_variables):\n",
      "        return wrapped_variables\n",
      "\n",
      "\n",
      "def identify_framework(module):\n",
      "    for _framework in registered_frameworks:\n",
      "        if _framework.is_my_module(module):\n",
      "            return _framework\n",
      "\n",
      "    return UnknownFramework\n",
      "\n",
      "\n",
      "def maybe_wrap_module(module):\n",
      "    \"\"\"\n",
      "    Passing a module from an unknown framework (might be user defined module, a jax\n",
      "    module, flax or haiku or anything else really), attempt to identify what is the\n",
      "    package/framework it comes from, and if so it correctly wraps it in order to\n",
      "    make it behave like a flax module (our default).\n",
      "\n",
      "    Also returns a function used to unpack the parameters once we are done.\n",
      "    \"\"\"\n",
      "    framewrk = identify_framework(module)\n",
      "\n",
      "    return framewrk, framewrk.wrap(module)\n"
     ]
    },
    {
     "name": "stderr",
     "output_type": "stream",
     "text": [
      "C:\\Users\\kdeep\\anaconda3\\Lib\\site-packages\\xgboost\\core.py:158: UserWarning: [09:33:01] WARNING: C:\\buildkite-agent\\builds\\buildkite-windows-cpu-autoscaling-group-i-0015a694724fa8361-1\\xgboost\\xgboost-ci-windows\\src\\learner.cc:740: \n",
      "Parameters: { \"use_label_encoder\" } are not used.\n",
      "\n",
      "  warnings.warn(smsg, UserWarning)\n"
     ]
    },
    {
     "name": "stdout",
     "output_type": "stream",
     "text": [
      "Precision: 1.0, Recall: 0.6, Accuracy: 0.8\n"
     ]
    },
    {
     "name": "stderr",
     "output_type": "stream",
     "text": [
      "C:\\Users\\kdeep\\anaconda3\\Lib\\site-packages\\xgboost\\core.py:158: UserWarning: [09:33:01] WARNING: C:\\buildkite-agent\\builds\\buildkite-windows-cpu-autoscaling-group-i-0015a694724fa8361-1\\xgboost\\xgboost-ci-windows\\src\\learner.cc:740: \n",
      "Parameters: { \"use_label_encoder\" } are not used.\n",
      "\n",
      "  warnings.warn(smsg, UserWarning)\n"
     ]
    },
    {
     "name": "stdout",
     "output_type": "stream",
     "text": [
      "Precision: 0.6666666666666666, Recall: 0.8, Accuracy: 0.7\n"
     ]
    },
    {
     "name": "stderr",
     "output_type": "stream",
     "text": [
      "C:\\Users\\kdeep\\anaconda3\\Lib\\site-packages\\xgboost\\core.py:158: UserWarning: [09:33:01] WARNING: C:\\buildkite-agent\\builds\\buildkite-windows-cpu-autoscaling-group-i-0015a694724fa8361-1\\xgboost\\xgboost-ci-windows\\src\\learner.cc:740: \n",
      "Parameters: { \"use_label_encoder\" } are not used.\n",
      "\n",
      "  warnings.warn(smsg, UserWarning)\n"
     ]
    },
    {
     "name": "stdout",
     "output_type": "stream",
     "text": [
      "Precision: 1.0, Recall: 1.0, Accuracy: 1.0\n"
     ]
    },
    {
     "name": "stderr",
     "output_type": "stream",
     "text": [
      "C:\\Users\\kdeep\\anaconda3\\Lib\\site-packages\\xgboost\\core.py:158: UserWarning: [09:33:02] WARNING: C:\\buildkite-agent\\builds\\buildkite-windows-cpu-autoscaling-group-i-0015a694724fa8361-1\\xgboost\\xgboost-ci-windows\\src\\learner.cc:740: \n",
      "Parameters: { \"use_label_encoder\" } are not used.\n",
      "\n",
      "  warnings.warn(smsg, UserWarning)\n"
     ]
    },
    {
     "name": "stdout",
     "output_type": "stream",
     "text": [
      "Precision: 0.8, Recall: 0.8, Accuracy: 0.8\n"
     ]
    },
    {
     "name": "stderr",
     "output_type": "stream",
     "text": [
      "C:\\Users\\kdeep\\anaconda3\\Lib\\site-packages\\xgboost\\core.py:158: UserWarning: [09:33:02] WARNING: C:\\buildkite-agent\\builds\\buildkite-windows-cpu-autoscaling-group-i-0015a694724fa8361-1\\xgboost\\xgboost-ci-windows\\src\\learner.cc:740: \n",
      "Parameters: { \"use_label_encoder\" } are not used.\n",
      "\n",
      "  warnings.warn(smsg, UserWarning)\n"
     ]
    },
    {
     "name": "stdout",
     "output_type": "stream",
     "text": [
      "Precision: 0.75, Recall: 0.6, Accuracy: 0.6666666666666666\n"
     ]
    },
    {
     "name": "stderr",
     "output_type": "stream",
     "text": [
      "C:\\Users\\kdeep\\anaconda3\\Lib\\site-packages\\xgboost\\core.py:158: UserWarning: [09:33:02] WARNING: C:\\buildkite-agent\\builds\\buildkite-windows-cpu-autoscaling-group-i-0015a694724fa8361-1\\xgboost\\xgboost-ci-windows\\src\\learner.cc:740: \n",
      "Parameters: { \"use_label_encoder\" } are not used.\n",
      "\n",
      "  warnings.warn(smsg, UserWarning)\n"
     ]
    },
    {
     "name": "stdout",
     "output_type": "stream",
     "text": [
      "Precision: 0.5, Recall: 0.6, Accuracy: 0.4444444444444444\n",
      "Precision: 0.625, Recall: 1.0, Accuracy: 0.6666666666666666\n"
     ]
    },
    {
     "name": "stderr",
     "output_type": "stream",
     "text": [
      "C:\\Users\\kdeep\\anaconda3\\Lib\\site-packages\\xgboost\\core.py:158: UserWarning: [09:33:03] WARNING: C:\\buildkite-agent\\builds\\buildkite-windows-cpu-autoscaling-group-i-0015a694724fa8361-1\\xgboost\\xgboost-ci-windows\\src\\learner.cc:740: \n",
      "Parameters: { \"use_label_encoder\" } are not used.\n",
      "\n",
      "  warnings.warn(smsg, UserWarning)\n",
      "C:\\Users\\kdeep\\anaconda3\\Lib\\site-packages\\xgboost\\core.py:158: UserWarning: [09:33:03] WARNING: C:\\buildkite-agent\\builds\\buildkite-windows-cpu-autoscaling-group-i-0015a694724fa8361-1\\xgboost\\xgboost-ci-windows\\src\\learner.cc:740: \n",
      "Parameters: { \"use_label_encoder\" } are not used.\n",
      "\n",
      "  warnings.warn(smsg, UserWarning)\n"
     ]
    },
    {
     "name": "stdout",
     "output_type": "stream",
     "text": [
      "Precision: 0.6666666666666666, Recall: 1.0, Accuracy: 0.7777777777777778\n",
      "Precision: 1.0, Recall: 0.75, Accuracy: 0.8888888888888888\n"
     ]
    },
    {
     "name": "stderr",
     "output_type": "stream",
     "text": [
      "C:\\Users\\kdeep\\anaconda3\\Lib\\site-packages\\xgboost\\core.py:158: UserWarning: [09:33:03] WARNING: C:\\buildkite-agent\\builds\\buildkite-windows-cpu-autoscaling-group-i-0015a694724fa8361-1\\xgboost\\xgboost-ci-windows\\src\\learner.cc:740: \n",
      "Parameters: { \"use_label_encoder\" } are not used.\n",
      "\n",
      "  warnings.warn(smsg, UserWarning)\n",
      "C:\\Users\\kdeep\\anaconda3\\Lib\\site-packages\\xgboost\\core.py:158: UserWarning: [09:33:03] WARNING: C:\\buildkite-agent\\builds\\buildkite-windows-cpu-autoscaling-group-i-0015a694724fa8361-1\\xgboost\\xgboost-ci-windows\\src\\learner.cc:740: \n",
      "Parameters: { \"use_label_encoder\" } are not used.\n",
      "\n",
      "  warnings.warn(smsg, UserWarning)\n"
     ]
    },
    {
     "name": "stdout",
     "output_type": "stream",
     "text": [
      "Precision: 0.5, Recall: 0.5, Accuracy: 0.5555555555555556\n",
      "Results to be written: eta=0.1, depth=3, dim=100, eps=0.3, (42.3, 42.3, 4.7, 4.7, 0.7508333333333334, 0.765, 0.7299999999999999, 75808, 0.7143147799652068, 0.005903789044121703)\n",
      "eta=0.1, depth=3, dim=100, eps=0.5\n",
      "Number of flaky documents: 47\n",
      "Number of non-flaky documents: 47\n",
      "Total number of documents: 94\n",
      "Sample document: # Copyright 2021 The NetKet Authors - All rights reserved.\n",
      "#\n",
      "# Licensed under the Apache License, Version 2.0 (the \"License\");\n",
      "# you may not use this file except in compliance with the License.\n",
      "# You may obtain a copy of the License at\n",
      "#\n",
      "#    http://www.apache.org/licenses/LICENSE-2.0\n",
      "#\n",
      "# Unless required by applicable law or agreed to in writing, software\n",
      "# distributed under the License is distributed on an \"AS IS\" BASIS,\n",
      "# WITHOUT WARRANTIES OR CONDITIONS OF ANY KIND, either express or implied.\n",
      "# See the License for the specific language governing permissions and\n",
      "# limitations under the License.\n",
      "\n",
      "import dataclasses\n",
      "import abc\n",
      "\n",
      "from flax.core import freeze\n",
      "\n",
      "\n",
      "@dataclasses.dataclass(frozen=True)\n",
      "class ModuleFramework(abc.ABC):\n",
      "    @staticmethod\n",
      "    @abc.abstractmethod\n",
      "    def is_loaded() -> bool:\n",
      "        pass\n",
      "\n",
      "    @staticmethod\n",
      "    @abc.abstractmethod\n",
      "    def is_my_module(module):\n",
      "        pass\n",
      "\n",
      "    @staticmethod\n",
      "    @abc.abstractmethod\n",
      "    def wrap(module):\n",
      "        return module\n",
      "\n",
      "    @staticmethod\n",
      "    def wrap_params(variables):\n",
      "        return freeze({\"params\": variables})\n",
      "\n",
      "    @staticmethod\n",
      "    @abc.abstractmethod\n",
      "    def unwrap_params(wrapped_variables):\n",
      "        return wrapped_variables\n",
      "\n",
      "\n",
      "registered_frameworks = []\n",
      "\n",
      "\n",
      "def framework(clz):\n",
      "    \"\"\"\n",
      "    Registers a framework and it's wrapper methods to make it\n",
      "    behave like a flax framework.\n",
      "    \"\"\"\n",
      "    clz = dataclasses.dataclass(frozen=True)(clz)\n",
      "    registered_frameworks.append(clz)\n",
      "    return clz\n",
      "\n",
      "\n",
      "@dataclasses.dataclass(frozen=True)\n",
      "class UnknownFramework(ModuleFramework):\n",
      "    name: str = \"Unknown\"\n",
      "\n",
      "    @staticmethod\n",
      "    def is_loaded() -> bool:\n",
      "        return True\n",
      "\n",
      "    @staticmethod\n",
      "    def is_my_module(module):\n",
      "        return False\n",
      "\n",
      "    @staticmethod\n",
      "    def wrap(module):\n",
      "        return module\n",
      "\n",
      "    @staticmethod\n",
      "    def unwrap_params(wrapped_variables):\n",
      "        return wrapped_variables\n",
      "\n",
      "\n",
      "def identify_framework(module):\n",
      "    for _framework in registered_frameworks:\n",
      "        if _framework.is_my_module(module):\n",
      "            return _framework\n",
      "\n",
      "    return UnknownFramework\n",
      "\n",
      "\n",
      "def maybe_wrap_module(module):\n",
      "    \"\"\"\n",
      "    Passing a module from an unknown framework (might be user defined module, a jax\n",
      "    module, flax or haiku or anything else really), attempt to identify what is the\n",
      "    package/framework it comes from, and if so it correctly wraps it in order to\n",
      "    make it behave like a flax module (our default).\n",
      "\n",
      "    Also returns a function used to unpack the parameters once we are done.\n",
      "    \"\"\"\n",
      "    framewrk = identify_framework(module)\n",
      "\n",
      "    return framewrk, framewrk.wrap(module)\n"
     ]
    },
    {
     "name": "stderr",
     "output_type": "stream",
     "text": [
      "C:\\Users\\kdeep\\anaconda3\\Lib\\site-packages\\xgboost\\core.py:158: UserWarning: [09:33:04] WARNING: C:\\buildkite-agent\\builds\\buildkite-windows-cpu-autoscaling-group-i-0015a694724fa8361-1\\xgboost\\xgboost-ci-windows\\src\\learner.cc:740: \n",
      "Parameters: { \"use_label_encoder\" } are not used.\n",
      "\n",
      "  warnings.warn(smsg, UserWarning)\n",
      "C:\\Users\\kdeep\\anaconda3\\Lib\\site-packages\\xgboost\\core.py:158: UserWarning: [09:33:04] WARNING: C:\\buildkite-agent\\builds\\buildkite-windows-cpu-autoscaling-group-i-0015a694724fa8361-1\\xgboost\\xgboost-ci-windows\\src\\learner.cc:740: \n",
      "Parameters: { \"use_label_encoder\" } are not used.\n",
      "\n",
      "  warnings.warn(smsg, UserWarning)\n"
     ]
    },
    {
     "name": "stdout",
     "output_type": "stream",
     "text": [
      "Precision: 0.6666666666666666, Recall: 0.4, Accuracy: 0.6\n",
      "Precision: 1.0, Recall: 0.8, Accuracy: 0.9\n"
     ]
    },
    {
     "name": "stderr",
     "output_type": "stream",
     "text": [
      "C:\\Users\\kdeep\\anaconda3\\Lib\\site-packages\\xgboost\\core.py:158: UserWarning: [09:33:04] WARNING: C:\\buildkite-agent\\builds\\buildkite-windows-cpu-autoscaling-group-i-0015a694724fa8361-1\\xgboost\\xgboost-ci-windows\\src\\learner.cc:740: \n",
      "Parameters: { \"use_label_encoder\" } are not used.\n",
      "\n",
      "  warnings.warn(smsg, UserWarning)\n"
     ]
    },
    {
     "name": "stdout",
     "output_type": "stream",
     "text": [
      "Precision: 0.75, Recall: 0.6, Accuracy: 0.7\n"
     ]
    },
    {
     "name": "stderr",
     "output_type": "stream",
     "text": [
      "C:\\Users\\kdeep\\anaconda3\\Lib\\site-packages\\xgboost\\core.py:158: UserWarning: [09:33:05] WARNING: C:\\buildkite-agent\\builds\\buildkite-windows-cpu-autoscaling-group-i-0015a694724fa8361-1\\xgboost\\xgboost-ci-windows\\src\\learner.cc:740: \n",
      "Parameters: { \"use_label_encoder\" } are not used.\n",
      "\n",
      "  warnings.warn(smsg, UserWarning)\n"
     ]
    },
    {
     "name": "stdout",
     "output_type": "stream",
     "text": [
      "Precision: 1.0, Recall: 0.8, Accuracy: 0.9\n"
     ]
    },
    {
     "name": "stderr",
     "output_type": "stream",
     "text": [
      "C:\\Users\\kdeep\\anaconda3\\Lib\\site-packages\\xgboost\\core.py:158: UserWarning: [09:33:05] WARNING: C:\\buildkite-agent\\builds\\buildkite-windows-cpu-autoscaling-group-i-0015a694724fa8361-1\\xgboost\\xgboost-ci-windows\\src\\learner.cc:740: \n",
      "Parameters: { \"use_label_encoder\" } are not used.\n",
      "\n",
      "  warnings.warn(smsg, UserWarning)\n"
     ]
    },
    {
     "name": "stdout",
     "output_type": "stream",
     "text": [
      "Precision: 1.0, Recall: 0.8, Accuracy: 0.8888888888888888\n"
     ]
    },
    {
     "name": "stderr",
     "output_type": "stream",
     "text": [
      "C:\\Users\\kdeep\\anaconda3\\Lib\\site-packages\\xgboost\\core.py:158: UserWarning: [09:33:05] WARNING: C:\\buildkite-agent\\builds\\buildkite-windows-cpu-autoscaling-group-i-0015a694724fa8361-1\\xgboost\\xgboost-ci-windows\\src\\learner.cc:740: \n",
      "Parameters: { \"use_label_encoder\" } are not used.\n",
      "\n",
      "  warnings.warn(smsg, UserWarning)\n"
     ]
    },
    {
     "name": "stdout",
     "output_type": "stream",
     "text": [
      "Precision: 0.5555555555555556, Recall: 1.0, Accuracy: 0.5555555555555556\n"
     ]
    },
    {
     "name": "stderr",
     "output_type": "stream",
     "text": [
      "C:\\Users\\kdeep\\anaconda3\\Lib\\site-packages\\xgboost\\core.py:158: UserWarning: [09:33:05] WARNING: C:\\buildkite-agent\\builds\\buildkite-windows-cpu-autoscaling-group-i-0015a694724fa8361-1\\xgboost\\xgboost-ci-windows\\src\\learner.cc:740: \n",
      "Parameters: { \"use_label_encoder\" } are not used.\n",
      "\n",
      "  warnings.warn(smsg, UserWarning)\n"
     ]
    },
    {
     "name": "stdout",
     "output_type": "stream",
     "text": [
      "Precision: 0.5714285714285714, Recall: 0.8, Accuracy: 0.5555555555555556\n"
     ]
    },
    {
     "name": "stderr",
     "output_type": "stream",
     "text": [
      "C:\\Users\\kdeep\\anaconda3\\Lib\\site-packages\\xgboost\\core.py:158: UserWarning: [09:33:06] WARNING: C:\\buildkite-agent\\builds\\buildkite-windows-cpu-autoscaling-group-i-0015a694724fa8361-1\\xgboost\\xgboost-ci-windows\\src\\learner.cc:740: \n",
      "Parameters: { \"use_label_encoder\" } are not used.\n",
      "\n",
      "  warnings.warn(smsg, UserWarning)\n"
     ]
    },
    {
     "name": "stdout",
     "output_type": "stream",
     "text": [
      "Precision: 0.8, Recall: 1.0, Accuracy: 0.8888888888888888\n"
     ]
    },
    {
     "name": "stderr",
     "output_type": "stream",
     "text": [
      "C:\\Users\\kdeep\\anaconda3\\Lib\\site-packages\\xgboost\\core.py:158: UserWarning: [09:33:06] WARNING: C:\\buildkite-agent\\builds\\buildkite-windows-cpu-autoscaling-group-i-0015a694724fa8361-1\\xgboost\\xgboost-ci-windows\\src\\learner.cc:740: \n",
      "Parameters: { \"use_label_encoder\" } are not used.\n",
      "\n",
      "  warnings.warn(smsg, UserWarning)\n"
     ]
    },
    {
     "name": "stdout",
     "output_type": "stream",
     "text": [
      "Precision: 1.0, Recall: 1.0, Accuracy: 1.0\n"
     ]
    },
    {
     "name": "stderr",
     "output_type": "stream",
     "text": [
      "C:\\Users\\kdeep\\anaconda3\\Lib\\site-packages\\xgboost\\core.py:158: UserWarning: [09:33:06] WARNING: C:\\buildkite-agent\\builds\\buildkite-windows-cpu-autoscaling-group-i-0015a694724fa8361-1\\xgboost\\xgboost-ci-windows\\src\\learner.cc:740: \n",
      "Parameters: { \"use_label_encoder\" } are not used.\n",
      "\n",
      "  warnings.warn(smsg, UserWarning)\n"
     ]
    },
    {
     "name": "stdout",
     "output_type": "stream",
     "text": [
      "Precision: 0.3333333333333333, Recall: 0.25, Accuracy: 0.4444444444444444\n",
      "Results to be written: eta=0.1, depth=3, dim=100, eps=0.5, (42.3, 42.3, 4.7, 4.7, 0.7676984126984125, 0.745, 0.7433333333333334, 75808, 0.5995464699575678, 0.004404530630025343)\n",
      "eta=0.1, depth=3, dim=200, eps=0.1\n",
      "Number of flaky documents: 47\n",
      "Number of non-flaky documents: 47\n",
      "Total number of documents: 94\n",
      "Sample document: # Copyright 2021 The NetKet Authors - All rights reserved.\n",
      "#\n",
      "# Licensed under the Apache License, Version 2.0 (the \"License\");\n",
      "# you may not use this file except in compliance with the License.\n",
      "# You may obtain a copy of the License at\n",
      "#\n",
      "#    http://www.apache.org/licenses/LICENSE-2.0\n",
      "#\n",
      "# Unless required by applicable law or agreed to in writing, software\n",
      "# distributed under the License is distributed on an \"AS IS\" BASIS,\n",
      "# WITHOUT WARRANTIES OR CONDITIONS OF ANY KIND, either express or implied.\n",
      "# See the License for the specific language governing permissions and\n",
      "# limitations under the License.\n",
      "\n",
      "import dataclasses\n",
      "import abc\n",
      "\n",
      "from flax.core import freeze\n",
      "\n",
      "\n",
      "@dataclasses.dataclass(frozen=True)\n",
      "class ModuleFramework(abc.ABC):\n",
      "    @staticmethod\n",
      "    @abc.abstractmethod\n",
      "    def is_loaded() -> bool:\n",
      "        pass\n",
      "\n",
      "    @staticmethod\n",
      "    @abc.abstractmethod\n",
      "    def is_my_module(module):\n",
      "        pass\n",
      "\n",
      "    @staticmethod\n",
      "    @abc.abstractmethod\n",
      "    def wrap(module):\n",
      "        return module\n",
      "\n",
      "    @staticmethod\n",
      "    def wrap_params(variables):\n",
      "        return freeze({\"params\": variables})\n",
      "\n",
      "    @staticmethod\n",
      "    @abc.abstractmethod\n",
      "    def unwrap_params(wrapped_variables):\n",
      "        return wrapped_variables\n",
      "\n",
      "\n",
      "registered_frameworks = []\n",
      "\n",
      "\n",
      "def framework(clz):\n",
      "    \"\"\"\n",
      "    Registers a framework and it's wrapper methods to make it\n",
      "    behave like a flax framework.\n",
      "    \"\"\"\n",
      "    clz = dataclasses.dataclass(frozen=True)(clz)\n",
      "    registered_frameworks.append(clz)\n",
      "    return clz\n",
      "\n",
      "\n",
      "@dataclasses.dataclass(frozen=True)\n",
      "class UnknownFramework(ModuleFramework):\n",
      "    name: str = \"Unknown\"\n",
      "\n",
      "    @staticmethod\n",
      "    def is_loaded() -> bool:\n",
      "        return True\n",
      "\n",
      "    @staticmethod\n",
      "    def is_my_module(module):\n",
      "        return False\n",
      "\n",
      "    @staticmethod\n",
      "    def wrap(module):\n",
      "        return module\n",
      "\n",
      "    @staticmethod\n",
      "    def unwrap_params(wrapped_variables):\n",
      "        return wrapped_variables\n",
      "\n",
      "\n",
      "def identify_framework(module):\n",
      "    for _framework in registered_frameworks:\n",
      "        if _framework.is_my_module(module):\n",
      "            return _framework\n",
      "\n",
      "    return UnknownFramework\n",
      "\n",
      "\n",
      "def maybe_wrap_module(module):\n",
      "    \"\"\"\n",
      "    Passing a module from an unknown framework (might be user defined module, a jax\n",
      "    module, flax or haiku or anything else really), attempt to identify what is the\n",
      "    package/framework it comes from, and if so it correctly wraps it in order to\n",
      "    make it behave like a flax module (our default).\n",
      "\n",
      "    Also returns a function used to unpack the parameters once we are done.\n",
      "    \"\"\"\n",
      "    framewrk = identify_framework(module)\n",
      "\n",
      "    return framewrk, framewrk.wrap(module)\n"
     ]
    },
    {
     "name": "stderr",
     "output_type": "stream",
     "text": [
      "C:\\Users\\kdeep\\anaconda3\\Lib\\site-packages\\xgboost\\core.py:158: UserWarning: [09:33:07] WARNING: C:\\buildkite-agent\\builds\\buildkite-windows-cpu-autoscaling-group-i-0015a694724fa8361-1\\xgboost\\xgboost-ci-windows\\src\\learner.cc:740: \n",
      "Parameters: { \"use_label_encoder\" } are not used.\n",
      "\n",
      "  warnings.warn(smsg, UserWarning)\n"
     ]
    },
    {
     "name": "stdout",
     "output_type": "stream",
     "text": [
      "Precision: 0.5, Recall: 0.2, Accuracy: 0.5\n"
     ]
    },
    {
     "name": "stderr",
     "output_type": "stream",
     "text": [
      "C:\\Users\\kdeep\\anaconda3\\Lib\\site-packages\\xgboost\\core.py:158: UserWarning: [09:33:07] WARNING: C:\\buildkite-agent\\builds\\buildkite-windows-cpu-autoscaling-group-i-0015a694724fa8361-1\\xgboost\\xgboost-ci-windows\\src\\learner.cc:740: \n",
      "Parameters: { \"use_label_encoder\" } are not used.\n",
      "\n",
      "  warnings.warn(smsg, UserWarning)\n"
     ]
    },
    {
     "name": "stdout",
     "output_type": "stream",
     "text": [
      "Precision: 1.0, Recall: 0.6, Accuracy: 0.8\n"
     ]
    },
    {
     "name": "stderr",
     "output_type": "stream",
     "text": [
      "C:\\Users\\kdeep\\anaconda3\\Lib\\site-packages\\xgboost\\core.py:158: UserWarning: [09:33:08] WARNING: C:\\buildkite-agent\\builds\\buildkite-windows-cpu-autoscaling-group-i-0015a694724fa8361-1\\xgboost\\xgboost-ci-windows\\src\\learner.cc:740: \n",
      "Parameters: { \"use_label_encoder\" } are not used.\n",
      "\n",
      "  warnings.warn(smsg, UserWarning)\n"
     ]
    },
    {
     "name": "stdout",
     "output_type": "stream",
     "text": [
      "Precision: 1.0, Recall: 0.8, Accuracy: 0.9\n"
     ]
    },
    {
     "name": "stderr",
     "output_type": "stream",
     "text": [
      "C:\\Users\\kdeep\\anaconda3\\Lib\\site-packages\\xgboost\\core.py:158: UserWarning: [09:33:08] WARNING: C:\\buildkite-agent\\builds\\buildkite-windows-cpu-autoscaling-group-i-0015a694724fa8361-1\\xgboost\\xgboost-ci-windows\\src\\learner.cc:740: \n",
      "Parameters: { \"use_label_encoder\" } are not used.\n",
      "\n",
      "  warnings.warn(smsg, UserWarning)\n"
     ]
    },
    {
     "name": "stdout",
     "output_type": "stream",
     "text": [
      "Precision: 0.8, Recall: 0.8, Accuracy: 0.8\n"
     ]
    },
    {
     "name": "stderr",
     "output_type": "stream",
     "text": [
      "C:\\Users\\kdeep\\anaconda3\\Lib\\site-packages\\xgboost\\core.py:158: UserWarning: [09:33:08] WARNING: C:\\buildkite-agent\\builds\\buildkite-windows-cpu-autoscaling-group-i-0015a694724fa8361-1\\xgboost\\xgboost-ci-windows\\src\\learner.cc:740: \n",
      "Parameters: { \"use_label_encoder\" } are not used.\n",
      "\n",
      "  warnings.warn(smsg, UserWarning)\n"
     ]
    },
    {
     "name": "stdout",
     "output_type": "stream",
     "text": [
      "Precision: 0.6666666666666666, Recall: 0.4, Accuracy: 0.5555555555555556\n"
     ]
    },
    {
     "name": "stderr",
     "output_type": "stream",
     "text": [
      "C:\\Users\\kdeep\\anaconda3\\Lib\\site-packages\\xgboost\\core.py:158: UserWarning: [09:33:08] WARNING: C:\\buildkite-agent\\builds\\buildkite-windows-cpu-autoscaling-group-i-0015a694724fa8361-1\\xgboost\\xgboost-ci-windows\\src\\learner.cc:740: \n",
      "Parameters: { \"use_label_encoder\" } are not used.\n",
      "\n",
      "  warnings.warn(smsg, UserWarning)\n"
     ]
    },
    {
     "name": "stdout",
     "output_type": "stream",
     "text": [
      "Precision: 0.5714285714285714, Recall: 0.8, Accuracy: 0.5555555555555556\n"
     ]
    },
    {
     "name": "stderr",
     "output_type": "stream",
     "text": [
      "C:\\Users\\kdeep\\anaconda3\\Lib\\site-packages\\xgboost\\core.py:158: UserWarning: [09:33:09] WARNING: C:\\buildkite-agent\\builds\\buildkite-windows-cpu-autoscaling-group-i-0015a694724fa8361-1\\xgboost\\xgboost-ci-windows\\src\\learner.cc:740: \n",
      "Parameters: { \"use_label_encoder\" } are not used.\n",
      "\n",
      "  warnings.warn(smsg, UserWarning)\n"
     ]
    },
    {
     "name": "stdout",
     "output_type": "stream",
     "text": [
      "Precision: 0.6666666666666666, Recall: 0.8, Accuracy: 0.6666666666666666\n"
     ]
    },
    {
     "name": "stderr",
     "output_type": "stream",
     "text": [
      "C:\\Users\\kdeep\\anaconda3\\Lib\\site-packages\\xgboost\\core.py:158: UserWarning: [09:33:09] WARNING: C:\\buildkite-agent\\builds\\buildkite-windows-cpu-autoscaling-group-i-0015a694724fa8361-1\\xgboost\\xgboost-ci-windows\\src\\learner.cc:740: \n",
      "Parameters: { \"use_label_encoder\" } are not used.\n",
      "\n",
      "  warnings.warn(smsg, UserWarning)\n"
     ]
    },
    {
     "name": "stdout",
     "output_type": "stream",
     "text": [
      "Precision: 0.6666666666666666, Recall: 1.0, Accuracy: 0.7777777777777778\n"
     ]
    },
    {
     "name": "stderr",
     "output_type": "stream",
     "text": [
      "C:\\Users\\kdeep\\anaconda3\\Lib\\site-packages\\xgboost\\core.py:158: UserWarning: [09:33:09] WARNING: C:\\buildkite-agent\\builds\\buildkite-windows-cpu-autoscaling-group-i-0015a694724fa8361-1\\xgboost\\xgboost-ci-windows\\src\\learner.cc:740: \n",
      "Parameters: { \"use_label_encoder\" } are not used.\n",
      "\n",
      "  warnings.warn(smsg, UserWarning)\n"
     ]
    },
    {
     "name": "stdout",
     "output_type": "stream",
     "text": [
      "Precision: 1.0, Recall: 1.0, Accuracy: 1.0\n"
     ]
    },
    {
     "name": "stderr",
     "output_type": "stream",
     "text": [
      "C:\\Users\\kdeep\\anaconda3\\Lib\\site-packages\\xgboost\\core.py:158: UserWarning: [09:33:10] WARNING: C:\\buildkite-agent\\builds\\buildkite-windows-cpu-autoscaling-group-i-0015a694724fa8361-1\\xgboost\\xgboost-ci-windows\\src\\learner.cc:740: \n",
      "Parameters: { \"use_label_encoder\" } are not used.\n",
      "\n",
      "  warnings.warn(smsg, UserWarning)\n"
     ]
    },
    {
     "name": "stdout",
     "output_type": "stream",
     "text": [
      "Precision: 0.6, Recall: 0.75, Accuracy: 0.6666666666666666\n",
      "Results to be written: eta=0.1, depth=3, dim=200, eps=0.1, (42.3, 42.3, 4.7, 4.7, 0.7471428571428571, 0.7150000000000001, 0.7222222222222222, 151008, 0.7363611999899147, 0.005568402551549946)\n",
      "eta=0.1, depth=3, dim=200, eps=0.3\n",
      "Number of flaky documents: 47\n",
      "Number of non-flaky documents: 47\n",
      "Total number of documents: 94\n",
      "Sample document: # Copyright 2021 The NetKet Authors - All rights reserved.\n",
      "#\n",
      "# Licensed under the Apache License, Version 2.0 (the \"License\");\n",
      "# you may not use this file except in compliance with the License.\n",
      "# You may obtain a copy of the License at\n",
      "#\n",
      "#    http://www.apache.org/licenses/LICENSE-2.0\n",
      "#\n",
      "# Unless required by applicable law or agreed to in writing, software\n",
      "# distributed under the License is distributed on an \"AS IS\" BASIS,\n",
      "# WITHOUT WARRANTIES OR CONDITIONS OF ANY KIND, either express or implied.\n",
      "# See the License for the specific language governing permissions and\n",
      "# limitations under the License.\n",
      "\n",
      "import dataclasses\n",
      "import abc\n",
      "\n",
      "from flax.core import freeze\n",
      "\n",
      "\n",
      "@dataclasses.dataclass(frozen=True)\n",
      "class ModuleFramework(abc.ABC):\n",
      "    @staticmethod\n",
      "    @abc.abstractmethod\n",
      "    def is_loaded() -> bool:\n",
      "        pass\n",
      "\n",
      "    @staticmethod\n",
      "    @abc.abstractmethod\n",
      "    def is_my_module(module):\n",
      "        pass\n",
      "\n",
      "    @staticmethod\n",
      "    @abc.abstractmethod\n",
      "    def wrap(module):\n",
      "        return module\n",
      "\n",
      "    @staticmethod\n",
      "    def wrap_params(variables):\n",
      "        return freeze({\"params\": variables})\n",
      "\n",
      "    @staticmethod\n",
      "    @abc.abstractmethod\n",
      "    def unwrap_params(wrapped_variables):\n",
      "        return wrapped_variables\n",
      "\n",
      "\n",
      "registered_frameworks = []\n",
      "\n",
      "\n",
      "def framework(clz):\n",
      "    \"\"\"\n",
      "    Registers a framework and it's wrapper methods to make it\n",
      "    behave like a flax framework.\n",
      "    \"\"\"\n",
      "    clz = dataclasses.dataclass(frozen=True)(clz)\n",
      "    registered_frameworks.append(clz)\n",
      "    return clz\n",
      "\n",
      "\n",
      "@dataclasses.dataclass(frozen=True)\n",
      "class UnknownFramework(ModuleFramework):\n",
      "    name: str = \"Unknown\"\n",
      "\n",
      "    @staticmethod\n",
      "    def is_loaded() -> bool:\n",
      "        return True\n",
      "\n",
      "    @staticmethod\n",
      "    def is_my_module(module):\n",
      "        return False\n",
      "\n",
      "    @staticmethod\n",
      "    def wrap(module):\n",
      "        return module\n",
      "\n",
      "    @staticmethod\n",
      "    def unwrap_params(wrapped_variables):\n",
      "        return wrapped_variables\n",
      "\n",
      "\n",
      "def identify_framework(module):\n",
      "    for _framework in registered_frameworks:\n",
      "        if _framework.is_my_module(module):\n",
      "            return _framework\n",
      "\n",
      "    return UnknownFramework\n",
      "\n",
      "\n",
      "def maybe_wrap_module(module):\n",
      "    \"\"\"\n",
      "    Passing a module from an unknown framework (might be user defined module, a jax\n",
      "    module, flax or haiku or anything else really), attempt to identify what is the\n",
      "    package/framework it comes from, and if so it correctly wraps it in order to\n",
      "    make it behave like a flax module (our default).\n",
      "\n",
      "    Also returns a function used to unpack the parameters once we are done.\n",
      "    \"\"\"\n",
      "    framewrk = identify_framework(module)\n",
      "\n",
      "    return framewrk, framewrk.wrap(module)\n"
     ]
    },
    {
     "name": "stderr",
     "output_type": "stream",
     "text": [
      "C:\\Users\\kdeep\\anaconda3\\Lib\\site-packages\\xgboost\\core.py:158: UserWarning: [09:33:11] WARNING: C:\\buildkite-agent\\builds\\buildkite-windows-cpu-autoscaling-group-i-0015a694724fa8361-1\\xgboost\\xgboost-ci-windows\\src\\learner.cc:740: \n",
      "Parameters: { \"use_label_encoder\" } are not used.\n",
      "\n",
      "  warnings.warn(smsg, UserWarning)\n"
     ]
    },
    {
     "name": "stdout",
     "output_type": "stream",
     "text": [
      "Precision: 0.75, Recall: 0.6, Accuracy: 0.7\n"
     ]
    },
    {
     "name": "stderr",
     "output_type": "stream",
     "text": [
      "C:\\Users\\kdeep\\anaconda3\\Lib\\site-packages\\xgboost\\core.py:158: UserWarning: [09:33:11] WARNING: C:\\buildkite-agent\\builds\\buildkite-windows-cpu-autoscaling-group-i-0015a694724fa8361-1\\xgboost\\xgboost-ci-windows\\src\\learner.cc:740: \n",
      "Parameters: { \"use_label_encoder\" } are not used.\n",
      "\n",
      "  warnings.warn(smsg, UserWarning)\n"
     ]
    },
    {
     "name": "stdout",
     "output_type": "stream",
     "text": [
      "Precision: 0.8, Recall: 0.8, Accuracy: 0.8\n"
     ]
    },
    {
     "name": "stderr",
     "output_type": "stream",
     "text": [
      "C:\\Users\\kdeep\\anaconda3\\Lib\\site-packages\\xgboost\\core.py:158: UserWarning: [09:33:11] WARNING: C:\\buildkite-agent\\builds\\buildkite-windows-cpu-autoscaling-group-i-0015a694724fa8361-1\\xgboost\\xgboost-ci-windows\\src\\learner.cc:740: \n",
      "Parameters: { \"use_label_encoder\" } are not used.\n",
      "\n",
      "  warnings.warn(smsg, UserWarning)\n"
     ]
    },
    {
     "name": "stdout",
     "output_type": "stream",
     "text": [
      "Precision: 1.0, Recall: 1.0, Accuracy: 1.0\n"
     ]
    },
    {
     "name": "stderr",
     "output_type": "stream",
     "text": [
      "C:\\Users\\kdeep\\anaconda3\\Lib\\site-packages\\xgboost\\core.py:158: UserWarning: [09:33:12] WARNING: C:\\buildkite-agent\\builds\\buildkite-windows-cpu-autoscaling-group-i-0015a694724fa8361-1\\xgboost\\xgboost-ci-windows\\src\\learner.cc:740: \n",
      "Parameters: { \"use_label_encoder\" } are not used.\n",
      "\n",
      "  warnings.warn(smsg, UserWarning)\n"
     ]
    },
    {
     "name": "stdout",
     "output_type": "stream",
     "text": [
      "Precision: 0.75, Recall: 0.6, Accuracy: 0.7\n"
     ]
    },
    {
     "name": "stderr",
     "output_type": "stream",
     "text": [
      "C:\\Users\\kdeep\\anaconda3\\Lib\\site-packages\\xgboost\\core.py:158: UserWarning: [09:33:12] WARNING: C:\\buildkite-agent\\builds\\buildkite-windows-cpu-autoscaling-group-i-0015a694724fa8361-1\\xgboost\\xgboost-ci-windows\\src\\learner.cc:740: \n",
      "Parameters: { \"use_label_encoder\" } are not used.\n",
      "\n",
      "  warnings.warn(smsg, UserWarning)\n"
     ]
    },
    {
     "name": "stdout",
     "output_type": "stream",
     "text": [
      "Precision: 0.75, Recall: 0.6, Accuracy: 0.6666666666666666\n"
     ]
    },
    {
     "name": "stderr",
     "output_type": "stream",
     "text": [
      "C:\\Users\\kdeep\\anaconda3\\Lib\\site-packages\\xgboost\\core.py:158: UserWarning: [09:33:12] WARNING: C:\\buildkite-agent\\builds\\buildkite-windows-cpu-autoscaling-group-i-0015a694724fa8361-1\\xgboost\\xgboost-ci-windows\\src\\learner.cc:740: \n",
      "Parameters: { \"use_label_encoder\" } are not used.\n",
      "\n",
      "  warnings.warn(smsg, UserWarning)\n"
     ]
    },
    {
     "name": "stdout",
     "output_type": "stream",
     "text": [
      "Precision: 0.5714285714285714, Recall: 0.8, Accuracy: 0.5555555555555556\n"
     ]
    },
    {
     "name": "stderr",
     "output_type": "stream",
     "text": [
      "C:\\Users\\kdeep\\anaconda3\\Lib\\site-packages\\xgboost\\core.py:158: UserWarning: [09:33:12] WARNING: C:\\buildkite-agent\\builds\\buildkite-windows-cpu-autoscaling-group-i-0015a694724fa8361-1\\xgboost\\xgboost-ci-windows\\src\\learner.cc:740: \n",
      "Parameters: { \"use_label_encoder\" } are not used.\n",
      "\n",
      "  warnings.warn(smsg, UserWarning)\n"
     ]
    },
    {
     "name": "stdout",
     "output_type": "stream",
     "text": [
      "Precision: 0.75, Recall: 0.6, Accuracy: 0.6666666666666666\n"
     ]
    },
    {
     "name": "stderr",
     "output_type": "stream",
     "text": [
      "C:\\Users\\kdeep\\anaconda3\\Lib\\site-packages\\xgboost\\core.py:158: UserWarning: [09:33:13] WARNING: C:\\buildkite-agent\\builds\\buildkite-windows-cpu-autoscaling-group-i-0015a694724fa8361-1\\xgboost\\xgboost-ci-windows\\src\\learner.cc:740: \n",
      "Parameters: { \"use_label_encoder\" } are not used.\n",
      "\n",
      "  warnings.warn(smsg, UserWarning)\n"
     ]
    },
    {
     "name": "stdout",
     "output_type": "stream",
     "text": [
      "Precision: 0.8, Recall: 1.0, Accuracy: 0.8888888888888888\n",
      "Precision: 1.0, Recall: 0.75, Accuracy: 0.8888888888888888\n"
     ]
    },
    {
     "name": "stderr",
     "output_type": "stream",
     "text": [
      "C:\\Users\\kdeep\\anaconda3\\Lib\\site-packages\\xgboost\\core.py:158: UserWarning: [09:33:13] WARNING: C:\\buildkite-agent\\builds\\buildkite-windows-cpu-autoscaling-group-i-0015a694724fa8361-1\\xgboost\\xgboost-ci-windows\\src\\learner.cc:740: \n",
      "Parameters: { \"use_label_encoder\" } are not used.\n",
      "\n",
      "  warnings.warn(smsg, UserWarning)\n",
      "C:\\Users\\kdeep\\anaconda3\\Lib\\site-packages\\xgboost\\core.py:158: UserWarning: [09:33:13] WARNING: C:\\buildkite-agent\\builds\\buildkite-windows-cpu-autoscaling-group-i-0015a694724fa8361-1\\xgboost\\xgboost-ci-windows\\src\\learner.cc:740: \n",
      "Parameters: { \"use_label_encoder\" } are not used.\n",
      "\n",
      "  warnings.warn(smsg, UserWarning)\n"
     ]
    },
    {
     "name": "stdout",
     "output_type": "stream",
     "text": [
      "Precision: 0.5714285714285714, Recall: 1.0, Accuracy: 0.6666666666666666\n",
      "Results to be written: eta=0.1, depth=3, dim=200, eps=0.3, (42.3, 42.3, 4.7, 4.7, 0.7742857142857142, 0.775, 0.7533333333333334, 151008, 0.7684364000102504, 0.005763250183078503)\n",
      "eta=0.1, depth=3, dim=200, eps=0.5\n",
      "Number of flaky documents: 47\n",
      "Number of non-flaky documents: 47\n",
      "Total number of documents: 94\n",
      "Sample document: # Copyright 2021 The NetKet Authors - All rights reserved.\n",
      "#\n",
      "# Licensed under the Apache License, Version 2.0 (the \"License\");\n",
      "# you may not use this file except in compliance with the License.\n",
      "# You may obtain a copy of the License at\n",
      "#\n",
      "#    http://www.apache.org/licenses/LICENSE-2.0\n",
      "#\n",
      "# Unless required by applicable law or agreed to in writing, software\n",
      "# distributed under the License is distributed on an \"AS IS\" BASIS,\n",
      "# WITHOUT WARRANTIES OR CONDITIONS OF ANY KIND, either express or implied.\n",
      "# See the License for the specific language governing permissions and\n",
      "# limitations under the License.\n",
      "\n",
      "import dataclasses\n",
      "import abc\n",
      "\n",
      "from flax.core import freeze\n",
      "\n",
      "\n",
      "@dataclasses.dataclass(frozen=True)\n",
      "class ModuleFramework(abc.ABC):\n",
      "    @staticmethod\n",
      "    @abc.abstractmethod\n",
      "    def is_loaded() -> bool:\n",
      "        pass\n",
      "\n",
      "    @staticmethod\n",
      "    @abc.abstractmethod\n",
      "    def is_my_module(module):\n",
      "        pass\n",
      "\n",
      "    @staticmethod\n",
      "    @abc.abstractmethod\n",
      "    def wrap(module):\n",
      "        return module\n",
      "\n",
      "    @staticmethod\n",
      "    def wrap_params(variables):\n",
      "        return freeze({\"params\": variables})\n",
      "\n",
      "    @staticmethod\n",
      "    @abc.abstractmethod\n",
      "    def unwrap_params(wrapped_variables):\n",
      "        return wrapped_variables\n",
      "\n",
      "\n",
      "registered_frameworks = []\n",
      "\n",
      "\n",
      "def framework(clz):\n",
      "    \"\"\"\n",
      "    Registers a framework and it's wrapper methods to make it\n",
      "    behave like a flax framework.\n",
      "    \"\"\"\n",
      "    clz = dataclasses.dataclass(frozen=True)(clz)\n",
      "    registered_frameworks.append(clz)\n",
      "    return clz\n",
      "\n",
      "\n",
      "@dataclasses.dataclass(frozen=True)\n",
      "class UnknownFramework(ModuleFramework):\n",
      "    name: str = \"Unknown\"\n",
      "\n",
      "    @staticmethod\n",
      "    def is_loaded() -> bool:\n",
      "        return True\n",
      "\n",
      "    @staticmethod\n",
      "    def is_my_module(module):\n",
      "        return False\n",
      "\n",
      "    @staticmethod\n",
      "    def wrap(module):\n",
      "        return module\n",
      "\n",
      "    @staticmethod\n",
      "    def unwrap_params(wrapped_variables):\n",
      "        return wrapped_variables\n",
      "\n",
      "\n",
      "def identify_framework(module):\n",
      "    for _framework in registered_frameworks:\n",
      "        if _framework.is_my_module(module):\n",
      "            return _framework\n",
      "\n",
      "    return UnknownFramework\n",
      "\n",
      "\n",
      "def maybe_wrap_module(module):\n",
      "    \"\"\"\n",
      "    Passing a module from an unknown framework (might be user defined module, a jax\n",
      "    module, flax or haiku or anything else really), attempt to identify what is the\n",
      "    package/framework it comes from, and if so it correctly wraps it in order to\n",
      "    make it behave like a flax module (our default).\n",
      "\n",
      "    Also returns a function used to unpack the parameters once we are done.\n",
      "    \"\"\"\n",
      "    framewrk = identify_framework(module)\n",
      "\n",
      "    return framewrk, framewrk.wrap(module)\n"
     ]
    },
    {
     "name": "stderr",
     "output_type": "stream",
     "text": [
      "C:\\Users\\kdeep\\anaconda3\\Lib\\site-packages\\xgboost\\core.py:158: UserWarning: [09:33:14] WARNING: C:\\buildkite-agent\\builds\\buildkite-windows-cpu-autoscaling-group-i-0015a694724fa8361-1\\xgboost\\xgboost-ci-windows\\src\\learner.cc:740: \n",
      "Parameters: { \"use_label_encoder\" } are not used.\n",
      "\n",
      "  warnings.warn(smsg, UserWarning)\n"
     ]
    },
    {
     "name": "stdout",
     "output_type": "stream",
     "text": [
      "Precision: 0.75, Recall: 0.6, Accuracy: 0.7\n"
     ]
    },
    {
     "name": "stderr",
     "output_type": "stream",
     "text": [
      "C:\\Users\\kdeep\\anaconda3\\Lib\\site-packages\\xgboost\\core.py:158: UserWarning: [09:33:15] WARNING: C:\\buildkite-agent\\builds\\buildkite-windows-cpu-autoscaling-group-i-0015a694724fa8361-1\\xgboost\\xgboost-ci-windows\\src\\learner.cc:740: \n",
      "Parameters: { \"use_label_encoder\" } are not used.\n",
      "\n",
      "  warnings.warn(smsg, UserWarning)\n"
     ]
    },
    {
     "name": "stdout",
     "output_type": "stream",
     "text": [
      "Precision: 0.8, Recall: 0.8, Accuracy: 0.8\n"
     ]
    },
    {
     "name": "stderr",
     "output_type": "stream",
     "text": [
      "C:\\Users\\kdeep\\anaconda3\\Lib\\site-packages\\xgboost\\core.py:158: UserWarning: [09:33:15] WARNING: C:\\buildkite-agent\\builds\\buildkite-windows-cpu-autoscaling-group-i-0015a694724fa8361-1\\xgboost\\xgboost-ci-windows\\src\\learner.cc:740: \n",
      "Parameters: { \"use_label_encoder\" } are not used.\n",
      "\n",
      "  warnings.warn(smsg, UserWarning)\n"
     ]
    },
    {
     "name": "stdout",
     "output_type": "stream",
     "text": [
      "Precision: 1.0, Recall: 0.6, Accuracy: 0.8\n"
     ]
    },
    {
     "name": "stderr",
     "output_type": "stream",
     "text": [
      "C:\\Users\\kdeep\\anaconda3\\Lib\\site-packages\\xgboost\\core.py:158: UserWarning: [09:33:15] WARNING: C:\\buildkite-agent\\builds\\buildkite-windows-cpu-autoscaling-group-i-0015a694724fa8361-1\\xgboost\\xgboost-ci-windows\\src\\learner.cc:740: \n",
      "Parameters: { \"use_label_encoder\" } are not used.\n",
      "\n",
      "  warnings.warn(smsg, UserWarning)\n"
     ]
    },
    {
     "name": "stdout",
     "output_type": "stream",
     "text": [
      "Precision: 0.6, Recall: 0.6, Accuracy: 0.6\n"
     ]
    },
    {
     "name": "stderr",
     "output_type": "stream",
     "text": [
      "C:\\Users\\kdeep\\anaconda3\\Lib\\site-packages\\xgboost\\core.py:158: UserWarning: [09:33:16] WARNING: C:\\buildkite-agent\\builds\\buildkite-windows-cpu-autoscaling-group-i-0015a694724fa8361-1\\xgboost\\xgboost-ci-windows\\src\\learner.cc:740: \n",
      "Parameters: { \"use_label_encoder\" } are not used.\n",
      "\n",
      "  warnings.warn(smsg, UserWarning)\n"
     ]
    },
    {
     "name": "stdout",
     "output_type": "stream",
     "text": [
      "Precision: 1.0, Recall: 0.6, Accuracy: 0.7777777777777778\n"
     ]
    },
    {
     "name": "stderr",
     "output_type": "stream",
     "text": [
      "C:\\Users\\kdeep\\anaconda3\\Lib\\site-packages\\xgboost\\core.py:158: UserWarning: [09:33:16] WARNING: C:\\buildkite-agent\\builds\\buildkite-windows-cpu-autoscaling-group-i-0015a694724fa8361-1\\xgboost\\xgboost-ci-windows\\src\\learner.cc:740: \n",
      "Parameters: { \"use_label_encoder\" } are not used.\n",
      "\n",
      "  warnings.warn(smsg, UserWarning)\n"
     ]
    },
    {
     "name": "stdout",
     "output_type": "stream",
     "text": [
      "Precision: 0.5, Recall: 0.4, Accuracy: 0.4444444444444444\n"
     ]
    },
    {
     "name": "stderr",
     "output_type": "stream",
     "text": [
      "C:\\Users\\kdeep\\anaconda3\\Lib\\site-packages\\xgboost\\core.py:158: UserWarning: [09:33:16] WARNING: C:\\buildkite-agent\\builds\\buildkite-windows-cpu-autoscaling-group-i-0015a694724fa8361-1\\xgboost\\xgboost-ci-windows\\src\\learner.cc:740: \n",
      "Parameters: { \"use_label_encoder\" } are not used.\n",
      "\n",
      "  warnings.warn(smsg, UserWarning)\n"
     ]
    },
    {
     "name": "stdout",
     "output_type": "stream",
     "text": [
      "Precision: 0.5714285714285714, Recall: 0.8, Accuracy: 0.5555555555555556\n"
     ]
    },
    {
     "name": "stderr",
     "output_type": "stream",
     "text": [
      "C:\\Users\\kdeep\\anaconda3\\Lib\\site-packages\\xgboost\\core.py:158: UserWarning: [09:33:17] WARNING: C:\\buildkite-agent\\builds\\buildkite-windows-cpu-autoscaling-group-i-0015a694724fa8361-1\\xgboost\\xgboost-ci-windows\\src\\learner.cc:740: \n",
      "Parameters: { \"use_label_encoder\" } are not used.\n",
      "\n",
      "  warnings.warn(smsg, UserWarning)\n"
     ]
    },
    {
     "name": "stdout",
     "output_type": "stream",
     "text": [
      "Precision: 0.8, Recall: 1.0, Accuracy: 0.8888888888888888\n"
     ]
    },
    {
     "name": "stderr",
     "output_type": "stream",
     "text": [
      "C:\\Users\\kdeep\\anaconda3\\Lib\\site-packages\\xgboost\\core.py:158: UserWarning: [09:33:17] WARNING: C:\\buildkite-agent\\builds\\buildkite-windows-cpu-autoscaling-group-i-0015a694724fa8361-1\\xgboost\\xgboost-ci-windows\\src\\learner.cc:740: \n",
      "Parameters: { \"use_label_encoder\" } are not used.\n",
      "\n",
      "  warnings.warn(smsg, UserWarning)\n"
     ]
    },
    {
     "name": "stdout",
     "output_type": "stream",
     "text": [
      "Precision: 1.0, Recall: 0.75, Accuracy: 0.8888888888888888\n"
     ]
    },
    {
     "name": "stderr",
     "output_type": "stream",
     "text": [
      "C:\\Users\\kdeep\\anaconda3\\Lib\\site-packages\\xgboost\\core.py:158: UserWarning: [09:33:17] WARNING: C:\\buildkite-agent\\builds\\buildkite-windows-cpu-autoscaling-group-i-0015a694724fa8361-1\\xgboost\\xgboost-ci-windows\\src\\learner.cc:740: \n",
      "Parameters: { \"use_label_encoder\" } are not used.\n",
      "\n",
      "  warnings.warn(smsg, UserWarning)\n"
     ]
    },
    {
     "name": "stdout",
     "output_type": "stream",
     "text": [
      "Precision: 0.2857142857142857, Recall: 0.5, Accuracy: 0.2222222222222222\n",
      "Results to be written: eta=0.1, depth=3, dim=200, eps=0.5, (42.3, 42.3, 4.7, 4.7, 0.7307142857142856, 0.665, 0.6677777777777778, 151008, 0.8482098000240514, 0.006283557056328261)\n",
      "eta=0.1, depth=5, dim=0, eps=0.1\n",
      "Number of flaky documents: 47\n",
      "Number of non-flaky documents: 47\n",
      "Total number of documents: 94\n",
      "Sample document: # Copyright 2021 The NetKet Authors - All rights reserved.\n",
      "#\n",
      "# Licensed under the Apache License, Version 2.0 (the \"License\");\n",
      "# you may not use this file except in compliance with the License.\n",
      "# You may obtain a copy of the License at\n",
      "#\n",
      "#    http://www.apache.org/licenses/LICENSE-2.0\n",
      "#\n",
      "# Unless required by applicable law or agreed to in writing, software\n",
      "# distributed under the License is distributed on an \"AS IS\" BASIS,\n",
      "# WITHOUT WARRANTIES OR CONDITIONS OF ANY KIND, either express or implied.\n",
      "# See the License for the specific language governing permissions and\n",
      "# limitations under the License.\n",
      "\n",
      "import dataclasses\n",
      "import abc\n",
      "\n",
      "from flax.core import freeze\n",
      "\n",
      "\n",
      "@dataclasses.dataclass(frozen=True)\n",
      "class ModuleFramework(abc.ABC):\n",
      "    @staticmethod\n",
      "    @abc.abstractmethod\n",
      "    def is_loaded() -> bool:\n",
      "        pass\n",
      "\n",
      "    @staticmethod\n",
      "    @abc.abstractmethod\n",
      "    def is_my_module(module):\n",
      "        pass\n",
      "\n",
      "    @staticmethod\n",
      "    @abc.abstractmethod\n",
      "    def wrap(module):\n",
      "        return module\n",
      "\n",
      "    @staticmethod\n",
      "    def wrap_params(variables):\n",
      "        return freeze({\"params\": variables})\n",
      "\n",
      "    @staticmethod\n",
      "    @abc.abstractmethod\n",
      "    def unwrap_params(wrapped_variables):\n",
      "        return wrapped_variables\n",
      "\n",
      "\n",
      "registered_frameworks = []\n",
      "\n",
      "\n",
      "def framework(clz):\n",
      "    \"\"\"\n",
      "    Registers a framework and it's wrapper methods to make it\n",
      "    behave like a flax framework.\n",
      "    \"\"\"\n",
      "    clz = dataclasses.dataclass(frozen=True)(clz)\n",
      "    registered_frameworks.append(clz)\n",
      "    return clz\n",
      "\n",
      "\n",
      "@dataclasses.dataclass(frozen=True)\n",
      "class UnknownFramework(ModuleFramework):\n",
      "    name: str = \"Unknown\"\n",
      "\n",
      "    @staticmethod\n",
      "    def is_loaded() -> bool:\n",
      "        return True\n",
      "\n",
      "    @staticmethod\n",
      "    def is_my_module(module):\n",
      "        return False\n",
      "\n",
      "    @staticmethod\n",
      "    def wrap(module):\n",
      "        return module\n",
      "\n",
      "    @staticmethod\n",
      "    def unwrap_params(wrapped_variables):\n",
      "        return wrapped_variables\n",
      "\n",
      "\n",
      "def identify_framework(module):\n",
      "    for _framework in registered_frameworks:\n",
      "        if _framework.is_my_module(module):\n",
      "            return _framework\n",
      "\n",
      "    return UnknownFramework\n",
      "\n",
      "\n",
      "def maybe_wrap_module(module):\n",
      "    \"\"\"\n",
      "    Passing a module from an unknown framework (might be user defined module, a jax\n",
      "    module, flax or haiku or anything else really), attempt to identify what is the\n",
      "    package/framework it comes from, and if so it correctly wraps it in order to\n",
      "    make it behave like a flax module (our default).\n",
      "\n",
      "    Also returns a function used to unpack the parameters once we are done.\n",
      "    \"\"\"\n",
      "    framewrk = identify_framework(module)\n",
      "\n",
      "    return framewrk, framewrk.wrap(module)\n"
     ]
    },
    {
     "name": "stderr",
     "output_type": "stream",
     "text": [
      "C:\\Users\\kdeep\\anaconda3\\Lib\\site-packages\\xgboost\\core.py:158: UserWarning: [09:33:21] WARNING: C:\\buildkite-agent\\builds\\buildkite-windows-cpu-autoscaling-group-i-0015a694724fa8361-1\\xgboost\\xgboost-ci-windows\\src\\learner.cc:740: \n",
      "Parameters: { \"use_label_encoder\" } are not used.\n",
      "\n",
      "  warnings.warn(smsg, UserWarning)\n"
     ]
    },
    {
     "name": "stdout",
     "output_type": "stream",
     "text": [
      "Precision: 0.6666666666666666, Recall: 0.4, Accuracy: 0.6\n"
     ]
    },
    {
     "name": "stderr",
     "output_type": "stream",
     "text": [
      "C:\\Users\\kdeep\\anaconda3\\Lib\\site-packages\\xgboost\\core.py:158: UserWarning: [09:33:23] WARNING: C:\\buildkite-agent\\builds\\buildkite-windows-cpu-autoscaling-group-i-0015a694724fa8361-1\\xgboost\\xgboost-ci-windows\\src\\learner.cc:740: \n",
      "Parameters: { \"use_label_encoder\" } are not used.\n",
      "\n",
      "  warnings.warn(smsg, UserWarning)\n"
     ]
    },
    {
     "name": "stdout",
     "output_type": "stream",
     "text": [
      "Precision: 1.0, Recall: 0.6, Accuracy: 0.8\n"
     ]
    },
    {
     "name": "stderr",
     "output_type": "stream",
     "text": [
      "C:\\Users\\kdeep\\anaconda3\\Lib\\site-packages\\xgboost\\core.py:158: UserWarning: [09:33:26] WARNING: C:\\buildkite-agent\\builds\\buildkite-windows-cpu-autoscaling-group-i-0015a694724fa8361-1\\xgboost\\xgboost-ci-windows\\src\\learner.cc:740: \n",
      "Parameters: { \"use_label_encoder\" } are not used.\n",
      "\n",
      "  warnings.warn(smsg, UserWarning)\n"
     ]
    },
    {
     "name": "stdout",
     "output_type": "stream",
     "text": [
      "Precision: 1.0, Recall: 1.0, Accuracy: 1.0\n"
     ]
    },
    {
     "name": "stderr",
     "output_type": "stream",
     "text": [
      "C:\\Users\\kdeep\\anaconda3\\Lib\\site-packages\\xgboost\\core.py:158: UserWarning: [09:33:28] WARNING: C:\\buildkite-agent\\builds\\buildkite-windows-cpu-autoscaling-group-i-0015a694724fa8361-1\\xgboost\\xgboost-ci-windows\\src\\learner.cc:740: \n",
      "Parameters: { \"use_label_encoder\" } are not used.\n",
      "\n",
      "  warnings.warn(smsg, UserWarning)\n"
     ]
    },
    {
     "name": "stdout",
     "output_type": "stream",
     "text": [
      "Precision: 0.8, Recall: 0.8, Accuracy: 0.8\n"
     ]
    },
    {
     "name": "stderr",
     "output_type": "stream",
     "text": [
      "C:\\Users\\kdeep\\anaconda3\\Lib\\site-packages\\xgboost\\core.py:158: UserWarning: [09:33:30] WARNING: C:\\buildkite-agent\\builds\\buildkite-windows-cpu-autoscaling-group-i-0015a694724fa8361-1\\xgboost\\xgboost-ci-windows\\src\\learner.cc:740: \n",
      "Parameters: { \"use_label_encoder\" } are not used.\n",
      "\n",
      "  warnings.warn(smsg, UserWarning)\n"
     ]
    },
    {
     "name": "stdout",
     "output_type": "stream",
     "text": [
      "Precision: 1.0, Recall: 0.6, Accuracy: 0.7777777777777778\n"
     ]
    },
    {
     "name": "stderr",
     "output_type": "stream",
     "text": [
      "C:\\Users\\kdeep\\anaconda3\\Lib\\site-packages\\xgboost\\core.py:158: UserWarning: [09:33:33] WARNING: C:\\buildkite-agent\\builds\\buildkite-windows-cpu-autoscaling-group-i-0015a694724fa8361-1\\xgboost\\xgboost-ci-windows\\src\\learner.cc:740: \n",
      "Parameters: { \"use_label_encoder\" } are not used.\n",
      "\n",
      "  warnings.warn(smsg, UserWarning)\n"
     ]
    },
    {
     "name": "stdout",
     "output_type": "stream",
     "text": [
      "Precision: 0.5, Recall: 0.8, Accuracy: 0.4444444444444444\n"
     ]
    },
    {
     "name": "stderr",
     "output_type": "stream",
     "text": [
      "C:\\Users\\kdeep\\anaconda3\\Lib\\site-packages\\xgboost\\core.py:158: UserWarning: [09:33:34] WARNING: C:\\buildkite-agent\\builds\\buildkite-windows-cpu-autoscaling-group-i-0015a694724fa8361-1\\xgboost\\xgboost-ci-windows\\src\\learner.cc:740: \n",
      "Parameters: { \"use_label_encoder\" } are not used.\n",
      "\n",
      "  warnings.warn(smsg, UserWarning)\n"
     ]
    },
    {
     "name": "stdout",
     "output_type": "stream",
     "text": [
      "Precision: 0.8, Recall: 0.8, Accuracy: 0.7777777777777778\n"
     ]
    },
    {
     "name": "stderr",
     "output_type": "stream",
     "text": [
      "C:\\Users\\kdeep\\anaconda3\\Lib\\site-packages\\xgboost\\core.py:158: UserWarning: [09:33:37] WARNING: C:\\buildkite-agent\\builds\\buildkite-windows-cpu-autoscaling-group-i-0015a694724fa8361-1\\xgboost\\xgboost-ci-windows\\src\\learner.cc:740: \n",
      "Parameters: { \"use_label_encoder\" } are not used.\n",
      "\n",
      "  warnings.warn(smsg, UserWarning)\n"
     ]
    },
    {
     "name": "stdout",
     "output_type": "stream",
     "text": [
      "Precision: 0.8, Recall: 1.0, Accuracy: 0.8888888888888888\n"
     ]
    },
    {
     "name": "stderr",
     "output_type": "stream",
     "text": [
      "C:\\Users\\kdeep\\anaconda3\\Lib\\site-packages\\xgboost\\core.py:158: UserWarning: [09:33:39] WARNING: C:\\buildkite-agent\\builds\\buildkite-windows-cpu-autoscaling-group-i-0015a694724fa8361-1\\xgboost\\xgboost-ci-windows\\src\\learner.cc:740: \n",
      "Parameters: { \"use_label_encoder\" } are not used.\n",
      "\n",
      "  warnings.warn(smsg, UserWarning)\n"
     ]
    },
    {
     "name": "stdout",
     "output_type": "stream",
     "text": [
      "Precision: 1.0, Recall: 1.0, Accuracy: 1.0\n"
     ]
    },
    {
     "name": "stderr",
     "output_type": "stream",
     "text": [
      "C:\\Users\\kdeep\\anaconda3\\Lib\\site-packages\\xgboost\\core.py:158: UserWarning: [09:33:41] WARNING: C:\\buildkite-agent\\builds\\buildkite-windows-cpu-autoscaling-group-i-0015a694724fa8361-1\\xgboost\\xgboost-ci-windows\\src\\learner.cc:740: \n",
      "Parameters: { \"use_label_encoder\" } are not used.\n",
      "\n",
      "  warnings.warn(smsg, UserWarning)\n"
     ]
    },
    {
     "name": "stdout",
     "output_type": "stream",
     "text": [
      "Precision: 0.4, Recall: 0.5, Accuracy: 0.4444444444444444\n",
      "Results to be written: eta=0.1, depth=5, dim=0, eps=0.1, (42.3, 42.3, 4.7, 4.7, 0.7966666666666666, 0.75, 0.7533333333333333, 2928897, 4.864219249994494, 0.031593724780297115)\n",
      "eta=0.1, depth=5, dim=0, eps=0.3\n",
      "Number of flaky documents: 47\n",
      "Number of non-flaky documents: 47\n",
      "Total number of documents: 94\n",
      "Sample document: # Copyright 2021 The NetKet Authors - All rights reserved.\n",
      "#\n",
      "# Licensed under the Apache License, Version 2.0 (the \"License\");\n",
      "# you may not use this file except in compliance with the License.\n",
      "# You may obtain a copy of the License at\n",
      "#\n",
      "#    http://www.apache.org/licenses/LICENSE-2.0\n",
      "#\n",
      "# Unless required by applicable law or agreed to in writing, software\n",
      "# distributed under the License is distributed on an \"AS IS\" BASIS,\n",
      "# WITHOUT WARRANTIES OR CONDITIONS OF ANY KIND, either express or implied.\n",
      "# See the License for the specific language governing permissions and\n",
      "# limitations under the License.\n",
      "\n",
      "import dataclasses\n",
      "import abc\n",
      "\n",
      "from flax.core import freeze\n",
      "\n",
      "\n",
      "@dataclasses.dataclass(frozen=True)\n",
      "class ModuleFramework(abc.ABC):\n",
      "    @staticmethod\n",
      "    @abc.abstractmethod\n",
      "    def is_loaded() -> bool:\n",
      "        pass\n",
      "\n",
      "    @staticmethod\n",
      "    @abc.abstractmethod\n",
      "    def is_my_module(module):\n",
      "        pass\n",
      "\n",
      "    @staticmethod\n",
      "    @abc.abstractmethod\n",
      "    def wrap(module):\n",
      "        return module\n",
      "\n",
      "    @staticmethod\n",
      "    def wrap_params(variables):\n",
      "        return freeze({\"params\": variables})\n",
      "\n",
      "    @staticmethod\n",
      "    @abc.abstractmethod\n",
      "    def unwrap_params(wrapped_variables):\n",
      "        return wrapped_variables\n",
      "\n",
      "\n",
      "registered_frameworks = []\n",
      "\n",
      "\n",
      "def framework(clz):\n",
      "    \"\"\"\n",
      "    Registers a framework and it's wrapper methods to make it\n",
      "    behave like a flax framework.\n",
      "    \"\"\"\n",
      "    clz = dataclasses.dataclass(frozen=True)(clz)\n",
      "    registered_frameworks.append(clz)\n",
      "    return clz\n",
      "\n",
      "\n",
      "@dataclasses.dataclass(frozen=True)\n",
      "class UnknownFramework(ModuleFramework):\n",
      "    name: str = \"Unknown\"\n",
      "\n",
      "    @staticmethod\n",
      "    def is_loaded() -> bool:\n",
      "        return True\n",
      "\n",
      "    @staticmethod\n",
      "    def is_my_module(module):\n",
      "        return False\n",
      "\n",
      "    @staticmethod\n",
      "    def wrap(module):\n",
      "        return module\n",
      "\n",
      "    @staticmethod\n",
      "    def unwrap_params(wrapped_variables):\n",
      "        return wrapped_variables\n",
      "\n",
      "\n",
      "def identify_framework(module):\n",
      "    for _framework in registered_frameworks:\n",
      "        if _framework.is_my_module(module):\n",
      "            return _framework\n",
      "\n",
      "    return UnknownFramework\n",
      "\n",
      "\n",
      "def maybe_wrap_module(module):\n",
      "    \"\"\"\n",
      "    Passing a module from an unknown framework (might be user defined module, a jax\n",
      "    module, flax or haiku or anything else really), attempt to identify what is the\n",
      "    package/framework it comes from, and if so it correctly wraps it in order to\n",
      "    make it behave like a flax module (our default).\n",
      "\n",
      "    Also returns a function used to unpack the parameters once we are done.\n",
      "    \"\"\"\n",
      "    framewrk = identify_framework(module)\n",
      "\n",
      "    return framewrk, framewrk.wrap(module)\n"
     ]
    },
    {
     "name": "stderr",
     "output_type": "stream",
     "text": [
      "C:\\Users\\kdeep\\anaconda3\\Lib\\site-packages\\xgboost\\core.py:158: UserWarning: [09:33:44] WARNING: C:\\buildkite-agent\\builds\\buildkite-windows-cpu-autoscaling-group-i-0015a694724fa8361-1\\xgboost\\xgboost-ci-windows\\src\\learner.cc:740: \n",
      "Parameters: { \"use_label_encoder\" } are not used.\n",
      "\n",
      "  warnings.warn(smsg, UserWarning)\n"
     ]
    },
    {
     "name": "stdout",
     "output_type": "stream",
     "text": [
      "Precision: 0.5, Recall: 0.2, Accuracy: 0.5\n"
     ]
    },
    {
     "name": "stderr",
     "output_type": "stream",
     "text": [
      "C:\\Users\\kdeep\\anaconda3\\Lib\\site-packages\\xgboost\\core.py:158: UserWarning: [09:33:45] WARNING: C:\\buildkite-agent\\builds\\buildkite-windows-cpu-autoscaling-group-i-0015a694724fa8361-1\\xgboost\\xgboost-ci-windows\\src\\learner.cc:740: \n",
      "Parameters: { \"use_label_encoder\" } are not used.\n",
      "\n",
      "  warnings.warn(smsg, UserWarning)\n"
     ]
    },
    {
     "name": "stdout",
     "output_type": "stream",
     "text": [
      "Precision: 0.75, Recall: 0.6, Accuracy: 0.7\n"
     ]
    },
    {
     "name": "stderr",
     "output_type": "stream",
     "text": [
      "C:\\Users\\kdeep\\anaconda3\\Lib\\site-packages\\xgboost\\core.py:158: UserWarning: [09:33:45] WARNING: C:\\buildkite-agent\\builds\\buildkite-windows-cpu-autoscaling-group-i-0015a694724fa8361-1\\xgboost\\xgboost-ci-windows\\src\\learner.cc:740: \n",
      "Parameters: { \"use_label_encoder\" } are not used.\n",
      "\n",
      "  warnings.warn(smsg, UserWarning)\n"
     ]
    },
    {
     "name": "stdout",
     "output_type": "stream",
     "text": [
      "Precision: 0.8, Recall: 0.8, Accuracy: 0.8\n"
     ]
    },
    {
     "name": "stderr",
     "output_type": "stream",
     "text": [
      "C:\\Users\\kdeep\\anaconda3\\Lib\\site-packages\\xgboost\\core.py:158: UserWarning: [09:33:46] WARNING: C:\\buildkite-agent\\builds\\buildkite-windows-cpu-autoscaling-group-i-0015a694724fa8361-1\\xgboost\\xgboost-ci-windows\\src\\learner.cc:740: \n",
      "Parameters: { \"use_label_encoder\" } are not used.\n",
      "\n",
      "  warnings.warn(smsg, UserWarning)\n"
     ]
    },
    {
     "name": "stdout",
     "output_type": "stream",
     "text": [
      "Precision: 0.75, Recall: 0.6, Accuracy: 0.7\n"
     ]
    },
    {
     "name": "stderr",
     "output_type": "stream",
     "text": [
      "C:\\Users\\kdeep\\anaconda3\\Lib\\site-packages\\xgboost\\core.py:158: UserWarning: [09:33:46] WARNING: C:\\buildkite-agent\\builds\\buildkite-windows-cpu-autoscaling-group-i-0015a694724fa8361-1\\xgboost\\xgboost-ci-windows\\src\\learner.cc:740: \n",
      "Parameters: { \"use_label_encoder\" } are not used.\n",
      "\n",
      "  warnings.warn(smsg, UserWarning)\n"
     ]
    },
    {
     "name": "stdout",
     "output_type": "stream",
     "text": [
      "Precision: 0.75, Recall: 0.6, Accuracy: 0.6666666666666666\n"
     ]
    },
    {
     "name": "stderr",
     "output_type": "stream",
     "text": [
      "C:\\Users\\kdeep\\anaconda3\\Lib\\site-packages\\xgboost\\core.py:158: UserWarning: [09:33:47] WARNING: C:\\buildkite-agent\\builds\\buildkite-windows-cpu-autoscaling-group-i-0015a694724fa8361-1\\xgboost\\xgboost-ci-windows\\src\\learner.cc:740: \n",
      "Parameters: { \"use_label_encoder\" } are not used.\n",
      "\n",
      "  warnings.warn(smsg, UserWarning)\n"
     ]
    },
    {
     "name": "stdout",
     "output_type": "stream",
     "text": [
      "Precision: 0.5714285714285714, Recall: 0.8, Accuracy: 0.5555555555555556\n"
     ]
    },
    {
     "name": "stderr",
     "output_type": "stream",
     "text": [
      "C:\\Users\\kdeep\\anaconda3\\Lib\\site-packages\\xgboost\\core.py:158: UserWarning: [09:33:47] WARNING: C:\\buildkite-agent\\builds\\buildkite-windows-cpu-autoscaling-group-i-0015a694724fa8361-1\\xgboost\\xgboost-ci-windows\\src\\learner.cc:740: \n",
      "Parameters: { \"use_label_encoder\" } are not used.\n",
      "\n",
      "  warnings.warn(smsg, UserWarning)\n"
     ]
    },
    {
     "name": "stdout",
     "output_type": "stream",
     "text": [
      "Precision: 0.5714285714285714, Recall: 0.8, Accuracy: 0.5555555555555556\n"
     ]
    },
    {
     "name": "stderr",
     "output_type": "stream",
     "text": [
      "C:\\Users\\kdeep\\anaconda3\\Lib\\site-packages\\xgboost\\core.py:158: UserWarning: [09:33:48] WARNING: C:\\buildkite-agent\\builds\\buildkite-windows-cpu-autoscaling-group-i-0015a694724fa8361-1\\xgboost\\xgboost-ci-windows\\src\\learner.cc:740: \n",
      "Parameters: { \"use_label_encoder\" } are not used.\n",
      "\n",
      "  warnings.warn(smsg, UserWarning)\n"
     ]
    },
    {
     "name": "stdout",
     "output_type": "stream",
     "text": [
      "Precision: 0.8, Recall: 1.0, Accuracy: 0.8888888888888888\n"
     ]
    },
    {
     "name": "stderr",
     "output_type": "stream",
     "text": [
      "C:\\Users\\kdeep\\anaconda3\\Lib\\site-packages\\xgboost\\core.py:158: UserWarning: [09:33:48] WARNING: C:\\buildkite-agent\\builds\\buildkite-windows-cpu-autoscaling-group-i-0015a694724fa8361-1\\xgboost\\xgboost-ci-windows\\src\\learner.cc:740: \n",
      "Parameters: { \"use_label_encoder\" } are not used.\n",
      "\n",
      "  warnings.warn(smsg, UserWarning)\n"
     ]
    },
    {
     "name": "stdout",
     "output_type": "stream",
     "text": [
      "Precision: 0.5, Recall: 0.75, Accuracy: 0.5555555555555556\n"
     ]
    },
    {
     "name": "stderr",
     "output_type": "stream",
     "text": [
      "C:\\Users\\kdeep\\anaconda3\\Lib\\site-packages\\xgboost\\core.py:158: UserWarning: [09:33:49] WARNING: C:\\buildkite-agent\\builds\\buildkite-windows-cpu-autoscaling-group-i-0015a694724fa8361-1\\xgboost\\xgboost-ci-windows\\src\\learner.cc:740: \n",
      "Parameters: { \"use_label_encoder\" } are not used.\n",
      "\n",
      "  warnings.warn(smsg, UserWarning)\n"
     ]
    },
    {
     "name": "stdout",
     "output_type": "stream",
     "text": [
      "Precision: 0.4, Recall: 0.5, Accuracy: 0.4444444444444444\n",
      "Results to be written: eta=0.1, depth=5, dim=0, eps=0.3, (42.3, 42.3, 4.7, 4.7, 0.6392857142857142, 0.665, 0.6366666666666667, 379617, 1.030159190041013, 0.006500403252515577)\n",
      "eta=0.1, depth=5, dim=0, eps=0.5\n",
      "Number of flaky documents: 47\n",
      "Number of non-flaky documents: 47\n",
      "Total number of documents: 94\n",
      "Sample document: # Copyright 2021 The NetKet Authors - All rights reserved.\n",
      "#\n",
      "# Licensed under the Apache License, Version 2.0 (the \"License\");\n",
      "# you may not use this file except in compliance with the License.\n",
      "# You may obtain a copy of the License at\n",
      "#\n",
      "#    http://www.apache.org/licenses/LICENSE-2.0\n",
      "#\n",
      "# Unless required by applicable law or agreed to in writing, software\n",
      "# distributed under the License is distributed on an \"AS IS\" BASIS,\n",
      "# WITHOUT WARRANTIES OR CONDITIONS OF ANY KIND, either express or implied.\n",
      "# See the License for the specific language governing permissions and\n",
      "# limitations under the License.\n",
      "\n",
      "import dataclasses\n",
      "import abc\n",
      "\n",
      "from flax.core import freeze\n",
      "\n",
      "\n",
      "@dataclasses.dataclass(frozen=True)\n",
      "class ModuleFramework(abc.ABC):\n",
      "    @staticmethod\n",
      "    @abc.abstractmethod\n",
      "    def is_loaded() -> bool:\n",
      "        pass\n",
      "\n",
      "    @staticmethod\n",
      "    @abc.abstractmethod\n",
      "    def is_my_module(module):\n",
      "        pass\n",
      "\n",
      "    @staticmethod\n",
      "    @abc.abstractmethod\n",
      "    def wrap(module):\n",
      "        return module\n",
      "\n",
      "    @staticmethod\n",
      "    def wrap_params(variables):\n",
      "        return freeze({\"params\": variables})\n",
      "\n",
      "    @staticmethod\n",
      "    @abc.abstractmethod\n",
      "    def unwrap_params(wrapped_variables):\n",
      "        return wrapped_variables\n",
      "\n",
      "\n",
      "registered_frameworks = []\n",
      "\n",
      "\n",
      "def framework(clz):\n",
      "    \"\"\"\n",
      "    Registers a framework and it's wrapper methods to make it\n",
      "    behave like a flax framework.\n",
      "    \"\"\"\n",
      "    clz = dataclasses.dataclass(frozen=True)(clz)\n",
      "    registered_frameworks.append(clz)\n",
      "    return clz\n",
      "\n",
      "\n",
      "@dataclasses.dataclass(frozen=True)\n",
      "class UnknownFramework(ModuleFramework):\n",
      "    name: str = \"Unknown\"\n",
      "\n",
      "    @staticmethod\n",
      "    def is_loaded() -> bool:\n",
      "        return True\n",
      "\n",
      "    @staticmethod\n",
      "    def is_my_module(module):\n",
      "        return False\n",
      "\n",
      "    @staticmethod\n",
      "    def wrap(module):\n",
      "        return module\n",
      "\n",
      "    @staticmethod\n",
      "    def unwrap_params(wrapped_variables):\n",
      "        return wrapped_variables\n",
      "\n",
      "\n",
      "def identify_framework(module):\n",
      "    for _framework in registered_frameworks:\n",
      "        if _framework.is_my_module(module):\n",
      "            return _framework\n",
      "\n",
      "    return UnknownFramework\n",
      "\n",
      "\n",
      "def maybe_wrap_module(module):\n",
      "    \"\"\"\n",
      "    Passing a module from an unknown framework (might be user defined module, a jax\n",
      "    module, flax or haiku or anything else really), attempt to identify what is the\n",
      "    package/framework it comes from, and if so it correctly wraps it in order to\n",
      "    make it behave like a flax module (our default).\n",
      "\n",
      "    Also returns a function used to unpack the parameters once we are done.\n",
      "    \"\"\"\n",
      "    framewrk = identify_framework(module)\n",
      "\n",
      "    return framewrk, framewrk.wrap(module)\n"
     ]
    },
    {
     "name": "stderr",
     "output_type": "stream",
     "text": [
      "C:\\Users\\kdeep\\anaconda3\\Lib\\site-packages\\xgboost\\core.py:158: UserWarning: [09:33:50] WARNING: C:\\buildkite-agent\\builds\\buildkite-windows-cpu-autoscaling-group-i-0015a694724fa8361-1\\xgboost\\xgboost-ci-windows\\src\\learner.cc:740: \n",
      "Parameters: { \"use_label_encoder\" } are not used.\n",
      "\n",
      "  warnings.warn(smsg, UserWarning)\n"
     ]
    },
    {
     "name": "stdout",
     "output_type": "stream",
     "text": [
      "Precision: 0.75, Recall: 0.6, Accuracy: 0.7\n"
     ]
    },
    {
     "name": "stderr",
     "output_type": "stream",
     "text": [
      "C:\\Users\\kdeep\\anaconda3\\Lib\\site-packages\\xgboost\\core.py:158: UserWarning: [09:33:50] WARNING: C:\\buildkite-agent\\builds\\buildkite-windows-cpu-autoscaling-group-i-0015a694724fa8361-1\\xgboost\\xgboost-ci-windows\\src\\learner.cc:740: \n",
      "Parameters: { \"use_label_encoder\" } are not used.\n",
      "\n",
      "  warnings.warn(smsg, UserWarning)\n"
     ]
    },
    {
     "name": "stdout",
     "output_type": "stream",
     "text": [
      "Precision: 1.0, Recall: 0.6, Accuracy: 0.8\n"
     ]
    },
    {
     "name": "stderr",
     "output_type": "stream",
     "text": [
      "C:\\Users\\kdeep\\anaconda3\\Lib\\site-packages\\xgboost\\core.py:158: UserWarning: [09:33:51] WARNING: C:\\buildkite-agent\\builds\\buildkite-windows-cpu-autoscaling-group-i-0015a694724fa8361-1\\xgboost\\xgboost-ci-windows\\src\\learner.cc:740: \n",
      "Parameters: { \"use_label_encoder\" } are not used.\n",
      "\n",
      "  warnings.warn(smsg, UserWarning)\n"
     ]
    },
    {
     "name": "stdout",
     "output_type": "stream",
     "text": [
      "Precision: 1.0, Recall: 0.8, Accuracy: 0.9\n"
     ]
    },
    {
     "name": "stderr",
     "output_type": "stream",
     "text": [
      "C:\\Users\\kdeep\\anaconda3\\Lib\\site-packages\\xgboost\\core.py:158: UserWarning: [09:33:51] WARNING: C:\\buildkite-agent\\builds\\buildkite-windows-cpu-autoscaling-group-i-0015a694724fa8361-1\\xgboost\\xgboost-ci-windows\\src\\learner.cc:740: \n",
      "Parameters: { \"use_label_encoder\" } are not used.\n",
      "\n",
      "  warnings.warn(smsg, UserWarning)\n"
     ]
    },
    {
     "name": "stdout",
     "output_type": "stream",
     "text": [
      "Precision: 0.8, Recall: 0.8, Accuracy: 0.8\n"
     ]
    },
    {
     "name": "stderr",
     "output_type": "stream",
     "text": [
      "C:\\Users\\kdeep\\anaconda3\\Lib\\site-packages\\xgboost\\core.py:158: UserWarning: [09:33:51] WARNING: C:\\buildkite-agent\\builds\\buildkite-windows-cpu-autoscaling-group-i-0015a694724fa8361-1\\xgboost\\xgboost-ci-windows\\src\\learner.cc:740: \n",
      "Parameters: { \"use_label_encoder\" } are not used.\n",
      "\n",
      "  warnings.warn(smsg, UserWarning)\n"
     ]
    },
    {
     "name": "stdout",
     "output_type": "stream",
     "text": [
      "Precision: 0.75, Recall: 0.6, Accuracy: 0.6666666666666666\n"
     ]
    },
    {
     "name": "stderr",
     "output_type": "stream",
     "text": [
      "C:\\Users\\kdeep\\anaconda3\\Lib\\site-packages\\xgboost\\core.py:158: UserWarning: [09:33:52] WARNING: C:\\buildkite-agent\\builds\\buildkite-windows-cpu-autoscaling-group-i-0015a694724fa8361-1\\xgboost\\xgboost-ci-windows\\src\\learner.cc:740: \n",
      "Parameters: { \"use_label_encoder\" } are not used.\n",
      "\n",
      "  warnings.warn(smsg, UserWarning)\n"
     ]
    },
    {
     "name": "stdout",
     "output_type": "stream",
     "text": [
      "Precision: 0.6, Recall: 0.6, Accuracy: 0.5555555555555556\n"
     ]
    },
    {
     "name": "stderr",
     "output_type": "stream",
     "text": [
      "C:\\Users\\kdeep\\anaconda3\\Lib\\site-packages\\xgboost\\core.py:158: UserWarning: [09:33:52] WARNING: C:\\buildkite-agent\\builds\\buildkite-windows-cpu-autoscaling-group-i-0015a694724fa8361-1\\xgboost\\xgboost-ci-windows\\src\\learner.cc:740: \n",
      "Parameters: { \"use_label_encoder\" } are not used.\n",
      "\n",
      "  warnings.warn(smsg, UserWarning)\n"
     ]
    },
    {
     "name": "stdout",
     "output_type": "stream",
     "text": [
      "Precision: 0.8333333333333334, Recall: 1.0, Accuracy: 0.8888888888888888\n"
     ]
    },
    {
     "name": "stderr",
     "output_type": "stream",
     "text": [
      "C:\\Users\\kdeep\\anaconda3\\Lib\\site-packages\\xgboost\\core.py:158: UserWarning: [09:33:52] WARNING: C:\\buildkite-agent\\builds\\buildkite-windows-cpu-autoscaling-group-i-0015a694724fa8361-1\\xgboost\\xgboost-ci-windows\\src\\learner.cc:740: \n",
      "Parameters: { \"use_label_encoder\" } are not used.\n",
      "\n",
      "  warnings.warn(smsg, UserWarning)\n"
     ]
    },
    {
     "name": "stdout",
     "output_type": "stream",
     "text": [
      "Precision: 0.8, Recall: 1.0, Accuracy: 0.8888888888888888\n"
     ]
    },
    {
     "name": "stderr",
     "output_type": "stream",
     "text": [
      "C:\\Users\\kdeep\\anaconda3\\Lib\\site-packages\\xgboost\\core.py:158: UserWarning: [09:33:53] WARNING: C:\\buildkite-agent\\builds\\buildkite-windows-cpu-autoscaling-group-i-0015a694724fa8361-1\\xgboost\\xgboost-ci-windows\\src\\learner.cc:740: \n",
      "Parameters: { \"use_label_encoder\" } are not used.\n",
      "\n",
      "  warnings.warn(smsg, UserWarning)\n"
     ]
    },
    {
     "name": "stdout",
     "output_type": "stream",
     "text": [
      "Precision: 0.5714285714285714, Recall: 1.0, Accuracy: 0.6666666666666666\n"
     ]
    },
    {
     "name": "stderr",
     "output_type": "stream",
     "text": [
      "C:\\Users\\kdeep\\anaconda3\\Lib\\site-packages\\xgboost\\core.py:158: UserWarning: [09:33:53] WARNING: C:\\buildkite-agent\\builds\\buildkite-windows-cpu-autoscaling-group-i-0015a694724fa8361-1\\xgboost\\xgboost-ci-windows\\src\\learner.cc:740: \n",
      "Parameters: { \"use_label_encoder\" } are not used.\n",
      "\n",
      "  warnings.warn(smsg, UserWarning)\n"
     ]
    },
    {
     "name": "stdout",
     "output_type": "stream",
     "text": [
      "Precision: 0.4, Recall: 0.5, Accuracy: 0.4444444444444444\n",
      "Results to be written: eta=0.1, depth=5, dim=0, eps=0.5, (42.3, 42.3, 4.7, 4.7, 0.7504761904761904, 0.75, 0.7311111111111113, 164544, 0.9018929800135084, 0.006741273200203253)\n",
      "eta=0.1, depth=5, dim=100, eps=0.1\n",
      "Number of flaky documents: 47\n",
      "Number of non-flaky documents: 47\n",
      "Total number of documents: 94\n",
      "Sample document: # Copyright 2021 The NetKet Authors - All rights reserved.\n",
      "#\n",
      "# Licensed under the Apache License, Version 2.0 (the \"License\");\n",
      "# you may not use this file except in compliance with the License.\n",
      "# You may obtain a copy of the License at\n",
      "#\n",
      "#    http://www.apache.org/licenses/LICENSE-2.0\n",
      "#\n",
      "# Unless required by applicable law or agreed to in writing, software\n",
      "# distributed under the License is distributed on an \"AS IS\" BASIS,\n",
      "# WITHOUT WARRANTIES OR CONDITIONS OF ANY KIND, either express or implied.\n",
      "# See the License for the specific language governing permissions and\n",
      "# limitations under the License.\n",
      "\n",
      "import dataclasses\n",
      "import abc\n",
      "\n",
      "from flax.core import freeze\n",
      "\n",
      "\n",
      "@dataclasses.dataclass(frozen=True)\n",
      "class ModuleFramework(abc.ABC):\n",
      "    @staticmethod\n",
      "    @abc.abstractmethod\n",
      "    def is_loaded() -> bool:\n",
      "        pass\n",
      "\n",
      "    @staticmethod\n",
      "    @abc.abstractmethod\n",
      "    def is_my_module(module):\n",
      "        pass\n",
      "\n",
      "    @staticmethod\n",
      "    @abc.abstractmethod\n",
      "    def wrap(module):\n",
      "        return module\n",
      "\n",
      "    @staticmethod\n",
      "    def wrap_params(variables):\n",
      "        return freeze({\"params\": variables})\n",
      "\n",
      "    @staticmethod\n",
      "    @abc.abstractmethod\n",
      "    def unwrap_params(wrapped_variables):\n",
      "        return wrapped_variables\n",
      "\n",
      "\n",
      "registered_frameworks = []\n",
      "\n",
      "\n",
      "def framework(clz):\n",
      "    \"\"\"\n",
      "    Registers a framework and it's wrapper methods to make it\n",
      "    behave like a flax framework.\n",
      "    \"\"\"\n",
      "    clz = dataclasses.dataclass(frozen=True)(clz)\n",
      "    registered_frameworks.append(clz)\n",
      "    return clz\n",
      "\n",
      "\n",
      "@dataclasses.dataclass(frozen=True)\n",
      "class UnknownFramework(ModuleFramework):\n",
      "    name: str = \"Unknown\"\n",
      "\n",
      "    @staticmethod\n",
      "    def is_loaded() -> bool:\n",
      "        return True\n",
      "\n",
      "    @staticmethod\n",
      "    def is_my_module(module):\n",
      "        return False\n",
      "\n",
      "    @staticmethod\n",
      "    def wrap(module):\n",
      "        return module\n",
      "\n",
      "    @staticmethod\n",
      "    def unwrap_params(wrapped_variables):\n",
      "        return wrapped_variables\n",
      "\n",
      "\n",
      "def identify_framework(module):\n",
      "    for _framework in registered_frameworks:\n",
      "        if _framework.is_my_module(module):\n",
      "            return _framework\n",
      "\n",
      "    return UnknownFramework\n",
      "\n",
      "\n",
      "def maybe_wrap_module(module):\n",
      "    \"\"\"\n",
      "    Passing a module from an unknown framework (might be user defined module, a jax\n",
      "    module, flax or haiku or anything else really), attempt to identify what is the\n",
      "    package/framework it comes from, and if so it correctly wraps it in order to\n",
      "    make it behave like a flax module (our default).\n",
      "\n",
      "    Also returns a function used to unpack the parameters once we are done.\n",
      "    \"\"\"\n",
      "    framewrk = identify_framework(module)\n",
      "\n",
      "    return framewrk, framewrk.wrap(module)\n"
     ]
    },
    {
     "name": "stderr",
     "output_type": "stream",
     "text": [
      "C:\\Users\\kdeep\\anaconda3\\Lib\\site-packages\\xgboost\\core.py:158: UserWarning: [09:33:54] WARNING: C:\\buildkite-agent\\builds\\buildkite-windows-cpu-autoscaling-group-i-0015a694724fa8361-1\\xgboost\\xgboost-ci-windows\\src\\learner.cc:740: \n",
      "Parameters: { \"use_label_encoder\" } are not used.\n",
      "\n",
      "  warnings.warn(smsg, UserWarning)\n"
     ]
    },
    {
     "name": "stdout",
     "output_type": "stream",
     "text": [
      "Precision: 0.5, Recall: 0.2, Accuracy: 0.5\n"
     ]
    },
    {
     "name": "stderr",
     "output_type": "stream",
     "text": [
      "C:\\Users\\kdeep\\anaconda3\\Lib\\site-packages\\xgboost\\core.py:158: UserWarning: [09:33:54] WARNING: C:\\buildkite-agent\\builds\\buildkite-windows-cpu-autoscaling-group-i-0015a694724fa8361-1\\xgboost\\xgboost-ci-windows\\src\\learner.cc:740: \n",
      "Parameters: { \"use_label_encoder\" } are not used.\n",
      "\n",
      "  warnings.warn(smsg, UserWarning)\n"
     ]
    },
    {
     "name": "stdout",
     "output_type": "stream",
     "text": [
      "Precision: 0.625, Recall: 1.0, Accuracy: 0.7\n"
     ]
    },
    {
     "name": "stderr",
     "output_type": "stream",
     "text": [
      "C:\\Users\\kdeep\\anaconda3\\Lib\\site-packages\\xgboost\\core.py:158: UserWarning: [09:33:55] WARNING: C:\\buildkite-agent\\builds\\buildkite-windows-cpu-autoscaling-group-i-0015a694724fa8361-1\\xgboost\\xgboost-ci-windows\\src\\learner.cc:740: \n",
      "Parameters: { \"use_label_encoder\" } are not used.\n",
      "\n",
      "  warnings.warn(smsg, UserWarning)\n"
     ]
    },
    {
     "name": "stdout",
     "output_type": "stream",
     "text": [
      "Precision: 1.0, Recall: 1.0, Accuracy: 1.0\n"
     ]
    },
    {
     "name": "stderr",
     "output_type": "stream",
     "text": [
      "C:\\Users\\kdeep\\anaconda3\\Lib\\site-packages\\xgboost\\core.py:158: UserWarning: [09:33:55] WARNING: C:\\buildkite-agent\\builds\\buildkite-windows-cpu-autoscaling-group-i-0015a694724fa8361-1\\xgboost\\xgboost-ci-windows\\src\\learner.cc:740: \n",
      "Parameters: { \"use_label_encoder\" } are not used.\n",
      "\n",
      "  warnings.warn(smsg, UserWarning)\n"
     ]
    },
    {
     "name": "stdout",
     "output_type": "stream",
     "text": [
      "Precision: 1.0, Recall: 0.6, Accuracy: 0.8\n"
     ]
    },
    {
     "name": "stderr",
     "output_type": "stream",
     "text": [
      "C:\\Users\\kdeep\\anaconda3\\Lib\\site-packages\\xgboost\\core.py:158: UserWarning: [09:33:56] WARNING: C:\\buildkite-agent\\builds\\buildkite-windows-cpu-autoscaling-group-i-0015a694724fa8361-1\\xgboost\\xgboost-ci-windows\\src\\learner.cc:740: \n",
      "Parameters: { \"use_label_encoder\" } are not used.\n",
      "\n",
      "  warnings.warn(smsg, UserWarning)\n"
     ]
    },
    {
     "name": "stdout",
     "output_type": "stream",
     "text": [
      "Precision: 1.0, Recall: 0.6, Accuracy: 0.7777777777777778\n"
     ]
    },
    {
     "name": "stderr",
     "output_type": "stream",
     "text": [
      "C:\\Users\\kdeep\\anaconda3\\Lib\\site-packages\\xgboost\\core.py:158: UserWarning: [09:33:56] WARNING: C:\\buildkite-agent\\builds\\buildkite-windows-cpu-autoscaling-group-i-0015a694724fa8361-1\\xgboost\\xgboost-ci-windows\\src\\learner.cc:740: \n",
      "Parameters: { \"use_label_encoder\" } are not used.\n",
      "\n",
      "  warnings.warn(smsg, UserWarning)\n"
     ]
    },
    {
     "name": "stdout",
     "output_type": "stream",
     "text": [
      "Precision: 0.5, Recall: 0.6, Accuracy: 0.4444444444444444\n"
     ]
    },
    {
     "name": "stderr",
     "output_type": "stream",
     "text": [
      "C:\\Users\\kdeep\\anaconda3\\Lib\\site-packages\\xgboost\\core.py:158: UserWarning: [09:33:56] WARNING: C:\\buildkite-agent\\builds\\buildkite-windows-cpu-autoscaling-group-i-0015a694724fa8361-1\\xgboost\\xgboost-ci-windows\\src\\learner.cc:740: \n",
      "Parameters: { \"use_label_encoder\" } are not used.\n",
      "\n",
      "  warnings.warn(smsg, UserWarning)\n"
     ]
    },
    {
     "name": "stdout",
     "output_type": "stream",
     "text": [
      "Precision: 0.7142857142857143, Recall: 1.0, Accuracy: 0.7777777777777778\n"
     ]
    },
    {
     "name": "stderr",
     "output_type": "stream",
     "text": [
      "C:\\Users\\kdeep\\anaconda3\\Lib\\site-packages\\xgboost\\core.py:158: UserWarning: [09:33:56] WARNING: C:\\buildkite-agent\\builds\\buildkite-windows-cpu-autoscaling-group-i-0015a694724fa8361-1\\xgboost\\xgboost-ci-windows\\src\\learner.cc:740: \n",
      "Parameters: { \"use_label_encoder\" } are not used.\n",
      "\n",
      "  warnings.warn(smsg, UserWarning)\n"
     ]
    },
    {
     "name": "stdout",
     "output_type": "stream",
     "text": [
      "Precision: 0.5, Recall: 0.5, Accuracy: 0.5555555555555556\n"
     ]
    },
    {
     "name": "stderr",
     "output_type": "stream",
     "text": [
      "C:\\Users\\kdeep\\anaconda3\\Lib\\site-packages\\xgboost\\core.py:158: UserWarning: [09:33:57] WARNING: C:\\buildkite-agent\\builds\\buildkite-windows-cpu-autoscaling-group-i-0015a694724fa8361-1\\xgboost\\xgboost-ci-windows\\src\\learner.cc:740: \n",
      "Parameters: { \"use_label_encoder\" } are not used.\n",
      "\n",
      "  warnings.warn(smsg, UserWarning)\n"
     ]
    },
    {
     "name": "stdout",
     "output_type": "stream",
     "text": [
      "Precision: 1.0, Recall: 0.75, Accuracy: 0.8888888888888888\n"
     ]
    },
    {
     "name": "stderr",
     "output_type": "stream",
     "text": [
      "C:\\Users\\kdeep\\anaconda3\\Lib\\site-packages\\xgboost\\core.py:158: UserWarning: [09:33:57] WARNING: C:\\buildkite-agent\\builds\\buildkite-windows-cpu-autoscaling-group-i-0015a694724fa8361-1\\xgboost\\xgboost-ci-windows\\src\\learner.cc:740: \n",
      "Parameters: { \"use_label_encoder\" } are not used.\n",
      "\n",
      "  warnings.warn(smsg, UserWarning)\n"
     ]
    },
    {
     "name": "stdout",
     "output_type": "stream",
     "text": [
      "Precision: 0.5, Recall: 0.5, Accuracy: 0.5555555555555556\n",
      "Results to be written: eta=0.1, depth=5, dim=100, eps=0.1, (42.3, 42.3, 4.7, 4.7, 0.7339285714285715, 0.675, 0.7, 75808, 0.912561030010693, 0.0073934504461841315)\n",
      "eta=0.1, depth=5, dim=100, eps=0.3\n",
      "Number of flaky documents: 47\n",
      "Number of non-flaky documents: 47\n",
      "Total number of documents: 94\n",
      "Sample document: # Copyright 2021 The NetKet Authors - All rights reserved.\n",
      "#\n",
      "# Licensed under the Apache License, Version 2.0 (the \"License\");\n",
      "# you may not use this file except in compliance with the License.\n",
      "# You may obtain a copy of the License at\n",
      "#\n",
      "#    http://www.apache.org/licenses/LICENSE-2.0\n",
      "#\n",
      "# Unless required by applicable law or agreed to in writing, software\n",
      "# distributed under the License is distributed on an \"AS IS\" BASIS,\n",
      "# WITHOUT WARRANTIES OR CONDITIONS OF ANY KIND, either express or implied.\n",
      "# See the License for the specific language governing permissions and\n",
      "# limitations under the License.\n",
      "\n",
      "import dataclasses\n",
      "import abc\n",
      "\n",
      "from flax.core import freeze\n",
      "\n",
      "\n",
      "@dataclasses.dataclass(frozen=True)\n",
      "class ModuleFramework(abc.ABC):\n",
      "    @staticmethod\n",
      "    @abc.abstractmethod\n",
      "    def is_loaded() -> bool:\n",
      "        pass\n",
      "\n",
      "    @staticmethod\n",
      "    @abc.abstractmethod\n",
      "    def is_my_module(module):\n",
      "        pass\n",
      "\n",
      "    @staticmethod\n",
      "    @abc.abstractmethod\n",
      "    def wrap(module):\n",
      "        return module\n",
      "\n",
      "    @staticmethod\n",
      "    def wrap_params(variables):\n",
      "        return freeze({\"params\": variables})\n",
      "\n",
      "    @staticmethod\n",
      "    @abc.abstractmethod\n",
      "    def unwrap_params(wrapped_variables):\n",
      "        return wrapped_variables\n",
      "\n",
      "\n",
      "registered_frameworks = []\n",
      "\n",
      "\n",
      "def framework(clz):\n",
      "    \"\"\"\n",
      "    Registers a framework and it's wrapper methods to make it\n",
      "    behave like a flax framework.\n",
      "    \"\"\"\n",
      "    clz = dataclasses.dataclass(frozen=True)(clz)\n",
      "    registered_frameworks.append(clz)\n",
      "    return clz\n",
      "\n",
      "\n",
      "@dataclasses.dataclass(frozen=True)\n",
      "class UnknownFramework(ModuleFramework):\n",
      "    name: str = \"Unknown\"\n",
      "\n",
      "    @staticmethod\n",
      "    def is_loaded() -> bool:\n",
      "        return True\n",
      "\n",
      "    @staticmethod\n",
      "    def is_my_module(module):\n",
      "        return False\n",
      "\n",
      "    @staticmethod\n",
      "    def wrap(module):\n",
      "        return module\n",
      "\n",
      "    @staticmethod\n",
      "    def unwrap_params(wrapped_variables):\n",
      "        return wrapped_variables\n",
      "\n",
      "\n",
      "def identify_framework(module):\n",
      "    for _framework in registered_frameworks:\n",
      "        if _framework.is_my_module(module):\n",
      "            return _framework\n",
      "\n",
      "    return UnknownFramework\n",
      "\n",
      "\n",
      "def maybe_wrap_module(module):\n",
      "    \"\"\"\n",
      "    Passing a module from an unknown framework (might be user defined module, a jax\n",
      "    module, flax or haiku or anything else really), attempt to identify what is the\n",
      "    package/framework it comes from, and if so it correctly wraps it in order to\n",
      "    make it behave like a flax module (our default).\n",
      "\n",
      "    Also returns a function used to unpack the parameters once we are done.\n",
      "    \"\"\"\n",
      "    framewrk = identify_framework(module)\n",
      "\n",
      "    return framewrk, framewrk.wrap(module)\n"
     ]
    },
    {
     "name": "stderr",
     "output_type": "stream",
     "text": [
      "C:\\Users\\kdeep\\anaconda3\\Lib\\site-packages\\xgboost\\core.py:158: UserWarning: [09:33:58] WARNING: C:\\buildkite-agent\\builds\\buildkite-windows-cpu-autoscaling-group-i-0015a694724fa8361-1\\xgboost\\xgboost-ci-windows\\src\\learner.cc:740: \n",
      "Parameters: { \"use_label_encoder\" } are not used.\n",
      "\n",
      "  warnings.warn(smsg, UserWarning)\n"
     ]
    },
    {
     "name": "stdout",
     "output_type": "stream",
     "text": [
      "Precision: 1.0, Recall: 0.2, Accuracy: 0.6\n"
     ]
    },
    {
     "name": "stderr",
     "output_type": "stream",
     "text": [
      "C:\\Users\\kdeep\\anaconda3\\Lib\\site-packages\\xgboost\\core.py:158: UserWarning: [09:33:58] WARNING: C:\\buildkite-agent\\builds\\buildkite-windows-cpu-autoscaling-group-i-0015a694724fa8361-1\\xgboost\\xgboost-ci-windows\\src\\learner.cc:740: \n",
      "Parameters: { \"use_label_encoder\" } are not used.\n",
      "\n",
      "  warnings.warn(smsg, UserWarning)\n"
     ]
    },
    {
     "name": "stdout",
     "output_type": "stream",
     "text": [
      "Precision: 0.8, Recall: 0.8, Accuracy: 0.8\n"
     ]
    },
    {
     "name": "stderr",
     "output_type": "stream",
     "text": [
      "C:\\Users\\kdeep\\anaconda3\\Lib\\site-packages\\xgboost\\core.py:158: UserWarning: [09:33:59] WARNING: C:\\buildkite-agent\\builds\\buildkite-windows-cpu-autoscaling-group-i-0015a694724fa8361-1\\xgboost\\xgboost-ci-windows\\src\\learner.cc:740: \n",
      "Parameters: { \"use_label_encoder\" } are not used.\n",
      "\n",
      "  warnings.warn(smsg, UserWarning)\n"
     ]
    },
    {
     "name": "stdout",
     "output_type": "stream",
     "text": [
      "Precision: 1.0, Recall: 1.0, Accuracy: 1.0\n"
     ]
    },
    {
     "name": "stderr",
     "output_type": "stream",
     "text": [
      "C:\\Users\\kdeep\\anaconda3\\Lib\\site-packages\\xgboost\\core.py:158: UserWarning: [09:33:59] WARNING: C:\\buildkite-agent\\builds\\buildkite-windows-cpu-autoscaling-group-i-0015a694724fa8361-1\\xgboost\\xgboost-ci-windows\\src\\learner.cc:740: \n",
      "Parameters: { \"use_label_encoder\" } are not used.\n",
      "\n",
      "  warnings.warn(smsg, UserWarning)\n"
     ]
    },
    {
     "name": "stdout",
     "output_type": "stream",
     "text": [
      "Precision: 0.8333333333333334, Recall: 1.0, Accuracy: 0.9\n"
     ]
    },
    {
     "name": "stderr",
     "output_type": "stream",
     "text": [
      "C:\\Users\\kdeep\\anaconda3\\Lib\\site-packages\\xgboost\\core.py:158: UserWarning: [09:33:59] WARNING: C:\\buildkite-agent\\builds\\buildkite-windows-cpu-autoscaling-group-i-0015a694724fa8361-1\\xgboost\\xgboost-ci-windows\\src\\learner.cc:740: \n",
      "Parameters: { \"use_label_encoder\" } are not used.\n",
      "\n",
      "  warnings.warn(smsg, UserWarning)\n"
     ]
    },
    {
     "name": "stdout",
     "output_type": "stream",
     "text": [
      "Precision: 1.0, Recall: 0.4, Accuracy: 0.6666666666666666\n"
     ]
    },
    {
     "name": "stderr",
     "output_type": "stream",
     "text": [
      "C:\\Users\\kdeep\\anaconda3\\Lib\\site-packages\\xgboost\\core.py:158: UserWarning: [09:34:00] WARNING: C:\\buildkite-agent\\builds\\buildkite-windows-cpu-autoscaling-group-i-0015a694724fa8361-1\\xgboost\\xgboost-ci-windows\\src\\learner.cc:740: \n",
      "Parameters: { \"use_label_encoder\" } are not used.\n",
      "\n",
      "  warnings.warn(smsg, UserWarning)\n"
     ]
    },
    {
     "name": "stdout",
     "output_type": "stream",
     "text": [
      "Precision: 0.7142857142857143, Recall: 1.0, Accuracy: 0.7777777777777778\n"
     ]
    },
    {
     "name": "stderr",
     "output_type": "stream",
     "text": [
      "C:\\Users\\kdeep\\anaconda3\\Lib\\site-packages\\xgboost\\core.py:158: UserWarning: [09:34:00] WARNING: C:\\buildkite-agent\\builds\\buildkite-windows-cpu-autoscaling-group-i-0015a694724fa8361-1\\xgboost\\xgboost-ci-windows\\src\\learner.cc:740: \n",
      "Parameters: { \"use_label_encoder\" } are not used.\n",
      "\n",
      "  warnings.warn(smsg, UserWarning)\n"
     ]
    },
    {
     "name": "stdout",
     "output_type": "stream",
     "text": [
      "Precision: 0.6666666666666666, Recall: 0.8, Accuracy: 0.6666666666666666\n"
     ]
    },
    {
     "name": "stderr",
     "output_type": "stream",
     "text": [
      "C:\\Users\\kdeep\\anaconda3\\Lib\\site-packages\\xgboost\\core.py:158: UserWarning: [09:34:00] WARNING: C:\\buildkite-agent\\builds\\buildkite-windows-cpu-autoscaling-group-i-0015a694724fa8361-1\\xgboost\\xgboost-ci-windows\\src\\learner.cc:740: \n",
      "Parameters: { \"use_label_encoder\" } are not used.\n",
      "\n",
      "  warnings.warn(smsg, UserWarning)\n"
     ]
    },
    {
     "name": "stdout",
     "output_type": "stream",
     "text": [
      "Precision: 0.6, Recall: 0.75, Accuracy: 0.6666666666666666\n"
     ]
    },
    {
     "name": "stderr",
     "output_type": "stream",
     "text": [
      "C:\\Users\\kdeep\\anaconda3\\Lib\\site-packages\\xgboost\\core.py:158: UserWarning: [09:34:01] WARNING: C:\\buildkite-agent\\builds\\buildkite-windows-cpu-autoscaling-group-i-0015a694724fa8361-1\\xgboost\\xgboost-ci-windows\\src\\learner.cc:740: \n",
      "Parameters: { \"use_label_encoder\" } are not used.\n",
      "\n",
      "  warnings.warn(smsg, UserWarning)\n"
     ]
    },
    {
     "name": "stdout",
     "output_type": "stream",
     "text": [
      "Precision: 0.6, Recall: 0.75, Accuracy: 0.6666666666666666\n"
     ]
    },
    {
     "name": "stderr",
     "output_type": "stream",
     "text": [
      "C:\\Users\\kdeep\\anaconda3\\Lib\\site-packages\\xgboost\\core.py:158: UserWarning: [09:34:01] WARNING: C:\\buildkite-agent\\builds\\buildkite-windows-cpu-autoscaling-group-i-0015a694724fa8361-1\\xgboost\\xgboost-ci-windows\\src\\learner.cc:740: \n",
      "Parameters: { \"use_label_encoder\" } are not used.\n",
      "\n",
      "  warnings.warn(smsg, UserWarning)\n"
     ]
    },
    {
     "name": "stdout",
     "output_type": "stream",
     "text": [
      "Precision: 0.6, Recall: 0.75, Accuracy: 0.6666666666666666\n",
      "Results to be written: eta=0.1, depth=5, dim=100, eps=0.3, (42.3, 42.3, 4.7, 4.7, 0.7814285714285714, 0.745, 0.7411111111111113, 75808, 0.7647734700469302, 0.005706460172127179)\n",
      "eta=0.1, depth=5, dim=100, eps=0.5\n",
      "Number of flaky documents: 47\n",
      "Number of non-flaky documents: 47\n",
      "Total number of documents: 94\n",
      "Sample document: # Copyright 2021 The NetKet Authors - All rights reserved.\n",
      "#\n",
      "# Licensed under the Apache License, Version 2.0 (the \"License\");\n",
      "# you may not use this file except in compliance with the License.\n",
      "# You may obtain a copy of the License at\n",
      "#\n",
      "#    http://www.apache.org/licenses/LICENSE-2.0\n",
      "#\n",
      "# Unless required by applicable law or agreed to in writing, software\n",
      "# distributed under the License is distributed on an \"AS IS\" BASIS,\n",
      "# WITHOUT WARRANTIES OR CONDITIONS OF ANY KIND, either express or implied.\n",
      "# See the License for the specific language governing permissions and\n",
      "# limitations under the License.\n",
      "\n",
      "import dataclasses\n",
      "import abc\n",
      "\n",
      "from flax.core import freeze\n",
      "\n",
      "\n",
      "@dataclasses.dataclass(frozen=True)\n",
      "class ModuleFramework(abc.ABC):\n",
      "    @staticmethod\n",
      "    @abc.abstractmethod\n",
      "    def is_loaded() -> bool:\n",
      "        pass\n",
      "\n",
      "    @staticmethod\n",
      "    @abc.abstractmethod\n",
      "    def is_my_module(module):\n",
      "        pass\n",
      "\n",
      "    @staticmethod\n",
      "    @abc.abstractmethod\n",
      "    def wrap(module):\n",
      "        return module\n",
      "\n",
      "    @staticmethod\n",
      "    def wrap_params(variables):\n",
      "        return freeze({\"params\": variables})\n",
      "\n",
      "    @staticmethod\n",
      "    @abc.abstractmethod\n",
      "    def unwrap_params(wrapped_variables):\n",
      "        return wrapped_variables\n",
      "\n",
      "\n",
      "registered_frameworks = []\n",
      "\n",
      "\n",
      "def framework(clz):\n",
      "    \"\"\"\n",
      "    Registers a framework and it's wrapper methods to make it\n",
      "    behave like a flax framework.\n",
      "    \"\"\"\n",
      "    clz = dataclasses.dataclass(frozen=True)(clz)\n",
      "    registered_frameworks.append(clz)\n",
      "    return clz\n",
      "\n",
      "\n",
      "@dataclasses.dataclass(frozen=True)\n",
      "class UnknownFramework(ModuleFramework):\n",
      "    name: str = \"Unknown\"\n",
      "\n",
      "    @staticmethod\n",
      "    def is_loaded() -> bool:\n",
      "        return True\n",
      "\n",
      "    @staticmethod\n",
      "    def is_my_module(module):\n",
      "        return False\n",
      "\n",
      "    @staticmethod\n",
      "    def wrap(module):\n",
      "        return module\n",
      "\n",
      "    @staticmethod\n",
      "    def unwrap_params(wrapped_variables):\n",
      "        return wrapped_variables\n",
      "\n",
      "\n",
      "def identify_framework(module):\n",
      "    for _framework in registered_frameworks:\n",
      "        if _framework.is_my_module(module):\n",
      "            return _framework\n",
      "\n",
      "    return UnknownFramework\n",
      "\n",
      "\n",
      "def maybe_wrap_module(module):\n",
      "    \"\"\"\n",
      "    Passing a module from an unknown framework (might be user defined module, a jax\n",
      "    module, flax or haiku or anything else really), attempt to identify what is the\n",
      "    package/framework it comes from, and if so it correctly wraps it in order to\n",
      "    make it behave like a flax module (our default).\n",
      "\n",
      "    Also returns a function used to unpack the parameters once we are done.\n",
      "    \"\"\"\n",
      "    framewrk = identify_framework(module)\n",
      "\n",
      "    return framewrk, framewrk.wrap(module)\n"
     ]
    },
    {
     "name": "stderr",
     "output_type": "stream",
     "text": [
      "C:\\Users\\kdeep\\anaconda3\\Lib\\site-packages\\xgboost\\core.py:158: UserWarning: [09:34:02] WARNING: C:\\buildkite-agent\\builds\\buildkite-windows-cpu-autoscaling-group-i-0015a694724fa8361-1\\xgboost\\xgboost-ci-windows\\src\\learner.cc:740: \n",
      "Parameters: { \"use_label_encoder\" } are not used.\n",
      "\n",
      "  warnings.warn(smsg, UserWarning)\n"
     ]
    },
    {
     "name": "stdout",
     "output_type": "stream",
     "text": [
      "Precision: 1.0, Recall: 0.2, Accuracy: 0.6\n"
     ]
    },
    {
     "name": "stderr",
     "output_type": "stream",
     "text": [
      "C:\\Users\\kdeep\\anaconda3\\Lib\\site-packages\\xgboost\\core.py:158: UserWarning: [09:34:02] WARNING: C:\\buildkite-agent\\builds\\buildkite-windows-cpu-autoscaling-group-i-0015a694724fa8361-1\\xgboost\\xgboost-ci-windows\\src\\learner.cc:740: \n",
      "Parameters: { \"use_label_encoder\" } are not used.\n",
      "\n",
      "  warnings.warn(smsg, UserWarning)\n"
     ]
    },
    {
     "name": "stdout",
     "output_type": "stream",
     "text": [
      "Precision: 0.75, Recall: 0.6, Accuracy: 0.7\n"
     ]
    },
    {
     "name": "stderr",
     "output_type": "stream",
     "text": [
      "C:\\Users\\kdeep\\anaconda3\\Lib\\site-packages\\xgboost\\core.py:158: UserWarning: [09:34:02] WARNING: C:\\buildkite-agent\\builds\\buildkite-windows-cpu-autoscaling-group-i-0015a694724fa8361-1\\xgboost\\xgboost-ci-windows\\src\\learner.cc:740: \n",
      "Parameters: { \"use_label_encoder\" } are not used.\n",
      "\n",
      "  warnings.warn(smsg, UserWarning)\n"
     ]
    },
    {
     "name": "stdout",
     "output_type": "stream",
     "text": [
      "Precision: 1.0, Recall: 0.8, Accuracy: 0.9\n"
     ]
    },
    {
     "name": "stderr",
     "output_type": "stream",
     "text": [
      "C:\\Users\\kdeep\\anaconda3\\Lib\\site-packages\\xgboost\\core.py:158: UserWarning: [09:34:02] WARNING: C:\\buildkite-agent\\builds\\buildkite-windows-cpu-autoscaling-group-i-0015a694724fa8361-1\\xgboost\\xgboost-ci-windows\\src\\learner.cc:740: \n",
      "Parameters: { \"use_label_encoder\" } are not used.\n",
      "\n",
      "  warnings.warn(smsg, UserWarning)\n"
     ]
    },
    {
     "name": "stdout",
     "output_type": "stream",
     "text": [
      "Precision: 1.0, Recall: 0.6, Accuracy: 0.8\n"
     ]
    },
    {
     "name": "stderr",
     "output_type": "stream",
     "text": [
      "C:\\Users\\kdeep\\anaconda3\\Lib\\site-packages\\xgboost\\core.py:158: UserWarning: [09:34:03] WARNING: C:\\buildkite-agent\\builds\\buildkite-windows-cpu-autoscaling-group-i-0015a694724fa8361-1\\xgboost\\xgboost-ci-windows\\src\\learner.cc:740: \n",
      "Parameters: { \"use_label_encoder\" } are not used.\n",
      "\n",
      "  warnings.warn(smsg, UserWarning)\n"
     ]
    },
    {
     "name": "stdout",
     "output_type": "stream",
     "text": [
      "Precision: 0.6666666666666666, Recall: 0.4, Accuracy: 0.5555555555555556\n"
     ]
    },
    {
     "name": "stderr",
     "output_type": "stream",
     "text": [
      "C:\\Users\\kdeep\\anaconda3\\Lib\\site-packages\\xgboost\\core.py:158: UserWarning: [09:34:03] WARNING: C:\\buildkite-agent\\builds\\buildkite-windows-cpu-autoscaling-group-i-0015a694724fa8361-1\\xgboost\\xgboost-ci-windows\\src\\learner.cc:740: \n",
      "Parameters: { \"use_label_encoder\" } are not used.\n",
      "\n",
      "  warnings.warn(smsg, UserWarning)\n"
     ]
    },
    {
     "name": "stdout",
     "output_type": "stream",
     "text": [
      "Precision: 0.5, Recall: 0.8, Accuracy: 0.4444444444444444\n"
     ]
    },
    {
     "name": "stderr",
     "output_type": "stream",
     "text": [
      "C:\\Users\\kdeep\\anaconda3\\Lib\\site-packages\\xgboost\\core.py:158: UserWarning: [09:34:03] WARNING: C:\\buildkite-agent\\builds\\buildkite-windows-cpu-autoscaling-group-i-0015a694724fa8361-1\\xgboost\\xgboost-ci-windows\\src\\learner.cc:740: \n",
      "Parameters: { \"use_label_encoder\" } are not used.\n",
      "\n",
      "  warnings.warn(smsg, UserWarning)\n"
     ]
    },
    {
     "name": "stdout",
     "output_type": "stream",
     "text": [
      "Precision: 0.75, Recall: 0.6, Accuracy: 0.6666666666666666\n"
     ]
    },
    {
     "name": "stderr",
     "output_type": "stream",
     "text": [
      "C:\\Users\\kdeep\\anaconda3\\Lib\\site-packages\\xgboost\\core.py:158: UserWarning: [09:34:03] WARNING: C:\\buildkite-agent\\builds\\buildkite-windows-cpu-autoscaling-group-i-0015a694724fa8361-1\\xgboost\\xgboost-ci-windows\\src\\learner.cc:740: \n",
      "Parameters: { \"use_label_encoder\" } are not used.\n",
      "\n",
      "  warnings.warn(smsg, UserWarning)\n"
     ]
    },
    {
     "name": "stdout",
     "output_type": "stream",
     "text": [
      "Precision: 1.0, Recall: 0.75, Accuracy: 0.8888888888888888\n"
     ]
    },
    {
     "name": "stderr",
     "output_type": "stream",
     "text": [
      "C:\\Users\\kdeep\\anaconda3\\Lib\\site-packages\\xgboost\\core.py:158: UserWarning: [09:34:04] WARNING: C:\\buildkite-agent\\builds\\buildkite-windows-cpu-autoscaling-group-i-0015a694724fa8361-1\\xgboost\\xgboost-ci-windows\\src\\learner.cc:740: \n",
      "Parameters: { \"use_label_encoder\" } are not used.\n",
      "\n",
      "  warnings.warn(smsg, UserWarning)\n"
     ]
    },
    {
     "name": "stdout",
     "output_type": "stream",
     "text": [
      "Precision: 0.75, Recall: 0.75, Accuracy: 0.7777777777777778\n"
     ]
    },
    {
     "name": "stderr",
     "output_type": "stream",
     "text": [
      "C:\\Users\\kdeep\\anaconda3\\Lib\\site-packages\\xgboost\\core.py:158: UserWarning: [09:34:04] WARNING: C:\\buildkite-agent\\builds\\buildkite-windows-cpu-autoscaling-group-i-0015a694724fa8361-1\\xgboost\\xgboost-ci-windows\\src\\learner.cc:740: \n",
      "Parameters: { \"use_label_encoder\" } are not used.\n",
      "\n",
      "  warnings.warn(smsg, UserWarning)\n"
     ]
    },
    {
     "name": "stdout",
     "output_type": "stream",
     "text": [
      "Precision: 0.6666666666666666, Recall: 1.0, Accuracy: 0.7777777777777778\n",
      "Results to be written: eta=0.1, depth=5, dim=100, eps=0.5, (42.3, 42.3, 4.7, 4.7, 0.8083333333333333, 0.65, 0.711111111111111, 75808, 0.7056838200311177, 0.0053523309908292075)\n",
      "eta=0.1, depth=5, dim=200, eps=0.1\n",
      "Number of flaky documents: 47\n",
      "Number of non-flaky documents: 47\n",
      "Total number of documents: 94\n",
      "Sample document: # Copyright 2021 The NetKet Authors - All rights reserved.\n",
      "#\n",
      "# Licensed under the Apache License, Version 2.0 (the \"License\");\n",
      "# you may not use this file except in compliance with the License.\n",
      "# You may obtain a copy of the License at\n",
      "#\n",
      "#    http://www.apache.org/licenses/LICENSE-2.0\n",
      "#\n",
      "# Unless required by applicable law or agreed to in writing, software\n",
      "# distributed under the License is distributed on an \"AS IS\" BASIS,\n",
      "# WITHOUT WARRANTIES OR CONDITIONS OF ANY KIND, either express or implied.\n",
      "# See the License for the specific language governing permissions and\n",
      "# limitations under the License.\n",
      "\n",
      "import dataclasses\n",
      "import abc\n",
      "\n",
      "from flax.core import freeze\n",
      "\n",
      "\n",
      "@dataclasses.dataclass(frozen=True)\n",
      "class ModuleFramework(abc.ABC):\n",
      "    @staticmethod\n",
      "    @abc.abstractmethod\n",
      "    def is_loaded() -> bool:\n",
      "        pass\n",
      "\n",
      "    @staticmethod\n",
      "    @abc.abstractmethod\n",
      "    def is_my_module(module):\n",
      "        pass\n",
      "\n",
      "    @staticmethod\n",
      "    @abc.abstractmethod\n",
      "    def wrap(module):\n",
      "        return module\n",
      "\n",
      "    @staticmethod\n",
      "    def wrap_params(variables):\n",
      "        return freeze({\"params\": variables})\n",
      "\n",
      "    @staticmethod\n",
      "    @abc.abstractmethod\n",
      "    def unwrap_params(wrapped_variables):\n",
      "        return wrapped_variables\n",
      "\n",
      "\n",
      "registered_frameworks = []\n",
      "\n",
      "\n",
      "def framework(clz):\n",
      "    \"\"\"\n",
      "    Registers a framework and it's wrapper methods to make it\n",
      "    behave like a flax framework.\n",
      "    \"\"\"\n",
      "    clz = dataclasses.dataclass(frozen=True)(clz)\n",
      "    registered_frameworks.append(clz)\n",
      "    return clz\n",
      "\n",
      "\n",
      "@dataclasses.dataclass(frozen=True)\n",
      "class UnknownFramework(ModuleFramework):\n",
      "    name: str = \"Unknown\"\n",
      "\n",
      "    @staticmethod\n",
      "    def is_loaded() -> bool:\n",
      "        return True\n",
      "\n",
      "    @staticmethod\n",
      "    def is_my_module(module):\n",
      "        return False\n",
      "\n",
      "    @staticmethod\n",
      "    def wrap(module):\n",
      "        return module\n",
      "\n",
      "    @staticmethod\n",
      "    def unwrap_params(wrapped_variables):\n",
      "        return wrapped_variables\n",
      "\n",
      "\n",
      "def identify_framework(module):\n",
      "    for _framework in registered_frameworks:\n",
      "        if _framework.is_my_module(module):\n",
      "            return _framework\n",
      "\n",
      "    return UnknownFramework\n",
      "\n",
      "\n",
      "def maybe_wrap_module(module):\n",
      "    \"\"\"\n",
      "    Passing a module from an unknown framework (might be user defined module, a jax\n",
      "    module, flax or haiku or anything else really), attempt to identify what is the\n",
      "    package/framework it comes from, and if so it correctly wraps it in order to\n",
      "    make it behave like a flax module (our default).\n",
      "\n",
      "    Also returns a function used to unpack the parameters once we are done.\n",
      "    \"\"\"\n",
      "    framewrk = identify_framework(module)\n",
      "\n",
      "    return framewrk, framewrk.wrap(module)\n"
     ]
    },
    {
     "name": "stderr",
     "output_type": "stream",
     "text": [
      "C:\\Users\\kdeep\\anaconda3\\Lib\\site-packages\\xgboost\\core.py:158: UserWarning: [09:34:05] WARNING: C:\\buildkite-agent\\builds\\buildkite-windows-cpu-autoscaling-group-i-0015a694724fa8361-1\\xgboost\\xgboost-ci-windows\\src\\learner.cc:740: \n",
      "Parameters: { \"use_label_encoder\" } are not used.\n",
      "\n",
      "  warnings.warn(smsg, UserWarning)\n"
     ]
    },
    {
     "name": "stdout",
     "output_type": "stream",
     "text": [
      "Precision: 0.6, Recall: 0.6, Accuracy: 0.6\n"
     ]
    },
    {
     "name": "stderr",
     "output_type": "stream",
     "text": [
      "C:\\Users\\kdeep\\anaconda3\\Lib\\site-packages\\xgboost\\core.py:158: UserWarning: [09:34:05] WARNING: C:\\buildkite-agent\\builds\\buildkite-windows-cpu-autoscaling-group-i-0015a694724fa8361-1\\xgboost\\xgboost-ci-windows\\src\\learner.cc:740: \n",
      "Parameters: { \"use_label_encoder\" } are not used.\n",
      "\n",
      "  warnings.warn(smsg, UserWarning)\n"
     ]
    },
    {
     "name": "stdout",
     "output_type": "stream",
     "text": [
      "Precision: 1.0, Recall: 0.8, Accuracy: 0.9\n"
     ]
    },
    {
     "name": "stderr",
     "output_type": "stream",
     "text": [
      "C:\\Users\\kdeep\\anaconda3\\Lib\\site-packages\\xgboost\\core.py:158: UserWarning: [09:34:06] WARNING: C:\\buildkite-agent\\builds\\buildkite-windows-cpu-autoscaling-group-i-0015a694724fa8361-1\\xgboost\\xgboost-ci-windows\\src\\learner.cc:740: \n",
      "Parameters: { \"use_label_encoder\" } are not used.\n",
      "\n",
      "  warnings.warn(smsg, UserWarning)\n"
     ]
    },
    {
     "name": "stdout",
     "output_type": "stream",
     "text": [
      "Precision: 1.0, Recall: 0.6, Accuracy: 0.8\n"
     ]
    },
    {
     "name": "stderr",
     "output_type": "stream",
     "text": [
      "C:\\Users\\kdeep\\anaconda3\\Lib\\site-packages\\xgboost\\core.py:158: UserWarning: [09:34:06] WARNING: C:\\buildkite-agent\\builds\\buildkite-windows-cpu-autoscaling-group-i-0015a694724fa8361-1\\xgboost\\xgboost-ci-windows\\src\\learner.cc:740: \n",
      "Parameters: { \"use_label_encoder\" } are not used.\n",
      "\n",
      "  warnings.warn(smsg, UserWarning)\n"
     ]
    },
    {
     "name": "stdout",
     "output_type": "stream",
     "text": [
      "Precision: 1.0, Recall: 0.8, Accuracy: 0.9\n"
     ]
    },
    {
     "name": "stderr",
     "output_type": "stream",
     "text": [
      "C:\\Users\\kdeep\\anaconda3\\Lib\\site-packages\\xgboost\\core.py:158: UserWarning: [09:34:06] WARNING: C:\\buildkite-agent\\builds\\buildkite-windows-cpu-autoscaling-group-i-0015a694724fa8361-1\\xgboost\\xgboost-ci-windows\\src\\learner.cc:740: \n",
      "Parameters: { \"use_label_encoder\" } are not used.\n",
      "\n",
      "  warnings.warn(smsg, UserWarning)\n"
     ]
    },
    {
     "name": "stdout",
     "output_type": "stream",
     "text": [
      "Precision: 1.0, Recall: 0.6, Accuracy: 0.7777777777777778\n"
     ]
    },
    {
     "name": "stderr",
     "output_type": "stream",
     "text": [
      "C:\\Users\\kdeep\\anaconda3\\Lib\\site-packages\\xgboost\\core.py:158: UserWarning: [09:34:07] WARNING: C:\\buildkite-agent\\builds\\buildkite-windows-cpu-autoscaling-group-i-0015a694724fa8361-1\\xgboost\\xgboost-ci-windows\\src\\learner.cc:740: \n",
      "Parameters: { \"use_label_encoder\" } are not used.\n",
      "\n",
      "  warnings.warn(smsg, UserWarning)\n"
     ]
    },
    {
     "name": "stdout",
     "output_type": "stream",
     "text": [
      "Precision: 0.5, Recall: 0.8, Accuracy: 0.4444444444444444\n"
     ]
    },
    {
     "name": "stderr",
     "output_type": "stream",
     "text": [
      "C:\\Users\\kdeep\\anaconda3\\Lib\\site-packages\\xgboost\\core.py:158: UserWarning: [09:34:07] WARNING: C:\\buildkite-agent\\builds\\buildkite-windows-cpu-autoscaling-group-i-0015a694724fa8361-1\\xgboost\\xgboost-ci-windows\\src\\learner.cc:740: \n",
      "Parameters: { \"use_label_encoder\" } are not used.\n",
      "\n",
      "  warnings.warn(smsg, UserWarning)\n"
     ]
    },
    {
     "name": "stdout",
     "output_type": "stream",
     "text": [
      "Precision: 0.6666666666666666, Recall: 0.8, Accuracy: 0.6666666666666666\n"
     ]
    },
    {
     "name": "stderr",
     "output_type": "stream",
     "text": [
      "C:\\Users\\kdeep\\anaconda3\\Lib\\site-packages\\xgboost\\core.py:158: UserWarning: [09:34:07] WARNING: C:\\buildkite-agent\\builds\\buildkite-windows-cpu-autoscaling-group-i-0015a694724fa8361-1\\xgboost\\xgboost-ci-windows\\src\\learner.cc:740: \n",
      "Parameters: { \"use_label_encoder\" } are not used.\n",
      "\n",
      "  warnings.warn(smsg, UserWarning)\n"
     ]
    },
    {
     "name": "stdout",
     "output_type": "stream",
     "text": [
      "Precision: 0.5, Recall: 0.5, Accuracy: 0.5555555555555556\n"
     ]
    },
    {
     "name": "stderr",
     "output_type": "stream",
     "text": [
      "C:\\Users\\kdeep\\anaconda3\\Lib\\site-packages\\xgboost\\core.py:158: UserWarning: [09:34:08] WARNING: C:\\buildkite-agent\\builds\\buildkite-windows-cpu-autoscaling-group-i-0015a694724fa8361-1\\xgboost\\xgboost-ci-windows\\src\\learner.cc:740: \n",
      "Parameters: { \"use_label_encoder\" } are not used.\n",
      "\n",
      "  warnings.warn(smsg, UserWarning)\n"
     ]
    },
    {
     "name": "stdout",
     "output_type": "stream",
     "text": [
      "Precision: 1.0, Recall: 0.75, Accuracy: 0.8888888888888888\n"
     ]
    },
    {
     "name": "stderr",
     "output_type": "stream",
     "text": [
      "C:\\Users\\kdeep\\anaconda3\\Lib\\site-packages\\xgboost\\core.py:158: UserWarning: [09:34:08] WARNING: C:\\buildkite-agent\\builds\\buildkite-windows-cpu-autoscaling-group-i-0015a694724fa8361-1\\xgboost\\xgboost-ci-windows\\src\\learner.cc:740: \n",
      "Parameters: { \"use_label_encoder\" } are not used.\n",
      "\n",
      "  warnings.warn(smsg, UserWarning)\n"
     ]
    },
    {
     "name": "stdout",
     "output_type": "stream",
     "text": [
      "Precision: 0.3333333333333333, Recall: 0.5, Accuracy: 0.3333333333333333\n",
      "Results to be written: eta=0.1, depth=5, dim=200, eps=0.1, (42.3, 42.3, 4.7, 4.7, 0.76, 0.675, 0.6866666666666666, 151008, 0.7393440899788404, 0.005311829658873582)\n",
      "eta=0.1, depth=5, dim=200, eps=0.3\n",
      "Number of flaky documents: 47\n",
      "Number of non-flaky documents: 47\n",
      "Total number of documents: 94\n",
      "Sample document: # Copyright 2021 The NetKet Authors - All rights reserved.\n",
      "#\n",
      "# Licensed under the Apache License, Version 2.0 (the \"License\");\n",
      "# you may not use this file except in compliance with the License.\n",
      "# You may obtain a copy of the License at\n",
      "#\n",
      "#    http://www.apache.org/licenses/LICENSE-2.0\n",
      "#\n",
      "# Unless required by applicable law or agreed to in writing, software\n",
      "# distributed under the License is distributed on an \"AS IS\" BASIS,\n",
      "# WITHOUT WARRANTIES OR CONDITIONS OF ANY KIND, either express or implied.\n",
      "# See the License for the specific language governing permissions and\n",
      "# limitations under the License.\n",
      "\n",
      "import dataclasses\n",
      "import abc\n",
      "\n",
      "from flax.core import freeze\n",
      "\n",
      "\n",
      "@dataclasses.dataclass(frozen=True)\n",
      "class ModuleFramework(abc.ABC):\n",
      "    @staticmethod\n",
      "    @abc.abstractmethod\n",
      "    def is_loaded() -> bool:\n",
      "        pass\n",
      "\n",
      "    @staticmethod\n",
      "    @abc.abstractmethod\n",
      "    def is_my_module(module):\n",
      "        pass\n",
      "\n",
      "    @staticmethod\n",
      "    @abc.abstractmethod\n",
      "    def wrap(module):\n",
      "        return module\n",
      "\n",
      "    @staticmethod\n",
      "    def wrap_params(variables):\n",
      "        return freeze({\"params\": variables})\n",
      "\n",
      "    @staticmethod\n",
      "    @abc.abstractmethod\n",
      "    def unwrap_params(wrapped_variables):\n",
      "        return wrapped_variables\n",
      "\n",
      "\n",
      "registered_frameworks = []\n",
      "\n",
      "\n",
      "def framework(clz):\n",
      "    \"\"\"\n",
      "    Registers a framework and it's wrapper methods to make it\n",
      "    behave like a flax framework.\n",
      "    \"\"\"\n",
      "    clz = dataclasses.dataclass(frozen=True)(clz)\n",
      "    registered_frameworks.append(clz)\n",
      "    return clz\n",
      "\n",
      "\n",
      "@dataclasses.dataclass(frozen=True)\n",
      "class UnknownFramework(ModuleFramework):\n",
      "    name: str = \"Unknown\"\n",
      "\n",
      "    @staticmethod\n",
      "    def is_loaded() -> bool:\n",
      "        return True\n",
      "\n",
      "    @staticmethod\n",
      "    def is_my_module(module):\n",
      "        return False\n",
      "\n",
      "    @staticmethod\n",
      "    def wrap(module):\n",
      "        return module\n",
      "\n",
      "    @staticmethod\n",
      "    def unwrap_params(wrapped_variables):\n",
      "        return wrapped_variables\n",
      "\n",
      "\n",
      "def identify_framework(module):\n",
      "    for _framework in registered_frameworks:\n",
      "        if _framework.is_my_module(module):\n",
      "            return _framework\n",
      "\n",
      "    return UnknownFramework\n",
      "\n",
      "\n",
      "def maybe_wrap_module(module):\n",
      "    \"\"\"\n",
      "    Passing a module from an unknown framework (might be user defined module, a jax\n",
      "    module, flax or haiku or anything else really), attempt to identify what is the\n",
      "    package/framework it comes from, and if so it correctly wraps it in order to\n",
      "    make it behave like a flax module (our default).\n",
      "\n",
      "    Also returns a function used to unpack the parameters once we are done.\n",
      "    \"\"\"\n",
      "    framewrk = identify_framework(module)\n",
      "\n",
      "    return framewrk, framewrk.wrap(module)\n"
     ]
    },
    {
     "name": "stderr",
     "output_type": "stream",
     "text": [
      "C:\\Users\\kdeep\\anaconda3\\Lib\\site-packages\\xgboost\\core.py:158: UserWarning: [09:34:09] WARNING: C:\\buildkite-agent\\builds\\buildkite-windows-cpu-autoscaling-group-i-0015a694724fa8361-1\\xgboost\\xgboost-ci-windows\\src\\learner.cc:740: \n",
      "Parameters: { \"use_label_encoder\" } are not used.\n",
      "\n",
      "  warnings.warn(smsg, UserWarning)\n"
     ]
    },
    {
     "name": "stdout",
     "output_type": "stream",
     "text": [
      "Precision: 0.5, Recall: 0.4, Accuracy: 0.5\n"
     ]
    },
    {
     "name": "stderr",
     "output_type": "stream",
     "text": [
      "C:\\Users\\kdeep\\anaconda3\\Lib\\site-packages\\xgboost\\core.py:158: UserWarning: [09:34:09] WARNING: C:\\buildkite-agent\\builds\\buildkite-windows-cpu-autoscaling-group-i-0015a694724fa8361-1\\xgboost\\xgboost-ci-windows\\src\\learner.cc:740: \n",
      "Parameters: { \"use_label_encoder\" } are not used.\n",
      "\n",
      "  warnings.warn(smsg, UserWarning)\n"
     ]
    },
    {
     "name": "stdout",
     "output_type": "stream",
     "text": [
      "Precision: 1.0, Recall: 0.8, Accuracy: 0.9\n"
     ]
    },
    {
     "name": "stderr",
     "output_type": "stream",
     "text": [
      "C:\\Users\\kdeep\\anaconda3\\Lib\\site-packages\\xgboost\\core.py:158: UserWarning: [09:34:09] WARNING: C:\\buildkite-agent\\builds\\buildkite-windows-cpu-autoscaling-group-i-0015a694724fa8361-1\\xgboost\\xgboost-ci-windows\\src\\learner.cc:740: \n",
      "Parameters: { \"use_label_encoder\" } are not used.\n",
      "\n",
      "  warnings.warn(smsg, UserWarning)\n"
     ]
    },
    {
     "name": "stdout",
     "output_type": "stream",
     "text": [
      "Precision: 1.0, Recall: 0.6, Accuracy: 0.8\n"
     ]
    },
    {
     "name": "stderr",
     "output_type": "stream",
     "text": [
      "C:\\Users\\kdeep\\anaconda3\\Lib\\site-packages\\xgboost\\core.py:158: UserWarning: [09:34:09] WARNING: C:\\buildkite-agent\\builds\\buildkite-windows-cpu-autoscaling-group-i-0015a694724fa8361-1\\xgboost\\xgboost-ci-windows\\src\\learner.cc:740: \n",
      "Parameters: { \"use_label_encoder\" } are not used.\n",
      "\n",
      "  warnings.warn(smsg, UserWarning)\n"
     ]
    },
    {
     "name": "stdout",
     "output_type": "stream",
     "text": [
      "Precision: 1.0, Recall: 1.0, Accuracy: 1.0\n"
     ]
    },
    {
     "name": "stderr",
     "output_type": "stream",
     "text": [
      "C:\\Users\\kdeep\\anaconda3\\Lib\\site-packages\\xgboost\\core.py:158: UserWarning: [09:34:10] WARNING: C:\\buildkite-agent\\builds\\buildkite-windows-cpu-autoscaling-group-i-0015a694724fa8361-1\\xgboost\\xgboost-ci-windows\\src\\learner.cc:740: \n",
      "Parameters: { \"use_label_encoder\" } are not used.\n",
      "\n",
      "  warnings.warn(smsg, UserWarning)\n"
     ]
    },
    {
     "name": "stdout",
     "output_type": "stream",
     "text": [
      "Precision: 0.6666666666666666, Recall: 0.4, Accuracy: 0.5555555555555556\n"
     ]
    },
    {
     "name": "stderr",
     "output_type": "stream",
     "text": [
      "C:\\Users\\kdeep\\anaconda3\\Lib\\site-packages\\xgboost\\core.py:158: UserWarning: [09:34:10] WARNING: C:\\buildkite-agent\\builds\\buildkite-windows-cpu-autoscaling-group-i-0015a694724fa8361-1\\xgboost\\xgboost-ci-windows\\src\\learner.cc:740: \n",
      "Parameters: { \"use_label_encoder\" } are not used.\n",
      "\n",
      "  warnings.warn(smsg, UserWarning)\n"
     ]
    },
    {
     "name": "stdout",
     "output_type": "stream",
     "text": [
      "Precision: 0.5555555555555556, Recall: 1.0, Accuracy: 0.5555555555555556\n"
     ]
    },
    {
     "name": "stderr",
     "output_type": "stream",
     "text": [
      "C:\\Users\\kdeep\\anaconda3\\Lib\\site-packages\\xgboost\\core.py:158: UserWarning: [09:34:10] WARNING: C:\\buildkite-agent\\builds\\buildkite-windows-cpu-autoscaling-group-i-0015a694724fa8361-1\\xgboost\\xgboost-ci-windows\\src\\learner.cc:740: \n",
      "Parameters: { \"use_label_encoder\" } are not used.\n",
      "\n",
      "  warnings.warn(smsg, UserWarning)\n"
     ]
    },
    {
     "name": "stdout",
     "output_type": "stream",
     "text": [
      "Precision: 0.5714285714285714, Recall: 0.8, Accuracy: 0.5555555555555556\n"
     ]
    },
    {
     "name": "stderr",
     "output_type": "stream",
     "text": [
      "C:\\Users\\kdeep\\anaconda3\\Lib\\site-packages\\xgboost\\core.py:158: UserWarning: [09:34:11] WARNING: C:\\buildkite-agent\\builds\\buildkite-windows-cpu-autoscaling-group-i-0015a694724fa8361-1\\xgboost\\xgboost-ci-windows\\src\\learner.cc:740: \n",
      "Parameters: { \"use_label_encoder\" } are not used.\n",
      "\n",
      "  warnings.warn(smsg, UserWarning)\n"
     ]
    },
    {
     "name": "stdout",
     "output_type": "stream",
     "text": [
      "Precision: 0.8, Recall: 1.0, Accuracy: 0.8888888888888888\n"
     ]
    },
    {
     "name": "stderr",
     "output_type": "stream",
     "text": [
      "C:\\Users\\kdeep\\anaconda3\\Lib\\site-packages\\xgboost\\core.py:158: UserWarning: [09:34:11] WARNING: C:\\buildkite-agent\\builds\\buildkite-windows-cpu-autoscaling-group-i-0015a694724fa8361-1\\xgboost\\xgboost-ci-windows\\src\\learner.cc:740: \n",
      "Parameters: { \"use_label_encoder\" } are not used.\n",
      "\n",
      "  warnings.warn(smsg, UserWarning)\n"
     ]
    },
    {
     "name": "stdout",
     "output_type": "stream",
     "text": [
      "Precision: 1.0, Recall: 0.75, Accuracy: 0.8888888888888888\n"
     ]
    },
    {
     "name": "stderr",
     "output_type": "stream",
     "text": [
      "C:\\Users\\kdeep\\anaconda3\\Lib\\site-packages\\xgboost\\core.py:158: UserWarning: [09:34:11] WARNING: C:\\buildkite-agent\\builds\\buildkite-windows-cpu-autoscaling-group-i-0015a694724fa8361-1\\xgboost\\xgboost-ci-windows\\src\\learner.cc:740: \n",
      "Parameters: { \"use_label_encoder\" } are not used.\n",
      "\n",
      "  warnings.warn(smsg, UserWarning)\n"
     ]
    },
    {
     "name": "stdout",
     "output_type": "stream",
     "text": [
      "Precision: 0.5, Recall: 0.5, Accuracy: 0.5555555555555556\n",
      "Results to be written: eta=0.1, depth=5, dim=200, eps=0.3, (42.3, 42.3, 4.7, 4.7, 0.7593650793650794, 0.725, 0.72, 151008, 0.6431878900271839, 0.004702847421859516)\n",
      "eta=0.1, depth=5, dim=200, eps=0.5\n",
      "Number of flaky documents: 47\n",
      "Number of non-flaky documents: 47\n",
      "Total number of documents: 94\n",
      "Sample document: # Copyright 2021 The NetKet Authors - All rights reserved.\n",
      "#\n",
      "# Licensed under the Apache License, Version 2.0 (the \"License\");\n",
      "# you may not use this file except in compliance with the License.\n",
      "# You may obtain a copy of the License at\n",
      "#\n",
      "#    http://www.apache.org/licenses/LICENSE-2.0\n",
      "#\n",
      "# Unless required by applicable law or agreed to in writing, software\n",
      "# distributed under the License is distributed on an \"AS IS\" BASIS,\n",
      "# WITHOUT WARRANTIES OR CONDITIONS OF ANY KIND, either express or implied.\n",
      "# See the License for the specific language governing permissions and\n",
      "# limitations under the License.\n",
      "\n",
      "import dataclasses\n",
      "import abc\n",
      "\n",
      "from flax.core import freeze\n",
      "\n",
      "\n",
      "@dataclasses.dataclass(frozen=True)\n",
      "class ModuleFramework(abc.ABC):\n",
      "    @staticmethod\n",
      "    @abc.abstractmethod\n",
      "    def is_loaded() -> bool:\n",
      "        pass\n",
      "\n",
      "    @staticmethod\n",
      "    @abc.abstractmethod\n",
      "    def is_my_module(module):\n",
      "        pass\n",
      "\n",
      "    @staticmethod\n",
      "    @abc.abstractmethod\n",
      "    def wrap(module):\n",
      "        return module\n",
      "\n",
      "    @staticmethod\n",
      "    def wrap_params(variables):\n",
      "        return freeze({\"params\": variables})\n",
      "\n",
      "    @staticmethod\n",
      "    @abc.abstractmethod\n",
      "    def unwrap_params(wrapped_variables):\n",
      "        return wrapped_variables\n",
      "\n",
      "\n",
      "registered_frameworks = []\n",
      "\n",
      "\n",
      "def framework(clz):\n",
      "    \"\"\"\n",
      "    Registers a framework and it's wrapper methods to make it\n",
      "    behave like a flax framework.\n",
      "    \"\"\"\n",
      "    clz = dataclasses.dataclass(frozen=True)(clz)\n",
      "    registered_frameworks.append(clz)\n",
      "    return clz\n",
      "\n",
      "\n",
      "@dataclasses.dataclass(frozen=True)\n",
      "class UnknownFramework(ModuleFramework):\n",
      "    name: str = \"Unknown\"\n",
      "\n",
      "    @staticmethod\n",
      "    def is_loaded() -> bool:\n",
      "        return True\n",
      "\n",
      "    @staticmethod\n",
      "    def is_my_module(module):\n",
      "        return False\n",
      "\n",
      "    @staticmethod\n",
      "    def wrap(module):\n",
      "        return module\n",
      "\n",
      "    @staticmethod\n",
      "    def unwrap_params(wrapped_variables):\n",
      "        return wrapped_variables\n",
      "\n",
      "\n",
      "def identify_framework(module):\n",
      "    for _framework in registered_frameworks:\n",
      "        if _framework.is_my_module(module):\n",
      "            return _framework\n",
      "\n",
      "    return UnknownFramework\n",
      "\n",
      "\n",
      "def maybe_wrap_module(module):\n",
      "    \"\"\"\n",
      "    Passing a module from an unknown framework (might be user defined module, a jax\n",
      "    module, flax or haiku or anything else really), attempt to identify what is the\n",
      "    package/framework it comes from, and if so it correctly wraps it in order to\n",
      "    make it behave like a flax module (our default).\n",
      "\n",
      "    Also returns a function used to unpack the parameters once we are done.\n",
      "    \"\"\"\n",
      "    framewrk = identify_framework(module)\n",
      "\n",
      "    return framewrk, framewrk.wrap(module)\n"
     ]
    },
    {
     "name": "stderr",
     "output_type": "stream",
     "text": [
      "C:\\Users\\kdeep\\anaconda3\\Lib\\site-packages\\xgboost\\core.py:158: UserWarning: [09:34:12] WARNING: C:\\buildkite-agent\\builds\\buildkite-windows-cpu-autoscaling-group-i-0015a694724fa8361-1\\xgboost\\xgboost-ci-windows\\src\\learner.cc:740: \n",
      "Parameters: { \"use_label_encoder\" } are not used.\n",
      "\n",
      "  warnings.warn(smsg, UserWarning)\n"
     ]
    },
    {
     "name": "stdout",
     "output_type": "stream",
     "text": [
      "Precision: 0.6666666666666666, Recall: 0.4, Accuracy: 0.6\n"
     ]
    },
    {
     "name": "stderr",
     "output_type": "stream",
     "text": [
      "C:\\Users\\kdeep\\anaconda3\\Lib\\site-packages\\xgboost\\core.py:158: UserWarning: [09:34:12] WARNING: C:\\buildkite-agent\\builds\\buildkite-windows-cpu-autoscaling-group-i-0015a694724fa8361-1\\xgboost\\xgboost-ci-windows\\src\\learner.cc:740: \n",
      "Parameters: { \"use_label_encoder\" } are not used.\n",
      "\n",
      "  warnings.warn(smsg, UserWarning)\n"
     ]
    },
    {
     "name": "stdout",
     "output_type": "stream",
     "text": [
      "Precision: 0.5714285714285714, Recall: 0.8, Accuracy: 0.6\n"
     ]
    },
    {
     "name": "stderr",
     "output_type": "stream",
     "text": [
      "C:\\Users\\kdeep\\anaconda3\\Lib\\site-packages\\xgboost\\core.py:158: UserWarning: [09:34:12] WARNING: C:\\buildkite-agent\\builds\\buildkite-windows-cpu-autoscaling-group-i-0015a694724fa8361-1\\xgboost\\xgboost-ci-windows\\src\\learner.cc:740: \n",
      "Parameters: { \"use_label_encoder\" } are not used.\n",
      "\n",
      "  warnings.warn(smsg, UserWarning)\n"
     ]
    },
    {
     "name": "stdout",
     "output_type": "stream",
     "text": [
      "Precision: 1.0, Recall: 1.0, Accuracy: 1.0\n"
     ]
    },
    {
     "name": "stderr",
     "output_type": "stream",
     "text": [
      "C:\\Users\\kdeep\\anaconda3\\Lib\\site-packages\\xgboost\\core.py:158: UserWarning: [09:34:13] WARNING: C:\\buildkite-agent\\builds\\buildkite-windows-cpu-autoscaling-group-i-0015a694724fa8361-1\\xgboost\\xgboost-ci-windows\\src\\learner.cc:740: \n",
      "Parameters: { \"use_label_encoder\" } are not used.\n",
      "\n",
      "  warnings.warn(smsg, UserWarning)\n"
     ]
    },
    {
     "name": "stdout",
     "output_type": "stream",
     "text": [
      "Precision: 1.0, Recall: 0.6, Accuracy: 0.8\n"
     ]
    },
    {
     "name": "stderr",
     "output_type": "stream",
     "text": [
      "C:\\Users\\kdeep\\anaconda3\\Lib\\site-packages\\xgboost\\core.py:158: UserWarning: [09:34:13] WARNING: C:\\buildkite-agent\\builds\\buildkite-windows-cpu-autoscaling-group-i-0015a694724fa8361-1\\xgboost\\xgboost-ci-windows\\src\\learner.cc:740: \n",
      "Parameters: { \"use_label_encoder\" } are not used.\n",
      "\n",
      "  warnings.warn(smsg, UserWarning)\n"
     ]
    },
    {
     "name": "stdout",
     "output_type": "stream",
     "text": [
      "Precision: 1.0, Recall: 0.6, Accuracy: 0.7777777777777778\n"
     ]
    },
    {
     "name": "stderr",
     "output_type": "stream",
     "text": [
      "C:\\Users\\kdeep\\anaconda3\\Lib\\site-packages\\xgboost\\core.py:158: UserWarning: [09:34:13] WARNING: C:\\buildkite-agent\\builds\\buildkite-windows-cpu-autoscaling-group-i-0015a694724fa8361-1\\xgboost\\xgboost-ci-windows\\src\\learner.cc:740: \n",
      "Parameters: { \"use_label_encoder\" } are not used.\n",
      "\n",
      "  warnings.warn(smsg, UserWarning)\n"
     ]
    },
    {
     "name": "stdout",
     "output_type": "stream",
     "text": [
      "Precision: 0.625, Recall: 1.0, Accuracy: 0.6666666666666666\n"
     ]
    },
    {
     "name": "stderr",
     "output_type": "stream",
     "text": [
      "C:\\Users\\kdeep\\anaconda3\\Lib\\site-packages\\xgboost\\core.py:158: UserWarning: [09:34:14] WARNING: C:\\buildkite-agent\\builds\\buildkite-windows-cpu-autoscaling-group-i-0015a694724fa8361-1\\xgboost\\xgboost-ci-windows\\src\\learner.cc:740: \n",
      "Parameters: { \"use_label_encoder\" } are not used.\n",
      "\n",
      "  warnings.warn(smsg, UserWarning)\n"
     ]
    },
    {
     "name": "stdout",
     "output_type": "stream",
     "text": [
      "Precision: 0.5, Recall: 0.4, Accuracy: 0.4444444444444444\n"
     ]
    },
    {
     "name": "stderr",
     "output_type": "stream",
     "text": [
      "C:\\Users\\kdeep\\anaconda3\\Lib\\site-packages\\xgboost\\core.py:158: UserWarning: [09:34:14] WARNING: C:\\buildkite-agent\\builds\\buildkite-windows-cpu-autoscaling-group-i-0015a694724fa8361-1\\xgboost\\xgboost-ci-windows\\src\\learner.cc:740: \n",
      "Parameters: { \"use_label_encoder\" } are not used.\n",
      "\n",
      "  warnings.warn(smsg, UserWarning)\n"
     ]
    },
    {
     "name": "stdout",
     "output_type": "stream",
     "text": [
      "Precision: 0.6666666666666666, Recall: 0.5, Accuracy: 0.6666666666666666\n"
     ]
    },
    {
     "name": "stderr",
     "output_type": "stream",
     "text": [
      "C:\\Users\\kdeep\\anaconda3\\Lib\\site-packages\\xgboost\\core.py:158: UserWarning: [09:34:14] WARNING: C:\\buildkite-agent\\builds\\buildkite-windows-cpu-autoscaling-group-i-0015a694724fa8361-1\\xgboost\\xgboost-ci-windows\\src\\learner.cc:740: \n",
      "Parameters: { \"use_label_encoder\" } are not used.\n",
      "\n",
      "  warnings.warn(smsg, UserWarning)\n"
     ]
    },
    {
     "name": "stdout",
     "output_type": "stream",
     "text": [
      "Precision: 0.75, Recall: 0.75, Accuracy: 0.7777777777777778\n"
     ]
    },
    {
     "name": "stderr",
     "output_type": "stream",
     "text": [
      "C:\\Users\\kdeep\\anaconda3\\Lib\\site-packages\\xgboost\\core.py:158: UserWarning: [09:34:14] WARNING: C:\\buildkite-agent\\builds\\buildkite-windows-cpu-autoscaling-group-i-0015a694724fa8361-1\\xgboost\\xgboost-ci-windows\\src\\learner.cc:740: \n",
      "Parameters: { \"use_label_encoder\" } are not used.\n",
      "\n",
      "  warnings.warn(smsg, UserWarning)\n"
     ]
    },
    {
     "name": "stdout",
     "output_type": "stream",
     "text": [
      "Precision: 0.25, Recall: 0.25, Accuracy: 0.3333333333333333\n",
      "Results to be written: eta=0.1, depth=5, dim=200, eps=0.5, (42.3, 42.3, 4.7, 4.7, 0.7029761904761905, 0.6300000000000001, 0.6666666666666667, 151008, 0.6595243800780736, 0.004785672027480637)\n",
      "eta=0.1, depth=7, dim=0, eps=0.1\n",
      "Number of flaky documents: 47\n",
      "Number of non-flaky documents: 47\n",
      "Total number of documents: 94\n",
      "Sample document: # Copyright 2021 The NetKet Authors - All rights reserved.\n",
      "#\n",
      "# Licensed under the Apache License, Version 2.0 (the \"License\");\n",
      "# you may not use this file except in compliance with the License.\n",
      "# You may obtain a copy of the License at\n",
      "#\n",
      "#    http://www.apache.org/licenses/LICENSE-2.0\n",
      "#\n",
      "# Unless required by applicable law or agreed to in writing, software\n",
      "# distributed under the License is distributed on an \"AS IS\" BASIS,\n",
      "# WITHOUT WARRANTIES OR CONDITIONS OF ANY KIND, either express or implied.\n",
      "# See the License for the specific language governing permissions and\n",
      "# limitations under the License.\n",
      "\n",
      "import dataclasses\n",
      "import abc\n",
      "\n",
      "from flax.core import freeze\n",
      "\n",
      "\n",
      "@dataclasses.dataclass(frozen=True)\n",
      "class ModuleFramework(abc.ABC):\n",
      "    @staticmethod\n",
      "    @abc.abstractmethod\n",
      "    def is_loaded() -> bool:\n",
      "        pass\n",
      "\n",
      "    @staticmethod\n",
      "    @abc.abstractmethod\n",
      "    def is_my_module(module):\n",
      "        pass\n",
      "\n",
      "    @staticmethod\n",
      "    @abc.abstractmethod\n",
      "    def wrap(module):\n",
      "        return module\n",
      "\n",
      "    @staticmethod\n",
      "    def wrap_params(variables):\n",
      "        return freeze({\"params\": variables})\n",
      "\n",
      "    @staticmethod\n",
      "    @abc.abstractmethod\n",
      "    def unwrap_params(wrapped_variables):\n",
      "        return wrapped_variables\n",
      "\n",
      "\n",
      "registered_frameworks = []\n",
      "\n",
      "\n",
      "def framework(clz):\n",
      "    \"\"\"\n",
      "    Registers a framework and it's wrapper methods to make it\n",
      "    behave like a flax framework.\n",
      "    \"\"\"\n",
      "    clz = dataclasses.dataclass(frozen=True)(clz)\n",
      "    registered_frameworks.append(clz)\n",
      "    return clz\n",
      "\n",
      "\n",
      "@dataclasses.dataclass(frozen=True)\n",
      "class UnknownFramework(ModuleFramework):\n",
      "    name: str = \"Unknown\"\n",
      "\n",
      "    @staticmethod\n",
      "    def is_loaded() -> bool:\n",
      "        return True\n",
      "\n",
      "    @staticmethod\n",
      "    def is_my_module(module):\n",
      "        return False\n",
      "\n",
      "    @staticmethod\n",
      "    def wrap(module):\n",
      "        return module\n",
      "\n",
      "    @staticmethod\n",
      "    def unwrap_params(wrapped_variables):\n",
      "        return wrapped_variables\n",
      "\n",
      "\n",
      "def identify_framework(module):\n",
      "    for _framework in registered_frameworks:\n",
      "        if _framework.is_my_module(module):\n",
      "            return _framework\n",
      "\n",
      "    return UnknownFramework\n",
      "\n",
      "\n",
      "def maybe_wrap_module(module):\n",
      "    \"\"\"\n",
      "    Passing a module from an unknown framework (might be user defined module, a jax\n",
      "    module, flax or haiku or anything else really), attempt to identify what is the\n",
      "    package/framework it comes from, and if so it correctly wraps it in order to\n",
      "    make it behave like a flax module (our default).\n",
      "\n",
      "    Also returns a function used to unpack the parameters once we are done.\n",
      "    \"\"\"\n",
      "    framewrk = identify_framework(module)\n",
      "\n",
      "    return framewrk, framewrk.wrap(module)\n"
     ]
    },
    {
     "name": "stderr",
     "output_type": "stream",
     "text": [
      "C:\\Users\\kdeep\\anaconda3\\Lib\\site-packages\\xgboost\\core.py:158: UserWarning: [09:34:17] WARNING: C:\\buildkite-agent\\builds\\buildkite-windows-cpu-autoscaling-group-i-0015a694724fa8361-1\\xgboost\\xgboost-ci-windows\\src\\learner.cc:740: \n",
      "Parameters: { \"use_label_encoder\" } are not used.\n",
      "\n",
      "  warnings.warn(smsg, UserWarning)\n"
     ]
    },
    {
     "name": "stdout",
     "output_type": "stream",
     "text": [
      "Precision: 0.5, Recall: 0.2, Accuracy: 0.5\n"
     ]
    },
    {
     "name": "stderr",
     "output_type": "stream",
     "text": [
      "C:\\Users\\kdeep\\anaconda3\\Lib\\site-packages\\xgboost\\core.py:158: UserWarning: [09:34:19] WARNING: C:\\buildkite-agent\\builds\\buildkite-windows-cpu-autoscaling-group-i-0015a694724fa8361-1\\xgboost\\xgboost-ci-windows\\src\\learner.cc:740: \n",
      "Parameters: { \"use_label_encoder\" } are not used.\n",
      "\n",
      "  warnings.warn(smsg, UserWarning)\n"
     ]
    },
    {
     "name": "stdout",
     "output_type": "stream",
     "text": [
      "Precision: 0.6666666666666666, Recall: 0.8, Accuracy: 0.7\n"
     ]
    },
    {
     "name": "stderr",
     "output_type": "stream",
     "text": [
      "C:\\Users\\kdeep\\anaconda3\\Lib\\site-packages\\xgboost\\core.py:158: UserWarning: [09:34:21] WARNING: C:\\buildkite-agent\\builds\\buildkite-windows-cpu-autoscaling-group-i-0015a694724fa8361-1\\xgboost\\xgboost-ci-windows\\src\\learner.cc:740: \n",
      "Parameters: { \"use_label_encoder\" } are not used.\n",
      "\n",
      "  warnings.warn(smsg, UserWarning)\n"
     ]
    },
    {
     "name": "stdout",
     "output_type": "stream",
     "text": [
      "Precision: 1.0, Recall: 1.0, Accuracy: 1.0\n"
     ]
    },
    {
     "name": "stderr",
     "output_type": "stream",
     "text": [
      "C:\\Users\\kdeep\\anaconda3\\Lib\\site-packages\\xgboost\\core.py:158: UserWarning: [09:34:23] WARNING: C:\\buildkite-agent\\builds\\buildkite-windows-cpu-autoscaling-group-i-0015a694724fa8361-1\\xgboost\\xgboost-ci-windows\\src\\learner.cc:740: \n",
      "Parameters: { \"use_label_encoder\" } are not used.\n",
      "\n",
      "  warnings.warn(smsg, UserWarning)\n"
     ]
    },
    {
     "name": "stdout",
     "output_type": "stream",
     "text": [
      "Precision: 1.0, Recall: 0.6, Accuracy: 0.8\n"
     ]
    },
    {
     "name": "stderr",
     "output_type": "stream",
     "text": [
      "C:\\Users\\kdeep\\anaconda3\\Lib\\site-packages\\xgboost\\core.py:158: UserWarning: [09:34:25] WARNING: C:\\buildkite-agent\\builds\\buildkite-windows-cpu-autoscaling-group-i-0015a694724fa8361-1\\xgboost\\xgboost-ci-windows\\src\\learner.cc:740: \n",
      "Parameters: { \"use_label_encoder\" } are not used.\n",
      "\n",
      "  warnings.warn(smsg, UserWarning)\n"
     ]
    },
    {
     "name": "stdout",
     "output_type": "stream",
     "text": [
      "Precision: 1.0, Recall: 0.8, Accuracy: 0.8888888888888888\n"
     ]
    },
    {
     "name": "stderr",
     "output_type": "stream",
     "text": [
      "C:\\Users\\kdeep\\anaconda3\\Lib\\site-packages\\xgboost\\core.py:158: UserWarning: [09:34:26] WARNING: C:\\buildkite-agent\\builds\\buildkite-windows-cpu-autoscaling-group-i-0015a694724fa8361-1\\xgboost\\xgboost-ci-windows\\src\\learner.cc:740: \n",
      "Parameters: { \"use_label_encoder\" } are not used.\n",
      "\n",
      "  warnings.warn(smsg, UserWarning)\n"
     ]
    },
    {
     "name": "stdout",
     "output_type": "stream",
     "text": [
      "Precision: 0.3333333333333333, Recall: 0.4, Accuracy: 0.2222222222222222\n"
     ]
    },
    {
     "name": "stderr",
     "output_type": "stream",
     "text": [
      "C:\\Users\\kdeep\\anaconda3\\Lib\\site-packages\\xgboost\\core.py:158: UserWarning: [09:34:28] WARNING: C:\\buildkite-agent\\builds\\buildkite-windows-cpu-autoscaling-group-i-0015a694724fa8361-1\\xgboost\\xgboost-ci-windows\\src\\learner.cc:740: \n",
      "Parameters: { \"use_label_encoder\" } are not used.\n",
      "\n",
      "  warnings.warn(smsg, UserWarning)\n"
     ]
    },
    {
     "name": "stdout",
     "output_type": "stream",
     "text": [
      "Precision: 0.6666666666666666, Recall: 0.8, Accuracy: 0.6666666666666666\n"
     ]
    },
    {
     "name": "stderr",
     "output_type": "stream",
     "text": [
      "C:\\Users\\kdeep\\anaconda3\\Lib\\site-packages\\xgboost\\core.py:158: UserWarning: [09:34:30] WARNING: C:\\buildkite-agent\\builds\\buildkite-windows-cpu-autoscaling-group-i-0015a694724fa8361-1\\xgboost\\xgboost-ci-windows\\src\\learner.cc:740: \n",
      "Parameters: { \"use_label_encoder\" } are not used.\n",
      "\n",
      "  warnings.warn(smsg, UserWarning)\n"
     ]
    },
    {
     "name": "stdout",
     "output_type": "stream",
     "text": [
      "Precision: 0.8, Recall: 1.0, Accuracy: 0.8888888888888888\n"
     ]
    },
    {
     "name": "stderr",
     "output_type": "stream",
     "text": [
      "C:\\Users\\kdeep\\anaconda3\\Lib\\site-packages\\xgboost\\core.py:158: UserWarning: [09:34:32] WARNING: C:\\buildkite-agent\\builds\\buildkite-windows-cpu-autoscaling-group-i-0015a694724fa8361-1\\xgboost\\xgboost-ci-windows\\src\\learner.cc:740: \n",
      "Parameters: { \"use_label_encoder\" } are not used.\n",
      "\n",
      "  warnings.warn(smsg, UserWarning)\n"
     ]
    },
    {
     "name": "stdout",
     "output_type": "stream",
     "text": [
      "Precision: 1.0, Recall: 1.0, Accuracy: 1.0\n"
     ]
    },
    {
     "name": "stderr",
     "output_type": "stream",
     "text": [
      "C:\\Users\\kdeep\\anaconda3\\Lib\\site-packages\\xgboost\\core.py:158: UserWarning: [09:34:33] WARNING: C:\\buildkite-agent\\builds\\buildkite-windows-cpu-autoscaling-group-i-0015a694724fa8361-1\\xgboost\\xgboost-ci-windows\\src\\learner.cc:740: \n",
      "Parameters: { \"use_label_encoder\" } are not used.\n",
      "\n",
      "  warnings.warn(smsg, UserWarning)\n"
     ]
    },
    {
     "name": "stdout",
     "output_type": "stream",
     "text": [
      "Precision: 0.42857142857142855, Recall: 0.75, Accuracy: 0.4444444444444444\n",
      "Results to be written: eta=0.1, depth=7, dim=0, eps=0.1, (42.3, 42.3, 4.7, 4.7, 0.7395238095238095, 0.7350000000000001, 0.711111111111111, 2928897, 3.76735255002277, 0.024051968643489137)\n",
      "eta=0.1, depth=7, dim=0, eps=0.3\n",
      "Number of flaky documents: 47\n",
      "Number of non-flaky documents: 47\n",
      "Total number of documents: 94\n",
      "Sample document: # Copyright 2021 The NetKet Authors - All rights reserved.\n",
      "#\n",
      "# Licensed under the Apache License, Version 2.0 (the \"License\");\n",
      "# you may not use this file except in compliance with the License.\n",
      "# You may obtain a copy of the License at\n",
      "#\n",
      "#    http://www.apache.org/licenses/LICENSE-2.0\n",
      "#\n",
      "# Unless required by applicable law or agreed to in writing, software\n",
      "# distributed under the License is distributed on an \"AS IS\" BASIS,\n",
      "# WITHOUT WARRANTIES OR CONDITIONS OF ANY KIND, either express or implied.\n",
      "# See the License for the specific language governing permissions and\n",
      "# limitations under the License.\n",
      "\n",
      "import dataclasses\n",
      "import abc\n",
      "\n",
      "from flax.core import freeze\n",
      "\n",
      "\n",
      "@dataclasses.dataclass(frozen=True)\n",
      "class ModuleFramework(abc.ABC):\n",
      "    @staticmethod\n",
      "    @abc.abstractmethod\n",
      "    def is_loaded() -> bool:\n",
      "        pass\n",
      "\n",
      "    @staticmethod\n",
      "    @abc.abstractmethod\n",
      "    def is_my_module(module):\n",
      "        pass\n",
      "\n",
      "    @staticmethod\n",
      "    @abc.abstractmethod\n",
      "    def wrap(module):\n",
      "        return module\n",
      "\n",
      "    @staticmethod\n",
      "    def wrap_params(variables):\n",
      "        return freeze({\"params\": variables})\n",
      "\n",
      "    @staticmethod\n",
      "    @abc.abstractmethod\n",
      "    def unwrap_params(wrapped_variables):\n",
      "        return wrapped_variables\n",
      "\n",
      "\n",
      "registered_frameworks = []\n",
      "\n",
      "\n",
      "def framework(clz):\n",
      "    \"\"\"\n",
      "    Registers a framework and it's wrapper methods to make it\n",
      "    behave like a flax framework.\n",
      "    \"\"\"\n",
      "    clz = dataclasses.dataclass(frozen=True)(clz)\n",
      "    registered_frameworks.append(clz)\n",
      "    return clz\n",
      "\n",
      "\n",
      "@dataclasses.dataclass(frozen=True)\n",
      "class UnknownFramework(ModuleFramework):\n",
      "    name: str = \"Unknown\"\n",
      "\n",
      "    @staticmethod\n",
      "    def is_loaded() -> bool:\n",
      "        return True\n",
      "\n",
      "    @staticmethod\n",
      "    def is_my_module(module):\n",
      "        return False\n",
      "\n",
      "    @staticmethod\n",
      "    def wrap(module):\n",
      "        return module\n",
      "\n",
      "    @staticmethod\n",
      "    def unwrap_params(wrapped_variables):\n",
      "        return wrapped_variables\n",
      "\n",
      "\n",
      "def identify_framework(module):\n",
      "    for _framework in registered_frameworks:\n",
      "        if _framework.is_my_module(module):\n",
      "            return _framework\n",
      "\n",
      "    return UnknownFramework\n",
      "\n",
      "\n",
      "def maybe_wrap_module(module):\n",
      "    \"\"\"\n",
      "    Passing a module from an unknown framework (might be user defined module, a jax\n",
      "    module, flax or haiku or anything else really), attempt to identify what is the\n",
      "    package/framework it comes from, and if so it correctly wraps it in order to\n",
      "    make it behave like a flax module (our default).\n",
      "\n",
      "    Also returns a function used to unpack the parameters once we are done.\n",
      "    \"\"\"\n",
      "    framewrk = identify_framework(module)\n",
      "\n",
      "    return framewrk, framewrk.wrap(module)\n"
     ]
    },
    {
     "name": "stderr",
     "output_type": "stream",
     "text": [
      "C:\\Users\\kdeep\\anaconda3\\Lib\\site-packages\\xgboost\\core.py:158: UserWarning: [09:34:36] WARNING: C:\\buildkite-agent\\builds\\buildkite-windows-cpu-autoscaling-group-i-0015a694724fa8361-1\\xgboost\\xgboost-ci-windows\\src\\learner.cc:740: \n",
      "Parameters: { \"use_label_encoder\" } are not used.\n",
      "\n",
      "  warnings.warn(smsg, UserWarning)\n"
     ]
    },
    {
     "name": "stdout",
     "output_type": "stream",
     "text": [
      "Precision: 1.0, Recall: 0.2, Accuracy: 0.6\n"
     ]
    },
    {
     "name": "stderr",
     "output_type": "stream",
     "text": [
      "C:\\Users\\kdeep\\anaconda3\\Lib\\site-packages\\xgboost\\core.py:158: UserWarning: [09:34:36] WARNING: C:\\buildkite-agent\\builds\\buildkite-windows-cpu-autoscaling-group-i-0015a694724fa8361-1\\xgboost\\xgboost-ci-windows\\src\\learner.cc:740: \n",
      "Parameters: { \"use_label_encoder\" } are not used.\n",
      "\n",
      "  warnings.warn(smsg, UserWarning)\n"
     ]
    },
    {
     "name": "stdout",
     "output_type": "stream",
     "text": [
      "Precision: 0.8, Recall: 0.8, Accuracy: 0.8\n"
     ]
    },
    {
     "name": "stderr",
     "output_type": "stream",
     "text": [
      "C:\\Users\\kdeep\\anaconda3\\Lib\\site-packages\\xgboost\\core.py:158: UserWarning: [09:34:36] WARNING: C:\\buildkite-agent\\builds\\buildkite-windows-cpu-autoscaling-group-i-0015a694724fa8361-1\\xgboost\\xgboost-ci-windows\\src\\learner.cc:740: \n",
      "Parameters: { \"use_label_encoder\" } are not used.\n",
      "\n",
      "  warnings.warn(smsg, UserWarning)\n"
     ]
    },
    {
     "name": "stdout",
     "output_type": "stream",
     "text": [
      "Precision: 1.0, Recall: 1.0, Accuracy: 1.0\n"
     ]
    },
    {
     "name": "stderr",
     "output_type": "stream",
     "text": [
      "C:\\Users\\kdeep\\anaconda3\\Lib\\site-packages\\xgboost\\core.py:158: UserWarning: [09:34:37] WARNING: C:\\buildkite-agent\\builds\\buildkite-windows-cpu-autoscaling-group-i-0015a694724fa8361-1\\xgboost\\xgboost-ci-windows\\src\\learner.cc:740: \n",
      "Parameters: { \"use_label_encoder\" } are not used.\n",
      "\n",
      "  warnings.warn(smsg, UserWarning)\n"
     ]
    },
    {
     "name": "stdout",
     "output_type": "stream",
     "text": [
      "Precision: 0.8, Recall: 0.8, Accuracy: 0.8\n"
     ]
    },
    {
     "name": "stderr",
     "output_type": "stream",
     "text": [
      "C:\\Users\\kdeep\\anaconda3\\Lib\\site-packages\\xgboost\\core.py:158: UserWarning: [09:34:37] WARNING: C:\\buildkite-agent\\builds\\buildkite-windows-cpu-autoscaling-group-i-0015a694724fa8361-1\\xgboost\\xgboost-ci-windows\\src\\learner.cc:740: \n",
      "Parameters: { \"use_label_encoder\" } are not used.\n",
      "\n",
      "  warnings.warn(smsg, UserWarning)\n"
     ]
    },
    {
     "name": "stdout",
     "output_type": "stream",
     "text": [
      "Precision: 1.0, Recall: 0.6, Accuracy: 0.7777777777777778\n"
     ]
    },
    {
     "name": "stderr",
     "output_type": "stream",
     "text": [
      "C:\\Users\\kdeep\\anaconda3\\Lib\\site-packages\\xgboost\\core.py:158: UserWarning: [09:34:38] WARNING: C:\\buildkite-agent\\builds\\buildkite-windows-cpu-autoscaling-group-i-0015a694724fa8361-1\\xgboost\\xgboost-ci-windows\\src\\learner.cc:740: \n",
      "Parameters: { \"use_label_encoder\" } are not used.\n",
      "\n",
      "  warnings.warn(smsg, UserWarning)\n"
     ]
    },
    {
     "name": "stdout",
     "output_type": "stream",
     "text": [
      "Precision: 0.5, Recall: 0.8, Accuracy: 0.4444444444444444\n"
     ]
    },
    {
     "name": "stderr",
     "output_type": "stream",
     "text": [
      "C:\\Users\\kdeep\\anaconda3\\Lib\\site-packages\\xgboost\\core.py:158: UserWarning: [09:34:38] WARNING: C:\\buildkite-agent\\builds\\buildkite-windows-cpu-autoscaling-group-i-0015a694724fa8361-1\\xgboost\\xgboost-ci-windows\\src\\learner.cc:740: \n",
      "Parameters: { \"use_label_encoder\" } are not used.\n",
      "\n",
      "  warnings.warn(smsg, UserWarning)\n"
     ]
    },
    {
     "name": "stdout",
     "output_type": "stream",
     "text": [
      "Precision: 0.6666666666666666, Recall: 0.8, Accuracy: 0.6666666666666666\n"
     ]
    },
    {
     "name": "stderr",
     "output_type": "stream",
     "text": [
      "C:\\Users\\kdeep\\anaconda3\\Lib\\site-packages\\xgboost\\core.py:158: UserWarning: [09:34:38] WARNING: C:\\buildkite-agent\\builds\\buildkite-windows-cpu-autoscaling-group-i-0015a694724fa8361-1\\xgboost\\xgboost-ci-windows\\src\\learner.cc:740: \n",
      "Parameters: { \"use_label_encoder\" } are not used.\n",
      "\n",
      "  warnings.warn(smsg, UserWarning)\n"
     ]
    },
    {
     "name": "stdout",
     "output_type": "stream",
     "text": [
      "Precision: 0.5, Recall: 0.75, Accuracy: 0.5555555555555556\n"
     ]
    },
    {
     "name": "stderr",
     "output_type": "stream",
     "text": [
      "C:\\Users\\kdeep\\anaconda3\\Lib\\site-packages\\xgboost\\core.py:158: UserWarning: [09:34:39] WARNING: C:\\buildkite-agent\\builds\\buildkite-windows-cpu-autoscaling-group-i-0015a694724fa8361-1\\xgboost\\xgboost-ci-windows\\src\\learner.cc:740: \n",
      "Parameters: { \"use_label_encoder\" } are not used.\n",
      "\n",
      "  warnings.warn(smsg, UserWarning)\n"
     ]
    },
    {
     "name": "stdout",
     "output_type": "stream",
     "text": [
      "Precision: 1.0, Recall: 0.75, Accuracy: 0.8888888888888888\n"
     ]
    },
    {
     "name": "stderr",
     "output_type": "stream",
     "text": [
      "C:\\Users\\kdeep\\anaconda3\\Lib\\site-packages\\xgboost\\core.py:158: UserWarning: [09:34:39] WARNING: C:\\buildkite-agent\\builds\\buildkite-windows-cpu-autoscaling-group-i-0015a694724fa8361-1\\xgboost\\xgboost-ci-windows\\src\\learner.cc:740: \n",
      "Parameters: { \"use_label_encoder\" } are not used.\n",
      "\n",
      "  warnings.warn(smsg, UserWarning)\n"
     ]
    },
    {
     "name": "stdout",
     "output_type": "stream",
     "text": [
      "Precision: 0.75, Recall: 0.75, Accuracy: 0.7777777777777778\n",
      "Results to be written: eta=0.1, depth=7, dim=0, eps=0.3, (42.3, 42.3, 4.7, 4.7, 0.8016666666666665, 0.725, 0.731111111111111, 379617, 0.91919750997331, 0.006540311562449476)\n",
      "eta=0.1, depth=7, dim=0, eps=0.5\n",
      "Number of flaky documents: 47\n",
      "Number of non-flaky documents: 47\n",
      "Total number of documents: 94\n",
      "Sample document: # Copyright 2021 The NetKet Authors - All rights reserved.\n",
      "#\n",
      "# Licensed under the Apache License, Version 2.0 (the \"License\");\n",
      "# you may not use this file except in compliance with the License.\n",
      "# You may obtain a copy of the License at\n",
      "#\n",
      "#    http://www.apache.org/licenses/LICENSE-2.0\n",
      "#\n",
      "# Unless required by applicable law or agreed to in writing, software\n",
      "# distributed under the License is distributed on an \"AS IS\" BASIS,\n",
      "# WITHOUT WARRANTIES OR CONDITIONS OF ANY KIND, either express or implied.\n",
      "# See the License for the specific language governing permissions and\n",
      "# limitations under the License.\n",
      "\n",
      "import dataclasses\n",
      "import abc\n",
      "\n",
      "from flax.core import freeze\n",
      "\n",
      "\n",
      "@dataclasses.dataclass(frozen=True)\n",
      "class ModuleFramework(abc.ABC):\n",
      "    @staticmethod\n",
      "    @abc.abstractmethod\n",
      "    def is_loaded() -> bool:\n",
      "        pass\n",
      "\n",
      "    @staticmethod\n",
      "    @abc.abstractmethod\n",
      "    def is_my_module(module):\n",
      "        pass\n",
      "\n",
      "    @staticmethod\n",
      "    @abc.abstractmethod\n",
      "    def wrap(module):\n",
      "        return module\n",
      "\n",
      "    @staticmethod\n",
      "    def wrap_params(variables):\n",
      "        return freeze({\"params\": variables})\n",
      "\n",
      "    @staticmethod\n",
      "    @abc.abstractmethod\n",
      "    def unwrap_params(wrapped_variables):\n",
      "        return wrapped_variables\n",
      "\n",
      "\n",
      "registered_frameworks = []\n",
      "\n",
      "\n",
      "def framework(clz):\n",
      "    \"\"\"\n",
      "    Registers a framework and it's wrapper methods to make it\n",
      "    behave like a flax framework.\n",
      "    \"\"\"\n",
      "    clz = dataclasses.dataclass(frozen=True)(clz)\n",
      "    registered_frameworks.append(clz)\n",
      "    return clz\n",
      "\n",
      "\n",
      "@dataclasses.dataclass(frozen=True)\n",
      "class UnknownFramework(ModuleFramework):\n",
      "    name: str = \"Unknown\"\n",
      "\n",
      "    @staticmethod\n",
      "    def is_loaded() -> bool:\n",
      "        return True\n",
      "\n",
      "    @staticmethod\n",
      "    def is_my_module(module):\n",
      "        return False\n",
      "\n",
      "    @staticmethod\n",
      "    def wrap(module):\n",
      "        return module\n",
      "\n",
      "    @staticmethod\n",
      "    def unwrap_params(wrapped_variables):\n",
      "        return wrapped_variables\n",
      "\n",
      "\n",
      "def identify_framework(module):\n",
      "    for _framework in registered_frameworks:\n",
      "        if _framework.is_my_module(module):\n",
      "            return _framework\n",
      "\n",
      "    return UnknownFramework\n",
      "\n",
      "\n",
      "def maybe_wrap_module(module):\n",
      "    \"\"\"\n",
      "    Passing a module from an unknown framework (might be user defined module, a jax\n",
      "    module, flax or haiku or anything else really), attempt to identify what is the\n",
      "    package/framework it comes from, and if so it correctly wraps it in order to\n",
      "    make it behave like a flax module (our default).\n",
      "\n",
      "    Also returns a function used to unpack the parameters once we are done.\n",
      "    \"\"\"\n",
      "    framewrk = identify_framework(module)\n",
      "\n",
      "    return framewrk, framewrk.wrap(module)\n"
     ]
    },
    {
     "name": "stderr",
     "output_type": "stream",
     "text": [
      "C:\\Users\\kdeep\\anaconda3\\Lib\\site-packages\\xgboost\\core.py:158: UserWarning: [09:34:40] WARNING: C:\\buildkite-agent\\builds\\buildkite-windows-cpu-autoscaling-group-i-0015a694724fa8361-1\\xgboost\\xgboost-ci-windows\\src\\learner.cc:740: \n",
      "Parameters: { \"use_label_encoder\" } are not used.\n",
      "\n",
      "  warnings.warn(smsg, UserWarning)\n"
     ]
    },
    {
     "name": "stdout",
     "output_type": "stream",
     "text": [
      "Precision: 0.4, Recall: 0.4, Accuracy: 0.4\n"
     ]
    },
    {
     "name": "stderr",
     "output_type": "stream",
     "text": [
      "C:\\Users\\kdeep\\anaconda3\\Lib\\site-packages\\xgboost\\core.py:158: UserWarning: [09:34:40] WARNING: C:\\buildkite-agent\\builds\\buildkite-windows-cpu-autoscaling-group-i-0015a694724fa8361-1\\xgboost\\xgboost-ci-windows\\src\\learner.cc:740: \n",
      "Parameters: { \"use_label_encoder\" } are not used.\n",
      "\n",
      "  warnings.warn(smsg, UserWarning)\n"
     ]
    },
    {
     "name": "stdout",
     "output_type": "stream",
     "text": [
      "Precision: 1.0, Recall: 0.8, Accuracy: 0.9\n"
     ]
    },
    {
     "name": "stderr",
     "output_type": "stream",
     "text": [
      "C:\\Users\\kdeep\\anaconda3\\Lib\\site-packages\\xgboost\\core.py:158: UserWarning: [09:34:41] WARNING: C:\\buildkite-agent\\builds\\buildkite-windows-cpu-autoscaling-group-i-0015a694724fa8361-1\\xgboost\\xgboost-ci-windows\\src\\learner.cc:740: \n",
      "Parameters: { \"use_label_encoder\" } are not used.\n",
      "\n",
      "  warnings.warn(smsg, UserWarning)\n"
     ]
    },
    {
     "name": "stdout",
     "output_type": "stream",
     "text": [
      "Precision: 1.0, Recall: 1.0, Accuracy: 1.0\n"
     ]
    },
    {
     "name": "stderr",
     "output_type": "stream",
     "text": [
      "C:\\Users\\kdeep\\anaconda3\\Lib\\site-packages\\xgboost\\core.py:158: UserWarning: [09:34:41] WARNING: C:\\buildkite-agent\\builds\\buildkite-windows-cpu-autoscaling-group-i-0015a694724fa8361-1\\xgboost\\xgboost-ci-windows\\src\\learner.cc:740: \n",
      "Parameters: { \"use_label_encoder\" } are not used.\n",
      "\n",
      "  warnings.warn(smsg, UserWarning)\n"
     ]
    },
    {
     "name": "stdout",
     "output_type": "stream",
     "text": [
      "Precision: 1.0, Recall: 0.8, Accuracy: 0.9\n"
     ]
    },
    {
     "name": "stderr",
     "output_type": "stream",
     "text": [
      "C:\\Users\\kdeep\\anaconda3\\Lib\\site-packages\\xgboost\\core.py:158: UserWarning: [09:34:41] WARNING: C:\\buildkite-agent\\builds\\buildkite-windows-cpu-autoscaling-group-i-0015a694724fa8361-1\\xgboost\\xgboost-ci-windows\\src\\learner.cc:740: \n",
      "Parameters: { \"use_label_encoder\" } are not used.\n",
      "\n",
      "  warnings.warn(smsg, UserWarning)\n"
     ]
    },
    {
     "name": "stdout",
     "output_type": "stream",
     "text": [
      "Precision: 1.0, Recall: 0.6, Accuracy: 0.7777777777777778\n"
     ]
    },
    {
     "name": "stderr",
     "output_type": "stream",
     "text": [
      "C:\\Users\\kdeep\\anaconda3\\Lib\\site-packages\\xgboost\\core.py:158: UserWarning: [09:34:42] WARNING: C:\\buildkite-agent\\builds\\buildkite-windows-cpu-autoscaling-group-i-0015a694724fa8361-1\\xgboost\\xgboost-ci-windows\\src\\learner.cc:740: \n",
      "Parameters: { \"use_label_encoder\" } are not used.\n",
      "\n",
      "  warnings.warn(smsg, UserWarning)\n"
     ]
    },
    {
     "name": "stdout",
     "output_type": "stream",
     "text": [
      "Precision: 0.625, Recall: 1.0, Accuracy: 0.6666666666666666\n"
     ]
    },
    {
     "name": "stderr",
     "output_type": "stream",
     "text": [
      "C:\\Users\\kdeep\\anaconda3\\Lib\\site-packages\\xgboost\\core.py:158: UserWarning: [09:34:42] WARNING: C:\\buildkite-agent\\builds\\buildkite-windows-cpu-autoscaling-group-i-0015a694724fa8361-1\\xgboost\\xgboost-ci-windows\\src\\learner.cc:740: \n",
      "Parameters: { \"use_label_encoder\" } are not used.\n",
      "\n",
      "  warnings.warn(smsg, UserWarning)\n"
     ]
    },
    {
     "name": "stdout",
     "output_type": "stream",
     "text": [
      "Precision: 0.5714285714285714, Recall: 0.8, Accuracy: 0.5555555555555556\n"
     ]
    },
    {
     "name": "stderr",
     "output_type": "stream",
     "text": [
      "C:\\Users\\kdeep\\anaconda3\\Lib\\site-packages\\xgboost\\core.py:158: UserWarning: [09:34:42] WARNING: C:\\buildkite-agent\\builds\\buildkite-windows-cpu-autoscaling-group-i-0015a694724fa8361-1\\xgboost\\xgboost-ci-windows\\src\\learner.cc:740: \n",
      "Parameters: { \"use_label_encoder\" } are not used.\n",
      "\n",
      "  warnings.warn(smsg, UserWarning)\n"
     ]
    },
    {
     "name": "stdout",
     "output_type": "stream",
     "text": [
      "Precision: 1.0, Recall: 0.75, Accuracy: 0.8888888888888888\n"
     ]
    },
    {
     "name": "stderr",
     "output_type": "stream",
     "text": [
      "C:\\Users\\kdeep\\anaconda3\\Lib\\site-packages\\xgboost\\core.py:158: UserWarning: [09:34:42] WARNING: C:\\buildkite-agent\\builds\\buildkite-windows-cpu-autoscaling-group-i-0015a694724fa8361-1\\xgboost\\xgboost-ci-windows\\src\\learner.cc:740: \n",
      "Parameters: { \"use_label_encoder\" } are not used.\n",
      "\n",
      "  warnings.warn(smsg, UserWarning)\n"
     ]
    },
    {
     "name": "stdout",
     "output_type": "stream",
     "text": [
      "Precision: 0.75, Recall: 0.75, Accuracy: 0.7777777777777778\n"
     ]
    },
    {
     "name": "stderr",
     "output_type": "stream",
     "text": [
      "C:\\Users\\kdeep\\anaconda3\\Lib\\site-packages\\xgboost\\core.py:158: UserWarning: [09:34:43] WARNING: C:\\buildkite-agent\\builds\\buildkite-windows-cpu-autoscaling-group-i-0015a694724fa8361-1\\xgboost\\xgboost-ci-windows\\src\\learner.cc:740: \n",
      "Parameters: { \"use_label_encoder\" } are not used.\n",
      "\n",
      "  warnings.warn(smsg, UserWarning)\n"
     ]
    },
    {
     "name": "stdout",
     "output_type": "stream",
     "text": [
      "Precision: 0.3333333333333333, Recall: 0.5, Accuracy: 0.3333333333333333\n",
      "Results to be written: eta=0.1, depth=7, dim=0, eps=0.5, (42.3, 42.3, 4.7, 4.7, 0.7679761904761905, 0.74, 0.72, 164544, 0.7275037100771441, 0.00536632032590218)\n",
      "eta=0.1, depth=7, dim=100, eps=0.1\n",
      "Number of flaky documents: 47\n",
      "Number of non-flaky documents: 47\n",
      "Total number of documents: 94\n",
      "Sample document: # Copyright 2021 The NetKet Authors - All rights reserved.\n",
      "#\n",
      "# Licensed under the Apache License, Version 2.0 (the \"License\");\n",
      "# you may not use this file except in compliance with the License.\n",
      "# You may obtain a copy of the License at\n",
      "#\n",
      "#    http://www.apache.org/licenses/LICENSE-2.0\n",
      "#\n",
      "# Unless required by applicable law or agreed to in writing, software\n",
      "# distributed under the License is distributed on an \"AS IS\" BASIS,\n",
      "# WITHOUT WARRANTIES OR CONDITIONS OF ANY KIND, either express or implied.\n",
      "# See the License for the specific language governing permissions and\n",
      "# limitations under the License.\n",
      "\n",
      "import dataclasses\n",
      "import abc\n",
      "\n",
      "from flax.core import freeze\n",
      "\n",
      "\n",
      "@dataclasses.dataclass(frozen=True)\n",
      "class ModuleFramework(abc.ABC):\n",
      "    @staticmethod\n",
      "    @abc.abstractmethod\n",
      "    def is_loaded() -> bool:\n",
      "        pass\n",
      "\n",
      "    @staticmethod\n",
      "    @abc.abstractmethod\n",
      "    def is_my_module(module):\n",
      "        pass\n",
      "\n",
      "    @staticmethod\n",
      "    @abc.abstractmethod\n",
      "    def wrap(module):\n",
      "        return module\n",
      "\n",
      "    @staticmethod\n",
      "    def wrap_params(variables):\n",
      "        return freeze({\"params\": variables})\n",
      "\n",
      "    @staticmethod\n",
      "    @abc.abstractmethod\n",
      "    def unwrap_params(wrapped_variables):\n",
      "        return wrapped_variables\n",
      "\n",
      "\n",
      "registered_frameworks = []\n",
      "\n",
      "\n",
      "def framework(clz):\n",
      "    \"\"\"\n",
      "    Registers a framework and it's wrapper methods to make it\n",
      "    behave like a flax framework.\n",
      "    \"\"\"\n",
      "    clz = dataclasses.dataclass(frozen=True)(clz)\n",
      "    registered_frameworks.append(clz)\n",
      "    return clz\n",
      "\n",
      "\n",
      "@dataclasses.dataclass(frozen=True)\n",
      "class UnknownFramework(ModuleFramework):\n",
      "    name: str = \"Unknown\"\n",
      "\n",
      "    @staticmethod\n",
      "    def is_loaded() -> bool:\n",
      "        return True\n",
      "\n",
      "    @staticmethod\n",
      "    def is_my_module(module):\n",
      "        return False\n",
      "\n",
      "    @staticmethod\n",
      "    def wrap(module):\n",
      "        return module\n",
      "\n",
      "    @staticmethod\n",
      "    def unwrap_params(wrapped_variables):\n",
      "        return wrapped_variables\n",
      "\n",
      "\n",
      "def identify_framework(module):\n",
      "    for _framework in registered_frameworks:\n",
      "        if _framework.is_my_module(module):\n",
      "            return _framework\n",
      "\n",
      "    return UnknownFramework\n",
      "\n",
      "\n",
      "def maybe_wrap_module(module):\n",
      "    \"\"\"\n",
      "    Passing a module from an unknown framework (might be user defined module, a jax\n",
      "    module, flax or haiku or anything else really), attempt to identify what is the\n",
      "    package/framework it comes from, and if so it correctly wraps it in order to\n",
      "    make it behave like a flax module (our default).\n",
      "\n",
      "    Also returns a function used to unpack the parameters once we are done.\n",
      "    \"\"\"\n",
      "    framewrk = identify_framework(module)\n",
      "\n",
      "    return framewrk, framewrk.wrap(module)\n"
     ]
    },
    {
     "name": "stderr",
     "output_type": "stream",
     "text": [
      "C:\\Users\\kdeep\\anaconda3\\Lib\\site-packages\\xgboost\\core.py:158: UserWarning: [09:34:43] WARNING: C:\\buildkite-agent\\builds\\buildkite-windows-cpu-autoscaling-group-i-0015a694724fa8361-1\\xgboost\\xgboost-ci-windows\\src\\learner.cc:740: \n",
      "Parameters: { \"use_label_encoder\" } are not used.\n",
      "\n",
      "  warnings.warn(smsg, UserWarning)\n"
     ]
    },
    {
     "name": "stdout",
     "output_type": "stream",
     "text": [
      "Precision: 1.0, Recall: 0.2, Accuracy: 0.6\n"
     ]
    },
    {
     "name": "stderr",
     "output_type": "stream",
     "text": [
      "C:\\Users\\kdeep\\anaconda3\\Lib\\site-packages\\xgboost\\core.py:158: UserWarning: [09:34:44] WARNING: C:\\buildkite-agent\\builds\\buildkite-windows-cpu-autoscaling-group-i-0015a694724fa8361-1\\xgboost\\xgboost-ci-windows\\src\\learner.cc:740: \n",
      "Parameters: { \"use_label_encoder\" } are not used.\n",
      "\n",
      "  warnings.warn(smsg, UserWarning)\n"
     ]
    },
    {
     "name": "stdout",
     "output_type": "stream",
     "text": [
      "Precision: 0.8, Recall: 0.8, Accuracy: 0.8\n"
     ]
    },
    {
     "name": "stderr",
     "output_type": "stream",
     "text": [
      "C:\\Users\\kdeep\\anaconda3\\Lib\\site-packages\\xgboost\\core.py:158: UserWarning: [09:34:44] WARNING: C:\\buildkite-agent\\builds\\buildkite-windows-cpu-autoscaling-group-i-0015a694724fa8361-1\\xgboost\\xgboost-ci-windows\\src\\learner.cc:740: \n",
      "Parameters: { \"use_label_encoder\" } are not used.\n",
      "\n",
      "  warnings.warn(smsg, UserWarning)\n"
     ]
    },
    {
     "name": "stdout",
     "output_type": "stream",
     "text": [
      "Precision: 1.0, Recall: 0.8, Accuracy: 0.9\n"
     ]
    },
    {
     "name": "stderr",
     "output_type": "stream",
     "text": [
      "C:\\Users\\kdeep\\anaconda3\\Lib\\site-packages\\xgboost\\core.py:158: UserWarning: [09:34:44] WARNING: C:\\buildkite-agent\\builds\\buildkite-windows-cpu-autoscaling-group-i-0015a694724fa8361-1\\xgboost\\xgboost-ci-windows\\src\\learner.cc:740: \n",
      "Parameters: { \"use_label_encoder\" } are not used.\n",
      "\n",
      "  warnings.warn(smsg, UserWarning)\n"
     ]
    },
    {
     "name": "stdout",
     "output_type": "stream",
     "text": [
      "Precision: 1.0, Recall: 0.4, Accuracy: 0.7\n"
     ]
    },
    {
     "name": "stderr",
     "output_type": "stream",
     "text": [
      "C:\\Users\\kdeep\\anaconda3\\Lib\\site-packages\\xgboost\\core.py:158: UserWarning: [09:34:44] WARNING: C:\\buildkite-agent\\builds\\buildkite-windows-cpu-autoscaling-group-i-0015a694724fa8361-1\\xgboost\\xgboost-ci-windows\\src\\learner.cc:740: \n",
      "Parameters: { \"use_label_encoder\" } are not used.\n",
      "\n",
      "  warnings.warn(smsg, UserWarning)\n"
     ]
    },
    {
     "name": "stdout",
     "output_type": "stream",
     "text": [
      "Precision: 1.0, Recall: 0.2, Accuracy: 0.5555555555555556\n"
     ]
    },
    {
     "name": "stderr",
     "output_type": "stream",
     "text": [
      "C:\\Users\\kdeep\\anaconda3\\Lib\\site-packages\\xgboost\\core.py:158: UserWarning: [09:34:45] WARNING: C:\\buildkite-agent\\builds\\buildkite-windows-cpu-autoscaling-group-i-0015a694724fa8361-1\\xgboost\\xgboost-ci-windows\\src\\learner.cc:740: \n",
      "Parameters: { \"use_label_encoder\" } are not used.\n",
      "\n",
      "  warnings.warn(smsg, UserWarning)\n"
     ]
    },
    {
     "name": "stdout",
     "output_type": "stream",
     "text": [
      "Precision: 0.5714285714285714, Recall: 0.8, Accuracy: 0.5555555555555556\n"
     ]
    },
    {
     "name": "stderr",
     "output_type": "stream",
     "text": [
      "C:\\Users\\kdeep\\anaconda3\\Lib\\site-packages\\xgboost\\core.py:158: UserWarning: [09:34:45] WARNING: C:\\buildkite-agent\\builds\\buildkite-windows-cpu-autoscaling-group-i-0015a694724fa8361-1\\xgboost\\xgboost-ci-windows\\src\\learner.cc:740: \n",
      "Parameters: { \"use_label_encoder\" } are not used.\n",
      "\n",
      "  warnings.warn(smsg, UserWarning)\n"
     ]
    },
    {
     "name": "stdout",
     "output_type": "stream",
     "text": [
      "Precision: 0.6666666666666666, Recall: 0.8, Accuracy: 0.6666666666666666\n",
      "Precision: 1.0, Recall: 0.5, Accuracy: 0.7777777777777778\n"
     ]
    },
    {
     "name": "stderr",
     "output_type": "stream",
     "text": [
      "C:\\Users\\kdeep\\anaconda3\\Lib\\site-packages\\xgboost\\core.py:158: UserWarning: [09:34:45] WARNING: C:\\buildkite-agent\\builds\\buildkite-windows-cpu-autoscaling-group-i-0015a694724fa8361-1\\xgboost\\xgboost-ci-windows\\src\\learner.cc:740: \n",
      "Parameters: { \"use_label_encoder\" } are not used.\n",
      "\n",
      "  warnings.warn(smsg, UserWarning)\n",
      "C:\\Users\\kdeep\\anaconda3\\Lib\\site-packages\\xgboost\\core.py:158: UserWarning: [09:34:45] WARNING: C:\\buildkite-agent\\builds\\buildkite-windows-cpu-autoscaling-group-i-0015a694724fa8361-1\\xgboost\\xgboost-ci-windows\\src\\learner.cc:740: \n",
      "Parameters: { \"use_label_encoder\" } are not used.\n",
      "\n",
      "  warnings.warn(smsg, UserWarning)\n"
     ]
    },
    {
     "name": "stdout",
     "output_type": "stream",
     "text": [
      "Precision: 0.8, Recall: 1.0, Accuracy: 0.8888888888888888\n"
     ]
    },
    {
     "name": "stderr",
     "output_type": "stream",
     "text": [
      "C:\\Users\\kdeep\\anaconda3\\Lib\\site-packages\\xgboost\\core.py:158: UserWarning: [09:34:46] WARNING: C:\\buildkite-agent\\builds\\buildkite-windows-cpu-autoscaling-group-i-0015a694724fa8361-1\\xgboost\\xgboost-ci-windows\\src\\learner.cc:740: \n",
      "Parameters: { \"use_label_encoder\" } are not used.\n",
      "\n",
      "  warnings.warn(smsg, UserWarning)\n"
     ]
    },
    {
     "name": "stdout",
     "output_type": "stream",
     "text": [
      "Precision: 0.5, Recall: 0.75, Accuracy: 0.5555555555555556\n",
      "Results to be written: eta=0.1, depth=7, dim=100, eps=0.1, (42.3, 42.3, 4.7, 4.7, 0.8338095238095239, 0.625, 0.7, 75808, 0.5998868099879473, 0.004445456977054061)\n",
      "eta=0.1, depth=7, dim=100, eps=0.3\n",
      "Number of flaky documents: 47\n",
      "Number of non-flaky documents: 47\n",
      "Total number of documents: 94\n",
      "Sample document: # Copyright 2021 The NetKet Authors - All rights reserved.\n",
      "#\n",
      "# Licensed under the Apache License, Version 2.0 (the \"License\");\n",
      "# you may not use this file except in compliance with the License.\n",
      "# You may obtain a copy of the License at\n",
      "#\n",
      "#    http://www.apache.org/licenses/LICENSE-2.0\n",
      "#\n",
      "# Unless required by applicable law or agreed to in writing, software\n",
      "# distributed under the License is distributed on an \"AS IS\" BASIS,\n",
      "# WITHOUT WARRANTIES OR CONDITIONS OF ANY KIND, either express or implied.\n",
      "# See the License for the specific language governing permissions and\n",
      "# limitations under the License.\n",
      "\n",
      "import dataclasses\n",
      "import abc\n",
      "\n",
      "from flax.core import freeze\n",
      "\n",
      "\n",
      "@dataclasses.dataclass(frozen=True)\n",
      "class ModuleFramework(abc.ABC):\n",
      "    @staticmethod\n",
      "    @abc.abstractmethod\n",
      "    def is_loaded() -> bool:\n",
      "        pass\n",
      "\n",
      "    @staticmethod\n",
      "    @abc.abstractmethod\n",
      "    def is_my_module(module):\n",
      "        pass\n",
      "\n",
      "    @staticmethod\n",
      "    @abc.abstractmethod\n",
      "    def wrap(module):\n",
      "        return module\n",
      "\n",
      "    @staticmethod\n",
      "    def wrap_params(variables):\n",
      "        return freeze({\"params\": variables})\n",
      "\n",
      "    @staticmethod\n",
      "    @abc.abstractmethod\n",
      "    def unwrap_params(wrapped_variables):\n",
      "        return wrapped_variables\n",
      "\n",
      "\n",
      "registered_frameworks = []\n",
      "\n",
      "\n",
      "def framework(clz):\n",
      "    \"\"\"\n",
      "    Registers a framework and it's wrapper methods to make it\n",
      "    behave like a flax framework.\n",
      "    \"\"\"\n",
      "    clz = dataclasses.dataclass(frozen=True)(clz)\n",
      "    registered_frameworks.append(clz)\n",
      "    return clz\n",
      "\n",
      "\n",
      "@dataclasses.dataclass(frozen=True)\n",
      "class UnknownFramework(ModuleFramework):\n",
      "    name: str = \"Unknown\"\n",
      "\n",
      "    @staticmethod\n",
      "    def is_loaded() -> bool:\n",
      "        return True\n",
      "\n",
      "    @staticmethod\n",
      "    def is_my_module(module):\n",
      "        return False\n",
      "\n",
      "    @staticmethod\n",
      "    def wrap(module):\n",
      "        return module\n",
      "\n",
      "    @staticmethod\n",
      "    def unwrap_params(wrapped_variables):\n",
      "        return wrapped_variables\n",
      "\n",
      "\n",
      "def identify_framework(module):\n",
      "    for _framework in registered_frameworks:\n",
      "        if _framework.is_my_module(module):\n",
      "            return _framework\n",
      "\n",
      "    return UnknownFramework\n",
      "\n",
      "\n",
      "def maybe_wrap_module(module):\n",
      "    \"\"\"\n",
      "    Passing a module from an unknown framework (might be user defined module, a jax\n",
      "    module, flax or haiku or anything else really), attempt to identify what is the\n",
      "    package/framework it comes from, and if so it correctly wraps it in order to\n",
      "    make it behave like a flax module (our default).\n",
      "\n",
      "    Also returns a function used to unpack the parameters once we are done.\n",
      "    \"\"\"\n",
      "    framewrk = identify_framework(module)\n",
      "\n",
      "    return framewrk, framewrk.wrap(module)\n"
     ]
    },
    {
     "name": "stderr",
     "output_type": "stream",
     "text": [
      "C:\\Users\\kdeep\\anaconda3\\Lib\\site-packages\\xgboost\\core.py:158: UserWarning: [09:34:46] WARNING: C:\\buildkite-agent\\builds\\buildkite-windows-cpu-autoscaling-group-i-0015a694724fa8361-1\\xgboost\\xgboost-ci-windows\\src\\learner.cc:740: \n",
      "Parameters: { \"use_label_encoder\" } are not used.\n",
      "\n",
      "  warnings.warn(smsg, UserWarning)\n"
     ]
    },
    {
     "name": "stdout",
     "output_type": "stream",
     "text": [
      "Precision: 1.0, Recall: 0.2, Accuracy: 0.6\n"
     ]
    },
    {
     "name": "stderr",
     "output_type": "stream",
     "text": [
      "C:\\Users\\kdeep\\anaconda3\\Lib\\site-packages\\xgboost\\core.py:158: UserWarning: [09:34:47] WARNING: C:\\buildkite-agent\\builds\\buildkite-windows-cpu-autoscaling-group-i-0015a694724fa8361-1\\xgboost\\xgboost-ci-windows\\src\\learner.cc:740: \n",
      "Parameters: { \"use_label_encoder\" } are not used.\n",
      "\n",
      "  warnings.warn(smsg, UserWarning)\n"
     ]
    },
    {
     "name": "stdout",
     "output_type": "stream",
     "text": [
      "Precision: 0.6666666666666666, Recall: 0.8, Accuracy: 0.7\n"
     ]
    },
    {
     "name": "stderr",
     "output_type": "stream",
     "text": [
      "C:\\Users\\kdeep\\anaconda3\\Lib\\site-packages\\xgboost\\core.py:158: UserWarning: [09:34:47] WARNING: C:\\buildkite-agent\\builds\\buildkite-windows-cpu-autoscaling-group-i-0015a694724fa8361-1\\xgboost\\xgboost-ci-windows\\src\\learner.cc:740: \n",
      "Parameters: { \"use_label_encoder\" } are not used.\n",
      "\n",
      "  warnings.warn(smsg, UserWarning)\n"
     ]
    },
    {
     "name": "stdout",
     "output_type": "stream",
     "text": [
      "Precision: 1.0, Recall: 0.6, Accuracy: 0.8\n"
     ]
    },
    {
     "name": "stderr",
     "output_type": "stream",
     "text": [
      "C:\\Users\\kdeep\\anaconda3\\Lib\\site-packages\\xgboost\\core.py:158: UserWarning: [09:34:47] WARNING: C:\\buildkite-agent\\builds\\buildkite-windows-cpu-autoscaling-group-i-0015a694724fa8361-1\\xgboost\\xgboost-ci-windows\\src\\learner.cc:740: \n",
      "Parameters: { \"use_label_encoder\" } are not used.\n",
      "\n",
      "  warnings.warn(smsg, UserWarning)\n"
     ]
    },
    {
     "name": "stdout",
     "output_type": "stream",
     "text": [
      "Precision: 0.75, Recall: 0.6, Accuracy: 0.7\n"
     ]
    },
    {
     "name": "stderr",
     "output_type": "stream",
     "text": [
      "C:\\Users\\kdeep\\anaconda3\\Lib\\site-packages\\xgboost\\core.py:158: UserWarning: [09:34:48] WARNING: C:\\buildkite-agent\\builds\\buildkite-windows-cpu-autoscaling-group-i-0015a694724fa8361-1\\xgboost\\xgboost-ci-windows\\src\\learner.cc:740: \n",
      "Parameters: { \"use_label_encoder\" } are not used.\n",
      "\n",
      "  warnings.warn(smsg, UserWarning)\n"
     ]
    },
    {
     "name": "stdout",
     "output_type": "stream",
     "text": [
      "Precision: 1.0, Recall: 0.4, Accuracy: 0.6666666666666666\n"
     ]
    },
    {
     "name": "stderr",
     "output_type": "stream",
     "text": [
      "C:\\Users\\kdeep\\anaconda3\\Lib\\site-packages\\xgboost\\core.py:158: UserWarning: [09:34:48] WARNING: C:\\buildkite-agent\\builds\\buildkite-windows-cpu-autoscaling-group-i-0015a694724fa8361-1\\xgboost\\xgboost-ci-windows\\src\\learner.cc:740: \n",
      "Parameters: { \"use_label_encoder\" } are not used.\n",
      "\n",
      "  warnings.warn(smsg, UserWarning)\n"
     ]
    },
    {
     "name": "stdout",
     "output_type": "stream",
     "text": [
      "Precision: 0.5714285714285714, Recall: 0.8, Accuracy: 0.5555555555555556\n"
     ]
    },
    {
     "name": "stderr",
     "output_type": "stream",
     "text": [
      "C:\\Users\\kdeep\\anaconda3\\Lib\\site-packages\\xgboost\\core.py:158: UserWarning: [09:34:48] WARNING: C:\\buildkite-agent\\builds\\buildkite-windows-cpu-autoscaling-group-i-0015a694724fa8361-1\\xgboost\\xgboost-ci-windows\\src\\learner.cc:740: \n",
      "Parameters: { \"use_label_encoder\" } are not used.\n",
      "\n",
      "  warnings.warn(smsg, UserWarning)\n"
     ]
    },
    {
     "name": "stdout",
     "output_type": "stream",
     "text": [
      "Precision: 0.5, Recall: 0.6, Accuracy: 0.4444444444444444\n"
     ]
    },
    {
     "name": "stderr",
     "output_type": "stream",
     "text": [
      "C:\\Users\\kdeep\\anaconda3\\Lib\\site-packages\\xgboost\\core.py:158: UserWarning: [09:34:48] WARNING: C:\\buildkite-agent\\builds\\buildkite-windows-cpu-autoscaling-group-i-0015a694724fa8361-1\\xgboost\\xgboost-ci-windows\\src\\learner.cc:740: \n",
      "Parameters: { \"use_label_encoder\" } are not used.\n",
      "\n",
      "  warnings.warn(smsg, UserWarning)\n"
     ]
    },
    {
     "name": "stdout",
     "output_type": "stream",
     "text": [
      "Precision: 0.8, Recall: 1.0, Accuracy: 0.8888888888888888\n",
      "Precision: 0.8, Recall: 1.0, Accuracy: 0.8888888888888888\n"
     ]
    },
    {
     "name": "stderr",
     "output_type": "stream",
     "text": [
      "C:\\Users\\kdeep\\anaconda3\\Lib\\site-packages\\xgboost\\core.py:158: UserWarning: [09:34:49] WARNING: C:\\buildkite-agent\\builds\\buildkite-windows-cpu-autoscaling-group-i-0015a694724fa8361-1\\xgboost\\xgboost-ci-windows\\src\\learner.cc:740: \n",
      "Parameters: { \"use_label_encoder\" } are not used.\n",
      "\n",
      "  warnings.warn(smsg, UserWarning)\n",
      "C:\\Users\\kdeep\\anaconda3\\Lib\\site-packages\\xgboost\\core.py:158: UserWarning: [09:34:49] WARNING: C:\\buildkite-agent\\builds\\buildkite-windows-cpu-autoscaling-group-i-0015a694724fa8361-1\\xgboost\\xgboost-ci-windows\\src\\learner.cc:740: \n",
      "Parameters: { \"use_label_encoder\" } are not used.\n",
      "\n",
      "  warnings.warn(smsg, UserWarning)\n"
     ]
    },
    {
     "name": "stdout",
     "output_type": "stream",
     "text": [
      "Precision: 0.5, Recall: 0.75, Accuracy: 0.5555555555555556\n",
      "Results to be written: eta=0.1, depth=7, dim=100, eps=0.3, (42.3, 42.3, 4.7, 4.7, 0.7588095238095237, 0.675, 0.68, 75808, 0.6438867600983942, 0.004756510452745508)\n",
      "eta=0.1, depth=7, dim=100, eps=0.5\n",
      "Number of flaky documents: 47\n",
      "Number of non-flaky documents: 47\n",
      "Total number of documents: 94\n",
      "Sample document: # Copyright 2021 The NetKet Authors - All rights reserved.\n",
      "#\n",
      "# Licensed under the Apache License, Version 2.0 (the \"License\");\n",
      "# you may not use this file except in compliance with the License.\n",
      "# You may obtain a copy of the License at\n",
      "#\n",
      "#    http://www.apache.org/licenses/LICENSE-2.0\n",
      "#\n",
      "# Unless required by applicable law or agreed to in writing, software\n",
      "# distributed under the License is distributed on an \"AS IS\" BASIS,\n",
      "# WITHOUT WARRANTIES OR CONDITIONS OF ANY KIND, either express or implied.\n",
      "# See the License for the specific language governing permissions and\n",
      "# limitations under the License.\n",
      "\n",
      "import dataclasses\n",
      "import abc\n",
      "\n",
      "from flax.core import freeze\n",
      "\n",
      "\n",
      "@dataclasses.dataclass(frozen=True)\n",
      "class ModuleFramework(abc.ABC):\n",
      "    @staticmethod\n",
      "    @abc.abstractmethod\n",
      "    def is_loaded() -> bool:\n",
      "        pass\n",
      "\n",
      "    @staticmethod\n",
      "    @abc.abstractmethod\n",
      "    def is_my_module(module):\n",
      "        pass\n",
      "\n",
      "    @staticmethod\n",
      "    @abc.abstractmethod\n",
      "    def wrap(module):\n",
      "        return module\n",
      "\n",
      "    @staticmethod\n",
      "    def wrap_params(variables):\n",
      "        return freeze({\"params\": variables})\n",
      "\n",
      "    @staticmethod\n",
      "    @abc.abstractmethod\n",
      "    def unwrap_params(wrapped_variables):\n",
      "        return wrapped_variables\n",
      "\n",
      "\n",
      "registered_frameworks = []\n",
      "\n",
      "\n",
      "def framework(clz):\n",
      "    \"\"\"\n",
      "    Registers a framework and it's wrapper methods to make it\n",
      "    behave like a flax framework.\n",
      "    \"\"\"\n",
      "    clz = dataclasses.dataclass(frozen=True)(clz)\n",
      "    registered_frameworks.append(clz)\n",
      "    return clz\n",
      "\n",
      "\n",
      "@dataclasses.dataclass(frozen=True)\n",
      "class UnknownFramework(ModuleFramework):\n",
      "    name: str = \"Unknown\"\n",
      "\n",
      "    @staticmethod\n",
      "    def is_loaded() -> bool:\n",
      "        return True\n",
      "\n",
      "    @staticmethod\n",
      "    def is_my_module(module):\n",
      "        return False\n",
      "\n",
      "    @staticmethod\n",
      "    def wrap(module):\n",
      "        return module\n",
      "\n",
      "    @staticmethod\n",
      "    def unwrap_params(wrapped_variables):\n",
      "        return wrapped_variables\n",
      "\n",
      "\n",
      "def identify_framework(module):\n",
      "    for _framework in registered_frameworks:\n",
      "        if _framework.is_my_module(module):\n",
      "            return _framework\n",
      "\n",
      "    return UnknownFramework\n",
      "\n",
      "\n",
      "def maybe_wrap_module(module):\n",
      "    \"\"\"\n",
      "    Passing a module from an unknown framework (might be user defined module, a jax\n",
      "    module, flax or haiku or anything else really), attempt to identify what is the\n",
      "    package/framework it comes from, and if so it correctly wraps it in order to\n",
      "    make it behave like a flax module (our default).\n",
      "\n",
      "    Also returns a function used to unpack the parameters once we are done.\n",
      "    \"\"\"\n",
      "    framewrk = identify_framework(module)\n",
      "\n",
      "    return framewrk, framewrk.wrap(module)\n"
     ]
    },
    {
     "name": "stderr",
     "output_type": "stream",
     "text": [
      "C:\\Users\\kdeep\\anaconda3\\Lib\\site-packages\\xgboost\\core.py:158: UserWarning: [09:34:49] WARNING: C:\\buildkite-agent\\builds\\buildkite-windows-cpu-autoscaling-group-i-0015a694724fa8361-1\\xgboost\\xgboost-ci-windows\\src\\learner.cc:740: \n",
      "Parameters: { \"use_label_encoder\" } are not used.\n",
      "\n",
      "  warnings.warn(smsg, UserWarning)\n"
     ]
    },
    {
     "name": "stdout",
     "output_type": "stream",
     "text": [
      "Precision: 0.25, Recall: 0.2, Accuracy: 0.3\n"
     ]
    },
    {
     "name": "stderr",
     "output_type": "stream",
     "text": [
      "C:\\Users\\kdeep\\anaconda3\\Lib\\site-packages\\xgboost\\core.py:158: UserWarning: [09:34:50] WARNING: C:\\buildkite-agent\\builds\\buildkite-windows-cpu-autoscaling-group-i-0015a694724fa8361-1\\xgboost\\xgboost-ci-windows\\src\\learner.cc:740: \n",
      "Parameters: { \"use_label_encoder\" } are not used.\n",
      "\n",
      "  warnings.warn(smsg, UserWarning)\n"
     ]
    },
    {
     "name": "stdout",
     "output_type": "stream",
     "text": [
      "Precision: 0.75, Recall: 0.6, Accuracy: 0.7\n"
     ]
    },
    {
     "name": "stderr",
     "output_type": "stream",
     "text": [
      "C:\\Users\\kdeep\\anaconda3\\Lib\\site-packages\\xgboost\\core.py:158: UserWarning: [09:34:50] WARNING: C:\\buildkite-agent\\builds\\buildkite-windows-cpu-autoscaling-group-i-0015a694724fa8361-1\\xgboost\\xgboost-ci-windows\\src\\learner.cc:740: \n",
      "Parameters: { \"use_label_encoder\" } are not used.\n",
      "\n",
      "  warnings.warn(smsg, UserWarning)\n"
     ]
    },
    {
     "name": "stdout",
     "output_type": "stream",
     "text": [
      "Precision: 1.0, Recall: 0.6, Accuracy: 0.8\n"
     ]
    },
    {
     "name": "stderr",
     "output_type": "stream",
     "text": [
      "C:\\Users\\kdeep\\anaconda3\\Lib\\site-packages\\xgboost\\core.py:158: UserWarning: [09:34:50] WARNING: C:\\buildkite-agent\\builds\\buildkite-windows-cpu-autoscaling-group-i-0015a694724fa8361-1\\xgboost\\xgboost-ci-windows\\src\\learner.cc:740: \n",
      "Parameters: { \"use_label_encoder\" } are not used.\n",
      "\n",
      "  warnings.warn(smsg, UserWarning)\n"
     ]
    },
    {
     "name": "stdout",
     "output_type": "stream",
     "text": [
      "Precision: 0.6666666666666666, Recall: 0.8, Accuracy: 0.7\n"
     ]
    },
    {
     "name": "stderr",
     "output_type": "stream",
     "text": [
      "C:\\Users\\kdeep\\anaconda3\\Lib\\site-packages\\xgboost\\core.py:158: UserWarning: [09:34:50] WARNING: C:\\buildkite-agent\\builds\\buildkite-windows-cpu-autoscaling-group-i-0015a694724fa8361-1\\xgboost\\xgboost-ci-windows\\src\\learner.cc:740: \n",
      "Parameters: { \"use_label_encoder\" } are not used.\n",
      "\n",
      "  warnings.warn(smsg, UserWarning)\n"
     ]
    },
    {
     "name": "stdout",
     "output_type": "stream",
     "text": [
      "Precision: 0.75, Recall: 0.6, Accuracy: 0.6666666666666666\n"
     ]
    },
    {
     "name": "stderr",
     "output_type": "stream",
     "text": [
      "C:\\Users\\kdeep\\anaconda3\\Lib\\site-packages\\xgboost\\core.py:158: UserWarning: [09:34:51] WARNING: C:\\buildkite-agent\\builds\\buildkite-windows-cpu-autoscaling-group-i-0015a694724fa8361-1\\xgboost\\xgboost-ci-windows\\src\\learner.cc:740: \n",
      "Parameters: { \"use_label_encoder\" } are not used.\n",
      "\n",
      "  warnings.warn(smsg, UserWarning)\n"
     ]
    },
    {
     "name": "stdout",
     "output_type": "stream",
     "text": [
      "Precision: 0.625, Recall: 1.0, Accuracy: 0.6666666666666666\n"
     ]
    },
    {
     "name": "stderr",
     "output_type": "stream",
     "text": [
      "C:\\Users\\kdeep\\anaconda3\\Lib\\site-packages\\xgboost\\core.py:158: UserWarning: [09:34:51] WARNING: C:\\buildkite-agent\\builds\\buildkite-windows-cpu-autoscaling-group-i-0015a694724fa8361-1\\xgboost\\xgboost-ci-windows\\src\\learner.cc:740: \n",
      "Parameters: { \"use_label_encoder\" } are not used.\n",
      "\n",
      "  warnings.warn(smsg, UserWarning)\n"
     ]
    },
    {
     "name": "stdout",
     "output_type": "stream",
     "text": [
      "Precision: 0.6, Recall: 0.6, Accuracy: 0.5555555555555556\n"
     ]
    },
    {
     "name": "stderr",
     "output_type": "stream",
     "text": [
      "C:\\Users\\kdeep\\anaconda3\\Lib\\site-packages\\xgboost\\core.py:158: UserWarning: [09:34:51] WARNING: C:\\buildkite-agent\\builds\\buildkite-windows-cpu-autoscaling-group-i-0015a694724fa8361-1\\xgboost\\xgboost-ci-windows\\src\\learner.cc:740: \n",
      "Parameters: { \"use_label_encoder\" } are not used.\n",
      "\n",
      "  warnings.warn(smsg, UserWarning)\n"
     ]
    },
    {
     "name": "stdout",
     "output_type": "stream",
     "text": [
      "Precision: 0.6, Recall: 0.75, Accuracy: 0.6666666666666666\n"
     ]
    },
    {
     "name": "stderr",
     "output_type": "stream",
     "text": [
      "C:\\Users\\kdeep\\anaconda3\\Lib\\site-packages\\xgboost\\core.py:158: UserWarning: [09:34:51] WARNING: C:\\buildkite-agent\\builds\\buildkite-windows-cpu-autoscaling-group-i-0015a694724fa8361-1\\xgboost\\xgboost-ci-windows\\src\\learner.cc:740: \n",
      "Parameters: { \"use_label_encoder\" } are not used.\n",
      "\n",
      "  warnings.warn(smsg, UserWarning)\n"
     ]
    },
    {
     "name": "stdout",
     "output_type": "stream",
     "text": [
      "Precision: 0.8, Recall: 1.0, Accuracy: 0.8888888888888888\n"
     ]
    },
    {
     "name": "stderr",
     "output_type": "stream",
     "text": [
      "C:\\Users\\kdeep\\anaconda3\\Lib\\site-packages\\xgboost\\core.py:158: UserWarning: [09:34:52] WARNING: C:\\buildkite-agent\\builds\\buildkite-windows-cpu-autoscaling-group-i-0015a694724fa8361-1\\xgboost\\xgboost-ci-windows\\src\\learner.cc:740: \n",
      "Parameters: { \"use_label_encoder\" } are not used.\n",
      "\n",
      "  warnings.warn(smsg, UserWarning)\n"
     ]
    },
    {
     "name": "stdout",
     "output_type": "stream",
     "text": [
      "Precision: 0.6666666666666666, Recall: 0.5, Accuracy: 0.6666666666666666\n",
      "Results to be written: eta=0.1, depth=7, dim=100, eps=0.5, (42.3, 42.3, 4.7, 4.7, 0.6708333333333332, 0.665, 0.6611111111111112, 75808, 0.5792379599646666, 0.004371814140755503)\n",
      "eta=0.1, depth=7, dim=200, eps=0.1\n",
      "Number of flaky documents: 47\n",
      "Number of non-flaky documents: 47\n",
      "Total number of documents: 94\n",
      "Sample document: # Copyright 2021 The NetKet Authors - All rights reserved.\n",
      "#\n",
      "# Licensed under the Apache License, Version 2.0 (the \"License\");\n",
      "# you may not use this file except in compliance with the License.\n",
      "# You may obtain a copy of the License at\n",
      "#\n",
      "#    http://www.apache.org/licenses/LICENSE-2.0\n",
      "#\n",
      "# Unless required by applicable law or agreed to in writing, software\n",
      "# distributed under the License is distributed on an \"AS IS\" BASIS,\n",
      "# WITHOUT WARRANTIES OR CONDITIONS OF ANY KIND, either express or implied.\n",
      "# See the License for the specific language governing permissions and\n",
      "# limitations under the License.\n",
      "\n",
      "import dataclasses\n",
      "import abc\n",
      "\n",
      "from flax.core import freeze\n",
      "\n",
      "\n",
      "@dataclasses.dataclass(frozen=True)\n",
      "class ModuleFramework(abc.ABC):\n",
      "    @staticmethod\n",
      "    @abc.abstractmethod\n",
      "    def is_loaded() -> bool:\n",
      "        pass\n",
      "\n",
      "    @staticmethod\n",
      "    @abc.abstractmethod\n",
      "    def is_my_module(module):\n",
      "        pass\n",
      "\n",
      "    @staticmethod\n",
      "    @abc.abstractmethod\n",
      "    def wrap(module):\n",
      "        return module\n",
      "\n",
      "    @staticmethod\n",
      "    def wrap_params(variables):\n",
      "        return freeze({\"params\": variables})\n",
      "\n",
      "    @staticmethod\n",
      "    @abc.abstractmethod\n",
      "    def unwrap_params(wrapped_variables):\n",
      "        return wrapped_variables\n",
      "\n",
      "\n",
      "registered_frameworks = []\n",
      "\n",
      "\n",
      "def framework(clz):\n",
      "    \"\"\"\n",
      "    Registers a framework and it's wrapper methods to make it\n",
      "    behave like a flax framework.\n",
      "    \"\"\"\n",
      "    clz = dataclasses.dataclass(frozen=True)(clz)\n",
      "    registered_frameworks.append(clz)\n",
      "    return clz\n",
      "\n",
      "\n",
      "@dataclasses.dataclass(frozen=True)\n",
      "class UnknownFramework(ModuleFramework):\n",
      "    name: str = \"Unknown\"\n",
      "\n",
      "    @staticmethod\n",
      "    def is_loaded() -> bool:\n",
      "        return True\n",
      "\n",
      "    @staticmethod\n",
      "    def is_my_module(module):\n",
      "        return False\n",
      "\n",
      "    @staticmethod\n",
      "    def wrap(module):\n",
      "        return module\n",
      "\n",
      "    @staticmethod\n",
      "    def unwrap_params(wrapped_variables):\n",
      "        return wrapped_variables\n",
      "\n",
      "\n",
      "def identify_framework(module):\n",
      "    for _framework in registered_frameworks:\n",
      "        if _framework.is_my_module(module):\n",
      "            return _framework\n",
      "\n",
      "    return UnknownFramework\n",
      "\n",
      "\n",
      "def maybe_wrap_module(module):\n",
      "    \"\"\"\n",
      "    Passing a module from an unknown framework (might be user defined module, a jax\n",
      "    module, flax or haiku or anything else really), attempt to identify what is the\n",
      "    package/framework it comes from, and if so it correctly wraps it in order to\n",
      "    make it behave like a flax module (our default).\n",
      "\n",
      "    Also returns a function used to unpack the parameters once we are done.\n",
      "    \"\"\"\n",
      "    framewrk = identify_framework(module)\n",
      "\n",
      "    return framewrk, framewrk.wrap(module)\n"
     ]
    },
    {
     "name": "stderr",
     "output_type": "stream",
     "text": [
      "C:\\Users\\kdeep\\anaconda3\\Lib\\site-packages\\xgboost\\core.py:158: UserWarning: [09:34:52] WARNING: C:\\buildkite-agent\\builds\\buildkite-windows-cpu-autoscaling-group-i-0015a694724fa8361-1\\xgboost\\xgboost-ci-windows\\src\\learner.cc:740: \n",
      "Parameters: { \"use_label_encoder\" } are not used.\n",
      "\n",
      "  warnings.warn(smsg, UserWarning)\n"
     ]
    },
    {
     "name": "stdout",
     "output_type": "stream",
     "text": [
      "Precision: 1.0, Recall: 0.4, Accuracy: 0.7\n"
     ]
    },
    {
     "name": "stderr",
     "output_type": "stream",
     "text": [
      "C:\\Users\\kdeep\\anaconda3\\Lib\\site-packages\\xgboost\\core.py:158: UserWarning: [09:34:53] WARNING: C:\\buildkite-agent\\builds\\buildkite-windows-cpu-autoscaling-group-i-0015a694724fa8361-1\\xgboost\\xgboost-ci-windows\\src\\learner.cc:740: \n",
      "Parameters: { \"use_label_encoder\" } are not used.\n",
      "\n",
      "  warnings.warn(smsg, UserWarning)\n"
     ]
    },
    {
     "name": "stdout",
     "output_type": "stream",
     "text": [
      "Precision: 0.8, Recall: 0.8, Accuracy: 0.8\n"
     ]
    },
    {
     "name": "stderr",
     "output_type": "stream",
     "text": [
      "C:\\Users\\kdeep\\anaconda3\\Lib\\site-packages\\xgboost\\core.py:158: UserWarning: [09:34:53] WARNING: C:\\buildkite-agent\\builds\\buildkite-windows-cpu-autoscaling-group-i-0015a694724fa8361-1\\xgboost\\xgboost-ci-windows\\src\\learner.cc:740: \n",
      "Parameters: { \"use_label_encoder\" } are not used.\n",
      "\n",
      "  warnings.warn(smsg, UserWarning)\n"
     ]
    },
    {
     "name": "stdout",
     "output_type": "stream",
     "text": [
      "Precision: 1.0, Recall: 0.8, Accuracy: 0.9\n"
     ]
    },
    {
     "name": "stderr",
     "output_type": "stream",
     "text": [
      "C:\\Users\\kdeep\\anaconda3\\Lib\\site-packages\\xgboost\\core.py:158: UserWarning: [09:34:53] WARNING: C:\\buildkite-agent\\builds\\buildkite-windows-cpu-autoscaling-group-i-0015a694724fa8361-1\\xgboost\\xgboost-ci-windows\\src\\learner.cc:740: \n",
      "Parameters: { \"use_label_encoder\" } are not used.\n",
      "\n",
      "  warnings.warn(smsg, UserWarning)\n"
     ]
    },
    {
     "name": "stdout",
     "output_type": "stream",
     "text": [
      "Precision: 0.6666666666666666, Recall: 0.8, Accuracy: 0.7\n"
     ]
    },
    {
     "name": "stderr",
     "output_type": "stream",
     "text": [
      "C:\\Users\\kdeep\\anaconda3\\Lib\\site-packages\\xgboost\\core.py:158: UserWarning: [09:34:53] WARNING: C:\\buildkite-agent\\builds\\buildkite-windows-cpu-autoscaling-group-i-0015a694724fa8361-1\\xgboost\\xgboost-ci-windows\\src\\learner.cc:740: \n",
      "Parameters: { \"use_label_encoder\" } are not used.\n",
      "\n",
      "  warnings.warn(smsg, UserWarning)\n"
     ]
    },
    {
     "name": "stdout",
     "output_type": "stream",
     "text": [
      "Precision: 1.0, Recall: 0.4, Accuracy: 0.6666666666666666\n"
     ]
    },
    {
     "name": "stderr",
     "output_type": "stream",
     "text": [
      "C:\\Users\\kdeep\\anaconda3\\Lib\\site-packages\\xgboost\\core.py:158: UserWarning: [09:34:54] WARNING: C:\\buildkite-agent\\builds\\buildkite-windows-cpu-autoscaling-group-i-0015a694724fa8361-1\\xgboost\\xgboost-ci-windows\\src\\learner.cc:740: \n",
      "Parameters: { \"use_label_encoder\" } are not used.\n",
      "\n",
      "  warnings.warn(smsg, UserWarning)\n"
     ]
    },
    {
     "name": "stdout",
     "output_type": "stream",
     "text": [
      "Precision: 0.625, Recall: 1.0, Accuracy: 0.6666666666666666\n"
     ]
    },
    {
     "name": "stderr",
     "output_type": "stream",
     "text": [
      "C:\\Users\\kdeep\\anaconda3\\Lib\\site-packages\\xgboost\\core.py:158: UserWarning: [09:34:54] WARNING: C:\\buildkite-agent\\builds\\buildkite-windows-cpu-autoscaling-group-i-0015a694724fa8361-1\\xgboost\\xgboost-ci-windows\\src\\learner.cc:740: \n",
      "Parameters: { \"use_label_encoder\" } are not used.\n",
      "\n",
      "  warnings.warn(smsg, UserWarning)\n"
     ]
    },
    {
     "name": "stdout",
     "output_type": "stream",
     "text": [
      "Precision: 0.6666666666666666, Recall: 0.8, Accuracy: 0.6666666666666666\n"
     ]
    },
    {
     "name": "stderr",
     "output_type": "stream",
     "text": [
      "C:\\Users\\kdeep\\anaconda3\\Lib\\site-packages\\xgboost\\core.py:158: UserWarning: [09:34:54] WARNING: C:\\buildkite-agent\\builds\\buildkite-windows-cpu-autoscaling-group-i-0015a694724fa8361-1\\xgboost\\xgboost-ci-windows\\src\\learner.cc:740: \n",
      "Parameters: { \"use_label_encoder\" } are not used.\n",
      "\n",
      "  warnings.warn(smsg, UserWarning)\n"
     ]
    },
    {
     "name": "stdout",
     "output_type": "stream",
     "text": [
      "Precision: 0.6666666666666666, Recall: 1.0, Accuracy: 0.7777777777777778\n"
     ]
    },
    {
     "name": "stderr",
     "output_type": "stream",
     "text": [
      "C:\\Users\\kdeep\\anaconda3\\Lib\\site-packages\\xgboost\\core.py:158: UserWarning: [09:34:55] WARNING: C:\\buildkite-agent\\builds\\buildkite-windows-cpu-autoscaling-group-i-0015a694724fa8361-1\\xgboost\\xgboost-ci-windows\\src\\learner.cc:740: \n",
      "Parameters: { \"use_label_encoder\" } are not used.\n",
      "\n",
      "  warnings.warn(smsg, UserWarning)\n"
     ]
    },
    {
     "name": "stdout",
     "output_type": "stream",
     "text": [
      "Precision: 0.8, Recall: 1.0, Accuracy: 0.8888888888888888\n"
     ]
    },
    {
     "name": "stderr",
     "output_type": "stream",
     "text": [
      "C:\\Users\\kdeep\\anaconda3\\Lib\\site-packages\\xgboost\\core.py:158: UserWarning: [09:34:55] WARNING: C:\\buildkite-agent\\builds\\buildkite-windows-cpu-autoscaling-group-i-0015a694724fa8361-1\\xgboost\\xgboost-ci-windows\\src\\learner.cc:740: \n",
      "Parameters: { \"use_label_encoder\" } are not used.\n",
      "\n",
      "  warnings.warn(smsg, UserWarning)\n"
     ]
    },
    {
     "name": "stdout",
     "output_type": "stream",
     "text": [
      "Precision: 0.5, Recall: 0.75, Accuracy: 0.5555555555555556\n",
      "Results to be written: eta=0.1, depth=7, dim=200, eps=0.1, (42.3, 42.3, 4.7, 4.7, 0.7725000000000001, 0.7749999999999999, 0.7322222222222221, 151008, 0.6867425399948843, 0.005253433845981287)\n",
      "eta=0.1, depth=7, dim=200, eps=0.3\n",
      "Number of flaky documents: 47\n",
      "Number of non-flaky documents: 47\n",
      "Total number of documents: 94\n",
      "Sample document: # Copyright 2021 The NetKet Authors - All rights reserved.\n",
      "#\n",
      "# Licensed under the Apache License, Version 2.0 (the \"License\");\n",
      "# you may not use this file except in compliance with the License.\n",
      "# You may obtain a copy of the License at\n",
      "#\n",
      "#    http://www.apache.org/licenses/LICENSE-2.0\n",
      "#\n",
      "# Unless required by applicable law or agreed to in writing, software\n",
      "# distributed under the License is distributed on an \"AS IS\" BASIS,\n",
      "# WITHOUT WARRANTIES OR CONDITIONS OF ANY KIND, either express or implied.\n",
      "# See the License for the specific language governing permissions and\n",
      "# limitations under the License.\n",
      "\n",
      "import dataclasses\n",
      "import abc\n",
      "\n",
      "from flax.core import freeze\n",
      "\n",
      "\n",
      "@dataclasses.dataclass(frozen=True)\n",
      "class ModuleFramework(abc.ABC):\n",
      "    @staticmethod\n",
      "    @abc.abstractmethod\n",
      "    def is_loaded() -> bool:\n",
      "        pass\n",
      "\n",
      "    @staticmethod\n",
      "    @abc.abstractmethod\n",
      "    def is_my_module(module):\n",
      "        pass\n",
      "\n",
      "    @staticmethod\n",
      "    @abc.abstractmethod\n",
      "    def wrap(module):\n",
      "        return module\n",
      "\n",
      "    @staticmethod\n",
      "    def wrap_params(variables):\n",
      "        return freeze({\"params\": variables})\n",
      "\n",
      "    @staticmethod\n",
      "    @abc.abstractmethod\n",
      "    def unwrap_params(wrapped_variables):\n",
      "        return wrapped_variables\n",
      "\n",
      "\n",
      "registered_frameworks = []\n",
      "\n",
      "\n",
      "def framework(clz):\n",
      "    \"\"\"\n",
      "    Registers a framework and it's wrapper methods to make it\n",
      "    behave like a flax framework.\n",
      "    \"\"\"\n",
      "    clz = dataclasses.dataclass(frozen=True)(clz)\n",
      "    registered_frameworks.append(clz)\n",
      "    return clz\n",
      "\n",
      "\n",
      "@dataclasses.dataclass(frozen=True)\n",
      "class UnknownFramework(ModuleFramework):\n",
      "    name: str = \"Unknown\"\n",
      "\n",
      "    @staticmethod\n",
      "    def is_loaded() -> bool:\n",
      "        return True\n",
      "\n",
      "    @staticmethod\n",
      "    def is_my_module(module):\n",
      "        return False\n",
      "\n",
      "    @staticmethod\n",
      "    def wrap(module):\n",
      "        return module\n",
      "\n",
      "    @staticmethod\n",
      "    def unwrap_params(wrapped_variables):\n",
      "        return wrapped_variables\n",
      "\n",
      "\n",
      "def identify_framework(module):\n",
      "    for _framework in registered_frameworks:\n",
      "        if _framework.is_my_module(module):\n",
      "            return _framework\n",
      "\n",
      "    return UnknownFramework\n",
      "\n",
      "\n",
      "def maybe_wrap_module(module):\n",
      "    \"\"\"\n",
      "    Passing a module from an unknown framework (might be user defined module, a jax\n",
      "    module, flax or haiku or anything else really), attempt to identify what is the\n",
      "    package/framework it comes from, and if so it correctly wraps it in order to\n",
      "    make it behave like a flax module (our default).\n",
      "\n",
      "    Also returns a function used to unpack the parameters once we are done.\n",
      "    \"\"\"\n",
      "    framewrk = identify_framework(module)\n",
      "\n",
      "    return framewrk, framewrk.wrap(module)\n"
     ]
    },
    {
     "name": "stderr",
     "output_type": "stream",
     "text": [
      "C:\\Users\\kdeep\\anaconda3\\Lib\\site-packages\\xgboost\\core.py:158: UserWarning: [09:34:56] WARNING: C:\\buildkite-agent\\builds\\buildkite-windows-cpu-autoscaling-group-i-0015a694724fa8361-1\\xgboost\\xgboost-ci-windows\\src\\learner.cc:740: \n",
      "Parameters: { \"use_label_encoder\" } are not used.\n",
      "\n",
      "  warnings.warn(smsg, UserWarning)\n"
     ]
    },
    {
     "name": "stdout",
     "output_type": "stream",
     "text": [
      "Precision: 0.5, Recall: 0.2, Accuracy: 0.5\n"
     ]
    },
    {
     "name": "stderr",
     "output_type": "stream",
     "text": [
      "C:\\Users\\kdeep\\anaconda3\\Lib\\site-packages\\xgboost\\core.py:158: UserWarning: [09:34:56] WARNING: C:\\buildkite-agent\\builds\\buildkite-windows-cpu-autoscaling-group-i-0015a694724fa8361-1\\xgboost\\xgboost-ci-windows\\src\\learner.cc:740: \n",
      "Parameters: { \"use_label_encoder\" } are not used.\n",
      "\n",
      "  warnings.warn(smsg, UserWarning)\n"
     ]
    },
    {
     "name": "stdout",
     "output_type": "stream",
     "text": [
      "Precision: 0.625, Recall: 1.0, Accuracy: 0.7\n"
     ]
    },
    {
     "name": "stderr",
     "output_type": "stream",
     "text": [
      "C:\\Users\\kdeep\\anaconda3\\Lib\\site-packages\\xgboost\\core.py:158: UserWarning: [09:34:56] WARNING: C:\\buildkite-agent\\builds\\buildkite-windows-cpu-autoscaling-group-i-0015a694724fa8361-1\\xgboost\\xgboost-ci-windows\\src\\learner.cc:740: \n",
      "Parameters: { \"use_label_encoder\" } are not used.\n",
      "\n",
      "  warnings.warn(smsg, UserWarning)\n"
     ]
    },
    {
     "name": "stdout",
     "output_type": "stream",
     "text": [
      "Precision: 0.6666666666666666, Recall: 0.4, Accuracy: 0.6\n"
     ]
    },
    {
     "name": "stderr",
     "output_type": "stream",
     "text": [
      "C:\\Users\\kdeep\\anaconda3\\Lib\\site-packages\\xgboost\\core.py:158: UserWarning: [09:34:57] WARNING: C:\\buildkite-agent\\builds\\buildkite-windows-cpu-autoscaling-group-i-0015a694724fa8361-1\\xgboost\\xgboost-ci-windows\\src\\learner.cc:740: \n",
      "Parameters: { \"use_label_encoder\" } are not used.\n",
      "\n",
      "  warnings.warn(smsg, UserWarning)\n"
     ]
    },
    {
     "name": "stdout",
     "output_type": "stream",
     "text": [
      "Precision: 1.0, Recall: 1.0, Accuracy: 1.0\n"
     ]
    },
    {
     "name": "stderr",
     "output_type": "stream",
     "text": [
      "C:\\Users\\kdeep\\anaconda3\\Lib\\site-packages\\xgboost\\core.py:158: UserWarning: [09:34:57] WARNING: C:\\buildkite-agent\\builds\\buildkite-windows-cpu-autoscaling-group-i-0015a694724fa8361-1\\xgboost\\xgboost-ci-windows\\src\\learner.cc:740: \n",
      "Parameters: { \"use_label_encoder\" } are not used.\n",
      "\n",
      "  warnings.warn(smsg, UserWarning)\n"
     ]
    },
    {
     "name": "stdout",
     "output_type": "stream",
     "text": [
      "Precision: 0.0, Recall: 0.0, Accuracy: 0.3333333333333333\n"
     ]
    },
    {
     "name": "stderr",
     "output_type": "stream",
     "text": [
      "C:\\Users\\kdeep\\anaconda3\\Lib\\site-packages\\xgboost\\core.py:158: UserWarning: [09:34:57] WARNING: C:\\buildkite-agent\\builds\\buildkite-windows-cpu-autoscaling-group-i-0015a694724fa8361-1\\xgboost\\xgboost-ci-windows\\src\\learner.cc:740: \n",
      "Parameters: { \"use_label_encoder\" } are not used.\n",
      "\n",
      "  warnings.warn(smsg, UserWarning)\n"
     ]
    },
    {
     "name": "stdout",
     "output_type": "stream",
     "text": [
      "Precision: 0.5714285714285714, Recall: 0.8, Accuracy: 0.5555555555555556\n"
     ]
    },
    {
     "name": "stderr",
     "output_type": "stream",
     "text": [
      "C:\\Users\\kdeep\\anaconda3\\Lib\\site-packages\\xgboost\\core.py:158: UserWarning: [09:34:57] WARNING: C:\\buildkite-agent\\builds\\buildkite-windows-cpu-autoscaling-group-i-0015a694724fa8361-1\\xgboost\\xgboost-ci-windows\\src\\learner.cc:740: \n",
      "Parameters: { \"use_label_encoder\" } are not used.\n",
      "\n",
      "  warnings.warn(smsg, UserWarning)\n"
     ]
    },
    {
     "name": "stdout",
     "output_type": "stream",
     "text": [
      "Precision: 0.6666666666666666, Recall: 0.8, Accuracy: 0.6666666666666666\n"
     ]
    },
    {
     "name": "stderr",
     "output_type": "stream",
     "text": [
      "C:\\Users\\kdeep\\anaconda3\\Lib\\site-packages\\xgboost\\core.py:158: UserWarning: [09:34:58] WARNING: C:\\buildkite-agent\\builds\\buildkite-windows-cpu-autoscaling-group-i-0015a694724fa8361-1\\xgboost\\xgboost-ci-windows\\src\\learner.cc:740: \n",
      "Parameters: { \"use_label_encoder\" } are not used.\n",
      "\n",
      "  warnings.warn(smsg, UserWarning)\n"
     ]
    },
    {
     "name": "stdout",
     "output_type": "stream",
     "text": [
      "Precision: 1.0, Recall: 1.0, Accuracy: 1.0\n"
     ]
    },
    {
     "name": "stderr",
     "output_type": "stream",
     "text": [
      "C:\\Users\\kdeep\\anaconda3\\Lib\\site-packages\\xgboost\\core.py:158: UserWarning: [09:34:58] WARNING: C:\\buildkite-agent\\builds\\buildkite-windows-cpu-autoscaling-group-i-0015a694724fa8361-1\\xgboost\\xgboost-ci-windows\\src\\learner.cc:740: \n",
      "Parameters: { \"use_label_encoder\" } are not used.\n",
      "\n",
      "  warnings.warn(smsg, UserWarning)\n"
     ]
    },
    {
     "name": "stdout",
     "output_type": "stream",
     "text": [
      "Precision: 0.8, Recall: 1.0, Accuracy: 0.8888888888888888\n"
     ]
    },
    {
     "name": "stderr",
     "output_type": "stream",
     "text": [
      "C:\\Users\\kdeep\\anaconda3\\Lib\\site-packages\\xgboost\\core.py:158: UserWarning: [09:34:58] WARNING: C:\\buildkite-agent\\builds\\buildkite-windows-cpu-autoscaling-group-i-0015a694724fa8361-1\\xgboost\\xgboost-ci-windows\\src\\learner.cc:740: \n",
      "Parameters: { \"use_label_encoder\" } are not used.\n",
      "\n",
      "  warnings.warn(smsg, UserWarning)\n"
     ]
    },
    {
     "name": "stdout",
     "output_type": "stream",
     "text": [
      "Precision: 0.5, Recall: 0.5, Accuracy: 0.5555555555555556\n",
      "Results to be written: eta=0.1, depth=7, dim=200, eps=0.3, (42.3, 42.3, 4.7, 4.7, 0.6329761904761905, 0.67, 0.68, 151008, 0.6766118500498124, 0.004804768987684169)\n",
      "eta=0.1, depth=7, dim=200, eps=0.5\n",
      "Number of flaky documents: 47\n",
      "Number of non-flaky documents: 47\n",
      "Total number of documents: 94\n",
      "Sample document: # Copyright 2021 The NetKet Authors - All rights reserved.\n",
      "#\n",
      "# Licensed under the Apache License, Version 2.0 (the \"License\");\n",
      "# you may not use this file except in compliance with the License.\n",
      "# You may obtain a copy of the License at\n",
      "#\n",
      "#    http://www.apache.org/licenses/LICENSE-2.0\n",
      "#\n",
      "# Unless required by applicable law or agreed to in writing, software\n",
      "# distributed under the License is distributed on an \"AS IS\" BASIS,\n",
      "# WITHOUT WARRANTIES OR CONDITIONS OF ANY KIND, either express or implied.\n",
      "# See the License for the specific language governing permissions and\n",
      "# limitations under the License.\n",
      "\n",
      "import dataclasses\n",
      "import abc\n",
      "\n",
      "from flax.core import freeze\n",
      "\n",
      "\n",
      "@dataclasses.dataclass(frozen=True)\n",
      "class ModuleFramework(abc.ABC):\n",
      "    @staticmethod\n",
      "    @abc.abstractmethod\n",
      "    def is_loaded() -> bool:\n",
      "        pass\n",
      "\n",
      "    @staticmethod\n",
      "    @abc.abstractmethod\n",
      "    def is_my_module(module):\n",
      "        pass\n",
      "\n",
      "    @staticmethod\n",
      "    @abc.abstractmethod\n",
      "    def wrap(module):\n",
      "        return module\n",
      "\n",
      "    @staticmethod\n",
      "    def wrap_params(variables):\n",
      "        return freeze({\"params\": variables})\n",
      "\n",
      "    @staticmethod\n",
      "    @abc.abstractmethod\n",
      "    def unwrap_params(wrapped_variables):\n",
      "        return wrapped_variables\n",
      "\n",
      "\n",
      "registered_frameworks = []\n",
      "\n",
      "\n",
      "def framework(clz):\n",
      "    \"\"\"\n",
      "    Registers a framework and it's wrapper methods to make it\n",
      "    behave like a flax framework.\n",
      "    \"\"\"\n",
      "    clz = dataclasses.dataclass(frozen=True)(clz)\n",
      "    registered_frameworks.append(clz)\n",
      "    return clz\n",
      "\n",
      "\n",
      "@dataclasses.dataclass(frozen=True)\n",
      "class UnknownFramework(ModuleFramework):\n",
      "    name: str = \"Unknown\"\n",
      "\n",
      "    @staticmethod\n",
      "    def is_loaded() -> bool:\n",
      "        return True\n",
      "\n",
      "    @staticmethod\n",
      "    def is_my_module(module):\n",
      "        return False\n",
      "\n",
      "    @staticmethod\n",
      "    def wrap(module):\n",
      "        return module\n",
      "\n",
      "    @staticmethod\n",
      "    def unwrap_params(wrapped_variables):\n",
      "        return wrapped_variables\n",
      "\n",
      "\n",
      "def identify_framework(module):\n",
      "    for _framework in registered_frameworks:\n",
      "        if _framework.is_my_module(module):\n",
      "            return _framework\n",
      "\n",
      "    return UnknownFramework\n",
      "\n",
      "\n",
      "def maybe_wrap_module(module):\n",
      "    \"\"\"\n",
      "    Passing a module from an unknown framework (might be user defined module, a jax\n",
      "    module, flax or haiku or anything else really), attempt to identify what is the\n",
      "    package/framework it comes from, and if so it correctly wraps it in order to\n",
      "    make it behave like a flax module (our default).\n",
      "\n",
      "    Also returns a function used to unpack the parameters once we are done.\n",
      "    \"\"\"\n",
      "    framewrk = identify_framework(module)\n",
      "\n",
      "    return framewrk, framewrk.wrap(module)\n"
     ]
    },
    {
     "name": "stderr",
     "output_type": "stream",
     "text": [
      "C:\\Users\\kdeep\\anaconda3\\Lib\\site-packages\\xgboost\\core.py:158: UserWarning: [09:34:59] WARNING: C:\\buildkite-agent\\builds\\buildkite-windows-cpu-autoscaling-group-i-0015a694724fa8361-1\\xgboost\\xgboost-ci-windows\\src\\learner.cc:740: \n",
      "Parameters: { \"use_label_encoder\" } are not used.\n",
      "\n",
      "  warnings.warn(smsg, UserWarning)\n"
     ]
    },
    {
     "name": "stdout",
     "output_type": "stream",
     "text": [
      "Precision: 0.75, Recall: 0.6, Accuracy: 0.7\n"
     ]
    },
    {
     "name": "stderr",
     "output_type": "stream",
     "text": [
      "C:\\Users\\kdeep\\anaconda3\\Lib\\site-packages\\xgboost\\core.py:158: UserWarning: [09:34:59] WARNING: C:\\buildkite-agent\\builds\\buildkite-windows-cpu-autoscaling-group-i-0015a694724fa8361-1\\xgboost\\xgboost-ci-windows\\src\\learner.cc:740: \n",
      "Parameters: { \"use_label_encoder\" } are not used.\n",
      "\n",
      "  warnings.warn(smsg, UserWarning)\n"
     ]
    },
    {
     "name": "stdout",
     "output_type": "stream",
     "text": [
      "Precision: 0.6666666666666666, Recall: 0.8, Accuracy: 0.7\n"
     ]
    },
    {
     "name": "stderr",
     "output_type": "stream",
     "text": [
      "C:\\Users\\kdeep\\anaconda3\\Lib\\site-packages\\xgboost\\core.py:158: UserWarning: [09:35:00] WARNING: C:\\buildkite-agent\\builds\\buildkite-windows-cpu-autoscaling-group-i-0015a694724fa8361-1\\xgboost\\xgboost-ci-windows\\src\\learner.cc:740: \n",
      "Parameters: { \"use_label_encoder\" } are not used.\n",
      "\n",
      "  warnings.warn(smsg, UserWarning)\n"
     ]
    },
    {
     "name": "stdout",
     "output_type": "stream",
     "text": [
      "Precision: 0.8, Recall: 0.8, Accuracy: 0.8\n"
     ]
    },
    {
     "name": "stderr",
     "output_type": "stream",
     "text": [
      "C:\\Users\\kdeep\\anaconda3\\Lib\\site-packages\\xgboost\\core.py:158: UserWarning: [09:35:00] WARNING: C:\\buildkite-agent\\builds\\buildkite-windows-cpu-autoscaling-group-i-0015a694724fa8361-1\\xgboost\\xgboost-ci-windows\\src\\learner.cc:740: \n",
      "Parameters: { \"use_label_encoder\" } are not used.\n",
      "\n",
      "  warnings.warn(smsg, UserWarning)\n"
     ]
    },
    {
     "name": "stdout",
     "output_type": "stream",
     "text": [
      "Precision: 1.0, Recall: 1.0, Accuracy: 1.0\n"
     ]
    },
    {
     "name": "stderr",
     "output_type": "stream",
     "text": [
      "C:\\Users\\kdeep\\anaconda3\\Lib\\site-packages\\xgboost\\core.py:158: UserWarning: [09:35:00] WARNING: C:\\buildkite-agent\\builds\\buildkite-windows-cpu-autoscaling-group-i-0015a694724fa8361-1\\xgboost\\xgboost-ci-windows\\src\\learner.cc:740: \n",
      "Parameters: { \"use_label_encoder\" } are not used.\n",
      "\n",
      "  warnings.warn(smsg, UserWarning)\n"
     ]
    },
    {
     "name": "stdout",
     "output_type": "stream",
     "text": [
      "Precision: 1.0, Recall: 0.4, Accuracy: 0.6666666666666666\n"
     ]
    },
    {
     "name": "stderr",
     "output_type": "stream",
     "text": [
      "C:\\Users\\kdeep\\anaconda3\\Lib\\site-packages\\xgboost\\core.py:158: UserWarning: [09:35:00] WARNING: C:\\buildkite-agent\\builds\\buildkite-windows-cpu-autoscaling-group-i-0015a694724fa8361-1\\xgboost\\xgboost-ci-windows\\src\\learner.cc:740: \n",
      "Parameters: { \"use_label_encoder\" } are not used.\n",
      "\n",
      "  warnings.warn(smsg, UserWarning)\n"
     ]
    },
    {
     "name": "stdout",
     "output_type": "stream",
     "text": [
      "Precision: 0.8, Recall: 0.8, Accuracy: 0.7777777777777778\n"
     ]
    },
    {
     "name": "stderr",
     "output_type": "stream",
     "text": [
      "C:\\Users\\kdeep\\anaconda3\\Lib\\site-packages\\xgboost\\core.py:158: UserWarning: [09:35:01] WARNING: C:\\buildkite-agent\\builds\\buildkite-windows-cpu-autoscaling-group-i-0015a694724fa8361-1\\xgboost\\xgboost-ci-windows\\src\\learner.cc:740: \n",
      "Parameters: { \"use_label_encoder\" } are not used.\n",
      "\n",
      "  warnings.warn(smsg, UserWarning)\n"
     ]
    },
    {
     "name": "stdout",
     "output_type": "stream",
     "text": [
      "Precision: 0.5714285714285714, Recall: 0.8, Accuracy: 0.5555555555555556\n"
     ]
    },
    {
     "name": "stderr",
     "output_type": "stream",
     "text": [
      "C:\\Users\\kdeep\\anaconda3\\Lib\\site-packages\\xgboost\\core.py:158: UserWarning: [09:35:01] WARNING: C:\\buildkite-agent\\builds\\buildkite-windows-cpu-autoscaling-group-i-0015a694724fa8361-1\\xgboost\\xgboost-ci-windows\\src\\learner.cc:740: \n",
      "Parameters: { \"use_label_encoder\" } are not used.\n",
      "\n",
      "  warnings.warn(smsg, UserWarning)\n"
     ]
    },
    {
     "name": "stdout",
     "output_type": "stream",
     "text": [
      "Precision: 0.5, Recall: 0.75, Accuracy: 0.5555555555555556\n"
     ]
    },
    {
     "name": "stderr",
     "output_type": "stream",
     "text": [
      "C:\\Users\\kdeep\\anaconda3\\Lib\\site-packages\\xgboost\\core.py:158: UserWarning: [09:35:01] WARNING: C:\\buildkite-agent\\builds\\buildkite-windows-cpu-autoscaling-group-i-0015a694724fa8361-1\\xgboost\\xgboost-ci-windows\\src\\learner.cc:740: \n",
      "Parameters: { \"use_label_encoder\" } are not used.\n",
      "\n",
      "  warnings.warn(smsg, UserWarning)\n"
     ]
    },
    {
     "name": "stdout",
     "output_type": "stream",
     "text": [
      "Precision: 0.75, Recall: 0.75, Accuracy: 0.7777777777777778\n"
     ]
    },
    {
     "name": "stderr",
     "output_type": "stream",
     "text": [
      "C:\\Users\\kdeep\\anaconda3\\Lib\\site-packages\\xgboost\\core.py:158: UserWarning: [09:35:02] WARNING: C:\\buildkite-agent\\builds\\buildkite-windows-cpu-autoscaling-group-i-0015a694724fa8361-1\\xgboost\\xgboost-ci-windows\\src\\learner.cc:740: \n",
      "Parameters: { \"use_label_encoder\" } are not used.\n",
      "\n",
      "  warnings.warn(smsg, UserWarning)\n"
     ]
    },
    {
     "name": "stdout",
     "output_type": "stream",
     "text": [
      "Precision: 0.5, Recall: 0.5, Accuracy: 0.5555555555555556\n",
      "Results to be written: eta=0.1, depth=7, dim=200, eps=0.5, (42.3, 42.3, 4.7, 4.7, 0.7338095238095238, 0.72, 0.7088888888888889, 151008, 0.6597799800918437, 0.00474104725240001)\n",
      "eta=0.3, depth=3, dim=0, eps=0.1\n",
      "Number of flaky documents: 47\n",
      "Number of non-flaky documents: 47\n",
      "Total number of documents: 94\n",
      "Sample document: # Copyright 2021 The NetKet Authors - All rights reserved.\n",
      "#\n",
      "# Licensed under the Apache License, Version 2.0 (the \"License\");\n",
      "# you may not use this file except in compliance with the License.\n",
      "# You may obtain a copy of the License at\n",
      "#\n",
      "#    http://www.apache.org/licenses/LICENSE-2.0\n",
      "#\n",
      "# Unless required by applicable law or agreed to in writing, software\n",
      "# distributed under the License is distributed on an \"AS IS\" BASIS,\n",
      "# WITHOUT WARRANTIES OR CONDITIONS OF ANY KIND, either express or implied.\n",
      "# See the License for the specific language governing permissions and\n",
      "# limitations under the License.\n",
      "\n",
      "import dataclasses\n",
      "import abc\n",
      "\n",
      "from flax.core import freeze\n",
      "\n",
      "\n",
      "@dataclasses.dataclass(frozen=True)\n",
      "class ModuleFramework(abc.ABC):\n",
      "    @staticmethod\n",
      "    @abc.abstractmethod\n",
      "    def is_loaded() -> bool:\n",
      "        pass\n",
      "\n",
      "    @staticmethod\n",
      "    @abc.abstractmethod\n",
      "    def is_my_module(module):\n",
      "        pass\n",
      "\n",
      "    @staticmethod\n",
      "    @abc.abstractmethod\n",
      "    def wrap(module):\n",
      "        return module\n",
      "\n",
      "    @staticmethod\n",
      "    def wrap_params(variables):\n",
      "        return freeze({\"params\": variables})\n",
      "\n",
      "    @staticmethod\n",
      "    @abc.abstractmethod\n",
      "    def unwrap_params(wrapped_variables):\n",
      "        return wrapped_variables\n",
      "\n",
      "\n",
      "registered_frameworks = []\n",
      "\n",
      "\n",
      "def framework(clz):\n",
      "    \"\"\"\n",
      "    Registers a framework and it's wrapper methods to make it\n",
      "    behave like a flax framework.\n",
      "    \"\"\"\n",
      "    clz = dataclasses.dataclass(frozen=True)(clz)\n",
      "    registered_frameworks.append(clz)\n",
      "    return clz\n",
      "\n",
      "\n",
      "@dataclasses.dataclass(frozen=True)\n",
      "class UnknownFramework(ModuleFramework):\n",
      "    name: str = \"Unknown\"\n",
      "\n",
      "    @staticmethod\n",
      "    def is_loaded() -> bool:\n",
      "        return True\n",
      "\n",
      "    @staticmethod\n",
      "    def is_my_module(module):\n",
      "        return False\n",
      "\n",
      "    @staticmethod\n",
      "    def wrap(module):\n",
      "        return module\n",
      "\n",
      "    @staticmethod\n",
      "    def unwrap_params(wrapped_variables):\n",
      "        return wrapped_variables\n",
      "\n",
      "\n",
      "def identify_framework(module):\n",
      "    for _framework in registered_frameworks:\n",
      "        if _framework.is_my_module(module):\n",
      "            return _framework\n",
      "\n",
      "    return UnknownFramework\n",
      "\n",
      "\n",
      "def maybe_wrap_module(module):\n",
      "    \"\"\"\n",
      "    Passing a module from an unknown framework (might be user defined module, a jax\n",
      "    module, flax or haiku or anything else really), attempt to identify what is the\n",
      "    package/framework it comes from, and if so it correctly wraps it in order to\n",
      "    make it behave like a flax module (our default).\n",
      "\n",
      "    Also returns a function used to unpack the parameters once we are done.\n",
      "    \"\"\"\n",
      "    framewrk = identify_framework(module)\n",
      "\n",
      "    return framewrk, framewrk.wrap(module)\n"
     ]
    },
    {
     "name": "stderr",
     "output_type": "stream",
     "text": [
      "C:\\Users\\kdeep\\anaconda3\\Lib\\site-packages\\xgboost\\core.py:158: UserWarning: [09:35:05] WARNING: C:\\buildkite-agent\\builds\\buildkite-windows-cpu-autoscaling-group-i-0015a694724fa8361-1\\xgboost\\xgboost-ci-windows\\src\\learner.cc:740: \n",
      "Parameters: { \"use_label_encoder\" } are not used.\n",
      "\n",
      "  warnings.warn(smsg, UserWarning)\n"
     ]
    },
    {
     "name": "stdout",
     "output_type": "stream",
     "text": [
      "Precision: 0.6666666666666666, Recall: 0.4, Accuracy: 0.6\n"
     ]
    },
    {
     "name": "stderr",
     "output_type": "stream",
     "text": [
      "C:\\Users\\kdeep\\anaconda3\\Lib\\site-packages\\xgboost\\core.py:158: UserWarning: [09:35:06] WARNING: C:\\buildkite-agent\\builds\\buildkite-windows-cpu-autoscaling-group-i-0015a694724fa8361-1\\xgboost\\xgboost-ci-windows\\src\\learner.cc:740: \n",
      "Parameters: { \"use_label_encoder\" } are not used.\n",
      "\n",
      "  warnings.warn(smsg, UserWarning)\n"
     ]
    },
    {
     "name": "stdout",
     "output_type": "stream",
     "text": [
      "Precision: 0.6666666666666666, Recall: 0.8, Accuracy: 0.7\n"
     ]
    },
    {
     "name": "stderr",
     "output_type": "stream",
     "text": [
      "C:\\Users\\kdeep\\anaconda3\\Lib\\site-packages\\xgboost\\core.py:158: UserWarning: [09:35:07] WARNING: C:\\buildkite-agent\\builds\\buildkite-windows-cpu-autoscaling-group-i-0015a694724fa8361-1\\xgboost\\xgboost-ci-windows\\src\\learner.cc:740: \n",
      "Parameters: { \"use_label_encoder\" } are not used.\n",
      "\n",
      "  warnings.warn(smsg, UserWarning)\n"
     ]
    },
    {
     "name": "stdout",
     "output_type": "stream",
     "text": [
      "Precision: 1.0, Recall: 1.0, Accuracy: 1.0\n"
     ]
    },
    {
     "name": "stderr",
     "output_type": "stream",
     "text": [
      "C:\\Users\\kdeep\\anaconda3\\Lib\\site-packages\\xgboost\\core.py:158: UserWarning: [09:35:08] WARNING: C:\\buildkite-agent\\builds\\buildkite-windows-cpu-autoscaling-group-i-0015a694724fa8361-1\\xgboost\\xgboost-ci-windows\\src\\learner.cc:740: \n",
      "Parameters: { \"use_label_encoder\" } are not used.\n",
      "\n",
      "  warnings.warn(smsg, UserWarning)\n"
     ]
    },
    {
     "name": "stdout",
     "output_type": "stream",
     "text": [
      "Precision: 0.8333333333333334, Recall: 1.0, Accuracy: 0.9\n"
     ]
    },
    {
     "name": "stderr",
     "output_type": "stream",
     "text": [
      "C:\\Users\\kdeep\\anaconda3\\Lib\\site-packages\\xgboost\\core.py:158: UserWarning: [09:35:09] WARNING: C:\\buildkite-agent\\builds\\buildkite-windows-cpu-autoscaling-group-i-0015a694724fa8361-1\\xgboost\\xgboost-ci-windows\\src\\learner.cc:740: \n",
      "Parameters: { \"use_label_encoder\" } are not used.\n",
      "\n",
      "  warnings.warn(smsg, UserWarning)\n"
     ]
    },
    {
     "name": "stdout",
     "output_type": "stream",
     "text": [
      "Precision: 1.0, Recall: 0.4, Accuracy: 0.6666666666666666\n"
     ]
    },
    {
     "name": "stderr",
     "output_type": "stream",
     "text": [
      "C:\\Users\\kdeep\\anaconda3\\Lib\\site-packages\\xgboost\\core.py:158: UserWarning: [09:35:10] WARNING: C:\\buildkite-agent\\builds\\buildkite-windows-cpu-autoscaling-group-i-0015a694724fa8361-1\\xgboost\\xgboost-ci-windows\\src\\learner.cc:740: \n",
      "Parameters: { \"use_label_encoder\" } are not used.\n",
      "\n",
      "  warnings.warn(smsg, UserWarning)\n"
     ]
    },
    {
     "name": "stdout",
     "output_type": "stream",
     "text": [
      "Precision: 0.5, Recall: 0.8, Accuracy: 0.4444444444444444\n"
     ]
    },
    {
     "name": "stderr",
     "output_type": "stream",
     "text": [
      "C:\\Users\\kdeep\\anaconda3\\Lib\\site-packages\\xgboost\\core.py:158: UserWarning: [09:35:11] WARNING: C:\\buildkite-agent\\builds\\buildkite-windows-cpu-autoscaling-group-i-0015a694724fa8361-1\\xgboost\\xgboost-ci-windows\\src\\learner.cc:740: \n",
      "Parameters: { \"use_label_encoder\" } are not used.\n",
      "\n",
      "  warnings.warn(smsg, UserWarning)\n"
     ]
    },
    {
     "name": "stdout",
     "output_type": "stream",
     "text": [
      "Precision: 0.6, Recall: 0.6, Accuracy: 0.5555555555555556\n"
     ]
    },
    {
     "name": "stderr",
     "output_type": "stream",
     "text": [
      "C:\\Users\\kdeep\\anaconda3\\Lib\\site-packages\\xgboost\\core.py:158: UserWarning: [09:35:12] WARNING: C:\\buildkite-agent\\builds\\buildkite-windows-cpu-autoscaling-group-i-0015a694724fa8361-1\\xgboost\\xgboost-ci-windows\\src\\learner.cc:740: \n",
      "Parameters: { \"use_label_encoder\" } are not used.\n",
      "\n",
      "  warnings.warn(smsg, UserWarning)\n"
     ]
    },
    {
     "name": "stdout",
     "output_type": "stream",
     "text": [
      "Precision: 0.8, Recall: 1.0, Accuracy: 0.8888888888888888\n"
     ]
    },
    {
     "name": "stderr",
     "output_type": "stream",
     "text": [
      "C:\\Users\\kdeep\\anaconda3\\Lib\\site-packages\\xgboost\\core.py:158: UserWarning: [09:35:13] WARNING: C:\\buildkite-agent\\builds\\buildkite-windows-cpu-autoscaling-group-i-0015a694724fa8361-1\\xgboost\\xgboost-ci-windows\\src\\learner.cc:740: \n",
      "Parameters: { \"use_label_encoder\" } are not used.\n",
      "\n",
      "  warnings.warn(smsg, UserWarning)\n"
     ]
    },
    {
     "name": "stdout",
     "output_type": "stream",
     "text": [
      "Precision: 0.6666666666666666, Recall: 1.0, Accuracy: 0.7777777777777778\n"
     ]
    },
    {
     "name": "stderr",
     "output_type": "stream",
     "text": [
      "C:\\Users\\kdeep\\anaconda3\\Lib\\site-packages\\xgboost\\core.py:158: UserWarning: [09:35:15] WARNING: C:\\buildkite-agent\\builds\\buildkite-windows-cpu-autoscaling-group-i-0015a694724fa8361-1\\xgboost\\xgboost-ci-windows\\src\\learner.cc:740: \n",
      "Parameters: { \"use_label_encoder\" } are not used.\n",
      "\n",
      "  warnings.warn(smsg, UserWarning)\n"
     ]
    },
    {
     "name": "stdout",
     "output_type": "stream",
     "text": [
      "Precision: 0.4, Recall: 0.5, Accuracy: 0.4444444444444444\n",
      "Results to be written: eta=0.3, depth=3, dim=0, eps=0.1, (42.3, 42.3, 4.7, 4.7, 0.7133333333333333, 0.75, 0.6977777777777777, 2928897, 3.594488840003032, 0.03062127512481161)\n",
      "eta=0.3, depth=3, dim=0, eps=0.3\n",
      "Number of flaky documents: 47\n",
      "Number of non-flaky documents: 47\n",
      "Total number of documents: 94\n",
      "Sample document: # Copyright 2021 The NetKet Authors - All rights reserved.\n",
      "#\n",
      "# Licensed under the Apache License, Version 2.0 (the \"License\");\n",
      "# you may not use this file except in compliance with the License.\n",
      "# You may obtain a copy of the License at\n",
      "#\n",
      "#    http://www.apache.org/licenses/LICENSE-2.0\n",
      "#\n",
      "# Unless required by applicable law or agreed to in writing, software\n",
      "# distributed under the License is distributed on an \"AS IS\" BASIS,\n",
      "# WITHOUT WARRANTIES OR CONDITIONS OF ANY KIND, either express or implied.\n",
      "# See the License for the specific language governing permissions and\n",
      "# limitations under the License.\n",
      "\n",
      "import dataclasses\n",
      "import abc\n",
      "\n",
      "from flax.core import freeze\n",
      "\n",
      "\n",
      "@dataclasses.dataclass(frozen=True)\n",
      "class ModuleFramework(abc.ABC):\n",
      "    @staticmethod\n",
      "    @abc.abstractmethod\n",
      "    def is_loaded() -> bool:\n",
      "        pass\n",
      "\n",
      "    @staticmethod\n",
      "    @abc.abstractmethod\n",
      "    def is_my_module(module):\n",
      "        pass\n",
      "\n",
      "    @staticmethod\n",
      "    @abc.abstractmethod\n",
      "    def wrap(module):\n",
      "        return module\n",
      "\n",
      "    @staticmethod\n",
      "    def wrap_params(variables):\n",
      "        return freeze({\"params\": variables})\n",
      "\n",
      "    @staticmethod\n",
      "    @abc.abstractmethod\n",
      "    def unwrap_params(wrapped_variables):\n",
      "        return wrapped_variables\n",
      "\n",
      "\n",
      "registered_frameworks = []\n",
      "\n",
      "\n",
      "def framework(clz):\n",
      "    \"\"\"\n",
      "    Registers a framework and it's wrapper methods to make it\n",
      "    behave like a flax framework.\n",
      "    \"\"\"\n",
      "    clz = dataclasses.dataclass(frozen=True)(clz)\n",
      "    registered_frameworks.append(clz)\n",
      "    return clz\n",
      "\n",
      "\n",
      "@dataclasses.dataclass(frozen=True)\n",
      "class UnknownFramework(ModuleFramework):\n",
      "    name: str = \"Unknown\"\n",
      "\n",
      "    @staticmethod\n",
      "    def is_loaded() -> bool:\n",
      "        return True\n",
      "\n",
      "    @staticmethod\n",
      "    def is_my_module(module):\n",
      "        return False\n",
      "\n",
      "    @staticmethod\n",
      "    def wrap(module):\n",
      "        return module\n",
      "\n",
      "    @staticmethod\n",
      "    def unwrap_params(wrapped_variables):\n",
      "        return wrapped_variables\n",
      "\n",
      "\n",
      "def identify_framework(module):\n",
      "    for _framework in registered_frameworks:\n",
      "        if _framework.is_my_module(module):\n",
      "            return _framework\n",
      "\n",
      "    return UnknownFramework\n",
      "\n",
      "\n",
      "def maybe_wrap_module(module):\n",
      "    \"\"\"\n",
      "    Passing a module from an unknown framework (might be user defined module, a jax\n",
      "    module, flax or haiku or anything else really), attempt to identify what is the\n",
      "    package/framework it comes from, and if so it correctly wraps it in order to\n",
      "    make it behave like a flax module (our default).\n",
      "\n",
      "    Also returns a function used to unpack the parameters once we are done.\n",
      "    \"\"\"\n",
      "    framewrk = identify_framework(module)\n",
      "\n",
      "    return framewrk, framewrk.wrap(module)\n"
     ]
    },
    {
     "name": "stderr",
     "output_type": "stream",
     "text": [
      "C:\\Users\\kdeep\\anaconda3\\Lib\\site-packages\\xgboost\\core.py:158: UserWarning: [09:35:16] WARNING: C:\\buildkite-agent\\builds\\buildkite-windows-cpu-autoscaling-group-i-0015a694724fa8361-1\\xgboost\\xgboost-ci-windows\\src\\learner.cc:740: \n",
      "Parameters: { \"use_label_encoder\" } are not used.\n",
      "\n",
      "  warnings.warn(smsg, UserWarning)\n"
     ]
    },
    {
     "name": "stdout",
     "output_type": "stream",
     "text": [
      "Precision: 0.0, Recall: 0.0, Accuracy: 0.5\n"
     ]
    },
    {
     "name": "stderr",
     "output_type": "stream",
     "text": [
      "C:\\Users\\kdeep\\anaconda3\\Lib\\site-packages\\xgboost\\core.py:158: UserWarning: [09:35:17] WARNING: C:\\buildkite-agent\\builds\\buildkite-windows-cpu-autoscaling-group-i-0015a694724fa8361-1\\xgboost\\xgboost-ci-windows\\src\\learner.cc:740: \n",
      "Parameters: { \"use_label_encoder\" } are not used.\n",
      "\n",
      "  warnings.warn(smsg, UserWarning)\n"
     ]
    },
    {
     "name": "stdout",
     "output_type": "stream",
     "text": [
      "Precision: 1.0, Recall: 0.8, Accuracy: 0.9\n"
     ]
    },
    {
     "name": "stderr",
     "output_type": "stream",
     "text": [
      "C:\\Users\\kdeep\\anaconda3\\Lib\\site-packages\\xgboost\\core.py:158: UserWarning: [09:35:17] WARNING: C:\\buildkite-agent\\builds\\buildkite-windows-cpu-autoscaling-group-i-0015a694724fa8361-1\\xgboost\\xgboost-ci-windows\\src\\learner.cc:740: \n",
      "Parameters: { \"use_label_encoder\" } are not used.\n",
      "\n",
      "  warnings.warn(smsg, UserWarning)\n"
     ]
    },
    {
     "name": "stdout",
     "output_type": "stream",
     "text": [
      "Precision: 0.8333333333333334, Recall: 1.0, Accuracy: 0.9\n"
     ]
    },
    {
     "name": "stderr",
     "output_type": "stream",
     "text": [
      "C:\\Users\\kdeep\\anaconda3\\Lib\\site-packages\\xgboost\\core.py:158: UserWarning: [09:35:18] WARNING: C:\\buildkite-agent\\builds\\buildkite-windows-cpu-autoscaling-group-i-0015a694724fa8361-1\\xgboost\\xgboost-ci-windows\\src\\learner.cc:740: \n",
      "Parameters: { \"use_label_encoder\" } are not used.\n",
      "\n",
      "  warnings.warn(smsg, UserWarning)\n"
     ]
    },
    {
     "name": "stdout",
     "output_type": "stream",
     "text": [
      "Precision: 0.6666666666666666, Recall: 0.8, Accuracy: 0.7\n"
     ]
    },
    {
     "name": "stderr",
     "output_type": "stream",
     "text": [
      "C:\\Users\\kdeep\\anaconda3\\Lib\\site-packages\\xgboost\\core.py:158: UserWarning: [09:35:18] WARNING: C:\\buildkite-agent\\builds\\buildkite-windows-cpu-autoscaling-group-i-0015a694724fa8361-1\\xgboost\\xgboost-ci-windows\\src\\learner.cc:740: \n",
      "Parameters: { \"use_label_encoder\" } are not used.\n",
      "\n",
      "  warnings.warn(smsg, UserWarning)\n"
     ]
    },
    {
     "name": "stdout",
     "output_type": "stream",
     "text": [
      "Precision: 1.0, Recall: 0.6, Accuracy: 0.7777777777777778\n",
      "Precision: 0.5714285714285714, Recall: 0.8, Accuracy: 0.5555555555555556\n"
     ]
    },
    {
     "name": "stderr",
     "output_type": "stream",
     "text": [
      "C:\\Users\\kdeep\\anaconda3\\Lib\\site-packages\\xgboost\\core.py:158: UserWarning: [09:35:18] WARNING: C:\\buildkite-agent\\builds\\buildkite-windows-cpu-autoscaling-group-i-0015a694724fa8361-1\\xgboost\\xgboost-ci-windows\\src\\learner.cc:740: \n",
      "Parameters: { \"use_label_encoder\" } are not used.\n",
      "\n",
      "  warnings.warn(smsg, UserWarning)\n",
      "C:\\Users\\kdeep\\anaconda3\\Lib\\site-packages\\xgboost\\core.py:158: UserWarning: [09:35:18] WARNING: C:\\buildkite-agent\\builds\\buildkite-windows-cpu-autoscaling-group-i-0015a694724fa8361-1\\xgboost\\xgboost-ci-windows\\src\\learner.cc:740: \n",
      "Parameters: { \"use_label_encoder\" } are not used.\n",
      "\n",
      "  warnings.warn(smsg, UserWarning)\n"
     ]
    },
    {
     "name": "stdout",
     "output_type": "stream",
     "text": [
      "Precision: 0.6666666666666666, Recall: 0.8, Accuracy: 0.6666666666666666\n",
      "Precision: 0.8, Recall: 1.0, Accuracy: 0.8888888888888888\n"
     ]
    },
    {
     "name": "stderr",
     "output_type": "stream",
     "text": [
      "C:\\Users\\kdeep\\anaconda3\\Lib\\site-packages\\xgboost\\core.py:158: UserWarning: [09:35:19] WARNING: C:\\buildkite-agent\\builds\\buildkite-windows-cpu-autoscaling-group-i-0015a694724fa8361-1\\xgboost\\xgboost-ci-windows\\src\\learner.cc:740: \n",
      "Parameters: { \"use_label_encoder\" } are not used.\n",
      "\n",
      "  warnings.warn(smsg, UserWarning)\n",
      "C:\\Users\\kdeep\\anaconda3\\Lib\\site-packages\\xgboost\\core.py:158: UserWarning: [09:35:19] WARNING: C:\\buildkite-agent\\builds\\buildkite-windows-cpu-autoscaling-group-i-0015a694724fa8361-1\\xgboost\\xgboost-ci-windows\\src\\learner.cc:740: \n",
      "Parameters: { \"use_label_encoder\" } are not used.\n",
      "\n",
      "  warnings.warn(smsg, UserWarning)\n"
     ]
    },
    {
     "name": "stdout",
     "output_type": "stream",
     "text": [
      "Precision: 1.0, Recall: 1.0, Accuracy: 1.0\n"
     ]
    },
    {
     "name": "stderr",
     "output_type": "stream",
     "text": [
      "C:\\Users\\kdeep\\anaconda3\\Lib\\site-packages\\xgboost\\core.py:158: UserWarning: [09:35:19] WARNING: C:\\buildkite-agent\\builds\\buildkite-windows-cpu-autoscaling-group-i-0015a694724fa8361-1\\xgboost\\xgboost-ci-windows\\src\\learner.cc:740: \n",
      "Parameters: { \"use_label_encoder\" } are not used.\n",
      "\n",
      "  warnings.warn(smsg, UserWarning)\n"
     ]
    },
    {
     "name": "stdout",
     "output_type": "stream",
     "text": [
      "Precision: 0.42857142857142855, Recall: 0.75, Accuracy: 0.4444444444444444\n",
      "Results to be written: eta=0.3, depth=3, dim=0, eps=0.3, (42.3, 42.3, 4.7, 4.7, 0.6966666666666667, 0.755, 0.7333333333333334, 379617, 0.8738256999058651, 0.007402995219308306)\n",
      "eta=0.3, depth=3, dim=0, eps=0.5\n",
      "Number of flaky documents: 47\n",
      "Number of non-flaky documents: 47\n",
      "Total number of documents: 94\n",
      "Sample document: # Copyright 2021 The NetKet Authors - All rights reserved.\n",
      "#\n",
      "# Licensed under the Apache License, Version 2.0 (the \"License\");\n",
      "# you may not use this file except in compliance with the License.\n",
      "# You may obtain a copy of the License at\n",
      "#\n",
      "#    http://www.apache.org/licenses/LICENSE-2.0\n",
      "#\n",
      "# Unless required by applicable law or agreed to in writing, software\n",
      "# distributed under the License is distributed on an \"AS IS\" BASIS,\n",
      "# WITHOUT WARRANTIES OR CONDITIONS OF ANY KIND, either express or implied.\n",
      "# See the License for the specific language governing permissions and\n",
      "# limitations under the License.\n",
      "\n",
      "import dataclasses\n",
      "import abc\n",
      "\n",
      "from flax.core import freeze\n",
      "\n",
      "\n",
      "@dataclasses.dataclass(frozen=True)\n",
      "class ModuleFramework(abc.ABC):\n",
      "    @staticmethod\n",
      "    @abc.abstractmethod\n",
      "    def is_loaded() -> bool:\n",
      "        pass\n",
      "\n",
      "    @staticmethod\n",
      "    @abc.abstractmethod\n",
      "    def is_my_module(module):\n",
      "        pass\n",
      "\n",
      "    @staticmethod\n",
      "    @abc.abstractmethod\n",
      "    def wrap(module):\n",
      "        return module\n",
      "\n",
      "    @staticmethod\n",
      "    def wrap_params(variables):\n",
      "        return freeze({\"params\": variables})\n",
      "\n",
      "    @staticmethod\n",
      "    @abc.abstractmethod\n",
      "    def unwrap_params(wrapped_variables):\n",
      "        return wrapped_variables\n",
      "\n",
      "\n",
      "registered_frameworks = []\n",
      "\n",
      "\n",
      "def framework(clz):\n",
      "    \"\"\"\n",
      "    Registers a framework and it's wrapper methods to make it\n",
      "    behave like a flax framework.\n",
      "    \"\"\"\n",
      "    clz = dataclasses.dataclass(frozen=True)(clz)\n",
      "    registered_frameworks.append(clz)\n",
      "    return clz\n",
      "\n",
      "\n",
      "@dataclasses.dataclass(frozen=True)\n",
      "class UnknownFramework(ModuleFramework):\n",
      "    name: str = \"Unknown\"\n",
      "\n",
      "    @staticmethod\n",
      "    def is_loaded() -> bool:\n",
      "        return True\n",
      "\n",
      "    @staticmethod\n",
      "    def is_my_module(module):\n",
      "        return False\n",
      "\n",
      "    @staticmethod\n",
      "    def wrap(module):\n",
      "        return module\n",
      "\n",
      "    @staticmethod\n",
      "    def unwrap_params(wrapped_variables):\n",
      "        return wrapped_variables\n",
      "\n",
      "\n",
      "def identify_framework(module):\n",
      "    for _framework in registered_frameworks:\n",
      "        if _framework.is_my_module(module):\n",
      "            return _framework\n",
      "\n",
      "    return UnknownFramework\n",
      "\n",
      "\n",
      "def maybe_wrap_module(module):\n",
      "    \"\"\"\n",
      "    Passing a module from an unknown framework (might be user defined module, a jax\n",
      "    module, flax or haiku or anything else really), attempt to identify what is the\n",
      "    package/framework it comes from, and if so it correctly wraps it in order to\n",
      "    make it behave like a flax module (our default).\n",
      "\n",
      "    Also returns a function used to unpack the parameters once we are done.\n",
      "    \"\"\"\n",
      "    framewrk = identify_framework(module)\n",
      "\n",
      "    return framewrk, framewrk.wrap(module)\n"
     ]
    },
    {
     "name": "stderr",
     "output_type": "stream",
     "text": [
      "C:\\Users\\kdeep\\anaconda3\\Lib\\site-packages\\xgboost\\core.py:158: UserWarning: [09:35:20] WARNING: C:\\buildkite-agent\\builds\\buildkite-windows-cpu-autoscaling-group-i-0015a694724fa8361-1\\xgboost\\xgboost-ci-windows\\src\\learner.cc:740: \n",
      "Parameters: { \"use_label_encoder\" } are not used.\n",
      "\n",
      "  warnings.warn(smsg, UserWarning)\n",
      "C:\\Users\\kdeep\\anaconda3\\Lib\\site-packages\\xgboost\\core.py:158: UserWarning: [09:35:20] WARNING: C:\\buildkite-agent\\builds\\buildkite-windows-cpu-autoscaling-group-i-0015a694724fa8361-1\\xgboost\\xgboost-ci-windows\\src\\learner.cc:740: \n",
      "Parameters: { \"use_label_encoder\" } are not used.\n",
      "\n",
      "  warnings.warn(smsg, UserWarning)\n"
     ]
    },
    {
     "name": "stdout",
     "output_type": "stream",
     "text": [
      "Precision: 0.6666666666666666, Recall: 0.4, Accuracy: 0.6\n",
      "Precision: 0.75, Recall: 0.6, Accuracy: 0.7\n",
      "Precision: 0.75, Recall: 0.6, Accuracy: 0.7\n"
     ]
    },
    {
     "name": "stderr",
     "output_type": "stream",
     "text": [
      "C:\\Users\\kdeep\\anaconda3\\Lib\\site-packages\\xgboost\\core.py:158: UserWarning: [09:35:20] WARNING: C:\\buildkite-agent\\builds\\buildkite-windows-cpu-autoscaling-group-i-0015a694724fa8361-1\\xgboost\\xgboost-ci-windows\\src\\learner.cc:740: \n",
      "Parameters: { \"use_label_encoder\" } are not used.\n",
      "\n",
      "  warnings.warn(smsg, UserWarning)\n",
      "C:\\Users\\kdeep\\anaconda3\\Lib\\site-packages\\xgboost\\core.py:158: UserWarning: [09:35:21] WARNING: C:\\buildkite-agent\\builds\\buildkite-windows-cpu-autoscaling-group-i-0015a694724fa8361-1\\xgboost\\xgboost-ci-windows\\src\\learner.cc:740: \n",
      "Parameters: { \"use_label_encoder\" } are not used.\n",
      "\n",
      "  warnings.warn(smsg, UserWarning)\n"
     ]
    },
    {
     "name": "stdout",
     "output_type": "stream",
     "text": [
      "Precision: 1.0, Recall: 1.0, Accuracy: 1.0\n"
     ]
    },
    {
     "name": "stderr",
     "output_type": "stream",
     "text": [
      "C:\\Users\\kdeep\\anaconda3\\Lib\\site-packages\\xgboost\\core.py:158: UserWarning: [09:35:21] WARNING: C:\\buildkite-agent\\builds\\buildkite-windows-cpu-autoscaling-group-i-0015a694724fa8361-1\\xgboost\\xgboost-ci-windows\\src\\learner.cc:740: \n",
      "Parameters: { \"use_label_encoder\" } are not used.\n",
      "\n",
      "  warnings.warn(smsg, UserWarning)\n"
     ]
    },
    {
     "name": "stdout",
     "output_type": "stream",
     "text": [
      "Precision: 0.75, Recall: 0.6, Accuracy: 0.6666666666666666\n"
     ]
    },
    {
     "name": "stderr",
     "output_type": "stream",
     "text": [
      "C:\\Users\\kdeep\\anaconda3\\Lib\\site-packages\\xgboost\\core.py:158: UserWarning: [09:35:21] WARNING: C:\\buildkite-agent\\builds\\buildkite-windows-cpu-autoscaling-group-i-0015a694724fa8361-1\\xgboost\\xgboost-ci-windows\\src\\learner.cc:740: \n",
      "Parameters: { \"use_label_encoder\" } are not used.\n",
      "\n",
      "  warnings.warn(smsg, UserWarning)\n"
     ]
    },
    {
     "name": "stdout",
     "output_type": "stream",
     "text": [
      "Precision: 0.5714285714285714, Recall: 0.8, Accuracy: 0.5555555555555556\n"
     ]
    },
    {
     "name": "stderr",
     "output_type": "stream",
     "text": [
      "C:\\Users\\kdeep\\anaconda3\\Lib\\site-packages\\xgboost\\core.py:158: UserWarning: [09:35:21] WARNING: C:\\buildkite-agent\\builds\\buildkite-windows-cpu-autoscaling-group-i-0015a694724fa8361-1\\xgboost\\xgboost-ci-windows\\src\\learner.cc:740: \n",
      "Parameters: { \"use_label_encoder\" } are not used.\n",
      "\n",
      "  warnings.warn(smsg, UserWarning)\n"
     ]
    },
    {
     "name": "stdout",
     "output_type": "stream",
     "text": [
      "Precision: 0.8, Recall: 0.8, Accuracy: 0.7777777777777778\n"
     ]
    },
    {
     "name": "stderr",
     "output_type": "stream",
     "text": [
      "C:\\Users\\kdeep\\anaconda3\\Lib\\site-packages\\xgboost\\core.py:158: UserWarning: [09:35:22] WARNING: C:\\buildkite-agent\\builds\\buildkite-windows-cpu-autoscaling-group-i-0015a694724fa8361-1\\xgboost\\xgboost-ci-windows\\src\\learner.cc:740: \n",
      "Parameters: { \"use_label_encoder\" } are not used.\n",
      "\n",
      "  warnings.warn(smsg, UserWarning)\n"
     ]
    },
    {
     "name": "stdout",
     "output_type": "stream",
     "text": [
      "Precision: 0.6666666666666666, Recall: 1.0, Accuracy: 0.7777777777777778\n"
     ]
    },
    {
     "name": "stderr",
     "output_type": "stream",
     "text": [
      "C:\\Users\\kdeep\\anaconda3\\Lib\\site-packages\\xgboost\\core.py:158: UserWarning: [09:35:22] WARNING: C:\\buildkite-agent\\builds\\buildkite-windows-cpu-autoscaling-group-i-0015a694724fa8361-1\\xgboost\\xgboost-ci-windows\\src\\learner.cc:740: \n",
      "Parameters: { \"use_label_encoder\" } are not used.\n",
      "\n",
      "  warnings.warn(smsg, UserWarning)\n"
     ]
    },
    {
     "name": "stdout",
     "output_type": "stream",
     "text": [
      "Precision: 0.5714285714285714, Recall: 1.0, Accuracy: 0.6666666666666666\n"
     ]
    },
    {
     "name": "stderr",
     "output_type": "stream",
     "text": [
      "C:\\Users\\kdeep\\anaconda3\\Lib\\site-packages\\xgboost\\core.py:158: UserWarning: [09:35:22] WARNING: C:\\buildkite-agent\\builds\\buildkite-windows-cpu-autoscaling-group-i-0015a694724fa8361-1\\xgboost\\xgboost-ci-windows\\src\\learner.cc:740: \n",
      "Parameters: { \"use_label_encoder\" } are not used.\n",
      "\n",
      "  warnings.warn(smsg, UserWarning)\n"
     ]
    },
    {
     "name": "stdout",
     "output_type": "stream",
     "text": [
      "Precision: 0.6, Recall: 0.75, Accuracy: 0.6666666666666666\n",
      "Results to be written: eta=0.3, depth=3, dim=0, eps=0.5, (42.3, 42.3, 4.7, 4.7, 0.7126190476190476, 0.755, 0.7111111111111111, 164544, 0.7521354199619962, 0.006296830363412019)\n",
      "eta=0.3, depth=3, dim=100, eps=0.1\n",
      "Number of flaky documents: 47\n",
      "Number of non-flaky documents: 47\n",
      "Total number of documents: 94\n",
      "Sample document: # Copyright 2021 The NetKet Authors - All rights reserved.\n",
      "#\n",
      "# Licensed under the Apache License, Version 2.0 (the \"License\");\n",
      "# you may not use this file except in compliance with the License.\n",
      "# You may obtain a copy of the License at\n",
      "#\n",
      "#    http://www.apache.org/licenses/LICENSE-2.0\n",
      "#\n",
      "# Unless required by applicable law or agreed to in writing, software\n",
      "# distributed under the License is distributed on an \"AS IS\" BASIS,\n",
      "# WITHOUT WARRANTIES OR CONDITIONS OF ANY KIND, either express or implied.\n",
      "# See the License for the specific language governing permissions and\n",
      "# limitations under the License.\n",
      "\n",
      "import dataclasses\n",
      "import abc\n",
      "\n",
      "from flax.core import freeze\n",
      "\n",
      "\n",
      "@dataclasses.dataclass(frozen=True)\n",
      "class ModuleFramework(abc.ABC):\n",
      "    @staticmethod\n",
      "    @abc.abstractmethod\n",
      "    def is_loaded() -> bool:\n",
      "        pass\n",
      "\n",
      "    @staticmethod\n",
      "    @abc.abstractmethod\n",
      "    def is_my_module(module):\n",
      "        pass\n",
      "\n",
      "    @staticmethod\n",
      "    @abc.abstractmethod\n",
      "    def wrap(module):\n",
      "        return module\n",
      "\n",
      "    @staticmethod\n",
      "    def wrap_params(variables):\n",
      "        return freeze({\"params\": variables})\n",
      "\n",
      "    @staticmethod\n",
      "    @abc.abstractmethod\n",
      "    def unwrap_params(wrapped_variables):\n",
      "        return wrapped_variables\n",
      "\n",
      "\n",
      "registered_frameworks = []\n",
      "\n",
      "\n",
      "def framework(clz):\n",
      "    \"\"\"\n",
      "    Registers a framework and it's wrapper methods to make it\n",
      "    behave like a flax framework.\n",
      "    \"\"\"\n",
      "    clz = dataclasses.dataclass(frozen=True)(clz)\n",
      "    registered_frameworks.append(clz)\n",
      "    return clz\n",
      "\n",
      "\n",
      "@dataclasses.dataclass(frozen=True)\n",
      "class UnknownFramework(ModuleFramework):\n",
      "    name: str = \"Unknown\"\n",
      "\n",
      "    @staticmethod\n",
      "    def is_loaded() -> bool:\n",
      "        return True\n",
      "\n",
      "    @staticmethod\n",
      "    def is_my_module(module):\n",
      "        return False\n",
      "\n",
      "    @staticmethod\n",
      "    def wrap(module):\n",
      "        return module\n",
      "\n",
      "    @staticmethod\n",
      "    def unwrap_params(wrapped_variables):\n",
      "        return wrapped_variables\n",
      "\n",
      "\n",
      "def identify_framework(module):\n",
      "    for _framework in registered_frameworks:\n",
      "        if _framework.is_my_module(module):\n",
      "            return _framework\n",
      "\n",
      "    return UnknownFramework\n",
      "\n",
      "\n",
      "def maybe_wrap_module(module):\n",
      "    \"\"\"\n",
      "    Passing a module from an unknown framework (might be user defined module, a jax\n",
      "    module, flax or haiku or anything else really), attempt to identify what is the\n",
      "    package/framework it comes from, and if so it correctly wraps it in order to\n",
      "    make it behave like a flax module (our default).\n",
      "\n",
      "    Also returns a function used to unpack the parameters once we are done.\n",
      "    \"\"\"\n",
      "    framewrk = identify_framework(module)\n",
      "\n",
      "    return framewrk, framewrk.wrap(module)\n"
     ]
    },
    {
     "name": "stderr",
     "output_type": "stream",
     "text": [
      "C:\\Users\\kdeep\\anaconda3\\Lib\\site-packages\\xgboost\\core.py:158: UserWarning: [09:35:23] WARNING: C:\\buildkite-agent\\builds\\buildkite-windows-cpu-autoscaling-group-i-0015a694724fa8361-1\\xgboost\\xgboost-ci-windows\\src\\learner.cc:740: \n",
      "Parameters: { \"use_label_encoder\" } are not used.\n",
      "\n",
      "  warnings.warn(smsg, UserWarning)\n",
      "C:\\Users\\kdeep\\anaconda3\\Lib\\site-packages\\xgboost\\core.py:158: UserWarning: [09:35:23] WARNING: C:\\buildkite-agent\\builds\\buildkite-windows-cpu-autoscaling-group-i-0015a694724fa8361-1\\xgboost\\xgboost-ci-windows\\src\\learner.cc:740: \n",
      "Parameters: { \"use_label_encoder\" } are not used.\n",
      "\n",
      "  warnings.warn(smsg, UserWarning)\n"
     ]
    },
    {
     "name": "stdout",
     "output_type": "stream",
     "text": [
      "Precision: 0.6, Recall: 0.6, Accuracy: 0.6\n",
      "Precision: 0.6666666666666666, Recall: 0.4, Accuracy: 0.6\n"
     ]
    },
    {
     "name": "stderr",
     "output_type": "stream",
     "text": [
      "C:\\Users\\kdeep\\anaconda3\\Lib\\site-packages\\xgboost\\core.py:158: UserWarning: [09:35:23] WARNING: C:\\buildkite-agent\\builds\\buildkite-windows-cpu-autoscaling-group-i-0015a694724fa8361-1\\xgboost\\xgboost-ci-windows\\src\\learner.cc:740: \n",
      "Parameters: { \"use_label_encoder\" } are not used.\n",
      "\n",
      "  warnings.warn(smsg, UserWarning)\n"
     ]
    },
    {
     "name": "stdout",
     "output_type": "stream",
     "text": [
      "Precision: 0.8333333333333334, Recall: 1.0, Accuracy: 0.9\n"
     ]
    },
    {
     "name": "stderr",
     "output_type": "stream",
     "text": [
      "C:\\Users\\kdeep\\anaconda3\\Lib\\site-packages\\xgboost\\core.py:158: UserWarning: [09:35:24] WARNING: C:\\buildkite-agent\\builds\\buildkite-windows-cpu-autoscaling-group-i-0015a694724fa8361-1\\xgboost\\xgboost-ci-windows\\src\\learner.cc:740: \n",
      "Parameters: { \"use_label_encoder\" } are not used.\n",
      "\n",
      "  warnings.warn(smsg, UserWarning)\n"
     ]
    },
    {
     "name": "stdout",
     "output_type": "stream",
     "text": [
      "Precision: 1.0, Recall: 1.0, Accuracy: 1.0\n"
     ]
    },
    {
     "name": "stderr",
     "output_type": "stream",
     "text": [
      "C:\\Users\\kdeep\\anaconda3\\Lib\\site-packages\\xgboost\\core.py:158: UserWarning: [09:35:24] WARNING: C:\\buildkite-agent\\builds\\buildkite-windows-cpu-autoscaling-group-i-0015a694724fa8361-1\\xgboost\\xgboost-ci-windows\\src\\learner.cc:740: \n",
      "Parameters: { \"use_label_encoder\" } are not used.\n",
      "\n",
      "  warnings.warn(smsg, UserWarning)\n"
     ]
    },
    {
     "name": "stdout",
     "output_type": "stream",
     "text": [
      "Precision: 1.0, Recall: 0.4, Accuracy: 0.6666666666666666\n",
      "Precision: 0.625, Recall: 1.0, Accuracy: 0.6666666666666666\n"
     ]
    },
    {
     "name": "stderr",
     "output_type": "stream",
     "text": [
      "C:\\Users\\kdeep\\anaconda3\\Lib\\site-packages\\xgboost\\core.py:158: UserWarning: [09:35:24] WARNING: C:\\buildkite-agent\\builds\\buildkite-windows-cpu-autoscaling-group-i-0015a694724fa8361-1\\xgboost\\xgboost-ci-windows\\src\\learner.cc:740: \n",
      "Parameters: { \"use_label_encoder\" } are not used.\n",
      "\n",
      "  warnings.warn(smsg, UserWarning)\n",
      "C:\\Users\\kdeep\\anaconda3\\Lib\\site-packages\\xgboost\\core.py:158: UserWarning: [09:35:25] WARNING: C:\\buildkite-agent\\builds\\buildkite-windows-cpu-autoscaling-group-i-0015a694724fa8361-1\\xgboost\\xgboost-ci-windows\\src\\learner.cc:740: \n",
      "Parameters: { \"use_label_encoder\" } are not used.\n",
      "\n",
      "  warnings.warn(smsg, UserWarning)\n"
     ]
    },
    {
     "name": "stdout",
     "output_type": "stream",
     "text": [
      "Precision: 0.5, Recall: 0.4, Accuracy: 0.4444444444444444\n",
      "Precision: 0.5714285714285714, Recall: 1.0, Accuracy: 0.6666666666666666\n"
     ]
    },
    {
     "name": "stderr",
     "output_type": "stream",
     "text": [
      "C:\\Users\\kdeep\\anaconda3\\Lib\\site-packages\\xgboost\\core.py:158: UserWarning: [09:35:25] WARNING: C:\\buildkite-agent\\builds\\buildkite-windows-cpu-autoscaling-group-i-0015a694724fa8361-1\\xgboost\\xgboost-ci-windows\\src\\learner.cc:740: \n",
      "Parameters: { \"use_label_encoder\" } are not used.\n",
      "\n",
      "  warnings.warn(smsg, UserWarning)\n",
      "C:\\Users\\kdeep\\anaconda3\\Lib\\site-packages\\xgboost\\core.py:158: UserWarning: [09:35:25] WARNING: C:\\buildkite-agent\\builds\\buildkite-windows-cpu-autoscaling-group-i-0015a694724fa8361-1\\xgboost\\xgboost-ci-windows\\src\\learner.cc:740: \n",
      "Parameters: { \"use_label_encoder\" } are not used.\n",
      "\n",
      "  warnings.warn(smsg, UserWarning)\n"
     ]
    },
    {
     "name": "stdout",
     "output_type": "stream",
     "text": [
      "Precision: 1.0, Recall: 1.0, Accuracy: 1.0\n",
      "Precision: 0.3333333333333333, Recall: 0.25, Accuracy: 0.4444444444444444\n",
      "Results to be written: eta=0.3, depth=3, dim=100, eps=0.1, (42.3, 42.3, 4.7, 4.7, 0.7129761904761904, 0.7050000000000001, 0.698888888888889, 75808, 0.6101021499722267, 0.005438417088794664)\n",
      "eta=0.3, depth=3, dim=100, eps=0.3\n"
     ]
    },
    {
     "name": "stderr",
     "output_type": "stream",
     "text": [
      "C:\\Users\\kdeep\\anaconda3\\Lib\\site-packages\\xgboost\\core.py:158: UserWarning: [09:35:25] WARNING: C:\\buildkite-agent\\builds\\buildkite-windows-cpu-autoscaling-group-i-0015a694724fa8361-1\\xgboost\\xgboost-ci-windows\\src\\learner.cc:740: \n",
      "Parameters: { \"use_label_encoder\" } are not used.\n",
      "\n",
      "  warnings.warn(smsg, UserWarning)\n"
     ]
    },
    {
     "name": "stdout",
     "output_type": "stream",
     "text": [
      "Number of flaky documents: 47\n",
      "Number of non-flaky documents: 47\n",
      "Total number of documents: 94\n",
      "Sample document: # Copyright 2021 The NetKet Authors - All rights reserved.\n",
      "#\n",
      "# Licensed under the Apache License, Version 2.0 (the \"License\");\n",
      "# you may not use this file except in compliance with the License.\n",
      "# You may obtain a copy of the License at\n",
      "#\n",
      "#    http://www.apache.org/licenses/LICENSE-2.0\n",
      "#\n",
      "# Unless required by applicable law or agreed to in writing, software\n",
      "# distributed under the License is distributed on an \"AS IS\" BASIS,\n",
      "# WITHOUT WARRANTIES OR CONDITIONS OF ANY KIND, either express or implied.\n",
      "# See the License for the specific language governing permissions and\n",
      "# limitations under the License.\n",
      "\n",
      "import dataclasses\n",
      "import abc\n",
      "\n",
      "from flax.core import freeze\n",
      "\n",
      "\n",
      "@dataclasses.dataclass(frozen=True)\n",
      "class ModuleFramework(abc.ABC):\n",
      "    @staticmethod\n",
      "    @abc.abstractmethod\n",
      "    def is_loaded() -> bool:\n",
      "        pass\n",
      "\n",
      "    @staticmethod\n",
      "    @abc.abstractmethod\n",
      "    def is_my_module(module):\n",
      "        pass\n",
      "\n",
      "    @staticmethod\n",
      "    @abc.abstractmethod\n",
      "    def wrap(module):\n",
      "        return module\n",
      "\n",
      "    @staticmethod\n",
      "    def wrap_params(variables):\n",
      "        return freeze({\"params\": variables})\n",
      "\n",
      "    @staticmethod\n",
      "    @abc.abstractmethod\n",
      "    def unwrap_params(wrapped_variables):\n",
      "        return wrapped_variables\n",
      "\n",
      "\n",
      "registered_frameworks = []\n",
      "\n",
      "\n",
      "def framework(clz):\n",
      "    \"\"\"\n",
      "    Registers a framework and it's wrapper methods to make it\n",
      "    behave like a flax framework.\n",
      "    \"\"\"\n",
      "    clz = dataclasses.dataclass(frozen=True)(clz)\n",
      "    registered_frameworks.append(clz)\n",
      "    return clz\n",
      "\n",
      "\n",
      "@dataclasses.dataclass(frozen=True)\n",
      "class UnknownFramework(ModuleFramework):\n",
      "    name: str = \"Unknown\"\n",
      "\n",
      "    @staticmethod\n",
      "    def is_loaded() -> bool:\n",
      "        return True\n",
      "\n",
      "    @staticmethod\n",
      "    def is_my_module(module):\n",
      "        return False\n",
      "\n",
      "    @staticmethod\n",
      "    def wrap(module):\n",
      "        return module\n",
      "\n",
      "    @staticmethod\n",
      "    def unwrap_params(wrapped_variables):\n",
      "        return wrapped_variables\n",
      "\n",
      "\n",
      "def identify_framework(module):\n",
      "    for _framework in registered_frameworks:\n",
      "        if _framework.is_my_module(module):\n",
      "            return _framework\n",
      "\n",
      "    return UnknownFramework\n",
      "\n",
      "\n",
      "def maybe_wrap_module(module):\n",
      "    \"\"\"\n",
      "    Passing a module from an unknown framework (might be user defined module, a jax\n",
      "    module, flax or haiku or anything else really), attempt to identify what is the\n",
      "    package/framework it comes from, and if so it correctly wraps it in order to\n",
      "    make it behave like a flax module (our default).\n",
      "\n",
      "    Also returns a function used to unpack the parameters once we are done.\n",
      "    \"\"\"\n",
      "    framewrk = identify_framework(module)\n",
      "\n",
      "    return framewrk, framewrk.wrap(module)\n"
     ]
    },
    {
     "name": "stderr",
     "output_type": "stream",
     "text": [
      "C:\\Users\\kdeep\\anaconda3\\Lib\\site-packages\\xgboost\\core.py:158: UserWarning: [09:35:26] WARNING: C:\\buildkite-agent\\builds\\buildkite-windows-cpu-autoscaling-group-i-0015a694724fa8361-1\\xgboost\\xgboost-ci-windows\\src\\learner.cc:740: \n",
      "Parameters: { \"use_label_encoder\" } are not used.\n",
      "\n",
      "  warnings.warn(smsg, UserWarning)\n"
     ]
    },
    {
     "name": "stdout",
     "output_type": "stream",
     "text": [
      "Precision: 1.0, Recall: 0.8, Accuracy: 0.9\n"
     ]
    },
    {
     "name": "stderr",
     "output_type": "stream",
     "text": [
      "C:\\Users\\kdeep\\anaconda3\\Lib\\site-packages\\xgboost\\core.py:158: UserWarning: [09:35:26] WARNING: C:\\buildkite-agent\\builds\\buildkite-windows-cpu-autoscaling-group-i-0015a694724fa8361-1\\xgboost\\xgboost-ci-windows\\src\\learner.cc:740: \n",
      "Parameters: { \"use_label_encoder\" } are not used.\n",
      "\n",
      "  warnings.warn(smsg, UserWarning)\n"
     ]
    },
    {
     "name": "stdout",
     "output_type": "stream",
     "text": [
      "Precision: 1.0, Recall: 1.0, Accuracy: 1.0\n"
     ]
    },
    {
     "name": "stderr",
     "output_type": "stream",
     "text": [
      "C:\\Users\\kdeep\\anaconda3\\Lib\\site-packages\\xgboost\\core.py:158: UserWarning: [09:35:27] WARNING: C:\\buildkite-agent\\builds\\buildkite-windows-cpu-autoscaling-group-i-0015a694724fa8361-1\\xgboost\\xgboost-ci-windows\\src\\learner.cc:740: \n",
      "Parameters: { \"use_label_encoder\" } are not used.\n",
      "\n",
      "  warnings.warn(smsg, UserWarning)\n"
     ]
    },
    {
     "name": "stdout",
     "output_type": "stream",
     "text": [
      "Precision: 1.0, Recall: 0.8, Accuracy: 0.9\n"
     ]
    },
    {
     "name": "stderr",
     "output_type": "stream",
     "text": [
      "C:\\Users\\kdeep\\anaconda3\\Lib\\site-packages\\xgboost\\core.py:158: UserWarning: [09:35:27] WARNING: C:\\buildkite-agent\\builds\\buildkite-windows-cpu-autoscaling-group-i-0015a694724fa8361-1\\xgboost\\xgboost-ci-windows\\src\\learner.cc:740: \n",
      "Parameters: { \"use_label_encoder\" } are not used.\n",
      "\n",
      "  warnings.warn(smsg, UserWarning)\n"
     ]
    },
    {
     "name": "stdout",
     "output_type": "stream",
     "text": [
      "Precision: 0.8, Recall: 0.8, Accuracy: 0.8\n"
     ]
    },
    {
     "name": "stderr",
     "output_type": "stream",
     "text": [
      "C:\\Users\\kdeep\\anaconda3\\Lib\\site-packages\\xgboost\\core.py:158: UserWarning: [09:35:27] WARNING: C:\\buildkite-agent\\builds\\buildkite-windows-cpu-autoscaling-group-i-0015a694724fa8361-1\\xgboost\\xgboost-ci-windows\\src\\learner.cc:740: \n",
      "Parameters: { \"use_label_encoder\" } are not used.\n",
      "\n",
      "  warnings.warn(smsg, UserWarning)\n"
     ]
    },
    {
     "name": "stdout",
     "output_type": "stream",
     "text": [
      "Precision: 0.6666666666666666, Recall: 0.4, Accuracy: 0.5555555555555556\n",
      "Precision: 0.4, Recall: 0.4, Accuracy: 0.3333333333333333\n",
      "Precision: 0.8, Recall: 0.8, Accuracy: 0.7777777777777778\n"
     ]
    },
    {
     "name": "stderr",
     "output_type": "stream",
     "text": [
      "C:\\Users\\kdeep\\anaconda3\\Lib\\site-packages\\xgboost\\core.py:158: UserWarning: [09:35:28] WARNING: C:\\buildkite-agent\\builds\\buildkite-windows-cpu-autoscaling-group-i-0015a694724fa8361-1\\xgboost\\xgboost-ci-windows\\src\\learner.cc:740: \n",
      "Parameters: { \"use_label_encoder\" } are not used.\n",
      "\n",
      "  warnings.warn(smsg, UserWarning)\n",
      "C:\\Users\\kdeep\\anaconda3\\Lib\\site-packages\\xgboost\\core.py:158: UserWarning: [09:35:28] WARNING: C:\\buildkite-agent\\builds\\buildkite-windows-cpu-autoscaling-group-i-0015a694724fa8361-1\\xgboost\\xgboost-ci-windows\\src\\learner.cc:740: \n",
      "Parameters: { \"use_label_encoder\" } are not used.\n",
      "\n",
      "  warnings.warn(smsg, UserWarning)\n",
      "C:\\Users\\kdeep\\anaconda3\\Lib\\site-packages\\xgboost\\core.py:158: UserWarning: [09:35:28] WARNING: C:\\buildkite-agent\\builds\\buildkite-windows-cpu-autoscaling-group-i-0015a694724fa8361-1\\xgboost\\xgboost-ci-windows\\src\\learner.cc:740: \n",
      "Parameters: { \"use_label_encoder\" } are not used.\n",
      "\n",
      "  warnings.warn(smsg, UserWarning)\n"
     ]
    },
    {
     "name": "stdout",
     "output_type": "stream",
     "text": [
      "Precision: 0.5, Recall: 0.75, Accuracy: 0.5555555555555556\n",
      "Precision: 0.6666666666666666, Recall: 1.0, Accuracy: 0.7777777777777778\n"
     ]
    },
    {
     "name": "stderr",
     "output_type": "stream",
     "text": [
      "C:\\Users\\kdeep\\anaconda3\\Lib\\site-packages\\xgboost\\core.py:158: UserWarning: [09:35:28] WARNING: C:\\buildkite-agent\\builds\\buildkite-windows-cpu-autoscaling-group-i-0015a694724fa8361-1\\xgboost\\xgboost-ci-windows\\src\\learner.cc:740: \n",
      "Parameters: { \"use_label_encoder\" } are not used.\n",
      "\n",
      "  warnings.warn(smsg, UserWarning)\n",
      "C:\\Users\\kdeep\\anaconda3\\Lib\\site-packages\\xgboost\\core.py:158: UserWarning: [09:35:28] WARNING: C:\\buildkite-agent\\builds\\buildkite-windows-cpu-autoscaling-group-i-0015a694724fa8361-1\\xgboost\\xgboost-ci-windows\\src\\learner.cc:740: \n",
      "Parameters: { \"use_label_encoder\" } are not used.\n",
      "\n",
      "  warnings.warn(smsg, UserWarning)\n"
     ]
    },
    {
     "name": "stdout",
     "output_type": "stream",
     "text": [
      "Precision: 0.6, Recall: 0.75, Accuracy: 0.6666666666666666\n",
      "Results to be written: eta=0.3, depth=3, dim=100, eps=0.3, (42.3, 42.3, 4.7, 4.7, 0.7433333333333334, 0.75, 0.7266666666666666, 75808, 0.7016464199637996, 0.005711369327281604)\n",
      "eta=0.3, depth=3, dim=100, eps=0.5\n",
      "Number of flaky documents: 47\n",
      "Number of non-flaky documents: 47\n",
      "Total number of documents: 94\n",
      "Sample document: # Copyright 2021 The NetKet Authors - All rights reserved.\n",
      "#\n",
      "# Licensed under the Apache License, Version 2.0 (the \"License\");\n",
      "# you may not use this file except in compliance with the License.\n",
      "# You may obtain a copy of the License at\n",
      "#\n",
      "#    http://www.apache.org/licenses/LICENSE-2.0\n",
      "#\n",
      "# Unless required by applicable law or agreed to in writing, software\n",
      "# distributed under the License is distributed on an \"AS IS\" BASIS,\n",
      "# WITHOUT WARRANTIES OR CONDITIONS OF ANY KIND, either express or implied.\n",
      "# See the License for the specific language governing permissions and\n",
      "# limitations under the License.\n",
      "\n",
      "import dataclasses\n",
      "import abc\n",
      "\n",
      "from flax.core import freeze\n",
      "\n",
      "\n",
      "@dataclasses.dataclass(frozen=True)\n",
      "class ModuleFramework(abc.ABC):\n",
      "    @staticmethod\n",
      "    @abc.abstractmethod\n",
      "    def is_loaded() -> bool:\n",
      "        pass\n",
      "\n",
      "    @staticmethod\n",
      "    @abc.abstractmethod\n",
      "    def is_my_module(module):\n",
      "        pass\n",
      "\n",
      "    @staticmethod\n",
      "    @abc.abstractmethod\n",
      "    def wrap(module):\n",
      "        return module\n",
      "\n",
      "    @staticmethod\n",
      "    def wrap_params(variables):\n",
      "        return freeze({\"params\": variables})\n",
      "\n",
      "    @staticmethod\n",
      "    @abc.abstractmethod\n",
      "    def unwrap_params(wrapped_variables):\n",
      "        return wrapped_variables\n",
      "\n",
      "\n",
      "registered_frameworks = []\n",
      "\n",
      "\n",
      "def framework(clz):\n",
      "    \"\"\"\n",
      "    Registers a framework and it's wrapper methods to make it\n",
      "    behave like a flax framework.\n",
      "    \"\"\"\n",
      "    clz = dataclasses.dataclass(frozen=True)(clz)\n",
      "    registered_frameworks.append(clz)\n",
      "    return clz\n",
      "\n",
      "\n",
      "@dataclasses.dataclass(frozen=True)\n",
      "class UnknownFramework(ModuleFramework):\n",
      "    name: str = \"Unknown\"\n",
      "\n",
      "    @staticmethod\n",
      "    def is_loaded() -> bool:\n",
      "        return True\n",
      "\n",
      "    @staticmethod\n",
      "    def is_my_module(module):\n",
      "        return False\n",
      "\n",
      "    @staticmethod\n",
      "    def wrap(module):\n",
      "        return module\n",
      "\n",
      "    @staticmethod\n",
      "    def unwrap_params(wrapped_variables):\n",
      "        return wrapped_variables\n",
      "\n",
      "\n",
      "def identify_framework(module):\n",
      "    for _framework in registered_frameworks:\n",
      "        if _framework.is_my_module(module):\n",
      "            return _framework\n",
      "\n",
      "    return UnknownFramework\n",
      "\n",
      "\n",
      "def maybe_wrap_module(module):\n",
      "    \"\"\"\n",
      "    Passing a module from an unknown framework (might be user defined module, a jax\n",
      "    module, flax or haiku or anything else really), attempt to identify what is the\n",
      "    package/framework it comes from, and if so it correctly wraps it in order to\n",
      "    make it behave like a flax module (our default).\n",
      "\n",
      "    Also returns a function used to unpack the parameters once we are done.\n",
      "    \"\"\"\n",
      "    framewrk = identify_framework(module)\n",
      "\n",
      "    return framewrk, framewrk.wrap(module)\n"
     ]
    },
    {
     "name": "stderr",
     "output_type": "stream",
     "text": [
      "C:\\Users\\kdeep\\anaconda3\\Lib\\site-packages\\xgboost\\core.py:158: UserWarning: [09:35:29] WARNING: C:\\buildkite-agent\\builds\\buildkite-windows-cpu-autoscaling-group-i-0015a694724fa8361-1\\xgboost\\xgboost-ci-windows\\src\\learner.cc:740: \n",
      "Parameters: { \"use_label_encoder\" } are not used.\n",
      "\n",
      "  warnings.warn(smsg, UserWarning)\n",
      "C:\\Users\\kdeep\\anaconda3\\Lib\\site-packages\\xgboost\\core.py:158: UserWarning: [09:35:29] WARNING: C:\\buildkite-agent\\builds\\buildkite-windows-cpu-autoscaling-group-i-0015a694724fa8361-1\\xgboost\\xgboost-ci-windows\\src\\learner.cc:740: \n",
      "Parameters: { \"use_label_encoder\" } are not used.\n",
      "\n",
      "  warnings.warn(smsg, UserWarning)\n"
     ]
    },
    {
     "name": "stdout",
     "output_type": "stream",
     "text": [
      "Precision: 0.5, Recall: 0.6, Accuracy: 0.5\n",
      "Precision: 1.0, Recall: 0.8, Accuracy: 0.9\n"
     ]
    },
    {
     "name": "stderr",
     "output_type": "stream",
     "text": [
      "C:\\Users\\kdeep\\anaconda3\\Lib\\site-packages\\xgboost\\core.py:158: UserWarning: [09:35:29] WARNING: C:\\buildkite-agent\\builds\\buildkite-windows-cpu-autoscaling-group-i-0015a694724fa8361-1\\xgboost\\xgboost-ci-windows\\src\\learner.cc:740: \n",
      "Parameters: { \"use_label_encoder\" } are not used.\n",
      "\n",
      "  warnings.warn(smsg, UserWarning)\n"
     ]
    },
    {
     "name": "stdout",
     "output_type": "stream",
     "text": [
      "Precision: 1.0, Recall: 1.0, Accuracy: 1.0\n",
      "Precision: 1.0, Recall: 0.4, Accuracy: 0.7\n"
     ]
    },
    {
     "name": "stderr",
     "output_type": "stream",
     "text": [
      "C:\\Users\\kdeep\\anaconda3\\Lib\\site-packages\\xgboost\\core.py:158: UserWarning: [09:35:29] WARNING: C:\\buildkite-agent\\builds\\buildkite-windows-cpu-autoscaling-group-i-0015a694724fa8361-1\\xgboost\\xgboost-ci-windows\\src\\learner.cc:740: \n",
      "Parameters: { \"use_label_encoder\" } are not used.\n",
      "\n",
      "  warnings.warn(smsg, UserWarning)\n",
      "C:\\Users\\kdeep\\anaconda3\\Lib\\site-packages\\xgboost\\core.py:158: UserWarning: [09:35:29] WARNING: C:\\buildkite-agent\\builds\\buildkite-windows-cpu-autoscaling-group-i-0015a694724fa8361-1\\xgboost\\xgboost-ci-windows\\src\\learner.cc:740: \n",
      "Parameters: { \"use_label_encoder\" } are not used.\n",
      "\n",
      "  warnings.warn(smsg, UserWarning)\n"
     ]
    },
    {
     "name": "stdout",
     "output_type": "stream",
     "text": [
      "Precision: 0.6666666666666666, Recall: 0.4, Accuracy: 0.5555555555555556\n"
     ]
    },
    {
     "name": "stderr",
     "output_type": "stream",
     "text": [
      "C:\\Users\\kdeep\\anaconda3\\Lib\\site-packages\\xgboost\\core.py:158: UserWarning: [09:35:30] WARNING: C:\\buildkite-agent\\builds\\buildkite-windows-cpu-autoscaling-group-i-0015a694724fa8361-1\\xgboost\\xgboost-ci-windows\\src\\learner.cc:740: \n",
      "Parameters: { \"use_label_encoder\" } are not used.\n",
      "\n",
      "  warnings.warn(smsg, UserWarning)\n"
     ]
    },
    {
     "name": "stdout",
     "output_type": "stream",
     "text": [
      "Precision: 0.5714285714285714, Recall: 0.8, Accuracy: 0.5555555555555556\n"
     ]
    },
    {
     "name": "stderr",
     "output_type": "stream",
     "text": [
      "C:\\Users\\kdeep\\anaconda3\\Lib\\site-packages\\xgboost\\core.py:158: UserWarning: [09:35:30] WARNING: C:\\buildkite-agent\\builds\\buildkite-windows-cpu-autoscaling-group-i-0015a694724fa8361-1\\xgboost\\xgboost-ci-windows\\src\\learner.cc:740: \n",
      "Parameters: { \"use_label_encoder\" } are not used.\n",
      "\n",
      "  warnings.warn(smsg, UserWarning)\n"
     ]
    },
    {
     "name": "stdout",
     "output_type": "stream",
     "text": [
      "Precision: 0.5, Recall: 0.6, Accuracy: 0.4444444444444444\n",
      "Precision: 0.8, Recall: 1.0, Accuracy: 0.8888888888888888\n"
     ]
    },
    {
     "name": "stderr",
     "output_type": "stream",
     "text": [
      "C:\\Users\\kdeep\\anaconda3\\Lib\\site-packages\\xgboost\\core.py:158: UserWarning: [09:35:30] WARNING: C:\\buildkite-agent\\builds\\buildkite-windows-cpu-autoscaling-group-i-0015a694724fa8361-1\\xgboost\\xgboost-ci-windows\\src\\learner.cc:740: \n",
      "Parameters: { \"use_label_encoder\" } are not used.\n",
      "\n",
      "  warnings.warn(smsg, UserWarning)\n",
      "C:\\Users\\kdeep\\anaconda3\\Lib\\site-packages\\xgboost\\core.py:158: UserWarning: [09:35:30] WARNING: C:\\buildkite-agent\\builds\\buildkite-windows-cpu-autoscaling-group-i-0015a694724fa8361-1\\xgboost\\xgboost-ci-windows\\src\\learner.cc:740: \n",
      "Parameters: { \"use_label_encoder\" } are not used.\n",
      "\n",
      "  warnings.warn(smsg, UserWarning)\n"
     ]
    },
    {
     "name": "stdout",
     "output_type": "stream",
     "text": [
      "Precision: 1.0, Recall: 1.0, Accuracy: 1.0\n",
      "Precision: 0.5, Recall: 0.5, Accuracy: 0.5555555555555556\n",
      "Results to be written: eta=0.3, depth=3, dim=100, eps=0.5, (42.3, 42.3, 4.7, 4.7, 0.7538095238095238, 0.71, 0.71, 75808, 0.5883639799663796, 0.004898639967187307)\n",
      "eta=0.3, depth=3, dim=200, eps=0.1\n"
     ]
    },
    {
     "name": "stderr",
     "output_type": "stream",
     "text": [
      "C:\\Users\\kdeep\\anaconda3\\Lib\\site-packages\\xgboost\\core.py:158: UserWarning: [09:35:30] WARNING: C:\\buildkite-agent\\builds\\buildkite-windows-cpu-autoscaling-group-i-0015a694724fa8361-1\\xgboost\\xgboost-ci-windows\\src\\learner.cc:740: \n",
      "Parameters: { \"use_label_encoder\" } are not used.\n",
      "\n",
      "  warnings.warn(smsg, UserWarning)\n"
     ]
    },
    {
     "name": "stdout",
     "output_type": "stream",
     "text": [
      "Number of flaky documents: 47\n",
      "Number of non-flaky documents: 47\n",
      "Total number of documents: 94\n",
      "Sample document: # Copyright 2021 The NetKet Authors - All rights reserved.\n",
      "#\n",
      "# Licensed under the Apache License, Version 2.0 (the \"License\");\n",
      "# you may not use this file except in compliance with the License.\n",
      "# You may obtain a copy of the License at\n",
      "#\n",
      "#    http://www.apache.org/licenses/LICENSE-2.0\n",
      "#\n",
      "# Unless required by applicable law or agreed to in writing, software\n",
      "# distributed under the License is distributed on an \"AS IS\" BASIS,\n",
      "# WITHOUT WARRANTIES OR CONDITIONS OF ANY KIND, either express or implied.\n",
      "# See the License for the specific language governing permissions and\n",
      "# limitations under the License.\n",
      "\n",
      "import dataclasses\n",
      "import abc\n",
      "\n",
      "from flax.core import freeze\n",
      "\n",
      "\n",
      "@dataclasses.dataclass(frozen=True)\n",
      "class ModuleFramework(abc.ABC):\n",
      "    @staticmethod\n",
      "    @abc.abstractmethod\n",
      "    def is_loaded() -> bool:\n",
      "        pass\n",
      "\n",
      "    @staticmethod\n",
      "    @abc.abstractmethod\n",
      "    def is_my_module(module):\n",
      "        pass\n",
      "\n",
      "    @staticmethod\n",
      "    @abc.abstractmethod\n",
      "    def wrap(module):\n",
      "        return module\n",
      "\n",
      "    @staticmethod\n",
      "    def wrap_params(variables):\n",
      "        return freeze({\"params\": variables})\n",
      "\n",
      "    @staticmethod\n",
      "    @abc.abstractmethod\n",
      "    def unwrap_params(wrapped_variables):\n",
      "        return wrapped_variables\n",
      "\n",
      "\n",
      "registered_frameworks = []\n",
      "\n",
      "\n",
      "def framework(clz):\n",
      "    \"\"\"\n",
      "    Registers a framework and it's wrapper methods to make it\n",
      "    behave like a flax framework.\n",
      "    \"\"\"\n",
      "    clz = dataclasses.dataclass(frozen=True)(clz)\n",
      "    registered_frameworks.append(clz)\n",
      "    return clz\n",
      "\n",
      "\n",
      "@dataclasses.dataclass(frozen=True)\n",
      "class UnknownFramework(ModuleFramework):\n",
      "    name: str = \"Unknown\"\n",
      "\n",
      "    @staticmethod\n",
      "    def is_loaded() -> bool:\n",
      "        return True\n",
      "\n",
      "    @staticmethod\n",
      "    def is_my_module(module):\n",
      "        return False\n",
      "\n",
      "    @staticmethod\n",
      "    def wrap(module):\n",
      "        return module\n",
      "\n",
      "    @staticmethod\n",
      "    def unwrap_params(wrapped_variables):\n",
      "        return wrapped_variables\n",
      "\n",
      "\n",
      "def identify_framework(module):\n",
      "    for _framework in registered_frameworks:\n",
      "        if _framework.is_my_module(module):\n",
      "            return _framework\n",
      "\n",
      "    return UnknownFramework\n",
      "\n",
      "\n",
      "def maybe_wrap_module(module):\n",
      "    \"\"\"\n",
      "    Passing a module from an unknown framework (might be user defined module, a jax\n",
      "    module, flax or haiku or anything else really), attempt to identify what is the\n",
      "    package/framework it comes from, and if so it correctly wraps it in order to\n",
      "    make it behave like a flax module (our default).\n",
      "\n",
      "    Also returns a function used to unpack the parameters once we are done.\n",
      "    \"\"\"\n",
      "    framewrk = identify_framework(module)\n",
      "\n",
      "    return framewrk, framewrk.wrap(module)\n"
     ]
    },
    {
     "name": "stderr",
     "output_type": "stream",
     "text": [
      "C:\\Users\\kdeep\\anaconda3\\Lib\\site-packages\\xgboost\\core.py:158: UserWarning: [09:35:31] WARNING: C:\\buildkite-agent\\builds\\buildkite-windows-cpu-autoscaling-group-i-0015a694724fa8361-1\\xgboost\\xgboost-ci-windows\\src\\learner.cc:740: \n",
      "Parameters: { \"use_label_encoder\" } are not used.\n",
      "\n",
      "  warnings.warn(smsg, UserWarning)\n"
     ]
    },
    {
     "name": "stdout",
     "output_type": "stream",
     "text": [
      "Precision: 0.0, Recall: 0.0, Accuracy: 0.3\n"
     ]
    },
    {
     "name": "stderr",
     "output_type": "stream",
     "text": [
      "C:\\Users\\kdeep\\anaconda3\\Lib\\site-packages\\xgboost\\core.py:158: UserWarning: [09:35:32] WARNING: C:\\buildkite-agent\\builds\\buildkite-windows-cpu-autoscaling-group-i-0015a694724fa8361-1\\xgboost\\xgboost-ci-windows\\src\\learner.cc:740: \n",
      "Parameters: { \"use_label_encoder\" } are not used.\n",
      "\n",
      "  warnings.warn(smsg, UserWarning)\n"
     ]
    },
    {
     "name": "stdout",
     "output_type": "stream",
     "text": [
      "Precision: 1.0, Recall: 0.4, Accuracy: 0.7\n"
     ]
    },
    {
     "name": "stderr",
     "output_type": "stream",
     "text": [
      "C:\\Users\\kdeep\\anaconda3\\Lib\\site-packages\\xgboost\\core.py:158: UserWarning: [09:35:32] WARNING: C:\\buildkite-agent\\builds\\buildkite-windows-cpu-autoscaling-group-i-0015a694724fa8361-1\\xgboost\\xgboost-ci-windows\\src\\learner.cc:740: \n",
      "Parameters: { \"use_label_encoder\" } are not used.\n",
      "\n",
      "  warnings.warn(smsg, UserWarning)\n"
     ]
    },
    {
     "name": "stdout",
     "output_type": "stream",
     "text": [
      "Precision: 1.0, Recall: 0.8, Accuracy: 0.9\n"
     ]
    },
    {
     "name": "stderr",
     "output_type": "stream",
     "text": [
      "C:\\Users\\kdeep\\anaconda3\\Lib\\site-packages\\xgboost\\core.py:158: UserWarning: [09:35:32] WARNING: C:\\buildkite-agent\\builds\\buildkite-windows-cpu-autoscaling-group-i-0015a694724fa8361-1\\xgboost\\xgboost-ci-windows\\src\\learner.cc:740: \n",
      "Parameters: { \"use_label_encoder\" } are not used.\n",
      "\n",
      "  warnings.warn(smsg, UserWarning)\n"
     ]
    },
    {
     "name": "stdout",
     "output_type": "stream",
     "text": [
      "Precision: 1.0, Recall: 1.0, Accuracy: 1.0\n"
     ]
    },
    {
     "name": "stderr",
     "output_type": "stream",
     "text": [
      "C:\\Users\\kdeep\\anaconda3\\Lib\\site-packages\\xgboost\\core.py:158: UserWarning: [09:35:32] WARNING: C:\\buildkite-agent\\builds\\buildkite-windows-cpu-autoscaling-group-i-0015a694724fa8361-1\\xgboost\\xgboost-ci-windows\\src\\learner.cc:740: \n",
      "Parameters: { \"use_label_encoder\" } are not used.\n",
      "\n",
      "  warnings.warn(smsg, UserWarning)\n"
     ]
    },
    {
     "name": "stdout",
     "output_type": "stream",
     "text": [
      "Precision: 0.5, Recall: 0.2, Accuracy: 0.4444444444444444\n"
     ]
    },
    {
     "name": "stderr",
     "output_type": "stream",
     "text": [
      "C:\\Users\\kdeep\\anaconda3\\Lib\\site-packages\\xgboost\\core.py:158: UserWarning: [09:35:33] WARNING: C:\\buildkite-agent\\builds\\buildkite-windows-cpu-autoscaling-group-i-0015a694724fa8361-1\\xgboost\\xgboost-ci-windows\\src\\learner.cc:740: \n",
      "Parameters: { \"use_label_encoder\" } are not used.\n",
      "\n",
      "  warnings.warn(smsg, UserWarning)\n"
     ]
    },
    {
     "name": "stdout",
     "output_type": "stream",
     "text": [
      "Precision: 0.5555555555555556, Recall: 1.0, Accuracy: 0.5555555555555556\n",
      "Precision: 0.8, Recall: 0.8, Accuracy: 0.7777777777777778\n"
     ]
    },
    {
     "name": "stderr",
     "output_type": "stream",
     "text": [
      "C:\\Users\\kdeep\\anaconda3\\Lib\\site-packages\\xgboost\\core.py:158: UserWarning: [09:35:33] WARNING: C:\\buildkite-agent\\builds\\buildkite-windows-cpu-autoscaling-group-i-0015a694724fa8361-1\\xgboost\\xgboost-ci-windows\\src\\learner.cc:740: \n",
      "Parameters: { \"use_label_encoder\" } are not used.\n",
      "\n",
      "  warnings.warn(smsg, UserWarning)\n",
      "C:\\Users\\kdeep\\anaconda3\\Lib\\site-packages\\xgboost\\core.py:158: UserWarning: [09:35:33] WARNING: C:\\buildkite-agent\\builds\\buildkite-windows-cpu-autoscaling-group-i-0015a694724fa8361-1\\xgboost\\xgboost-ci-windows\\src\\learner.cc:740: \n",
      "Parameters: { \"use_label_encoder\" } are not used.\n",
      "\n",
      "  warnings.warn(smsg, UserWarning)\n",
      "C:\\Users\\kdeep\\anaconda3\\Lib\\site-packages\\xgboost\\core.py:158: UserWarning: [09:35:33] WARNING: C:\\buildkite-agent\\builds\\buildkite-windows-cpu-autoscaling-group-i-0015a694724fa8361-1\\xgboost\\xgboost-ci-windows\\src\\learner.cc:740: \n",
      "Parameters: { \"use_label_encoder\" } are not used.\n",
      "\n",
      "  warnings.warn(smsg, UserWarning)\n"
     ]
    },
    {
     "name": "stdout",
     "output_type": "stream",
     "text": [
      "Precision: 0.6666666666666666, Recall: 1.0, Accuracy: 0.7777777777777778\n",
      "Precision: 0.6, Recall: 0.75, Accuracy: 0.6666666666666666\n"
     ]
    },
    {
     "name": "stderr",
     "output_type": "stream",
     "text": [
      "C:\\Users\\kdeep\\anaconda3\\Lib\\site-packages\\xgboost\\core.py:158: UserWarning: [09:35:33] WARNING: C:\\buildkite-agent\\builds\\buildkite-windows-cpu-autoscaling-group-i-0015a694724fa8361-1\\xgboost\\xgboost-ci-windows\\src\\learner.cc:740: \n",
      "Parameters: { \"use_label_encoder\" } are not used.\n",
      "\n",
      "  warnings.warn(smsg, UserWarning)\n"
     ]
    },
    {
     "name": "stdout",
     "output_type": "stream",
     "text": [
      "Precision: 0.2857142857142857, Recall: 0.5, Accuracy: 0.2222222222222222\n",
      "Results to be written: eta=0.3, depth=3, dim=200, eps=0.1, (42.3, 42.3, 4.7, 4.7, 0.6407936507936507, 0.645, 0.6344444444444444, 151008, 0.7773893799516371, 0.006916537128312372)\n",
      "eta=0.3, depth=3, dim=200, eps=0.3\n",
      "Number of flaky documents: 47\n",
      "Number of non-flaky documents: 47\n",
      "Total number of documents: 94\n",
      "Sample document: # Copyright 2021 The NetKet Authors - All rights reserved.\n",
      "#\n",
      "# Licensed under the Apache License, Version 2.0 (the \"License\");\n",
      "# you may not use this file except in compliance with the License.\n",
      "# You may obtain a copy of the License at\n",
      "#\n",
      "#    http://www.apache.org/licenses/LICENSE-2.0\n",
      "#\n",
      "# Unless required by applicable law or agreed to in writing, software\n",
      "# distributed under the License is distributed on an \"AS IS\" BASIS,\n",
      "# WITHOUT WARRANTIES OR CONDITIONS OF ANY KIND, either express or implied.\n",
      "# See the License for the specific language governing permissions and\n",
      "# limitations under the License.\n",
      "\n",
      "import dataclasses\n",
      "import abc\n",
      "\n",
      "from flax.core import freeze\n",
      "\n",
      "\n",
      "@dataclasses.dataclass(frozen=True)\n",
      "class ModuleFramework(abc.ABC):\n",
      "    @staticmethod\n",
      "    @abc.abstractmethod\n",
      "    def is_loaded() -> bool:\n",
      "        pass\n",
      "\n",
      "    @staticmethod\n",
      "    @abc.abstractmethod\n",
      "    def is_my_module(module):\n",
      "        pass\n",
      "\n",
      "    @staticmethod\n",
      "    @abc.abstractmethod\n",
      "    def wrap(module):\n",
      "        return module\n",
      "\n",
      "    @staticmethod\n",
      "    def wrap_params(variables):\n",
      "        return freeze({\"params\": variables})\n",
      "\n",
      "    @staticmethod\n",
      "    @abc.abstractmethod\n",
      "    def unwrap_params(wrapped_variables):\n",
      "        return wrapped_variables\n",
      "\n",
      "\n",
      "registered_frameworks = []\n",
      "\n",
      "\n",
      "def framework(clz):\n",
      "    \"\"\"\n",
      "    Registers a framework and it's wrapper methods to make it\n",
      "    behave like a flax framework.\n",
      "    \"\"\"\n",
      "    clz = dataclasses.dataclass(frozen=True)(clz)\n",
      "    registered_frameworks.append(clz)\n",
      "    return clz\n",
      "\n",
      "\n",
      "@dataclasses.dataclass(frozen=True)\n",
      "class UnknownFramework(ModuleFramework):\n",
      "    name: str = \"Unknown\"\n",
      "\n",
      "    @staticmethod\n",
      "    def is_loaded() -> bool:\n",
      "        return True\n",
      "\n",
      "    @staticmethod\n",
      "    def is_my_module(module):\n",
      "        return False\n",
      "\n",
      "    @staticmethod\n",
      "    def wrap(module):\n",
      "        return module\n",
      "\n",
      "    @staticmethod\n",
      "    def unwrap_params(wrapped_variables):\n",
      "        return wrapped_variables\n",
      "\n",
      "\n",
      "def identify_framework(module):\n",
      "    for _framework in registered_frameworks:\n",
      "        if _framework.is_my_module(module):\n",
      "            return _framework\n",
      "\n",
      "    return UnknownFramework\n",
      "\n",
      "\n",
      "def maybe_wrap_module(module):\n",
      "    \"\"\"\n",
      "    Passing a module from an unknown framework (might be user defined module, a jax\n",
      "    module, flax or haiku or anything else really), attempt to identify what is the\n",
      "    package/framework it comes from, and if so it correctly wraps it in order to\n",
      "    make it behave like a flax module (our default).\n",
      "\n",
      "    Also returns a function used to unpack the parameters once we are done.\n",
      "    \"\"\"\n",
      "    framewrk = identify_framework(module)\n",
      "\n",
      "    return framewrk, framewrk.wrap(module)\n"
     ]
    },
    {
     "name": "stderr",
     "output_type": "stream",
     "text": [
      "C:\\Users\\kdeep\\anaconda3\\Lib\\site-packages\\xgboost\\core.py:158: UserWarning: [09:35:34] WARNING: C:\\buildkite-agent\\builds\\buildkite-windows-cpu-autoscaling-group-i-0015a694724fa8361-1\\xgboost\\xgboost-ci-windows\\src\\learner.cc:740: \n",
      "Parameters: { \"use_label_encoder\" } are not used.\n",
      "\n",
      "  warnings.warn(smsg, UserWarning)\n",
      "C:\\Users\\kdeep\\anaconda3\\Lib\\site-packages\\xgboost\\core.py:158: UserWarning: [09:35:35] WARNING: C:\\buildkite-agent\\builds\\buildkite-windows-cpu-autoscaling-group-i-0015a694724fa8361-1\\xgboost\\xgboost-ci-windows\\src\\learner.cc:740: \n",
      "Parameters: { \"use_label_encoder\" } are not used.\n",
      "\n",
      "  warnings.warn(smsg, UserWarning)\n"
     ]
    },
    {
     "name": "stdout",
     "output_type": "stream",
     "text": [
      "Precision: 1.0, Recall: 0.4, Accuracy: 0.7\n",
      "Precision: 1.0, Recall: 0.8, Accuracy: 0.9\n"
     ]
    },
    {
     "name": "stderr",
     "output_type": "stream",
     "text": [
      "C:\\Users\\kdeep\\anaconda3\\Lib\\site-packages\\xgboost\\core.py:158: UserWarning: [09:35:35] WARNING: C:\\buildkite-agent\\builds\\buildkite-windows-cpu-autoscaling-group-i-0015a694724fa8361-1\\xgboost\\xgboost-ci-windows\\src\\learner.cc:740: \n",
      "Parameters: { \"use_label_encoder\" } are not used.\n",
      "\n",
      "  warnings.warn(smsg, UserWarning)\n"
     ]
    },
    {
     "name": "stdout",
     "output_type": "stream",
     "text": [
      "Precision: 1.0, Recall: 0.8, Accuracy: 0.9\n"
     ]
    },
    {
     "name": "stderr",
     "output_type": "stream",
     "text": [
      "C:\\Users\\kdeep\\anaconda3\\Lib\\site-packages\\xgboost\\core.py:158: UserWarning: [09:35:35] WARNING: C:\\buildkite-agent\\builds\\buildkite-windows-cpu-autoscaling-group-i-0015a694724fa8361-1\\xgboost\\xgboost-ci-windows\\src\\learner.cc:740: \n",
      "Parameters: { \"use_label_encoder\" } are not used.\n",
      "\n",
      "  warnings.warn(smsg, UserWarning)\n"
     ]
    },
    {
     "name": "stdout",
     "output_type": "stream",
     "text": [
      "Precision: 0.8, Recall: 0.8, Accuracy: 0.8\n"
     ]
    },
    {
     "name": "stderr",
     "output_type": "stream",
     "text": [
      "C:\\Users\\kdeep\\anaconda3\\Lib\\site-packages\\xgboost\\core.py:158: UserWarning: [09:35:36] WARNING: C:\\buildkite-agent\\builds\\buildkite-windows-cpu-autoscaling-group-i-0015a694724fa8361-1\\xgboost\\xgboost-ci-windows\\src\\learner.cc:740: \n",
      "Parameters: { \"use_label_encoder\" } are not used.\n",
      "\n",
      "  warnings.warn(smsg, UserWarning)\n"
     ]
    },
    {
     "name": "stdout",
     "output_type": "stream",
     "text": [
      "Precision: 0.8, Recall: 0.8, Accuracy: 0.7777777777777778\n",
      "Precision: 0.42857142857142855, Recall: 0.6, Accuracy: 0.3333333333333333\n"
     ]
    },
    {
     "name": "stderr",
     "output_type": "stream",
     "text": [
      "C:\\Users\\kdeep\\anaconda3\\Lib\\site-packages\\xgboost\\core.py:158: UserWarning: [09:35:36] WARNING: C:\\buildkite-agent\\builds\\buildkite-windows-cpu-autoscaling-group-i-0015a694724fa8361-1\\xgboost\\xgboost-ci-windows\\src\\learner.cc:740: \n",
      "Parameters: { \"use_label_encoder\" } are not used.\n",
      "\n",
      "  warnings.warn(smsg, UserWarning)\n",
      "C:\\Users\\kdeep\\anaconda3\\Lib\\site-packages\\xgboost\\core.py:158: UserWarning: [09:35:36] WARNING: C:\\buildkite-agent\\builds\\buildkite-windows-cpu-autoscaling-group-i-0015a694724fa8361-1\\xgboost\\xgboost-ci-windows\\src\\learner.cc:740: \n",
      "Parameters: { \"use_label_encoder\" } are not used.\n",
      "\n",
      "  warnings.warn(smsg, UserWarning)\n"
     ]
    },
    {
     "name": "stdout",
     "output_type": "stream",
     "text": [
      "Precision: 0.8, Recall: 0.8, Accuracy: 0.7777777777777778\n",
      "Precision: 0.5, Recall: 0.25, Accuracy: 0.5555555555555556\n"
     ]
    },
    {
     "name": "stderr",
     "output_type": "stream",
     "text": [
      "C:\\Users\\kdeep\\anaconda3\\Lib\\site-packages\\xgboost\\core.py:158: UserWarning: [09:35:36] WARNING: C:\\buildkite-agent\\builds\\buildkite-windows-cpu-autoscaling-group-i-0015a694724fa8361-1\\xgboost\\xgboost-ci-windows\\src\\learner.cc:740: \n",
      "Parameters: { \"use_label_encoder\" } are not used.\n",
      "\n",
      "  warnings.warn(smsg, UserWarning)\n",
      "C:\\Users\\kdeep\\anaconda3\\Lib\\site-packages\\xgboost\\core.py:158: UserWarning: [09:35:36] WARNING: C:\\buildkite-agent\\builds\\buildkite-windows-cpu-autoscaling-group-i-0015a694724fa8361-1\\xgboost\\xgboost-ci-windows\\src\\learner.cc:740: \n",
      "Parameters: { \"use_label_encoder\" } are not used.\n",
      "\n",
      "  warnings.warn(smsg, UserWarning)\n"
     ]
    },
    {
     "name": "stdout",
     "output_type": "stream",
     "text": [
      "Precision: 0.8, Recall: 1.0, Accuracy: 0.8888888888888888\n",
      "Precision: 0.375, Recall: 0.75, Accuracy: 0.3333333333333333\n",
      "Results to be written: eta=0.3, depth=3, dim=200, eps=0.3, (42.3, 42.3, 4.7, 4.7, 0.7503571428571428, 0.7, 0.6966666666666665, 151008, 0.8467672399361617, 0.0075419903610531355)\n",
      "eta=0.3, depth=3, dim=200, eps=0.5\n"
     ]
    },
    {
     "name": "stderr",
     "output_type": "stream",
     "text": [
      "C:\\Users\\kdeep\\anaconda3\\Lib\\site-packages\\xgboost\\core.py:158: UserWarning: [09:35:37] WARNING: C:\\buildkite-agent\\builds\\buildkite-windows-cpu-autoscaling-group-i-0015a694724fa8361-1\\xgboost\\xgboost-ci-windows\\src\\learner.cc:740: \n",
      "Parameters: { \"use_label_encoder\" } are not used.\n",
      "\n",
      "  warnings.warn(smsg, UserWarning)\n"
     ]
    },
    {
     "name": "stdout",
     "output_type": "stream",
     "text": [
      "Number of flaky documents: 47\n",
      "Number of non-flaky documents: 47\n",
      "Total number of documents: 94\n",
      "Sample document: # Copyright 2021 The NetKet Authors - All rights reserved.\n",
      "#\n",
      "# Licensed under the Apache License, Version 2.0 (the \"License\");\n",
      "# you may not use this file except in compliance with the License.\n",
      "# You may obtain a copy of the License at\n",
      "#\n",
      "#    http://www.apache.org/licenses/LICENSE-2.0\n",
      "#\n",
      "# Unless required by applicable law or agreed to in writing, software\n",
      "# distributed under the License is distributed on an \"AS IS\" BASIS,\n",
      "# WITHOUT WARRANTIES OR CONDITIONS OF ANY KIND, either express or implied.\n",
      "# See the License for the specific language governing permissions and\n",
      "# limitations under the License.\n",
      "\n",
      "import dataclasses\n",
      "import abc\n",
      "\n",
      "from flax.core import freeze\n",
      "\n",
      "\n",
      "@dataclasses.dataclass(frozen=True)\n",
      "class ModuleFramework(abc.ABC):\n",
      "    @staticmethod\n",
      "    @abc.abstractmethod\n",
      "    def is_loaded() -> bool:\n",
      "        pass\n",
      "\n",
      "    @staticmethod\n",
      "    @abc.abstractmethod\n",
      "    def is_my_module(module):\n",
      "        pass\n",
      "\n",
      "    @staticmethod\n",
      "    @abc.abstractmethod\n",
      "    def wrap(module):\n",
      "        return module\n",
      "\n",
      "    @staticmethod\n",
      "    def wrap_params(variables):\n",
      "        return freeze({\"params\": variables})\n",
      "\n",
      "    @staticmethod\n",
      "    @abc.abstractmethod\n",
      "    def unwrap_params(wrapped_variables):\n",
      "        return wrapped_variables\n",
      "\n",
      "\n",
      "registered_frameworks = []\n",
      "\n",
      "\n",
      "def framework(clz):\n",
      "    \"\"\"\n",
      "    Registers a framework and it's wrapper methods to make it\n",
      "    behave like a flax framework.\n",
      "    \"\"\"\n",
      "    clz = dataclasses.dataclass(frozen=True)(clz)\n",
      "    registered_frameworks.append(clz)\n",
      "    return clz\n",
      "\n",
      "\n",
      "@dataclasses.dataclass(frozen=True)\n",
      "class UnknownFramework(ModuleFramework):\n",
      "    name: str = \"Unknown\"\n",
      "\n",
      "    @staticmethod\n",
      "    def is_loaded() -> bool:\n",
      "        return True\n",
      "\n",
      "    @staticmethod\n",
      "    def is_my_module(module):\n",
      "        return False\n",
      "\n",
      "    @staticmethod\n",
      "    def wrap(module):\n",
      "        return module\n",
      "\n",
      "    @staticmethod\n",
      "    def unwrap_params(wrapped_variables):\n",
      "        return wrapped_variables\n",
      "\n",
      "\n",
      "def identify_framework(module):\n",
      "    for _framework in registered_frameworks:\n",
      "        if _framework.is_my_module(module):\n",
      "            return _framework\n",
      "\n",
      "    return UnknownFramework\n",
      "\n",
      "\n",
      "def maybe_wrap_module(module):\n",
      "    \"\"\"\n",
      "    Passing a module from an unknown framework (might be user defined module, a jax\n",
      "    module, flax or haiku or anything else really), attempt to identify what is the\n",
      "    package/framework it comes from, and if so it correctly wraps it in order to\n",
      "    make it behave like a flax module (our default).\n",
      "\n",
      "    Also returns a function used to unpack the parameters once we are done.\n",
      "    \"\"\"\n",
      "    framewrk = identify_framework(module)\n",
      "\n",
      "    return framewrk, framewrk.wrap(module)\n"
     ]
    },
    {
     "name": "stderr",
     "output_type": "stream",
     "text": [
      "C:\\Users\\kdeep\\anaconda3\\Lib\\site-packages\\xgboost\\core.py:158: UserWarning: [09:35:37] WARNING: C:\\buildkite-agent\\builds\\buildkite-windows-cpu-autoscaling-group-i-0015a694724fa8361-1\\xgboost\\xgboost-ci-windows\\src\\learner.cc:740: \n",
      "Parameters: { \"use_label_encoder\" } are not used.\n",
      "\n",
      "  warnings.warn(smsg, UserWarning)\n",
      "C:\\Users\\kdeep\\anaconda3\\Lib\\site-packages\\xgboost\\core.py:158: UserWarning: [09:35:37] WARNING: C:\\buildkite-agent\\builds\\buildkite-windows-cpu-autoscaling-group-i-0015a694724fa8361-1\\xgboost\\xgboost-ci-windows\\src\\learner.cc:740: \n",
      "Parameters: { \"use_label_encoder\" } are not used.\n",
      "\n",
      "  warnings.warn(smsg, UserWarning)\n"
     ]
    },
    {
     "name": "stdout",
     "output_type": "stream",
     "text": [
      "Precision: 0.6666666666666666, Recall: 0.4, Accuracy: 0.6\n",
      "Precision: 1.0, Recall: 0.8, Accuracy: 0.9\n"
     ]
    },
    {
     "name": "stderr",
     "output_type": "stream",
     "text": [
      "C:\\Users\\kdeep\\anaconda3\\Lib\\site-packages\\xgboost\\core.py:158: UserWarning: [09:35:38] WARNING: C:\\buildkite-agent\\builds\\buildkite-windows-cpu-autoscaling-group-i-0015a694724fa8361-1\\xgboost\\xgboost-ci-windows\\src\\learner.cc:740: \n",
      "Parameters: { \"use_label_encoder\" } are not used.\n",
      "\n",
      "  warnings.warn(smsg, UserWarning)\n"
     ]
    },
    {
     "name": "stdout",
     "output_type": "stream",
     "text": [
      "Precision: 1.0, Recall: 1.0, Accuracy: 1.0\n"
     ]
    },
    {
     "name": "stderr",
     "output_type": "stream",
     "text": [
      "C:\\Users\\kdeep\\anaconda3\\Lib\\site-packages\\xgboost\\core.py:158: UserWarning: [09:35:38] WARNING: C:\\buildkite-agent\\builds\\buildkite-windows-cpu-autoscaling-group-i-0015a694724fa8361-1\\xgboost\\xgboost-ci-windows\\src\\learner.cc:740: \n",
      "Parameters: { \"use_label_encoder\" } are not used.\n",
      "\n",
      "  warnings.warn(smsg, UserWarning)\n"
     ]
    },
    {
     "name": "stdout",
     "output_type": "stream",
     "text": [
      "Precision: 0.8, Recall: 0.8, Accuracy: 0.8\n"
     ]
    },
    {
     "name": "stderr",
     "output_type": "stream",
     "text": [
      "C:\\Users\\kdeep\\anaconda3\\Lib\\site-packages\\xgboost\\core.py:158: UserWarning: [09:35:38] WARNING: C:\\buildkite-agent\\builds\\buildkite-windows-cpu-autoscaling-group-i-0015a694724fa8361-1\\xgboost\\xgboost-ci-windows\\src\\learner.cc:740: \n",
      "Parameters: { \"use_label_encoder\" } are not used.\n",
      "\n",
      "  warnings.warn(smsg, UserWarning)\n"
     ]
    },
    {
     "name": "stdout",
     "output_type": "stream",
     "text": [
      "Precision: 1.0, Recall: 0.6, Accuracy: 0.7777777777777778\n"
     ]
    },
    {
     "name": "stderr",
     "output_type": "stream",
     "text": [
      "C:\\Users\\kdeep\\anaconda3\\Lib\\site-packages\\xgboost\\core.py:158: UserWarning: [09:35:38] WARNING: C:\\buildkite-agent\\builds\\buildkite-windows-cpu-autoscaling-group-i-0015a694724fa8361-1\\xgboost\\xgboost-ci-windows\\src\\learner.cc:740: \n",
      "Parameters: { \"use_label_encoder\" } are not used.\n",
      "\n",
      "  warnings.warn(smsg, UserWarning)\n"
     ]
    },
    {
     "name": "stdout",
     "output_type": "stream",
     "text": [
      "Precision: 0.5, Recall: 0.8, Accuracy: 0.4444444444444444\n",
      "Precision: 0.7142857142857143, Recall: 1.0, Accuracy: 0.7777777777777778\n"
     ]
    },
    {
     "name": "stderr",
     "output_type": "stream",
     "text": [
      "C:\\Users\\kdeep\\anaconda3\\Lib\\site-packages\\xgboost\\core.py:158: UserWarning: [09:35:39] WARNING: C:\\buildkite-agent\\builds\\buildkite-windows-cpu-autoscaling-group-i-0015a694724fa8361-1\\xgboost\\xgboost-ci-windows\\src\\learner.cc:740: \n",
      "Parameters: { \"use_label_encoder\" } are not used.\n",
      "\n",
      "  warnings.warn(smsg, UserWarning)\n",
      "C:\\Users\\kdeep\\anaconda3\\Lib\\site-packages\\xgboost\\core.py:158: UserWarning: [09:35:39] WARNING: C:\\buildkite-agent\\builds\\buildkite-windows-cpu-autoscaling-group-i-0015a694724fa8361-1\\xgboost\\xgboost-ci-windows\\src\\learner.cc:740: \n",
      "Parameters: { \"use_label_encoder\" } are not used.\n",
      "\n",
      "  warnings.warn(smsg, UserWarning)\n"
     ]
    },
    {
     "name": "stdout",
     "output_type": "stream",
     "text": [
      "Precision: 1.0, Recall: 0.75, Accuracy: 0.8888888888888888\n",
      "Precision: 0.8, Recall: 1.0, Accuracy: 0.8888888888888888\n"
     ]
    },
    {
     "name": "stderr",
     "output_type": "stream",
     "text": [
      "C:\\Users\\kdeep\\anaconda3\\Lib\\site-packages\\xgboost\\core.py:158: UserWarning: [09:35:39] WARNING: C:\\buildkite-agent\\builds\\buildkite-windows-cpu-autoscaling-group-i-0015a694724fa8361-1\\xgboost\\xgboost-ci-windows\\src\\learner.cc:740: \n",
      "Parameters: { \"use_label_encoder\" } are not used.\n",
      "\n",
      "  warnings.warn(smsg, UserWarning)\n",
      "C:\\Users\\kdeep\\anaconda3\\Lib\\site-packages\\xgboost\\core.py:158: UserWarning: [09:35:39] WARNING: C:\\buildkite-agent\\builds\\buildkite-windows-cpu-autoscaling-group-i-0015a694724fa8361-1\\xgboost\\xgboost-ci-windows\\src\\learner.cc:740: \n",
      "Parameters: { \"use_label_encoder\" } are not used.\n",
      "\n",
      "  warnings.warn(smsg, UserWarning)\n"
     ]
    },
    {
     "name": "stdout",
     "output_type": "stream",
     "text": [
      "Precision: 0.5, Recall: 0.75, Accuracy: 0.5555555555555556\n",
      "Results to be written: eta=0.3, depth=3, dim=200, eps=0.5, (42.3, 42.3, 4.7, 4.7, 0.7980952380952381, 0.79, 0.7633333333333333, 151008, 0.6241488199913873, 0.005250100479670415)\n",
      "eta=0.3, depth=5, dim=0, eps=0.1\n",
      "Number of flaky documents: 47\n",
      "Number of non-flaky documents: 47\n",
      "Total number of documents: 94\n",
      "Sample document: # Copyright 2021 The NetKet Authors - All rights reserved.\n",
      "#\n",
      "# Licensed under the Apache License, Version 2.0 (the \"License\");\n",
      "# you may not use this file except in compliance with the License.\n",
      "# You may obtain a copy of the License at\n",
      "#\n",
      "#    http://www.apache.org/licenses/LICENSE-2.0\n",
      "#\n",
      "# Unless required by applicable law or agreed to in writing, software\n",
      "# distributed under the License is distributed on an \"AS IS\" BASIS,\n",
      "# WITHOUT WARRANTIES OR CONDITIONS OF ANY KIND, either express or implied.\n",
      "# See the License for the specific language governing permissions and\n",
      "# limitations under the License.\n",
      "\n",
      "import dataclasses\n",
      "import abc\n",
      "\n",
      "from flax.core import freeze\n",
      "\n",
      "\n",
      "@dataclasses.dataclass(frozen=True)\n",
      "class ModuleFramework(abc.ABC):\n",
      "    @staticmethod\n",
      "    @abc.abstractmethod\n",
      "    def is_loaded() -> bool:\n",
      "        pass\n",
      "\n",
      "    @staticmethod\n",
      "    @abc.abstractmethod\n",
      "    def is_my_module(module):\n",
      "        pass\n",
      "\n",
      "    @staticmethod\n",
      "    @abc.abstractmethod\n",
      "    def wrap(module):\n",
      "        return module\n",
      "\n",
      "    @staticmethod\n",
      "    def wrap_params(variables):\n",
      "        return freeze({\"params\": variables})\n",
      "\n",
      "    @staticmethod\n",
      "    @abc.abstractmethod\n",
      "    def unwrap_params(wrapped_variables):\n",
      "        return wrapped_variables\n",
      "\n",
      "\n",
      "registered_frameworks = []\n",
      "\n",
      "\n",
      "def framework(clz):\n",
      "    \"\"\"\n",
      "    Registers a framework and it's wrapper methods to make it\n",
      "    behave like a flax framework.\n",
      "    \"\"\"\n",
      "    clz = dataclasses.dataclass(frozen=True)(clz)\n",
      "    registered_frameworks.append(clz)\n",
      "    return clz\n",
      "\n",
      "\n",
      "@dataclasses.dataclass(frozen=True)\n",
      "class UnknownFramework(ModuleFramework):\n",
      "    name: str = \"Unknown\"\n",
      "\n",
      "    @staticmethod\n",
      "    def is_loaded() -> bool:\n",
      "        return True\n",
      "\n",
      "    @staticmethod\n",
      "    def is_my_module(module):\n",
      "        return False\n",
      "\n",
      "    @staticmethod\n",
      "    def wrap(module):\n",
      "        return module\n",
      "\n",
      "    @staticmethod\n",
      "    def unwrap_params(wrapped_variables):\n",
      "        return wrapped_variables\n",
      "\n",
      "\n",
      "def identify_framework(module):\n",
      "    for _framework in registered_frameworks:\n",
      "        if _framework.is_my_module(module):\n",
      "            return _framework\n",
      "\n",
      "    return UnknownFramework\n",
      "\n",
      "\n",
      "def maybe_wrap_module(module):\n",
      "    \"\"\"\n",
      "    Passing a module from an unknown framework (might be user defined module, a jax\n",
      "    module, flax or haiku or anything else really), attempt to identify what is the\n",
      "    package/framework it comes from, and if so it correctly wraps it in order to\n",
      "    make it behave like a flax module (our default).\n",
      "\n",
      "    Also returns a function used to unpack the parameters once we are done.\n",
      "    \"\"\"\n",
      "    framewrk = identify_framework(module)\n",
      "\n",
      "    return framewrk, framewrk.wrap(module)\n"
     ]
    },
    {
     "name": "stderr",
     "output_type": "stream",
     "text": [
      "C:\\Users\\kdeep\\anaconda3\\Lib\\site-packages\\xgboost\\core.py:158: UserWarning: [09:35:43] WARNING: C:\\buildkite-agent\\builds\\buildkite-windows-cpu-autoscaling-group-i-0015a694724fa8361-1\\xgboost\\xgboost-ci-windows\\src\\learner.cc:740: \n",
      "Parameters: { \"use_label_encoder\" } are not used.\n",
      "\n",
      "  warnings.warn(smsg, UserWarning)\n"
     ]
    },
    {
     "name": "stdout",
     "output_type": "stream",
     "text": [
      "Precision: 1.0, Recall: 0.4, Accuracy: 0.7\n"
     ]
    },
    {
     "name": "stderr",
     "output_type": "stream",
     "text": [
      "C:\\Users\\kdeep\\anaconda3\\Lib\\site-packages\\xgboost\\core.py:158: UserWarning: [09:35:44] WARNING: C:\\buildkite-agent\\builds\\buildkite-windows-cpu-autoscaling-group-i-0015a694724fa8361-1\\xgboost\\xgboost-ci-windows\\src\\learner.cc:740: \n",
      "Parameters: { \"use_label_encoder\" } are not used.\n",
      "\n",
      "  warnings.warn(smsg, UserWarning)\n"
     ]
    },
    {
     "name": "stdout",
     "output_type": "stream",
     "text": [
      "Precision: 1.0, Recall: 0.6, Accuracy: 0.8\n"
     ]
    },
    {
     "name": "stderr",
     "output_type": "stream",
     "text": [
      "C:\\Users\\kdeep\\anaconda3\\Lib\\site-packages\\xgboost\\core.py:158: UserWarning: [09:35:45] WARNING: C:\\buildkite-agent\\builds\\buildkite-windows-cpu-autoscaling-group-i-0015a694724fa8361-1\\xgboost\\xgboost-ci-windows\\src\\learner.cc:740: \n",
      "Parameters: { \"use_label_encoder\" } are not used.\n",
      "\n",
      "  warnings.warn(smsg, UserWarning)\n"
     ]
    },
    {
     "name": "stdout",
     "output_type": "stream",
     "text": [
      "Precision: 1.0, Recall: 1.0, Accuracy: 1.0\n"
     ]
    },
    {
     "name": "stderr",
     "output_type": "stream",
     "text": [
      "C:\\Users\\kdeep\\anaconda3\\Lib\\site-packages\\xgboost\\core.py:158: UserWarning: [09:35:46] WARNING: C:\\buildkite-agent\\builds\\buildkite-windows-cpu-autoscaling-group-i-0015a694724fa8361-1\\xgboost\\xgboost-ci-windows\\src\\learner.cc:740: \n",
      "Parameters: { \"use_label_encoder\" } are not used.\n",
      "\n",
      "  warnings.warn(smsg, UserWarning)\n"
     ]
    },
    {
     "name": "stdout",
     "output_type": "stream",
     "text": [
      "Precision: 1.0, Recall: 0.8, Accuracy: 0.9\n"
     ]
    },
    {
     "name": "stderr",
     "output_type": "stream",
     "text": [
      "C:\\Users\\kdeep\\anaconda3\\Lib\\site-packages\\xgboost\\core.py:158: UserWarning: [09:35:48] WARNING: C:\\buildkite-agent\\builds\\buildkite-windows-cpu-autoscaling-group-i-0015a694724fa8361-1\\xgboost\\xgboost-ci-windows\\src\\learner.cc:740: \n",
      "Parameters: { \"use_label_encoder\" } are not used.\n",
      "\n",
      "  warnings.warn(smsg, UserWarning)\n"
     ]
    },
    {
     "name": "stdout",
     "output_type": "stream",
     "text": [
      "Precision: 1.0, Recall: 0.6, Accuracy: 0.7777777777777778\n"
     ]
    },
    {
     "name": "stderr",
     "output_type": "stream",
     "text": [
      "C:\\Users\\kdeep\\anaconda3\\Lib\\site-packages\\xgboost\\core.py:158: UserWarning: [09:35:49] WARNING: C:\\buildkite-agent\\builds\\buildkite-windows-cpu-autoscaling-group-i-0015a694724fa8361-1\\xgboost\\xgboost-ci-windows\\src\\learner.cc:740: \n",
      "Parameters: { \"use_label_encoder\" } are not used.\n",
      "\n",
      "  warnings.warn(smsg, UserWarning)\n"
     ]
    },
    {
     "name": "stdout",
     "output_type": "stream",
     "text": [
      "Precision: 0.625, Recall: 1.0, Accuracy: 0.6666666666666666\n"
     ]
    },
    {
     "name": "stderr",
     "output_type": "stream",
     "text": [
      "C:\\Users\\kdeep\\anaconda3\\Lib\\site-packages\\xgboost\\core.py:158: UserWarning: [09:35:50] WARNING: C:\\buildkite-agent\\builds\\buildkite-windows-cpu-autoscaling-group-i-0015a694724fa8361-1\\xgboost\\xgboost-ci-windows\\src\\learner.cc:740: \n",
      "Parameters: { \"use_label_encoder\" } are not used.\n",
      "\n",
      "  warnings.warn(smsg, UserWarning)\n"
     ]
    },
    {
     "name": "stdout",
     "output_type": "stream",
     "text": [
      "Precision: 1.0, Recall: 0.8, Accuracy: 0.8888888888888888\n"
     ]
    },
    {
     "name": "stderr",
     "output_type": "stream",
     "text": [
      "C:\\Users\\kdeep\\anaconda3\\Lib\\site-packages\\xgboost\\core.py:158: UserWarning: [09:35:51] WARNING: C:\\buildkite-agent\\builds\\buildkite-windows-cpu-autoscaling-group-i-0015a694724fa8361-1\\xgboost\\xgboost-ci-windows\\src\\learner.cc:740: \n",
      "Parameters: { \"use_label_encoder\" } are not used.\n",
      "\n",
      "  warnings.warn(smsg, UserWarning)\n"
     ]
    },
    {
     "name": "stdout",
     "output_type": "stream",
     "text": [
      "Precision: 0.8, Recall: 1.0, Accuracy: 0.8888888888888888\n"
     ]
    },
    {
     "name": "stderr",
     "output_type": "stream",
     "text": [
      "C:\\Users\\kdeep\\anaconda3\\Lib\\site-packages\\xgboost\\core.py:158: UserWarning: [09:35:52] WARNING: C:\\buildkite-agent\\builds\\buildkite-windows-cpu-autoscaling-group-i-0015a694724fa8361-1\\xgboost\\xgboost-ci-windows\\src\\learner.cc:740: \n",
      "Parameters: { \"use_label_encoder\" } are not used.\n",
      "\n",
      "  warnings.warn(smsg, UserWarning)\n"
     ]
    },
    {
     "name": "stdout",
     "output_type": "stream",
     "text": [
      "Precision: 1.0, Recall: 1.0, Accuracy: 1.0\n"
     ]
    },
    {
     "name": "stderr",
     "output_type": "stream",
     "text": [
      "C:\\Users\\kdeep\\anaconda3\\Lib\\site-packages\\xgboost\\core.py:158: UserWarning: [09:35:53] WARNING: C:\\buildkite-agent\\builds\\buildkite-windows-cpu-autoscaling-group-i-0015a694724fa8361-1\\xgboost\\xgboost-ci-windows\\src\\learner.cc:740: \n",
      "Parameters: { \"use_label_encoder\" } are not used.\n",
      "\n",
      "  warnings.warn(smsg, UserWarning)\n"
     ]
    },
    {
     "name": "stdout",
     "output_type": "stream",
     "text": [
      "Precision: 0.5, Recall: 0.75, Accuracy: 0.5555555555555556\n",
      "Results to be written: eta=0.3, depth=5, dim=0, eps=0.1, (42.3, 42.3, 4.7, 4.7, 0.8925000000000001, 0.795, 0.8177777777777779, 2928897, 3.9787273099762395, 0.03424541161677428)\n",
      "eta=0.3, depth=5, dim=0, eps=0.3\n",
      "Number of flaky documents: 47\n",
      "Number of non-flaky documents: 47\n",
      "Total number of documents: 94\n",
      "Sample document: # Copyright 2021 The NetKet Authors - All rights reserved.\n",
      "#\n",
      "# Licensed under the Apache License, Version 2.0 (the \"License\");\n",
      "# you may not use this file except in compliance with the License.\n",
      "# You may obtain a copy of the License at\n",
      "#\n",
      "#    http://www.apache.org/licenses/LICENSE-2.0\n",
      "#\n",
      "# Unless required by applicable law or agreed to in writing, software\n",
      "# distributed under the License is distributed on an \"AS IS\" BASIS,\n",
      "# WITHOUT WARRANTIES OR CONDITIONS OF ANY KIND, either express or implied.\n",
      "# See the License for the specific language governing permissions and\n",
      "# limitations under the License.\n",
      "\n",
      "import dataclasses\n",
      "import abc\n",
      "\n",
      "from flax.core import freeze\n",
      "\n",
      "\n",
      "@dataclasses.dataclass(frozen=True)\n",
      "class ModuleFramework(abc.ABC):\n",
      "    @staticmethod\n",
      "    @abc.abstractmethod\n",
      "    def is_loaded() -> bool:\n",
      "        pass\n",
      "\n",
      "    @staticmethod\n",
      "    @abc.abstractmethod\n",
      "    def is_my_module(module):\n",
      "        pass\n",
      "\n",
      "    @staticmethod\n",
      "    @abc.abstractmethod\n",
      "    def wrap(module):\n",
      "        return module\n",
      "\n",
      "    @staticmethod\n",
      "    def wrap_params(variables):\n",
      "        return freeze({\"params\": variables})\n",
      "\n",
      "    @staticmethod\n",
      "    @abc.abstractmethod\n",
      "    def unwrap_params(wrapped_variables):\n",
      "        return wrapped_variables\n",
      "\n",
      "\n",
      "registered_frameworks = []\n",
      "\n",
      "\n",
      "def framework(clz):\n",
      "    \"\"\"\n",
      "    Registers a framework and it's wrapper methods to make it\n",
      "    behave like a flax framework.\n",
      "    \"\"\"\n",
      "    clz = dataclasses.dataclass(frozen=True)(clz)\n",
      "    registered_frameworks.append(clz)\n",
      "    return clz\n",
      "\n",
      "\n",
      "@dataclasses.dataclass(frozen=True)\n",
      "class UnknownFramework(ModuleFramework):\n",
      "    name: str = \"Unknown\"\n",
      "\n",
      "    @staticmethod\n",
      "    def is_loaded() -> bool:\n",
      "        return True\n",
      "\n",
      "    @staticmethod\n",
      "    def is_my_module(module):\n",
      "        return False\n",
      "\n",
      "    @staticmethod\n",
      "    def wrap(module):\n",
      "        return module\n",
      "\n",
      "    @staticmethod\n",
      "    def unwrap_params(wrapped_variables):\n",
      "        return wrapped_variables\n",
      "\n",
      "\n",
      "def identify_framework(module):\n",
      "    for _framework in registered_frameworks:\n",
      "        if _framework.is_my_module(module):\n",
      "            return _framework\n",
      "\n",
      "    return UnknownFramework\n",
      "\n",
      "\n",
      "def maybe_wrap_module(module):\n",
      "    \"\"\"\n",
      "    Passing a module from an unknown framework (might be user defined module, a jax\n",
      "    module, flax or haiku or anything else really), attempt to identify what is the\n",
      "    package/framework it comes from, and if so it correctly wraps it in order to\n",
      "    make it behave like a flax module (our default).\n",
      "\n",
      "    Also returns a function used to unpack the parameters once we are done.\n",
      "    \"\"\"\n",
      "    framewrk = identify_framework(module)\n",
      "\n",
      "    return framewrk, framewrk.wrap(module)\n"
     ]
    },
    {
     "name": "stderr",
     "output_type": "stream",
     "text": [
      "C:\\Users\\kdeep\\anaconda3\\Lib\\site-packages\\xgboost\\core.py:158: UserWarning: [09:35:55] WARNING: C:\\buildkite-agent\\builds\\buildkite-windows-cpu-autoscaling-group-i-0015a694724fa8361-1\\xgboost\\xgboost-ci-windows\\src\\learner.cc:740: \n",
      "Parameters: { \"use_label_encoder\" } are not used.\n",
      "\n",
      "  warnings.warn(smsg, UserWarning)\n"
     ]
    },
    {
     "name": "stdout",
     "output_type": "stream",
     "text": [
      "Precision: 0.5, Recall: 0.2, Accuracy: 0.5\n"
     ]
    },
    {
     "name": "stderr",
     "output_type": "stream",
     "text": [
      "C:\\Users\\kdeep\\anaconda3\\Lib\\site-packages\\xgboost\\core.py:158: UserWarning: [09:35:55] WARNING: C:\\buildkite-agent\\builds\\buildkite-windows-cpu-autoscaling-group-i-0015a694724fa8361-1\\xgboost\\xgboost-ci-windows\\src\\learner.cc:740: \n",
      "Parameters: { \"use_label_encoder\" } are not used.\n",
      "\n",
      "  warnings.warn(smsg, UserWarning)\n"
     ]
    },
    {
     "name": "stdout",
     "output_type": "stream",
     "text": [
      "Precision: 0.6666666666666666, Recall: 0.8, Accuracy: 0.7\n"
     ]
    },
    {
     "name": "stderr",
     "output_type": "stream",
     "text": [
      "C:\\Users\\kdeep\\anaconda3\\Lib\\site-packages\\xgboost\\core.py:158: UserWarning: [09:35:56] WARNING: C:\\buildkite-agent\\builds\\buildkite-windows-cpu-autoscaling-group-i-0015a694724fa8361-1\\xgboost\\xgboost-ci-windows\\src\\learner.cc:740: \n",
      "Parameters: { \"use_label_encoder\" } are not used.\n",
      "\n",
      "  warnings.warn(smsg, UserWarning)\n"
     ]
    },
    {
     "name": "stdout",
     "output_type": "stream",
     "text": [
      "Precision: 1.0, Recall: 0.8, Accuracy: 0.9\n"
     ]
    },
    {
     "name": "stderr",
     "output_type": "stream",
     "text": [
      "C:\\Users\\kdeep\\anaconda3\\Lib\\site-packages\\xgboost\\core.py:158: UserWarning: [09:35:56] WARNING: C:\\buildkite-agent\\builds\\buildkite-windows-cpu-autoscaling-group-i-0015a694724fa8361-1\\xgboost\\xgboost-ci-windows\\src\\learner.cc:740: \n",
      "Parameters: { \"use_label_encoder\" } are not used.\n",
      "\n",
      "  warnings.warn(smsg, UserWarning)\n"
     ]
    },
    {
     "name": "stdout",
     "output_type": "stream",
     "text": [
      "Precision: 1.0, Recall: 0.8, Accuracy: 0.9\n"
     ]
    },
    {
     "name": "stderr",
     "output_type": "stream",
     "text": [
      "C:\\Users\\kdeep\\anaconda3\\Lib\\site-packages\\xgboost\\core.py:158: UserWarning: [09:35:56] WARNING: C:\\buildkite-agent\\builds\\buildkite-windows-cpu-autoscaling-group-i-0015a694724fa8361-1\\xgboost\\xgboost-ci-windows\\src\\learner.cc:740: \n",
      "Parameters: { \"use_label_encoder\" } are not used.\n",
      "\n",
      "  warnings.warn(smsg, UserWarning)\n"
     ]
    },
    {
     "name": "stdout",
     "output_type": "stream",
     "text": [
      "Precision: 1.0, Recall: 0.6, Accuracy: 0.7777777777777778\n",
      "Precision: 0.5714285714285714, Recall: 0.8, Accuracy: 0.5555555555555556\n"
     ]
    },
    {
     "name": "stderr",
     "output_type": "stream",
     "text": [
      "C:\\Users\\kdeep\\anaconda3\\Lib\\site-packages\\xgboost\\core.py:158: UserWarning: [09:35:56] WARNING: C:\\buildkite-agent\\builds\\buildkite-windows-cpu-autoscaling-group-i-0015a694724fa8361-1\\xgboost\\xgboost-ci-windows\\src\\learner.cc:740: \n",
      "Parameters: { \"use_label_encoder\" } are not used.\n",
      "\n",
      "  warnings.warn(smsg, UserWarning)\n",
      "C:\\Users\\kdeep\\anaconda3\\Lib\\site-packages\\xgboost\\core.py:158: UserWarning: [09:35:57] WARNING: C:\\buildkite-agent\\builds\\buildkite-windows-cpu-autoscaling-group-i-0015a694724fa8361-1\\xgboost\\xgboost-ci-windows\\src\\learner.cc:740: \n",
      "Parameters: { \"use_label_encoder\" } are not used.\n",
      "\n",
      "  warnings.warn(smsg, UserWarning)\n"
     ]
    },
    {
     "name": "stdout",
     "output_type": "stream",
     "text": [
      "Precision: 0.6666666666666666, Recall: 0.8, Accuracy: 0.6666666666666666\n",
      "Precision: 0.8, Recall: 1.0, Accuracy: 0.8888888888888888\n"
     ]
    },
    {
     "name": "stderr",
     "output_type": "stream",
     "text": [
      "C:\\Users\\kdeep\\anaconda3\\Lib\\site-packages\\xgboost\\core.py:158: UserWarning: [09:35:57] WARNING: C:\\buildkite-agent\\builds\\buildkite-windows-cpu-autoscaling-group-i-0015a694724fa8361-1\\xgboost\\xgboost-ci-windows\\src\\learner.cc:740: \n",
      "Parameters: { \"use_label_encoder\" } are not used.\n",
      "\n",
      "  warnings.warn(smsg, UserWarning)\n",
      "C:\\Users\\kdeep\\anaconda3\\Lib\\site-packages\\xgboost\\core.py:158: UserWarning: [09:35:57] WARNING: C:\\buildkite-agent\\builds\\buildkite-windows-cpu-autoscaling-group-i-0015a694724fa8361-1\\xgboost\\xgboost-ci-windows\\src\\learner.cc:740: \n",
      "Parameters: { \"use_label_encoder\" } are not used.\n",
      "\n",
      "  warnings.warn(smsg, UserWarning)\n"
     ]
    },
    {
     "name": "stdout",
     "output_type": "stream",
     "text": [
      "Precision: 0.8, Recall: 1.0, Accuracy: 0.8888888888888888\n",
      "Precision: 0.42857142857142855, Recall: 0.75, Accuracy: 0.4444444444444444\n",
      "Results to be written: eta=0.3, depth=5, dim=0, eps=0.3, (42.3, 42.3, 4.7, 4.7, 0.7433333333333333, 0.755, 0.7222222222222223, 379617, 0.8745308699435552, 0.00793493467054757)\n",
      "eta=0.3, depth=5, dim=0, eps=0.5\n"
     ]
    },
    {
     "name": "stderr",
     "output_type": "stream",
     "text": [
      "C:\\Users\\kdeep\\anaconda3\\Lib\\site-packages\\xgboost\\core.py:158: UserWarning: [09:35:57] WARNING: C:\\buildkite-agent\\builds\\buildkite-windows-cpu-autoscaling-group-i-0015a694724fa8361-1\\xgboost\\xgboost-ci-windows\\src\\learner.cc:740: \n",
      "Parameters: { \"use_label_encoder\" } are not used.\n",
      "\n",
      "  warnings.warn(smsg, UserWarning)\n"
     ]
    },
    {
     "name": "stdout",
     "output_type": "stream",
     "text": [
      "Number of flaky documents: 47\n",
      "Number of non-flaky documents: 47\n",
      "Total number of documents: 94\n",
      "Sample document: # Copyright 2021 The NetKet Authors - All rights reserved.\n",
      "#\n",
      "# Licensed under the Apache License, Version 2.0 (the \"License\");\n",
      "# you may not use this file except in compliance with the License.\n",
      "# You may obtain a copy of the License at\n",
      "#\n",
      "#    http://www.apache.org/licenses/LICENSE-2.0\n",
      "#\n",
      "# Unless required by applicable law or agreed to in writing, software\n",
      "# distributed under the License is distributed on an \"AS IS\" BASIS,\n",
      "# WITHOUT WARRANTIES OR CONDITIONS OF ANY KIND, either express or implied.\n",
      "# See the License for the specific language governing permissions and\n",
      "# limitations under the License.\n",
      "\n",
      "import dataclasses\n",
      "import abc\n",
      "\n",
      "from flax.core import freeze\n",
      "\n",
      "\n",
      "@dataclasses.dataclass(frozen=True)\n",
      "class ModuleFramework(abc.ABC):\n",
      "    @staticmethod\n",
      "    @abc.abstractmethod\n",
      "    def is_loaded() -> bool:\n",
      "        pass\n",
      "\n",
      "    @staticmethod\n",
      "    @abc.abstractmethod\n",
      "    def is_my_module(module):\n",
      "        pass\n",
      "\n",
      "    @staticmethod\n",
      "    @abc.abstractmethod\n",
      "    def wrap(module):\n",
      "        return module\n",
      "\n",
      "    @staticmethod\n",
      "    def wrap_params(variables):\n",
      "        return freeze({\"params\": variables})\n",
      "\n",
      "    @staticmethod\n",
      "    @abc.abstractmethod\n",
      "    def unwrap_params(wrapped_variables):\n",
      "        return wrapped_variables\n",
      "\n",
      "\n",
      "registered_frameworks = []\n",
      "\n",
      "\n",
      "def framework(clz):\n",
      "    \"\"\"\n",
      "    Registers a framework and it's wrapper methods to make it\n",
      "    behave like a flax framework.\n",
      "    \"\"\"\n",
      "    clz = dataclasses.dataclass(frozen=True)(clz)\n",
      "    registered_frameworks.append(clz)\n",
      "    return clz\n",
      "\n",
      "\n",
      "@dataclasses.dataclass(frozen=True)\n",
      "class UnknownFramework(ModuleFramework):\n",
      "    name: str = \"Unknown\"\n",
      "\n",
      "    @staticmethod\n",
      "    def is_loaded() -> bool:\n",
      "        return True\n",
      "\n",
      "    @staticmethod\n",
      "    def is_my_module(module):\n",
      "        return False\n",
      "\n",
      "    @staticmethod\n",
      "    def wrap(module):\n",
      "        return module\n",
      "\n",
      "    @staticmethod\n",
      "    def unwrap_params(wrapped_variables):\n",
      "        return wrapped_variables\n",
      "\n",
      "\n",
      "def identify_framework(module):\n",
      "    for _framework in registered_frameworks:\n",
      "        if _framework.is_my_module(module):\n",
      "            return _framework\n",
      "\n",
      "    return UnknownFramework\n",
      "\n",
      "\n",
      "def maybe_wrap_module(module):\n",
      "    \"\"\"\n",
      "    Passing a module from an unknown framework (might be user defined module, a jax\n",
      "    module, flax or haiku or anything else really), attempt to identify what is the\n",
      "    package/framework it comes from, and if so it correctly wraps it in order to\n",
      "    make it behave like a flax module (our default).\n",
      "\n",
      "    Also returns a function used to unpack the parameters once we are done.\n",
      "    \"\"\"\n",
      "    framewrk = identify_framework(module)\n",
      "\n",
      "    return framewrk, framewrk.wrap(module)\n"
     ]
    },
    {
     "name": "stderr",
     "output_type": "stream",
     "text": [
      "C:\\Users\\kdeep\\anaconda3\\Lib\\site-packages\\xgboost\\core.py:158: UserWarning: [09:35:58] WARNING: C:\\buildkite-agent\\builds\\buildkite-windows-cpu-autoscaling-group-i-0015a694724fa8361-1\\xgboost\\xgboost-ci-windows\\src\\learner.cc:740: \n",
      "Parameters: { \"use_label_encoder\" } are not used.\n",
      "\n",
      "  warnings.warn(smsg, UserWarning)\n"
     ]
    },
    {
     "name": "stdout",
     "output_type": "stream",
     "text": [
      "Precision: 1.0, Recall: 0.4, Accuracy: 0.7\n"
     ]
    },
    {
     "name": "stderr",
     "output_type": "stream",
     "text": [
      "C:\\Users\\kdeep\\anaconda3\\Lib\\site-packages\\xgboost\\core.py:158: UserWarning: [09:35:58] WARNING: C:\\buildkite-agent\\builds\\buildkite-windows-cpu-autoscaling-group-i-0015a694724fa8361-1\\xgboost\\xgboost-ci-windows\\src\\learner.cc:740: \n",
      "Parameters: { \"use_label_encoder\" } are not used.\n",
      "\n",
      "  warnings.warn(smsg, UserWarning)\n"
     ]
    },
    {
     "name": "stdout",
     "output_type": "stream",
     "text": [
      "Precision: 0.8, Recall: 0.8, Accuracy: 0.8\n"
     ]
    },
    {
     "name": "stderr",
     "output_type": "stream",
     "text": [
      "C:\\Users\\kdeep\\anaconda3\\Lib\\site-packages\\xgboost\\core.py:158: UserWarning: [09:35:58] WARNING: C:\\buildkite-agent\\builds\\buildkite-windows-cpu-autoscaling-group-i-0015a694724fa8361-1\\xgboost\\xgboost-ci-windows\\src\\learner.cc:740: \n",
      "Parameters: { \"use_label_encoder\" } are not used.\n",
      "\n",
      "  warnings.warn(smsg, UserWarning)\n"
     ]
    },
    {
     "name": "stdout",
     "output_type": "stream",
     "text": [
      "Precision: 1.0, Recall: 0.6, Accuracy: 0.8\n"
     ]
    },
    {
     "name": "stderr",
     "output_type": "stream",
     "text": [
      "C:\\Users\\kdeep\\anaconda3\\Lib\\site-packages\\xgboost\\core.py:158: UserWarning: [09:35:58] WARNING: C:\\buildkite-agent\\builds\\buildkite-windows-cpu-autoscaling-group-i-0015a694724fa8361-1\\xgboost\\xgboost-ci-windows\\src\\learner.cc:740: \n",
      "Parameters: { \"use_label_encoder\" } are not used.\n",
      "\n",
      "  warnings.warn(smsg, UserWarning)\n"
     ]
    },
    {
     "name": "stdout",
     "output_type": "stream",
     "text": [
      "Precision: 1.0, Recall: 0.6, Accuracy: 0.8\n",
      "Precision: 1.0, Recall: 0.2, Accuracy: 0.5555555555555556\n"
     ]
    },
    {
     "name": "stderr",
     "output_type": "stream",
     "text": [
      "C:\\Users\\kdeep\\anaconda3\\Lib\\site-packages\\xgboost\\core.py:158: UserWarning: [09:35:59] WARNING: C:\\buildkite-agent\\builds\\buildkite-windows-cpu-autoscaling-group-i-0015a694724fa8361-1\\xgboost\\xgboost-ci-windows\\src\\learner.cc:740: \n",
      "Parameters: { \"use_label_encoder\" } are not used.\n",
      "\n",
      "  warnings.warn(smsg, UserWarning)\n",
      "C:\\Users\\kdeep\\anaconda3\\Lib\\site-packages\\xgboost\\core.py:158: UserWarning: [09:35:59] WARNING: C:\\buildkite-agent\\builds\\buildkite-windows-cpu-autoscaling-group-i-0015a694724fa8361-1\\xgboost\\xgboost-ci-windows\\src\\learner.cc:740: \n",
      "Parameters: { \"use_label_encoder\" } are not used.\n",
      "\n",
      "  warnings.warn(smsg, UserWarning)\n"
     ]
    },
    {
     "name": "stdout",
     "output_type": "stream",
     "text": [
      "Precision: 0.625, Recall: 1.0, Accuracy: 0.6666666666666666\n",
      "Precision: 0.5, Recall: 0.4, Accuracy: 0.4444444444444444\n"
     ]
    },
    {
     "name": "stderr",
     "output_type": "stream",
     "text": [
      "C:\\Users\\kdeep\\anaconda3\\Lib\\site-packages\\xgboost\\core.py:158: UserWarning: [09:35:59] WARNING: C:\\buildkite-agent\\builds\\buildkite-windows-cpu-autoscaling-group-i-0015a694724fa8361-1\\xgboost\\xgboost-ci-windows\\src\\learner.cc:740: \n",
      "Parameters: { \"use_label_encoder\" } are not used.\n",
      "\n",
      "  warnings.warn(smsg, UserWarning)\n",
      "C:\\Users\\kdeep\\anaconda3\\Lib\\site-packages\\xgboost\\core.py:158: UserWarning: [09:35:59] WARNING: C:\\buildkite-agent\\builds\\buildkite-windows-cpu-autoscaling-group-i-0015a694724fa8361-1\\xgboost\\xgboost-ci-windows\\src\\learner.cc:740: \n",
      "Parameters: { \"use_label_encoder\" } are not used.\n",
      "\n",
      "  warnings.warn(smsg, UserWarning)\n"
     ]
    },
    {
     "name": "stdout",
     "output_type": "stream",
     "text": [
      "Precision: 0.6, Recall: 0.75, Accuracy: 0.6666666666666666\n",
      "Precision: 0.6666666666666666, Recall: 1.0, Accuracy: 0.7777777777777778\n"
     ]
    },
    {
     "name": "stderr",
     "output_type": "stream",
     "text": [
      "C:\\Users\\kdeep\\anaconda3\\Lib\\site-packages\\xgboost\\core.py:158: UserWarning: [09:36:00] WARNING: C:\\buildkite-agent\\builds\\buildkite-windows-cpu-autoscaling-group-i-0015a694724fa8361-1\\xgboost\\xgboost-ci-windows\\src\\learner.cc:740: \n",
      "Parameters: { \"use_label_encoder\" } are not used.\n",
      "\n",
      "  warnings.warn(smsg, UserWarning)\n",
      "C:\\Users\\kdeep\\anaconda3\\Lib\\site-packages\\xgboost\\core.py:158: UserWarning: [09:36:00] WARNING: C:\\buildkite-agent\\builds\\buildkite-windows-cpu-autoscaling-group-i-0015a694724fa8361-1\\xgboost\\xgboost-ci-windows\\src\\learner.cc:740: \n",
      "Parameters: { \"use_label_encoder\" } are not used.\n",
      "\n",
      "  warnings.warn(smsg, UserWarning)\n"
     ]
    },
    {
     "name": "stdout",
     "output_type": "stream",
     "text": [
      "Precision: 0.6, Recall: 0.75, Accuracy: 0.6666666666666666\n",
      "Results to be written: eta=0.3, depth=5, dim=0, eps=0.5, (42.3, 42.3, 4.7, 4.7, 0.7791666666666666, 0.6500000000000001, 0.6877777777777778, 164544, 0.6319286699639635, 0.005370880492267157)\n",
      "eta=0.3, depth=5, dim=100, eps=0.1\n",
      "Number of flaky documents: 47\n",
      "Number of non-flaky documents: 47\n",
      "Total number of documents: 94\n",
      "Sample document: # Copyright 2021 The NetKet Authors - All rights reserved.\n",
      "#\n",
      "# Licensed under the Apache License, Version 2.0 (the \"License\");\n",
      "# you may not use this file except in compliance with the License.\n",
      "# You may obtain a copy of the License at\n",
      "#\n",
      "#    http://www.apache.org/licenses/LICENSE-2.0\n",
      "#\n",
      "# Unless required by applicable law or agreed to in writing, software\n",
      "# distributed under the License is distributed on an \"AS IS\" BASIS,\n",
      "# WITHOUT WARRANTIES OR CONDITIONS OF ANY KIND, either express or implied.\n",
      "# See the License for the specific language governing permissions and\n",
      "# limitations under the License.\n",
      "\n",
      "import dataclasses\n",
      "import abc\n",
      "\n",
      "from flax.core import freeze\n",
      "\n",
      "\n",
      "@dataclasses.dataclass(frozen=True)\n",
      "class ModuleFramework(abc.ABC):\n",
      "    @staticmethod\n",
      "    @abc.abstractmethod\n",
      "    def is_loaded() -> bool:\n",
      "        pass\n",
      "\n",
      "    @staticmethod\n",
      "    @abc.abstractmethod\n",
      "    def is_my_module(module):\n",
      "        pass\n",
      "\n",
      "    @staticmethod\n",
      "    @abc.abstractmethod\n",
      "    def wrap(module):\n",
      "        return module\n",
      "\n",
      "    @staticmethod\n",
      "    def wrap_params(variables):\n",
      "        return freeze({\"params\": variables})\n",
      "\n",
      "    @staticmethod\n",
      "    @abc.abstractmethod\n",
      "    def unwrap_params(wrapped_variables):\n",
      "        return wrapped_variables\n",
      "\n",
      "\n",
      "registered_frameworks = []\n",
      "\n",
      "\n",
      "def framework(clz):\n",
      "    \"\"\"\n",
      "    Registers a framework and it's wrapper methods to make it\n",
      "    behave like a flax framework.\n",
      "    \"\"\"\n",
      "    clz = dataclasses.dataclass(frozen=True)(clz)\n",
      "    registered_frameworks.append(clz)\n",
      "    return clz\n",
      "\n",
      "\n",
      "@dataclasses.dataclass(frozen=True)\n",
      "class UnknownFramework(ModuleFramework):\n",
      "    name: str = \"Unknown\"\n",
      "\n",
      "    @staticmethod\n",
      "    def is_loaded() -> bool:\n",
      "        return True\n",
      "\n",
      "    @staticmethod\n",
      "    def is_my_module(module):\n",
      "        return False\n",
      "\n",
      "    @staticmethod\n",
      "    def wrap(module):\n",
      "        return module\n",
      "\n",
      "    @staticmethod\n",
      "    def unwrap_params(wrapped_variables):\n",
      "        return wrapped_variables\n",
      "\n",
      "\n",
      "def identify_framework(module):\n",
      "    for _framework in registered_frameworks:\n",
      "        if _framework.is_my_module(module):\n",
      "            return _framework\n",
      "\n",
      "    return UnknownFramework\n",
      "\n",
      "\n",
      "def maybe_wrap_module(module):\n",
      "    \"\"\"\n",
      "    Passing a module from an unknown framework (might be user defined module, a jax\n",
      "    module, flax or haiku or anything else really), attempt to identify what is the\n",
      "    package/framework it comes from, and if so it correctly wraps it in order to\n",
      "    make it behave like a flax module (our default).\n",
      "\n",
      "    Also returns a function used to unpack the parameters once we are done.\n",
      "    \"\"\"\n",
      "    framewrk = identify_framework(module)\n",
      "\n",
      "    return framewrk, framewrk.wrap(module)\n"
     ]
    },
    {
     "name": "stderr",
     "output_type": "stream",
     "text": [
      "C:\\Users\\kdeep\\anaconda3\\Lib\\site-packages\\xgboost\\core.py:158: UserWarning: [09:36:00] WARNING: C:\\buildkite-agent\\builds\\buildkite-windows-cpu-autoscaling-group-i-0015a694724fa8361-1\\xgboost\\xgboost-ci-windows\\src\\learner.cc:740: \n",
      "Parameters: { \"use_label_encoder\" } are not used.\n",
      "\n",
      "  warnings.warn(smsg, UserWarning)\n",
      "C:\\Users\\kdeep\\anaconda3\\Lib\\site-packages\\xgboost\\core.py:158: UserWarning: [09:36:01] WARNING: C:\\buildkite-agent\\builds\\buildkite-windows-cpu-autoscaling-group-i-0015a694724fa8361-1\\xgboost\\xgboost-ci-windows\\src\\learner.cc:740: \n",
      "Parameters: { \"use_label_encoder\" } are not used.\n",
      "\n",
      "  warnings.warn(smsg, UserWarning)\n"
     ]
    },
    {
     "name": "stdout",
     "output_type": "stream",
     "text": [
      "Precision: 0.75, Recall: 0.6, Accuracy: 0.7\n",
      "Precision: 1.0, Recall: 0.8, Accuracy: 0.9\n",
      "Precision: 1.0, Recall: 0.8, Accuracy: 0.9\n"
     ]
    },
    {
     "name": "stderr",
     "output_type": "stream",
     "text": [
      "C:\\Users\\kdeep\\anaconda3\\Lib\\site-packages\\xgboost\\core.py:158: UserWarning: [09:36:01] WARNING: C:\\buildkite-agent\\builds\\buildkite-windows-cpu-autoscaling-group-i-0015a694724fa8361-1\\xgboost\\xgboost-ci-windows\\src\\learner.cc:740: \n",
      "Parameters: { \"use_label_encoder\" } are not used.\n",
      "\n",
      "  warnings.warn(smsg, UserWarning)\n",
      "C:\\Users\\kdeep\\anaconda3\\Lib\\site-packages\\xgboost\\core.py:158: UserWarning: [09:36:01] WARNING: C:\\buildkite-agent\\builds\\buildkite-windows-cpu-autoscaling-group-i-0015a694724fa8361-1\\xgboost\\xgboost-ci-windows\\src\\learner.cc:740: \n",
      "Parameters: { \"use_label_encoder\" } are not used.\n",
      "\n",
      "  warnings.warn(smsg, UserWarning)\n"
     ]
    },
    {
     "name": "stdout",
     "output_type": "stream",
     "text": [
      "Precision: 0.8333333333333334, Recall: 1.0, Accuracy: 0.9\n",
      "Precision: 1.0, Recall: 0.4, Accuracy: 0.6666666666666666\n"
     ]
    },
    {
     "name": "stderr",
     "output_type": "stream",
     "text": [
      "C:\\Users\\kdeep\\anaconda3\\Lib\\site-packages\\xgboost\\core.py:158: UserWarning: [09:36:01] WARNING: C:\\buildkite-agent\\builds\\buildkite-windows-cpu-autoscaling-group-i-0015a694724fa8361-1\\xgboost\\xgboost-ci-windows\\src\\learner.cc:740: \n",
      "Parameters: { \"use_label_encoder\" } are not used.\n",
      "\n",
      "  warnings.warn(smsg, UserWarning)\n",
      "C:\\Users\\kdeep\\anaconda3\\Lib\\site-packages\\xgboost\\core.py:158: UserWarning: [09:36:01] WARNING: C:\\buildkite-agent\\builds\\buildkite-windows-cpu-autoscaling-group-i-0015a694724fa8361-1\\xgboost\\xgboost-ci-windows\\src\\learner.cc:740: \n",
      "Parameters: { \"use_label_encoder\" } are not used.\n",
      "\n",
      "  warnings.warn(smsg, UserWarning)\n"
     ]
    },
    {
     "name": "stdout",
     "output_type": "stream",
     "text": [
      "Precision: 0.6, Recall: 0.6, Accuracy: 0.5555555555555556\n"
     ]
    },
    {
     "name": "stderr",
     "output_type": "stream",
     "text": [
      "C:\\Users\\kdeep\\anaconda3\\Lib\\site-packages\\xgboost\\core.py:158: UserWarning: [09:36:02] WARNING: C:\\buildkite-agent\\builds\\buildkite-windows-cpu-autoscaling-group-i-0015a694724fa8361-1\\xgboost\\xgboost-ci-windows\\src\\learner.cc:740: \n",
      "Parameters: { \"use_label_encoder\" } are not used.\n",
      "\n",
      "  warnings.warn(smsg, UserWarning)\n"
     ]
    },
    {
     "name": "stdout",
     "output_type": "stream",
     "text": [
      "Precision: 0.6666666666666666, Recall: 0.8, Accuracy: 0.6666666666666666\n",
      "Precision: 0.8, Recall: 1.0, Accuracy: 0.8888888888888888\n"
     ]
    },
    {
     "name": "stderr",
     "output_type": "stream",
     "text": [
      "C:\\Users\\kdeep\\anaconda3\\Lib\\site-packages\\xgboost\\core.py:158: UserWarning: [09:36:02] WARNING: C:\\buildkite-agent\\builds\\buildkite-windows-cpu-autoscaling-group-i-0015a694724fa8361-1\\xgboost\\xgboost-ci-windows\\src\\learner.cc:740: \n",
      "Parameters: { \"use_label_encoder\" } are not used.\n",
      "\n",
      "  warnings.warn(smsg, UserWarning)\n",
      "C:\\Users\\kdeep\\anaconda3\\Lib\\site-packages\\xgboost\\core.py:158: UserWarning: [09:36:02] WARNING: C:\\buildkite-agent\\builds\\buildkite-windows-cpu-autoscaling-group-i-0015a694724fa8361-1\\xgboost\\xgboost-ci-windows\\src\\learner.cc:740: \n",
      "Parameters: { \"use_label_encoder\" } are not used.\n",
      "\n",
      "  warnings.warn(smsg, UserWarning)\n"
     ]
    },
    {
     "name": "stdout",
     "output_type": "stream",
     "text": [
      "Precision: 0.6, Recall: 0.75, Accuracy: 0.6666666666666666\n",
      "Precision: 0.6666666666666666, Recall: 0.5, Accuracy: 0.6666666666666666\n",
      "Results to be written: eta=0.3, depth=5, dim=100, eps=0.1, (42.3, 42.3, 4.7, 4.7, 0.7916666666666667, 0.725, 0.7511111111111111, 75808, 0.5860609799856321, 0.0048105408015482595)\n",
      "eta=0.3, depth=5, dim=100, eps=0.3\n"
     ]
    },
    {
     "name": "stderr",
     "output_type": "stream",
     "text": [
      "C:\\Users\\kdeep\\anaconda3\\Lib\\site-packages\\xgboost\\core.py:158: UserWarning: [09:36:02] WARNING: C:\\buildkite-agent\\builds\\buildkite-windows-cpu-autoscaling-group-i-0015a694724fa8361-1\\xgboost\\xgboost-ci-windows\\src\\learner.cc:740: \n",
      "Parameters: { \"use_label_encoder\" } are not used.\n",
      "\n",
      "  warnings.warn(smsg, UserWarning)\n"
     ]
    },
    {
     "name": "stdout",
     "output_type": "stream",
     "text": [
      "Number of flaky documents: 47\n",
      "Number of non-flaky documents: 47\n",
      "Total number of documents: 94\n",
      "Sample document: # Copyright 2021 The NetKet Authors - All rights reserved.\n",
      "#\n",
      "# Licensed under the Apache License, Version 2.0 (the \"License\");\n",
      "# you may not use this file except in compliance with the License.\n",
      "# You may obtain a copy of the License at\n",
      "#\n",
      "#    http://www.apache.org/licenses/LICENSE-2.0\n",
      "#\n",
      "# Unless required by applicable law or agreed to in writing, software\n",
      "# distributed under the License is distributed on an \"AS IS\" BASIS,\n",
      "# WITHOUT WARRANTIES OR CONDITIONS OF ANY KIND, either express or implied.\n",
      "# See the License for the specific language governing permissions and\n",
      "# limitations under the License.\n",
      "\n",
      "import dataclasses\n",
      "import abc\n",
      "\n",
      "from flax.core import freeze\n",
      "\n",
      "\n",
      "@dataclasses.dataclass(frozen=True)\n",
      "class ModuleFramework(abc.ABC):\n",
      "    @staticmethod\n",
      "    @abc.abstractmethod\n",
      "    def is_loaded() -> bool:\n",
      "        pass\n",
      "\n",
      "    @staticmethod\n",
      "    @abc.abstractmethod\n",
      "    def is_my_module(module):\n",
      "        pass\n",
      "\n",
      "    @staticmethod\n",
      "    @abc.abstractmethod\n",
      "    def wrap(module):\n",
      "        return module\n",
      "\n",
      "    @staticmethod\n",
      "    def wrap_params(variables):\n",
      "        return freeze({\"params\": variables})\n",
      "\n",
      "    @staticmethod\n",
      "    @abc.abstractmethod\n",
      "    def unwrap_params(wrapped_variables):\n",
      "        return wrapped_variables\n",
      "\n",
      "\n",
      "registered_frameworks = []\n",
      "\n",
      "\n",
      "def framework(clz):\n",
      "    \"\"\"\n",
      "    Registers a framework and it's wrapper methods to make it\n",
      "    behave like a flax framework.\n",
      "    \"\"\"\n",
      "    clz = dataclasses.dataclass(frozen=True)(clz)\n",
      "    registered_frameworks.append(clz)\n",
      "    return clz\n",
      "\n",
      "\n",
      "@dataclasses.dataclass(frozen=True)\n",
      "class UnknownFramework(ModuleFramework):\n",
      "    name: str = \"Unknown\"\n",
      "\n",
      "    @staticmethod\n",
      "    def is_loaded() -> bool:\n",
      "        return True\n",
      "\n",
      "    @staticmethod\n",
      "    def is_my_module(module):\n",
      "        return False\n",
      "\n",
      "    @staticmethod\n",
      "    def wrap(module):\n",
      "        return module\n",
      "\n",
      "    @staticmethod\n",
      "    def unwrap_params(wrapped_variables):\n",
      "        return wrapped_variables\n",
      "\n",
      "\n",
      "def identify_framework(module):\n",
      "    for _framework in registered_frameworks:\n",
      "        if _framework.is_my_module(module):\n",
      "            return _framework\n",
      "\n",
      "    return UnknownFramework\n",
      "\n",
      "\n",
      "def maybe_wrap_module(module):\n",
      "    \"\"\"\n",
      "    Passing a module from an unknown framework (might be user defined module, a jax\n",
      "    module, flax or haiku or anything else really), attempt to identify what is the\n",
      "    package/framework it comes from, and if so it correctly wraps it in order to\n",
      "    make it behave like a flax module (our default).\n",
      "\n",
      "    Also returns a function used to unpack the parameters once we are done.\n",
      "    \"\"\"\n",
      "    framewrk = identify_framework(module)\n",
      "\n",
      "    return framewrk, framewrk.wrap(module)\n"
     ]
    },
    {
     "name": "stderr",
     "output_type": "stream",
     "text": [
      "C:\\Users\\kdeep\\anaconda3\\Lib\\site-packages\\xgboost\\core.py:158: UserWarning: [09:36:03] WARNING: C:\\buildkite-agent\\builds\\buildkite-windows-cpu-autoscaling-group-i-0015a694724fa8361-1\\xgboost\\xgboost-ci-windows\\src\\learner.cc:740: \n",
      "Parameters: { \"use_label_encoder\" } are not used.\n",
      "\n",
      "  warnings.warn(smsg, UserWarning)\n"
     ]
    },
    {
     "name": "stdout",
     "output_type": "stream",
     "text": [
      "Precision: 0.75, Recall: 0.6, Accuracy: 0.7\n"
     ]
    },
    {
     "name": "stderr",
     "output_type": "stream",
     "text": [
      "C:\\Users\\kdeep\\anaconda3\\Lib\\site-packages\\xgboost\\core.py:158: UserWarning: [09:36:03] WARNING: C:\\buildkite-agent\\builds\\buildkite-windows-cpu-autoscaling-group-i-0015a694724fa8361-1\\xgboost\\xgboost-ci-windows\\src\\learner.cc:740: \n",
      "Parameters: { \"use_label_encoder\" } are not used.\n",
      "\n",
      "  warnings.warn(smsg, UserWarning)\n"
     ]
    },
    {
     "name": "stdout",
     "output_type": "stream",
     "text": [
      "Precision: 0.75, Recall: 0.6, Accuracy: 0.7\n"
     ]
    },
    {
     "name": "stderr",
     "output_type": "stream",
     "text": [
      "C:\\Users\\kdeep\\anaconda3\\Lib\\site-packages\\xgboost\\core.py:158: UserWarning: [09:36:04] WARNING: C:\\buildkite-agent\\builds\\buildkite-windows-cpu-autoscaling-group-i-0015a694724fa8361-1\\xgboost\\xgboost-ci-windows\\src\\learner.cc:740: \n",
      "Parameters: { \"use_label_encoder\" } are not used.\n",
      "\n",
      "  warnings.warn(smsg, UserWarning)\n"
     ]
    },
    {
     "name": "stdout",
     "output_type": "stream",
     "text": [
      "Precision: 1.0, Recall: 1.0, Accuracy: 1.0\n",
      "Precision: 0.5714285714285714, Recall: 0.8, Accuracy: 0.6\n"
     ]
    },
    {
     "name": "stderr",
     "output_type": "stream",
     "text": [
      "C:\\Users\\kdeep\\anaconda3\\Lib\\site-packages\\xgboost\\core.py:158: UserWarning: [09:36:04] WARNING: C:\\buildkite-agent\\builds\\buildkite-windows-cpu-autoscaling-group-i-0015a694724fa8361-1\\xgboost\\xgboost-ci-windows\\src\\learner.cc:740: \n",
      "Parameters: { \"use_label_encoder\" } are not used.\n",
      "\n",
      "  warnings.warn(smsg, UserWarning)\n",
      "C:\\Users\\kdeep\\anaconda3\\Lib\\site-packages\\xgboost\\core.py:158: UserWarning: [09:36:04] WARNING: C:\\buildkite-agent\\builds\\buildkite-windows-cpu-autoscaling-group-i-0015a694724fa8361-1\\xgboost\\xgboost-ci-windows\\src\\learner.cc:740: \n",
      "Parameters: { \"use_label_encoder\" } are not used.\n",
      "\n",
      "  warnings.warn(smsg, UserWarning)\n"
     ]
    },
    {
     "name": "stdout",
     "output_type": "stream",
     "text": [
      "Precision: 1.0, Recall: 0.4, Accuracy: 0.6666666666666666\n",
      "Precision: 0.625, Recall: 1.0, Accuracy: 0.6666666666666666\n"
     ]
    },
    {
     "name": "stderr",
     "output_type": "stream",
     "text": [
      "C:\\Users\\kdeep\\anaconda3\\Lib\\site-packages\\xgboost\\core.py:158: UserWarning: [09:36:04] WARNING: C:\\buildkite-agent\\builds\\buildkite-windows-cpu-autoscaling-group-i-0015a694724fa8361-1\\xgboost\\xgboost-ci-windows\\src\\learner.cc:740: \n",
      "Parameters: { \"use_label_encoder\" } are not used.\n",
      "\n",
      "  warnings.warn(smsg, UserWarning)\n",
      "C:\\Users\\kdeep\\anaconda3\\Lib\\site-packages\\xgboost\\core.py:158: UserWarning: [09:36:04] WARNING: C:\\buildkite-agent\\builds\\buildkite-windows-cpu-autoscaling-group-i-0015a694724fa8361-1\\xgboost\\xgboost-ci-windows\\src\\learner.cc:740: \n",
      "Parameters: { \"use_label_encoder\" } are not used.\n",
      "\n",
      "  warnings.warn(smsg, UserWarning)\n"
     ]
    },
    {
     "name": "stdout",
     "output_type": "stream",
     "text": [
      "Precision: 0.8, Recall: 0.8, Accuracy: 0.7777777777777778\n"
     ]
    },
    {
     "name": "stderr",
     "output_type": "stream",
     "text": [
      "C:\\Users\\kdeep\\anaconda3\\Lib\\site-packages\\xgboost\\core.py:158: UserWarning: [09:36:04] WARNING: C:\\buildkite-agent\\builds\\buildkite-windows-cpu-autoscaling-group-i-0015a694724fa8361-1\\xgboost\\xgboost-ci-windows\\src\\learner.cc:740: \n",
      "Parameters: { \"use_label_encoder\" } are not used.\n",
      "\n",
      "  warnings.warn(smsg, UserWarning)\n"
     ]
    },
    {
     "name": "stdout",
     "output_type": "stream",
     "text": [
      "Precision: 0.5714285714285714, Recall: 1.0, Accuracy: 0.6666666666666666\n"
     ]
    },
    {
     "name": "stderr",
     "output_type": "stream",
     "text": [
      "C:\\Users\\kdeep\\anaconda3\\Lib\\site-packages\\xgboost\\core.py:158: UserWarning: [09:36:05] WARNING: C:\\buildkite-agent\\builds\\buildkite-windows-cpu-autoscaling-group-i-0015a694724fa8361-1\\xgboost\\xgboost-ci-windows\\src\\learner.cc:740: \n",
      "Parameters: { \"use_label_encoder\" } are not used.\n",
      "\n",
      "  warnings.warn(smsg, UserWarning)\n"
     ]
    },
    {
     "name": "stdout",
     "output_type": "stream",
     "text": [
      "Precision: 1.0, Recall: 1.0, Accuracy: 1.0\n",
      "Precision: 0.6666666666666666, Recall: 0.5, Accuracy: 0.6666666666666666\n",
      "Results to be written: eta=0.3, depth=5, dim=100, eps=0.3, (42.3, 42.3, 4.7, 4.7, 0.7734523809523809, 0.77, 0.7444444444444445, 75808, 0.6590533000067808, 0.005826849300688436)\n",
      "eta=0.3, depth=5, dim=100, eps=0.5\n"
     ]
    },
    {
     "name": "stderr",
     "output_type": "stream",
     "text": [
      "C:\\Users\\kdeep\\anaconda3\\Lib\\site-packages\\xgboost\\core.py:158: UserWarning: [09:36:05] WARNING: C:\\buildkite-agent\\builds\\buildkite-windows-cpu-autoscaling-group-i-0015a694724fa8361-1\\xgboost\\xgboost-ci-windows\\src\\learner.cc:740: \n",
      "Parameters: { \"use_label_encoder\" } are not used.\n",
      "\n",
      "  warnings.warn(smsg, UserWarning)\n"
     ]
    },
    {
     "name": "stdout",
     "output_type": "stream",
     "text": [
      "Number of flaky documents: 47\n",
      "Number of non-flaky documents: 47\n",
      "Total number of documents: 94\n",
      "Sample document: # Copyright 2021 The NetKet Authors - All rights reserved.\n",
      "#\n",
      "# Licensed under the Apache License, Version 2.0 (the \"License\");\n",
      "# you may not use this file except in compliance with the License.\n",
      "# You may obtain a copy of the License at\n",
      "#\n",
      "#    http://www.apache.org/licenses/LICENSE-2.0\n",
      "#\n",
      "# Unless required by applicable law or agreed to in writing, software\n",
      "# distributed under the License is distributed on an \"AS IS\" BASIS,\n",
      "# WITHOUT WARRANTIES OR CONDITIONS OF ANY KIND, either express or implied.\n",
      "# See the License for the specific language governing permissions and\n",
      "# limitations under the License.\n",
      "\n",
      "import dataclasses\n",
      "import abc\n",
      "\n",
      "from flax.core import freeze\n",
      "\n",
      "\n",
      "@dataclasses.dataclass(frozen=True)\n",
      "class ModuleFramework(abc.ABC):\n",
      "    @staticmethod\n",
      "    @abc.abstractmethod\n",
      "    def is_loaded() -> bool:\n",
      "        pass\n",
      "\n",
      "    @staticmethod\n",
      "    @abc.abstractmethod\n",
      "    def is_my_module(module):\n",
      "        pass\n",
      "\n",
      "    @staticmethod\n",
      "    @abc.abstractmethod\n",
      "    def wrap(module):\n",
      "        return module\n",
      "\n",
      "    @staticmethod\n",
      "    def wrap_params(variables):\n",
      "        return freeze({\"params\": variables})\n",
      "\n",
      "    @staticmethod\n",
      "    @abc.abstractmethod\n",
      "    def unwrap_params(wrapped_variables):\n",
      "        return wrapped_variables\n",
      "\n",
      "\n",
      "registered_frameworks = []\n",
      "\n",
      "\n",
      "def framework(clz):\n",
      "    \"\"\"\n",
      "    Registers a framework and it's wrapper methods to make it\n",
      "    behave like a flax framework.\n",
      "    \"\"\"\n",
      "    clz = dataclasses.dataclass(frozen=True)(clz)\n",
      "    registered_frameworks.append(clz)\n",
      "    return clz\n",
      "\n",
      "\n",
      "@dataclasses.dataclass(frozen=True)\n",
      "class UnknownFramework(ModuleFramework):\n",
      "    name: str = \"Unknown\"\n",
      "\n",
      "    @staticmethod\n",
      "    def is_loaded() -> bool:\n",
      "        return True\n",
      "\n",
      "    @staticmethod\n",
      "    def is_my_module(module):\n",
      "        return False\n",
      "\n",
      "    @staticmethod\n",
      "    def wrap(module):\n",
      "        return module\n",
      "\n",
      "    @staticmethod\n",
      "    def unwrap_params(wrapped_variables):\n",
      "        return wrapped_variables\n",
      "\n",
      "\n",
      "def identify_framework(module):\n",
      "    for _framework in registered_frameworks:\n",
      "        if _framework.is_my_module(module):\n",
      "            return _framework\n",
      "\n",
      "    return UnknownFramework\n",
      "\n",
      "\n",
      "def maybe_wrap_module(module):\n",
      "    \"\"\"\n",
      "    Passing a module from an unknown framework (might be user defined module, a jax\n",
      "    module, flax or haiku or anything else really), attempt to identify what is the\n",
      "    package/framework it comes from, and if so it correctly wraps it in order to\n",
      "    make it behave like a flax module (our default).\n",
      "\n",
      "    Also returns a function used to unpack the parameters once we are done.\n",
      "    \"\"\"\n",
      "    framewrk = identify_framework(module)\n",
      "\n",
      "    return framewrk, framewrk.wrap(module)\n"
     ]
    },
    {
     "name": "stderr",
     "output_type": "stream",
     "text": [
      "C:\\Users\\kdeep\\anaconda3\\Lib\\site-packages\\xgboost\\core.py:158: UserWarning: [09:36:06] WARNING: C:\\buildkite-agent\\builds\\buildkite-windows-cpu-autoscaling-group-i-0015a694724fa8361-1\\xgboost\\xgboost-ci-windows\\src\\learner.cc:740: \n",
      "Parameters: { \"use_label_encoder\" } are not used.\n",
      "\n",
      "  warnings.warn(smsg, UserWarning)\n",
      "C:\\Users\\kdeep\\anaconda3\\Lib\\site-packages\\xgboost\\core.py:158: UserWarning: [09:36:06] WARNING: C:\\buildkite-agent\\builds\\buildkite-windows-cpu-autoscaling-group-i-0015a694724fa8361-1\\xgboost\\xgboost-ci-windows\\src\\learner.cc:740: \n",
      "Parameters: { \"use_label_encoder\" } are not used.\n",
      "\n",
      "  warnings.warn(smsg, UserWarning)\n"
     ]
    },
    {
     "name": "stdout",
     "output_type": "stream",
     "text": [
      "Precision: 1.0, Recall: 0.2, Accuracy: 0.6\n",
      "Precision: 0.8, Recall: 0.8, Accuracy: 0.8\n"
     ]
    },
    {
     "name": "stderr",
     "output_type": "stream",
     "text": [
      "C:\\Users\\kdeep\\anaconda3\\Lib\\site-packages\\xgboost\\core.py:158: UserWarning: [09:36:06] WARNING: C:\\buildkite-agent\\builds\\buildkite-windows-cpu-autoscaling-group-i-0015a694724fa8361-1\\xgboost\\xgboost-ci-windows\\src\\learner.cc:740: \n",
      "Parameters: { \"use_label_encoder\" } are not used.\n",
      "\n",
      "  warnings.warn(smsg, UserWarning)\n"
     ]
    },
    {
     "name": "stdout",
     "output_type": "stream",
     "text": [
      "Precision: 1.0, Recall: 0.8, Accuracy: 0.9\n",
      "Precision: 0.6, Recall: 0.6, Accuracy: 0.6\n"
     ]
    },
    {
     "name": "stderr",
     "output_type": "stream",
     "text": [
      "C:\\Users\\kdeep\\anaconda3\\Lib\\site-packages\\xgboost\\core.py:158: UserWarning: [09:36:06] WARNING: C:\\buildkite-agent\\builds\\buildkite-windows-cpu-autoscaling-group-i-0015a694724fa8361-1\\xgboost\\xgboost-ci-windows\\src\\learner.cc:740: \n",
      "Parameters: { \"use_label_encoder\" } are not used.\n",
      "\n",
      "  warnings.warn(smsg, UserWarning)\n",
      "C:\\Users\\kdeep\\anaconda3\\Lib\\site-packages\\xgboost\\core.py:158: UserWarning: [09:36:06] WARNING: C:\\buildkite-agent\\builds\\buildkite-windows-cpu-autoscaling-group-i-0015a694724fa8361-1\\xgboost\\xgboost-ci-windows\\src\\learner.cc:740: \n",
      "Parameters: { \"use_label_encoder\" } are not used.\n",
      "\n",
      "  warnings.warn(smsg, UserWarning)\n"
     ]
    },
    {
     "name": "stdout",
     "output_type": "stream",
     "text": [
      "Precision: 1.0, Recall: 0.4, Accuracy: 0.6666666666666666\n",
      "Precision: 0.6666666666666666, Recall: 0.8, Accuracy: 0.6666666666666666\n"
     ]
    },
    {
     "name": "stderr",
     "output_type": "stream",
     "text": [
      "C:\\Users\\kdeep\\anaconda3\\Lib\\site-packages\\xgboost\\core.py:158: UserWarning: [09:36:07] WARNING: C:\\buildkite-agent\\builds\\buildkite-windows-cpu-autoscaling-group-i-0015a694724fa8361-1\\xgboost\\xgboost-ci-windows\\src\\learner.cc:740: \n",
      "Parameters: { \"use_label_encoder\" } are not used.\n",
      "\n",
      "  warnings.warn(smsg, UserWarning)\n",
      "C:\\Users\\kdeep\\anaconda3\\Lib\\site-packages\\xgboost\\core.py:158: UserWarning: [09:36:07] WARNING: C:\\buildkite-agent\\builds\\buildkite-windows-cpu-autoscaling-group-i-0015a694724fa8361-1\\xgboost\\xgboost-ci-windows\\src\\learner.cc:740: \n",
      "Parameters: { \"use_label_encoder\" } are not used.\n",
      "\n",
      "  warnings.warn(smsg, UserWarning)\n"
     ]
    },
    {
     "name": "stdout",
     "output_type": "stream",
     "text": [
      "Precision: 0.625, Recall: 1.0, Accuracy: 0.6666666666666666\n",
      "Precision: 0.4, Recall: 0.5, Accuracy: 0.4444444444444444\n"
     ]
    },
    {
     "name": "stderr",
     "output_type": "stream",
     "text": [
      "C:\\Users\\kdeep\\anaconda3\\Lib\\site-packages\\xgboost\\core.py:158: UserWarning: [09:36:07] WARNING: C:\\buildkite-agent\\builds\\buildkite-windows-cpu-autoscaling-group-i-0015a694724fa8361-1\\xgboost\\xgboost-ci-windows\\src\\learner.cc:740: \n",
      "Parameters: { \"use_label_encoder\" } are not used.\n",
      "\n",
      "  warnings.warn(smsg, UserWarning)\n",
      "C:\\Users\\kdeep\\anaconda3\\Lib\\site-packages\\xgboost\\core.py:158: UserWarning: [09:36:07] WARNING: C:\\buildkite-agent\\builds\\buildkite-windows-cpu-autoscaling-group-i-0015a694724fa8361-1\\xgboost\\xgboost-ci-windows\\src\\learner.cc:740: \n",
      "Parameters: { \"use_label_encoder\" } are not used.\n",
      "\n",
      "  warnings.warn(smsg, UserWarning)\n",
      "C:\\Users\\kdeep\\anaconda3\\Lib\\site-packages\\xgboost\\core.py:158: UserWarning: [09:36:07] WARNING: C:\\buildkite-agent\\builds\\buildkite-windows-cpu-autoscaling-group-i-0015a694724fa8361-1\\xgboost\\xgboost-ci-windows\\src\\learner.cc:740: \n",
      "Parameters: { \"use_label_encoder\" } are not used.\n",
      "\n",
      "  warnings.warn(smsg, UserWarning)\n"
     ]
    },
    {
     "name": "stdout",
     "output_type": "stream",
     "text": [
      "Precision: 0.5, Recall: 0.25, Accuracy: 0.5555555555555556\n",
      "Precision: 0.3333333333333333, Recall: 0.5, Accuracy: 0.3333333333333333\n",
      "Results to be written: eta=0.3, depth=5, dim=100, eps=0.5, (42.3, 42.3, 4.7, 4.7, 0.6925000000000001, 0.585, 0.6233333333333333, 75808, 0.6379716699826531, 0.005569185494083634)\n",
      "eta=0.3, depth=5, dim=200, eps=0.1\n",
      "Number of flaky documents: 47\n",
      "Number of non-flaky documents: 47\n",
      "Total number of documents: 94\n",
      "Sample document: # Copyright 2021 The NetKet Authors - All rights reserved.\n",
      "#\n",
      "# Licensed under the Apache License, Version 2.0 (the \"License\");\n",
      "# you may not use this file except in compliance with the License.\n",
      "# You may obtain a copy of the License at\n",
      "#\n",
      "#    http://www.apache.org/licenses/LICENSE-2.0\n",
      "#\n",
      "# Unless required by applicable law or agreed to in writing, software\n",
      "# distributed under the License is distributed on an \"AS IS\" BASIS,\n",
      "# WITHOUT WARRANTIES OR CONDITIONS OF ANY KIND, either express or implied.\n",
      "# See the License for the specific language governing permissions and\n",
      "# limitations under the License.\n",
      "\n",
      "import dataclasses\n",
      "import abc\n",
      "\n",
      "from flax.core import freeze\n",
      "\n",
      "\n",
      "@dataclasses.dataclass(frozen=True)\n",
      "class ModuleFramework(abc.ABC):\n",
      "    @staticmethod\n",
      "    @abc.abstractmethod\n",
      "    def is_loaded() -> bool:\n",
      "        pass\n",
      "\n",
      "    @staticmethod\n",
      "    @abc.abstractmethod\n",
      "    def is_my_module(module):\n",
      "        pass\n",
      "\n",
      "    @staticmethod\n",
      "    @abc.abstractmethod\n",
      "    def wrap(module):\n",
      "        return module\n",
      "\n",
      "    @staticmethod\n",
      "    def wrap_params(variables):\n",
      "        return freeze({\"params\": variables})\n",
      "\n",
      "    @staticmethod\n",
      "    @abc.abstractmethod\n",
      "    def unwrap_params(wrapped_variables):\n",
      "        return wrapped_variables\n",
      "\n",
      "\n",
      "registered_frameworks = []\n",
      "\n",
      "\n",
      "def framework(clz):\n",
      "    \"\"\"\n",
      "    Registers a framework and it's wrapper methods to make it\n",
      "    behave like a flax framework.\n",
      "    \"\"\"\n",
      "    clz = dataclasses.dataclass(frozen=True)(clz)\n",
      "    registered_frameworks.append(clz)\n",
      "    return clz\n",
      "\n",
      "\n",
      "@dataclasses.dataclass(frozen=True)\n",
      "class UnknownFramework(ModuleFramework):\n",
      "    name: str = \"Unknown\"\n",
      "\n",
      "    @staticmethod\n",
      "    def is_loaded() -> bool:\n",
      "        return True\n",
      "\n",
      "    @staticmethod\n",
      "    def is_my_module(module):\n",
      "        return False\n",
      "\n",
      "    @staticmethod\n",
      "    def wrap(module):\n",
      "        return module\n",
      "\n",
      "    @staticmethod\n",
      "    def unwrap_params(wrapped_variables):\n",
      "        return wrapped_variables\n",
      "\n",
      "\n",
      "def identify_framework(module):\n",
      "    for _framework in registered_frameworks:\n",
      "        if _framework.is_my_module(module):\n",
      "            return _framework\n",
      "\n",
      "    return UnknownFramework\n",
      "\n",
      "\n",
      "def maybe_wrap_module(module):\n",
      "    \"\"\"\n",
      "    Passing a module from an unknown framework (might be user defined module, a jax\n",
      "    module, flax or haiku or anything else really), attempt to identify what is the\n",
      "    package/framework it comes from, and if so it correctly wraps it in order to\n",
      "    make it behave like a flax module (our default).\n",
      "\n",
      "    Also returns a function used to unpack the parameters once we are done.\n",
      "    \"\"\"\n",
      "    framewrk = identify_framework(module)\n",
      "\n",
      "    return framewrk, framewrk.wrap(module)\n"
     ]
    },
    {
     "name": "stderr",
     "output_type": "stream",
     "text": [
      "C:\\Users\\kdeep\\anaconda3\\Lib\\site-packages\\xgboost\\core.py:158: UserWarning: [09:36:08] WARNING: C:\\buildkite-agent\\builds\\buildkite-windows-cpu-autoscaling-group-i-0015a694724fa8361-1\\xgboost\\xgboost-ci-windows\\src\\learner.cc:740: \n",
      "Parameters: { \"use_label_encoder\" } are not used.\n",
      "\n",
      "  warnings.warn(smsg, UserWarning)\n"
     ]
    },
    {
     "name": "stdout",
     "output_type": "stream",
     "text": [
      "Precision: 0.5, Recall: 0.2, Accuracy: 0.5\n",
      "Precision: 1.0, Recall: 0.4, Accuracy: 0.7\n"
     ]
    },
    {
     "name": "stderr",
     "output_type": "stream",
     "text": [
      "C:\\Users\\kdeep\\anaconda3\\Lib\\site-packages\\xgboost\\core.py:158: UserWarning: [09:36:08] WARNING: C:\\buildkite-agent\\builds\\buildkite-windows-cpu-autoscaling-group-i-0015a694724fa8361-1\\xgboost\\xgboost-ci-windows\\src\\learner.cc:740: \n",
      "Parameters: { \"use_label_encoder\" } are not used.\n",
      "\n",
      "  warnings.warn(smsg, UserWarning)\n",
      "C:\\Users\\kdeep\\anaconda3\\Lib\\site-packages\\xgboost\\core.py:158: UserWarning: [09:36:09] WARNING: C:\\buildkite-agent\\builds\\buildkite-windows-cpu-autoscaling-group-i-0015a694724fa8361-1\\xgboost\\xgboost-ci-windows\\src\\learner.cc:740: \n",
      "Parameters: { \"use_label_encoder\" } are not used.\n",
      "\n",
      "  warnings.warn(smsg, UserWarning)\n"
     ]
    },
    {
     "name": "stdout",
     "output_type": "stream",
     "text": [
      "Precision: 1.0, Recall: 0.8, Accuracy: 0.9\n",
      "Precision: 0.75, Recall: 0.6, Accuracy: 0.7\n"
     ]
    },
    {
     "name": "stderr",
     "output_type": "stream",
     "text": [
      "C:\\Users\\kdeep\\anaconda3\\Lib\\site-packages\\xgboost\\core.py:158: UserWarning: [09:36:09] WARNING: C:\\buildkite-agent\\builds\\buildkite-windows-cpu-autoscaling-group-i-0015a694724fa8361-1\\xgboost\\xgboost-ci-windows\\src\\learner.cc:740: \n",
      "Parameters: { \"use_label_encoder\" } are not used.\n",
      "\n",
      "  warnings.warn(smsg, UserWarning)\n",
      "C:\\Users\\kdeep\\anaconda3\\Lib\\site-packages\\xgboost\\core.py:158: UserWarning: [09:36:09] WARNING: C:\\buildkite-agent\\builds\\buildkite-windows-cpu-autoscaling-group-i-0015a694724fa8361-1\\xgboost\\xgboost-ci-windows\\src\\learner.cc:740: \n",
      "Parameters: { \"use_label_encoder\" } are not used.\n",
      "\n",
      "  warnings.warn(smsg, UserWarning)\n"
     ]
    },
    {
     "name": "stdout",
     "output_type": "stream",
     "text": [
      "Precision: 0.75, Recall: 0.6, Accuracy: 0.6666666666666666\n",
      "Precision: 0.5, Recall: 0.8, Accuracy: 0.4444444444444444\n"
     ]
    },
    {
     "name": "stderr",
     "output_type": "stream",
     "text": [
      "C:\\Users\\kdeep\\anaconda3\\Lib\\site-packages\\xgboost\\core.py:158: UserWarning: [09:36:09] WARNING: C:\\buildkite-agent\\builds\\buildkite-windows-cpu-autoscaling-group-i-0015a694724fa8361-1\\xgboost\\xgboost-ci-windows\\src\\learner.cc:740: \n",
      "Parameters: { \"use_label_encoder\" } are not used.\n",
      "\n",
      "  warnings.warn(smsg, UserWarning)\n",
      "C:\\Users\\kdeep\\anaconda3\\Lib\\site-packages\\xgboost\\core.py:158: UserWarning: [09:36:09] WARNING: C:\\buildkite-agent\\builds\\buildkite-windows-cpu-autoscaling-group-i-0015a694724fa8361-1\\xgboost\\xgboost-ci-windows\\src\\learner.cc:740: \n",
      "Parameters: { \"use_label_encoder\" } are not used.\n",
      "\n",
      "  warnings.warn(smsg, UserWarning)\n"
     ]
    },
    {
     "name": "stdout",
     "output_type": "stream",
     "text": [
      "Precision: 0.6, Recall: 0.6, Accuracy: 0.5555555555555556\n",
      "Precision: 0.6666666666666666, Recall: 1.0, Accuracy: 0.7777777777777778\n"
     ]
    },
    {
     "name": "stderr",
     "output_type": "stream",
     "text": [
      "C:\\Users\\kdeep\\anaconda3\\Lib\\site-packages\\xgboost\\core.py:158: UserWarning: [09:36:09] WARNING: C:\\buildkite-agent\\builds\\buildkite-windows-cpu-autoscaling-group-i-0015a694724fa8361-1\\xgboost\\xgboost-ci-windows\\src\\learner.cc:740: \n",
      "Parameters: { \"use_label_encoder\" } are not used.\n",
      "\n",
      "  warnings.warn(smsg, UserWarning)\n",
      "C:\\Users\\kdeep\\anaconda3\\Lib\\site-packages\\xgboost\\core.py:158: UserWarning: [09:36:10] WARNING: C:\\buildkite-agent\\builds\\buildkite-windows-cpu-autoscaling-group-i-0015a694724fa8361-1\\xgboost\\xgboost-ci-windows\\src\\learner.cc:740: \n",
      "Parameters: { \"use_label_encoder\" } are not used.\n",
      "\n",
      "  warnings.warn(smsg, UserWarning)\n"
     ]
    },
    {
     "name": "stdout",
     "output_type": "stream",
     "text": [
      "Precision: 0.6, Recall: 0.75, Accuracy: 0.6666666666666666\n",
      "Precision: 0.3333333333333333, Recall: 0.25, Accuracy: 0.4444444444444444\n",
      "Results to be written: eta=0.3, depth=5, dim=200, eps=0.1, (42.3, 42.3, 4.7, 4.7, 0.6699999999999999, 0.6, 0.6355555555555555, 151008, 0.7269756499212237, 0.0068336596537104)\n",
      "eta=0.3, depth=5, dim=200, eps=0.3\n"
     ]
    },
    {
     "name": "stderr",
     "output_type": "stream",
     "text": [
      "C:\\Users\\kdeep\\anaconda3\\Lib\\site-packages\\xgboost\\core.py:158: UserWarning: [09:36:10] WARNING: C:\\buildkite-agent\\builds\\buildkite-windows-cpu-autoscaling-group-i-0015a694724fa8361-1\\xgboost\\xgboost-ci-windows\\src\\learner.cc:740: \n",
      "Parameters: { \"use_label_encoder\" } are not used.\n",
      "\n",
      "  warnings.warn(smsg, UserWarning)\n"
     ]
    },
    {
     "name": "stdout",
     "output_type": "stream",
     "text": [
      "Number of flaky documents: 47\n",
      "Number of non-flaky documents: 47\n",
      "Total number of documents: 94\n",
      "Sample document: # Copyright 2021 The NetKet Authors - All rights reserved.\n",
      "#\n",
      "# Licensed under the Apache License, Version 2.0 (the \"License\");\n",
      "# you may not use this file except in compliance with the License.\n",
      "# You may obtain a copy of the License at\n",
      "#\n",
      "#    http://www.apache.org/licenses/LICENSE-2.0\n",
      "#\n",
      "# Unless required by applicable law or agreed to in writing, software\n",
      "# distributed under the License is distributed on an \"AS IS\" BASIS,\n",
      "# WITHOUT WARRANTIES OR CONDITIONS OF ANY KIND, either express or implied.\n",
      "# See the License for the specific language governing permissions and\n",
      "# limitations under the License.\n",
      "\n",
      "import dataclasses\n",
      "import abc\n",
      "\n",
      "from flax.core import freeze\n",
      "\n",
      "\n",
      "@dataclasses.dataclass(frozen=True)\n",
      "class ModuleFramework(abc.ABC):\n",
      "    @staticmethod\n",
      "    @abc.abstractmethod\n",
      "    def is_loaded() -> bool:\n",
      "        pass\n",
      "\n",
      "    @staticmethod\n",
      "    @abc.abstractmethod\n",
      "    def is_my_module(module):\n",
      "        pass\n",
      "\n",
      "    @staticmethod\n",
      "    @abc.abstractmethod\n",
      "    def wrap(module):\n",
      "        return module\n",
      "\n",
      "    @staticmethod\n",
      "    def wrap_params(variables):\n",
      "        return freeze({\"params\": variables})\n",
      "\n",
      "    @staticmethod\n",
      "    @abc.abstractmethod\n",
      "    def unwrap_params(wrapped_variables):\n",
      "        return wrapped_variables\n",
      "\n",
      "\n",
      "registered_frameworks = []\n",
      "\n",
      "\n",
      "def framework(clz):\n",
      "    \"\"\"\n",
      "    Registers a framework and it's wrapper methods to make it\n",
      "    behave like a flax framework.\n",
      "    \"\"\"\n",
      "    clz = dataclasses.dataclass(frozen=True)(clz)\n",
      "    registered_frameworks.append(clz)\n",
      "    return clz\n",
      "\n",
      "\n",
      "@dataclasses.dataclass(frozen=True)\n",
      "class UnknownFramework(ModuleFramework):\n",
      "    name: str = \"Unknown\"\n",
      "\n",
      "    @staticmethod\n",
      "    def is_loaded() -> bool:\n",
      "        return True\n",
      "\n",
      "    @staticmethod\n",
      "    def is_my_module(module):\n",
      "        return False\n",
      "\n",
      "    @staticmethod\n",
      "    def wrap(module):\n",
      "        return module\n",
      "\n",
      "    @staticmethod\n",
      "    def unwrap_params(wrapped_variables):\n",
      "        return wrapped_variables\n",
      "\n",
      "\n",
      "def identify_framework(module):\n",
      "    for _framework in registered_frameworks:\n",
      "        if _framework.is_my_module(module):\n",
      "            return _framework\n",
      "\n",
      "    return UnknownFramework\n",
      "\n",
      "\n",
      "def maybe_wrap_module(module):\n",
      "    \"\"\"\n",
      "    Passing a module from an unknown framework (might be user defined module, a jax\n",
      "    module, flax or haiku or anything else really), attempt to identify what is the\n",
      "    package/framework it comes from, and if so it correctly wraps it in order to\n",
      "    make it behave like a flax module (our default).\n",
      "\n",
      "    Also returns a function used to unpack the parameters once we are done.\n",
      "    \"\"\"\n",
      "    framewrk = identify_framework(module)\n",
      "\n",
      "    return framewrk, framewrk.wrap(module)\n"
     ]
    },
    {
     "name": "stderr",
     "output_type": "stream",
     "text": [
      "C:\\Users\\kdeep\\anaconda3\\Lib\\site-packages\\xgboost\\core.py:158: UserWarning: [09:36:11] WARNING: C:\\buildkite-agent\\builds\\buildkite-windows-cpu-autoscaling-group-i-0015a694724fa8361-1\\xgboost\\xgboost-ci-windows\\src\\learner.cc:740: \n",
      "Parameters: { \"use_label_encoder\" } are not used.\n",
      "\n",
      "  warnings.warn(smsg, UserWarning)\n",
      "C:\\Users\\kdeep\\anaconda3\\Lib\\site-packages\\xgboost\\core.py:158: UserWarning: [09:36:11] WARNING: C:\\buildkite-agent\\builds\\buildkite-windows-cpu-autoscaling-group-i-0015a694724fa8361-1\\xgboost\\xgboost-ci-windows\\src\\learner.cc:740: \n",
      "Parameters: { \"use_label_encoder\" } are not used.\n",
      "\n",
      "  warnings.warn(smsg, UserWarning)\n"
     ]
    },
    {
     "name": "stdout",
     "output_type": "stream",
     "text": [
      "Precision: 0.75, Recall: 0.6, Accuracy: 0.7\n",
      "Precision: 0.8, Recall: 0.8, Accuracy: 0.8\n"
     ]
    },
    {
     "name": "stderr",
     "output_type": "stream",
     "text": [
      "C:\\Users\\kdeep\\anaconda3\\Lib\\site-packages\\xgboost\\core.py:158: UserWarning: [09:36:11] WARNING: C:\\buildkite-agent\\builds\\buildkite-windows-cpu-autoscaling-group-i-0015a694724fa8361-1\\xgboost\\xgboost-ci-windows\\src\\learner.cc:740: \n",
      "Parameters: { \"use_label_encoder\" } are not used.\n",
      "\n",
      "  warnings.warn(smsg, UserWarning)\n",
      "C:\\Users\\kdeep\\anaconda3\\Lib\\site-packages\\xgboost\\core.py:158: UserWarning: [09:36:11] WARNING: C:\\buildkite-agent\\builds\\buildkite-windows-cpu-autoscaling-group-i-0015a694724fa8361-1\\xgboost\\xgboost-ci-windows\\src\\learner.cc:740: \n",
      "Parameters: { \"use_label_encoder\" } are not used.\n",
      "\n",
      "  warnings.warn(smsg, UserWarning)\n"
     ]
    },
    {
     "name": "stdout",
     "output_type": "stream",
     "text": [
      "Precision: 0.8333333333333334, Recall: 1.0, Accuracy: 0.9\n",
      "Precision: 0.6666666666666666, Recall: 0.8, Accuracy: 0.7\n"
     ]
    },
    {
     "name": "stderr",
     "output_type": "stream",
     "text": [
      "C:\\Users\\kdeep\\anaconda3\\Lib\\site-packages\\xgboost\\core.py:158: UserWarning: [09:36:11] WARNING: C:\\buildkite-agent\\builds\\buildkite-windows-cpu-autoscaling-group-i-0015a694724fa8361-1\\xgboost\\xgboost-ci-windows\\src\\learner.cc:740: \n",
      "Parameters: { \"use_label_encoder\" } are not used.\n",
      "\n",
      "  warnings.warn(smsg, UserWarning)\n",
      "C:\\Users\\kdeep\\anaconda3\\Lib\\site-packages\\xgboost\\core.py:158: UserWarning: [09:36:11] WARNING: C:\\buildkite-agent\\builds\\buildkite-windows-cpu-autoscaling-group-i-0015a694724fa8361-1\\xgboost\\xgboost-ci-windows\\src\\learner.cc:740: \n",
      "Parameters: { \"use_label_encoder\" } are not used.\n",
      "\n",
      "  warnings.warn(smsg, UserWarning)\n"
     ]
    },
    {
     "name": "stdout",
     "output_type": "stream",
     "text": [
      "Precision: 0.75, Recall: 0.6, Accuracy: 0.6666666666666666\n",
      "Precision: 0.6666666666666666, Recall: 0.8, Accuracy: 0.6666666666666666\n"
     ]
    },
    {
     "name": "stderr",
     "output_type": "stream",
     "text": [
      "C:\\Users\\kdeep\\anaconda3\\Lib\\site-packages\\xgboost\\core.py:158: UserWarning: [09:36:12] WARNING: C:\\buildkite-agent\\builds\\buildkite-windows-cpu-autoscaling-group-i-0015a694724fa8361-1\\xgboost\\xgboost-ci-windows\\src\\learner.cc:740: \n",
      "Parameters: { \"use_label_encoder\" } are not used.\n",
      "\n",
      "  warnings.warn(smsg, UserWarning)\n",
      "C:\\Users\\kdeep\\anaconda3\\Lib\\site-packages\\xgboost\\core.py:158: UserWarning: [09:36:12] WARNING: C:\\buildkite-agent\\builds\\buildkite-windows-cpu-autoscaling-group-i-0015a694724fa8361-1\\xgboost\\xgboost-ci-windows\\src\\learner.cc:740: \n",
      "Parameters: { \"use_label_encoder\" } are not used.\n",
      "\n",
      "  warnings.warn(smsg, UserWarning)\n"
     ]
    },
    {
     "name": "stdout",
     "output_type": "stream",
     "text": [
      "Precision: 1.0, Recall: 0.8, Accuracy: 0.8888888888888888\n",
      "Precision: 0.6666666666666666, Recall: 1.0, Accuracy: 0.7777777777777778\n"
     ]
    },
    {
     "name": "stderr",
     "output_type": "stream",
     "text": [
      "C:\\Users\\kdeep\\anaconda3\\Lib\\site-packages\\xgboost\\core.py:158: UserWarning: [09:36:12] WARNING: C:\\buildkite-agent\\builds\\buildkite-windows-cpu-autoscaling-group-i-0015a694724fa8361-1\\xgboost\\xgboost-ci-windows\\src\\learner.cc:740: \n",
      "Parameters: { \"use_label_encoder\" } are not used.\n",
      "\n",
      "  warnings.warn(smsg, UserWarning)\n",
      "C:\\Users\\kdeep\\anaconda3\\Lib\\site-packages\\xgboost\\core.py:158: UserWarning: [09:36:12] WARNING: C:\\buildkite-agent\\builds\\buildkite-windows-cpu-autoscaling-group-i-0015a694724fa8361-1\\xgboost\\xgboost-ci-windows\\src\\learner.cc:740: \n",
      "Parameters: { \"use_label_encoder\" } are not used.\n",
      "\n",
      "  warnings.warn(smsg, UserWarning)\n"
     ]
    },
    {
     "name": "stdout",
     "output_type": "stream",
     "text": [
      "Precision: 0.8, Recall: 1.0, Accuracy: 0.8888888888888888\n",
      "Precision: 0.3333333333333333, Recall: 0.25, Accuracy: 0.4444444444444444\n",
      "Results to be written: eta=0.3, depth=5, dim=200, eps=0.3, (42.3, 42.3, 4.7, 4.7, 0.7266666666666667, 0.765, 0.7433333333333332, 151008, 0.6955944699118844, 0.006616874858643418)\n",
      "eta=0.3, depth=5, dim=200, eps=0.5\n",
      "Number of flaky documents: 47\n",
      "Number of non-flaky documents: 47\n",
      "Total number of documents: 94\n",
      "Sample document: # Copyright 2021 The NetKet Authors - All rights reserved.\n",
      "#\n",
      "# Licensed under the Apache License, Version 2.0 (the \"License\");\n",
      "# you may not use this file except in compliance with the License.\n",
      "# You may obtain a copy of the License at\n",
      "#\n",
      "#    http://www.apache.org/licenses/LICENSE-2.0\n",
      "#\n",
      "# Unless required by applicable law or agreed to in writing, software\n",
      "# distributed under the License is distributed on an \"AS IS\" BASIS,\n",
      "# WITHOUT WARRANTIES OR CONDITIONS OF ANY KIND, either express or implied.\n",
      "# See the License for the specific language governing permissions and\n",
      "# limitations under the License.\n",
      "\n",
      "import dataclasses\n",
      "import abc\n",
      "\n",
      "from flax.core import freeze\n",
      "\n",
      "\n",
      "@dataclasses.dataclass(frozen=True)\n",
      "class ModuleFramework(abc.ABC):\n",
      "    @staticmethod\n",
      "    @abc.abstractmethod\n",
      "    def is_loaded() -> bool:\n",
      "        pass\n",
      "\n",
      "    @staticmethod\n",
      "    @abc.abstractmethod\n",
      "    def is_my_module(module):\n",
      "        pass\n",
      "\n",
      "    @staticmethod\n",
      "    @abc.abstractmethod\n",
      "    def wrap(module):\n",
      "        return module\n",
      "\n",
      "    @staticmethod\n",
      "    def wrap_params(variables):\n",
      "        return freeze({\"params\": variables})\n",
      "\n",
      "    @staticmethod\n",
      "    @abc.abstractmethod\n",
      "    def unwrap_params(wrapped_variables):\n",
      "        return wrapped_variables\n",
      "\n",
      "\n",
      "registered_frameworks = []\n",
      "\n",
      "\n",
      "def framework(clz):\n",
      "    \"\"\"\n",
      "    Registers a framework and it's wrapper methods to make it\n",
      "    behave like a flax framework.\n",
      "    \"\"\"\n",
      "    clz = dataclasses.dataclass(frozen=True)(clz)\n",
      "    registered_frameworks.append(clz)\n",
      "    return clz\n",
      "\n",
      "\n",
      "@dataclasses.dataclass(frozen=True)\n",
      "class UnknownFramework(ModuleFramework):\n",
      "    name: str = \"Unknown\"\n",
      "\n",
      "    @staticmethod\n",
      "    def is_loaded() -> bool:\n",
      "        return True\n",
      "\n",
      "    @staticmethod\n",
      "    def is_my_module(module):\n",
      "        return False\n",
      "\n",
      "    @staticmethod\n",
      "    def wrap(module):\n",
      "        return module\n",
      "\n",
      "    @staticmethod\n",
      "    def unwrap_params(wrapped_variables):\n",
      "        return wrapped_variables\n",
      "\n",
      "\n",
      "def identify_framework(module):\n",
      "    for _framework in registered_frameworks:\n",
      "        if _framework.is_my_module(module):\n",
      "            return _framework\n",
      "\n",
      "    return UnknownFramework\n",
      "\n",
      "\n",
      "def maybe_wrap_module(module):\n",
      "    \"\"\"\n",
      "    Passing a module from an unknown framework (might be user defined module, a jax\n",
      "    module, flax or haiku or anything else really), attempt to identify what is the\n",
      "    package/framework it comes from, and if so it correctly wraps it in order to\n",
      "    make it behave like a flax module (our default).\n",
      "\n",
      "    Also returns a function used to unpack the parameters once we are done.\n",
      "    \"\"\"\n",
      "    framewrk = identify_framework(module)\n",
      "\n",
      "    return framewrk, framewrk.wrap(module)\n"
     ]
    },
    {
     "name": "stderr",
     "output_type": "stream",
     "text": [
      "C:\\Users\\kdeep\\anaconda3\\Lib\\site-packages\\xgboost\\core.py:158: UserWarning: [09:36:13] WARNING: C:\\buildkite-agent\\builds\\buildkite-windows-cpu-autoscaling-group-i-0015a694724fa8361-1\\xgboost\\xgboost-ci-windows\\src\\learner.cc:740: \n",
      "Parameters: { \"use_label_encoder\" } are not used.\n",
      "\n",
      "  warnings.warn(smsg, UserWarning)\n"
     ]
    },
    {
     "name": "stdout",
     "output_type": "stream",
     "text": [
      "Precision: 1.0, Recall: 0.2, Accuracy: 0.6\n"
     ]
    },
    {
     "name": "stderr",
     "output_type": "stream",
     "text": [
      "C:\\Users\\kdeep\\anaconda3\\Lib\\site-packages\\xgboost\\core.py:158: UserWarning: [09:36:13] WARNING: C:\\buildkite-agent\\builds\\buildkite-windows-cpu-autoscaling-group-i-0015a694724fa8361-1\\xgboost\\xgboost-ci-windows\\src\\learner.cc:740: \n",
      "Parameters: { \"use_label_encoder\" } are not used.\n",
      "\n",
      "  warnings.warn(smsg, UserWarning)\n"
     ]
    },
    {
     "name": "stdout",
     "output_type": "stream",
     "text": [
      "Precision: 0.8, Recall: 0.8, Accuracy: 0.8\n"
     ]
    },
    {
     "name": "stderr",
     "output_type": "stream",
     "text": [
      "C:\\Users\\kdeep\\anaconda3\\Lib\\site-packages\\xgboost\\core.py:158: UserWarning: [09:36:13] WARNING: C:\\buildkite-agent\\builds\\buildkite-windows-cpu-autoscaling-group-i-0015a694724fa8361-1\\xgboost\\xgboost-ci-windows\\src\\learner.cc:740: \n",
      "Parameters: { \"use_label_encoder\" } are not used.\n",
      "\n",
      "  warnings.warn(smsg, UserWarning)\n"
     ]
    },
    {
     "name": "stdout",
     "output_type": "stream",
     "text": [
      "Precision: 1.0, Recall: 0.8, Accuracy: 0.9\n"
     ]
    },
    {
     "name": "stderr",
     "output_type": "stream",
     "text": [
      "C:\\Users\\kdeep\\anaconda3\\Lib\\site-packages\\xgboost\\core.py:158: UserWarning: [09:36:14] WARNING: C:\\buildkite-agent\\builds\\buildkite-windows-cpu-autoscaling-group-i-0015a694724fa8361-1\\xgboost\\xgboost-ci-windows\\src\\learner.cc:740: \n",
      "Parameters: { \"use_label_encoder\" } are not used.\n",
      "\n",
      "  warnings.warn(smsg, UserWarning)\n"
     ]
    },
    {
     "name": "stdout",
     "output_type": "stream",
     "text": [
      "Precision: 1.0, Recall: 1.0, Accuracy: 1.0\n"
     ]
    },
    {
     "name": "stderr",
     "output_type": "stream",
     "text": [
      "C:\\Users\\kdeep\\anaconda3\\Lib\\site-packages\\xgboost\\core.py:158: UserWarning: [09:36:14] WARNING: C:\\buildkite-agent\\builds\\buildkite-windows-cpu-autoscaling-group-i-0015a694724fa8361-1\\xgboost\\xgboost-ci-windows\\src\\learner.cc:740: \n",
      "Parameters: { \"use_label_encoder\" } are not used.\n",
      "\n",
      "  warnings.warn(smsg, UserWarning)\n"
     ]
    },
    {
     "name": "stdout",
     "output_type": "stream",
     "text": [
      "Precision: 1.0, Recall: 0.4, Accuracy: 0.6666666666666666\n",
      "Precision: 0.5555555555555556, Recall: 1.0, Accuracy: 0.5555555555555556\n"
     ]
    },
    {
     "name": "stderr",
     "output_type": "stream",
     "text": [
      "C:\\Users\\kdeep\\anaconda3\\Lib\\site-packages\\xgboost\\core.py:158: UserWarning: [09:36:14] WARNING: C:\\buildkite-agent\\builds\\buildkite-windows-cpu-autoscaling-group-i-0015a694724fa8361-1\\xgboost\\xgboost-ci-windows\\src\\learner.cc:740: \n",
      "Parameters: { \"use_label_encoder\" } are not used.\n",
      "\n",
      "  warnings.warn(smsg, UserWarning)\n",
      "C:\\Users\\kdeep\\anaconda3\\Lib\\site-packages\\xgboost\\core.py:158: UserWarning: [09:36:14] WARNING: C:\\buildkite-agent\\builds\\buildkite-windows-cpu-autoscaling-group-i-0015a694724fa8361-1\\xgboost\\xgboost-ci-windows\\src\\learner.cc:740: \n",
      "Parameters: { \"use_label_encoder\" } are not used.\n",
      "\n",
      "  warnings.warn(smsg, UserWarning)\n"
     ]
    },
    {
     "name": "stdout",
     "output_type": "stream",
     "text": [
      "Precision: 0.6666666666666666, Recall: 0.8, Accuracy: 0.6666666666666666\n"
     ]
    },
    {
     "name": "stderr",
     "output_type": "stream",
     "text": [
      "C:\\Users\\kdeep\\anaconda3\\Lib\\site-packages\\xgboost\\core.py:158: UserWarning: [09:36:14] WARNING: C:\\buildkite-agent\\builds\\buildkite-windows-cpu-autoscaling-group-i-0015a694724fa8361-1\\xgboost\\xgboost-ci-windows\\src\\learner.cc:740: \n",
      "Parameters: { \"use_label_encoder\" } are not used.\n",
      "\n",
      "  warnings.warn(smsg, UserWarning)\n"
     ]
    },
    {
     "name": "stdout",
     "output_type": "stream",
     "text": [
      "Precision: 0.6, Recall: 0.75, Accuracy: 0.6666666666666666\n"
     ]
    },
    {
     "name": "stderr",
     "output_type": "stream",
     "text": [
      "C:\\Users\\kdeep\\anaconda3\\Lib\\site-packages\\xgboost\\core.py:158: UserWarning: [09:36:15] WARNING: C:\\buildkite-agent\\builds\\buildkite-windows-cpu-autoscaling-group-i-0015a694724fa8361-1\\xgboost\\xgboost-ci-windows\\src\\learner.cc:740: \n",
      "Parameters: { \"use_label_encoder\" } are not used.\n",
      "\n",
      "  warnings.warn(smsg, UserWarning)\n"
     ]
    },
    {
     "name": "stdout",
     "output_type": "stream",
     "text": [
      "Precision: 0.8, Recall: 1.0, Accuracy: 0.8888888888888888\n"
     ]
    },
    {
     "name": "stderr",
     "output_type": "stream",
     "text": [
      "C:\\Users\\kdeep\\anaconda3\\Lib\\site-packages\\xgboost\\core.py:158: UserWarning: [09:36:15] WARNING: C:\\buildkite-agent\\builds\\buildkite-windows-cpu-autoscaling-group-i-0015a694724fa8361-1\\xgboost\\xgboost-ci-windows\\src\\learner.cc:740: \n",
      "Parameters: { \"use_label_encoder\" } are not used.\n",
      "\n",
      "  warnings.warn(smsg, UserWarning)\n"
     ]
    },
    {
     "name": "stdout",
     "output_type": "stream",
     "text": [
      "Precision: 0.5, Recall: 0.75, Accuracy: 0.5555555555555556\n",
      "Results to be written: eta=0.3, depth=5, dim=200, eps=0.5, (42.3, 42.3, 4.7, 4.7, 0.7922222222222222, 0.7499999999999999, 0.7300000000000001, 151008, 0.6911272199475206, 0.005969859877514298)\n",
      "eta=0.3, depth=7, dim=0, eps=0.1\n",
      "Number of flaky documents: 47\n",
      "Number of non-flaky documents: 47\n",
      "Total number of documents: 94\n",
      "Sample document: # Copyright 2021 The NetKet Authors - All rights reserved.\n",
      "#\n",
      "# Licensed under the Apache License, Version 2.0 (the \"License\");\n",
      "# you may not use this file except in compliance with the License.\n",
      "# You may obtain a copy of the License at\n",
      "#\n",
      "#    http://www.apache.org/licenses/LICENSE-2.0\n",
      "#\n",
      "# Unless required by applicable law or agreed to in writing, software\n",
      "# distributed under the License is distributed on an \"AS IS\" BASIS,\n",
      "# WITHOUT WARRANTIES OR CONDITIONS OF ANY KIND, either express or implied.\n",
      "# See the License for the specific language governing permissions and\n",
      "# limitations under the License.\n",
      "\n",
      "import dataclasses\n",
      "import abc\n",
      "\n",
      "from flax.core import freeze\n",
      "\n",
      "\n",
      "@dataclasses.dataclass(frozen=True)\n",
      "class ModuleFramework(abc.ABC):\n",
      "    @staticmethod\n",
      "    @abc.abstractmethod\n",
      "    def is_loaded() -> bool:\n",
      "        pass\n",
      "\n",
      "    @staticmethod\n",
      "    @abc.abstractmethod\n",
      "    def is_my_module(module):\n",
      "        pass\n",
      "\n",
      "    @staticmethod\n",
      "    @abc.abstractmethod\n",
      "    def wrap(module):\n",
      "        return module\n",
      "\n",
      "    @staticmethod\n",
      "    def wrap_params(variables):\n",
      "        return freeze({\"params\": variables})\n",
      "\n",
      "    @staticmethod\n",
      "    @abc.abstractmethod\n",
      "    def unwrap_params(wrapped_variables):\n",
      "        return wrapped_variables\n",
      "\n",
      "\n",
      "registered_frameworks = []\n",
      "\n",
      "\n",
      "def framework(clz):\n",
      "    \"\"\"\n",
      "    Registers a framework and it's wrapper methods to make it\n",
      "    behave like a flax framework.\n",
      "    \"\"\"\n",
      "    clz = dataclasses.dataclass(frozen=True)(clz)\n",
      "    registered_frameworks.append(clz)\n",
      "    return clz\n",
      "\n",
      "\n",
      "@dataclasses.dataclass(frozen=True)\n",
      "class UnknownFramework(ModuleFramework):\n",
      "    name: str = \"Unknown\"\n",
      "\n",
      "    @staticmethod\n",
      "    def is_loaded() -> bool:\n",
      "        return True\n",
      "\n",
      "    @staticmethod\n",
      "    def is_my_module(module):\n",
      "        return False\n",
      "\n",
      "    @staticmethod\n",
      "    def wrap(module):\n",
      "        return module\n",
      "\n",
      "    @staticmethod\n",
      "    def unwrap_params(wrapped_variables):\n",
      "        return wrapped_variables\n",
      "\n",
      "\n",
      "def identify_framework(module):\n",
      "    for _framework in registered_frameworks:\n",
      "        if _framework.is_my_module(module):\n",
      "            return _framework\n",
      "\n",
      "    return UnknownFramework\n",
      "\n",
      "\n",
      "def maybe_wrap_module(module):\n",
      "    \"\"\"\n",
      "    Passing a module from an unknown framework (might be user defined module, a jax\n",
      "    module, flax or haiku or anything else really), attempt to identify what is the\n",
      "    package/framework it comes from, and if so it correctly wraps it in order to\n",
      "    make it behave like a flax module (our default).\n",
      "\n",
      "    Also returns a function used to unpack the parameters once we are done.\n",
      "    \"\"\"\n",
      "    framewrk = identify_framework(module)\n",
      "\n",
      "    return framewrk, framewrk.wrap(module)\n"
     ]
    },
    {
     "name": "stderr",
     "output_type": "stream",
     "text": [
      "C:\\Users\\kdeep\\anaconda3\\Lib\\site-packages\\xgboost\\core.py:158: UserWarning: [09:36:18] WARNING: C:\\buildkite-agent\\builds\\buildkite-windows-cpu-autoscaling-group-i-0015a694724fa8361-1\\xgboost\\xgboost-ci-windows\\src\\learner.cc:740: \n",
      "Parameters: { \"use_label_encoder\" } are not used.\n",
      "\n",
      "  warnings.warn(smsg, UserWarning)\n"
     ]
    },
    {
     "name": "stdout",
     "output_type": "stream",
     "text": [
      "Precision: 0.6666666666666666, Recall: 0.4, Accuracy: 0.6\n"
     ]
    },
    {
     "name": "stderr",
     "output_type": "stream",
     "text": [
      "C:\\Users\\kdeep\\anaconda3\\Lib\\site-packages\\xgboost\\core.py:158: UserWarning: [09:36:19] WARNING: C:\\buildkite-agent\\builds\\buildkite-windows-cpu-autoscaling-group-i-0015a694724fa8361-1\\xgboost\\xgboost-ci-windows\\src\\learner.cc:740: \n",
      "Parameters: { \"use_label_encoder\" } are not used.\n",
      "\n",
      "  warnings.warn(smsg, UserWarning)\n"
     ]
    },
    {
     "name": "stdout",
     "output_type": "stream",
     "text": [
      "Precision: 0.5714285714285714, Recall: 0.8, Accuracy: 0.6\n"
     ]
    },
    {
     "name": "stderr",
     "output_type": "stream",
     "text": [
      "C:\\Users\\kdeep\\anaconda3\\Lib\\site-packages\\xgboost\\core.py:158: UserWarning: [09:36:20] WARNING: C:\\buildkite-agent\\builds\\buildkite-windows-cpu-autoscaling-group-i-0015a694724fa8361-1\\xgboost\\xgboost-ci-windows\\src\\learner.cc:740: \n",
      "Parameters: { \"use_label_encoder\" } are not used.\n",
      "\n",
      "  warnings.warn(smsg, UserWarning)\n"
     ]
    },
    {
     "name": "stdout",
     "output_type": "stream",
     "text": [
      "Precision: 1.0, Recall: 1.0, Accuracy: 1.0\n"
     ]
    },
    {
     "name": "stderr",
     "output_type": "stream",
     "text": [
      "C:\\Users\\kdeep\\anaconda3\\Lib\\site-packages\\xgboost\\core.py:158: UserWarning: [09:36:21] WARNING: C:\\buildkite-agent\\builds\\buildkite-windows-cpu-autoscaling-group-i-0015a694724fa8361-1\\xgboost\\xgboost-ci-windows\\src\\learner.cc:740: \n",
      "Parameters: { \"use_label_encoder\" } are not used.\n",
      "\n",
      "  warnings.warn(smsg, UserWarning)\n"
     ]
    },
    {
     "name": "stdout",
     "output_type": "stream",
     "text": [
      "Precision: 0.8, Recall: 0.8, Accuracy: 0.8\n"
     ]
    },
    {
     "name": "stderr",
     "output_type": "stream",
     "text": [
      "C:\\Users\\kdeep\\anaconda3\\Lib\\site-packages\\xgboost\\core.py:158: UserWarning: [09:36:22] WARNING: C:\\buildkite-agent\\builds\\buildkite-windows-cpu-autoscaling-group-i-0015a694724fa8361-1\\xgboost\\xgboost-ci-windows\\src\\learner.cc:740: \n",
      "Parameters: { \"use_label_encoder\" } are not used.\n",
      "\n",
      "  warnings.warn(smsg, UserWarning)\n"
     ]
    },
    {
     "name": "stdout",
     "output_type": "stream",
     "text": [
      "Precision: 1.0, Recall: 0.4, Accuracy: 0.6666666666666666\n"
     ]
    },
    {
     "name": "stderr",
     "output_type": "stream",
     "text": [
      "C:\\Users\\kdeep\\anaconda3\\Lib\\site-packages\\xgboost\\core.py:158: UserWarning: [09:36:23] WARNING: C:\\buildkite-agent\\builds\\buildkite-windows-cpu-autoscaling-group-i-0015a694724fa8361-1\\xgboost\\xgboost-ci-windows\\src\\learner.cc:740: \n",
      "Parameters: { \"use_label_encoder\" } are not used.\n",
      "\n",
      "  warnings.warn(smsg, UserWarning)\n"
     ]
    },
    {
     "name": "stdout",
     "output_type": "stream",
     "text": [
      "Precision: 0.5555555555555556, Recall: 1.0, Accuracy: 0.5555555555555556\n"
     ]
    },
    {
     "name": "stderr",
     "output_type": "stream",
     "text": [
      "C:\\Users\\kdeep\\anaconda3\\Lib\\site-packages\\xgboost\\core.py:158: UserWarning: [09:36:24] WARNING: C:\\buildkite-agent\\builds\\buildkite-windows-cpu-autoscaling-group-i-0015a694724fa8361-1\\xgboost\\xgboost-ci-windows\\src\\learner.cc:740: \n",
      "Parameters: { \"use_label_encoder\" } are not used.\n",
      "\n",
      "  warnings.warn(smsg, UserWarning)\n"
     ]
    },
    {
     "name": "stdout",
     "output_type": "stream",
     "text": [
      "Precision: 0.5, Recall: 0.6, Accuracy: 0.4444444444444444\n"
     ]
    },
    {
     "name": "stderr",
     "output_type": "stream",
     "text": [
      "C:\\Users\\kdeep\\anaconda3\\Lib\\site-packages\\xgboost\\core.py:158: UserWarning: [09:36:25] WARNING: C:\\buildkite-agent\\builds\\buildkite-windows-cpu-autoscaling-group-i-0015a694724fa8361-1\\xgboost\\xgboost-ci-windows\\src\\learner.cc:740: \n",
      "Parameters: { \"use_label_encoder\" } are not used.\n",
      "\n",
      "  warnings.warn(smsg, UserWarning)\n"
     ]
    },
    {
     "name": "stdout",
     "output_type": "stream",
     "text": [
      "Precision: 0.6666666666666666, Recall: 1.0, Accuracy: 0.7777777777777778\n"
     ]
    },
    {
     "name": "stderr",
     "output_type": "stream",
     "text": [
      "C:\\Users\\kdeep\\anaconda3\\Lib\\site-packages\\xgboost\\core.py:158: UserWarning: [09:36:25] WARNING: C:\\buildkite-agent\\builds\\buildkite-windows-cpu-autoscaling-group-i-0015a694724fa8361-1\\xgboost\\xgboost-ci-windows\\src\\learner.cc:740: \n",
      "Parameters: { \"use_label_encoder\" } are not used.\n",
      "\n",
      "  warnings.warn(smsg, UserWarning)\n"
     ]
    },
    {
     "name": "stdout",
     "output_type": "stream",
     "text": [
      "Precision: 0.6666666666666666, Recall: 0.5, Accuracy: 0.6666666666666666\n"
     ]
    },
    {
     "name": "stderr",
     "output_type": "stream",
     "text": [
      "C:\\Users\\kdeep\\anaconda3\\Lib\\site-packages\\xgboost\\core.py:158: UserWarning: [09:36:26] WARNING: C:\\buildkite-agent\\builds\\buildkite-windows-cpu-autoscaling-group-i-0015a694724fa8361-1\\xgboost\\xgboost-ci-windows\\src\\learner.cc:740: \n",
      "Parameters: { \"use_label_encoder\" } are not used.\n",
      "\n",
      "  warnings.warn(smsg, UserWarning)\n"
     ]
    },
    {
     "name": "stdout",
     "output_type": "stream",
     "text": [
      "Precision: 0.3333333333333333, Recall: 0.25, Accuracy: 0.4444444444444444\n",
      "Results to be written: eta=0.3, depth=7, dim=0, eps=0.1, (42.3, 42.3, 4.7, 4.7, 0.676031746031746, 0.675, 0.6555555555555557, 2928897, 3.1247150500305, 0.02637735662790594)\n",
      "eta=0.3, depth=7, dim=0, eps=0.3\n",
      "Number of flaky documents: 47\n",
      "Number of non-flaky documents: 47\n",
      "Total number of documents: 94\n",
      "Sample document: # Copyright 2021 The NetKet Authors - All rights reserved.\n",
      "#\n",
      "# Licensed under the Apache License, Version 2.0 (the \"License\");\n",
      "# you may not use this file except in compliance with the License.\n",
      "# You may obtain a copy of the License at\n",
      "#\n",
      "#    http://www.apache.org/licenses/LICENSE-2.0\n",
      "#\n",
      "# Unless required by applicable law or agreed to in writing, software\n",
      "# distributed under the License is distributed on an \"AS IS\" BASIS,\n",
      "# WITHOUT WARRANTIES OR CONDITIONS OF ANY KIND, either express or implied.\n",
      "# See the License for the specific language governing permissions and\n",
      "# limitations under the License.\n",
      "\n",
      "import dataclasses\n",
      "import abc\n",
      "\n",
      "from flax.core import freeze\n",
      "\n",
      "\n",
      "@dataclasses.dataclass(frozen=True)\n",
      "class ModuleFramework(abc.ABC):\n",
      "    @staticmethod\n",
      "    @abc.abstractmethod\n",
      "    def is_loaded() -> bool:\n",
      "        pass\n",
      "\n",
      "    @staticmethod\n",
      "    @abc.abstractmethod\n",
      "    def is_my_module(module):\n",
      "        pass\n",
      "\n",
      "    @staticmethod\n",
      "    @abc.abstractmethod\n",
      "    def wrap(module):\n",
      "        return module\n",
      "\n",
      "    @staticmethod\n",
      "    def wrap_params(variables):\n",
      "        return freeze({\"params\": variables})\n",
      "\n",
      "    @staticmethod\n",
      "    @abc.abstractmethod\n",
      "    def unwrap_params(wrapped_variables):\n",
      "        return wrapped_variables\n",
      "\n",
      "\n",
      "registered_frameworks = []\n",
      "\n",
      "\n",
      "def framework(clz):\n",
      "    \"\"\"\n",
      "    Registers a framework and it's wrapper methods to make it\n",
      "    behave like a flax framework.\n",
      "    \"\"\"\n",
      "    clz = dataclasses.dataclass(frozen=True)(clz)\n",
      "    registered_frameworks.append(clz)\n",
      "    return clz\n",
      "\n",
      "\n",
      "@dataclasses.dataclass(frozen=True)\n",
      "class UnknownFramework(ModuleFramework):\n",
      "    name: str = \"Unknown\"\n",
      "\n",
      "    @staticmethod\n",
      "    def is_loaded() -> bool:\n",
      "        return True\n",
      "\n",
      "    @staticmethod\n",
      "    def is_my_module(module):\n",
      "        return False\n",
      "\n",
      "    @staticmethod\n",
      "    def wrap(module):\n",
      "        return module\n",
      "\n",
      "    @staticmethod\n",
      "    def unwrap_params(wrapped_variables):\n",
      "        return wrapped_variables\n",
      "\n",
      "\n",
      "def identify_framework(module):\n",
      "    for _framework in registered_frameworks:\n",
      "        if _framework.is_my_module(module):\n",
      "            return _framework\n",
      "\n",
      "    return UnknownFramework\n",
      "\n",
      "\n",
      "def maybe_wrap_module(module):\n",
      "    \"\"\"\n",
      "    Passing a module from an unknown framework (might be user defined module, a jax\n",
      "    module, flax or haiku or anything else really), attempt to identify what is the\n",
      "    package/framework it comes from, and if so it correctly wraps it in order to\n",
      "    make it behave like a flax module (our default).\n",
      "\n",
      "    Also returns a function used to unpack the parameters once we are done.\n",
      "    \"\"\"\n",
      "    framewrk = identify_framework(module)\n",
      "\n",
      "    return framewrk, framewrk.wrap(module)\n"
     ]
    },
    {
     "name": "stderr",
     "output_type": "stream",
     "text": [
      "C:\\Users\\kdeep\\anaconda3\\Lib\\site-packages\\xgboost\\core.py:158: UserWarning: [09:36:28] WARNING: C:\\buildkite-agent\\builds\\buildkite-windows-cpu-autoscaling-group-i-0015a694724fa8361-1\\xgboost\\xgboost-ci-windows\\src\\learner.cc:740: \n",
      "Parameters: { \"use_label_encoder\" } are not used.\n",
      "\n",
      "  warnings.warn(smsg, UserWarning)\n"
     ]
    },
    {
     "name": "stdout",
     "output_type": "stream",
     "text": [
      "Precision: 1.0, Recall: 0.2, Accuracy: 0.6\n"
     ]
    },
    {
     "name": "stderr",
     "output_type": "stream",
     "text": [
      "C:\\Users\\kdeep\\anaconda3\\Lib\\site-packages\\xgboost\\core.py:158: UserWarning: [09:36:28] WARNING: C:\\buildkite-agent\\builds\\buildkite-windows-cpu-autoscaling-group-i-0015a694724fa8361-1\\xgboost\\xgboost-ci-windows\\src\\learner.cc:740: \n",
      "Parameters: { \"use_label_encoder\" } are not used.\n",
      "\n",
      "  warnings.warn(smsg, UserWarning)\n"
     ]
    },
    {
     "name": "stdout",
     "output_type": "stream",
     "text": [
      "Precision: 0.8, Recall: 0.8, Accuracy: 0.8\n"
     ]
    },
    {
     "name": "stderr",
     "output_type": "stream",
     "text": [
      "C:\\Users\\kdeep\\anaconda3\\Lib\\site-packages\\xgboost\\core.py:158: UserWarning: [09:36:28] WARNING: C:\\buildkite-agent\\builds\\buildkite-windows-cpu-autoscaling-group-i-0015a694724fa8361-1\\xgboost\\xgboost-ci-windows\\src\\learner.cc:740: \n",
      "Parameters: { \"use_label_encoder\" } are not used.\n",
      "\n",
      "  warnings.warn(smsg, UserWarning)\n"
     ]
    },
    {
     "name": "stdout",
     "output_type": "stream",
     "text": [
      "Precision: 1.0, Recall: 1.0, Accuracy: 1.0\n"
     ]
    },
    {
     "name": "stderr",
     "output_type": "stream",
     "text": [
      "C:\\Users\\kdeep\\anaconda3\\Lib\\site-packages\\xgboost\\core.py:158: UserWarning: [09:36:29] WARNING: C:\\buildkite-agent\\builds\\buildkite-windows-cpu-autoscaling-group-i-0015a694724fa8361-1\\xgboost\\xgboost-ci-windows\\src\\learner.cc:740: \n",
      "Parameters: { \"use_label_encoder\" } are not used.\n",
      "\n",
      "  warnings.warn(smsg, UserWarning)\n"
     ]
    },
    {
     "name": "stdout",
     "output_type": "stream",
     "text": [
      "Precision: 1.0, Recall: 1.0, Accuracy: 1.0\n"
     ]
    },
    {
     "name": "stderr",
     "output_type": "stream",
     "text": [
      "C:\\Users\\kdeep\\anaconda3\\Lib\\site-packages\\xgboost\\core.py:158: UserWarning: [09:36:29] WARNING: C:\\buildkite-agent\\builds\\buildkite-windows-cpu-autoscaling-group-i-0015a694724fa8361-1\\xgboost\\xgboost-ci-windows\\src\\learner.cc:740: \n",
      "Parameters: { \"use_label_encoder\" } are not used.\n",
      "\n",
      "  warnings.warn(smsg, UserWarning)\n"
     ]
    },
    {
     "name": "stdout",
     "output_type": "stream",
     "text": [
      "Precision: 1.0, Recall: 0.4, Accuracy: 0.6666666666666666\n"
     ]
    },
    {
     "name": "stderr",
     "output_type": "stream",
     "text": [
      "C:\\Users\\kdeep\\anaconda3\\Lib\\site-packages\\xgboost\\core.py:158: UserWarning: [09:36:29] WARNING: C:\\buildkite-agent\\builds\\buildkite-windows-cpu-autoscaling-group-i-0015a694724fa8361-1\\xgboost\\xgboost-ci-windows\\src\\learner.cc:740: \n",
      "Parameters: { \"use_label_encoder\" } are not used.\n",
      "\n",
      "  warnings.warn(smsg, UserWarning)\n"
     ]
    },
    {
     "name": "stdout",
     "output_type": "stream",
     "text": [
      "Precision: 0.6666666666666666, Recall: 0.8, Accuracy: 0.6666666666666666\n"
     ]
    },
    {
     "name": "stderr",
     "output_type": "stream",
     "text": [
      "C:\\Users\\kdeep\\anaconda3\\Lib\\site-packages\\xgboost\\core.py:158: UserWarning: [09:36:29] WARNING: C:\\buildkite-agent\\builds\\buildkite-windows-cpu-autoscaling-group-i-0015a694724fa8361-1\\xgboost\\xgboost-ci-windows\\src\\learner.cc:740: \n",
      "Parameters: { \"use_label_encoder\" } are not used.\n",
      "\n",
      "  warnings.warn(smsg, UserWarning)\n"
     ]
    },
    {
     "name": "stdout",
     "output_type": "stream",
     "text": [
      "Precision: 0.7142857142857143, Recall: 1.0, Accuracy: 0.7777777777777778\n"
     ]
    },
    {
     "name": "stderr",
     "output_type": "stream",
     "text": [
      "C:\\Users\\kdeep\\anaconda3\\Lib\\site-packages\\xgboost\\core.py:158: UserWarning: [09:36:30] WARNING: C:\\buildkite-agent\\builds\\buildkite-windows-cpu-autoscaling-group-i-0015a694724fa8361-1\\xgboost\\xgboost-ci-windows\\src\\learner.cc:740: \n",
      "Parameters: { \"use_label_encoder\" } are not used.\n",
      "\n",
      "  warnings.warn(smsg, UserWarning)\n"
     ]
    },
    {
     "name": "stdout",
     "output_type": "stream",
     "text": [
      "Precision: 1.0, Recall: 1.0, Accuracy: 1.0\n"
     ]
    },
    {
     "name": "stderr",
     "output_type": "stream",
     "text": [
      "C:\\Users\\kdeep\\anaconda3\\Lib\\site-packages\\xgboost\\core.py:158: UserWarning: [09:36:30] WARNING: C:\\buildkite-agent\\builds\\buildkite-windows-cpu-autoscaling-group-i-0015a694724fa8361-1\\xgboost\\xgboost-ci-windows\\src\\learner.cc:740: \n",
      "Parameters: { \"use_label_encoder\" } are not used.\n",
      "\n",
      "  warnings.warn(smsg, UserWarning)\n"
     ]
    },
    {
     "name": "stdout",
     "output_type": "stream",
     "text": [
      "Precision: 0.8, Recall: 1.0, Accuracy: 0.8888888888888888\n"
     ]
    },
    {
     "name": "stderr",
     "output_type": "stream",
     "text": [
      "C:\\Users\\kdeep\\anaconda3\\Lib\\site-packages\\xgboost\\core.py:158: UserWarning: [09:36:30] WARNING: C:\\buildkite-agent\\builds\\buildkite-windows-cpu-autoscaling-group-i-0015a694724fa8361-1\\xgboost\\xgboost-ci-windows\\src\\learner.cc:740: \n",
      "Parameters: { \"use_label_encoder\" } are not used.\n",
      "\n",
      "  warnings.warn(smsg, UserWarning)\n"
     ]
    },
    {
     "name": "stdout",
     "output_type": "stream",
     "text": [
      "Precision: 0.6, Recall: 0.75, Accuracy: 0.6666666666666666\n",
      "Results to be written: eta=0.3, depth=7, dim=0, eps=0.3, (42.3, 42.3, 4.7, 4.7, 0.858095238095238, 0.795, 0.8066666666666666, 379617, 0.7918125799973493, 0.006845906220792615)\n",
      "eta=0.3, depth=7, dim=0, eps=0.5\n",
      "Number of flaky documents: 47\n",
      "Number of non-flaky documents: 47\n",
      "Total number of documents: 94\n",
      "Sample document: # Copyright 2021 The NetKet Authors - All rights reserved.\n",
      "#\n",
      "# Licensed under the Apache License, Version 2.0 (the \"License\");\n",
      "# you may not use this file except in compliance with the License.\n",
      "# You may obtain a copy of the License at\n",
      "#\n",
      "#    http://www.apache.org/licenses/LICENSE-2.0\n",
      "#\n",
      "# Unless required by applicable law or agreed to in writing, software\n",
      "# distributed under the License is distributed on an \"AS IS\" BASIS,\n",
      "# WITHOUT WARRANTIES OR CONDITIONS OF ANY KIND, either express or implied.\n",
      "# See the License for the specific language governing permissions and\n",
      "# limitations under the License.\n",
      "\n",
      "import dataclasses\n",
      "import abc\n",
      "\n",
      "from flax.core import freeze\n",
      "\n",
      "\n",
      "@dataclasses.dataclass(frozen=True)\n",
      "class ModuleFramework(abc.ABC):\n",
      "    @staticmethod\n",
      "    @abc.abstractmethod\n",
      "    def is_loaded() -> bool:\n",
      "        pass\n",
      "\n",
      "    @staticmethod\n",
      "    @abc.abstractmethod\n",
      "    def is_my_module(module):\n",
      "        pass\n",
      "\n",
      "    @staticmethod\n",
      "    @abc.abstractmethod\n",
      "    def wrap(module):\n",
      "        return module\n",
      "\n",
      "    @staticmethod\n",
      "    def wrap_params(variables):\n",
      "        return freeze({\"params\": variables})\n",
      "\n",
      "    @staticmethod\n",
      "    @abc.abstractmethod\n",
      "    def unwrap_params(wrapped_variables):\n",
      "        return wrapped_variables\n",
      "\n",
      "\n",
      "registered_frameworks = []\n",
      "\n",
      "\n",
      "def framework(clz):\n",
      "    \"\"\"\n",
      "    Registers a framework and it's wrapper methods to make it\n",
      "    behave like a flax framework.\n",
      "    \"\"\"\n",
      "    clz = dataclasses.dataclass(frozen=True)(clz)\n",
      "    registered_frameworks.append(clz)\n",
      "    return clz\n",
      "\n",
      "\n",
      "@dataclasses.dataclass(frozen=True)\n",
      "class UnknownFramework(ModuleFramework):\n",
      "    name: str = \"Unknown\"\n",
      "\n",
      "    @staticmethod\n",
      "    def is_loaded() -> bool:\n",
      "        return True\n",
      "\n",
      "    @staticmethod\n",
      "    def is_my_module(module):\n",
      "        return False\n",
      "\n",
      "    @staticmethod\n",
      "    def wrap(module):\n",
      "        return module\n",
      "\n",
      "    @staticmethod\n",
      "    def unwrap_params(wrapped_variables):\n",
      "        return wrapped_variables\n",
      "\n",
      "\n",
      "def identify_framework(module):\n",
      "    for _framework in registered_frameworks:\n",
      "        if _framework.is_my_module(module):\n",
      "            return _framework\n",
      "\n",
      "    return UnknownFramework\n",
      "\n",
      "\n",
      "def maybe_wrap_module(module):\n",
      "    \"\"\"\n",
      "    Passing a module from an unknown framework (might be user defined module, a jax\n",
      "    module, flax or haiku or anything else really), attempt to identify what is the\n",
      "    package/framework it comes from, and if so it correctly wraps it in order to\n",
      "    make it behave like a flax module (our default).\n",
      "\n",
      "    Also returns a function used to unpack the parameters once we are done.\n",
      "    \"\"\"\n",
      "    framewrk = identify_framework(module)\n",
      "\n",
      "    return framewrk, framewrk.wrap(module)\n"
     ]
    },
    {
     "name": "stderr",
     "output_type": "stream",
     "text": [
      "C:\\Users\\kdeep\\anaconda3\\Lib\\site-packages\\xgboost\\core.py:158: UserWarning: [09:36:31] WARNING: C:\\buildkite-agent\\builds\\buildkite-windows-cpu-autoscaling-group-i-0015a694724fa8361-1\\xgboost\\xgboost-ci-windows\\src\\learner.cc:740: \n",
      "Parameters: { \"use_label_encoder\" } are not used.\n",
      "\n",
      "  warnings.warn(smsg, UserWarning)\n",
      "C:\\Users\\kdeep\\anaconda3\\Lib\\site-packages\\xgboost\\core.py:158: UserWarning: [09:36:31] WARNING: C:\\buildkite-agent\\builds\\buildkite-windows-cpu-autoscaling-group-i-0015a694724fa8361-1\\xgboost\\xgboost-ci-windows\\src\\learner.cc:740: \n",
      "Parameters: { \"use_label_encoder\" } are not used.\n",
      "\n",
      "  warnings.warn(smsg, UserWarning)\n"
     ]
    },
    {
     "name": "stdout",
     "output_type": "stream",
     "text": [
      "Precision: 0.8, Recall: 0.8, Accuracy: 0.8\n",
      "Precision: 0.75, Recall: 0.6, Accuracy: 0.7\n",
      "Precision: 1.0, Recall: 1.0, Accuracy: 1.0\n"
     ]
    },
    {
     "name": "stderr",
     "output_type": "stream",
     "text": [
      "C:\\Users\\kdeep\\anaconda3\\Lib\\site-packages\\xgboost\\core.py:158: UserWarning: [09:36:31] WARNING: C:\\buildkite-agent\\builds\\buildkite-windows-cpu-autoscaling-group-i-0015a694724fa8361-1\\xgboost\\xgboost-ci-windows\\src\\learner.cc:740: \n",
      "Parameters: { \"use_label_encoder\" } are not used.\n",
      "\n",
      "  warnings.warn(smsg, UserWarning)\n",
      "C:\\Users\\kdeep\\anaconda3\\Lib\\site-packages\\xgboost\\core.py:158: UserWarning: [09:36:31] WARNING: C:\\buildkite-agent\\builds\\buildkite-windows-cpu-autoscaling-group-i-0015a694724fa8361-1\\xgboost\\xgboost-ci-windows\\src\\learner.cc:740: \n",
      "Parameters: { \"use_label_encoder\" } are not used.\n",
      "\n",
      "  warnings.warn(smsg, UserWarning)\n"
     ]
    },
    {
     "name": "stdout",
     "output_type": "stream",
     "text": [
      "Precision: 0.8333333333333334, Recall: 1.0, Accuracy: 0.9\n",
      "Precision: 1.0, Recall: 0.4, Accuracy: 0.6666666666666666\n"
     ]
    },
    {
     "name": "stderr",
     "output_type": "stream",
     "text": [
      "C:\\Users\\kdeep\\anaconda3\\Lib\\site-packages\\xgboost\\core.py:158: UserWarning: [09:36:32] WARNING: C:\\buildkite-agent\\builds\\buildkite-windows-cpu-autoscaling-group-i-0015a694724fa8361-1\\xgboost\\xgboost-ci-windows\\src\\learner.cc:740: \n",
      "Parameters: { \"use_label_encoder\" } are not used.\n",
      "\n",
      "  warnings.warn(smsg, UserWarning)\n",
      "C:\\Users\\kdeep\\anaconda3\\Lib\\site-packages\\xgboost\\core.py:158: UserWarning: [09:36:32] WARNING: C:\\buildkite-agent\\builds\\buildkite-windows-cpu-autoscaling-group-i-0015a694724fa8361-1\\xgboost\\xgboost-ci-windows\\src\\learner.cc:740: \n",
      "Parameters: { \"use_label_encoder\" } are not used.\n",
      "\n",
      "  warnings.warn(smsg, UserWarning)\n",
      "C:\\Users\\kdeep\\anaconda3\\Lib\\site-packages\\xgboost\\core.py:158: UserWarning: [09:36:32] WARNING: C:\\buildkite-agent\\builds\\buildkite-windows-cpu-autoscaling-group-i-0015a694724fa8361-1\\xgboost\\xgboost-ci-windows\\src\\learner.cc:740: \n",
      "Parameters: { \"use_label_encoder\" } are not used.\n",
      "\n",
      "  warnings.warn(smsg, UserWarning)\n"
     ]
    },
    {
     "name": "stdout",
     "output_type": "stream",
     "text": [
      "Precision: 0.7142857142857143, Recall: 1.0, Accuracy: 0.7777777777777778\n",
      "Precision: 0.6666666666666666, Recall: 0.8, Accuracy: 0.6666666666666666\n"
     ]
    },
    {
     "name": "stderr",
     "output_type": "stream",
     "text": [
      "C:\\Users\\kdeep\\anaconda3\\Lib\\site-packages\\xgboost\\core.py:158: UserWarning: [09:36:32] WARNING: C:\\buildkite-agent\\builds\\buildkite-windows-cpu-autoscaling-group-i-0015a694724fa8361-1\\xgboost\\xgboost-ci-windows\\src\\learner.cc:740: \n",
      "Parameters: { \"use_label_encoder\" } are not used.\n",
      "\n",
      "  warnings.warn(smsg, UserWarning)\n"
     ]
    },
    {
     "name": "stdout",
     "output_type": "stream",
     "text": [
      "Precision: 0.8, Recall: 1.0, Accuracy: 0.8888888888888888\n",
      "Precision: 0.75, Recall: 0.75, Accuracy: 0.7777777777777778\n"
     ]
    },
    {
     "name": "stderr",
     "output_type": "stream",
     "text": [
      "C:\\Users\\kdeep\\anaconda3\\Lib\\site-packages\\xgboost\\core.py:158: UserWarning: [09:36:32] WARNING: C:\\buildkite-agent\\builds\\buildkite-windows-cpu-autoscaling-group-i-0015a694724fa8361-1\\xgboost\\xgboost-ci-windows\\src\\learner.cc:740: \n",
      "Parameters: { \"use_label_encoder\" } are not used.\n",
      "\n",
      "  warnings.warn(smsg, UserWarning)\n",
      "C:\\Users\\kdeep\\anaconda3\\Lib\\site-packages\\xgboost\\core.py:158: UserWarning: [09:36:33] WARNING: C:\\buildkite-agent\\builds\\buildkite-windows-cpu-autoscaling-group-i-0015a694724fa8361-1\\xgboost\\xgboost-ci-windows\\src\\learner.cc:740: \n",
      "Parameters: { \"use_label_encoder\" } are not used.\n",
      "\n",
      "  warnings.warn(smsg, UserWarning)\n"
     ]
    },
    {
     "name": "stdout",
     "output_type": "stream",
     "text": [
      "Precision: 0.5, Recall: 0.5, Accuracy: 0.5555555555555556\n",
      "Results to be written: eta=0.3, depth=7, dim=0, eps=0.5, (42.3, 42.3, 4.7, 4.7, 0.7814285714285714, 0.7849999999999999, 0.7733333333333333, 164544, 0.6068673900095747, 0.005258693165381398)\n",
      "eta=0.3, depth=7, dim=100, eps=0.1\n",
      "Number of flaky documents: 47\n",
      "Number of non-flaky documents: 47\n",
      "Total number of documents: 94\n",
      "Sample document: # Copyright 2021 The NetKet Authors - All rights reserved.\n",
      "#\n",
      "# Licensed under the Apache License, Version 2.0 (the \"License\");\n",
      "# you may not use this file except in compliance with the License.\n",
      "# You may obtain a copy of the License at\n",
      "#\n",
      "#    http://www.apache.org/licenses/LICENSE-2.0\n",
      "#\n",
      "# Unless required by applicable law or agreed to in writing, software\n",
      "# distributed under the License is distributed on an \"AS IS\" BASIS,\n",
      "# WITHOUT WARRANTIES OR CONDITIONS OF ANY KIND, either express or implied.\n",
      "# See the License for the specific language governing permissions and\n",
      "# limitations under the License.\n",
      "\n",
      "import dataclasses\n",
      "import abc\n",
      "\n",
      "from flax.core import freeze\n",
      "\n",
      "\n",
      "@dataclasses.dataclass(frozen=True)\n",
      "class ModuleFramework(abc.ABC):\n",
      "    @staticmethod\n",
      "    @abc.abstractmethod\n",
      "    def is_loaded() -> bool:\n",
      "        pass\n",
      "\n",
      "    @staticmethod\n",
      "    @abc.abstractmethod\n",
      "    def is_my_module(module):\n",
      "        pass\n",
      "\n",
      "    @staticmethod\n",
      "    @abc.abstractmethod\n",
      "    def wrap(module):\n",
      "        return module\n",
      "\n",
      "    @staticmethod\n",
      "    def wrap_params(variables):\n",
      "        return freeze({\"params\": variables})\n",
      "\n",
      "    @staticmethod\n",
      "    @abc.abstractmethod\n",
      "    def unwrap_params(wrapped_variables):\n",
      "        return wrapped_variables\n",
      "\n",
      "\n",
      "registered_frameworks = []\n",
      "\n",
      "\n",
      "def framework(clz):\n",
      "    \"\"\"\n",
      "    Registers a framework and it's wrapper methods to make it\n",
      "    behave like a flax framework.\n",
      "    \"\"\"\n",
      "    clz = dataclasses.dataclass(frozen=True)(clz)\n",
      "    registered_frameworks.append(clz)\n",
      "    return clz\n",
      "\n",
      "\n",
      "@dataclasses.dataclass(frozen=True)\n",
      "class UnknownFramework(ModuleFramework):\n",
      "    name: str = \"Unknown\"\n",
      "\n",
      "    @staticmethod\n",
      "    def is_loaded() -> bool:\n",
      "        return True\n",
      "\n",
      "    @staticmethod\n",
      "    def is_my_module(module):\n",
      "        return False\n",
      "\n",
      "    @staticmethod\n",
      "    def wrap(module):\n",
      "        return module\n",
      "\n",
      "    @staticmethod\n",
      "    def unwrap_params(wrapped_variables):\n",
      "        return wrapped_variables\n",
      "\n",
      "\n",
      "def identify_framework(module):\n",
      "    for _framework in registered_frameworks:\n",
      "        if _framework.is_my_module(module):\n",
      "            return _framework\n",
      "\n",
      "    return UnknownFramework\n",
      "\n",
      "\n",
      "def maybe_wrap_module(module):\n",
      "    \"\"\"\n",
      "    Passing a module from an unknown framework (might be user defined module, a jax\n",
      "    module, flax or haiku or anything else really), attempt to identify what is the\n",
      "    package/framework it comes from, and if so it correctly wraps it in order to\n",
      "    make it behave like a flax module (our default).\n",
      "\n",
      "    Also returns a function used to unpack the parameters once we are done.\n",
      "    \"\"\"\n",
      "    framewrk = identify_framework(module)\n",
      "\n",
      "    return framewrk, framewrk.wrap(module)\n"
     ]
    },
    {
     "name": "stderr",
     "output_type": "stream",
     "text": [
      "C:\\Users\\kdeep\\anaconda3\\Lib\\site-packages\\xgboost\\core.py:158: UserWarning: [09:36:33] WARNING: C:\\buildkite-agent\\builds\\buildkite-windows-cpu-autoscaling-group-i-0015a694724fa8361-1\\xgboost\\xgboost-ci-windows\\src\\learner.cc:740: \n",
      "Parameters: { \"use_label_encoder\" } are not used.\n",
      "\n",
      "  warnings.warn(smsg, UserWarning)\n",
      "C:\\Users\\kdeep\\anaconda3\\Lib\\site-packages\\xgboost\\core.py:158: UserWarning: [09:36:33] WARNING: C:\\buildkite-agent\\builds\\buildkite-windows-cpu-autoscaling-group-i-0015a694724fa8361-1\\xgboost\\xgboost-ci-windows\\src\\learner.cc:740: \n",
      "Parameters: { \"use_label_encoder\" } are not used.\n",
      "\n",
      "  warnings.warn(smsg, UserWarning)\n"
     ]
    },
    {
     "name": "stdout",
     "output_type": "stream",
     "text": [
      "Precision: 1.0, Recall: 0.4, Accuracy: 0.7\n",
      "Precision: 0.5714285714285714, Recall: 0.8, Accuracy: 0.6\n"
     ]
    },
    {
     "name": "stderr",
     "output_type": "stream",
     "text": [
      "C:\\Users\\kdeep\\anaconda3\\Lib\\site-packages\\xgboost\\core.py:158: UserWarning: [09:36:33] WARNING: C:\\buildkite-agent\\builds\\buildkite-windows-cpu-autoscaling-group-i-0015a694724fa8361-1\\xgboost\\xgboost-ci-windows\\src\\learner.cc:740: \n",
      "Parameters: { \"use_label_encoder\" } are not used.\n",
      "\n",
      "  warnings.warn(smsg, UserWarning)\n",
      "C:\\Users\\kdeep\\anaconda3\\Lib\\site-packages\\xgboost\\core.py:158: UserWarning: [09:36:34] WARNING: C:\\buildkite-agent\\builds\\buildkite-windows-cpu-autoscaling-group-i-0015a694724fa8361-1\\xgboost\\xgboost-ci-windows\\src\\learner.cc:740: \n",
      "Parameters: { \"use_label_encoder\" } are not used.\n",
      "\n",
      "  warnings.warn(smsg, UserWarning)\n"
     ]
    },
    {
     "name": "stdout",
     "output_type": "stream",
     "text": [
      "Precision: 0.8, Recall: 0.8, Accuracy: 0.8\n",
      "Precision: 1.0, Recall: 0.8, Accuracy: 0.9\n"
     ]
    },
    {
     "name": "stderr",
     "output_type": "stream",
     "text": [
      "C:\\Users\\kdeep\\anaconda3\\Lib\\site-packages\\xgboost\\core.py:158: UserWarning: [09:36:34] WARNING: C:\\buildkite-agent\\builds\\buildkite-windows-cpu-autoscaling-group-i-0015a694724fa8361-1\\xgboost\\xgboost-ci-windows\\src\\learner.cc:740: \n",
      "Parameters: { \"use_label_encoder\" } are not used.\n",
      "\n",
      "  warnings.warn(smsg, UserWarning)\n"
     ]
    },
    {
     "name": "stdout",
     "output_type": "stream",
     "text": [
      "Precision: 1.0, Recall: 0.6, Accuracy: 0.7777777777777778\n",
      "Precision: 0.5714285714285714, Recall: 0.8, Accuracy: 0.5555555555555556\n"
     ]
    },
    {
     "name": "stderr",
     "output_type": "stream",
     "text": [
      "C:\\Users\\kdeep\\anaconda3\\Lib\\site-packages\\xgboost\\core.py:158: UserWarning: [09:36:34] WARNING: C:\\buildkite-agent\\builds\\buildkite-windows-cpu-autoscaling-group-i-0015a694724fa8361-1\\xgboost\\xgboost-ci-windows\\src\\learner.cc:740: \n",
      "Parameters: { \"use_label_encoder\" } are not used.\n",
      "\n",
      "  warnings.warn(smsg, UserWarning)\n",
      "C:\\Users\\kdeep\\anaconda3\\Lib\\site-packages\\xgboost\\core.py:158: UserWarning: [09:36:34] WARNING: C:\\buildkite-agent\\builds\\buildkite-windows-cpu-autoscaling-group-i-0015a694724fa8361-1\\xgboost\\xgboost-ci-windows\\src\\learner.cc:740: \n",
      "Parameters: { \"use_label_encoder\" } are not used.\n",
      "\n",
      "  warnings.warn(smsg, UserWarning)\n"
     ]
    },
    {
     "name": "stdout",
     "output_type": "stream",
     "text": [
      "Precision: 0.75, Recall: 0.6, Accuracy: 0.6666666666666666\n",
      "Precision: 1.0, Recall: 1.0, Accuracy: 1.0\n"
     ]
    },
    {
     "name": "stderr",
     "output_type": "stream",
     "text": [
      "C:\\Users\\kdeep\\anaconda3\\Lib\\site-packages\\xgboost\\core.py:158: UserWarning: [09:36:34] WARNING: C:\\buildkite-agent\\builds\\buildkite-windows-cpu-autoscaling-group-i-0015a694724fa8361-1\\xgboost\\xgboost-ci-windows\\src\\learner.cc:740: \n",
      "Parameters: { \"use_label_encoder\" } are not used.\n",
      "\n",
      "  warnings.warn(smsg, UserWarning)\n",
      "C:\\Users\\kdeep\\anaconda3\\Lib\\site-packages\\xgboost\\core.py:158: UserWarning: [09:36:35] WARNING: C:\\buildkite-agent\\builds\\buildkite-windows-cpu-autoscaling-group-i-0015a694724fa8361-1\\xgboost\\xgboost-ci-windows\\src\\learner.cc:740: \n",
      "Parameters: { \"use_label_encoder\" } are not used.\n",
      "\n",
      "  warnings.warn(smsg, UserWarning)\n"
     ]
    },
    {
     "name": "stdout",
     "output_type": "stream",
     "text": [
      "Precision: 0.75, Recall: 0.75, Accuracy: 0.7777777777777778\n"
     ]
    },
    {
     "name": "stderr",
     "output_type": "stream",
     "text": [
      "C:\\Users\\kdeep\\anaconda3\\Lib\\site-packages\\xgboost\\core.py:158: UserWarning: [09:36:35] WARNING: C:\\buildkite-agent\\builds\\buildkite-windows-cpu-autoscaling-group-i-0015a694724fa8361-1\\xgboost\\xgboost-ci-windows\\src\\learner.cc:740: \n",
      "Parameters: { \"use_label_encoder\" } are not used.\n",
      "\n",
      "  warnings.warn(smsg, UserWarning)\n"
     ]
    },
    {
     "name": "stdout",
     "output_type": "stream",
     "text": [
      "Precision: 0.6, Recall: 0.75, Accuracy: 0.6666666666666666\n",
      "Results to be written: eta=0.3, depth=7, dim=100, eps=0.1, (42.3, 42.3, 4.7, 4.7, 0.8042857142857143, 0.73, 0.7444444444444445, 75808, 0.5549852300318889, 0.004998439819858594)\n",
      "eta=0.3, depth=7, dim=100, eps=0.3\n",
      "Number of flaky documents: 47\n",
      "Number of non-flaky documents: 47\n",
      "Total number of documents: 94\n",
      "Sample document: # Copyright 2021 The NetKet Authors - All rights reserved.\n",
      "#\n",
      "# Licensed under the Apache License, Version 2.0 (the \"License\");\n",
      "# you may not use this file except in compliance with the License.\n",
      "# You may obtain a copy of the License at\n",
      "#\n",
      "#    http://www.apache.org/licenses/LICENSE-2.0\n",
      "#\n",
      "# Unless required by applicable law or agreed to in writing, software\n",
      "# distributed under the License is distributed on an \"AS IS\" BASIS,\n",
      "# WITHOUT WARRANTIES OR CONDITIONS OF ANY KIND, either express or implied.\n",
      "# See the License for the specific language governing permissions and\n",
      "# limitations under the License.\n",
      "\n",
      "import dataclasses\n",
      "import abc\n",
      "\n",
      "from flax.core import freeze\n",
      "\n",
      "\n",
      "@dataclasses.dataclass(frozen=True)\n",
      "class ModuleFramework(abc.ABC):\n",
      "    @staticmethod\n",
      "    @abc.abstractmethod\n",
      "    def is_loaded() -> bool:\n",
      "        pass\n",
      "\n",
      "    @staticmethod\n",
      "    @abc.abstractmethod\n",
      "    def is_my_module(module):\n",
      "        pass\n",
      "\n",
      "    @staticmethod\n",
      "    @abc.abstractmethod\n",
      "    def wrap(module):\n",
      "        return module\n",
      "\n",
      "    @staticmethod\n",
      "    def wrap_params(variables):\n",
      "        return freeze({\"params\": variables})\n",
      "\n",
      "    @staticmethod\n",
      "    @abc.abstractmethod\n",
      "    def unwrap_params(wrapped_variables):\n",
      "        return wrapped_variables\n",
      "\n",
      "\n",
      "registered_frameworks = []\n",
      "\n",
      "\n",
      "def framework(clz):\n",
      "    \"\"\"\n",
      "    Registers a framework and it's wrapper methods to make it\n",
      "    behave like a flax framework.\n",
      "    \"\"\"\n",
      "    clz = dataclasses.dataclass(frozen=True)(clz)\n",
      "    registered_frameworks.append(clz)\n",
      "    return clz\n",
      "\n",
      "\n",
      "@dataclasses.dataclass(frozen=True)\n",
      "class UnknownFramework(ModuleFramework):\n",
      "    name: str = \"Unknown\"\n",
      "\n",
      "    @staticmethod\n",
      "    def is_loaded() -> bool:\n",
      "        return True\n",
      "\n",
      "    @staticmethod\n",
      "    def is_my_module(module):\n",
      "        return False\n",
      "\n",
      "    @staticmethod\n",
      "    def wrap(module):\n",
      "        return module\n",
      "\n",
      "    @staticmethod\n",
      "    def unwrap_params(wrapped_variables):\n",
      "        return wrapped_variables\n",
      "\n",
      "\n",
      "def identify_framework(module):\n",
      "    for _framework in registered_frameworks:\n",
      "        if _framework.is_my_module(module):\n",
      "            return _framework\n",
      "\n",
      "    return UnknownFramework\n",
      "\n",
      "\n",
      "def maybe_wrap_module(module):\n",
      "    \"\"\"\n",
      "    Passing a module from an unknown framework (might be user defined module, a jax\n",
      "    module, flax or haiku or anything else really), attempt to identify what is the\n",
      "    package/framework it comes from, and if so it correctly wraps it in order to\n",
      "    make it behave like a flax module (our default).\n",
      "\n",
      "    Also returns a function used to unpack the parameters once we are done.\n",
      "    \"\"\"\n",
      "    framewrk = identify_framework(module)\n",
      "\n",
      "    return framewrk, framewrk.wrap(module)\n"
     ]
    },
    {
     "name": "stderr",
     "output_type": "stream",
     "text": [
      "C:\\Users\\kdeep\\anaconda3\\Lib\\site-packages\\xgboost\\core.py:158: UserWarning: [09:36:35] WARNING: C:\\buildkite-agent\\builds\\buildkite-windows-cpu-autoscaling-group-i-0015a694724fa8361-1\\xgboost\\xgboost-ci-windows\\src\\learner.cc:740: \n",
      "Parameters: { \"use_label_encoder\" } are not used.\n",
      "\n",
      "  warnings.warn(smsg, UserWarning)\n",
      "C:\\Users\\kdeep\\anaconda3\\Lib\\site-packages\\xgboost\\core.py:158: UserWarning: [09:36:36] WARNING: C:\\buildkite-agent\\builds\\buildkite-windows-cpu-autoscaling-group-i-0015a694724fa8361-1\\xgboost\\xgboost-ci-windows\\src\\learner.cc:740: \n",
      "Parameters: { \"use_label_encoder\" } are not used.\n",
      "\n",
      "  warnings.warn(smsg, UserWarning)\n"
     ]
    },
    {
     "name": "stdout",
     "output_type": "stream",
     "text": [
      "Precision: 1.0, Recall: 0.6, Accuracy: 0.8\n",
      "Precision: 1.0, Recall: 0.8, Accuracy: 0.9\n"
     ]
    },
    {
     "name": "stderr",
     "output_type": "stream",
     "text": [
      "C:\\Users\\kdeep\\anaconda3\\Lib\\site-packages\\xgboost\\core.py:158: UserWarning: [09:36:36] WARNING: C:\\buildkite-agent\\builds\\buildkite-windows-cpu-autoscaling-group-i-0015a694724fa8361-1\\xgboost\\xgboost-ci-windows\\src\\learner.cc:740: \n",
      "Parameters: { \"use_label_encoder\" } are not used.\n",
      "\n",
      "  warnings.warn(smsg, UserWarning)\n"
     ]
    },
    {
     "name": "stdout",
     "output_type": "stream",
     "text": [
      "Precision: 1.0, Recall: 0.8, Accuracy: 0.9\n",
      "Precision: 1.0, Recall: 0.4, Accuracy: 0.7\n"
     ]
    },
    {
     "name": "stderr",
     "output_type": "stream",
     "text": [
      "C:\\Users\\kdeep\\anaconda3\\Lib\\site-packages\\xgboost\\core.py:158: UserWarning: [09:36:36] WARNING: C:\\buildkite-agent\\builds\\buildkite-windows-cpu-autoscaling-group-i-0015a694724fa8361-1\\xgboost\\xgboost-ci-windows\\src\\learner.cc:740: \n",
      "Parameters: { \"use_label_encoder\" } are not used.\n",
      "\n",
      "  warnings.warn(smsg, UserWarning)\n",
      "C:\\Users\\kdeep\\anaconda3\\Lib\\site-packages\\xgboost\\core.py:158: UserWarning: [09:36:36] WARNING: C:\\buildkite-agent\\builds\\buildkite-windows-cpu-autoscaling-group-i-0015a694724fa8361-1\\xgboost\\xgboost-ci-windows\\src\\learner.cc:740: \n",
      "Parameters: { \"use_label_encoder\" } are not used.\n",
      "\n",
      "  warnings.warn(smsg, UserWarning)\n"
     ]
    },
    {
     "name": "stdout",
     "output_type": "stream",
     "text": [
      "Precision: 1.0, Recall: 0.4, Accuracy: 0.6666666666666666\n",
      "Precision: 0.3333333333333333, Recall: 0.4, Accuracy: 0.2222222222222222\n"
     ]
    },
    {
     "name": "stderr",
     "output_type": "stream",
     "text": [
      "C:\\Users\\kdeep\\anaconda3\\Lib\\site-packages\\xgboost\\core.py:158: UserWarning: [09:36:36] WARNING: C:\\buildkite-agent\\builds\\buildkite-windows-cpu-autoscaling-group-i-0015a694724fa8361-1\\xgboost\\xgboost-ci-windows\\src\\learner.cc:740: \n",
      "Parameters: { \"use_label_encoder\" } are not used.\n",
      "\n",
      "  warnings.warn(smsg, UserWarning)\n",
      "C:\\Users\\kdeep\\anaconda3\\Lib\\site-packages\\xgboost\\core.py:158: UserWarning: [09:36:36] WARNING: C:\\buildkite-agent\\builds\\buildkite-windows-cpu-autoscaling-group-i-0015a694724fa8361-1\\xgboost\\xgboost-ci-windows\\src\\learner.cc:740: \n",
      "Parameters: { \"use_label_encoder\" } are not used.\n",
      "\n",
      "  warnings.warn(smsg, UserWarning)\n"
     ]
    },
    {
     "name": "stdout",
     "output_type": "stream",
     "text": [
      "Precision: 0.7142857142857143, Recall: 1.0, Accuracy: 0.7777777777777778\n",
      "Precision: 0.6666666666666666, Recall: 1.0, Accuracy: 0.7777777777777778\n"
     ]
    },
    {
     "name": "stderr",
     "output_type": "stream",
     "text": [
      "C:\\Users\\kdeep\\anaconda3\\Lib\\site-packages\\xgboost\\core.py:158: UserWarning: [09:36:37] WARNING: C:\\buildkite-agent\\builds\\buildkite-windows-cpu-autoscaling-group-i-0015a694724fa8361-1\\xgboost\\xgboost-ci-windows\\src\\learner.cc:740: \n",
      "Parameters: { \"use_label_encoder\" } are not used.\n",
      "\n",
      "  warnings.warn(smsg, UserWarning)\n",
      "C:\\Users\\kdeep\\anaconda3\\Lib\\site-packages\\xgboost\\core.py:158: UserWarning: [09:36:37] WARNING: C:\\buildkite-agent\\builds\\buildkite-windows-cpu-autoscaling-group-i-0015a694724fa8361-1\\xgboost\\xgboost-ci-windows\\src\\learner.cc:740: \n",
      "Parameters: { \"use_label_encoder\" } are not used.\n",
      "\n",
      "  warnings.warn(smsg, UserWarning)\n"
     ]
    },
    {
     "name": "stdout",
     "output_type": "stream",
     "text": [
      "Precision: 0.6666666666666666, Recall: 1.0, Accuracy: 0.7777777777777778\n",
      "Precision: 0.6666666666666666, Recall: 0.5, Accuracy: 0.6666666666666666\n",
      "Results to be written: eta=0.3, depth=7, dim=100, eps=0.3, (42.3, 42.3, 4.7, 4.7, 0.8047619047619048, 0.6900000000000001, 0.7188888888888888, 75808, 0.5293630100437442, 0.004522332397006655)\n",
      "eta=0.3, depth=7, dim=100, eps=0.5\n"
     ]
    },
    {
     "name": "stderr",
     "output_type": "stream",
     "text": [
      "C:\\Users\\kdeep\\anaconda3\\Lib\\site-packages\\xgboost\\core.py:158: UserWarning: [09:36:37] WARNING: C:\\buildkite-agent\\builds\\buildkite-windows-cpu-autoscaling-group-i-0015a694724fa8361-1\\xgboost\\xgboost-ci-windows\\src\\learner.cc:740: \n",
      "Parameters: { \"use_label_encoder\" } are not used.\n",
      "\n",
      "  warnings.warn(smsg, UserWarning)\n"
     ]
    },
    {
     "name": "stdout",
     "output_type": "stream",
     "text": [
      "Number of flaky documents: 47\n",
      "Number of non-flaky documents: 47\n",
      "Total number of documents: 94\n",
      "Sample document: # Copyright 2021 The NetKet Authors - All rights reserved.\n",
      "#\n",
      "# Licensed under the Apache License, Version 2.0 (the \"License\");\n",
      "# you may not use this file except in compliance with the License.\n",
      "# You may obtain a copy of the License at\n",
      "#\n",
      "#    http://www.apache.org/licenses/LICENSE-2.0\n",
      "#\n",
      "# Unless required by applicable law or agreed to in writing, software\n",
      "# distributed under the License is distributed on an \"AS IS\" BASIS,\n",
      "# WITHOUT WARRANTIES OR CONDITIONS OF ANY KIND, either express or implied.\n",
      "# See the License for the specific language governing permissions and\n",
      "# limitations under the License.\n",
      "\n",
      "import dataclasses\n",
      "import abc\n",
      "\n",
      "from flax.core import freeze\n",
      "\n",
      "\n",
      "@dataclasses.dataclass(frozen=True)\n",
      "class ModuleFramework(abc.ABC):\n",
      "    @staticmethod\n",
      "    @abc.abstractmethod\n",
      "    def is_loaded() -> bool:\n",
      "        pass\n",
      "\n",
      "    @staticmethod\n",
      "    @abc.abstractmethod\n",
      "    def is_my_module(module):\n",
      "        pass\n",
      "\n",
      "    @staticmethod\n",
      "    @abc.abstractmethod\n",
      "    def wrap(module):\n",
      "        return module\n",
      "\n",
      "    @staticmethod\n",
      "    def wrap_params(variables):\n",
      "        return freeze({\"params\": variables})\n",
      "\n",
      "    @staticmethod\n",
      "    @abc.abstractmethod\n",
      "    def unwrap_params(wrapped_variables):\n",
      "        return wrapped_variables\n",
      "\n",
      "\n",
      "registered_frameworks = []\n",
      "\n",
      "\n",
      "def framework(clz):\n",
      "    \"\"\"\n",
      "    Registers a framework and it's wrapper methods to make it\n",
      "    behave like a flax framework.\n",
      "    \"\"\"\n",
      "    clz = dataclasses.dataclass(frozen=True)(clz)\n",
      "    registered_frameworks.append(clz)\n",
      "    return clz\n",
      "\n",
      "\n",
      "@dataclasses.dataclass(frozen=True)\n",
      "class UnknownFramework(ModuleFramework):\n",
      "    name: str = \"Unknown\"\n",
      "\n",
      "    @staticmethod\n",
      "    def is_loaded() -> bool:\n",
      "        return True\n",
      "\n",
      "    @staticmethod\n",
      "    def is_my_module(module):\n",
      "        return False\n",
      "\n",
      "    @staticmethod\n",
      "    def wrap(module):\n",
      "        return module\n",
      "\n",
      "    @staticmethod\n",
      "    def unwrap_params(wrapped_variables):\n",
      "        return wrapped_variables\n",
      "\n",
      "\n",
      "def identify_framework(module):\n",
      "    for _framework in registered_frameworks:\n",
      "        if _framework.is_my_module(module):\n",
      "            return _framework\n",
      "\n",
      "    return UnknownFramework\n",
      "\n",
      "\n",
      "def maybe_wrap_module(module):\n",
      "    \"\"\"\n",
      "    Passing a module from an unknown framework (might be user defined module, a jax\n",
      "    module, flax or haiku or anything else really), attempt to identify what is the\n",
      "    package/framework it comes from, and if so it correctly wraps it in order to\n",
      "    make it behave like a flax module (our default).\n",
      "\n",
      "    Also returns a function used to unpack the parameters once we are done.\n",
      "    \"\"\"\n",
      "    framewrk = identify_framework(module)\n",
      "\n",
      "    return framewrk, framewrk.wrap(module)\n"
     ]
    },
    {
     "name": "stderr",
     "output_type": "stream",
     "text": [
      "C:\\Users\\kdeep\\anaconda3\\Lib\\site-packages\\xgboost\\core.py:158: UserWarning: [09:36:38] WARNING: C:\\buildkite-agent\\builds\\buildkite-windows-cpu-autoscaling-group-i-0015a694724fa8361-1\\xgboost\\xgboost-ci-windows\\src\\learner.cc:740: \n",
      "Parameters: { \"use_label_encoder\" } are not used.\n",
      "\n",
      "  warnings.warn(smsg, UserWarning)\n",
      "C:\\Users\\kdeep\\anaconda3\\Lib\\site-packages\\xgboost\\core.py:158: UserWarning: [09:36:38] WARNING: C:\\buildkite-agent\\builds\\buildkite-windows-cpu-autoscaling-group-i-0015a694724fa8361-1\\xgboost\\xgboost-ci-windows\\src\\learner.cc:740: \n",
      "Parameters: { \"use_label_encoder\" } are not used.\n",
      "\n",
      "  warnings.warn(smsg, UserWarning)\n"
     ]
    },
    {
     "name": "stdout",
     "output_type": "stream",
     "text": [
      "Precision: 0.3333333333333333, Recall: 0.2, Accuracy: 0.4\n",
      "Precision: 1.0, Recall: 0.6, Accuracy: 0.8\n"
     ]
    },
    {
     "name": "stderr",
     "output_type": "stream",
     "text": [
      "C:\\Users\\kdeep\\anaconda3\\Lib\\site-packages\\xgboost\\core.py:158: UserWarning: [09:36:38] WARNING: C:\\buildkite-agent\\builds\\buildkite-windows-cpu-autoscaling-group-i-0015a694724fa8361-1\\xgboost\\xgboost-ci-windows\\src\\learner.cc:740: \n",
      "Parameters: { \"use_label_encoder\" } are not used.\n",
      "\n",
      "  warnings.warn(smsg, UserWarning)\n",
      "C:\\Users\\kdeep\\anaconda3\\Lib\\site-packages\\xgboost\\core.py:158: UserWarning: [09:36:38] WARNING: C:\\buildkite-agent\\builds\\buildkite-windows-cpu-autoscaling-group-i-0015a694724fa8361-1\\xgboost\\xgboost-ci-windows\\src\\learner.cc:740: \n",
      "Parameters: { \"use_label_encoder\" } are not used.\n",
      "\n",
      "  warnings.warn(smsg, UserWarning)\n"
     ]
    },
    {
     "name": "stdout",
     "output_type": "stream",
     "text": [
      "Precision: 0.75, Recall: 0.6, Accuracy: 0.7\n",
      "Precision: 0.6666666666666666, Recall: 0.8, Accuracy: 0.7\n"
     ]
    },
    {
     "name": "stderr",
     "output_type": "stream",
     "text": [
      "C:\\Users\\kdeep\\anaconda3\\Lib\\site-packages\\xgboost\\core.py:158: UserWarning: [09:36:38] WARNING: C:\\buildkite-agent\\builds\\buildkite-windows-cpu-autoscaling-group-i-0015a694724fa8361-1\\xgboost\\xgboost-ci-windows\\src\\learner.cc:740: \n",
      "Parameters: { \"use_label_encoder\" } are not used.\n",
      "\n",
      "  warnings.warn(smsg, UserWarning)\n"
     ]
    },
    {
     "name": "stdout",
     "output_type": "stream",
     "text": [
      "Precision: 1.0, Recall: 0.6, Accuracy: 0.7777777777777778\n"
     ]
    },
    {
     "name": "stderr",
     "output_type": "stream",
     "text": [
      "C:\\Users\\kdeep\\anaconda3\\Lib\\site-packages\\xgboost\\core.py:158: UserWarning: [09:36:38] WARNING: C:\\buildkite-agent\\builds\\buildkite-windows-cpu-autoscaling-group-i-0015a694724fa8361-1\\xgboost\\xgboost-ci-windows\\src\\learner.cc:740: \n",
      "Parameters: { \"use_label_encoder\" } are not used.\n",
      "\n",
      "  warnings.warn(smsg, UserWarning)\n"
     ]
    },
    {
     "name": "stdout",
     "output_type": "stream",
     "text": [
      "Precision: 0.625, Recall: 1.0, Accuracy: 0.6666666666666666\n",
      "Precision: 0.5, Recall: 0.2, Accuracy: 0.4444444444444444\n"
     ]
    },
    {
     "name": "stderr",
     "output_type": "stream",
     "text": [
      "C:\\Users\\kdeep\\anaconda3\\Lib\\site-packages\\xgboost\\core.py:158: UserWarning: [09:36:39] WARNING: C:\\buildkite-agent\\builds\\buildkite-windows-cpu-autoscaling-group-i-0015a694724fa8361-1\\xgboost\\xgboost-ci-windows\\src\\learner.cc:740: \n",
      "Parameters: { \"use_label_encoder\" } are not used.\n",
      "\n",
      "  warnings.warn(smsg, UserWarning)\n",
      "C:\\Users\\kdeep\\anaconda3\\Lib\\site-packages\\xgboost\\core.py:158: UserWarning: [09:36:39] WARNING: C:\\buildkite-agent\\builds\\buildkite-windows-cpu-autoscaling-group-i-0015a694724fa8361-1\\xgboost\\xgboost-ci-windows\\src\\learner.cc:740: \n",
      "Parameters: { \"use_label_encoder\" } are not used.\n",
      "\n",
      "  warnings.warn(smsg, UserWarning)\n"
     ]
    },
    {
     "name": "stdout",
     "output_type": "stream",
     "text": [
      "Precision: 0.8, Recall: 1.0, Accuracy: 0.8888888888888888\n",
      "Precision: 1.0, Recall: 0.75, Accuracy: 0.8888888888888888\n"
     ]
    },
    {
     "name": "stderr",
     "output_type": "stream",
     "text": [
      "C:\\Users\\kdeep\\anaconda3\\Lib\\site-packages\\xgboost\\core.py:158: UserWarning: [09:36:39] WARNING: C:\\buildkite-agent\\builds\\buildkite-windows-cpu-autoscaling-group-i-0015a694724fa8361-1\\xgboost\\xgboost-ci-windows\\src\\learner.cc:740: \n",
      "Parameters: { \"use_label_encoder\" } are not used.\n",
      "\n",
      "  warnings.warn(smsg, UserWarning)\n",
      "C:\\Users\\kdeep\\anaconda3\\Lib\\site-packages\\xgboost\\core.py:158: UserWarning: [09:36:39] WARNING: C:\\buildkite-agent\\builds\\buildkite-windows-cpu-autoscaling-group-i-0015a694724fa8361-1\\xgboost\\xgboost-ci-windows\\src\\learner.cc:740: \n",
      "Parameters: { \"use_label_encoder\" } are not used.\n",
      "\n",
      "  warnings.warn(smsg, UserWarning)\n"
     ]
    },
    {
     "name": "stdout",
     "output_type": "stream",
     "text": [
      "Precision: 0.5, Recall: 0.75, Accuracy: 0.5555555555555556\n",
      "Results to be written: eta=0.3, depth=7, dim=100, eps=0.5, (42.3, 42.3, 4.7, 4.7, 0.7175, 0.65, 0.6822222222222223, 75808, 0.5464828500174919, 0.0046528015680716815)\n",
      "eta=0.3, depth=7, dim=200, eps=0.1\n",
      "Number of flaky documents: 47\n",
      "Number of non-flaky documents: 47\n",
      "Total number of documents: 94\n",
      "Sample document: # Copyright 2021 The NetKet Authors - All rights reserved.\n",
      "#\n",
      "# Licensed under the Apache License, Version 2.0 (the \"License\");\n",
      "# you may not use this file except in compliance with the License.\n",
      "# You may obtain a copy of the License at\n",
      "#\n",
      "#    http://www.apache.org/licenses/LICENSE-2.0\n",
      "#\n",
      "# Unless required by applicable law or agreed to in writing, software\n",
      "# distributed under the License is distributed on an \"AS IS\" BASIS,\n",
      "# WITHOUT WARRANTIES OR CONDITIONS OF ANY KIND, either express or implied.\n",
      "# See the License for the specific language governing permissions and\n",
      "# limitations under the License.\n",
      "\n",
      "import dataclasses\n",
      "import abc\n",
      "\n",
      "from flax.core import freeze\n",
      "\n",
      "\n",
      "@dataclasses.dataclass(frozen=True)\n",
      "class ModuleFramework(abc.ABC):\n",
      "    @staticmethod\n",
      "    @abc.abstractmethod\n",
      "    def is_loaded() -> bool:\n",
      "        pass\n",
      "\n",
      "    @staticmethod\n",
      "    @abc.abstractmethod\n",
      "    def is_my_module(module):\n",
      "        pass\n",
      "\n",
      "    @staticmethod\n",
      "    @abc.abstractmethod\n",
      "    def wrap(module):\n",
      "        return module\n",
      "\n",
      "    @staticmethod\n",
      "    def wrap_params(variables):\n",
      "        return freeze({\"params\": variables})\n",
      "\n",
      "    @staticmethod\n",
      "    @abc.abstractmethod\n",
      "    def unwrap_params(wrapped_variables):\n",
      "        return wrapped_variables\n",
      "\n",
      "\n",
      "registered_frameworks = []\n",
      "\n",
      "\n",
      "def framework(clz):\n",
      "    \"\"\"\n",
      "    Registers a framework and it's wrapper methods to make it\n",
      "    behave like a flax framework.\n",
      "    \"\"\"\n",
      "    clz = dataclasses.dataclass(frozen=True)(clz)\n",
      "    registered_frameworks.append(clz)\n",
      "    return clz\n",
      "\n",
      "\n",
      "@dataclasses.dataclass(frozen=True)\n",
      "class UnknownFramework(ModuleFramework):\n",
      "    name: str = \"Unknown\"\n",
      "\n",
      "    @staticmethod\n",
      "    def is_loaded() -> bool:\n",
      "        return True\n",
      "\n",
      "    @staticmethod\n",
      "    def is_my_module(module):\n",
      "        return False\n",
      "\n",
      "    @staticmethod\n",
      "    def wrap(module):\n",
      "        return module\n",
      "\n",
      "    @staticmethod\n",
      "    def unwrap_params(wrapped_variables):\n",
      "        return wrapped_variables\n",
      "\n",
      "\n",
      "def identify_framework(module):\n",
      "    for _framework in registered_frameworks:\n",
      "        if _framework.is_my_module(module):\n",
      "            return _framework\n",
      "\n",
      "    return UnknownFramework\n",
      "\n",
      "\n",
      "def maybe_wrap_module(module):\n",
      "    \"\"\"\n",
      "    Passing a module from an unknown framework (might be user defined module, a jax\n",
      "    module, flax or haiku or anything else really), attempt to identify what is the\n",
      "    package/framework it comes from, and if so it correctly wraps it in order to\n",
      "    make it behave like a flax module (our default).\n",
      "\n",
      "    Also returns a function used to unpack the parameters once we are done.\n",
      "    \"\"\"\n",
      "    framewrk = identify_framework(module)\n",
      "\n",
      "    return framewrk, framewrk.wrap(module)\n"
     ]
    },
    {
     "name": "stderr",
     "output_type": "stream",
     "text": [
      "C:\\Users\\kdeep\\anaconda3\\Lib\\site-packages\\xgboost\\core.py:158: UserWarning: [09:36:40] WARNING: C:\\buildkite-agent\\builds\\buildkite-windows-cpu-autoscaling-group-i-0015a694724fa8361-1\\xgboost\\xgboost-ci-windows\\src\\learner.cc:740: \n",
      "Parameters: { \"use_label_encoder\" } are not used.\n",
      "\n",
      "  warnings.warn(smsg, UserWarning)\n",
      "C:\\Users\\kdeep\\anaconda3\\Lib\\site-packages\\xgboost\\core.py:158: UserWarning: [09:36:40] WARNING: C:\\buildkite-agent\\builds\\buildkite-windows-cpu-autoscaling-group-i-0015a694724fa8361-1\\xgboost\\xgboost-ci-windows\\src\\learner.cc:740: \n",
      "Parameters: { \"use_label_encoder\" } are not used.\n",
      "\n",
      "  warnings.warn(smsg, UserWarning)\n"
     ]
    },
    {
     "name": "stdout",
     "output_type": "stream",
     "text": [
      "Precision: 1.0, Recall: 0.6, Accuracy: 0.8\n",
      "Precision: 1.0, Recall: 0.8, Accuracy: 0.9\n"
     ]
    },
    {
     "name": "stderr",
     "output_type": "stream",
     "text": [
      "C:\\Users\\kdeep\\anaconda3\\Lib\\site-packages\\xgboost\\core.py:158: UserWarning: [09:36:40] WARNING: C:\\buildkite-agent\\builds\\buildkite-windows-cpu-autoscaling-group-i-0015a694724fa8361-1\\xgboost\\xgboost-ci-windows\\src\\learner.cc:740: \n",
      "Parameters: { \"use_label_encoder\" } are not used.\n",
      "\n",
      "  warnings.warn(smsg, UserWarning)\n",
      "C:\\Users\\kdeep\\anaconda3\\Lib\\site-packages\\xgboost\\core.py:158: UserWarning: [09:36:40] WARNING: C:\\buildkite-agent\\builds\\buildkite-windows-cpu-autoscaling-group-i-0015a694724fa8361-1\\xgboost\\xgboost-ci-windows\\src\\learner.cc:740: \n",
      "Parameters: { \"use_label_encoder\" } are not used.\n",
      "\n",
      "  warnings.warn(smsg, UserWarning)\n"
     ]
    },
    {
     "name": "stdout",
     "output_type": "stream",
     "text": [
      "Precision: 0.8333333333333334, Recall: 1.0, Accuracy: 0.9\n",
      "Precision: 1.0, Recall: 0.8, Accuracy: 0.9\n"
     ]
    },
    {
     "name": "stderr",
     "output_type": "stream",
     "text": [
      "C:\\Users\\kdeep\\anaconda3\\Lib\\site-packages\\xgboost\\core.py:158: UserWarning: [09:36:40] WARNING: C:\\buildkite-agent\\builds\\buildkite-windows-cpu-autoscaling-group-i-0015a694724fa8361-1\\xgboost\\xgboost-ci-windows\\src\\learner.cc:740: \n",
      "Parameters: { \"use_label_encoder\" } are not used.\n",
      "\n",
      "  warnings.warn(smsg, UserWarning)\n"
     ]
    },
    {
     "name": "stdout",
     "output_type": "stream",
     "text": [
      "Precision: 0.8333333333333334, Recall: 1.0, Accuracy: 0.8888888888888888\n",
      "Precision: 0.625, Recall: 1.0, Accuracy: 0.6666666666666666\n"
     ]
    },
    {
     "name": "stderr",
     "output_type": "stream",
     "text": [
      "C:\\Users\\kdeep\\anaconda3\\Lib\\site-packages\\xgboost\\core.py:158: UserWarning: [09:36:41] WARNING: C:\\buildkite-agent\\builds\\buildkite-windows-cpu-autoscaling-group-i-0015a694724fa8361-1\\xgboost\\xgboost-ci-windows\\src\\learner.cc:740: \n",
      "Parameters: { \"use_label_encoder\" } are not used.\n",
      "\n",
      "  warnings.warn(smsg, UserWarning)\n",
      "C:\\Users\\kdeep\\anaconda3\\Lib\\site-packages\\xgboost\\core.py:158: UserWarning: [09:36:41] WARNING: C:\\buildkite-agent\\builds\\buildkite-windows-cpu-autoscaling-group-i-0015a694724fa8361-1\\xgboost\\xgboost-ci-windows\\src\\learner.cc:740: \n",
      "Parameters: { \"use_label_encoder\" } are not used.\n",
      "\n",
      "  warnings.warn(smsg, UserWarning)\n"
     ]
    },
    {
     "name": "stdout",
     "output_type": "stream",
     "text": [
      "Precision: 0.6666666666666666, Recall: 0.8, Accuracy: 0.6666666666666666\n",
      "Precision: 1.0, Recall: 0.75, Accuracy: 0.8888888888888888\n"
     ]
    },
    {
     "name": "stderr",
     "output_type": "stream",
     "text": [
      "C:\\Users\\kdeep\\anaconda3\\Lib\\site-packages\\xgboost\\core.py:158: UserWarning: [09:36:41] WARNING: C:\\buildkite-agent\\builds\\buildkite-windows-cpu-autoscaling-group-i-0015a694724fa8361-1\\xgboost\\xgboost-ci-windows\\src\\learner.cc:740: \n",
      "Parameters: { \"use_label_encoder\" } are not used.\n",
      "\n",
      "  warnings.warn(smsg, UserWarning)\n",
      "C:\\Users\\kdeep\\anaconda3\\Lib\\site-packages\\xgboost\\core.py:158: UserWarning: [09:36:41] WARNING: C:\\buildkite-agent\\builds\\buildkite-windows-cpu-autoscaling-group-i-0015a694724fa8361-1\\xgboost\\xgboost-ci-windows\\src\\learner.cc:740: \n",
      "Parameters: { \"use_label_encoder\" } are not used.\n",
      "\n",
      "  warnings.warn(smsg, UserWarning)\n"
     ]
    },
    {
     "name": "stdout",
     "output_type": "stream",
     "text": [
      "Precision: 1.0, Recall: 1.0, Accuracy: 1.0\n",
      "Precision: 0.6666666666666666, Recall: 0.5, Accuracy: 0.6666666666666666\n",
      "Results to be written: eta=0.3, depth=7, dim=200, eps=0.1, (42.3, 42.3, 4.7, 4.7, 0.8625, 0.825, 0.8277777777777778, 151008, 0.5435285100829788, 0.004674777780944618)\n",
      "eta=0.3, depth=7, dim=200, eps=0.3\n"
     ]
    },
    {
     "name": "stderr",
     "output_type": "stream",
     "text": [
      "C:\\Users\\kdeep\\anaconda3\\Lib\\site-packages\\xgboost\\core.py:158: UserWarning: [09:36:41] WARNING: C:\\buildkite-agent\\builds\\buildkite-windows-cpu-autoscaling-group-i-0015a694724fa8361-1\\xgboost\\xgboost-ci-windows\\src\\learner.cc:740: \n",
      "Parameters: { \"use_label_encoder\" } are not used.\n",
      "\n",
      "  warnings.warn(smsg, UserWarning)\n"
     ]
    },
    {
     "name": "stdout",
     "output_type": "stream",
     "text": [
      "Number of flaky documents: 47\n",
      "Number of non-flaky documents: 47\n",
      "Total number of documents: 94\n",
      "Sample document: # Copyright 2021 The NetKet Authors - All rights reserved.\n",
      "#\n",
      "# Licensed under the Apache License, Version 2.0 (the \"License\");\n",
      "# you may not use this file except in compliance with the License.\n",
      "# You may obtain a copy of the License at\n",
      "#\n",
      "#    http://www.apache.org/licenses/LICENSE-2.0\n",
      "#\n",
      "# Unless required by applicable law or agreed to in writing, software\n",
      "# distributed under the License is distributed on an \"AS IS\" BASIS,\n",
      "# WITHOUT WARRANTIES OR CONDITIONS OF ANY KIND, either express or implied.\n",
      "# See the License for the specific language governing permissions and\n",
      "# limitations under the License.\n",
      "\n",
      "import dataclasses\n",
      "import abc\n",
      "\n",
      "from flax.core import freeze\n",
      "\n",
      "\n",
      "@dataclasses.dataclass(frozen=True)\n",
      "class ModuleFramework(abc.ABC):\n",
      "    @staticmethod\n",
      "    @abc.abstractmethod\n",
      "    def is_loaded() -> bool:\n",
      "        pass\n",
      "\n",
      "    @staticmethod\n",
      "    @abc.abstractmethod\n",
      "    def is_my_module(module):\n",
      "        pass\n",
      "\n",
      "    @staticmethod\n",
      "    @abc.abstractmethod\n",
      "    def wrap(module):\n",
      "        return module\n",
      "\n",
      "    @staticmethod\n",
      "    def wrap_params(variables):\n",
      "        return freeze({\"params\": variables})\n",
      "\n",
      "    @staticmethod\n",
      "    @abc.abstractmethod\n",
      "    def unwrap_params(wrapped_variables):\n",
      "        return wrapped_variables\n",
      "\n",
      "\n",
      "registered_frameworks = []\n",
      "\n",
      "\n",
      "def framework(clz):\n",
      "    \"\"\"\n",
      "    Registers a framework and it's wrapper methods to make it\n",
      "    behave like a flax framework.\n",
      "    \"\"\"\n",
      "    clz = dataclasses.dataclass(frozen=True)(clz)\n",
      "    registered_frameworks.append(clz)\n",
      "    return clz\n",
      "\n",
      "\n",
      "@dataclasses.dataclass(frozen=True)\n",
      "class UnknownFramework(ModuleFramework):\n",
      "    name: str = \"Unknown\"\n",
      "\n",
      "    @staticmethod\n",
      "    def is_loaded() -> bool:\n",
      "        return True\n",
      "\n",
      "    @staticmethod\n",
      "    def is_my_module(module):\n",
      "        return False\n",
      "\n",
      "    @staticmethod\n",
      "    def wrap(module):\n",
      "        return module\n",
      "\n",
      "    @staticmethod\n",
      "    def unwrap_params(wrapped_variables):\n",
      "        return wrapped_variables\n",
      "\n",
      "\n",
      "def identify_framework(module):\n",
      "    for _framework in registered_frameworks:\n",
      "        if _framework.is_my_module(module):\n",
      "            return _framework\n",
      "\n",
      "    return UnknownFramework\n",
      "\n",
      "\n",
      "def maybe_wrap_module(module):\n",
      "    \"\"\"\n",
      "    Passing a module from an unknown framework (might be user defined module, a jax\n",
      "    module, flax or haiku or anything else really), attempt to identify what is the\n",
      "    package/framework it comes from, and if so it correctly wraps it in order to\n",
      "    make it behave like a flax module (our default).\n",
      "\n",
      "    Also returns a function used to unpack the parameters once we are done.\n",
      "    \"\"\"\n",
      "    framewrk = identify_framework(module)\n",
      "\n",
      "    return framewrk, framewrk.wrap(module)\n"
     ]
    },
    {
     "name": "stderr",
     "output_type": "stream",
     "text": [
      "C:\\Users\\kdeep\\anaconda3\\Lib\\site-packages\\xgboost\\core.py:158: UserWarning: [09:36:42] WARNING: C:\\buildkite-agent\\builds\\buildkite-windows-cpu-autoscaling-group-i-0015a694724fa8361-1\\xgboost\\xgboost-ci-windows\\src\\learner.cc:740: \n",
      "Parameters: { \"use_label_encoder\" } are not used.\n",
      "\n",
      "  warnings.warn(smsg, UserWarning)\n",
      "C:\\Users\\kdeep\\anaconda3\\Lib\\site-packages\\xgboost\\core.py:158: UserWarning: [09:36:42] WARNING: C:\\buildkite-agent\\builds\\buildkite-windows-cpu-autoscaling-group-i-0015a694724fa8361-1\\xgboost\\xgboost-ci-windows\\src\\learner.cc:740: \n",
      "Parameters: { \"use_label_encoder\" } are not used.\n",
      "\n",
      "  warnings.warn(smsg, UserWarning)\n"
     ]
    },
    {
     "name": "stdout",
     "output_type": "stream",
     "text": [
      "Precision: 0.6666666666666666, Recall: 0.4, Accuracy: 0.6\n",
      "Precision: 1.0, Recall: 0.8, Accuracy: 0.9\n",
      "Precision: 1.0, Recall: 0.8, Accuracy: 0.9\n"
     ]
    },
    {
     "name": "stderr",
     "output_type": "stream",
     "text": [
      "C:\\Users\\kdeep\\anaconda3\\Lib\\site-packages\\xgboost\\core.py:158: UserWarning: [09:36:42] WARNING: C:\\buildkite-agent\\builds\\buildkite-windows-cpu-autoscaling-group-i-0015a694724fa8361-1\\xgboost\\xgboost-ci-windows\\src\\learner.cc:740: \n",
      "Parameters: { \"use_label_encoder\" } are not used.\n",
      "\n",
      "  warnings.warn(smsg, UserWarning)\n",
      "C:\\Users\\kdeep\\anaconda3\\Lib\\site-packages\\xgboost\\core.py:158: UserWarning: [09:36:43] WARNING: C:\\buildkite-agent\\builds\\buildkite-windows-cpu-autoscaling-group-i-0015a694724fa8361-1\\xgboost\\xgboost-ci-windows\\src\\learner.cc:740: \n",
      "Parameters: { \"use_label_encoder\" } are not used.\n",
      "\n",
      "  warnings.warn(smsg, UserWarning)\n",
      "C:\\Users\\kdeep\\anaconda3\\Lib\\site-packages\\xgboost\\core.py:158: UserWarning: [09:36:43] WARNING: C:\\buildkite-agent\\builds\\buildkite-windows-cpu-autoscaling-group-i-0015a694724fa8361-1\\xgboost\\xgboost-ci-windows\\src\\learner.cc:740: \n",
      "Parameters: { \"use_label_encoder\" } are not used.\n",
      "\n",
      "  warnings.warn(smsg, UserWarning)\n"
     ]
    },
    {
     "name": "stdout",
     "output_type": "stream",
     "text": [
      "Precision: 1.0, Recall: 0.6, Accuracy: 0.8\n",
      "Precision: 0.0, Recall: 0.0, Accuracy: 0.4444444444444444\n"
     ]
    },
    {
     "name": "stderr",
     "output_type": "stream",
     "text": [
      "C:\\Users\\kdeep\\anaconda3\\Lib\\site-packages\\xgboost\\core.py:158: UserWarning: [09:36:43] WARNING: C:\\buildkite-agent\\builds\\buildkite-windows-cpu-autoscaling-group-i-0015a694724fa8361-1\\xgboost\\xgboost-ci-windows\\src\\learner.cc:740: \n",
      "Parameters: { \"use_label_encoder\" } are not used.\n",
      "\n",
      "  warnings.warn(smsg, UserWarning)\n",
      "C:\\Users\\kdeep\\anaconda3\\Lib\\site-packages\\xgboost\\core.py:158: UserWarning: [09:36:43] WARNING: C:\\buildkite-agent\\builds\\buildkite-windows-cpu-autoscaling-group-i-0015a694724fa8361-1\\xgboost\\xgboost-ci-windows\\src\\learner.cc:740: \n",
      "Parameters: { \"use_label_encoder\" } are not used.\n",
      "\n",
      "  warnings.warn(smsg, UserWarning)\n"
     ]
    },
    {
     "name": "stdout",
     "output_type": "stream",
     "text": [
      "Precision: 0.5555555555555556, Recall: 1.0, Accuracy: 0.5555555555555556\n",
      "Precision: 0.6, Recall: 0.6, Accuracy: 0.5555555555555556\n"
     ]
    },
    {
     "name": "stderr",
     "output_type": "stream",
     "text": [
      "C:\\Users\\kdeep\\anaconda3\\Lib\\site-packages\\xgboost\\core.py:158: UserWarning: [09:36:43] WARNING: C:\\buildkite-agent\\builds\\buildkite-windows-cpu-autoscaling-group-i-0015a694724fa8361-1\\xgboost\\xgboost-ci-windows\\src\\learner.cc:740: \n",
      "Parameters: { \"use_label_encoder\" } are not used.\n",
      "\n",
      "  warnings.warn(smsg, UserWarning)\n",
      "C:\\Users\\kdeep\\anaconda3\\Lib\\site-packages\\xgboost\\core.py:158: UserWarning: [09:36:44] WARNING: C:\\buildkite-agent\\builds\\buildkite-windows-cpu-autoscaling-group-i-0015a694724fa8361-1\\xgboost\\xgboost-ci-windows\\src\\learner.cc:740: \n",
      "Parameters: { \"use_label_encoder\" } are not used.\n",
      "\n",
      "  warnings.warn(smsg, UserWarning)\n"
     ]
    },
    {
     "name": "stdout",
     "output_type": "stream",
     "text": [
      "Precision: 0.75, Recall: 0.75, Accuracy: 0.7777777777777778\n",
      "Precision: 1.0, Recall: 0.75, Accuracy: 0.8888888888888888\n",
      "Precision: 0.6, Recall: 0.75, Accuracy: 0.6666666666666666\n",
      "Results to be written: eta=0.3, depth=7, dim=200, eps=0.3, (42.3, 42.3, 4.7, 4.7, 0.7172222222222222, 0.645, 0.7088888888888889, 151008, 0.5918929899227807, 0.00502633842166533)\n",
      "eta=0.3, depth=7, dim=200, eps=0.5\n"
     ]
    },
    {
     "name": "stderr",
     "output_type": "stream",
     "text": [
      "C:\\Users\\kdeep\\anaconda3\\Lib\\site-packages\\xgboost\\core.py:158: UserWarning: [09:36:44] WARNING: C:\\buildkite-agent\\builds\\buildkite-windows-cpu-autoscaling-group-i-0015a694724fa8361-1\\xgboost\\xgboost-ci-windows\\src\\learner.cc:740: \n",
      "Parameters: { \"use_label_encoder\" } are not used.\n",
      "\n",
      "  warnings.warn(smsg, UserWarning)\n"
     ]
    },
    {
     "name": "stdout",
     "output_type": "stream",
     "text": [
      "Number of flaky documents: 47\n",
      "Number of non-flaky documents: 47\n",
      "Total number of documents: 94\n",
      "Sample document: # Copyright 2021 The NetKet Authors - All rights reserved.\n",
      "#\n",
      "# Licensed under the Apache License, Version 2.0 (the \"License\");\n",
      "# you may not use this file except in compliance with the License.\n",
      "# You may obtain a copy of the License at\n",
      "#\n",
      "#    http://www.apache.org/licenses/LICENSE-2.0\n",
      "#\n",
      "# Unless required by applicable law or agreed to in writing, software\n",
      "# distributed under the License is distributed on an \"AS IS\" BASIS,\n",
      "# WITHOUT WARRANTIES OR CONDITIONS OF ANY KIND, either express or implied.\n",
      "# See the License for the specific language governing permissions and\n",
      "# limitations under the License.\n",
      "\n",
      "import dataclasses\n",
      "import abc\n",
      "\n",
      "from flax.core import freeze\n",
      "\n",
      "\n",
      "@dataclasses.dataclass(frozen=True)\n",
      "class ModuleFramework(abc.ABC):\n",
      "    @staticmethod\n",
      "    @abc.abstractmethod\n",
      "    def is_loaded() -> bool:\n",
      "        pass\n",
      "\n",
      "    @staticmethod\n",
      "    @abc.abstractmethod\n",
      "    def is_my_module(module):\n",
      "        pass\n",
      "\n",
      "    @staticmethod\n",
      "    @abc.abstractmethod\n",
      "    def wrap(module):\n",
      "        return module\n",
      "\n",
      "    @staticmethod\n",
      "    def wrap_params(variables):\n",
      "        return freeze({\"params\": variables})\n",
      "\n",
      "    @staticmethod\n",
      "    @abc.abstractmethod\n",
      "    def unwrap_params(wrapped_variables):\n",
      "        return wrapped_variables\n",
      "\n",
      "\n",
      "registered_frameworks = []\n",
      "\n",
      "\n",
      "def framework(clz):\n",
      "    \"\"\"\n",
      "    Registers a framework and it's wrapper methods to make it\n",
      "    behave like a flax framework.\n",
      "    \"\"\"\n",
      "    clz = dataclasses.dataclass(frozen=True)(clz)\n",
      "    registered_frameworks.append(clz)\n",
      "    return clz\n",
      "\n",
      "\n",
      "@dataclasses.dataclass(frozen=True)\n",
      "class UnknownFramework(ModuleFramework):\n",
      "    name: str = \"Unknown\"\n",
      "\n",
      "    @staticmethod\n",
      "    def is_loaded() -> bool:\n",
      "        return True\n",
      "\n",
      "    @staticmethod\n",
      "    def is_my_module(module):\n",
      "        return False\n",
      "\n",
      "    @staticmethod\n",
      "    def wrap(module):\n",
      "        return module\n",
      "\n",
      "    @staticmethod\n",
      "    def unwrap_params(wrapped_variables):\n",
      "        return wrapped_variables\n",
      "\n",
      "\n",
      "def identify_framework(module):\n",
      "    for _framework in registered_frameworks:\n",
      "        if _framework.is_my_module(module):\n",
      "            return _framework\n",
      "\n",
      "    return UnknownFramework\n",
      "\n",
      "\n",
      "def maybe_wrap_module(module):\n",
      "    \"\"\"\n",
      "    Passing a module from an unknown framework (might be user defined module, a jax\n",
      "    module, flax or haiku or anything else really), attempt to identify what is the\n",
      "    package/framework it comes from, and if so it correctly wraps it in order to\n",
      "    make it behave like a flax module (our default).\n",
      "\n",
      "    Also returns a function used to unpack the parameters once we are done.\n",
      "    \"\"\"\n",
      "    framewrk = identify_framework(module)\n",
      "\n",
      "    return framewrk, framewrk.wrap(module)\n"
     ]
    },
    {
     "name": "stderr",
     "output_type": "stream",
     "text": [
      "C:\\Users\\kdeep\\anaconda3\\Lib\\site-packages\\xgboost\\core.py:158: UserWarning: [09:36:44] WARNING: C:\\buildkite-agent\\builds\\buildkite-windows-cpu-autoscaling-group-i-0015a694724fa8361-1\\xgboost\\xgboost-ci-windows\\src\\learner.cc:740: \n",
      "Parameters: { \"use_label_encoder\" } are not used.\n",
      "\n",
      "  warnings.warn(smsg, UserWarning)\n",
      "C:\\Users\\kdeep\\anaconda3\\Lib\\site-packages\\xgboost\\core.py:158: UserWarning: [09:36:45] WARNING: C:\\buildkite-agent\\builds\\buildkite-windows-cpu-autoscaling-group-i-0015a694724fa8361-1\\xgboost\\xgboost-ci-windows\\src\\learner.cc:740: \n",
      "Parameters: { \"use_label_encoder\" } are not used.\n",
      "\n",
      "  warnings.warn(smsg, UserWarning)\n"
     ]
    },
    {
     "name": "stdout",
     "output_type": "stream",
     "text": [
      "Precision: 1.0, Recall: 0.8, Accuracy: 0.9\n",
      "Precision: 1.0, Recall: 1.0, Accuracy: 1.0\n"
     ]
    },
    {
     "name": "stderr",
     "output_type": "stream",
     "text": [
      "C:\\Users\\kdeep\\anaconda3\\Lib\\site-packages\\xgboost\\core.py:158: UserWarning: [09:36:45] WARNING: C:\\buildkite-agent\\builds\\buildkite-windows-cpu-autoscaling-group-i-0015a694724fa8361-1\\xgboost\\xgboost-ci-windows\\src\\learner.cc:740: \n",
      "Parameters: { \"use_label_encoder\" } are not used.\n",
      "\n",
      "  warnings.warn(smsg, UserWarning)\n"
     ]
    },
    {
     "name": "stdout",
     "output_type": "stream",
     "text": [
      "Precision: 1.0, Recall: 0.8, Accuracy: 0.9\n",
      "Precision: 1.0, Recall: 1.0, Accuracy: 1.0\n"
     ]
    },
    {
     "name": "stderr",
     "output_type": "stream",
     "text": [
      "C:\\Users\\kdeep\\anaconda3\\Lib\\site-packages\\xgboost\\core.py:158: UserWarning: [09:36:45] WARNING: C:\\buildkite-agent\\builds\\buildkite-windows-cpu-autoscaling-group-i-0015a694724fa8361-1\\xgboost\\xgboost-ci-windows\\src\\learner.cc:740: \n",
      "Parameters: { \"use_label_encoder\" } are not used.\n",
      "\n",
      "  warnings.warn(smsg, UserWarning)\n",
      "C:\\Users\\kdeep\\anaconda3\\Lib\\site-packages\\xgboost\\core.py:158: UserWarning: [09:36:45] WARNING: C:\\buildkite-agent\\builds\\buildkite-windows-cpu-autoscaling-group-i-0015a694724fa8361-1\\xgboost\\xgboost-ci-windows\\src\\learner.cc:740: \n",
      "Parameters: { \"use_label_encoder\" } are not used.\n",
      "\n",
      "  warnings.warn(smsg, UserWarning)\n",
      "C:\\Users\\kdeep\\anaconda3\\Lib\\site-packages\\xgboost\\core.py:158: UserWarning: [09:36:45] WARNING: C:\\buildkite-agent\\builds\\buildkite-windows-cpu-autoscaling-group-i-0015a694724fa8361-1\\xgboost\\xgboost-ci-windows\\src\\learner.cc:740: \n",
      "Parameters: { \"use_label_encoder\" } are not used.\n",
      "\n",
      "  warnings.warn(smsg, UserWarning)\n"
     ]
    },
    {
     "name": "stdout",
     "output_type": "stream",
     "text": [
      "Precision: 1.0, Recall: 0.6, Accuracy: 0.7777777777777778\n",
      "Precision: 0.5, Recall: 0.8, Accuracy: 0.4444444444444444\n"
     ]
    },
    {
     "name": "stderr",
     "output_type": "stream",
     "text": [
      "C:\\Users\\kdeep\\anaconda3\\Lib\\site-packages\\xgboost\\core.py:158: UserWarning: [09:36:46] WARNING: C:\\buildkite-agent\\builds\\buildkite-windows-cpu-autoscaling-group-i-0015a694724fa8361-1\\xgboost\\xgboost-ci-windows\\src\\learner.cc:740: \n",
      "Parameters: { \"use_label_encoder\" } are not used.\n",
      "\n",
      "  warnings.warn(smsg, UserWarning)\n",
      "C:\\Users\\kdeep\\anaconda3\\Lib\\site-packages\\xgboost\\core.py:158: UserWarning: [09:36:46] WARNING: C:\\buildkite-agent\\builds\\buildkite-windows-cpu-autoscaling-group-i-0015a694724fa8361-1\\xgboost\\xgboost-ci-windows\\src\\learner.cc:740: \n",
      "Parameters: { \"use_label_encoder\" } are not used.\n",
      "\n",
      "  warnings.warn(smsg, UserWarning)\n"
     ]
    },
    {
     "name": "stdout",
     "output_type": "stream",
     "text": [
      "Precision: 0.8333333333333334, Recall: 1.0, Accuracy: 0.8888888888888888\n",
      "Precision: 0.8, Recall: 1.0, Accuracy: 0.8888888888888888\n"
     ]
    },
    {
     "name": "stderr",
     "output_type": "stream",
     "text": [
      "C:\\Users\\kdeep\\anaconda3\\Lib\\site-packages\\xgboost\\core.py:158: UserWarning: [09:36:46] WARNING: C:\\buildkite-agent\\builds\\buildkite-windows-cpu-autoscaling-group-i-0015a694724fa8361-1\\xgboost\\xgboost-ci-windows\\src\\learner.cc:740: \n",
      "Parameters: { \"use_label_encoder\" } are not used.\n",
      "\n",
      "  warnings.warn(smsg, UserWarning)\n"
     ]
    },
    {
     "name": "stdout",
     "output_type": "stream",
     "text": [
      "Precision: 1.0, Recall: 1.0, Accuracy: 1.0\n",
      "Precision: 0.6666666666666666, Recall: 1.0, Accuracy: 0.7777777777777778\n",
      "Results to be written: eta=0.3, depth=7, dim=200, eps=0.5, (42.3, 42.3, 4.7, 4.7, 0.8799999999999999, 0.9, 0.857777777777778, 151008, 0.5818135499604976, 0.005024662520466747)\n",
      "eta=0.5, depth=3, dim=0, eps=0.1\n"
     ]
    },
    {
     "name": "stderr",
     "output_type": "stream",
     "text": [
      "C:\\Users\\kdeep\\anaconda3\\Lib\\site-packages\\xgboost\\core.py:158: UserWarning: [09:36:46] WARNING: C:\\buildkite-agent\\builds\\buildkite-windows-cpu-autoscaling-group-i-0015a694724fa8361-1\\xgboost\\xgboost-ci-windows\\src\\learner.cc:740: \n",
      "Parameters: { \"use_label_encoder\" } are not used.\n",
      "\n",
      "  warnings.warn(smsg, UserWarning)\n"
     ]
    },
    {
     "name": "stdout",
     "output_type": "stream",
     "text": [
      "Number of flaky documents: 47\n",
      "Number of non-flaky documents: 47\n",
      "Total number of documents: 94\n",
      "Sample document: # Copyright 2021 The NetKet Authors - All rights reserved.\n",
      "#\n",
      "# Licensed under the Apache License, Version 2.0 (the \"License\");\n",
      "# you may not use this file except in compliance with the License.\n",
      "# You may obtain a copy of the License at\n",
      "#\n",
      "#    http://www.apache.org/licenses/LICENSE-2.0\n",
      "#\n",
      "# Unless required by applicable law or agreed to in writing, software\n",
      "# distributed under the License is distributed on an \"AS IS\" BASIS,\n",
      "# WITHOUT WARRANTIES OR CONDITIONS OF ANY KIND, either express or implied.\n",
      "# See the License for the specific language governing permissions and\n",
      "# limitations under the License.\n",
      "\n",
      "import dataclasses\n",
      "import abc\n",
      "\n",
      "from flax.core import freeze\n",
      "\n",
      "\n",
      "@dataclasses.dataclass(frozen=True)\n",
      "class ModuleFramework(abc.ABC):\n",
      "    @staticmethod\n",
      "    @abc.abstractmethod\n",
      "    def is_loaded() -> bool:\n",
      "        pass\n",
      "\n",
      "    @staticmethod\n",
      "    @abc.abstractmethod\n",
      "    def is_my_module(module):\n",
      "        pass\n",
      "\n",
      "    @staticmethod\n",
      "    @abc.abstractmethod\n",
      "    def wrap(module):\n",
      "        return module\n",
      "\n",
      "    @staticmethod\n",
      "    def wrap_params(variables):\n",
      "        return freeze({\"params\": variables})\n",
      "\n",
      "    @staticmethod\n",
      "    @abc.abstractmethod\n",
      "    def unwrap_params(wrapped_variables):\n",
      "        return wrapped_variables\n",
      "\n",
      "\n",
      "registered_frameworks = []\n",
      "\n",
      "\n",
      "def framework(clz):\n",
      "    \"\"\"\n",
      "    Registers a framework and it's wrapper methods to make it\n",
      "    behave like a flax framework.\n",
      "    \"\"\"\n",
      "    clz = dataclasses.dataclass(frozen=True)(clz)\n",
      "    registered_frameworks.append(clz)\n",
      "    return clz\n",
      "\n",
      "\n",
      "@dataclasses.dataclass(frozen=True)\n",
      "class UnknownFramework(ModuleFramework):\n",
      "    name: str = \"Unknown\"\n",
      "\n",
      "    @staticmethod\n",
      "    def is_loaded() -> bool:\n",
      "        return True\n",
      "\n",
      "    @staticmethod\n",
      "    def is_my_module(module):\n",
      "        return False\n",
      "\n",
      "    @staticmethod\n",
      "    def wrap(module):\n",
      "        return module\n",
      "\n",
      "    @staticmethod\n",
      "    def unwrap_params(wrapped_variables):\n",
      "        return wrapped_variables\n",
      "\n",
      "\n",
      "def identify_framework(module):\n",
      "    for _framework in registered_frameworks:\n",
      "        if _framework.is_my_module(module):\n",
      "            return _framework\n",
      "\n",
      "    return UnknownFramework\n",
      "\n",
      "\n",
      "def maybe_wrap_module(module):\n",
      "    \"\"\"\n",
      "    Passing a module from an unknown framework (might be user defined module, a jax\n",
      "    module, flax or haiku or anything else really), attempt to identify what is the\n",
      "    package/framework it comes from, and if so it correctly wraps it in order to\n",
      "    make it behave like a flax module (our default).\n",
      "\n",
      "    Also returns a function used to unpack the parameters once we are done.\n",
      "    \"\"\"\n",
      "    framewrk = identify_framework(module)\n",
      "\n",
      "    return framewrk, framewrk.wrap(module)\n"
     ]
    },
    {
     "name": "stderr",
     "output_type": "stream",
     "text": [
      "C:\\Users\\kdeep\\anaconda3\\Lib\\site-packages\\xgboost\\core.py:158: UserWarning: [09:36:49] WARNING: C:\\buildkite-agent\\builds\\buildkite-windows-cpu-autoscaling-group-i-0015a694724fa8361-1\\xgboost\\xgboost-ci-windows\\src\\learner.cc:740: \n",
      "Parameters: { \"use_label_encoder\" } are not used.\n",
      "\n",
      "  warnings.warn(smsg, UserWarning)\n"
     ]
    },
    {
     "name": "stdout",
     "output_type": "stream",
     "text": [
      "Precision: 1.0, Recall: 0.4, Accuracy: 0.7\n"
     ]
    },
    {
     "name": "stderr",
     "output_type": "stream",
     "text": [
      "C:\\Users\\kdeep\\anaconda3\\Lib\\site-packages\\xgboost\\core.py:158: UserWarning: [09:36:50] WARNING: C:\\buildkite-agent\\builds\\buildkite-windows-cpu-autoscaling-group-i-0015a694724fa8361-1\\xgboost\\xgboost-ci-windows\\src\\learner.cc:740: \n",
      "Parameters: { \"use_label_encoder\" } are not used.\n",
      "\n",
      "  warnings.warn(smsg, UserWarning)\n"
     ]
    },
    {
     "name": "stdout",
     "output_type": "stream",
     "text": [
      "Precision: 1.0, Recall: 0.8, Accuracy: 0.9\n"
     ]
    },
    {
     "name": "stderr",
     "output_type": "stream",
     "text": [
      "C:\\Users\\kdeep\\anaconda3\\Lib\\site-packages\\xgboost\\core.py:158: UserWarning: [09:36:51] WARNING: C:\\buildkite-agent\\builds\\buildkite-windows-cpu-autoscaling-group-i-0015a694724fa8361-1\\xgboost\\xgboost-ci-windows\\src\\learner.cc:740: \n",
      "Parameters: { \"use_label_encoder\" } are not used.\n",
      "\n",
      "  warnings.warn(smsg, UserWarning)\n"
     ]
    },
    {
     "name": "stdout",
     "output_type": "stream",
     "text": [
      "Precision: 1.0, Recall: 0.8, Accuracy: 0.9\n"
     ]
    },
    {
     "name": "stderr",
     "output_type": "stream",
     "text": [
      "C:\\Users\\kdeep\\anaconda3\\Lib\\site-packages\\xgboost\\core.py:158: UserWarning: [09:36:52] WARNING: C:\\buildkite-agent\\builds\\buildkite-windows-cpu-autoscaling-group-i-0015a694724fa8361-1\\xgboost\\xgboost-ci-windows\\src\\learner.cc:740: \n",
      "Parameters: { \"use_label_encoder\" } are not used.\n",
      "\n",
      "  warnings.warn(smsg, UserWarning)\n"
     ]
    },
    {
     "name": "stdout",
     "output_type": "stream",
     "text": [
      "Precision: 1.0, Recall: 0.8, Accuracy: 0.9\n"
     ]
    },
    {
     "name": "stderr",
     "output_type": "stream",
     "text": [
      "C:\\Users\\kdeep\\anaconda3\\Lib\\site-packages\\xgboost\\core.py:158: UserWarning: [09:36:52] WARNING: C:\\buildkite-agent\\builds\\buildkite-windows-cpu-autoscaling-group-i-0015a694724fa8361-1\\xgboost\\xgboost-ci-windows\\src\\learner.cc:740: \n",
      "Parameters: { \"use_label_encoder\" } are not used.\n",
      "\n",
      "  warnings.warn(smsg, UserWarning)\n"
     ]
    },
    {
     "name": "stdout",
     "output_type": "stream",
     "text": [
      "Precision: 1.0, Recall: 0.6, Accuracy: 0.7777777777777778\n"
     ]
    },
    {
     "name": "stderr",
     "output_type": "stream",
     "text": [
      "C:\\Users\\kdeep\\anaconda3\\Lib\\site-packages\\xgboost\\core.py:158: UserWarning: [09:36:53] WARNING: C:\\buildkite-agent\\builds\\buildkite-windows-cpu-autoscaling-group-i-0015a694724fa8361-1\\xgboost\\xgboost-ci-windows\\src\\learner.cc:740: \n",
      "Parameters: { \"use_label_encoder\" } are not used.\n",
      "\n",
      "  warnings.warn(smsg, UserWarning)\n"
     ]
    },
    {
     "name": "stdout",
     "output_type": "stream",
     "text": [
      "Precision: 0.7142857142857143, Recall: 1.0, Accuracy: 0.7777777777777778\n"
     ]
    },
    {
     "name": "stderr",
     "output_type": "stream",
     "text": [
      "C:\\Users\\kdeep\\anaconda3\\Lib\\site-packages\\xgboost\\core.py:158: UserWarning: [09:36:54] WARNING: C:\\buildkite-agent\\builds\\buildkite-windows-cpu-autoscaling-group-i-0015a694724fa8361-1\\xgboost\\xgboost-ci-windows\\src\\learner.cc:740: \n",
      "Parameters: { \"use_label_encoder\" } are not used.\n",
      "\n",
      "  warnings.warn(smsg, UserWarning)\n"
     ]
    },
    {
     "name": "stdout",
     "output_type": "stream",
     "text": [
      "Precision: 0.6666666666666666, Recall: 0.8, Accuracy: 0.6666666666666666\n"
     ]
    },
    {
     "name": "stderr",
     "output_type": "stream",
     "text": [
      "C:\\Users\\kdeep\\anaconda3\\Lib\\site-packages\\xgboost\\core.py:158: UserWarning: [09:36:55] WARNING: C:\\buildkite-agent\\builds\\buildkite-windows-cpu-autoscaling-group-i-0015a694724fa8361-1\\xgboost\\xgboost-ci-windows\\src\\learner.cc:740: \n",
      "Parameters: { \"use_label_encoder\" } are not used.\n",
      "\n",
      "  warnings.warn(smsg, UserWarning)\n"
     ]
    },
    {
     "name": "stdout",
     "output_type": "stream",
     "text": [
      "Precision: 0.8, Recall: 1.0, Accuracy: 0.8888888888888888\n"
     ]
    },
    {
     "name": "stderr",
     "output_type": "stream",
     "text": [
      "C:\\Users\\kdeep\\anaconda3\\Lib\\site-packages\\xgboost\\core.py:158: UserWarning: [09:36:56] WARNING: C:\\buildkite-agent\\builds\\buildkite-windows-cpu-autoscaling-group-i-0015a694724fa8361-1\\xgboost\\xgboost-ci-windows\\src\\learner.cc:740: \n",
      "Parameters: { \"use_label_encoder\" } are not used.\n",
      "\n",
      "  warnings.warn(smsg, UserWarning)\n"
     ]
    },
    {
     "name": "stdout",
     "output_type": "stream",
     "text": [
      "Precision: 1.0, Recall: 1.0, Accuracy: 1.0\n"
     ]
    },
    {
     "name": "stderr",
     "output_type": "stream",
     "text": [
      "C:\\Users\\kdeep\\anaconda3\\Lib\\site-packages\\xgboost\\core.py:158: UserWarning: [09:36:57] WARNING: C:\\buildkite-agent\\builds\\buildkite-windows-cpu-autoscaling-group-i-0015a694724fa8361-1\\xgboost\\xgboost-ci-windows\\src\\learner.cc:740: \n",
      "Parameters: { \"use_label_encoder\" } are not used.\n",
      "\n",
      "  warnings.warn(smsg, UserWarning)\n"
     ]
    },
    {
     "name": "stdout",
     "output_type": "stream",
     "text": [
      "Precision: 0.5, Recall: 0.5, Accuracy: 0.5555555555555556\n",
      "Results to be written: eta=0.5, depth=3, dim=0, eps=0.1, (42.3, 42.3, 4.7, 4.7, 0.868095238095238, 0.77, 0.8066666666666666, 2928897, 3.0491134000127205, 0.027031116628863604)\n",
      "eta=0.5, depth=3, dim=0, eps=0.3\n",
      "Number of flaky documents: 47\n",
      "Number of non-flaky documents: 47\n",
      "Total number of documents: 94\n",
      "Sample document: # Copyright 2021 The NetKet Authors - All rights reserved.\n",
      "#\n",
      "# Licensed under the Apache License, Version 2.0 (the \"License\");\n",
      "# you may not use this file except in compliance with the License.\n",
      "# You may obtain a copy of the License at\n",
      "#\n",
      "#    http://www.apache.org/licenses/LICENSE-2.0\n",
      "#\n",
      "# Unless required by applicable law or agreed to in writing, software\n",
      "# distributed under the License is distributed on an \"AS IS\" BASIS,\n",
      "# WITHOUT WARRANTIES OR CONDITIONS OF ANY KIND, either express or implied.\n",
      "# See the License for the specific language governing permissions and\n",
      "# limitations under the License.\n",
      "\n",
      "import dataclasses\n",
      "import abc\n",
      "\n",
      "from flax.core import freeze\n",
      "\n",
      "\n",
      "@dataclasses.dataclass(frozen=True)\n",
      "class ModuleFramework(abc.ABC):\n",
      "    @staticmethod\n",
      "    @abc.abstractmethod\n",
      "    def is_loaded() -> bool:\n",
      "        pass\n",
      "\n",
      "    @staticmethod\n",
      "    @abc.abstractmethod\n",
      "    def is_my_module(module):\n",
      "        pass\n",
      "\n",
      "    @staticmethod\n",
      "    @abc.abstractmethod\n",
      "    def wrap(module):\n",
      "        return module\n",
      "\n",
      "    @staticmethod\n",
      "    def wrap_params(variables):\n",
      "        return freeze({\"params\": variables})\n",
      "\n",
      "    @staticmethod\n",
      "    @abc.abstractmethod\n",
      "    def unwrap_params(wrapped_variables):\n",
      "        return wrapped_variables\n",
      "\n",
      "\n",
      "registered_frameworks = []\n",
      "\n",
      "\n",
      "def framework(clz):\n",
      "    \"\"\"\n",
      "    Registers a framework and it's wrapper methods to make it\n",
      "    behave like a flax framework.\n",
      "    \"\"\"\n",
      "    clz = dataclasses.dataclass(frozen=True)(clz)\n",
      "    registered_frameworks.append(clz)\n",
      "    return clz\n",
      "\n",
      "\n",
      "@dataclasses.dataclass(frozen=True)\n",
      "class UnknownFramework(ModuleFramework):\n",
      "    name: str = \"Unknown\"\n",
      "\n",
      "    @staticmethod\n",
      "    def is_loaded() -> bool:\n",
      "        return True\n",
      "\n",
      "    @staticmethod\n",
      "    def is_my_module(module):\n",
      "        return False\n",
      "\n",
      "    @staticmethod\n",
      "    def wrap(module):\n",
      "        return module\n",
      "\n",
      "    @staticmethod\n",
      "    def unwrap_params(wrapped_variables):\n",
      "        return wrapped_variables\n",
      "\n",
      "\n",
      "def identify_framework(module):\n",
      "    for _framework in registered_frameworks:\n",
      "        if _framework.is_my_module(module):\n",
      "            return _framework\n",
      "\n",
      "    return UnknownFramework\n",
      "\n",
      "\n",
      "def maybe_wrap_module(module):\n",
      "    \"\"\"\n",
      "    Passing a module from an unknown framework (might be user defined module, a jax\n",
      "    module, flax or haiku or anything else really), attempt to identify what is the\n",
      "    package/framework it comes from, and if so it correctly wraps it in order to\n",
      "    make it behave like a flax module (our default).\n",
      "\n",
      "    Also returns a function used to unpack the parameters once we are done.\n",
      "    \"\"\"\n",
      "    framewrk = identify_framework(module)\n",
      "\n",
      "    return framewrk, framewrk.wrap(module)\n"
     ]
    },
    {
     "name": "stderr",
     "output_type": "stream",
     "text": [
      "C:\\Users\\kdeep\\anaconda3\\Lib\\site-packages\\xgboost\\core.py:158: UserWarning: [09:36:58] WARNING: C:\\buildkite-agent\\builds\\buildkite-windows-cpu-autoscaling-group-i-0015a694724fa8361-1\\xgboost\\xgboost-ci-windows\\src\\learner.cc:740: \n",
      "Parameters: { \"use_label_encoder\" } are not used.\n",
      "\n",
      "  warnings.warn(smsg, UserWarning)\n",
      "C:\\Users\\kdeep\\anaconda3\\Lib\\site-packages\\xgboost\\core.py:158: UserWarning: [09:36:58] WARNING: C:\\buildkite-agent\\builds\\buildkite-windows-cpu-autoscaling-group-i-0015a694724fa8361-1\\xgboost\\xgboost-ci-windows\\src\\learner.cc:740: \n",
      "Parameters: { \"use_label_encoder\" } are not used.\n",
      "\n",
      "  warnings.warn(smsg, UserWarning)\n"
     ]
    },
    {
     "name": "stdout",
     "output_type": "stream",
     "text": [
      "Precision: 0.6666666666666666, Recall: 0.4, Accuracy: 0.6\n",
      "Precision: 1.0, Recall: 0.8, Accuracy: 0.9\n"
     ]
    },
    {
     "name": "stderr",
     "output_type": "stream",
     "text": [
      "C:\\Users\\kdeep\\anaconda3\\Lib\\site-packages\\xgboost\\core.py:158: UserWarning: [09:36:58] WARNING: C:\\buildkite-agent\\builds\\buildkite-windows-cpu-autoscaling-group-i-0015a694724fa8361-1\\xgboost\\xgboost-ci-windows\\src\\learner.cc:740: \n",
      "Parameters: { \"use_label_encoder\" } are not used.\n",
      "\n",
      "  warnings.warn(smsg, UserWarning)\n",
      "C:\\Users\\kdeep\\anaconda3\\Lib\\site-packages\\xgboost\\core.py:158: UserWarning: [09:36:58] WARNING: C:\\buildkite-agent\\builds\\buildkite-windows-cpu-autoscaling-group-i-0015a694724fa8361-1\\xgboost\\xgboost-ci-windows\\src\\learner.cc:740: \n",
      "Parameters: { \"use_label_encoder\" } are not used.\n",
      "\n",
      "  warnings.warn(smsg, UserWarning)\n"
     ]
    },
    {
     "name": "stdout",
     "output_type": "stream",
     "text": [
      "Precision: 0.8333333333333334, Recall: 1.0, Accuracy: 0.9\n",
      "Precision: 1.0, Recall: 0.8, Accuracy: 0.9\n",
      "Precision: 1.0, Recall: 0.6, Accuracy: 0.7777777777777778\n"
     ]
    },
    {
     "name": "stderr",
     "output_type": "stream",
     "text": [
      "C:\\Users\\kdeep\\anaconda3\\Lib\\site-packages\\xgboost\\core.py:158: UserWarning: [09:36:59] WARNING: C:\\buildkite-agent\\builds\\buildkite-windows-cpu-autoscaling-group-i-0015a694724fa8361-1\\xgboost\\xgboost-ci-windows\\src\\learner.cc:740: \n",
      "Parameters: { \"use_label_encoder\" } are not used.\n",
      "\n",
      "  warnings.warn(smsg, UserWarning)\n",
      "C:\\Users\\kdeep\\anaconda3\\Lib\\site-packages\\xgboost\\core.py:158: UserWarning: [09:36:59] WARNING: C:\\buildkite-agent\\builds\\buildkite-windows-cpu-autoscaling-group-i-0015a694724fa8361-1\\xgboost\\xgboost-ci-windows\\src\\learner.cc:740: \n",
      "Parameters: { \"use_label_encoder\" } are not used.\n",
      "\n",
      "  warnings.warn(smsg, UserWarning)\n"
     ]
    },
    {
     "name": "stdout",
     "output_type": "stream",
     "text": [
      "Precision: 0.5, Recall: 0.8, Accuracy: 0.4444444444444444\n",
      "Precision: 0.6666666666666666, Recall: 0.8, Accuracy: 0.6666666666666666\n"
     ]
    },
    {
     "name": "stderr",
     "output_type": "stream",
     "text": [
      "C:\\Users\\kdeep\\anaconda3\\Lib\\site-packages\\xgboost\\core.py:158: UserWarning: [09:36:59] WARNING: C:\\buildkite-agent\\builds\\buildkite-windows-cpu-autoscaling-group-i-0015a694724fa8361-1\\xgboost\\xgboost-ci-windows\\src\\learner.cc:740: \n",
      "Parameters: { \"use_label_encoder\" } are not used.\n",
      "\n",
      "  warnings.warn(smsg, UserWarning)\n",
      "C:\\Users\\kdeep\\anaconda3\\Lib\\site-packages\\xgboost\\core.py:158: UserWarning: [09:36:59] WARNING: C:\\buildkite-agent\\builds\\buildkite-windows-cpu-autoscaling-group-i-0015a694724fa8361-1\\xgboost\\xgboost-ci-windows\\src\\learner.cc:740: \n",
      "Parameters: { \"use_label_encoder\" } are not used.\n",
      "\n",
      "  warnings.warn(smsg, UserWarning)\n",
      "C:\\Users\\kdeep\\anaconda3\\Lib\\site-packages\\xgboost\\core.py:158: UserWarning: [09:36:59] WARNING: C:\\buildkite-agent\\builds\\buildkite-windows-cpu-autoscaling-group-i-0015a694724fa8361-1\\xgboost\\xgboost-ci-windows\\src\\learner.cc:740: \n",
      "Parameters: { \"use_label_encoder\" } are not used.\n",
      "\n",
      "  warnings.warn(smsg, UserWarning)\n"
     ]
    },
    {
     "name": "stdout",
     "output_type": "stream",
     "text": [
      "Precision: 0.6, Recall: 0.75, Accuracy: 0.6666666666666666\n",
      "Precision: 0.75, Recall: 0.75, Accuracy: 0.7777777777777778\n"
     ]
    },
    {
     "name": "stderr",
     "output_type": "stream",
     "text": [
      "C:\\Users\\kdeep\\anaconda3\\Lib\\site-packages\\xgboost\\core.py:158: UserWarning: [09:37:00] WARNING: C:\\buildkite-agent\\builds\\buildkite-windows-cpu-autoscaling-group-i-0015a694724fa8361-1\\xgboost\\xgboost-ci-windows\\src\\learner.cc:740: \n",
      "Parameters: { \"use_label_encoder\" } are not used.\n",
      "\n",
      "  warnings.warn(smsg, UserWarning)\n"
     ]
    },
    {
     "name": "stdout",
     "output_type": "stream",
     "text": [
      "Precision: 0.6, Recall: 0.75, Accuracy: 0.6666666666666666\n",
      "Results to be written: eta=0.5, depth=3, dim=0, eps=0.3, (42.3, 42.3, 4.7, 4.7, 0.7616666666666666, 0.745, 0.7300000000000001, 379617, 0.7232460199855268, 0.006649840035955763)\n",
      "eta=0.5, depth=3, dim=0, eps=0.5\n",
      "Number of flaky documents: 47\n",
      "Number of non-flaky documents: 47\n",
      "Total number of documents: 94\n",
      "Sample document: # Copyright 2021 The NetKet Authors - All rights reserved.\n",
      "#\n",
      "# Licensed under the Apache License, Version 2.0 (the \"License\");\n",
      "# you may not use this file except in compliance with the License.\n",
      "# You may obtain a copy of the License at\n",
      "#\n",
      "#    http://www.apache.org/licenses/LICENSE-2.0\n",
      "#\n",
      "# Unless required by applicable law or agreed to in writing, software\n",
      "# distributed under the License is distributed on an \"AS IS\" BASIS,\n",
      "# WITHOUT WARRANTIES OR CONDITIONS OF ANY KIND, either express or implied.\n",
      "# See the License for the specific language governing permissions and\n",
      "# limitations under the License.\n",
      "\n",
      "import dataclasses\n",
      "import abc\n",
      "\n",
      "from flax.core import freeze\n",
      "\n",
      "\n",
      "@dataclasses.dataclass(frozen=True)\n",
      "class ModuleFramework(abc.ABC):\n",
      "    @staticmethod\n",
      "    @abc.abstractmethod\n",
      "    def is_loaded() -> bool:\n",
      "        pass\n",
      "\n",
      "    @staticmethod\n",
      "    @abc.abstractmethod\n",
      "    def is_my_module(module):\n",
      "        pass\n",
      "\n",
      "    @staticmethod\n",
      "    @abc.abstractmethod\n",
      "    def wrap(module):\n",
      "        return module\n",
      "\n",
      "    @staticmethod\n",
      "    def wrap_params(variables):\n",
      "        return freeze({\"params\": variables})\n",
      "\n",
      "    @staticmethod\n",
      "    @abc.abstractmethod\n",
      "    def unwrap_params(wrapped_variables):\n",
      "        return wrapped_variables\n",
      "\n",
      "\n",
      "registered_frameworks = []\n",
      "\n",
      "\n",
      "def framework(clz):\n",
      "    \"\"\"\n",
      "    Registers a framework and it's wrapper methods to make it\n",
      "    behave like a flax framework.\n",
      "    \"\"\"\n",
      "    clz = dataclasses.dataclass(frozen=True)(clz)\n",
      "    registered_frameworks.append(clz)\n",
      "    return clz\n",
      "\n",
      "\n",
      "@dataclasses.dataclass(frozen=True)\n",
      "class UnknownFramework(ModuleFramework):\n",
      "    name: str = \"Unknown\"\n",
      "\n",
      "    @staticmethod\n",
      "    def is_loaded() -> bool:\n",
      "        return True\n",
      "\n",
      "    @staticmethod\n",
      "    def is_my_module(module):\n",
      "        return False\n",
      "\n",
      "    @staticmethod\n",
      "    def wrap(module):\n",
      "        return module\n",
      "\n",
      "    @staticmethod\n",
      "    def unwrap_params(wrapped_variables):\n",
      "        return wrapped_variables\n",
      "\n",
      "\n",
      "def identify_framework(module):\n",
      "    for _framework in registered_frameworks:\n",
      "        if _framework.is_my_module(module):\n",
      "            return _framework\n",
      "\n",
      "    return UnknownFramework\n",
      "\n",
      "\n",
      "def maybe_wrap_module(module):\n",
      "    \"\"\"\n",
      "    Passing a module from an unknown framework (might be user defined module, a jax\n",
      "    module, flax or haiku or anything else really), attempt to identify what is the\n",
      "    package/framework it comes from, and if so it correctly wraps it in order to\n",
      "    make it behave like a flax module (our default).\n",
      "\n",
      "    Also returns a function used to unpack the parameters once we are done.\n",
      "    \"\"\"\n",
      "    framewrk = identify_framework(module)\n",
      "\n",
      "    return framewrk, framewrk.wrap(module)\n"
     ]
    },
    {
     "name": "stderr",
     "output_type": "stream",
     "text": [
      "C:\\Users\\kdeep\\anaconda3\\Lib\\site-packages\\xgboost\\core.py:158: UserWarning: [09:37:00] WARNING: C:\\buildkite-agent\\builds\\buildkite-windows-cpu-autoscaling-group-i-0015a694724fa8361-1\\xgboost\\xgboost-ci-windows\\src\\learner.cc:740: \n",
      "Parameters: { \"use_label_encoder\" } are not used.\n",
      "\n",
      "  warnings.warn(smsg, UserWarning)\n",
      "C:\\Users\\kdeep\\anaconda3\\Lib\\site-packages\\xgboost\\core.py:158: UserWarning: [09:37:00] WARNING: C:\\buildkite-agent\\builds\\buildkite-windows-cpu-autoscaling-group-i-0015a694724fa8361-1\\xgboost\\xgboost-ci-windows\\src\\learner.cc:740: \n",
      "Parameters: { \"use_label_encoder\" } are not used.\n",
      "\n",
      "  warnings.warn(smsg, UserWarning)\n"
     ]
    },
    {
     "name": "stdout",
     "output_type": "stream",
     "text": [
      "Precision: 1.0, Recall: 0.4, Accuracy: 0.7\n",
      "Precision: 1.0, Recall: 0.6, Accuracy: 0.8\n"
     ]
    },
    {
     "name": "stderr",
     "output_type": "stream",
     "text": [
      "C:\\Users\\kdeep\\anaconda3\\Lib\\site-packages\\xgboost\\core.py:158: UserWarning: [09:37:00] WARNING: C:\\buildkite-agent\\builds\\buildkite-windows-cpu-autoscaling-group-i-0015a694724fa8361-1\\xgboost\\xgboost-ci-windows\\src\\learner.cc:740: \n",
      "Parameters: { \"use_label_encoder\" } are not used.\n",
      "\n",
      "  warnings.warn(smsg, UserWarning)\n",
      "C:\\Users\\kdeep\\anaconda3\\Lib\\site-packages\\xgboost\\core.py:158: UserWarning: [09:37:01] WARNING: C:\\buildkite-agent\\builds\\buildkite-windows-cpu-autoscaling-group-i-0015a694724fa8361-1\\xgboost\\xgboost-ci-windows\\src\\learner.cc:740: \n",
      "Parameters: { \"use_label_encoder\" } are not used.\n",
      "\n",
      "  warnings.warn(smsg, UserWarning)\n"
     ]
    },
    {
     "name": "stdout",
     "output_type": "stream",
     "text": [
      "Precision: 1.0, Recall: 0.6, Accuracy: 0.8\n",
      "Precision: 0.8, Recall: 0.8, Accuracy: 0.8\n"
     ]
    },
    {
     "name": "stderr",
     "output_type": "stream",
     "text": [
      "C:\\Users\\kdeep\\anaconda3\\Lib\\site-packages\\xgboost\\core.py:158: UserWarning: [09:37:01] WARNING: C:\\buildkite-agent\\builds\\buildkite-windows-cpu-autoscaling-group-i-0015a694724fa8361-1\\xgboost\\xgboost-ci-windows\\src\\learner.cc:740: \n",
      "Parameters: { \"use_label_encoder\" } are not used.\n",
      "\n",
      "  warnings.warn(smsg, UserWarning)\n",
      "C:\\Users\\kdeep\\anaconda3\\Lib\\site-packages\\xgboost\\core.py:158: UserWarning: [09:37:01] WARNING: C:\\buildkite-agent\\builds\\buildkite-windows-cpu-autoscaling-group-i-0015a694724fa8361-1\\xgboost\\xgboost-ci-windows\\src\\learner.cc:740: \n",
      "Parameters: { \"use_label_encoder\" } are not used.\n",
      "\n",
      "  warnings.warn(smsg, UserWarning)\n"
     ]
    },
    {
     "name": "stdout",
     "output_type": "stream",
     "text": [
      "Precision: 1.0, Recall: 0.6, Accuracy: 0.7777777777777778\n",
      "Precision: 0.625, Recall: 1.0, Accuracy: 0.6666666666666666\n"
     ]
    },
    {
     "name": "stderr",
     "output_type": "stream",
     "text": [
      "C:\\Users\\kdeep\\anaconda3\\Lib\\site-packages\\xgboost\\core.py:158: UserWarning: [09:37:01] WARNING: C:\\buildkite-agent\\builds\\buildkite-windows-cpu-autoscaling-group-i-0015a694724fa8361-1\\xgboost\\xgboost-ci-windows\\src\\learner.cc:740: \n",
      "Parameters: { \"use_label_encoder\" } are not used.\n",
      "\n",
      "  warnings.warn(smsg, UserWarning)\n",
      "C:\\Users\\kdeep\\anaconda3\\Lib\\site-packages\\xgboost\\core.py:158: UserWarning: [09:37:01] WARNING: C:\\buildkite-agent\\builds\\buildkite-windows-cpu-autoscaling-group-i-0015a694724fa8361-1\\xgboost\\xgboost-ci-windows\\src\\learner.cc:740: \n",
      "Parameters: { \"use_label_encoder\" } are not used.\n",
      "\n",
      "  warnings.warn(smsg, UserWarning)\n"
     ]
    },
    {
     "name": "stdout",
     "output_type": "stream",
     "text": [
      "Precision: 0.6666666666666666, Recall: 0.8, Accuracy: 0.6666666666666666\n",
      "Precision: 0.8, Recall: 1.0, Accuracy: 0.8888888888888888\n"
     ]
    },
    {
     "name": "stderr",
     "output_type": "stream",
     "text": [
      "C:\\Users\\kdeep\\anaconda3\\Lib\\site-packages\\xgboost\\core.py:158: UserWarning: [09:37:01] WARNING: C:\\buildkite-agent\\builds\\buildkite-windows-cpu-autoscaling-group-i-0015a694724fa8361-1\\xgboost\\xgboost-ci-windows\\src\\learner.cc:740: \n",
      "Parameters: { \"use_label_encoder\" } are not used.\n",
      "\n",
      "  warnings.warn(smsg, UserWarning)\n",
      "C:\\Users\\kdeep\\anaconda3\\Lib\\site-packages\\xgboost\\core.py:158: UserWarning: [09:37:02] WARNING: C:\\buildkite-agent\\builds\\buildkite-windows-cpu-autoscaling-group-i-0015a694724fa8361-1\\xgboost\\xgboost-ci-windows\\src\\learner.cc:740: \n",
      "Parameters: { \"use_label_encoder\" } are not used.\n",
      "\n",
      "  warnings.warn(smsg, UserWarning)\n"
     ]
    },
    {
     "name": "stdout",
     "output_type": "stream",
     "text": [
      "Precision: 1.0, Recall: 0.5, Accuracy: 0.7777777777777778\n",
      "Precision: 0.4, Recall: 0.5, Accuracy: 0.4444444444444444\n",
      "Results to be written: eta=0.5, depth=3, dim=0, eps=0.5, (42.3, 42.3, 4.7, 4.7, 0.8291666666666666, 0.6799999999999999, 0.7322222222222222, 164544, 0.5325694399420172, 0.004812607112462824)\n",
      "eta=0.5, depth=3, dim=100, eps=0.1\n",
      "Number of flaky documents: 47\n",
      "Number of non-flaky documents: 47\n",
      "Total number of documents: 94\n",
      "Sample document: # Copyright 2021 The NetKet Authors - All rights reserved.\n",
      "#\n",
      "# Licensed under the Apache License, Version 2.0 (the \"License\");\n",
      "# you may not use this file except in compliance with the License.\n",
      "# You may obtain a copy of the License at\n",
      "#\n",
      "#    http://www.apache.org/licenses/LICENSE-2.0\n",
      "#\n",
      "# Unless required by applicable law or agreed to in writing, software\n",
      "# distributed under the License is distributed on an \"AS IS\" BASIS,\n",
      "# WITHOUT WARRANTIES OR CONDITIONS OF ANY KIND, either express or implied.\n",
      "# See the License for the specific language governing permissions and\n",
      "# limitations under the License.\n",
      "\n",
      "import dataclasses\n",
      "import abc\n",
      "\n",
      "from flax.core import freeze\n",
      "\n",
      "\n",
      "@dataclasses.dataclass(frozen=True)\n",
      "class ModuleFramework(abc.ABC):\n",
      "    @staticmethod\n",
      "    @abc.abstractmethod\n",
      "    def is_loaded() -> bool:\n",
      "        pass\n",
      "\n",
      "    @staticmethod\n",
      "    @abc.abstractmethod\n",
      "    def is_my_module(module):\n",
      "        pass\n",
      "\n",
      "    @staticmethod\n",
      "    @abc.abstractmethod\n",
      "    def wrap(module):\n",
      "        return module\n",
      "\n",
      "    @staticmethod\n",
      "    def wrap_params(variables):\n",
      "        return freeze({\"params\": variables})\n",
      "\n",
      "    @staticmethod\n",
      "    @abc.abstractmethod\n",
      "    def unwrap_params(wrapped_variables):\n",
      "        return wrapped_variables\n",
      "\n",
      "\n",
      "registered_frameworks = []\n",
      "\n",
      "\n",
      "def framework(clz):\n",
      "    \"\"\"\n",
      "    Registers a framework and it's wrapper methods to make it\n",
      "    behave like a flax framework.\n",
      "    \"\"\"\n",
      "    clz = dataclasses.dataclass(frozen=True)(clz)\n",
      "    registered_frameworks.append(clz)\n",
      "    return clz\n",
      "\n",
      "\n",
      "@dataclasses.dataclass(frozen=True)\n",
      "class UnknownFramework(ModuleFramework):\n",
      "    name: str = \"Unknown\"\n",
      "\n",
      "    @staticmethod\n",
      "    def is_loaded() -> bool:\n",
      "        return True\n",
      "\n",
      "    @staticmethod\n",
      "    def is_my_module(module):\n",
      "        return False\n",
      "\n",
      "    @staticmethod\n",
      "    def wrap(module):\n",
      "        return module\n",
      "\n",
      "    @staticmethod\n",
      "    def unwrap_params(wrapped_variables):\n",
      "        return wrapped_variables\n",
      "\n",
      "\n",
      "def identify_framework(module):\n",
      "    for _framework in registered_frameworks:\n",
      "        if _framework.is_my_module(module):\n",
      "            return _framework\n",
      "\n",
      "    return UnknownFramework\n",
      "\n",
      "\n",
      "def maybe_wrap_module(module):\n",
      "    \"\"\"\n",
      "    Passing a module from an unknown framework (might be user defined module, a jax\n",
      "    module, flax or haiku or anything else really), attempt to identify what is the\n",
      "    package/framework it comes from, and if so it correctly wraps it in order to\n",
      "    make it behave like a flax module (our default).\n",
      "\n",
      "    Also returns a function used to unpack the parameters once we are done.\n",
      "    \"\"\"\n",
      "    framewrk = identify_framework(module)\n",
      "\n",
      "    return framewrk, framewrk.wrap(module)\n"
     ]
    },
    {
     "name": "stderr",
     "output_type": "stream",
     "text": [
      "C:\\Users\\kdeep\\anaconda3\\Lib\\site-packages\\xgboost\\core.py:158: UserWarning: [09:37:02] WARNING: C:\\buildkite-agent\\builds\\buildkite-windows-cpu-autoscaling-group-i-0015a694724fa8361-1\\xgboost\\xgboost-ci-windows\\src\\learner.cc:740: \n",
      "Parameters: { \"use_label_encoder\" } are not used.\n",
      "\n",
      "  warnings.warn(smsg, UserWarning)\n",
      "C:\\Users\\kdeep\\anaconda3\\Lib\\site-packages\\xgboost\\core.py:158: UserWarning: [09:37:02] WARNING: C:\\buildkite-agent\\builds\\buildkite-windows-cpu-autoscaling-group-i-0015a694724fa8361-1\\xgboost\\xgboost-ci-windows\\src\\learner.cc:740: \n",
      "Parameters: { \"use_label_encoder\" } are not used.\n",
      "\n",
      "  warnings.warn(smsg, UserWarning)\n"
     ]
    },
    {
     "name": "stdout",
     "output_type": "stream",
     "text": [
      "Precision: 0.5, Recall: 0.2, Accuracy: 0.5\n",
      "Precision: 0.6666666666666666, Recall: 0.8, Accuracy: 0.7\n"
     ]
    },
    {
     "name": "stderr",
     "output_type": "stream",
     "text": [
      "C:\\Users\\kdeep\\anaconda3\\Lib\\site-packages\\xgboost\\core.py:158: UserWarning: [09:37:02] WARNING: C:\\buildkite-agent\\builds\\buildkite-windows-cpu-autoscaling-group-i-0015a694724fa8361-1\\xgboost\\xgboost-ci-windows\\src\\learner.cc:740: \n",
      "Parameters: { \"use_label_encoder\" } are not used.\n",
      "\n",
      "  warnings.warn(smsg, UserWarning)\n",
      "C:\\Users\\kdeep\\anaconda3\\Lib\\site-packages\\xgboost\\core.py:158: UserWarning: [09:37:03] WARNING: C:\\buildkite-agent\\builds\\buildkite-windows-cpu-autoscaling-group-i-0015a694724fa8361-1\\xgboost\\xgboost-ci-windows\\src\\learner.cc:740: \n",
      "Parameters: { \"use_label_encoder\" } are not used.\n",
      "\n",
      "  warnings.warn(smsg, UserWarning)\n"
     ]
    },
    {
     "name": "stdout",
     "output_type": "stream",
     "text": [
      "Precision: 0.8, Recall: 0.8, Accuracy: 0.8\n",
      "Precision: 1.0, Recall: 0.6, Accuracy: 0.8\n"
     ]
    },
    {
     "name": "stderr",
     "output_type": "stream",
     "text": [
      "C:\\Users\\kdeep\\anaconda3\\Lib\\site-packages\\xgboost\\core.py:158: UserWarning: [09:37:03] WARNING: C:\\buildkite-agent\\builds\\buildkite-windows-cpu-autoscaling-group-i-0015a694724fa8361-1\\xgboost\\xgboost-ci-windows\\src\\learner.cc:740: \n",
      "Parameters: { \"use_label_encoder\" } are not used.\n",
      "\n",
      "  warnings.warn(smsg, UserWarning)\n",
      "C:\\Users\\kdeep\\anaconda3\\Lib\\site-packages\\xgboost\\core.py:158: UserWarning: [09:37:03] WARNING: C:\\buildkite-agent\\builds\\buildkite-windows-cpu-autoscaling-group-i-0015a694724fa8361-1\\xgboost\\xgboost-ci-windows\\src\\learner.cc:740: \n",
      "Parameters: { \"use_label_encoder\" } are not used.\n",
      "\n",
      "  warnings.warn(smsg, UserWarning)\n"
     ]
    },
    {
     "name": "stdout",
     "output_type": "stream",
     "text": [
      "Precision: 1.0, Recall: 0.4, Accuracy: 0.6666666666666666\n",
      "Precision: 0.5, Recall: 0.8, Accuracy: 0.4444444444444444\n"
     ]
    },
    {
     "name": "stderr",
     "output_type": "stream",
     "text": [
      "C:\\Users\\kdeep\\anaconda3\\Lib\\site-packages\\xgboost\\core.py:158: UserWarning: [09:37:03] WARNING: C:\\buildkite-agent\\builds\\buildkite-windows-cpu-autoscaling-group-i-0015a694724fa8361-1\\xgboost\\xgboost-ci-windows\\src\\learner.cc:740: \n",
      "Parameters: { \"use_label_encoder\" } are not used.\n",
      "\n",
      "  warnings.warn(smsg, UserWarning)\n",
      "C:\\Users\\kdeep\\anaconda3\\Lib\\site-packages\\xgboost\\core.py:158: UserWarning: [09:37:03] WARNING: C:\\buildkite-agent\\builds\\buildkite-windows-cpu-autoscaling-group-i-0015a694724fa8361-1\\xgboost\\xgboost-ci-windows\\src\\learner.cc:740: \n",
      "Parameters: { \"use_label_encoder\" } are not used.\n",
      "\n",
      "  warnings.warn(smsg, UserWarning)\n"
     ]
    },
    {
     "name": "stdout",
     "output_type": "stream",
     "text": [
      "Precision: 0.5, Recall: 0.6, Accuracy: 0.4444444444444444\n",
      "Precision: 0.6666666666666666, Recall: 1.0, Accuracy: 0.7777777777777778\n"
     ]
    },
    {
     "name": "stderr",
     "output_type": "stream",
     "text": [
      "C:\\Users\\kdeep\\anaconda3\\Lib\\site-packages\\xgboost\\core.py:158: UserWarning: [09:37:03] WARNING: C:\\buildkite-agent\\builds\\buildkite-windows-cpu-autoscaling-group-i-0015a694724fa8361-1\\xgboost\\xgboost-ci-windows\\src\\learner.cc:740: \n",
      "Parameters: { \"use_label_encoder\" } are not used.\n",
      "\n",
      "  warnings.warn(smsg, UserWarning)\n",
      "C:\\Users\\kdeep\\anaconda3\\Lib\\site-packages\\xgboost\\core.py:158: UserWarning: [09:37:03] WARNING: C:\\buildkite-agent\\builds\\buildkite-windows-cpu-autoscaling-group-i-0015a694724fa8361-1\\xgboost\\xgboost-ci-windows\\src\\learner.cc:740: \n",
      "Parameters: { \"use_label_encoder\" } are not used.\n",
      "\n",
      "  warnings.warn(smsg, UserWarning)\n"
     ]
    },
    {
     "name": "stdout",
     "output_type": "stream",
     "text": [
      "Precision: 0.8, Recall: 1.0, Accuracy: 0.8888888888888888\n",
      "Precision: 0.5, Recall: 0.5, Accuracy: 0.5555555555555556\n",
      "Results to be written: eta=0.5, depth=3, dim=100, eps=0.1, (42.3, 42.3, 4.7, 4.7, 0.6933333333333334, 0.6699999999999999, 0.6577777777777778, 75808, 0.5240208399482071, 0.004860978463626671)\n",
      "eta=0.5, depth=3, dim=100, eps=0.3\n",
      "Number of flaky documents: 47\n",
      "Number of non-flaky documents: 47\n",
      "Total number of documents: 94\n",
      "Sample document: # Copyright 2021 The NetKet Authors - All rights reserved.\n",
      "#\n",
      "# Licensed under the Apache License, Version 2.0 (the \"License\");\n",
      "# you may not use this file except in compliance with the License.\n",
      "# You may obtain a copy of the License at\n",
      "#\n",
      "#    http://www.apache.org/licenses/LICENSE-2.0\n",
      "#\n",
      "# Unless required by applicable law or agreed to in writing, software\n",
      "# distributed under the License is distributed on an \"AS IS\" BASIS,\n",
      "# WITHOUT WARRANTIES OR CONDITIONS OF ANY KIND, either express or implied.\n",
      "# See the License for the specific language governing permissions and\n",
      "# limitations under the License.\n",
      "\n",
      "import dataclasses\n",
      "import abc\n",
      "\n",
      "from flax.core import freeze\n",
      "\n",
      "\n",
      "@dataclasses.dataclass(frozen=True)\n",
      "class ModuleFramework(abc.ABC):\n",
      "    @staticmethod\n",
      "    @abc.abstractmethod\n",
      "    def is_loaded() -> bool:\n",
      "        pass\n",
      "\n",
      "    @staticmethod\n",
      "    @abc.abstractmethod\n",
      "    def is_my_module(module):\n",
      "        pass\n",
      "\n",
      "    @staticmethod\n",
      "    @abc.abstractmethod\n",
      "    def wrap(module):\n",
      "        return module\n",
      "\n",
      "    @staticmethod\n",
      "    def wrap_params(variables):\n",
      "        return freeze({\"params\": variables})\n",
      "\n",
      "    @staticmethod\n",
      "    @abc.abstractmethod\n",
      "    def unwrap_params(wrapped_variables):\n",
      "        return wrapped_variables\n",
      "\n",
      "\n",
      "registered_frameworks = []\n",
      "\n",
      "\n",
      "def framework(clz):\n",
      "    \"\"\"\n",
      "    Registers a framework and it's wrapper methods to make it\n",
      "    behave like a flax framework.\n",
      "    \"\"\"\n",
      "    clz = dataclasses.dataclass(frozen=True)(clz)\n",
      "    registered_frameworks.append(clz)\n",
      "    return clz\n",
      "\n",
      "\n",
      "@dataclasses.dataclass(frozen=True)\n",
      "class UnknownFramework(ModuleFramework):\n",
      "    name: str = \"Unknown\"\n",
      "\n",
      "    @staticmethod\n",
      "    def is_loaded() -> bool:\n",
      "        return True\n",
      "\n",
      "    @staticmethod\n",
      "    def is_my_module(module):\n",
      "        return False\n",
      "\n",
      "    @staticmethod\n",
      "    def wrap(module):\n",
      "        return module\n",
      "\n",
      "    @staticmethod\n",
      "    def unwrap_params(wrapped_variables):\n",
      "        return wrapped_variables\n",
      "\n",
      "\n",
      "def identify_framework(module):\n",
      "    for _framework in registered_frameworks:\n",
      "        if _framework.is_my_module(module):\n",
      "            return _framework\n",
      "\n",
      "    return UnknownFramework\n",
      "\n",
      "\n",
      "def maybe_wrap_module(module):\n",
      "    \"\"\"\n",
      "    Passing a module from an unknown framework (might be user defined module, a jax\n",
      "    module, flax or haiku or anything else really), attempt to identify what is the\n",
      "    package/framework it comes from, and if so it correctly wraps it in order to\n",
      "    make it behave like a flax module (our default).\n",
      "\n",
      "    Also returns a function used to unpack the parameters once we are done.\n",
      "    \"\"\"\n",
      "    framewrk = identify_framework(module)\n",
      "\n",
      "    return framewrk, framewrk.wrap(module)\n"
     ]
    },
    {
     "name": "stderr",
     "output_type": "stream",
     "text": [
      "C:\\Users\\kdeep\\anaconda3\\Lib\\site-packages\\xgboost\\core.py:158: UserWarning: [09:37:04] WARNING: C:\\buildkite-agent\\builds\\buildkite-windows-cpu-autoscaling-group-i-0015a694724fa8361-1\\xgboost\\xgboost-ci-windows\\src\\learner.cc:740: \n",
      "Parameters: { \"use_label_encoder\" } are not used.\n",
      "\n",
      "  warnings.warn(smsg, UserWarning)\n"
     ]
    },
    {
     "name": "stdout",
     "output_type": "stream",
     "text": [
      "Precision: 0.6666666666666666, Recall: 0.4, Accuracy: 0.6\n",
      "Precision: 0.8, Recall: 0.8, Accuracy: 0.8\n"
     ]
    },
    {
     "name": "stderr",
     "output_type": "stream",
     "text": [
      "C:\\Users\\kdeep\\anaconda3\\Lib\\site-packages\\xgboost\\core.py:158: UserWarning: [09:37:04] WARNING: C:\\buildkite-agent\\builds\\buildkite-windows-cpu-autoscaling-group-i-0015a694724fa8361-1\\xgboost\\xgboost-ci-windows\\src\\learner.cc:740: \n",
      "Parameters: { \"use_label_encoder\" } are not used.\n",
      "\n",
      "  warnings.warn(smsg, UserWarning)\n",
      "C:\\Users\\kdeep\\anaconda3\\Lib\\site-packages\\xgboost\\core.py:158: UserWarning: [09:37:05] WARNING: C:\\buildkite-agent\\builds\\buildkite-windows-cpu-autoscaling-group-i-0015a694724fa8361-1\\xgboost\\xgboost-ci-windows\\src\\learner.cc:740: \n",
      "Parameters: { \"use_label_encoder\" } are not used.\n",
      "\n",
      "  warnings.warn(smsg, UserWarning)\n"
     ]
    },
    {
     "name": "stdout",
     "output_type": "stream",
     "text": [
      "Precision: 0.8, Recall: 0.8, Accuracy: 0.8\n",
      "Precision: 0.75, Recall: 0.6, Accuracy: 0.7\n"
     ]
    },
    {
     "name": "stderr",
     "output_type": "stream",
     "text": [
      "C:\\Users\\kdeep\\anaconda3\\Lib\\site-packages\\xgboost\\core.py:158: UserWarning: [09:37:05] WARNING: C:\\buildkite-agent\\builds\\buildkite-windows-cpu-autoscaling-group-i-0015a694724fa8361-1\\xgboost\\xgboost-ci-windows\\src\\learner.cc:740: \n",
      "Parameters: { \"use_label_encoder\" } are not used.\n",
      "\n",
      "  warnings.warn(smsg, UserWarning)\n",
      "C:\\Users\\kdeep\\anaconda3\\Lib\\site-packages\\xgboost\\core.py:158: UserWarning: [09:37:05] WARNING: C:\\buildkite-agent\\builds\\buildkite-windows-cpu-autoscaling-group-i-0015a694724fa8361-1\\xgboost\\xgboost-ci-windows\\src\\learner.cc:740: \n",
      "Parameters: { \"use_label_encoder\" } are not used.\n",
      "\n",
      "  warnings.warn(smsg, UserWarning)\n"
     ]
    },
    {
     "name": "stdout",
     "output_type": "stream",
     "text": [
      "Precision: 1.0, Recall: 0.8, Accuracy: 0.8888888888888888\n",
      "Precision: 0.7142857142857143, Recall: 1.0, Accuracy: 0.7777777777777778\n"
     ]
    },
    {
     "name": "stderr",
     "output_type": "stream",
     "text": [
      "C:\\Users\\kdeep\\anaconda3\\Lib\\site-packages\\xgboost\\core.py:158: UserWarning: [09:37:05] WARNING: C:\\buildkite-agent\\builds\\buildkite-windows-cpu-autoscaling-group-i-0015a694724fa8361-1\\xgboost\\xgboost-ci-windows\\src\\learner.cc:740: \n",
      "Parameters: { \"use_label_encoder\" } are not used.\n",
      "\n",
      "  warnings.warn(smsg, UserWarning)\n",
      "C:\\Users\\kdeep\\anaconda3\\Lib\\site-packages\\xgboost\\core.py:158: UserWarning: [09:37:05] WARNING: C:\\buildkite-agent\\builds\\buildkite-windows-cpu-autoscaling-group-i-0015a694724fa8361-1\\xgboost\\xgboost-ci-windows\\src\\learner.cc:740: \n",
      "Parameters: { \"use_label_encoder\" } are not used.\n",
      "\n",
      "  warnings.warn(smsg, UserWarning)\n"
     ]
    },
    {
     "name": "stdout",
     "output_type": "stream",
     "text": [
      "Precision: 0.5, Recall: 0.4, Accuracy: 0.4444444444444444\n",
      "Precision: 0.6666666666666666, Recall: 1.0, Accuracy: 0.7777777777777778\n"
     ]
    },
    {
     "name": "stderr",
     "output_type": "stream",
     "text": [
      "C:\\Users\\kdeep\\anaconda3\\Lib\\site-packages\\xgboost\\core.py:158: UserWarning: [09:37:05] WARNING: C:\\buildkite-agent\\builds\\buildkite-windows-cpu-autoscaling-group-i-0015a694724fa8361-1\\xgboost\\xgboost-ci-windows\\src\\learner.cc:740: \n",
      "Parameters: { \"use_label_encoder\" } are not used.\n",
      "\n",
      "  warnings.warn(smsg, UserWarning)\n",
      "C:\\Users\\kdeep\\anaconda3\\Lib\\site-packages\\xgboost\\core.py:158: UserWarning: [09:37:06] WARNING: C:\\buildkite-agent\\builds\\buildkite-windows-cpu-autoscaling-group-i-0015a694724fa8361-1\\xgboost\\xgboost-ci-windows\\src\\learner.cc:740: \n",
      "Parameters: { \"use_label_encoder\" } are not used.\n",
      "\n",
      "  warnings.warn(smsg, UserWarning)\n"
     ]
    },
    {
     "name": "stdout",
     "output_type": "stream",
     "text": [
      "Precision: 0.8, Recall: 1.0, Accuracy: 0.8888888888888888\n",
      "Precision: 0.0, Recall: 0.0, Accuracy: 0.1111111111111111\n",
      "Results to be written: eta=0.5, depth=3, dim=100, eps=0.3, (42.3, 42.3, 4.7, 4.7, 0.6697619047619048, 0.68, 0.678888888888889, 75808, 0.611643259995617, 0.005545833647313327)\n",
      "eta=0.5, depth=3, dim=100, eps=0.5\n"
     ]
    },
    {
     "name": "stderr",
     "output_type": "stream",
     "text": [
      "C:\\Users\\kdeep\\anaconda3\\Lib\\site-packages\\xgboost\\core.py:158: UserWarning: [09:37:06] WARNING: C:\\buildkite-agent\\builds\\buildkite-windows-cpu-autoscaling-group-i-0015a694724fa8361-1\\xgboost\\xgboost-ci-windows\\src\\learner.cc:740: \n",
      "Parameters: { \"use_label_encoder\" } are not used.\n",
      "\n",
      "  warnings.warn(smsg, UserWarning)\n"
     ]
    },
    {
     "name": "stdout",
     "output_type": "stream",
     "text": [
      "Number of flaky documents: 47\n",
      "Number of non-flaky documents: 47\n",
      "Total number of documents: 94\n",
      "Sample document: # Copyright 2021 The NetKet Authors - All rights reserved.\n",
      "#\n",
      "# Licensed under the Apache License, Version 2.0 (the \"License\");\n",
      "# you may not use this file except in compliance with the License.\n",
      "# You may obtain a copy of the License at\n",
      "#\n",
      "#    http://www.apache.org/licenses/LICENSE-2.0\n",
      "#\n",
      "# Unless required by applicable law or agreed to in writing, software\n",
      "# distributed under the License is distributed on an \"AS IS\" BASIS,\n",
      "# WITHOUT WARRANTIES OR CONDITIONS OF ANY KIND, either express or implied.\n",
      "# See the License for the specific language governing permissions and\n",
      "# limitations under the License.\n",
      "\n",
      "import dataclasses\n",
      "import abc\n",
      "\n",
      "from flax.core import freeze\n",
      "\n",
      "\n",
      "@dataclasses.dataclass(frozen=True)\n",
      "class ModuleFramework(abc.ABC):\n",
      "    @staticmethod\n",
      "    @abc.abstractmethod\n",
      "    def is_loaded() -> bool:\n",
      "        pass\n",
      "\n",
      "    @staticmethod\n",
      "    @abc.abstractmethod\n",
      "    def is_my_module(module):\n",
      "        pass\n",
      "\n",
      "    @staticmethod\n",
      "    @abc.abstractmethod\n",
      "    def wrap(module):\n",
      "        return module\n",
      "\n",
      "    @staticmethod\n",
      "    def wrap_params(variables):\n",
      "        return freeze({\"params\": variables})\n",
      "\n",
      "    @staticmethod\n",
      "    @abc.abstractmethod\n",
      "    def unwrap_params(wrapped_variables):\n",
      "        return wrapped_variables\n",
      "\n",
      "\n",
      "registered_frameworks = []\n",
      "\n",
      "\n",
      "def framework(clz):\n",
      "    \"\"\"\n",
      "    Registers a framework and it's wrapper methods to make it\n",
      "    behave like a flax framework.\n",
      "    \"\"\"\n",
      "    clz = dataclasses.dataclass(frozen=True)(clz)\n",
      "    registered_frameworks.append(clz)\n",
      "    return clz\n",
      "\n",
      "\n",
      "@dataclasses.dataclass(frozen=True)\n",
      "class UnknownFramework(ModuleFramework):\n",
      "    name: str = \"Unknown\"\n",
      "\n",
      "    @staticmethod\n",
      "    def is_loaded() -> bool:\n",
      "        return True\n",
      "\n",
      "    @staticmethod\n",
      "    def is_my_module(module):\n",
      "        return False\n",
      "\n",
      "    @staticmethod\n",
      "    def wrap(module):\n",
      "        return module\n",
      "\n",
      "    @staticmethod\n",
      "    def unwrap_params(wrapped_variables):\n",
      "        return wrapped_variables\n",
      "\n",
      "\n",
      "def identify_framework(module):\n",
      "    for _framework in registered_frameworks:\n",
      "        if _framework.is_my_module(module):\n",
      "            return _framework\n",
      "\n",
      "    return UnknownFramework\n",
      "\n",
      "\n",
      "def maybe_wrap_module(module):\n",
      "    \"\"\"\n",
      "    Passing a module from an unknown framework (might be user defined module, a jax\n",
      "    module, flax or haiku or anything else really), attempt to identify what is the\n",
      "    package/framework it comes from, and if so it correctly wraps it in order to\n",
      "    make it behave like a flax module (our default).\n",
      "\n",
      "    Also returns a function used to unpack the parameters once we are done.\n",
      "    \"\"\"\n",
      "    framewrk = identify_framework(module)\n",
      "\n",
      "    return framewrk, framewrk.wrap(module)\n"
     ]
    },
    {
     "name": "stderr",
     "output_type": "stream",
     "text": [
      "C:\\Users\\kdeep\\anaconda3\\Lib\\site-packages\\xgboost\\core.py:158: UserWarning: [09:37:06] WARNING: C:\\buildkite-agent\\builds\\buildkite-windows-cpu-autoscaling-group-i-0015a694724fa8361-1\\xgboost\\xgboost-ci-windows\\src\\learner.cc:740: \n",
      "Parameters: { \"use_label_encoder\" } are not used.\n",
      "\n",
      "  warnings.warn(smsg, UserWarning)\n",
      "C:\\Users\\kdeep\\anaconda3\\Lib\\site-packages\\xgboost\\core.py:158: UserWarning: [09:37:06] WARNING: C:\\buildkite-agent\\builds\\buildkite-windows-cpu-autoscaling-group-i-0015a694724fa8361-1\\xgboost\\xgboost-ci-windows\\src\\learner.cc:740: \n",
      "Parameters: { \"use_label_encoder\" } are not used.\n",
      "\n",
      "  warnings.warn(smsg, UserWarning)\n"
     ]
    },
    {
     "name": "stdout",
     "output_type": "stream",
     "text": [
      "Precision: 0.6666666666666666, Recall: 0.4, Accuracy: 0.6\n",
      "Precision: 0.7142857142857143, Recall: 1.0, Accuracy: 0.8\n"
     ]
    },
    {
     "name": "stderr",
     "output_type": "stream",
     "text": [
      "C:\\Users\\kdeep\\anaconda3\\Lib\\site-packages\\xgboost\\core.py:158: UserWarning: [09:37:07] WARNING: C:\\buildkite-agent\\builds\\buildkite-windows-cpu-autoscaling-group-i-0015a694724fa8361-1\\xgboost\\xgboost-ci-windows\\src\\learner.cc:740: \n",
      "Parameters: { \"use_label_encoder\" } are not used.\n",
      "\n",
      "  warnings.warn(smsg, UserWarning)\n",
      "C:\\Users\\kdeep\\anaconda3\\Lib\\site-packages\\xgboost\\core.py:158: UserWarning: [09:37:07] WARNING: C:\\buildkite-agent\\builds\\buildkite-windows-cpu-autoscaling-group-i-0015a694724fa8361-1\\xgboost\\xgboost-ci-windows\\src\\learner.cc:740: \n",
      "Parameters: { \"use_label_encoder\" } are not used.\n",
      "\n",
      "  warnings.warn(smsg, UserWarning)\n"
     ]
    },
    {
     "name": "stdout",
     "output_type": "stream",
     "text": [
      "Precision: 1.0, Recall: 0.6, Accuracy: 0.8\n",
      "Precision: 1.0, Recall: 0.6, Accuracy: 0.8\n"
     ]
    },
    {
     "name": "stderr",
     "output_type": "stream",
     "text": [
      "C:\\Users\\kdeep\\anaconda3\\Lib\\site-packages\\xgboost\\core.py:158: UserWarning: [09:37:07] WARNING: C:\\buildkite-agent\\builds\\buildkite-windows-cpu-autoscaling-group-i-0015a694724fa8361-1\\xgboost\\xgboost-ci-windows\\src\\learner.cc:740: \n",
      "Parameters: { \"use_label_encoder\" } are not used.\n",
      "\n",
      "  warnings.warn(smsg, UserWarning)\n",
      "C:\\Users\\kdeep\\anaconda3\\Lib\\site-packages\\xgboost\\core.py:158: UserWarning: [09:37:07] WARNING: C:\\buildkite-agent\\builds\\buildkite-windows-cpu-autoscaling-group-i-0015a694724fa8361-1\\xgboost\\xgboost-ci-windows\\src\\learner.cc:740: \n",
      "Parameters: { \"use_label_encoder\" } are not used.\n",
      "\n",
      "  warnings.warn(smsg, UserWarning)\n"
     ]
    },
    {
     "name": "stdout",
     "output_type": "stream",
     "text": [
      "Precision: 0.5, Recall: 0.2, Accuracy: 0.4444444444444444\n",
      "Precision: 0.5555555555555556, Recall: 1.0, Accuracy: 0.5555555555555556\n"
     ]
    },
    {
     "name": "stderr",
     "output_type": "stream",
     "text": [
      "C:\\Users\\kdeep\\anaconda3\\Lib\\site-packages\\xgboost\\core.py:158: UserWarning: [09:37:07] WARNING: C:\\buildkite-agent\\builds\\buildkite-windows-cpu-autoscaling-group-i-0015a694724fa8361-1\\xgboost\\xgboost-ci-windows\\src\\learner.cc:740: \n",
      "Parameters: { \"use_label_encoder\" } are not used.\n",
      "\n",
      "  warnings.warn(smsg, UserWarning)\n",
      "C:\\Users\\kdeep\\anaconda3\\Lib\\site-packages\\xgboost\\core.py:158: UserWarning: [09:37:07] WARNING: C:\\buildkite-agent\\builds\\buildkite-windows-cpu-autoscaling-group-i-0015a694724fa8361-1\\xgboost\\xgboost-ci-windows\\src\\learner.cc:740: \n",
      "Parameters: { \"use_label_encoder\" } are not used.\n",
      "\n",
      "  warnings.warn(smsg, UserWarning)\n"
     ]
    },
    {
     "name": "stdout",
     "output_type": "stream",
     "text": [
      "Precision: 0.6666666666666666, Recall: 0.8, Accuracy: 0.6666666666666666\n",
      "Precision: 0.5714285714285714, Recall: 1.0, Accuracy: 0.6666666666666666\n"
     ]
    },
    {
     "name": "stderr",
     "output_type": "stream",
     "text": [
      "C:\\Users\\kdeep\\anaconda3\\Lib\\site-packages\\xgboost\\core.py:158: UserWarning: [09:37:08] WARNING: C:\\buildkite-agent\\builds\\buildkite-windows-cpu-autoscaling-group-i-0015a694724fa8361-1\\xgboost\\xgboost-ci-windows\\src\\learner.cc:740: \n",
      "Parameters: { \"use_label_encoder\" } are not used.\n",
      "\n",
      "  warnings.warn(smsg, UserWarning)\n",
      "C:\\Users\\kdeep\\anaconda3\\Lib\\site-packages\\xgboost\\core.py:158: UserWarning: [09:37:08] WARNING: C:\\buildkite-agent\\builds\\buildkite-windows-cpu-autoscaling-group-i-0015a694724fa8361-1\\xgboost\\xgboost-ci-windows\\src\\learner.cc:740: \n",
      "Parameters: { \"use_label_encoder\" } are not used.\n",
      "\n",
      "  warnings.warn(smsg, UserWarning)\n"
     ]
    },
    {
     "name": "stdout",
     "output_type": "stream",
     "text": [
      "Precision: 1.0, Recall: 1.0, Accuracy: 1.0\n",
      "Precision: 0.25, Recall: 0.25, Accuracy: 0.3333333333333333\n",
      "Results to be written: eta=0.5, depth=3, dim=100, eps=0.5, (42.3, 42.3, 4.7, 4.7, 0.6924603174603174, 0.685, 0.6666666666666667, 75808, 0.5303304600296542, 0.004738602933953307)\n",
      "eta=0.5, depth=3, dim=200, eps=0.1\n",
      "Number of flaky documents: 47\n",
      "Number of non-flaky documents: 47\n",
      "Total number of documents: 94\n",
      "Sample document: # Copyright 2021 The NetKet Authors - All rights reserved.\n",
      "#\n",
      "# Licensed under the Apache License, Version 2.0 (the \"License\");\n",
      "# you may not use this file except in compliance with the License.\n",
      "# You may obtain a copy of the License at\n",
      "#\n",
      "#    http://www.apache.org/licenses/LICENSE-2.0\n",
      "#\n",
      "# Unless required by applicable law or agreed to in writing, software\n",
      "# distributed under the License is distributed on an \"AS IS\" BASIS,\n",
      "# WITHOUT WARRANTIES OR CONDITIONS OF ANY KIND, either express or implied.\n",
      "# See the License for the specific language governing permissions and\n",
      "# limitations under the License.\n",
      "\n",
      "import dataclasses\n",
      "import abc\n",
      "\n",
      "from flax.core import freeze\n",
      "\n",
      "\n",
      "@dataclasses.dataclass(frozen=True)\n",
      "class ModuleFramework(abc.ABC):\n",
      "    @staticmethod\n",
      "    @abc.abstractmethod\n",
      "    def is_loaded() -> bool:\n",
      "        pass\n",
      "\n",
      "    @staticmethod\n",
      "    @abc.abstractmethod\n",
      "    def is_my_module(module):\n",
      "        pass\n",
      "\n",
      "    @staticmethod\n",
      "    @abc.abstractmethod\n",
      "    def wrap(module):\n",
      "        return module\n",
      "\n",
      "    @staticmethod\n",
      "    def wrap_params(variables):\n",
      "        return freeze({\"params\": variables})\n",
      "\n",
      "    @staticmethod\n",
      "    @abc.abstractmethod\n",
      "    def unwrap_params(wrapped_variables):\n",
      "        return wrapped_variables\n",
      "\n",
      "\n",
      "registered_frameworks = []\n",
      "\n",
      "\n",
      "def framework(clz):\n",
      "    \"\"\"\n",
      "    Registers a framework and it's wrapper methods to make it\n",
      "    behave like a flax framework.\n",
      "    \"\"\"\n",
      "    clz = dataclasses.dataclass(frozen=True)(clz)\n",
      "    registered_frameworks.append(clz)\n",
      "    return clz\n",
      "\n",
      "\n",
      "@dataclasses.dataclass(frozen=True)\n",
      "class UnknownFramework(ModuleFramework):\n",
      "    name: str = \"Unknown\"\n",
      "\n",
      "    @staticmethod\n",
      "    def is_loaded() -> bool:\n",
      "        return True\n",
      "\n",
      "    @staticmethod\n",
      "    def is_my_module(module):\n",
      "        return False\n",
      "\n",
      "    @staticmethod\n",
      "    def wrap(module):\n",
      "        return module\n",
      "\n",
      "    @staticmethod\n",
      "    def unwrap_params(wrapped_variables):\n",
      "        return wrapped_variables\n",
      "\n",
      "\n",
      "def identify_framework(module):\n",
      "    for _framework in registered_frameworks:\n",
      "        if _framework.is_my_module(module):\n",
      "            return _framework\n",
      "\n",
      "    return UnknownFramework\n",
      "\n",
      "\n",
      "def maybe_wrap_module(module):\n",
      "    \"\"\"\n",
      "    Passing a module from an unknown framework (might be user defined module, a jax\n",
      "    module, flax or haiku or anything else really), attempt to identify what is the\n",
      "    package/framework it comes from, and if so it correctly wraps it in order to\n",
      "    make it behave like a flax module (our default).\n",
      "\n",
      "    Also returns a function used to unpack the parameters once we are done.\n",
      "    \"\"\"\n",
      "    framewrk = identify_framework(module)\n",
      "\n",
      "    return framewrk, framewrk.wrap(module)\n"
     ]
    },
    {
     "name": "stderr",
     "output_type": "stream",
     "text": [
      "C:\\Users\\kdeep\\anaconda3\\Lib\\site-packages\\xgboost\\core.py:158: UserWarning: [09:37:08] WARNING: C:\\buildkite-agent\\builds\\buildkite-windows-cpu-autoscaling-group-i-0015a694724fa8361-1\\xgboost\\xgboost-ci-windows\\src\\learner.cc:740: \n",
      "Parameters: { \"use_label_encoder\" } are not used.\n",
      "\n",
      "  warnings.warn(smsg, UserWarning)\n",
      "C:\\Users\\kdeep\\anaconda3\\Lib\\site-packages\\xgboost\\core.py:158: UserWarning: [09:37:08] WARNING: C:\\buildkite-agent\\builds\\buildkite-windows-cpu-autoscaling-group-i-0015a694724fa8361-1\\xgboost\\xgboost-ci-windows\\src\\learner.cc:740: \n",
      "Parameters: { \"use_label_encoder\" } are not used.\n",
      "\n",
      "  warnings.warn(smsg, UserWarning)\n"
     ]
    },
    {
     "name": "stdout",
     "output_type": "stream",
     "text": [
      "Precision: 0.6666666666666666, Recall: 0.4, Accuracy: 0.6\n",
      "Precision: 1.0, Recall: 0.8, Accuracy: 0.9\n"
     ]
    },
    {
     "name": "stderr",
     "output_type": "stream",
     "text": [
      "C:\\Users\\kdeep\\anaconda3\\Lib\\site-packages\\xgboost\\core.py:158: UserWarning: [09:37:09] WARNING: C:\\buildkite-agent\\builds\\buildkite-windows-cpu-autoscaling-group-i-0015a694724fa8361-1\\xgboost\\xgboost-ci-windows\\src\\learner.cc:740: \n",
      "Parameters: { \"use_label_encoder\" } are not used.\n",
      "\n",
      "  warnings.warn(smsg, UserWarning)\n",
      "C:\\Users\\kdeep\\anaconda3\\Lib\\site-packages\\xgboost\\core.py:158: UserWarning: [09:37:09] WARNING: C:\\buildkite-agent\\builds\\buildkite-windows-cpu-autoscaling-group-i-0015a694724fa8361-1\\xgboost\\xgboost-ci-windows\\src\\learner.cc:740: \n",
      "Parameters: { \"use_label_encoder\" } are not used.\n",
      "\n",
      "  warnings.warn(smsg, UserWarning)\n"
     ]
    },
    {
     "name": "stdout",
     "output_type": "stream",
     "text": [
      "Precision: 1.0, Recall: 1.0, Accuracy: 1.0\n",
      "Precision: 1.0, Recall: 0.6, Accuracy: 0.8\n"
     ]
    },
    {
     "name": "stderr",
     "output_type": "stream",
     "text": [
      "C:\\Users\\kdeep\\anaconda3\\Lib\\site-packages\\xgboost\\core.py:158: UserWarning: [09:37:09] WARNING: C:\\buildkite-agent\\builds\\buildkite-windows-cpu-autoscaling-group-i-0015a694724fa8361-1\\xgboost\\xgboost-ci-windows\\src\\learner.cc:740: \n",
      "Parameters: { \"use_label_encoder\" } are not used.\n",
      "\n",
      "  warnings.warn(smsg, UserWarning)\n",
      "C:\\Users\\kdeep\\anaconda3\\Lib\\site-packages\\xgboost\\core.py:158: UserWarning: [09:37:09] WARNING: C:\\buildkite-agent\\builds\\buildkite-windows-cpu-autoscaling-group-i-0015a694724fa8361-1\\xgboost\\xgboost-ci-windows\\src\\learner.cc:740: \n",
      "Parameters: { \"use_label_encoder\" } are not used.\n",
      "\n",
      "  warnings.warn(smsg, UserWarning)\n"
     ]
    },
    {
     "name": "stdout",
     "output_type": "stream",
     "text": [
      "Precision: 1.0, Recall: 0.6, Accuracy: 0.7777777777777778\n",
      "Precision: 0.5555555555555556, Recall: 1.0, Accuracy: 0.5555555555555556\n"
     ]
    },
    {
     "name": "stderr",
     "output_type": "stream",
     "text": [
      "C:\\Users\\kdeep\\anaconda3\\Lib\\site-packages\\xgboost\\core.py:158: UserWarning: [09:37:09] WARNING: C:\\buildkite-agent\\builds\\buildkite-windows-cpu-autoscaling-group-i-0015a694724fa8361-1\\xgboost\\xgboost-ci-windows\\src\\learner.cc:740: \n",
      "Parameters: { \"use_label_encoder\" } are not used.\n",
      "\n",
      "  warnings.warn(smsg, UserWarning)\n",
      "C:\\Users\\kdeep\\anaconda3\\Lib\\site-packages\\xgboost\\core.py:158: UserWarning: [09:37:09] WARNING: C:\\buildkite-agent\\builds\\buildkite-windows-cpu-autoscaling-group-i-0015a694724fa8361-1\\xgboost\\xgboost-ci-windows\\src\\learner.cc:740: \n",
      "Parameters: { \"use_label_encoder\" } are not used.\n",
      "\n",
      "  warnings.warn(smsg, UserWarning)\n"
     ]
    },
    {
     "name": "stdout",
     "output_type": "stream",
     "text": [
      "Precision: 0.5714285714285714, Recall: 0.8, Accuracy: 0.5555555555555556\n",
      "Precision: 0.5714285714285714, Recall: 1.0, Accuracy: 0.6666666666666666\n"
     ]
    },
    {
     "name": "stderr",
     "output_type": "stream",
     "text": [
      "C:\\Users\\kdeep\\anaconda3\\Lib\\site-packages\\xgboost\\core.py:158: UserWarning: [09:37:10] WARNING: C:\\buildkite-agent\\builds\\buildkite-windows-cpu-autoscaling-group-i-0015a694724fa8361-1\\xgboost\\xgboost-ci-windows\\src\\learner.cc:740: \n",
      "Parameters: { \"use_label_encoder\" } are not used.\n",
      "\n",
      "  warnings.warn(smsg, UserWarning)\n",
      "C:\\Users\\kdeep\\anaconda3\\Lib\\site-packages\\xgboost\\core.py:158: UserWarning: [09:37:10] WARNING: C:\\buildkite-agent\\builds\\buildkite-windows-cpu-autoscaling-group-i-0015a694724fa8361-1\\xgboost\\xgboost-ci-windows\\src\\learner.cc:740: \n",
      "Parameters: { \"use_label_encoder\" } are not used.\n",
      "\n",
      "  warnings.warn(smsg, UserWarning)\n"
     ]
    },
    {
     "name": "stdout",
     "output_type": "stream",
     "text": [
      "Precision: 1.0, Recall: 0.5, Accuracy: 0.7777777777777778\n",
      "Precision: 0.5, Recall: 0.5, Accuracy: 0.5555555555555556\n",
      "Results to be written: eta=0.5, depth=3, dim=200, eps=0.1, (42.3, 42.3, 4.7, 4.7, 0.7865079365079364, 0.72, 0.7188888888888888, 151008, 0.5524293999536892, 0.005086940656263099)\n",
      "eta=0.5, depth=3, dim=200, eps=0.3\n",
      "Number of flaky documents: 47\n",
      "Number of non-flaky documents: 47\n",
      "Total number of documents: 94\n",
      "Sample document: # Copyright 2021 The NetKet Authors - All rights reserved.\n",
      "#\n",
      "# Licensed under the Apache License, Version 2.0 (the \"License\");\n",
      "# you may not use this file except in compliance with the License.\n",
      "# You may obtain a copy of the License at\n",
      "#\n",
      "#    http://www.apache.org/licenses/LICENSE-2.0\n",
      "#\n",
      "# Unless required by applicable law or agreed to in writing, software\n",
      "# distributed under the License is distributed on an \"AS IS\" BASIS,\n",
      "# WITHOUT WARRANTIES OR CONDITIONS OF ANY KIND, either express or implied.\n",
      "# See the License for the specific language governing permissions and\n",
      "# limitations under the License.\n",
      "\n",
      "import dataclasses\n",
      "import abc\n",
      "\n",
      "from flax.core import freeze\n",
      "\n",
      "\n",
      "@dataclasses.dataclass(frozen=True)\n",
      "class ModuleFramework(abc.ABC):\n",
      "    @staticmethod\n",
      "    @abc.abstractmethod\n",
      "    def is_loaded() -> bool:\n",
      "        pass\n",
      "\n",
      "    @staticmethod\n",
      "    @abc.abstractmethod\n",
      "    def is_my_module(module):\n",
      "        pass\n",
      "\n",
      "    @staticmethod\n",
      "    @abc.abstractmethod\n",
      "    def wrap(module):\n",
      "        return module\n",
      "\n",
      "    @staticmethod\n",
      "    def wrap_params(variables):\n",
      "        return freeze({\"params\": variables})\n",
      "\n",
      "    @staticmethod\n",
      "    @abc.abstractmethod\n",
      "    def unwrap_params(wrapped_variables):\n",
      "        return wrapped_variables\n",
      "\n",
      "\n",
      "registered_frameworks = []\n",
      "\n",
      "\n",
      "def framework(clz):\n",
      "    \"\"\"\n",
      "    Registers a framework and it's wrapper methods to make it\n",
      "    behave like a flax framework.\n",
      "    \"\"\"\n",
      "    clz = dataclasses.dataclass(frozen=True)(clz)\n",
      "    registered_frameworks.append(clz)\n",
      "    return clz\n",
      "\n",
      "\n",
      "@dataclasses.dataclass(frozen=True)\n",
      "class UnknownFramework(ModuleFramework):\n",
      "    name: str = \"Unknown\"\n",
      "\n",
      "    @staticmethod\n",
      "    def is_loaded() -> bool:\n",
      "        return True\n",
      "\n",
      "    @staticmethod\n",
      "    def is_my_module(module):\n",
      "        return False\n",
      "\n",
      "    @staticmethod\n",
      "    def wrap(module):\n",
      "        return module\n",
      "\n",
      "    @staticmethod\n",
      "    def unwrap_params(wrapped_variables):\n",
      "        return wrapped_variables\n",
      "\n",
      "\n",
      "def identify_framework(module):\n",
      "    for _framework in registered_frameworks:\n",
      "        if _framework.is_my_module(module):\n",
      "            return _framework\n",
      "\n",
      "    return UnknownFramework\n",
      "\n",
      "\n",
      "def maybe_wrap_module(module):\n",
      "    \"\"\"\n",
      "    Passing a module from an unknown framework (might be user defined module, a jax\n",
      "    module, flax or haiku or anything else really), attempt to identify what is the\n",
      "    package/framework it comes from, and if so it correctly wraps it in order to\n",
      "    make it behave like a flax module (our default).\n",
      "\n",
      "    Also returns a function used to unpack the parameters once we are done.\n",
      "    \"\"\"\n",
      "    framewrk = identify_framework(module)\n",
      "\n",
      "    return framewrk, framewrk.wrap(module)\n"
     ]
    },
    {
     "name": "stderr",
     "output_type": "stream",
     "text": [
      "C:\\Users\\kdeep\\anaconda3\\Lib\\site-packages\\xgboost\\core.py:158: UserWarning: [09:37:10] WARNING: C:\\buildkite-agent\\builds\\buildkite-windows-cpu-autoscaling-group-i-0015a694724fa8361-1\\xgboost\\xgboost-ci-windows\\src\\learner.cc:740: \n",
      "Parameters: { \"use_label_encoder\" } are not used.\n",
      "\n",
      "  warnings.warn(smsg, UserWarning)\n",
      "C:\\Users\\kdeep\\anaconda3\\Lib\\site-packages\\xgboost\\core.py:158: UserWarning: [09:37:11] WARNING: C:\\buildkite-agent\\builds\\buildkite-windows-cpu-autoscaling-group-i-0015a694724fa8361-1\\xgboost\\xgboost-ci-windows\\src\\learner.cc:740: \n",
      "Parameters: { \"use_label_encoder\" } are not used.\n",
      "\n",
      "  warnings.warn(smsg, UserWarning)\n"
     ]
    },
    {
     "name": "stdout",
     "output_type": "stream",
     "text": [
      "Precision: 0.6666666666666666, Recall: 0.4, Accuracy: 0.6\n",
      "Precision: 1.0, Recall: 0.8, Accuracy: 0.9\n"
     ]
    },
    {
     "name": "stderr",
     "output_type": "stream",
     "text": [
      "C:\\Users\\kdeep\\anaconda3\\Lib\\site-packages\\xgboost\\core.py:158: UserWarning: [09:37:11] WARNING: C:\\buildkite-agent\\builds\\buildkite-windows-cpu-autoscaling-group-i-0015a694724fa8361-1\\xgboost\\xgboost-ci-windows\\src\\learner.cc:740: \n",
      "Parameters: { \"use_label_encoder\" } are not used.\n",
      "\n",
      "  warnings.warn(smsg, UserWarning)\n",
      "C:\\Users\\kdeep\\anaconda3\\Lib\\site-packages\\xgboost\\core.py:158: UserWarning: [09:37:11] WARNING: C:\\buildkite-agent\\builds\\buildkite-windows-cpu-autoscaling-group-i-0015a694724fa8361-1\\xgboost\\xgboost-ci-windows\\src\\learner.cc:740: \n",
      "Parameters: { \"use_label_encoder\" } are not used.\n",
      "\n",
      "  warnings.warn(smsg, UserWarning)\n"
     ]
    },
    {
     "name": "stdout",
     "output_type": "stream",
     "text": [
      "Precision: 1.0, Recall: 0.6, Accuracy: 0.8\n",
      "Precision: 0.8, Recall: 0.8, Accuracy: 0.8\n"
     ]
    },
    {
     "name": "stderr",
     "output_type": "stream",
     "text": [
      "C:\\Users\\kdeep\\anaconda3\\Lib\\site-packages\\xgboost\\core.py:158: UserWarning: [09:37:11] WARNING: C:\\buildkite-agent\\builds\\buildkite-windows-cpu-autoscaling-group-i-0015a694724fa8361-1\\xgboost\\xgboost-ci-windows\\src\\learner.cc:740: \n",
      "Parameters: { \"use_label_encoder\" } are not used.\n",
      "\n",
      "  warnings.warn(smsg, UserWarning)\n"
     ]
    },
    {
     "name": "stdout",
     "output_type": "stream",
     "text": [
      "Precision: 0.6666666666666666, Recall: 0.4, Accuracy: 0.5555555555555556\n",
      "Precision: 0.6666666666666666, Recall: 0.8, Accuracy: 0.6666666666666666\n"
     ]
    },
    {
     "name": "stderr",
     "output_type": "stream",
     "text": [
      "C:\\Users\\kdeep\\anaconda3\\Lib\\site-packages\\xgboost\\core.py:158: UserWarning: [09:37:11] WARNING: C:\\buildkite-agent\\builds\\buildkite-windows-cpu-autoscaling-group-i-0015a694724fa8361-1\\xgboost\\xgboost-ci-windows\\src\\learner.cc:740: \n",
      "Parameters: { \"use_label_encoder\" } are not used.\n",
      "\n",
      "  warnings.warn(smsg, UserWarning)\n",
      "C:\\Users\\kdeep\\anaconda3\\Lib\\site-packages\\xgboost\\core.py:158: UserWarning: [09:37:11] WARNING: C:\\buildkite-agent\\builds\\buildkite-windows-cpu-autoscaling-group-i-0015a694724fa8361-1\\xgboost\\xgboost-ci-windows\\src\\learner.cc:740: \n",
      "Parameters: { \"use_label_encoder\" } are not used.\n",
      "\n",
      "  warnings.warn(smsg, UserWarning)\n"
     ]
    },
    {
     "name": "stdout",
     "output_type": "stream",
     "text": [
      "Precision: 0.625, Recall: 1.0, Accuracy: 0.6666666666666666\n",
      "Precision: 1.0, Recall: 1.0, Accuracy: 1.0\n"
     ]
    },
    {
     "name": "stderr",
     "output_type": "stream",
     "text": [
      "C:\\Users\\kdeep\\anaconda3\\Lib\\site-packages\\xgboost\\core.py:158: UserWarning: [09:37:11] WARNING: C:\\buildkite-agent\\builds\\buildkite-windows-cpu-autoscaling-group-i-0015a694724fa8361-1\\xgboost\\xgboost-ci-windows\\src\\learner.cc:740: \n",
      "Parameters: { \"use_label_encoder\" } are not used.\n",
      "\n",
      "  warnings.warn(smsg, UserWarning)\n",
      "C:\\Users\\kdeep\\anaconda3\\Lib\\site-packages\\xgboost\\core.py:158: UserWarning: [09:37:12] WARNING: C:\\buildkite-agent\\builds\\buildkite-windows-cpu-autoscaling-group-i-0015a694724fa8361-1\\xgboost\\xgboost-ci-windows\\src\\learner.cc:740: \n",
      "Parameters: { \"use_label_encoder\" } are not used.\n",
      "\n",
      "  warnings.warn(smsg, UserWarning)\n"
     ]
    },
    {
     "name": "stdout",
     "output_type": "stream",
     "text": [
      "Precision: 1.0, Recall: 0.75, Accuracy: 0.8888888888888888\n",
      "Precision: 0.4, Recall: 0.5, Accuracy: 0.4444444444444444\n",
      "Results to be written: eta=0.5, depth=3, dim=200, eps=0.3, (42.3, 42.3, 4.7, 4.7, 0.7825000000000001, 0.7050000000000001, 0.7322222222222223, 151008, 0.5809770200401545, 0.005453042166021898)\n",
      "eta=0.5, depth=3, dim=200, eps=0.5\n"
     ]
    },
    {
     "name": "stderr",
     "output_type": "stream",
     "text": [
      "C:\\Users\\kdeep\\anaconda3\\Lib\\site-packages\\xgboost\\core.py:158: UserWarning: [09:37:12] WARNING: C:\\buildkite-agent\\builds\\buildkite-windows-cpu-autoscaling-group-i-0015a694724fa8361-1\\xgboost\\xgboost-ci-windows\\src\\learner.cc:740: \n",
      "Parameters: { \"use_label_encoder\" } are not used.\n",
      "\n",
      "  warnings.warn(smsg, UserWarning)\n"
     ]
    },
    {
     "name": "stdout",
     "output_type": "stream",
     "text": [
      "Number of flaky documents: 47\n",
      "Number of non-flaky documents: 47\n",
      "Total number of documents: 94\n",
      "Sample document: # Copyright 2021 The NetKet Authors - All rights reserved.\n",
      "#\n",
      "# Licensed under the Apache License, Version 2.0 (the \"License\");\n",
      "# you may not use this file except in compliance with the License.\n",
      "# You may obtain a copy of the License at\n",
      "#\n",
      "#    http://www.apache.org/licenses/LICENSE-2.0\n",
      "#\n",
      "# Unless required by applicable law or agreed to in writing, software\n",
      "# distributed under the License is distributed on an \"AS IS\" BASIS,\n",
      "# WITHOUT WARRANTIES OR CONDITIONS OF ANY KIND, either express or implied.\n",
      "# See the License for the specific language governing permissions and\n",
      "# limitations under the License.\n",
      "\n",
      "import dataclasses\n",
      "import abc\n",
      "\n",
      "from flax.core import freeze\n",
      "\n",
      "\n",
      "@dataclasses.dataclass(frozen=True)\n",
      "class ModuleFramework(abc.ABC):\n",
      "    @staticmethod\n",
      "    @abc.abstractmethod\n",
      "    def is_loaded() -> bool:\n",
      "        pass\n",
      "\n",
      "    @staticmethod\n",
      "    @abc.abstractmethod\n",
      "    def is_my_module(module):\n",
      "        pass\n",
      "\n",
      "    @staticmethod\n",
      "    @abc.abstractmethod\n",
      "    def wrap(module):\n",
      "        return module\n",
      "\n",
      "    @staticmethod\n",
      "    def wrap_params(variables):\n",
      "        return freeze({\"params\": variables})\n",
      "\n",
      "    @staticmethod\n",
      "    @abc.abstractmethod\n",
      "    def unwrap_params(wrapped_variables):\n",
      "        return wrapped_variables\n",
      "\n",
      "\n",
      "registered_frameworks = []\n",
      "\n",
      "\n",
      "def framework(clz):\n",
      "    \"\"\"\n",
      "    Registers a framework and it's wrapper methods to make it\n",
      "    behave like a flax framework.\n",
      "    \"\"\"\n",
      "    clz = dataclasses.dataclass(frozen=True)(clz)\n",
      "    registered_frameworks.append(clz)\n",
      "    return clz\n",
      "\n",
      "\n",
      "@dataclasses.dataclass(frozen=True)\n",
      "class UnknownFramework(ModuleFramework):\n",
      "    name: str = \"Unknown\"\n",
      "\n",
      "    @staticmethod\n",
      "    def is_loaded() -> bool:\n",
      "        return True\n",
      "\n",
      "    @staticmethod\n",
      "    def is_my_module(module):\n",
      "        return False\n",
      "\n",
      "    @staticmethod\n",
      "    def wrap(module):\n",
      "        return module\n",
      "\n",
      "    @staticmethod\n",
      "    def unwrap_params(wrapped_variables):\n",
      "        return wrapped_variables\n",
      "\n",
      "\n",
      "def identify_framework(module):\n",
      "    for _framework in registered_frameworks:\n",
      "        if _framework.is_my_module(module):\n",
      "            return _framework\n",
      "\n",
      "    return UnknownFramework\n",
      "\n",
      "\n",
      "def maybe_wrap_module(module):\n",
      "    \"\"\"\n",
      "    Passing a module from an unknown framework (might be user defined module, a jax\n",
      "    module, flax or haiku or anything else really), attempt to identify what is the\n",
      "    package/framework it comes from, and if so it correctly wraps it in order to\n",
      "    make it behave like a flax module (our default).\n",
      "\n",
      "    Also returns a function used to unpack the parameters once we are done.\n",
      "    \"\"\"\n",
      "    framewrk = identify_framework(module)\n",
      "\n",
      "    return framewrk, framewrk.wrap(module)\n"
     ]
    },
    {
     "name": "stderr",
     "output_type": "stream",
     "text": [
      "C:\\Users\\kdeep\\anaconda3\\Lib\\site-packages\\xgboost\\core.py:158: UserWarning: [09:37:12] WARNING: C:\\buildkite-agent\\builds\\buildkite-windows-cpu-autoscaling-group-i-0015a694724fa8361-1\\xgboost\\xgboost-ci-windows\\src\\learner.cc:740: \n",
      "Parameters: { \"use_label_encoder\" } are not used.\n",
      "\n",
      "  warnings.warn(smsg, UserWarning)\n",
      "C:\\Users\\kdeep\\anaconda3\\Lib\\site-packages\\xgboost\\core.py:158: UserWarning: [09:37:13] WARNING: C:\\buildkite-agent\\builds\\buildkite-windows-cpu-autoscaling-group-i-0015a694724fa8361-1\\xgboost\\xgboost-ci-windows\\src\\learner.cc:740: \n",
      "Parameters: { \"use_label_encoder\" } are not used.\n",
      "\n",
      "  warnings.warn(smsg, UserWarning)\n"
     ]
    },
    {
     "name": "stdout",
     "output_type": "stream",
     "text": [
      "Precision: 1.0, Recall: 0.2, Accuracy: 0.6\n",
      "Precision: 0.8, Recall: 0.8, Accuracy: 0.8\n"
     ]
    },
    {
     "name": "stderr",
     "output_type": "stream",
     "text": [
      "C:\\Users\\kdeep\\anaconda3\\Lib\\site-packages\\xgboost\\core.py:158: UserWarning: [09:37:13] WARNING: C:\\buildkite-agent\\builds\\buildkite-windows-cpu-autoscaling-group-i-0015a694724fa8361-1\\xgboost\\xgboost-ci-windows\\src\\learner.cc:740: \n",
      "Parameters: { \"use_label_encoder\" } are not used.\n",
      "\n",
      "  warnings.warn(smsg, UserWarning)\n",
      "C:\\Users\\kdeep\\anaconda3\\Lib\\site-packages\\xgboost\\core.py:158: UserWarning: [09:37:13] WARNING: C:\\buildkite-agent\\builds\\buildkite-windows-cpu-autoscaling-group-i-0015a694724fa8361-1\\xgboost\\xgboost-ci-windows\\src\\learner.cc:740: \n",
      "Parameters: { \"use_label_encoder\" } are not used.\n",
      "\n",
      "  warnings.warn(smsg, UserWarning)\n"
     ]
    },
    {
     "name": "stdout",
     "output_type": "stream",
     "text": [
      "Precision: 0.8333333333333334, Recall: 1.0, Accuracy: 0.9\n",
      "Precision: 1.0, Recall: 0.8, Accuracy: 0.9\n"
     ]
    },
    {
     "name": "stderr",
     "output_type": "stream",
     "text": [
      "C:\\Users\\kdeep\\anaconda3\\Lib\\site-packages\\xgboost\\core.py:158: UserWarning: [09:37:13] WARNING: C:\\buildkite-agent\\builds\\buildkite-windows-cpu-autoscaling-group-i-0015a694724fa8361-1\\xgboost\\xgboost-ci-windows\\src\\learner.cc:740: \n",
      "Parameters: { \"use_label_encoder\" } are not used.\n",
      "\n",
      "  warnings.warn(smsg, UserWarning)\n",
      "C:\\Users\\kdeep\\anaconda3\\Lib\\site-packages\\xgboost\\core.py:158: UserWarning: [09:37:13] WARNING: C:\\buildkite-agent\\builds\\buildkite-windows-cpu-autoscaling-group-i-0015a694724fa8361-1\\xgboost\\xgboost-ci-windows\\src\\learner.cc:740: \n",
      "Parameters: { \"use_label_encoder\" } are not used.\n",
      "\n",
      "  warnings.warn(smsg, UserWarning)\n"
     ]
    },
    {
     "name": "stdout",
     "output_type": "stream",
     "text": [
      "Precision: 1.0, Recall: 0.4, Accuracy: 0.6666666666666666\n",
      "Precision: 0.625, Recall: 1.0, Accuracy: 0.6666666666666666\n"
     ]
    },
    {
     "name": "stderr",
     "output_type": "stream",
     "text": [
      "C:\\Users\\kdeep\\anaconda3\\Lib\\site-packages\\xgboost\\core.py:158: UserWarning: [09:37:13] WARNING: C:\\buildkite-agent\\builds\\buildkite-windows-cpu-autoscaling-group-i-0015a694724fa8361-1\\xgboost\\xgboost-ci-windows\\src\\learner.cc:740: \n",
      "Parameters: { \"use_label_encoder\" } are not used.\n",
      "\n",
      "  warnings.warn(smsg, UserWarning)\n"
     ]
    },
    {
     "name": "stdout",
     "output_type": "stream",
     "text": [
      "Precision: 0.6666666666666666, Recall: 0.8, Accuracy: 0.6666666666666666\n"
     ]
    },
    {
     "name": "stderr",
     "output_type": "stream",
     "text": [
      "C:\\Users\\kdeep\\anaconda3\\Lib\\site-packages\\xgboost\\core.py:158: UserWarning: [09:37:13] WARNING: C:\\buildkite-agent\\builds\\buildkite-windows-cpu-autoscaling-group-i-0015a694724fa8361-1\\xgboost\\xgboost-ci-windows\\src\\learner.cc:740: \n",
      "Parameters: { \"use_label_encoder\" } are not used.\n",
      "\n",
      "  warnings.warn(smsg, UserWarning)\n"
     ]
    },
    {
     "name": "stdout",
     "output_type": "stream",
     "text": [
      "Precision: 0.5714285714285714, Recall: 1.0, Accuracy: 0.6666666666666666\n",
      "Precision: 0.75, Recall: 0.75, Accuracy: 0.7777777777777778\n"
     ]
    },
    {
     "name": "stderr",
     "output_type": "stream",
     "text": [
      "C:\\Users\\kdeep\\anaconda3\\Lib\\site-packages\\xgboost\\core.py:158: UserWarning: [09:37:14] WARNING: C:\\buildkite-agent\\builds\\buildkite-windows-cpu-autoscaling-group-i-0015a694724fa8361-1\\xgboost\\xgboost-ci-windows\\src\\learner.cc:740: \n",
      "Parameters: { \"use_label_encoder\" } are not used.\n",
      "\n",
      "  warnings.warn(smsg, UserWarning)\n",
      "C:\\Users\\kdeep\\anaconda3\\Lib\\site-packages\\xgboost\\core.py:158: UserWarning: [09:37:14] WARNING: C:\\buildkite-agent\\builds\\buildkite-windows-cpu-autoscaling-group-i-0015a694724fa8361-1\\xgboost\\xgboost-ci-windows\\src\\learner.cc:740: \n",
      "Parameters: { \"use_label_encoder\" } are not used.\n",
      "\n",
      "  warnings.warn(smsg, UserWarning)\n"
     ]
    },
    {
     "name": "stdout",
     "output_type": "stream",
     "text": [
      "Precision: 0.5714285714285714, Recall: 1.0, Accuracy: 0.6666666666666666\n",
      "Results to be written: eta=0.5, depth=3, dim=200, eps=0.5, (42.3, 42.3, 4.7, 4.7, 0.7817857142857142, 0.7749999999999999, 0.7311111111111112, 151008, 0.606439559988212, 0.006416312010180486)\n",
      "eta=0.5, depth=5, dim=0, eps=0.1\n",
      "Number of flaky documents: 47\n",
      "Number of non-flaky documents: 47\n",
      "Total number of documents: 94\n",
      "Sample document: # Copyright 2021 The NetKet Authors - All rights reserved.\n",
      "#\n",
      "# Licensed under the Apache License, Version 2.0 (the \"License\");\n",
      "# you may not use this file except in compliance with the License.\n",
      "# You may obtain a copy of the License at\n",
      "#\n",
      "#    http://www.apache.org/licenses/LICENSE-2.0\n",
      "#\n",
      "# Unless required by applicable law or agreed to in writing, software\n",
      "# distributed under the License is distributed on an \"AS IS\" BASIS,\n",
      "# WITHOUT WARRANTIES OR CONDITIONS OF ANY KIND, either express or implied.\n",
      "# See the License for the specific language governing permissions and\n",
      "# limitations under the License.\n",
      "\n",
      "import dataclasses\n",
      "import abc\n",
      "\n",
      "from flax.core import freeze\n",
      "\n",
      "\n",
      "@dataclasses.dataclass(frozen=True)\n",
      "class ModuleFramework(abc.ABC):\n",
      "    @staticmethod\n",
      "    @abc.abstractmethod\n",
      "    def is_loaded() -> bool:\n",
      "        pass\n",
      "\n",
      "    @staticmethod\n",
      "    @abc.abstractmethod\n",
      "    def is_my_module(module):\n",
      "        pass\n",
      "\n",
      "    @staticmethod\n",
      "    @abc.abstractmethod\n",
      "    def wrap(module):\n",
      "        return module\n",
      "\n",
      "    @staticmethod\n",
      "    def wrap_params(variables):\n",
      "        return freeze({\"params\": variables})\n",
      "\n",
      "    @staticmethod\n",
      "    @abc.abstractmethod\n",
      "    def unwrap_params(wrapped_variables):\n",
      "        return wrapped_variables\n",
      "\n",
      "\n",
      "registered_frameworks = []\n",
      "\n",
      "\n",
      "def framework(clz):\n",
      "    \"\"\"\n",
      "    Registers a framework and it's wrapper methods to make it\n",
      "    behave like a flax framework.\n",
      "    \"\"\"\n",
      "    clz = dataclasses.dataclass(frozen=True)(clz)\n",
      "    registered_frameworks.append(clz)\n",
      "    return clz\n",
      "\n",
      "\n",
      "@dataclasses.dataclass(frozen=True)\n",
      "class UnknownFramework(ModuleFramework):\n",
      "    name: str = \"Unknown\"\n",
      "\n",
      "    @staticmethod\n",
      "    def is_loaded() -> bool:\n",
      "        return True\n",
      "\n",
      "    @staticmethod\n",
      "    def is_my_module(module):\n",
      "        return False\n",
      "\n",
      "    @staticmethod\n",
      "    def wrap(module):\n",
      "        return module\n",
      "\n",
      "    @staticmethod\n",
      "    def unwrap_params(wrapped_variables):\n",
      "        return wrapped_variables\n",
      "\n",
      "\n",
      "def identify_framework(module):\n",
      "    for _framework in registered_frameworks:\n",
      "        if _framework.is_my_module(module):\n",
      "            return _framework\n",
      "\n",
      "    return UnknownFramework\n",
      "\n",
      "\n",
      "def maybe_wrap_module(module):\n",
      "    \"\"\"\n",
      "    Passing a module from an unknown framework (might be user defined module, a jax\n",
      "    module, flax or haiku or anything else really), attempt to identify what is the\n",
      "    package/framework it comes from, and if so it correctly wraps it in order to\n",
      "    make it behave like a flax module (our default).\n",
      "\n",
      "    Also returns a function used to unpack the parameters once we are done.\n",
      "    \"\"\"\n",
      "    framewrk = identify_framework(module)\n",
      "\n",
      "    return framewrk, framewrk.wrap(module)\n"
     ]
    },
    {
     "name": "stderr",
     "output_type": "stream",
     "text": [
      "C:\\Users\\kdeep\\anaconda3\\Lib\\site-packages\\xgboost\\core.py:158: UserWarning: [09:37:16] WARNING: C:\\buildkite-agent\\builds\\buildkite-windows-cpu-autoscaling-group-i-0015a694724fa8361-1\\xgboost\\xgboost-ci-windows\\src\\learner.cc:740: \n",
      "Parameters: { \"use_label_encoder\" } are not used.\n",
      "\n",
      "  warnings.warn(smsg, UserWarning)\n"
     ]
    },
    {
     "name": "stdout",
     "output_type": "stream",
     "text": [
      "Precision: 1.0, Recall: 0.6, Accuracy: 0.8\n"
     ]
    },
    {
     "name": "stderr",
     "output_type": "stream",
     "text": [
      "C:\\Users\\kdeep\\anaconda3\\Lib\\site-packages\\xgboost\\core.py:158: UserWarning: [09:37:17] WARNING: C:\\buildkite-agent\\builds\\buildkite-windows-cpu-autoscaling-group-i-0015a694724fa8361-1\\xgboost\\xgboost-ci-windows\\src\\learner.cc:740: \n",
      "Parameters: { \"use_label_encoder\" } are not used.\n",
      "\n",
      "  warnings.warn(smsg, UserWarning)\n"
     ]
    },
    {
     "name": "stdout",
     "output_type": "stream",
     "text": [
      "Precision: 1.0, Recall: 0.8, Accuracy: 0.9\n"
     ]
    },
    {
     "name": "stderr",
     "output_type": "stream",
     "text": [
      "C:\\Users\\kdeep\\anaconda3\\Lib\\site-packages\\xgboost\\core.py:158: UserWarning: [09:37:18] WARNING: C:\\buildkite-agent\\builds\\buildkite-windows-cpu-autoscaling-group-i-0015a694724fa8361-1\\xgboost\\xgboost-ci-windows\\src\\learner.cc:740: \n",
      "Parameters: { \"use_label_encoder\" } are not used.\n",
      "\n",
      "  warnings.warn(smsg, UserWarning)\n"
     ]
    },
    {
     "name": "stdout",
     "output_type": "stream",
     "text": [
      "Precision: 1.0, Recall: 0.8, Accuracy: 0.9\n"
     ]
    },
    {
     "name": "stderr",
     "output_type": "stream",
     "text": [
      "C:\\Users\\kdeep\\anaconda3\\Lib\\site-packages\\xgboost\\core.py:158: UserWarning: [09:37:19] WARNING: C:\\buildkite-agent\\builds\\buildkite-windows-cpu-autoscaling-group-i-0015a694724fa8361-1\\xgboost\\xgboost-ci-windows\\src\\learner.cc:740: \n",
      "Parameters: { \"use_label_encoder\" } are not used.\n",
      "\n",
      "  warnings.warn(smsg, UserWarning)\n"
     ]
    },
    {
     "name": "stdout",
     "output_type": "stream",
     "text": [
      "Precision: 1.0, Recall: 0.8, Accuracy: 0.9\n"
     ]
    },
    {
     "name": "stderr",
     "output_type": "stream",
     "text": [
      "C:\\Users\\kdeep\\anaconda3\\Lib\\site-packages\\xgboost\\core.py:158: UserWarning: [09:37:19] WARNING: C:\\buildkite-agent\\builds\\buildkite-windows-cpu-autoscaling-group-i-0015a694724fa8361-1\\xgboost\\xgboost-ci-windows\\src\\learner.cc:740: \n",
      "Parameters: { \"use_label_encoder\" } are not used.\n",
      "\n",
      "  warnings.warn(smsg, UserWarning)\n"
     ]
    },
    {
     "name": "stdout",
     "output_type": "stream",
     "text": [
      "Precision: 1.0, Recall: 0.6, Accuracy: 0.7777777777777778\n"
     ]
    },
    {
     "name": "stderr",
     "output_type": "stream",
     "text": [
      "C:\\Users\\kdeep\\anaconda3\\Lib\\site-packages\\xgboost\\core.py:158: UserWarning: [09:37:20] WARNING: C:\\buildkite-agent\\builds\\buildkite-windows-cpu-autoscaling-group-i-0015a694724fa8361-1\\xgboost\\xgboost-ci-windows\\src\\learner.cc:740: \n",
      "Parameters: { \"use_label_encoder\" } are not used.\n",
      "\n",
      "  warnings.warn(smsg, UserWarning)\n"
     ]
    },
    {
     "name": "stdout",
     "output_type": "stream",
     "text": [
      "Precision: 0.5555555555555556, Recall: 1.0, Accuracy: 0.5555555555555556\n"
     ]
    },
    {
     "name": "stderr",
     "output_type": "stream",
     "text": [
      "C:\\Users\\kdeep\\anaconda3\\Lib\\site-packages\\xgboost\\core.py:158: UserWarning: [09:37:21] WARNING: C:\\buildkite-agent\\builds\\buildkite-windows-cpu-autoscaling-group-i-0015a694724fa8361-1\\xgboost\\xgboost-ci-windows\\src\\learner.cc:740: \n",
      "Parameters: { \"use_label_encoder\" } are not used.\n",
      "\n",
      "  warnings.warn(smsg, UserWarning)\n"
     ]
    },
    {
     "name": "stdout",
     "output_type": "stream",
     "text": [
      "Precision: 0.6, Recall: 0.6, Accuracy: 0.5555555555555556\n"
     ]
    },
    {
     "name": "stderr",
     "output_type": "stream",
     "text": [
      "C:\\Users\\kdeep\\anaconda3\\Lib\\site-packages\\xgboost\\core.py:158: UserWarning: [09:37:22] WARNING: C:\\buildkite-agent\\builds\\buildkite-windows-cpu-autoscaling-group-i-0015a694724fa8361-1\\xgboost\\xgboost-ci-windows\\src\\learner.cc:740: \n",
      "Parameters: { \"use_label_encoder\" } are not used.\n",
      "\n",
      "  warnings.warn(smsg, UserWarning)\n"
     ]
    },
    {
     "name": "stdout",
     "output_type": "stream",
     "text": [
      "Precision: 1.0, Recall: 1.0, Accuracy: 1.0\n"
     ]
    },
    {
     "name": "stderr",
     "output_type": "stream",
     "text": [
      "C:\\Users\\kdeep\\anaconda3\\Lib\\site-packages\\xgboost\\core.py:158: UserWarning: [09:37:23] WARNING: C:\\buildkite-agent\\builds\\buildkite-windows-cpu-autoscaling-group-i-0015a694724fa8361-1\\xgboost\\xgboost-ci-windows\\src\\learner.cc:740: \n",
      "Parameters: { \"use_label_encoder\" } are not used.\n",
      "\n",
      "  warnings.warn(smsg, UserWarning)\n"
     ]
    },
    {
     "name": "stdout",
     "output_type": "stream",
     "text": [
      "Precision: 1.0, Recall: 0.75, Accuracy: 0.8888888888888888\n"
     ]
    },
    {
     "name": "stderr",
     "output_type": "stream",
     "text": [
      "C:\\Users\\kdeep\\anaconda3\\Lib\\site-packages\\xgboost\\core.py:158: UserWarning: [09:37:23] WARNING: C:\\buildkite-agent\\builds\\buildkite-windows-cpu-autoscaling-group-i-0015a694724fa8361-1\\xgboost\\xgboost-ci-windows\\src\\learner.cc:740: \n",
      "Parameters: { \"use_label_encoder\" } are not used.\n",
      "\n",
      "  warnings.warn(smsg, UserWarning)\n"
     ]
    },
    {
     "name": "stdout",
     "output_type": "stream",
     "text": [
      "Precision: 0.6, Recall: 0.75, Accuracy: 0.6666666666666666\n",
      "Results to be written: eta=0.5, depth=5, dim=0, eps=0.1, (42.3, 42.3, 4.7, 4.7, 0.8755555555555554, 0.7699999999999999, 0.7944444444444444, 2928897, 2.6630652900668794, 0.023067924446571093)\n",
      "eta=0.5, depth=5, dim=0, eps=0.3\n",
      "Number of flaky documents: 47\n",
      "Number of non-flaky documents: 47\n",
      "Total number of documents: 94\n",
      "Sample document: # Copyright 2021 The NetKet Authors - All rights reserved.\n",
      "#\n",
      "# Licensed under the Apache License, Version 2.0 (the \"License\");\n",
      "# you may not use this file except in compliance with the License.\n",
      "# You may obtain a copy of the License at\n",
      "#\n",
      "#    http://www.apache.org/licenses/LICENSE-2.0\n",
      "#\n",
      "# Unless required by applicable law or agreed to in writing, software\n",
      "# distributed under the License is distributed on an \"AS IS\" BASIS,\n",
      "# WITHOUT WARRANTIES OR CONDITIONS OF ANY KIND, either express or implied.\n",
      "# See the License for the specific language governing permissions and\n",
      "# limitations under the License.\n",
      "\n",
      "import dataclasses\n",
      "import abc\n",
      "\n",
      "from flax.core import freeze\n",
      "\n",
      "\n",
      "@dataclasses.dataclass(frozen=True)\n",
      "class ModuleFramework(abc.ABC):\n",
      "    @staticmethod\n",
      "    @abc.abstractmethod\n",
      "    def is_loaded() -> bool:\n",
      "        pass\n",
      "\n",
      "    @staticmethod\n",
      "    @abc.abstractmethod\n",
      "    def is_my_module(module):\n",
      "        pass\n",
      "\n",
      "    @staticmethod\n",
      "    @abc.abstractmethod\n",
      "    def wrap(module):\n",
      "        return module\n",
      "\n",
      "    @staticmethod\n",
      "    def wrap_params(variables):\n",
      "        return freeze({\"params\": variables})\n",
      "\n",
      "    @staticmethod\n",
      "    @abc.abstractmethod\n",
      "    def unwrap_params(wrapped_variables):\n",
      "        return wrapped_variables\n",
      "\n",
      "\n",
      "registered_frameworks = []\n",
      "\n",
      "\n",
      "def framework(clz):\n",
      "    \"\"\"\n",
      "    Registers a framework and it's wrapper methods to make it\n",
      "    behave like a flax framework.\n",
      "    \"\"\"\n",
      "    clz = dataclasses.dataclass(frozen=True)(clz)\n",
      "    registered_frameworks.append(clz)\n",
      "    return clz\n",
      "\n",
      "\n",
      "@dataclasses.dataclass(frozen=True)\n",
      "class UnknownFramework(ModuleFramework):\n",
      "    name: str = \"Unknown\"\n",
      "\n",
      "    @staticmethod\n",
      "    def is_loaded() -> bool:\n",
      "        return True\n",
      "\n",
      "    @staticmethod\n",
      "    def is_my_module(module):\n",
      "        return False\n",
      "\n",
      "    @staticmethod\n",
      "    def wrap(module):\n",
      "        return module\n",
      "\n",
      "    @staticmethod\n",
      "    def unwrap_params(wrapped_variables):\n",
      "        return wrapped_variables\n",
      "\n",
      "\n",
      "def identify_framework(module):\n",
      "    for _framework in registered_frameworks:\n",
      "        if _framework.is_my_module(module):\n",
      "            return _framework\n",
      "\n",
      "    return UnknownFramework\n",
      "\n",
      "\n",
      "def maybe_wrap_module(module):\n",
      "    \"\"\"\n",
      "    Passing a module from an unknown framework (might be user defined module, a jax\n",
      "    module, flax or haiku or anything else really), attempt to identify what is the\n",
      "    package/framework it comes from, and if so it correctly wraps it in order to\n",
      "    make it behave like a flax module (our default).\n",
      "\n",
      "    Also returns a function used to unpack the parameters once we are done.\n",
      "    \"\"\"\n",
      "    framewrk = identify_framework(module)\n",
      "\n",
      "    return framewrk, framewrk.wrap(module)\n"
     ]
    },
    {
     "name": "stderr",
     "output_type": "stream",
     "text": [
      "C:\\Users\\kdeep\\anaconda3\\Lib\\site-packages\\xgboost\\core.py:158: UserWarning: [09:37:25] WARNING: C:\\buildkite-agent\\builds\\buildkite-windows-cpu-autoscaling-group-i-0015a694724fa8361-1\\xgboost\\xgboost-ci-windows\\src\\learner.cc:740: \n",
      "Parameters: { \"use_label_encoder\" } are not used.\n",
      "\n",
      "  warnings.warn(smsg, UserWarning)\n",
      "C:\\Users\\kdeep\\anaconda3\\Lib\\site-packages\\xgboost\\core.py:158: UserWarning: [09:37:25] WARNING: C:\\buildkite-agent\\builds\\buildkite-windows-cpu-autoscaling-group-i-0015a694724fa8361-1\\xgboost\\xgboost-ci-windows\\src\\learner.cc:740: \n",
      "Parameters: { \"use_label_encoder\" } are not used.\n",
      "\n",
      "  warnings.warn(smsg, UserWarning)\n"
     ]
    },
    {
     "name": "stdout",
     "output_type": "stream",
     "text": [
      "Precision: 1.0, Recall: 0.2, Accuracy: 0.6\n",
      "Precision: 0.8, Recall: 0.8, Accuracy: 0.8\n"
     ]
    },
    {
     "name": "stderr",
     "output_type": "stream",
     "text": [
      "C:\\Users\\kdeep\\anaconda3\\Lib\\site-packages\\xgboost\\core.py:158: UserWarning: [09:37:25] WARNING: C:\\buildkite-agent\\builds\\buildkite-windows-cpu-autoscaling-group-i-0015a694724fa8361-1\\xgboost\\xgboost-ci-windows\\src\\learner.cc:740: \n",
      "Parameters: { \"use_label_encoder\" } are not used.\n",
      "\n",
      "  warnings.warn(smsg, UserWarning)\n"
     ]
    },
    {
     "name": "stdout",
     "output_type": "stream",
     "text": [
      "Precision: 1.0, Recall: 0.8, Accuracy: 0.9\n",
      "Precision: 1.0, Recall: 0.8, Accuracy: 0.9\n"
     ]
    },
    {
     "name": "stderr",
     "output_type": "stream",
     "text": [
      "C:\\Users\\kdeep\\anaconda3\\Lib\\site-packages\\xgboost\\core.py:158: UserWarning: [09:37:25] WARNING: C:\\buildkite-agent\\builds\\buildkite-windows-cpu-autoscaling-group-i-0015a694724fa8361-1\\xgboost\\xgboost-ci-windows\\src\\learner.cc:740: \n",
      "Parameters: { \"use_label_encoder\" } are not used.\n",
      "\n",
      "  warnings.warn(smsg, UserWarning)\n",
      "C:\\Users\\kdeep\\anaconda3\\Lib\\site-packages\\xgboost\\core.py:158: UserWarning: [09:37:25] WARNING: C:\\buildkite-agent\\builds\\buildkite-windows-cpu-autoscaling-group-i-0015a694724fa8361-1\\xgboost\\xgboost-ci-windows\\src\\learner.cc:740: \n",
      "Parameters: { \"use_label_encoder\" } are not used.\n",
      "\n",
      "  warnings.warn(smsg, UserWarning)\n"
     ]
    },
    {
     "name": "stdout",
     "output_type": "stream",
     "text": [
      "Precision: 1.0, Recall: 0.8, Accuracy: 0.8888888888888888\n"
     ]
    },
    {
     "name": "stderr",
     "output_type": "stream",
     "text": [
      "C:\\Users\\kdeep\\anaconda3\\Lib\\site-packages\\xgboost\\core.py:158: UserWarning: [09:37:26] WARNING: C:\\buildkite-agent\\builds\\buildkite-windows-cpu-autoscaling-group-i-0015a694724fa8361-1\\xgboost\\xgboost-ci-windows\\src\\learner.cc:740: \n",
      "Parameters: { \"use_label_encoder\" } are not used.\n",
      "\n",
      "  warnings.warn(smsg, UserWarning)\n",
      "C:\\Users\\kdeep\\anaconda3\\Lib\\site-packages\\xgboost\\core.py:158: UserWarning: [09:37:26] WARNING: C:\\buildkite-agent\\builds\\buildkite-windows-cpu-autoscaling-group-i-0015a694724fa8361-1\\xgboost\\xgboost-ci-windows\\src\\learner.cc:740: \n",
      "Parameters: { \"use_label_encoder\" } are not used.\n",
      "\n",
      "  warnings.warn(smsg, UserWarning)\n"
     ]
    },
    {
     "name": "stdout",
     "output_type": "stream",
     "text": [
      "Precision: 0.5714285714285714, Recall: 0.8, Accuracy: 0.5555555555555556\n",
      "Precision: 0.5714285714285714, Recall: 0.8, Accuracy: 0.5555555555555556\n"
     ]
    },
    {
     "name": "stderr",
     "output_type": "stream",
     "text": [
      "C:\\Users\\kdeep\\anaconda3\\Lib\\site-packages\\xgboost\\core.py:158: UserWarning: [09:37:26] WARNING: C:\\buildkite-agent\\builds\\buildkite-windows-cpu-autoscaling-group-i-0015a694724fa8361-1\\xgboost\\xgboost-ci-windows\\src\\learner.cc:740: \n",
      "Parameters: { \"use_label_encoder\" } are not used.\n",
      "\n",
      "  warnings.warn(smsg, UserWarning)\n"
     ]
    },
    {
     "name": "stdout",
     "output_type": "stream",
     "text": [
      "Precision: 0.8, Recall: 1.0, Accuracy: 0.8888888888888888\n",
      "Precision: 1.0, Recall: 1.0, Accuracy: 1.0\n"
     ]
    },
    {
     "name": "stderr",
     "output_type": "stream",
     "text": [
      "C:\\Users\\kdeep\\anaconda3\\Lib\\site-packages\\xgboost\\core.py:158: UserWarning: [09:37:26] WARNING: C:\\buildkite-agent\\builds\\buildkite-windows-cpu-autoscaling-group-i-0015a694724fa8361-1\\xgboost\\xgboost-ci-windows\\src\\learner.cc:740: \n",
      "Parameters: { \"use_label_encoder\" } are not used.\n",
      "\n",
      "  warnings.warn(smsg, UserWarning)\n",
      "C:\\Users\\kdeep\\anaconda3\\Lib\\site-packages\\xgboost\\core.py:158: UserWarning: [09:37:26] WARNING: C:\\buildkite-agent\\builds\\buildkite-windows-cpu-autoscaling-group-i-0015a694724fa8361-1\\xgboost\\xgboost-ci-windows\\src\\learner.cc:740: \n",
      "Parameters: { \"use_label_encoder\" } are not used.\n",
      "\n",
      "  warnings.warn(smsg, UserWarning)\n"
     ]
    },
    {
     "name": "stdout",
     "output_type": "stream",
     "text": [
      "Precision: 0.6, Recall: 0.75, Accuracy: 0.6666666666666666\n",
      "Results to be written: eta=0.5, depth=5, dim=0, eps=0.3, (42.3, 42.3, 4.7, 4.7, 0.8342857142857142, 0.775, 0.7755555555555556, 379617, 0.7276626600651072, 0.006553568723380354)\n",
      "eta=0.5, depth=5, dim=0, eps=0.5\n",
      "Number of flaky documents: 47\n",
      "Number of non-flaky documents: 47\n",
      "Total number of documents: 94\n",
      "Sample document: # Copyright 2021 The NetKet Authors - All rights reserved.\n",
      "#\n",
      "# Licensed under the Apache License, Version 2.0 (the \"License\");\n",
      "# you may not use this file except in compliance with the License.\n",
      "# You may obtain a copy of the License at\n",
      "#\n",
      "#    http://www.apache.org/licenses/LICENSE-2.0\n",
      "#\n",
      "# Unless required by applicable law or agreed to in writing, software\n",
      "# distributed under the License is distributed on an \"AS IS\" BASIS,\n",
      "# WITHOUT WARRANTIES OR CONDITIONS OF ANY KIND, either express or implied.\n",
      "# See the License for the specific language governing permissions and\n",
      "# limitations under the License.\n",
      "\n",
      "import dataclasses\n",
      "import abc\n",
      "\n",
      "from flax.core import freeze\n",
      "\n",
      "\n",
      "@dataclasses.dataclass(frozen=True)\n",
      "class ModuleFramework(abc.ABC):\n",
      "    @staticmethod\n",
      "    @abc.abstractmethod\n",
      "    def is_loaded() -> bool:\n",
      "        pass\n",
      "\n",
      "    @staticmethod\n",
      "    @abc.abstractmethod\n",
      "    def is_my_module(module):\n",
      "        pass\n",
      "\n",
      "    @staticmethod\n",
      "    @abc.abstractmethod\n",
      "    def wrap(module):\n",
      "        return module\n",
      "\n",
      "    @staticmethod\n",
      "    def wrap_params(variables):\n",
      "        return freeze({\"params\": variables})\n",
      "\n",
      "    @staticmethod\n",
      "    @abc.abstractmethod\n",
      "    def unwrap_params(wrapped_variables):\n",
      "        return wrapped_variables\n",
      "\n",
      "\n",
      "registered_frameworks = []\n",
      "\n",
      "\n",
      "def framework(clz):\n",
      "    \"\"\"\n",
      "    Registers a framework and it's wrapper methods to make it\n",
      "    behave like a flax framework.\n",
      "    \"\"\"\n",
      "    clz = dataclasses.dataclass(frozen=True)(clz)\n",
      "    registered_frameworks.append(clz)\n",
      "    return clz\n",
      "\n",
      "\n",
      "@dataclasses.dataclass(frozen=True)\n",
      "class UnknownFramework(ModuleFramework):\n",
      "    name: str = \"Unknown\"\n",
      "\n",
      "    @staticmethod\n",
      "    def is_loaded() -> bool:\n",
      "        return True\n",
      "\n",
      "    @staticmethod\n",
      "    def is_my_module(module):\n",
      "        return False\n",
      "\n",
      "    @staticmethod\n",
      "    def wrap(module):\n",
      "        return module\n",
      "\n",
      "    @staticmethod\n",
      "    def unwrap_params(wrapped_variables):\n",
      "        return wrapped_variables\n",
      "\n",
      "\n",
      "def identify_framework(module):\n",
      "    for _framework in registered_frameworks:\n",
      "        if _framework.is_my_module(module):\n",
      "            return _framework\n",
      "\n",
      "    return UnknownFramework\n",
      "\n",
      "\n",
      "def maybe_wrap_module(module):\n",
      "    \"\"\"\n",
      "    Passing a module from an unknown framework (might be user defined module, a jax\n",
      "    module, flax or haiku or anything else really), attempt to identify what is the\n",
      "    package/framework it comes from, and if so it correctly wraps it in order to\n",
      "    make it behave like a flax module (our default).\n",
      "\n",
      "    Also returns a function used to unpack the parameters once we are done.\n",
      "    \"\"\"\n",
      "    framewrk = identify_framework(module)\n",
      "\n",
      "    return framewrk, framewrk.wrap(module)\n"
     ]
    },
    {
     "name": "stderr",
     "output_type": "stream",
     "text": [
      "C:\\Users\\kdeep\\anaconda3\\Lib\\site-packages\\xgboost\\core.py:158: UserWarning: [09:37:27] WARNING: C:\\buildkite-agent\\builds\\buildkite-windows-cpu-autoscaling-group-i-0015a694724fa8361-1\\xgboost\\xgboost-ci-windows\\src\\learner.cc:740: \n",
      "Parameters: { \"use_label_encoder\" } are not used.\n",
      "\n",
      "  warnings.warn(smsg, UserWarning)\n",
      "C:\\Users\\kdeep\\anaconda3\\Lib\\site-packages\\xgboost\\core.py:158: UserWarning: [09:37:27] WARNING: C:\\buildkite-agent\\builds\\buildkite-windows-cpu-autoscaling-group-i-0015a694724fa8361-1\\xgboost\\xgboost-ci-windows\\src\\learner.cc:740: \n",
      "Parameters: { \"use_label_encoder\" } are not used.\n",
      "\n",
      "  warnings.warn(smsg, UserWarning)\n"
     ]
    },
    {
     "name": "stdout",
     "output_type": "stream",
     "text": [
      "Precision: 1.0, Recall: 0.6, Accuracy: 0.8\n",
      "Precision: 0.6666666666666666, Recall: 0.8, Accuracy: 0.7\n"
     ]
    },
    {
     "name": "stderr",
     "output_type": "stream",
     "text": [
      "C:\\Users\\kdeep\\anaconda3\\Lib\\site-packages\\xgboost\\core.py:158: UserWarning: [09:37:27] WARNING: C:\\buildkite-agent\\builds\\buildkite-windows-cpu-autoscaling-group-i-0015a694724fa8361-1\\xgboost\\xgboost-ci-windows\\src\\learner.cc:740: \n",
      "Parameters: { \"use_label_encoder\" } are not used.\n",
      "\n",
      "  warnings.warn(smsg, UserWarning)\n",
      "C:\\Users\\kdeep\\anaconda3\\Lib\\site-packages\\xgboost\\core.py:158: UserWarning: [09:37:27] WARNING: C:\\buildkite-agent\\builds\\buildkite-windows-cpu-autoscaling-group-i-0015a694724fa8361-1\\xgboost\\xgboost-ci-windows\\src\\learner.cc:740: \n",
      "Parameters: { \"use_label_encoder\" } are not used.\n",
      "\n",
      "  warnings.warn(smsg, UserWarning)\n"
     ]
    },
    {
     "name": "stdout",
     "output_type": "stream",
     "text": [
      "Precision: 1.0, Recall: 0.6, Accuracy: 0.8\n",
      "Precision: 1.0, Recall: 0.8, Accuracy: 0.9\n"
     ]
    },
    {
     "name": "stderr",
     "output_type": "stream",
     "text": [
      "C:\\Users\\kdeep\\anaconda3\\Lib\\site-packages\\xgboost\\core.py:158: UserWarning: [09:37:28] WARNING: C:\\buildkite-agent\\builds\\buildkite-windows-cpu-autoscaling-group-i-0015a694724fa8361-1\\xgboost\\xgboost-ci-windows\\src\\learner.cc:740: \n",
      "Parameters: { \"use_label_encoder\" } are not used.\n",
      "\n",
      "  warnings.warn(smsg, UserWarning)\n",
      "C:\\Users\\kdeep\\anaconda3\\Lib\\site-packages\\xgboost\\core.py:158: UserWarning: [09:37:28] WARNING: C:\\buildkite-agent\\builds\\buildkite-windows-cpu-autoscaling-group-i-0015a694724fa8361-1\\xgboost\\xgboost-ci-windows\\src\\learner.cc:740: \n",
      "Parameters: { \"use_label_encoder\" } are not used.\n",
      "\n",
      "  warnings.warn(smsg, UserWarning)\n"
     ]
    },
    {
     "name": "stdout",
     "output_type": "stream",
     "text": [
      "Precision: 0.75, Recall: 0.6, Accuracy: 0.6666666666666666\n",
      "Precision: 0.6, Recall: 0.6, Accuracy: 0.5555555555555556\n"
     ]
    },
    {
     "name": "stderr",
     "output_type": "stream",
     "text": [
      "C:\\Users\\kdeep\\anaconda3\\Lib\\site-packages\\xgboost\\core.py:158: UserWarning: [09:37:28] WARNING: C:\\buildkite-agent\\builds\\buildkite-windows-cpu-autoscaling-group-i-0015a694724fa8361-1\\xgboost\\xgboost-ci-windows\\src\\learner.cc:740: \n",
      "Parameters: { \"use_label_encoder\" } are not used.\n",
      "\n",
      "  warnings.warn(smsg, UserWarning)\n",
      "C:\\Users\\kdeep\\anaconda3\\Lib\\site-packages\\xgboost\\core.py:158: UserWarning: [09:37:28] WARNING: C:\\buildkite-agent\\builds\\buildkite-windows-cpu-autoscaling-group-i-0015a694724fa8361-1\\xgboost\\xgboost-ci-windows\\src\\learner.cc:740: \n",
      "Parameters: { \"use_label_encoder\" } are not used.\n",
      "\n",
      "  warnings.warn(smsg, UserWarning)\n"
     ]
    },
    {
     "name": "stdout",
     "output_type": "stream",
     "text": [
      "Precision: 0.6, Recall: 0.6, Accuracy: 0.5555555555555556\n",
      "Precision: 0.75, Recall: 0.75, Accuracy: 0.7777777777777778\n"
     ]
    },
    {
     "name": "stderr",
     "output_type": "stream",
     "text": [
      "C:\\Users\\kdeep\\anaconda3\\Lib\\site-packages\\xgboost\\core.py:158: UserWarning: [09:37:28] WARNING: C:\\buildkite-agent\\builds\\buildkite-windows-cpu-autoscaling-group-i-0015a694724fa8361-1\\xgboost\\xgboost-ci-windows\\src\\learner.cc:740: \n",
      "Parameters: { \"use_label_encoder\" } are not used.\n",
      "\n",
      "  warnings.warn(smsg, UserWarning)\n",
      "C:\\Users\\kdeep\\anaconda3\\Lib\\site-packages\\xgboost\\core.py:158: UserWarning: [09:37:28] WARNING: C:\\buildkite-agent\\builds\\buildkite-windows-cpu-autoscaling-group-i-0015a694724fa8361-1\\xgboost\\xgboost-ci-windows\\src\\learner.cc:740: \n",
      "Parameters: { \"use_label_encoder\" } are not used.\n",
      "\n",
      "  warnings.warn(smsg, UserWarning)\n"
     ]
    },
    {
     "name": "stdout",
     "output_type": "stream",
     "text": [
      "Precision: 0.6666666666666666, Recall: 0.5, Accuracy: 0.6666666666666666\n",
      "Precision: 0.5, Recall: 0.75, Accuracy: 0.5555555555555556\n",
      "Results to be written: eta=0.5, depth=5, dim=0, eps=0.5, (42.3, 42.3, 4.7, 4.7, 0.7533333333333332, 0.6599999999999999, 0.6977777777777777, 164544, 0.5568636799580418, 0.005147807174117302)\n",
      "eta=0.5, depth=5, dim=100, eps=0.1\n",
      "Number of flaky documents: 47\n",
      "Number of non-flaky documents: 47\n",
      "Total number of documents: 94\n",
      "Sample document: # Copyright 2021 The NetKet Authors - All rights reserved.\n",
      "#\n",
      "# Licensed under the Apache License, Version 2.0 (the \"License\");\n",
      "# you may not use this file except in compliance with the License.\n",
      "# You may obtain a copy of the License at\n",
      "#\n",
      "#    http://www.apache.org/licenses/LICENSE-2.0\n",
      "#\n",
      "# Unless required by applicable law or agreed to in writing, software\n",
      "# distributed under the License is distributed on an \"AS IS\" BASIS,\n",
      "# WITHOUT WARRANTIES OR CONDITIONS OF ANY KIND, either express or implied.\n",
      "# See the License for the specific language governing permissions and\n",
      "# limitations under the License.\n",
      "\n",
      "import dataclasses\n",
      "import abc\n",
      "\n",
      "from flax.core import freeze\n",
      "\n",
      "\n",
      "@dataclasses.dataclass(frozen=True)\n",
      "class ModuleFramework(abc.ABC):\n",
      "    @staticmethod\n",
      "    @abc.abstractmethod\n",
      "    def is_loaded() -> bool:\n",
      "        pass\n",
      "\n",
      "    @staticmethod\n",
      "    @abc.abstractmethod\n",
      "    def is_my_module(module):\n",
      "        pass\n",
      "\n",
      "    @staticmethod\n",
      "    @abc.abstractmethod\n",
      "    def wrap(module):\n",
      "        return module\n",
      "\n",
      "    @staticmethod\n",
      "    def wrap_params(variables):\n",
      "        return freeze({\"params\": variables})\n",
      "\n",
      "    @staticmethod\n",
      "    @abc.abstractmethod\n",
      "    def unwrap_params(wrapped_variables):\n",
      "        return wrapped_variables\n",
      "\n",
      "\n",
      "registered_frameworks = []\n",
      "\n",
      "\n",
      "def framework(clz):\n",
      "    \"\"\"\n",
      "    Registers a framework and it's wrapper methods to make it\n",
      "    behave like a flax framework.\n",
      "    \"\"\"\n",
      "    clz = dataclasses.dataclass(frozen=True)(clz)\n",
      "    registered_frameworks.append(clz)\n",
      "    return clz\n",
      "\n",
      "\n",
      "@dataclasses.dataclass(frozen=True)\n",
      "class UnknownFramework(ModuleFramework):\n",
      "    name: str = \"Unknown\"\n",
      "\n",
      "    @staticmethod\n",
      "    def is_loaded() -> bool:\n",
      "        return True\n",
      "\n",
      "    @staticmethod\n",
      "    def is_my_module(module):\n",
      "        return False\n",
      "\n",
      "    @staticmethod\n",
      "    def wrap(module):\n",
      "        return module\n",
      "\n",
      "    @staticmethod\n",
      "    def unwrap_params(wrapped_variables):\n",
      "        return wrapped_variables\n",
      "\n",
      "\n",
      "def identify_framework(module):\n",
      "    for _framework in registered_frameworks:\n",
      "        if _framework.is_my_module(module):\n",
      "            return _framework\n",
      "\n",
      "    return UnknownFramework\n",
      "\n",
      "\n",
      "def maybe_wrap_module(module):\n",
      "    \"\"\"\n",
      "    Passing a module from an unknown framework (might be user defined module, a jax\n",
      "    module, flax or haiku or anything else really), attempt to identify what is the\n",
      "    package/framework it comes from, and if so it correctly wraps it in order to\n",
      "    make it behave like a flax module (our default).\n",
      "\n",
      "    Also returns a function used to unpack the parameters once we are done.\n",
      "    \"\"\"\n",
      "    framewrk = identify_framework(module)\n",
      "\n",
      "    return framewrk, framewrk.wrap(module)\n"
     ]
    },
    {
     "name": "stderr",
     "output_type": "stream",
     "text": [
      "C:\\Users\\kdeep\\anaconda3\\Lib\\site-packages\\xgboost\\core.py:158: UserWarning: [09:37:29] WARNING: C:\\buildkite-agent\\builds\\buildkite-windows-cpu-autoscaling-group-i-0015a694724fa8361-1\\xgboost\\xgboost-ci-windows\\src\\learner.cc:740: \n",
      "Parameters: { \"use_label_encoder\" } are not used.\n",
      "\n",
      "  warnings.warn(smsg, UserWarning)\n",
      "C:\\Users\\kdeep\\anaconda3\\Lib\\site-packages\\xgboost\\core.py:158: UserWarning: [09:37:29] WARNING: C:\\buildkite-agent\\builds\\buildkite-windows-cpu-autoscaling-group-i-0015a694724fa8361-1\\xgboost\\xgboost-ci-windows\\src\\learner.cc:740: \n",
      "Parameters: { \"use_label_encoder\" } are not used.\n",
      "\n",
      "  warnings.warn(smsg, UserWarning)\n"
     ]
    },
    {
     "name": "stdout",
     "output_type": "stream",
     "text": [
      "Precision: 1.0, Recall: 0.2, Accuracy: 0.6\n",
      "Precision: 1.0, Recall: 0.6, Accuracy: 0.8\n"
     ]
    },
    {
     "name": "stderr",
     "output_type": "stream",
     "text": [
      "C:\\Users\\kdeep\\anaconda3\\Lib\\site-packages\\xgboost\\core.py:158: UserWarning: [09:37:29] WARNING: C:\\buildkite-agent\\builds\\buildkite-windows-cpu-autoscaling-group-i-0015a694724fa8361-1\\xgboost\\xgboost-ci-windows\\src\\learner.cc:740: \n",
      "Parameters: { \"use_label_encoder\" } are not used.\n",
      "\n",
      "  warnings.warn(smsg, UserWarning)\n",
      "C:\\Users\\kdeep\\anaconda3\\Lib\\site-packages\\xgboost\\core.py:158: UserWarning: [09:37:29] WARNING: C:\\buildkite-agent\\builds\\buildkite-windows-cpu-autoscaling-group-i-0015a694724fa8361-1\\xgboost\\xgboost-ci-windows\\src\\learner.cc:740: \n",
      "Parameters: { \"use_label_encoder\" } are not used.\n",
      "\n",
      "  warnings.warn(smsg, UserWarning)\n"
     ]
    },
    {
     "name": "stdout",
     "output_type": "stream",
     "text": [
      "Precision: 1.0, Recall: 1.0, Accuracy: 1.0\n",
      "Precision: 1.0, Recall: 1.0, Accuracy: 1.0\n"
     ]
    },
    {
     "name": "stderr",
     "output_type": "stream",
     "text": [
      "C:\\Users\\kdeep\\anaconda3\\Lib\\site-packages\\xgboost\\core.py:158: UserWarning: [09:37:30] WARNING: C:\\buildkite-agent\\builds\\buildkite-windows-cpu-autoscaling-group-i-0015a694724fa8361-1\\xgboost\\xgboost-ci-windows\\src\\learner.cc:740: \n",
      "Parameters: { \"use_label_encoder\" } are not used.\n",
      "\n",
      "  warnings.warn(smsg, UserWarning)\n",
      "C:\\Users\\kdeep\\anaconda3\\Lib\\site-packages\\xgboost\\core.py:158: UserWarning: [09:37:30] WARNING: C:\\buildkite-agent\\builds\\buildkite-windows-cpu-autoscaling-group-i-0015a694724fa8361-1\\xgboost\\xgboost-ci-windows\\src\\learner.cc:740: \n",
      "Parameters: { \"use_label_encoder\" } are not used.\n",
      "\n",
      "  warnings.warn(smsg, UserWarning)\n"
     ]
    },
    {
     "name": "stdout",
     "output_type": "stream",
     "text": [
      "Precision: 1.0, Recall: 0.2, Accuracy: 0.5555555555555556\n",
      "Precision: 1.0, Recall: 0.6, Accuracy: 0.7777777777777778\n"
     ]
    },
    {
     "name": "stderr",
     "output_type": "stream",
     "text": [
      "C:\\Users\\kdeep\\anaconda3\\Lib\\site-packages\\xgboost\\core.py:158: UserWarning: [09:37:30] WARNING: C:\\buildkite-agent\\builds\\buildkite-windows-cpu-autoscaling-group-i-0015a694724fa8361-1\\xgboost\\xgboost-ci-windows\\src\\learner.cc:740: \n",
      "Parameters: { \"use_label_encoder\" } are not used.\n",
      "\n",
      "  warnings.warn(smsg, UserWarning)\n",
      "C:\\Users\\kdeep\\anaconda3\\Lib\\site-packages\\xgboost\\core.py:158: UserWarning: [09:37:30] WARNING: C:\\buildkite-agent\\builds\\buildkite-windows-cpu-autoscaling-group-i-0015a694724fa8361-1\\xgboost\\xgboost-ci-windows\\src\\learner.cc:740: \n",
      "Parameters: { \"use_label_encoder\" } are not used.\n",
      "\n",
      "  warnings.warn(smsg, UserWarning)\n"
     ]
    },
    {
     "name": "stdout",
     "output_type": "stream",
     "text": [
      "Precision: 1.0, Recall: 0.8, Accuracy: 0.8888888888888888\n",
      "Precision: 0.5714285714285714, Recall: 1.0, Accuracy: 0.6666666666666666\n"
     ]
    },
    {
     "name": "stderr",
     "output_type": "stream",
     "text": [
      "C:\\Users\\kdeep\\anaconda3\\Lib\\site-packages\\xgboost\\core.py:158: UserWarning: [09:37:30] WARNING: C:\\buildkite-agent\\builds\\buildkite-windows-cpu-autoscaling-group-i-0015a694724fa8361-1\\xgboost\\xgboost-ci-windows\\src\\learner.cc:740: \n",
      "Parameters: { \"use_label_encoder\" } are not used.\n",
      "\n",
      "  warnings.warn(smsg, UserWarning)\n",
      "C:\\Users\\kdeep\\anaconda3\\Lib\\site-packages\\xgboost\\core.py:158: UserWarning: [09:37:30] WARNING: C:\\buildkite-agent\\builds\\buildkite-windows-cpu-autoscaling-group-i-0015a694724fa8361-1\\xgboost\\xgboost-ci-windows\\src\\learner.cc:740: \n",
      "Parameters: { \"use_label_encoder\" } are not used.\n",
      "\n",
      "  warnings.warn(smsg, UserWarning)\n"
     ]
    },
    {
     "name": "stdout",
     "output_type": "stream",
     "text": [
      "Precision: 0.6666666666666666, Recall: 1.0, Accuracy: 0.7777777777777778\n",
      "Precision: 0.6666666666666666, Recall: 1.0, Accuracy: 0.7777777777777778\n",
      "Results to be written: eta=0.5, depth=5, dim=100, eps=0.1, (42.3, 42.3, 4.7, 4.7, 0.8904761904761903, 0.74, 0.7844444444444444, 75808, 0.49283603004878385, 0.004616737153557796)\n",
      "eta=0.5, depth=5, dim=100, eps=0.3\n",
      "Number of flaky documents: 47\n",
      "Number of non-flaky documents: 47\n",
      "Total number of documents: 94\n",
      "Sample document: # Copyright 2021 The NetKet Authors - All rights reserved.\n",
      "#\n",
      "# Licensed under the Apache License, Version 2.0 (the \"License\");\n",
      "# you may not use this file except in compliance with the License.\n",
      "# You may obtain a copy of the License at\n",
      "#\n",
      "#    http://www.apache.org/licenses/LICENSE-2.0\n",
      "#\n",
      "# Unless required by applicable law or agreed to in writing, software\n",
      "# distributed under the License is distributed on an \"AS IS\" BASIS,\n",
      "# WITHOUT WARRANTIES OR CONDITIONS OF ANY KIND, either express or implied.\n",
      "# See the License for the specific language governing permissions and\n",
      "# limitations under the License.\n",
      "\n",
      "import dataclasses\n",
      "import abc\n",
      "\n",
      "from flax.core import freeze\n",
      "\n",
      "\n",
      "@dataclasses.dataclass(frozen=True)\n",
      "class ModuleFramework(abc.ABC):\n",
      "    @staticmethod\n",
      "    @abc.abstractmethod\n",
      "    def is_loaded() -> bool:\n",
      "        pass\n",
      "\n",
      "    @staticmethod\n",
      "    @abc.abstractmethod\n",
      "    def is_my_module(module):\n",
      "        pass\n",
      "\n",
      "    @staticmethod\n",
      "    @abc.abstractmethod\n",
      "    def wrap(module):\n",
      "        return module\n",
      "\n",
      "    @staticmethod\n",
      "    def wrap_params(variables):\n",
      "        return freeze({\"params\": variables})\n",
      "\n",
      "    @staticmethod\n",
      "    @abc.abstractmethod\n",
      "    def unwrap_params(wrapped_variables):\n",
      "        return wrapped_variables\n",
      "\n",
      "\n",
      "registered_frameworks = []\n",
      "\n",
      "\n",
      "def framework(clz):\n",
      "    \"\"\"\n",
      "    Registers a framework and it's wrapper methods to make it\n",
      "    behave like a flax framework.\n",
      "    \"\"\"\n",
      "    clz = dataclasses.dataclass(frozen=True)(clz)\n",
      "    registered_frameworks.append(clz)\n",
      "    return clz\n",
      "\n",
      "\n",
      "@dataclasses.dataclass(frozen=True)\n",
      "class UnknownFramework(ModuleFramework):\n",
      "    name: str = \"Unknown\"\n",
      "\n",
      "    @staticmethod\n",
      "    def is_loaded() -> bool:\n",
      "        return True\n",
      "\n",
      "    @staticmethod\n",
      "    def is_my_module(module):\n",
      "        return False\n",
      "\n",
      "    @staticmethod\n",
      "    def wrap(module):\n",
      "        return module\n",
      "\n",
      "    @staticmethod\n",
      "    def unwrap_params(wrapped_variables):\n",
      "        return wrapped_variables\n",
      "\n",
      "\n",
      "def identify_framework(module):\n",
      "    for _framework in registered_frameworks:\n",
      "        if _framework.is_my_module(module):\n",
      "            return _framework\n",
      "\n",
      "    return UnknownFramework\n",
      "\n",
      "\n",
      "def maybe_wrap_module(module):\n",
      "    \"\"\"\n",
      "    Passing a module from an unknown framework (might be user defined module, a jax\n",
      "    module, flax or haiku or anything else really), attempt to identify what is the\n",
      "    package/framework it comes from, and if so it correctly wraps it in order to\n",
      "    make it behave like a flax module (our default).\n",
      "\n",
      "    Also returns a function used to unpack the parameters once we are done.\n",
      "    \"\"\"\n",
      "    framewrk = identify_framework(module)\n",
      "\n",
      "    return framewrk, framewrk.wrap(module)\n"
     ]
    },
    {
     "name": "stderr",
     "output_type": "stream",
     "text": [
      "C:\\Users\\kdeep\\anaconda3\\Lib\\site-packages\\xgboost\\core.py:158: UserWarning: [09:37:31] WARNING: C:\\buildkite-agent\\builds\\buildkite-windows-cpu-autoscaling-group-i-0015a694724fa8361-1\\xgboost\\xgboost-ci-windows\\src\\learner.cc:740: \n",
      "Parameters: { \"use_label_encoder\" } are not used.\n",
      "\n",
      "  warnings.warn(smsg, UserWarning)\n",
      "C:\\Users\\kdeep\\anaconda3\\Lib\\site-packages\\xgboost\\core.py:158: UserWarning: [09:37:31] WARNING: C:\\buildkite-agent\\builds\\buildkite-windows-cpu-autoscaling-group-i-0015a694724fa8361-1\\xgboost\\xgboost-ci-windows\\src\\learner.cc:740: \n",
      "Parameters: { \"use_label_encoder\" } are not used.\n",
      "\n",
      "  warnings.warn(smsg, UserWarning)\n"
     ]
    },
    {
     "name": "stdout",
     "output_type": "stream",
     "text": [
      "Precision: 0.5, Recall: 0.2, Accuracy: 0.5\n",
      "Precision: 1.0, Recall: 0.8, Accuracy: 0.9\n"
     ]
    },
    {
     "name": "stderr",
     "output_type": "stream",
     "text": [
      "C:\\Users\\kdeep\\anaconda3\\Lib\\site-packages\\xgboost\\core.py:158: UserWarning: [09:37:31] WARNING: C:\\buildkite-agent\\builds\\buildkite-windows-cpu-autoscaling-group-i-0015a694724fa8361-1\\xgboost\\xgboost-ci-windows\\src\\learner.cc:740: \n",
      "Parameters: { \"use_label_encoder\" } are not used.\n",
      "\n",
      "  warnings.warn(smsg, UserWarning)\n",
      "C:\\Users\\kdeep\\anaconda3\\Lib\\site-packages\\xgboost\\core.py:158: UserWarning: [09:37:31] WARNING: C:\\buildkite-agent\\builds\\buildkite-windows-cpu-autoscaling-group-i-0015a694724fa8361-1\\xgboost\\xgboost-ci-windows\\src\\learner.cc:740: \n",
      "Parameters: { \"use_label_encoder\" } are not used.\n",
      "\n",
      "  warnings.warn(smsg, UserWarning)\n"
     ]
    },
    {
     "name": "stdout",
     "output_type": "stream",
     "text": [
      "Precision: 1.0, Recall: 1.0, Accuracy: 1.0\n",
      "Precision: 0.6666666666666666, Recall: 0.8, Accuracy: 0.7\n"
     ]
    },
    {
     "name": "stderr",
     "output_type": "stream",
     "text": [
      "C:\\Users\\kdeep\\anaconda3\\Lib\\site-packages\\xgboost\\core.py:158: UserWarning: [09:37:31] WARNING: C:\\buildkite-agent\\builds\\buildkite-windows-cpu-autoscaling-group-i-0015a694724fa8361-1\\xgboost\\xgboost-ci-windows\\src\\learner.cc:740: \n",
      "Parameters: { \"use_label_encoder\" } are not used.\n",
      "\n",
      "  warnings.warn(smsg, UserWarning)\n",
      "C:\\Users\\kdeep\\anaconda3\\Lib\\site-packages\\xgboost\\core.py:158: UserWarning: [09:37:32] WARNING: C:\\buildkite-agent\\builds\\buildkite-windows-cpu-autoscaling-group-i-0015a694724fa8361-1\\xgboost\\xgboost-ci-windows\\src\\learner.cc:740: \n",
      "Parameters: { \"use_label_encoder\" } are not used.\n",
      "\n",
      "  warnings.warn(smsg, UserWarning)\n"
     ]
    },
    {
     "name": "stdout",
     "output_type": "stream",
     "text": [
      "Precision: 1.0, Recall: 0.4, Accuracy: 0.6666666666666666\n",
      "Precision: 0.5714285714285714, Recall: 0.8, Accuracy: 0.5555555555555556\n"
     ]
    },
    {
     "name": "stderr",
     "output_type": "stream",
     "text": [
      "C:\\Users\\kdeep\\anaconda3\\Lib\\site-packages\\xgboost\\core.py:158: UserWarning: [09:37:32] WARNING: C:\\buildkite-agent\\builds\\buildkite-windows-cpu-autoscaling-group-i-0015a694724fa8361-1\\xgboost\\xgboost-ci-windows\\src\\learner.cc:740: \n",
      "Parameters: { \"use_label_encoder\" } are not used.\n",
      "\n",
      "  warnings.warn(smsg, UserWarning)\n",
      "C:\\Users\\kdeep\\anaconda3\\Lib\\site-packages\\xgboost\\core.py:158: UserWarning: [09:37:32] WARNING: C:\\buildkite-agent\\builds\\buildkite-windows-cpu-autoscaling-group-i-0015a694724fa8361-1\\xgboost\\xgboost-ci-windows\\src\\learner.cc:740: \n",
      "Parameters: { \"use_label_encoder\" } are not used.\n",
      "\n",
      "  warnings.warn(smsg, UserWarning)\n"
     ]
    },
    {
     "name": "stdout",
     "output_type": "stream",
     "text": [
      "Precision: 0.5714285714285714, Recall: 0.8, Accuracy: 0.5555555555555556\n",
      "Precision: 0.6666666666666666, Recall: 1.0, Accuracy: 0.7777777777777778\n"
     ]
    },
    {
     "name": "stderr",
     "output_type": "stream",
     "text": [
      "C:\\Users\\kdeep\\anaconda3\\Lib\\site-packages\\xgboost\\core.py:158: UserWarning: [09:37:32] WARNING: C:\\buildkite-agent\\builds\\buildkite-windows-cpu-autoscaling-group-i-0015a694724fa8361-1\\xgboost\\xgboost-ci-windows\\src\\learner.cc:740: \n",
      "Parameters: { \"use_label_encoder\" } are not used.\n",
      "\n",
      "  warnings.warn(smsg, UserWarning)\n",
      "C:\\Users\\kdeep\\anaconda3\\Lib\\site-packages\\xgboost\\core.py:158: UserWarning: [09:37:32] WARNING: C:\\buildkite-agent\\builds\\buildkite-windows-cpu-autoscaling-group-i-0015a694724fa8361-1\\xgboost\\xgboost-ci-windows\\src\\learner.cc:740: \n",
      "Parameters: { \"use_label_encoder\" } are not used.\n",
      "\n",
      "  warnings.warn(smsg, UserWarning)\n"
     ]
    },
    {
     "name": "stdout",
     "output_type": "stream",
     "text": [
      "Precision: 0.8, Recall: 1.0, Accuracy: 0.8888888888888888\n",
      "Precision: 0.25, Recall: 0.25, Accuracy: 0.3333333333333333\n",
      "Results to be written: eta=0.5, depth=5, dim=100, eps=0.3, (42.3, 42.3, 4.7, 4.7, 0.7026190476190475, 0.705, 0.6877777777777777, 75808, 0.5758344400208443, 0.005232466004494947)\n",
      "eta=0.5, depth=5, dim=100, eps=0.5\n",
      "Number of flaky documents: 47\n",
      "Number of non-flaky documents: 47\n",
      "Total number of documents: 94\n",
      "Sample document: # Copyright 2021 The NetKet Authors - All rights reserved.\n",
      "#\n",
      "# Licensed under the Apache License, Version 2.0 (the \"License\");\n",
      "# you may not use this file except in compliance with the License.\n",
      "# You may obtain a copy of the License at\n",
      "#\n",
      "#    http://www.apache.org/licenses/LICENSE-2.0\n",
      "#\n",
      "# Unless required by applicable law or agreed to in writing, software\n",
      "# distributed under the License is distributed on an \"AS IS\" BASIS,\n",
      "# WITHOUT WARRANTIES OR CONDITIONS OF ANY KIND, either express or implied.\n",
      "# See the License for the specific language governing permissions and\n",
      "# limitations under the License.\n",
      "\n",
      "import dataclasses\n",
      "import abc\n",
      "\n",
      "from flax.core import freeze\n",
      "\n",
      "\n",
      "@dataclasses.dataclass(frozen=True)\n",
      "class ModuleFramework(abc.ABC):\n",
      "    @staticmethod\n",
      "    @abc.abstractmethod\n",
      "    def is_loaded() -> bool:\n",
      "        pass\n",
      "\n",
      "    @staticmethod\n",
      "    @abc.abstractmethod\n",
      "    def is_my_module(module):\n",
      "        pass\n",
      "\n",
      "    @staticmethod\n",
      "    @abc.abstractmethod\n",
      "    def wrap(module):\n",
      "        return module\n",
      "\n",
      "    @staticmethod\n",
      "    def wrap_params(variables):\n",
      "        return freeze({\"params\": variables})\n",
      "\n",
      "    @staticmethod\n",
      "    @abc.abstractmethod\n",
      "    def unwrap_params(wrapped_variables):\n",
      "        return wrapped_variables\n",
      "\n",
      "\n",
      "registered_frameworks = []\n",
      "\n",
      "\n",
      "def framework(clz):\n",
      "    \"\"\"\n",
      "    Registers a framework and it's wrapper methods to make it\n",
      "    behave like a flax framework.\n",
      "    \"\"\"\n",
      "    clz = dataclasses.dataclass(frozen=True)(clz)\n",
      "    registered_frameworks.append(clz)\n",
      "    return clz\n",
      "\n",
      "\n",
      "@dataclasses.dataclass(frozen=True)\n",
      "class UnknownFramework(ModuleFramework):\n",
      "    name: str = \"Unknown\"\n",
      "\n",
      "    @staticmethod\n",
      "    def is_loaded() -> bool:\n",
      "        return True\n",
      "\n",
      "    @staticmethod\n",
      "    def is_my_module(module):\n",
      "        return False\n",
      "\n",
      "    @staticmethod\n",
      "    def wrap(module):\n",
      "        return module\n",
      "\n",
      "    @staticmethod\n",
      "    def unwrap_params(wrapped_variables):\n",
      "        return wrapped_variables\n",
      "\n",
      "\n",
      "def identify_framework(module):\n",
      "    for _framework in registered_frameworks:\n",
      "        if _framework.is_my_module(module):\n",
      "            return _framework\n",
      "\n",
      "    return UnknownFramework\n",
      "\n",
      "\n",
      "def maybe_wrap_module(module):\n",
      "    \"\"\"\n",
      "    Passing a module from an unknown framework (might be user defined module, a jax\n",
      "    module, flax or haiku or anything else really), attempt to identify what is the\n",
      "    package/framework it comes from, and if so it correctly wraps it in order to\n",
      "    make it behave like a flax module (our default).\n",
      "\n",
      "    Also returns a function used to unpack the parameters once we are done.\n",
      "    \"\"\"\n",
      "    framewrk = identify_framework(module)\n",
      "\n",
      "    return framewrk, framewrk.wrap(module)\n"
     ]
    },
    {
     "name": "stderr",
     "output_type": "stream",
     "text": [
      "C:\\Users\\kdeep\\anaconda3\\Lib\\site-packages\\xgboost\\core.py:158: UserWarning: [09:37:33] WARNING: C:\\buildkite-agent\\builds\\buildkite-windows-cpu-autoscaling-group-i-0015a694724fa8361-1\\xgboost\\xgboost-ci-windows\\src\\learner.cc:740: \n",
      "Parameters: { \"use_label_encoder\" } are not used.\n",
      "\n",
      "  warnings.warn(smsg, UserWarning)\n",
      "C:\\Users\\kdeep\\anaconda3\\Lib\\site-packages\\xgboost\\core.py:158: UserWarning: [09:37:33] WARNING: C:\\buildkite-agent\\builds\\buildkite-windows-cpu-autoscaling-group-i-0015a694724fa8361-1\\xgboost\\xgboost-ci-windows\\src\\learner.cc:740: \n",
      "Parameters: { \"use_label_encoder\" } are not used.\n",
      "\n",
      "  warnings.warn(smsg, UserWarning)\n"
     ]
    },
    {
     "name": "stdout",
     "output_type": "stream",
     "text": [
      "Precision: 0.75, Recall: 0.6, Accuracy: 0.7\n",
      "Precision: 0.8, Recall: 0.8, Accuracy: 0.8\n"
     ]
    },
    {
     "name": "stderr",
     "output_type": "stream",
     "text": [
      "C:\\Users\\kdeep\\anaconda3\\Lib\\site-packages\\xgboost\\core.py:158: UserWarning: [09:37:33] WARNING: C:\\buildkite-agent\\builds\\buildkite-windows-cpu-autoscaling-group-i-0015a694724fa8361-1\\xgboost\\xgboost-ci-windows\\src\\learner.cc:740: \n",
      "Parameters: { \"use_label_encoder\" } are not used.\n",
      "\n",
      "  warnings.warn(smsg, UserWarning)\n",
      "C:\\Users\\kdeep\\anaconda3\\Lib\\site-packages\\xgboost\\core.py:158: UserWarning: [09:37:33] WARNING: C:\\buildkite-agent\\builds\\buildkite-windows-cpu-autoscaling-group-i-0015a694724fa8361-1\\xgboost\\xgboost-ci-windows\\src\\learner.cc:740: \n",
      "Parameters: { \"use_label_encoder\" } are not used.\n",
      "\n",
      "  warnings.warn(smsg, UserWarning)\n"
     ]
    },
    {
     "name": "stdout",
     "output_type": "stream",
     "text": [
      "Precision: 1.0, Recall: 1.0, Accuracy: 1.0\n",
      "Precision: 1.0, Recall: 0.6, Accuracy: 0.8\n"
     ]
    },
    {
     "name": "stderr",
     "output_type": "stream",
     "text": [
      "C:\\Users\\kdeep\\anaconda3\\Lib\\site-packages\\xgboost\\core.py:158: UserWarning: [09:37:33] WARNING: C:\\buildkite-agent\\builds\\buildkite-windows-cpu-autoscaling-group-i-0015a694724fa8361-1\\xgboost\\xgboost-ci-windows\\src\\learner.cc:740: \n",
      "Parameters: { \"use_label_encoder\" } are not used.\n",
      "\n",
      "  warnings.warn(smsg, UserWarning)\n",
      "C:\\Users\\kdeep\\anaconda3\\Lib\\site-packages\\xgboost\\core.py:158: UserWarning: [09:37:34] WARNING: C:\\buildkite-agent\\builds\\buildkite-windows-cpu-autoscaling-group-i-0015a694724fa8361-1\\xgboost\\xgboost-ci-windows\\src\\learner.cc:740: \n",
      "Parameters: { \"use_label_encoder\" } are not used.\n",
      "\n",
      "  warnings.warn(smsg, UserWarning)\n"
     ]
    },
    {
     "name": "stdout",
     "output_type": "stream",
     "text": [
      "Precision: 0.75, Recall: 0.6, Accuracy: 0.6666666666666666\n",
      "Precision: 0.625, Recall: 1.0, Accuracy: 0.6666666666666666\n"
     ]
    },
    {
     "name": "stderr",
     "output_type": "stream",
     "text": [
      "C:\\Users\\kdeep\\anaconda3\\Lib\\site-packages\\xgboost\\core.py:158: UserWarning: [09:37:34] WARNING: C:\\buildkite-agent\\builds\\buildkite-windows-cpu-autoscaling-group-i-0015a694724fa8361-1\\xgboost\\xgboost-ci-windows\\src\\learner.cc:740: \n",
      "Parameters: { \"use_label_encoder\" } are not used.\n",
      "\n",
      "  warnings.warn(smsg, UserWarning)\n",
      "C:\\Users\\kdeep\\anaconda3\\Lib\\site-packages\\xgboost\\core.py:158: UserWarning: [09:37:34] WARNING: C:\\buildkite-agent\\builds\\buildkite-windows-cpu-autoscaling-group-i-0015a694724fa8361-1\\xgboost\\xgboost-ci-windows\\src\\learner.cc:740: \n",
      "Parameters: { \"use_label_encoder\" } are not used.\n",
      "\n",
      "  warnings.warn(smsg, UserWarning)\n"
     ]
    },
    {
     "name": "stdout",
     "output_type": "stream",
     "text": [
      "Precision: 0.75, Recall: 0.6, Accuracy: 0.6666666666666666\n",
      "Precision: 0.8, Recall: 1.0, Accuracy: 0.8888888888888888\n",
      "Precision: 1.0, Recall: 1.0, Accuracy: 1.0\n"
     ]
    },
    {
     "name": "stderr",
     "output_type": "stream",
     "text": [
      "C:\\Users\\kdeep\\anaconda3\\Lib\\site-packages\\xgboost\\core.py:158: UserWarning: [09:37:34] WARNING: C:\\buildkite-agent\\builds\\buildkite-windows-cpu-autoscaling-group-i-0015a694724fa8361-1\\xgboost\\xgboost-ci-windows\\src\\learner.cc:740: \n",
      "Parameters: { \"use_label_encoder\" } are not used.\n",
      "\n",
      "  warnings.warn(smsg, UserWarning)\n",
      "C:\\Users\\kdeep\\anaconda3\\Lib\\site-packages\\xgboost\\core.py:158: UserWarning: [09:37:34] WARNING: C:\\buildkite-agent\\builds\\buildkite-windows-cpu-autoscaling-group-i-0015a694724fa8361-1\\xgboost\\xgboost-ci-windows\\src\\learner.cc:740: \n",
      "Parameters: { \"use_label_encoder\" } are not used.\n",
      "\n",
      "  warnings.warn(smsg, UserWarning)\n"
     ]
    },
    {
     "name": "stdout",
     "output_type": "stream",
     "text": [
      "Precision: 0.5, Recall: 0.75, Accuracy: 0.5555555555555556\n",
      "Results to be written: eta=0.5, depth=5, dim=100, eps=0.5, (42.3, 42.3, 4.7, 4.7, 0.7975, 0.7949999999999999, 0.7744444444444444, 75808, 0.5370067400741391, 0.0049442083650707855)\n",
      "eta=0.5, depth=5, dim=200, eps=0.1\n",
      "Number of flaky documents: 47\n",
      "Number of non-flaky documents: 47\n",
      "Total number of documents: 94\n",
      "Sample document: # Copyright 2021 The NetKet Authors - All rights reserved.\n",
      "#\n",
      "# Licensed under the Apache License, Version 2.0 (the \"License\");\n",
      "# you may not use this file except in compliance with the License.\n",
      "# You may obtain a copy of the License at\n",
      "#\n",
      "#    http://www.apache.org/licenses/LICENSE-2.0\n",
      "#\n",
      "# Unless required by applicable law or agreed to in writing, software\n",
      "# distributed under the License is distributed on an \"AS IS\" BASIS,\n",
      "# WITHOUT WARRANTIES OR CONDITIONS OF ANY KIND, either express or implied.\n",
      "# See the License for the specific language governing permissions and\n",
      "# limitations under the License.\n",
      "\n",
      "import dataclasses\n",
      "import abc\n",
      "\n",
      "from flax.core import freeze\n",
      "\n",
      "\n",
      "@dataclasses.dataclass(frozen=True)\n",
      "class ModuleFramework(abc.ABC):\n",
      "    @staticmethod\n",
      "    @abc.abstractmethod\n",
      "    def is_loaded() -> bool:\n",
      "        pass\n",
      "\n",
      "    @staticmethod\n",
      "    @abc.abstractmethod\n",
      "    def is_my_module(module):\n",
      "        pass\n",
      "\n",
      "    @staticmethod\n",
      "    @abc.abstractmethod\n",
      "    def wrap(module):\n",
      "        return module\n",
      "\n",
      "    @staticmethod\n",
      "    def wrap_params(variables):\n",
      "        return freeze({\"params\": variables})\n",
      "\n",
      "    @staticmethod\n",
      "    @abc.abstractmethod\n",
      "    def unwrap_params(wrapped_variables):\n",
      "        return wrapped_variables\n",
      "\n",
      "\n",
      "registered_frameworks = []\n",
      "\n",
      "\n",
      "def framework(clz):\n",
      "    \"\"\"\n",
      "    Registers a framework and it's wrapper methods to make it\n",
      "    behave like a flax framework.\n",
      "    \"\"\"\n",
      "    clz = dataclasses.dataclass(frozen=True)(clz)\n",
      "    registered_frameworks.append(clz)\n",
      "    return clz\n",
      "\n",
      "\n",
      "@dataclasses.dataclass(frozen=True)\n",
      "class UnknownFramework(ModuleFramework):\n",
      "    name: str = \"Unknown\"\n",
      "\n",
      "    @staticmethod\n",
      "    def is_loaded() -> bool:\n",
      "        return True\n",
      "\n",
      "    @staticmethod\n",
      "    def is_my_module(module):\n",
      "        return False\n",
      "\n",
      "    @staticmethod\n",
      "    def wrap(module):\n",
      "        return module\n",
      "\n",
      "    @staticmethod\n",
      "    def unwrap_params(wrapped_variables):\n",
      "        return wrapped_variables\n",
      "\n",
      "\n",
      "def identify_framework(module):\n",
      "    for _framework in registered_frameworks:\n",
      "        if _framework.is_my_module(module):\n",
      "            return _framework\n",
      "\n",
      "    return UnknownFramework\n",
      "\n",
      "\n",
      "def maybe_wrap_module(module):\n",
      "    \"\"\"\n",
      "    Passing a module from an unknown framework (might be user defined module, a jax\n",
      "    module, flax or haiku or anything else really), attempt to identify what is the\n",
      "    package/framework it comes from, and if so it correctly wraps it in order to\n",
      "    make it behave like a flax module (our default).\n",
      "\n",
      "    Also returns a function used to unpack the parameters once we are done.\n",
      "    \"\"\"\n",
      "    framewrk = identify_framework(module)\n",
      "\n",
      "    return framewrk, framewrk.wrap(module)\n"
     ]
    },
    {
     "name": "stderr",
     "output_type": "stream",
     "text": [
      "C:\\Users\\kdeep\\anaconda3\\Lib\\site-packages\\xgboost\\core.py:158: UserWarning: [09:37:35] WARNING: C:\\buildkite-agent\\builds\\buildkite-windows-cpu-autoscaling-group-i-0015a694724fa8361-1\\xgboost\\xgboost-ci-windows\\src\\learner.cc:740: \n",
      "Parameters: { \"use_label_encoder\" } are not used.\n",
      "\n",
      "  warnings.warn(smsg, UserWarning)\n",
      "C:\\Users\\kdeep\\anaconda3\\Lib\\site-packages\\xgboost\\core.py:158: UserWarning: [09:37:35] WARNING: C:\\buildkite-agent\\builds\\buildkite-windows-cpu-autoscaling-group-i-0015a694724fa8361-1\\xgboost\\xgboost-ci-windows\\src\\learner.cc:740: \n",
      "Parameters: { \"use_label_encoder\" } are not used.\n",
      "\n",
      "  warnings.warn(smsg, UserWarning)\n"
     ]
    },
    {
     "name": "stdout",
     "output_type": "stream",
     "text": [
      "Precision: 1.0, Recall: 0.2, Accuracy: 0.6\n",
      "Precision: 1.0, Recall: 0.8, Accuracy: 0.9\n"
     ]
    },
    {
     "name": "stderr",
     "output_type": "stream",
     "text": [
      "C:\\Users\\kdeep\\anaconda3\\Lib\\site-packages\\xgboost\\core.py:158: UserWarning: [09:37:35] WARNING: C:\\buildkite-agent\\builds\\buildkite-windows-cpu-autoscaling-group-i-0015a694724fa8361-1\\xgboost\\xgboost-ci-windows\\src\\learner.cc:740: \n",
      "Parameters: { \"use_label_encoder\" } are not used.\n",
      "\n",
      "  warnings.warn(smsg, UserWarning)\n",
      "C:\\Users\\kdeep\\anaconda3\\Lib\\site-packages\\xgboost\\core.py:158: UserWarning: [09:37:35] WARNING: C:\\buildkite-agent\\builds\\buildkite-windows-cpu-autoscaling-group-i-0015a694724fa8361-1\\xgboost\\xgboost-ci-windows\\src\\learner.cc:740: \n",
      "Parameters: { \"use_label_encoder\" } are not used.\n",
      "\n",
      "  warnings.warn(smsg, UserWarning)\n"
     ]
    },
    {
     "name": "stdout",
     "output_type": "stream",
     "text": [
      "Precision: 1.0, Recall: 1.0, Accuracy: 1.0\n",
      "Precision: 0.5, Recall: 0.4, Accuracy: 0.5\n"
     ]
    },
    {
     "name": "stderr",
     "output_type": "stream",
     "text": [
      "C:\\Users\\kdeep\\anaconda3\\Lib\\site-packages\\xgboost\\core.py:158: UserWarning: [09:37:35] WARNING: C:\\buildkite-agent\\builds\\buildkite-windows-cpu-autoscaling-group-i-0015a694724fa8361-1\\xgboost\\xgboost-ci-windows\\src\\learner.cc:740: \n",
      "Parameters: { \"use_label_encoder\" } are not used.\n",
      "\n",
      "  warnings.warn(smsg, UserWarning)\n",
      "C:\\Users\\kdeep\\anaconda3\\Lib\\site-packages\\xgboost\\core.py:158: UserWarning: [09:37:36] WARNING: C:\\buildkite-agent\\builds\\buildkite-windows-cpu-autoscaling-group-i-0015a694724fa8361-1\\xgboost\\xgboost-ci-windows\\src\\learner.cc:740: \n",
      "Parameters: { \"use_label_encoder\" } are not used.\n",
      "\n",
      "  warnings.warn(smsg, UserWarning)\n"
     ]
    },
    {
     "name": "stdout",
     "output_type": "stream",
     "text": [
      "Precision: 1.0, Recall: 0.6, Accuracy: 0.7777777777777778\n",
      "Precision: 0.8, Recall: 0.8, Accuracy: 0.7777777777777778\n"
     ]
    },
    {
     "name": "stderr",
     "output_type": "stream",
     "text": [
      "C:\\Users\\kdeep\\anaconda3\\Lib\\site-packages\\xgboost\\core.py:158: UserWarning: [09:37:36] WARNING: C:\\buildkite-agent\\builds\\buildkite-windows-cpu-autoscaling-group-i-0015a694724fa8361-1\\xgboost\\xgboost-ci-windows\\src\\learner.cc:740: \n",
      "Parameters: { \"use_label_encoder\" } are not used.\n",
      "\n",
      "  warnings.warn(smsg, UserWarning)\n",
      "C:\\Users\\kdeep\\anaconda3\\Lib\\site-packages\\xgboost\\core.py:158: UserWarning: [09:37:36] WARNING: C:\\buildkite-agent\\builds\\buildkite-windows-cpu-autoscaling-group-i-0015a694724fa8361-1\\xgboost\\xgboost-ci-windows\\src\\learner.cc:740: \n",
      "Parameters: { \"use_label_encoder\" } are not used.\n",
      "\n",
      "  warnings.warn(smsg, UserWarning)\n"
     ]
    },
    {
     "name": "stdout",
     "output_type": "stream",
     "text": [
      "Precision: 0.5714285714285714, Recall: 0.8, Accuracy: 0.5555555555555556\n",
      "Precision: 0.8, Recall: 1.0, Accuracy: 0.8888888888888888\n"
     ]
    },
    {
     "name": "stderr",
     "output_type": "stream",
     "text": [
      "C:\\Users\\kdeep\\anaconda3\\Lib\\site-packages\\xgboost\\core.py:158: UserWarning: [09:37:36] WARNING: C:\\buildkite-agent\\builds\\buildkite-windows-cpu-autoscaling-group-i-0015a694724fa8361-1\\xgboost\\xgboost-ci-windows\\src\\learner.cc:740: \n",
      "Parameters: { \"use_label_encoder\" } are not used.\n",
      "\n",
      "  warnings.warn(smsg, UserWarning)\n",
      "C:\\Users\\kdeep\\anaconda3\\Lib\\site-packages\\xgboost\\core.py:158: UserWarning: [09:37:36] WARNING: C:\\buildkite-agent\\builds\\buildkite-windows-cpu-autoscaling-group-i-0015a694724fa8361-1\\xgboost\\xgboost-ci-windows\\src\\learner.cc:740: \n",
      "Parameters: { \"use_label_encoder\" } are not used.\n",
      "\n",
      "  warnings.warn(smsg, UserWarning)\n"
     ]
    },
    {
     "name": "stdout",
     "output_type": "stream",
     "text": [
      "Precision: 0.8, Recall: 1.0, Accuracy: 0.8888888888888888\n",
      "Precision: 0.5, Recall: 0.5, Accuracy: 0.5555555555555556\n",
      "Results to be written: eta=0.5, depth=5, dim=200, eps=0.1, (42.3, 42.3, 4.7, 4.7, 0.797142857142857, 0.71, 0.7444444444444445, 151008, 0.5510219800053165, 0.0051356905937028595)\n",
      "eta=0.5, depth=5, dim=200, eps=0.3\n",
      "Number of flaky documents: 47\n",
      "Number of non-flaky documents: 47\n",
      "Total number of documents: 94\n",
      "Sample document: # Copyright 2021 The NetKet Authors - All rights reserved.\n",
      "#\n",
      "# Licensed under the Apache License, Version 2.0 (the \"License\");\n",
      "# you may not use this file except in compliance with the License.\n",
      "# You may obtain a copy of the License at\n",
      "#\n",
      "#    http://www.apache.org/licenses/LICENSE-2.0\n",
      "#\n",
      "# Unless required by applicable law or agreed to in writing, software\n",
      "# distributed under the License is distributed on an \"AS IS\" BASIS,\n",
      "# WITHOUT WARRANTIES OR CONDITIONS OF ANY KIND, either express or implied.\n",
      "# See the License for the specific language governing permissions and\n",
      "# limitations under the License.\n",
      "\n",
      "import dataclasses\n",
      "import abc\n",
      "\n",
      "from flax.core import freeze\n",
      "\n",
      "\n",
      "@dataclasses.dataclass(frozen=True)\n",
      "class ModuleFramework(abc.ABC):\n",
      "    @staticmethod\n",
      "    @abc.abstractmethod\n",
      "    def is_loaded() -> bool:\n",
      "        pass\n",
      "\n",
      "    @staticmethod\n",
      "    @abc.abstractmethod\n",
      "    def is_my_module(module):\n",
      "        pass\n",
      "\n",
      "    @staticmethod\n",
      "    @abc.abstractmethod\n",
      "    def wrap(module):\n",
      "        return module\n",
      "\n",
      "    @staticmethod\n",
      "    def wrap_params(variables):\n",
      "        return freeze({\"params\": variables})\n",
      "\n",
      "    @staticmethod\n",
      "    @abc.abstractmethod\n",
      "    def unwrap_params(wrapped_variables):\n",
      "        return wrapped_variables\n",
      "\n",
      "\n",
      "registered_frameworks = []\n",
      "\n",
      "\n",
      "def framework(clz):\n",
      "    \"\"\"\n",
      "    Registers a framework and it's wrapper methods to make it\n",
      "    behave like a flax framework.\n",
      "    \"\"\"\n",
      "    clz = dataclasses.dataclass(frozen=True)(clz)\n",
      "    registered_frameworks.append(clz)\n",
      "    return clz\n",
      "\n",
      "\n",
      "@dataclasses.dataclass(frozen=True)\n",
      "class UnknownFramework(ModuleFramework):\n",
      "    name: str = \"Unknown\"\n",
      "\n",
      "    @staticmethod\n",
      "    def is_loaded() -> bool:\n",
      "        return True\n",
      "\n",
      "    @staticmethod\n",
      "    def is_my_module(module):\n",
      "        return False\n",
      "\n",
      "    @staticmethod\n",
      "    def wrap(module):\n",
      "        return module\n",
      "\n",
      "    @staticmethod\n",
      "    def unwrap_params(wrapped_variables):\n",
      "        return wrapped_variables\n",
      "\n",
      "\n",
      "def identify_framework(module):\n",
      "    for _framework in registered_frameworks:\n",
      "        if _framework.is_my_module(module):\n",
      "            return _framework\n",
      "\n",
      "    return UnknownFramework\n",
      "\n",
      "\n",
      "def maybe_wrap_module(module):\n",
      "    \"\"\"\n",
      "    Passing a module from an unknown framework (might be user defined module, a jax\n",
      "    module, flax or haiku or anything else really), attempt to identify what is the\n",
      "    package/framework it comes from, and if so it correctly wraps it in order to\n",
      "    make it behave like a flax module (our default).\n",
      "\n",
      "    Also returns a function used to unpack the parameters once we are done.\n",
      "    \"\"\"\n",
      "    framewrk = identify_framework(module)\n",
      "\n",
      "    return framewrk, framewrk.wrap(module)\n"
     ]
    },
    {
     "name": "stderr",
     "output_type": "stream",
     "text": [
      "C:\\Users\\kdeep\\anaconda3\\Lib\\site-packages\\xgboost\\core.py:158: UserWarning: [09:37:37] WARNING: C:\\buildkite-agent\\builds\\buildkite-windows-cpu-autoscaling-group-i-0015a694724fa8361-1\\xgboost\\xgboost-ci-windows\\src\\learner.cc:740: \n",
      "Parameters: { \"use_label_encoder\" } are not used.\n",
      "\n",
      "  warnings.warn(smsg, UserWarning)\n",
      "C:\\Users\\kdeep\\anaconda3\\Lib\\site-packages\\xgboost\\core.py:158: UserWarning: [09:37:37] WARNING: C:\\buildkite-agent\\builds\\buildkite-windows-cpu-autoscaling-group-i-0015a694724fa8361-1\\xgboost\\xgboost-ci-windows\\src\\learner.cc:740: \n",
      "Parameters: { \"use_label_encoder\" } are not used.\n",
      "\n",
      "  warnings.warn(smsg, UserWarning)\n"
     ]
    },
    {
     "name": "stdout",
     "output_type": "stream",
     "text": [
      "Precision: 0.75, Recall: 0.6, Accuracy: 0.7\n",
      "Precision: 0.625, Recall: 1.0, Accuracy: 0.7\n"
     ]
    },
    {
     "name": "stderr",
     "output_type": "stream",
     "text": [
      "C:\\Users\\kdeep\\anaconda3\\Lib\\site-packages\\xgboost\\core.py:158: UserWarning: [09:37:37] WARNING: C:\\buildkite-agent\\builds\\buildkite-windows-cpu-autoscaling-group-i-0015a694724fa8361-1\\xgboost\\xgboost-ci-windows\\src\\learner.cc:740: \n",
      "Parameters: { \"use_label_encoder\" } are not used.\n",
      "\n",
      "  warnings.warn(smsg, UserWarning)\n",
      "C:\\Users\\kdeep\\anaconda3\\Lib\\site-packages\\xgboost\\core.py:158: UserWarning: [09:37:37] WARNING: C:\\buildkite-agent\\builds\\buildkite-windows-cpu-autoscaling-group-i-0015a694724fa8361-1\\xgboost\\xgboost-ci-windows\\src\\learner.cc:740: \n",
      "Parameters: { \"use_label_encoder\" } are not used.\n",
      "\n",
      "  warnings.warn(smsg, UserWarning)\n"
     ]
    },
    {
     "name": "stdout",
     "output_type": "stream",
     "text": [
      "Precision: 1.0, Recall: 1.0, Accuracy: 1.0\n",
      "Precision: 0.8333333333333334, Recall: 1.0, Accuracy: 0.9\n"
     ]
    },
    {
     "name": "stderr",
     "output_type": "stream",
     "text": [
      "C:\\Users\\kdeep\\anaconda3\\Lib\\site-packages\\xgboost\\core.py:158: UserWarning: [09:37:37] WARNING: C:\\buildkite-agent\\builds\\buildkite-windows-cpu-autoscaling-group-i-0015a694724fa8361-1\\xgboost\\xgboost-ci-windows\\src\\learner.cc:740: \n",
      "Parameters: { \"use_label_encoder\" } are not used.\n",
      "\n",
      "  warnings.warn(smsg, UserWarning)\n",
      "C:\\Users\\kdeep\\anaconda3\\Lib\\site-packages\\xgboost\\core.py:158: UserWarning: [09:37:38] WARNING: C:\\buildkite-agent\\builds\\buildkite-windows-cpu-autoscaling-group-i-0015a694724fa8361-1\\xgboost\\xgboost-ci-windows\\src\\learner.cc:740: \n",
      "Parameters: { \"use_label_encoder\" } are not used.\n",
      "\n",
      "  warnings.warn(smsg, UserWarning)\n"
     ]
    },
    {
     "name": "stdout",
     "output_type": "stream",
     "text": [
      "Precision: 0.8, Recall: 0.8, Accuracy: 0.7777777777777778\n",
      "Precision: 0.42857142857142855, Recall: 0.6, Accuracy: 0.3333333333333333\n"
     ]
    },
    {
     "name": "stderr",
     "output_type": "stream",
     "text": [
      "C:\\Users\\kdeep\\anaconda3\\Lib\\site-packages\\xgboost\\core.py:158: UserWarning: [09:37:38] WARNING: C:\\buildkite-agent\\builds\\buildkite-windows-cpu-autoscaling-group-i-0015a694724fa8361-1\\xgboost\\xgboost-ci-windows\\src\\learner.cc:740: \n",
      "Parameters: { \"use_label_encoder\" } are not used.\n",
      "\n",
      "  warnings.warn(smsg, UserWarning)\n",
      "C:\\Users\\kdeep\\anaconda3\\Lib\\site-packages\\xgboost\\core.py:158: UserWarning: [09:37:38] WARNING: C:\\buildkite-agent\\builds\\buildkite-windows-cpu-autoscaling-group-i-0015a694724fa8361-1\\xgboost\\xgboost-ci-windows\\src\\learner.cc:740: \n",
      "Parameters: { \"use_label_encoder\" } are not used.\n",
      "\n",
      "  warnings.warn(smsg, UserWarning)\n"
     ]
    },
    {
     "name": "stdout",
     "output_type": "stream",
     "text": [
      "Precision: 0.6, Recall: 0.6, Accuracy: 0.5555555555555556\n",
      "Precision: 0.6, Recall: 0.75, Accuracy: 0.6666666666666666\n"
     ]
    },
    {
     "name": "stderr",
     "output_type": "stream",
     "text": [
      "C:\\Users\\kdeep\\anaconda3\\Lib\\site-packages\\xgboost\\core.py:158: UserWarning: [09:37:38] WARNING: C:\\buildkite-agent\\builds\\buildkite-windows-cpu-autoscaling-group-i-0015a694724fa8361-1\\xgboost\\xgboost-ci-windows\\src\\learner.cc:740: \n",
      "Parameters: { \"use_label_encoder\" } are not used.\n",
      "\n",
      "  warnings.warn(smsg, UserWarning)\n",
      "C:\\Users\\kdeep\\anaconda3\\Lib\\site-packages\\xgboost\\core.py:158: UserWarning: [09:37:38] WARNING: C:\\buildkite-agent\\builds\\buildkite-windows-cpu-autoscaling-group-i-0015a694724fa8361-1\\xgboost\\xgboost-ci-windows\\src\\learner.cc:740: \n",
      "Parameters: { \"use_label_encoder\" } are not used.\n",
      "\n",
      "  warnings.warn(smsg, UserWarning)\n"
     ]
    },
    {
     "name": "stdout",
     "output_type": "stream",
     "text": [
      "Precision: 0.5, Recall: 0.25, Accuracy: 0.5555555555555556\n",
      "Precision: 0.5, Recall: 0.75, Accuracy: 0.5555555555555556\n",
      "Results to be written: eta=0.5, depth=5, dim=200, eps=0.3, (42.3, 42.3, 4.7, 4.7, 0.6636904761904762, 0.735, 0.6744444444444444, 151008, 0.6444849700317717, 0.006104469036903061)\n",
      "eta=0.5, depth=5, dim=200, eps=0.5\n",
      "Number of flaky documents: 47\n",
      "Number of non-flaky documents: 47\n",
      "Total number of documents: 94\n",
      "Sample document: # Copyright 2021 The NetKet Authors - All rights reserved.\n",
      "#\n",
      "# Licensed under the Apache License, Version 2.0 (the \"License\");\n",
      "# you may not use this file except in compliance with the License.\n",
      "# You may obtain a copy of the License at\n",
      "#\n",
      "#    http://www.apache.org/licenses/LICENSE-2.0\n",
      "#\n",
      "# Unless required by applicable law or agreed to in writing, software\n",
      "# distributed under the License is distributed on an \"AS IS\" BASIS,\n",
      "# WITHOUT WARRANTIES OR CONDITIONS OF ANY KIND, either express or implied.\n",
      "# See the License for the specific language governing permissions and\n",
      "# limitations under the License.\n",
      "\n",
      "import dataclasses\n",
      "import abc\n",
      "\n",
      "from flax.core import freeze\n",
      "\n",
      "\n",
      "@dataclasses.dataclass(frozen=True)\n",
      "class ModuleFramework(abc.ABC):\n",
      "    @staticmethod\n",
      "    @abc.abstractmethod\n",
      "    def is_loaded() -> bool:\n",
      "        pass\n",
      "\n",
      "    @staticmethod\n",
      "    @abc.abstractmethod\n",
      "    def is_my_module(module):\n",
      "        pass\n",
      "\n",
      "    @staticmethod\n",
      "    @abc.abstractmethod\n",
      "    def wrap(module):\n",
      "        return module\n",
      "\n",
      "    @staticmethod\n",
      "    def wrap_params(variables):\n",
      "        return freeze({\"params\": variables})\n",
      "\n",
      "    @staticmethod\n",
      "    @abc.abstractmethod\n",
      "    def unwrap_params(wrapped_variables):\n",
      "        return wrapped_variables\n",
      "\n",
      "\n",
      "registered_frameworks = []\n",
      "\n",
      "\n",
      "def framework(clz):\n",
      "    \"\"\"\n",
      "    Registers a framework and it's wrapper methods to make it\n",
      "    behave like a flax framework.\n",
      "    \"\"\"\n",
      "    clz = dataclasses.dataclass(frozen=True)(clz)\n",
      "    registered_frameworks.append(clz)\n",
      "    return clz\n",
      "\n",
      "\n",
      "@dataclasses.dataclass(frozen=True)\n",
      "class UnknownFramework(ModuleFramework):\n",
      "    name: str = \"Unknown\"\n",
      "\n",
      "    @staticmethod\n",
      "    def is_loaded() -> bool:\n",
      "        return True\n",
      "\n",
      "    @staticmethod\n",
      "    def is_my_module(module):\n",
      "        return False\n",
      "\n",
      "    @staticmethod\n",
      "    def wrap(module):\n",
      "        return module\n",
      "\n",
      "    @staticmethod\n",
      "    def unwrap_params(wrapped_variables):\n",
      "        return wrapped_variables\n",
      "\n",
      "\n",
      "def identify_framework(module):\n",
      "    for _framework in registered_frameworks:\n",
      "        if _framework.is_my_module(module):\n",
      "            return _framework\n",
      "\n",
      "    return UnknownFramework\n",
      "\n",
      "\n",
      "def maybe_wrap_module(module):\n",
      "    \"\"\"\n",
      "    Passing a module from an unknown framework (might be user defined module, a jax\n",
      "    module, flax or haiku or anything else really), attempt to identify what is the\n",
      "    package/framework it comes from, and if so it correctly wraps it in order to\n",
      "    make it behave like a flax module (our default).\n",
      "\n",
      "    Also returns a function used to unpack the parameters once we are done.\n",
      "    \"\"\"\n",
      "    framewrk = identify_framework(module)\n",
      "\n",
      "    return framewrk, framewrk.wrap(module)\n"
     ]
    },
    {
     "name": "stderr",
     "output_type": "stream",
     "text": [
      "C:\\Users\\kdeep\\anaconda3\\Lib\\site-packages\\xgboost\\core.py:158: UserWarning: [09:37:39] WARNING: C:\\buildkite-agent\\builds\\buildkite-windows-cpu-autoscaling-group-i-0015a694724fa8361-1\\xgboost\\xgboost-ci-windows\\src\\learner.cc:740: \n",
      "Parameters: { \"use_label_encoder\" } are not used.\n",
      "\n",
      "  warnings.warn(smsg, UserWarning)\n",
      "C:\\Users\\kdeep\\anaconda3\\Lib\\site-packages\\xgboost\\core.py:158: UserWarning: [09:37:39] WARNING: C:\\buildkite-agent\\builds\\buildkite-windows-cpu-autoscaling-group-i-0015a694724fa8361-1\\xgboost\\xgboost-ci-windows\\src\\learner.cc:740: \n",
      "Parameters: { \"use_label_encoder\" } are not used.\n",
      "\n",
      "  warnings.warn(smsg, UserWarning)\n"
     ]
    },
    {
     "name": "stdout",
     "output_type": "stream",
     "text": [
      "Precision: 1.0, Recall: 0.4, Accuracy: 0.7\n",
      "Precision: 1.0, Recall: 0.8, Accuracy: 0.9\n"
     ]
    },
    {
     "name": "stderr",
     "output_type": "stream",
     "text": [
      "C:\\Users\\kdeep\\anaconda3\\Lib\\site-packages\\xgboost\\core.py:158: UserWarning: [09:37:39] WARNING: C:\\buildkite-agent\\builds\\buildkite-windows-cpu-autoscaling-group-i-0015a694724fa8361-1\\xgboost\\xgboost-ci-windows\\src\\learner.cc:740: \n",
      "Parameters: { \"use_label_encoder\" } are not used.\n",
      "\n",
      "  warnings.warn(smsg, UserWarning)\n",
      "C:\\Users\\kdeep\\anaconda3\\Lib\\site-packages\\xgboost\\core.py:158: UserWarning: [09:37:39] WARNING: C:\\buildkite-agent\\builds\\buildkite-windows-cpu-autoscaling-group-i-0015a694724fa8361-1\\xgboost\\xgboost-ci-windows\\src\\learner.cc:740: \n",
      "Parameters: { \"use_label_encoder\" } are not used.\n",
      "\n",
      "  warnings.warn(smsg, UserWarning)\n"
     ]
    },
    {
     "name": "stdout",
     "output_type": "stream",
     "text": [
      "Precision: 1.0, Recall: 1.0, Accuracy: 1.0\n",
      "Precision: 0.8333333333333334, Recall: 1.0, Accuracy: 0.9\n"
     ]
    },
    {
     "name": "stderr",
     "output_type": "stream",
     "text": [
      "C:\\Users\\kdeep\\anaconda3\\Lib\\site-packages\\xgboost\\core.py:158: UserWarning: [09:37:39] WARNING: C:\\buildkite-agent\\builds\\buildkite-windows-cpu-autoscaling-group-i-0015a694724fa8361-1\\xgboost\\xgboost-ci-windows\\src\\learner.cc:740: \n",
      "Parameters: { \"use_label_encoder\" } are not used.\n",
      "\n",
      "  warnings.warn(smsg, UserWarning)\n",
      "C:\\Users\\kdeep\\anaconda3\\Lib\\site-packages\\xgboost\\core.py:158: UserWarning: [09:37:40] WARNING: C:\\buildkite-agent\\builds\\buildkite-windows-cpu-autoscaling-group-i-0015a694724fa8361-1\\xgboost\\xgboost-ci-windows\\src\\learner.cc:740: \n",
      "Parameters: { \"use_label_encoder\" } are not used.\n",
      "\n",
      "  warnings.warn(smsg, UserWarning)\n"
     ]
    },
    {
     "name": "stdout",
     "output_type": "stream",
     "text": [
      "Precision: 1.0, Recall: 0.6, Accuracy: 0.7777777777777778\n",
      "Precision: 0.6666666666666666, Recall: 0.8, Accuracy: 0.6666666666666666\n"
     ]
    },
    {
     "name": "stderr",
     "output_type": "stream",
     "text": [
      "C:\\Users\\kdeep\\anaconda3\\Lib\\site-packages\\xgboost\\core.py:158: UserWarning: [09:37:40] WARNING: C:\\buildkite-agent\\builds\\buildkite-windows-cpu-autoscaling-group-i-0015a694724fa8361-1\\xgboost\\xgboost-ci-windows\\src\\learner.cc:740: \n",
      "Parameters: { \"use_label_encoder\" } are not used.\n",
      "\n",
      "  warnings.warn(smsg, UserWarning)\n",
      "C:\\Users\\kdeep\\anaconda3\\Lib\\site-packages\\xgboost\\core.py:158: UserWarning: [09:37:40] WARNING: C:\\buildkite-agent\\builds\\buildkite-windows-cpu-autoscaling-group-i-0015a694724fa8361-1\\xgboost\\xgboost-ci-windows\\src\\learner.cc:740: \n",
      "Parameters: { \"use_label_encoder\" } are not used.\n",
      "\n",
      "  warnings.warn(smsg, UserWarning)\n"
     ]
    },
    {
     "name": "stdout",
     "output_type": "stream",
     "text": [
      "Precision: 0.8, Recall: 0.8, Accuracy: 0.7777777777777778\n",
      "Precision: 0.6666666666666666, Recall: 1.0, Accuracy: 0.7777777777777778\n",
      "Precision: 1.0, Recall: 0.75, Accuracy: 0.8888888888888888\n"
     ]
    },
    {
     "name": "stderr",
     "output_type": "stream",
     "text": [
      "C:\\Users\\kdeep\\anaconda3\\Lib\\site-packages\\xgboost\\core.py:158: UserWarning: [09:37:40] WARNING: C:\\buildkite-agent\\builds\\buildkite-windows-cpu-autoscaling-group-i-0015a694724fa8361-1\\xgboost\\xgboost-ci-windows\\src\\learner.cc:740: \n",
      "Parameters: { \"use_label_encoder\" } are not used.\n",
      "\n",
      "  warnings.warn(smsg, UserWarning)\n",
      "C:\\Users\\kdeep\\anaconda3\\Lib\\site-packages\\xgboost\\core.py:158: UserWarning: [09:37:40] WARNING: C:\\buildkite-agent\\builds\\buildkite-windows-cpu-autoscaling-group-i-0015a694724fa8361-1\\xgboost\\xgboost-ci-windows\\src\\learner.cc:740: \n",
      "Parameters: { \"use_label_encoder\" } are not used.\n",
      "\n",
      "  warnings.warn(smsg, UserWarning)\n"
     ]
    },
    {
     "name": "stdout",
     "output_type": "stream",
     "text": [
      "Precision: 0.75, Recall: 0.75, Accuracy: 0.7777777777777778\n",
      "Results to be written: eta=0.5, depth=5, dim=200, eps=0.5, (42.3, 42.3, 4.7, 4.7, 0.8716666666666668, 0.79, 0.8166666666666668, 151008, 0.5479434399981983, 0.004876180163644646)\n",
      "eta=0.5, depth=7, dim=0, eps=0.1\n",
      "Number of flaky documents: 47\n",
      "Number of non-flaky documents: 47\n",
      "Total number of documents: 94\n",
      "Sample document: # Copyright 2021 The NetKet Authors - All rights reserved.\n",
      "#\n",
      "# Licensed under the Apache License, Version 2.0 (the \"License\");\n",
      "# you may not use this file except in compliance with the License.\n",
      "# You may obtain a copy of the License at\n",
      "#\n",
      "#    http://www.apache.org/licenses/LICENSE-2.0\n",
      "#\n",
      "# Unless required by applicable law or agreed to in writing, software\n",
      "# distributed under the License is distributed on an \"AS IS\" BASIS,\n",
      "# WITHOUT WARRANTIES OR CONDITIONS OF ANY KIND, either express or implied.\n",
      "# See the License for the specific language governing permissions and\n",
      "# limitations under the License.\n",
      "\n",
      "import dataclasses\n",
      "import abc\n",
      "\n",
      "from flax.core import freeze\n",
      "\n",
      "\n",
      "@dataclasses.dataclass(frozen=True)\n",
      "class ModuleFramework(abc.ABC):\n",
      "    @staticmethod\n",
      "    @abc.abstractmethod\n",
      "    def is_loaded() -> bool:\n",
      "        pass\n",
      "\n",
      "    @staticmethod\n",
      "    @abc.abstractmethod\n",
      "    def is_my_module(module):\n",
      "        pass\n",
      "\n",
      "    @staticmethod\n",
      "    @abc.abstractmethod\n",
      "    def wrap(module):\n",
      "        return module\n",
      "\n",
      "    @staticmethod\n",
      "    def wrap_params(variables):\n",
      "        return freeze({\"params\": variables})\n",
      "\n",
      "    @staticmethod\n",
      "    @abc.abstractmethod\n",
      "    def unwrap_params(wrapped_variables):\n",
      "        return wrapped_variables\n",
      "\n",
      "\n",
      "registered_frameworks = []\n",
      "\n",
      "\n",
      "def framework(clz):\n",
      "    \"\"\"\n",
      "    Registers a framework and it's wrapper methods to make it\n",
      "    behave like a flax framework.\n",
      "    \"\"\"\n",
      "    clz = dataclasses.dataclass(frozen=True)(clz)\n",
      "    registered_frameworks.append(clz)\n",
      "    return clz\n",
      "\n",
      "\n",
      "@dataclasses.dataclass(frozen=True)\n",
      "class UnknownFramework(ModuleFramework):\n",
      "    name: str = \"Unknown\"\n",
      "\n",
      "    @staticmethod\n",
      "    def is_loaded() -> bool:\n",
      "        return True\n",
      "\n",
      "    @staticmethod\n",
      "    def is_my_module(module):\n",
      "        return False\n",
      "\n",
      "    @staticmethod\n",
      "    def wrap(module):\n",
      "        return module\n",
      "\n",
      "    @staticmethod\n",
      "    def unwrap_params(wrapped_variables):\n",
      "        return wrapped_variables\n",
      "\n",
      "\n",
      "def identify_framework(module):\n",
      "    for _framework in registered_frameworks:\n",
      "        if _framework.is_my_module(module):\n",
      "            return _framework\n",
      "\n",
      "    return UnknownFramework\n",
      "\n",
      "\n",
      "def maybe_wrap_module(module):\n",
      "    \"\"\"\n",
      "    Passing a module from an unknown framework (might be user defined module, a jax\n",
      "    module, flax or haiku or anything else really), attempt to identify what is the\n",
      "    package/framework it comes from, and if so it correctly wraps it in order to\n",
      "    make it behave like a flax module (our default).\n",
      "\n",
      "    Also returns a function used to unpack the parameters once we are done.\n",
      "    \"\"\"\n",
      "    framewrk = identify_framework(module)\n",
      "\n",
      "    return framewrk, framewrk.wrap(module)\n"
     ]
    },
    {
     "name": "stderr",
     "output_type": "stream",
     "text": [
      "C:\\Users\\kdeep\\anaconda3\\Lib\\site-packages\\xgboost\\core.py:158: UserWarning: [09:37:43] WARNING: C:\\buildkite-agent\\builds\\buildkite-windows-cpu-autoscaling-group-i-0015a694724fa8361-1\\xgboost\\xgboost-ci-windows\\src\\learner.cc:740: \n",
      "Parameters: { \"use_label_encoder\" } are not used.\n",
      "\n",
      "  warnings.warn(smsg, UserWarning)\n"
     ]
    },
    {
     "name": "stdout",
     "output_type": "stream",
     "text": [
      "Precision: 0.75, Recall: 0.6, Accuracy: 0.7\n"
     ]
    },
    {
     "name": "stderr",
     "output_type": "stream",
     "text": [
      "C:\\Users\\kdeep\\anaconda3\\Lib\\site-packages\\xgboost\\core.py:158: UserWarning: [09:37:44] WARNING: C:\\buildkite-agent\\builds\\buildkite-windows-cpu-autoscaling-group-i-0015a694724fa8361-1\\xgboost\\xgboost-ci-windows\\src\\learner.cc:740: \n",
      "Parameters: { \"use_label_encoder\" } are not used.\n",
      "\n",
      "  warnings.warn(smsg, UserWarning)\n"
     ]
    },
    {
     "name": "stdout",
     "output_type": "stream",
     "text": [
      "Precision: 1.0, Recall: 0.6, Accuracy: 0.8\n"
     ]
    },
    {
     "name": "stderr",
     "output_type": "stream",
     "text": [
      "C:\\Users\\kdeep\\anaconda3\\Lib\\site-packages\\xgboost\\core.py:158: UserWarning: [09:37:44] WARNING: C:\\buildkite-agent\\builds\\buildkite-windows-cpu-autoscaling-group-i-0015a694724fa8361-1\\xgboost\\xgboost-ci-windows\\src\\learner.cc:740: \n",
      "Parameters: { \"use_label_encoder\" } are not used.\n",
      "\n",
      "  warnings.warn(smsg, UserWarning)\n"
     ]
    },
    {
     "name": "stdout",
     "output_type": "stream",
     "text": [
      "Precision: 0.8333333333333334, Recall: 1.0, Accuracy: 0.9\n"
     ]
    },
    {
     "name": "stderr",
     "output_type": "stream",
     "text": [
      "C:\\Users\\kdeep\\anaconda3\\Lib\\site-packages\\xgboost\\core.py:158: UserWarning: [09:37:45] WARNING: C:\\buildkite-agent\\builds\\buildkite-windows-cpu-autoscaling-group-i-0015a694724fa8361-1\\xgboost\\xgboost-ci-windows\\src\\learner.cc:740: \n",
      "Parameters: { \"use_label_encoder\" } are not used.\n",
      "\n",
      "  warnings.warn(smsg, UserWarning)\n"
     ]
    },
    {
     "name": "stdout",
     "output_type": "stream",
     "text": [
      "Precision: 0.8333333333333334, Recall: 1.0, Accuracy: 0.9\n"
     ]
    },
    {
     "name": "stderr",
     "output_type": "stream",
     "text": [
      "C:\\Users\\kdeep\\anaconda3\\Lib\\site-packages\\xgboost\\core.py:158: UserWarning: [09:37:46] WARNING: C:\\buildkite-agent\\builds\\buildkite-windows-cpu-autoscaling-group-i-0015a694724fa8361-1\\xgboost\\xgboost-ci-windows\\src\\learner.cc:740: \n",
      "Parameters: { \"use_label_encoder\" } are not used.\n",
      "\n",
      "  warnings.warn(smsg, UserWarning)\n"
     ]
    },
    {
     "name": "stdout",
     "output_type": "stream",
     "text": [
      "Precision: 1.0, Recall: 0.4, Accuracy: 0.6666666666666666\n"
     ]
    },
    {
     "name": "stderr",
     "output_type": "stream",
     "text": [
      "C:\\Users\\kdeep\\anaconda3\\Lib\\site-packages\\xgboost\\core.py:158: UserWarning: [09:37:47] WARNING: C:\\buildkite-agent\\builds\\buildkite-windows-cpu-autoscaling-group-i-0015a694724fa8361-1\\xgboost\\xgboost-ci-windows\\src\\learner.cc:740: \n",
      "Parameters: { \"use_label_encoder\" } are not used.\n",
      "\n",
      "  warnings.warn(smsg, UserWarning)\n"
     ]
    },
    {
     "name": "stdout",
     "output_type": "stream",
     "text": [
      "Precision: 0.5714285714285714, Recall: 0.8, Accuracy: 0.5555555555555556\n"
     ]
    },
    {
     "name": "stderr",
     "output_type": "stream",
     "text": [
      "C:\\Users\\kdeep\\anaconda3\\Lib\\site-packages\\xgboost\\core.py:158: UserWarning: [09:37:48] WARNING: C:\\buildkite-agent\\builds\\buildkite-windows-cpu-autoscaling-group-i-0015a694724fa8361-1\\xgboost\\xgboost-ci-windows\\src\\learner.cc:740: \n",
      "Parameters: { \"use_label_encoder\" } are not used.\n",
      "\n",
      "  warnings.warn(smsg, UserWarning)\n"
     ]
    },
    {
     "name": "stdout",
     "output_type": "stream",
     "text": [
      "Precision: 0.7142857142857143, Recall: 1.0, Accuracy: 0.7777777777777778\n"
     ]
    },
    {
     "name": "stderr",
     "output_type": "stream",
     "text": [
      "C:\\Users\\kdeep\\anaconda3\\Lib\\site-packages\\xgboost\\core.py:158: UserWarning: [09:37:48] WARNING: C:\\buildkite-agent\\builds\\buildkite-windows-cpu-autoscaling-group-i-0015a694724fa8361-1\\xgboost\\xgboost-ci-windows\\src\\learner.cc:740: \n",
      "Parameters: { \"use_label_encoder\" } are not used.\n",
      "\n",
      "  warnings.warn(smsg, UserWarning)\n"
     ]
    },
    {
     "name": "stdout",
     "output_type": "stream",
     "text": [
      "Precision: 0.8, Recall: 1.0, Accuracy: 0.8888888888888888\n"
     ]
    },
    {
     "name": "stderr",
     "output_type": "stream",
     "text": [
      "C:\\Users\\kdeep\\anaconda3\\Lib\\site-packages\\xgboost\\core.py:158: UserWarning: [09:37:49] WARNING: C:\\buildkite-agent\\builds\\buildkite-windows-cpu-autoscaling-group-i-0015a694724fa8361-1\\xgboost\\xgboost-ci-windows\\src\\learner.cc:740: \n",
      "Parameters: { \"use_label_encoder\" } are not used.\n",
      "\n",
      "  warnings.warn(smsg, UserWarning)\n"
     ]
    },
    {
     "name": "stdout",
     "output_type": "stream",
     "text": [
      "Precision: 1.0, Recall: 1.0, Accuracy: 1.0\n"
     ]
    },
    {
     "name": "stderr",
     "output_type": "stream",
     "text": [
      "C:\\Users\\kdeep\\anaconda3\\Lib\\site-packages\\xgboost\\core.py:158: UserWarning: [09:37:50] WARNING: C:\\buildkite-agent\\builds\\buildkite-windows-cpu-autoscaling-group-i-0015a694724fa8361-1\\xgboost\\xgboost-ci-windows\\src\\learner.cc:740: \n",
      "Parameters: { \"use_label_encoder\" } are not used.\n",
      "\n",
      "  warnings.warn(smsg, UserWarning)\n"
     ]
    },
    {
     "name": "stdout",
     "output_type": "stream",
     "text": [
      "Precision: 0.5, Recall: 0.5, Accuracy: 0.5555555555555556\n",
      "Results to be written: eta=0.5, depth=7, dim=0, eps=0.1, (42.3, 42.3, 4.7, 4.7, 0.8002380952380953, 0.79, 0.7744444444444444, 2928897, 2.790020680020097, 0.024319457917974553)\n",
      "eta=0.5, depth=7, dim=0, eps=0.3\n",
      "Number of flaky documents: 47\n",
      "Number of non-flaky documents: 47\n",
      "Total number of documents: 94\n",
      "Sample document: # Copyright 2021 The NetKet Authors - All rights reserved.\n",
      "#\n",
      "# Licensed under the Apache License, Version 2.0 (the \"License\");\n",
      "# you may not use this file except in compliance with the License.\n",
      "# You may obtain a copy of the License at\n",
      "#\n",
      "#    http://www.apache.org/licenses/LICENSE-2.0\n",
      "#\n",
      "# Unless required by applicable law or agreed to in writing, software\n",
      "# distributed under the License is distributed on an \"AS IS\" BASIS,\n",
      "# WITHOUT WARRANTIES OR CONDITIONS OF ANY KIND, either express or implied.\n",
      "# See the License for the specific language governing permissions and\n",
      "# limitations under the License.\n",
      "\n",
      "import dataclasses\n",
      "import abc\n",
      "\n",
      "from flax.core import freeze\n",
      "\n",
      "\n",
      "@dataclasses.dataclass(frozen=True)\n",
      "class ModuleFramework(abc.ABC):\n",
      "    @staticmethod\n",
      "    @abc.abstractmethod\n",
      "    def is_loaded() -> bool:\n",
      "        pass\n",
      "\n",
      "    @staticmethod\n",
      "    @abc.abstractmethod\n",
      "    def is_my_module(module):\n",
      "        pass\n",
      "\n",
      "    @staticmethod\n",
      "    @abc.abstractmethod\n",
      "    def wrap(module):\n",
      "        return module\n",
      "\n",
      "    @staticmethod\n",
      "    def wrap_params(variables):\n",
      "        return freeze({\"params\": variables})\n",
      "\n",
      "    @staticmethod\n",
      "    @abc.abstractmethod\n",
      "    def unwrap_params(wrapped_variables):\n",
      "        return wrapped_variables\n",
      "\n",
      "\n",
      "registered_frameworks = []\n",
      "\n",
      "\n",
      "def framework(clz):\n",
      "    \"\"\"\n",
      "    Registers a framework and it's wrapper methods to make it\n",
      "    behave like a flax framework.\n",
      "    \"\"\"\n",
      "    clz = dataclasses.dataclass(frozen=True)(clz)\n",
      "    registered_frameworks.append(clz)\n",
      "    return clz\n",
      "\n",
      "\n",
      "@dataclasses.dataclass(frozen=True)\n",
      "class UnknownFramework(ModuleFramework):\n",
      "    name: str = \"Unknown\"\n",
      "\n",
      "    @staticmethod\n",
      "    def is_loaded() -> bool:\n",
      "        return True\n",
      "\n",
      "    @staticmethod\n",
      "    def is_my_module(module):\n",
      "        return False\n",
      "\n",
      "    @staticmethod\n",
      "    def wrap(module):\n",
      "        return module\n",
      "\n",
      "    @staticmethod\n",
      "    def unwrap_params(wrapped_variables):\n",
      "        return wrapped_variables\n",
      "\n",
      "\n",
      "def identify_framework(module):\n",
      "    for _framework in registered_frameworks:\n",
      "        if _framework.is_my_module(module):\n",
      "            return _framework\n",
      "\n",
      "    return UnknownFramework\n",
      "\n",
      "\n",
      "def maybe_wrap_module(module):\n",
      "    \"\"\"\n",
      "    Passing a module from an unknown framework (might be user defined module, a jax\n",
      "    module, flax or haiku or anything else really), attempt to identify what is the\n",
      "    package/framework it comes from, and if so it correctly wraps it in order to\n",
      "    make it behave like a flax module (our default).\n",
      "\n",
      "    Also returns a function used to unpack the parameters once we are done.\n",
      "    \"\"\"\n",
      "    framewrk = identify_framework(module)\n",
      "\n",
      "    return framewrk, framewrk.wrap(module)\n"
     ]
    },
    {
     "name": "stderr",
     "output_type": "stream",
     "text": [
      "C:\\Users\\kdeep\\anaconda3\\Lib\\site-packages\\xgboost\\core.py:158: UserWarning: [09:37:52] WARNING: C:\\buildkite-agent\\builds\\buildkite-windows-cpu-autoscaling-group-i-0015a694724fa8361-1\\xgboost\\xgboost-ci-windows\\src\\learner.cc:740: \n",
      "Parameters: { \"use_label_encoder\" } are not used.\n",
      "\n",
      "  warnings.warn(smsg, UserWarning)\n"
     ]
    },
    {
     "name": "stdout",
     "output_type": "stream",
     "text": [
      "Precision: 1.0, Recall: 0.6, Accuracy: 0.8\n"
     ]
    },
    {
     "name": "stderr",
     "output_type": "stream",
     "text": [
      "C:\\Users\\kdeep\\anaconda3\\Lib\\site-packages\\xgboost\\core.py:158: UserWarning: [09:37:52] WARNING: C:\\buildkite-agent\\builds\\buildkite-windows-cpu-autoscaling-group-i-0015a694724fa8361-1\\xgboost\\xgboost-ci-windows\\src\\learner.cc:740: \n",
      "Parameters: { \"use_label_encoder\" } are not used.\n",
      "\n",
      "  warnings.warn(smsg, UserWarning)\n"
     ]
    },
    {
     "name": "stdout",
     "output_type": "stream",
     "text": [
      "Precision: 0.6666666666666666, Recall: 0.8, Accuracy: 0.7\n"
     ]
    },
    {
     "name": "stderr",
     "output_type": "stream",
     "text": [
      "C:\\Users\\kdeep\\anaconda3\\Lib\\site-packages\\xgboost\\core.py:158: UserWarning: [09:37:52] WARNING: C:\\buildkite-agent\\builds\\buildkite-windows-cpu-autoscaling-group-i-0015a694724fa8361-1\\xgboost\\xgboost-ci-windows\\src\\learner.cc:740: \n",
      "Parameters: { \"use_label_encoder\" } are not used.\n",
      "\n",
      "  warnings.warn(smsg, UserWarning)\n"
     ]
    },
    {
     "name": "stdout",
     "output_type": "stream",
     "text": [
      "Precision: 1.0, Recall: 1.0, Accuracy: 1.0\n",
      "Precision: 0.8, Recall: 0.8, Accuracy: 0.8\n"
     ]
    },
    {
     "name": "stderr",
     "output_type": "stream",
     "text": [
      "C:\\Users\\kdeep\\anaconda3\\Lib\\site-packages\\xgboost\\core.py:158: UserWarning: [09:37:52] WARNING: C:\\buildkite-agent\\builds\\buildkite-windows-cpu-autoscaling-group-i-0015a694724fa8361-1\\xgboost\\xgboost-ci-windows\\src\\learner.cc:740: \n",
      "Parameters: { \"use_label_encoder\" } are not used.\n",
      "\n",
      "  warnings.warn(smsg, UserWarning)\n",
      "C:\\Users\\kdeep\\anaconda3\\Lib\\site-packages\\xgboost\\core.py:158: UserWarning: [09:37:53] WARNING: C:\\buildkite-agent\\builds\\buildkite-windows-cpu-autoscaling-group-i-0015a694724fa8361-1\\xgboost\\xgboost-ci-windows\\src\\learner.cc:740: \n",
      "Parameters: { \"use_label_encoder\" } are not used.\n",
      "\n",
      "  warnings.warn(smsg, UserWarning)\n"
     ]
    },
    {
     "name": "stdout",
     "output_type": "stream",
     "text": [
      "Precision: 0.75, Recall: 0.6, Accuracy: 0.6666666666666666\n",
      "Precision: 0.7142857142857143, Recall: 1.0, Accuracy: 0.7777777777777778\n"
     ]
    },
    {
     "name": "stderr",
     "output_type": "stream",
     "text": [
      "C:\\Users\\kdeep\\anaconda3\\Lib\\site-packages\\xgboost\\core.py:158: UserWarning: [09:37:53] WARNING: C:\\buildkite-agent\\builds\\buildkite-windows-cpu-autoscaling-group-i-0015a694724fa8361-1\\xgboost\\xgboost-ci-windows\\src\\learner.cc:740: \n",
      "Parameters: { \"use_label_encoder\" } are not used.\n",
      "\n",
      "  warnings.warn(smsg, UserWarning)\n",
      "C:\\Users\\kdeep\\anaconda3\\Lib\\site-packages\\xgboost\\core.py:158: UserWarning: [09:37:53] WARNING: C:\\buildkite-agent\\builds\\buildkite-windows-cpu-autoscaling-group-i-0015a694724fa8361-1\\xgboost\\xgboost-ci-windows\\src\\learner.cc:740: \n",
      "Parameters: { \"use_label_encoder\" } are not used.\n",
      "\n",
      "  warnings.warn(smsg, UserWarning)\n"
     ]
    },
    {
     "name": "stdout",
     "output_type": "stream",
     "text": [
      "Precision: 0.6666666666666666, Recall: 0.8, Accuracy: 0.6666666666666666\n",
      "Precision: 0.75, Recall: 0.75, Accuracy: 0.7777777777777778\n"
     ]
    },
    {
     "name": "stderr",
     "output_type": "stream",
     "text": [
      "C:\\Users\\kdeep\\anaconda3\\Lib\\site-packages\\xgboost\\core.py:158: UserWarning: [09:37:53] WARNING: C:\\buildkite-agent\\builds\\buildkite-windows-cpu-autoscaling-group-i-0015a694724fa8361-1\\xgboost\\xgboost-ci-windows\\src\\learner.cc:740: \n",
      "Parameters: { \"use_label_encoder\" } are not used.\n",
      "\n",
      "  warnings.warn(smsg, UserWarning)\n",
      "C:\\Users\\kdeep\\anaconda3\\Lib\\site-packages\\xgboost\\core.py:158: UserWarning: [09:37:53] WARNING: C:\\buildkite-agent\\builds\\buildkite-windows-cpu-autoscaling-group-i-0015a694724fa8361-1\\xgboost\\xgboost-ci-windows\\src\\learner.cc:740: \n",
      "Parameters: { \"use_label_encoder\" } are not used.\n",
      "\n",
      "  warnings.warn(smsg, UserWarning)\n"
     ]
    },
    {
     "name": "stdout",
     "output_type": "stream",
     "text": [
      "Precision: 1.0, Recall: 0.75, Accuracy: 0.8888888888888888\n",
      "Precision: 1.0, Recall: 0.75, Accuracy: 0.8888888888888888\n",
      "Results to be written: eta=0.5, depth=7, dim=0, eps=0.3, (42.3, 42.3, 4.7, 4.7, 0.8347619047619048, 0.785, 0.7966666666666666, 379617, 0.7837070000008681, 0.007185101117641526)\n",
      "eta=0.5, depth=7, dim=0, eps=0.5\n"
     ]
    },
    {
     "name": "stderr",
     "output_type": "stream",
     "text": [
      "C:\\Users\\kdeep\\anaconda3\\Lib\\site-packages\\xgboost\\core.py:158: UserWarning: [09:37:54] WARNING: C:\\buildkite-agent\\builds\\buildkite-windows-cpu-autoscaling-group-i-0015a694724fa8361-1\\xgboost\\xgboost-ci-windows\\src\\learner.cc:740: \n",
      "Parameters: { \"use_label_encoder\" } are not used.\n",
      "\n",
      "  warnings.warn(smsg, UserWarning)\n"
     ]
    },
    {
     "name": "stdout",
     "output_type": "stream",
     "text": [
      "Number of flaky documents: 47\n",
      "Number of non-flaky documents: 47\n",
      "Total number of documents: 94\n",
      "Sample document: # Copyright 2021 The NetKet Authors - All rights reserved.\n",
      "#\n",
      "# Licensed under the Apache License, Version 2.0 (the \"License\");\n",
      "# you may not use this file except in compliance with the License.\n",
      "# You may obtain a copy of the License at\n",
      "#\n",
      "#    http://www.apache.org/licenses/LICENSE-2.0\n",
      "#\n",
      "# Unless required by applicable law or agreed to in writing, software\n",
      "# distributed under the License is distributed on an \"AS IS\" BASIS,\n",
      "# WITHOUT WARRANTIES OR CONDITIONS OF ANY KIND, either express or implied.\n",
      "# See the License for the specific language governing permissions and\n",
      "# limitations under the License.\n",
      "\n",
      "import dataclasses\n",
      "import abc\n",
      "\n",
      "from flax.core import freeze\n",
      "\n",
      "\n",
      "@dataclasses.dataclass(frozen=True)\n",
      "class ModuleFramework(abc.ABC):\n",
      "    @staticmethod\n",
      "    @abc.abstractmethod\n",
      "    def is_loaded() -> bool:\n",
      "        pass\n",
      "\n",
      "    @staticmethod\n",
      "    @abc.abstractmethod\n",
      "    def is_my_module(module):\n",
      "        pass\n",
      "\n",
      "    @staticmethod\n",
      "    @abc.abstractmethod\n",
      "    def wrap(module):\n",
      "        return module\n",
      "\n",
      "    @staticmethod\n",
      "    def wrap_params(variables):\n",
      "        return freeze({\"params\": variables})\n",
      "\n",
      "    @staticmethod\n",
      "    @abc.abstractmethod\n",
      "    def unwrap_params(wrapped_variables):\n",
      "        return wrapped_variables\n",
      "\n",
      "\n",
      "registered_frameworks = []\n",
      "\n",
      "\n",
      "def framework(clz):\n",
      "    \"\"\"\n",
      "    Registers a framework and it's wrapper methods to make it\n",
      "    behave like a flax framework.\n",
      "    \"\"\"\n",
      "    clz = dataclasses.dataclass(frozen=True)(clz)\n",
      "    registered_frameworks.append(clz)\n",
      "    return clz\n",
      "\n",
      "\n",
      "@dataclasses.dataclass(frozen=True)\n",
      "class UnknownFramework(ModuleFramework):\n",
      "    name: str = \"Unknown\"\n",
      "\n",
      "    @staticmethod\n",
      "    def is_loaded() -> bool:\n",
      "        return True\n",
      "\n",
      "    @staticmethod\n",
      "    def is_my_module(module):\n",
      "        return False\n",
      "\n",
      "    @staticmethod\n",
      "    def wrap(module):\n",
      "        return module\n",
      "\n",
      "    @staticmethod\n",
      "    def unwrap_params(wrapped_variables):\n",
      "        return wrapped_variables\n",
      "\n",
      "\n",
      "def identify_framework(module):\n",
      "    for _framework in registered_frameworks:\n",
      "        if _framework.is_my_module(module):\n",
      "            return _framework\n",
      "\n",
      "    return UnknownFramework\n",
      "\n",
      "\n",
      "def maybe_wrap_module(module):\n",
      "    \"\"\"\n",
      "    Passing a module from an unknown framework (might be user defined module, a jax\n",
      "    module, flax or haiku or anything else really), attempt to identify what is the\n",
      "    package/framework it comes from, and if so it correctly wraps it in order to\n",
      "    make it behave like a flax module (our default).\n",
      "\n",
      "    Also returns a function used to unpack the parameters once we are done.\n",
      "    \"\"\"\n",
      "    framewrk = identify_framework(module)\n",
      "\n",
      "    return framewrk, framewrk.wrap(module)\n"
     ]
    },
    {
     "name": "stderr",
     "output_type": "stream",
     "text": [
      "C:\\Users\\kdeep\\anaconda3\\Lib\\site-packages\\xgboost\\core.py:158: UserWarning: [09:37:54] WARNING: C:\\buildkite-agent\\builds\\buildkite-windows-cpu-autoscaling-group-i-0015a694724fa8361-1\\xgboost\\xgboost-ci-windows\\src\\learner.cc:740: \n",
      "Parameters: { \"use_label_encoder\" } are not used.\n",
      "\n",
      "  warnings.warn(smsg, UserWarning)\n",
      "C:\\Users\\kdeep\\anaconda3\\Lib\\site-packages\\xgboost\\core.py:158: UserWarning: [09:37:54] WARNING: C:\\buildkite-agent\\builds\\buildkite-windows-cpu-autoscaling-group-i-0015a694724fa8361-1\\xgboost\\xgboost-ci-windows\\src\\learner.cc:740: \n",
      "Parameters: { \"use_label_encoder\" } are not used.\n",
      "\n",
      "  warnings.warn(smsg, UserWarning)\n"
     ]
    },
    {
     "name": "stdout",
     "output_type": "stream",
     "text": [
      "Precision: 1.0, Recall: 0.2, Accuracy: 0.6\n",
      "Precision: 0.75, Recall: 0.6, Accuracy: 0.7\n"
     ]
    },
    {
     "name": "stderr",
     "output_type": "stream",
     "text": [
      "C:\\Users\\kdeep\\anaconda3\\Lib\\site-packages\\xgboost\\core.py:158: UserWarning: [09:37:55] WARNING: C:\\buildkite-agent\\builds\\buildkite-windows-cpu-autoscaling-group-i-0015a694724fa8361-1\\xgboost\\xgboost-ci-windows\\src\\learner.cc:740: \n",
      "Parameters: { \"use_label_encoder\" } are not used.\n",
      "\n",
      "  warnings.warn(smsg, UserWarning)\n",
      "C:\\Users\\kdeep\\anaconda3\\Lib\\site-packages\\xgboost\\core.py:158: UserWarning: [09:37:55] WARNING: C:\\buildkite-agent\\builds\\buildkite-windows-cpu-autoscaling-group-i-0015a694724fa8361-1\\xgboost\\xgboost-ci-windows\\src\\learner.cc:740: \n",
      "Parameters: { \"use_label_encoder\" } are not used.\n",
      "\n",
      "  warnings.warn(smsg, UserWarning)\n"
     ]
    },
    {
     "name": "stdout",
     "output_type": "stream",
     "text": [
      "Precision: 1.0, Recall: 0.6, Accuracy: 0.8\n",
      "Precision: 1.0, Recall: 0.6, Accuracy: 0.8\n"
     ]
    },
    {
     "name": "stderr",
     "output_type": "stream",
     "text": [
      "C:\\Users\\kdeep\\anaconda3\\Lib\\site-packages\\xgboost\\core.py:158: UserWarning: [09:37:55] WARNING: C:\\buildkite-agent\\builds\\buildkite-windows-cpu-autoscaling-group-i-0015a694724fa8361-1\\xgboost\\xgboost-ci-windows\\src\\learner.cc:740: \n",
      "Parameters: { \"use_label_encoder\" } are not used.\n",
      "\n",
      "  warnings.warn(smsg, UserWarning)\n",
      "C:\\Users\\kdeep\\anaconda3\\Lib\\site-packages\\xgboost\\core.py:158: UserWarning: [09:37:55] WARNING: C:\\buildkite-agent\\builds\\buildkite-windows-cpu-autoscaling-group-i-0015a694724fa8361-1\\xgboost\\xgboost-ci-windows\\src\\learner.cc:740: \n",
      "Parameters: { \"use_label_encoder\" } are not used.\n",
      "\n",
      "  warnings.warn(smsg, UserWarning)\n"
     ]
    },
    {
     "name": "stdout",
     "output_type": "stream",
     "text": [
      "Precision: 0.6666666666666666, Recall: 0.4, Accuracy: 0.5555555555555556\n",
      "Precision: 0.6666666666666666, Recall: 0.8, Accuracy: 0.6666666666666666\n"
     ]
    },
    {
     "name": "stderr",
     "output_type": "stream",
     "text": [
      "C:\\Users\\kdeep\\anaconda3\\Lib\\site-packages\\xgboost\\core.py:158: UserWarning: [09:37:55] WARNING: C:\\buildkite-agent\\builds\\buildkite-windows-cpu-autoscaling-group-i-0015a694724fa8361-1\\xgboost\\xgboost-ci-windows\\src\\learner.cc:740: \n",
      "Parameters: { \"use_label_encoder\" } are not used.\n",
      "\n",
      "  warnings.warn(smsg, UserWarning)\n",
      "C:\\Users\\kdeep\\anaconda3\\Lib\\site-packages\\xgboost\\core.py:158: UserWarning: [09:37:55] WARNING: C:\\buildkite-agent\\builds\\buildkite-windows-cpu-autoscaling-group-i-0015a694724fa8361-1\\xgboost\\xgboost-ci-windows\\src\\learner.cc:740: \n",
      "Parameters: { \"use_label_encoder\" } are not used.\n",
      "\n",
      "  warnings.warn(smsg, UserWarning)\n"
     ]
    },
    {
     "name": "stdout",
     "output_type": "stream",
     "text": [
      "Precision: 0.6, Recall: 0.6, Accuracy: 0.5555555555555556\n",
      "Precision: 0.5, Recall: 0.75, Accuracy: 0.5555555555555556\n"
     ]
    },
    {
     "name": "stderr",
     "output_type": "stream",
     "text": [
      "C:\\Users\\kdeep\\anaconda3\\Lib\\site-packages\\xgboost\\core.py:158: UserWarning: [09:37:55] WARNING: C:\\buildkite-agent\\builds\\buildkite-windows-cpu-autoscaling-group-i-0015a694724fa8361-1\\xgboost\\xgboost-ci-windows\\src\\learner.cc:740: \n",
      "Parameters: { \"use_label_encoder\" } are not used.\n",
      "\n",
      "  warnings.warn(smsg, UserWarning)\n",
      "C:\\Users\\kdeep\\anaconda3\\Lib\\site-packages\\xgboost\\core.py:158: UserWarning: [09:37:56] WARNING: C:\\buildkite-agent\\builds\\buildkite-windows-cpu-autoscaling-group-i-0015a694724fa8361-1\\xgboost\\xgboost-ci-windows\\src\\learner.cc:740: \n",
      "Parameters: { \"use_label_encoder\" } are not used.\n",
      "\n",
      "  warnings.warn(smsg, UserWarning)\n"
     ]
    },
    {
     "name": "stdout",
     "output_type": "stream",
     "text": [
      "Precision: 0.6, Recall: 0.75, Accuracy: 0.6666666666666666\n",
      "Precision: 0.375, Recall: 0.75, Accuracy: 0.3333333333333333\n",
      "Results to be written: eta=0.5, depth=7, dim=0, eps=0.5, (42.3, 42.3, 4.7, 4.7, 0.7158333333333333, 0.6050000000000001, 0.6233333333333333, 164544, 0.577711490006186, 0.005736008165715193)\n",
      "eta=0.5, depth=7, dim=100, eps=0.1\n",
      "Number of flaky documents: 47\n",
      "Number of non-flaky documents: 47\n",
      "Total number of documents: 94\n",
      "Sample document: # Copyright 2021 The NetKet Authors - All rights reserved.\n",
      "#\n",
      "# Licensed under the Apache License, Version 2.0 (the \"License\");\n",
      "# you may not use this file except in compliance with the License.\n",
      "# You may obtain a copy of the License at\n",
      "#\n",
      "#    http://www.apache.org/licenses/LICENSE-2.0\n",
      "#\n",
      "# Unless required by applicable law or agreed to in writing, software\n",
      "# distributed under the License is distributed on an \"AS IS\" BASIS,\n",
      "# WITHOUT WARRANTIES OR CONDITIONS OF ANY KIND, either express or implied.\n",
      "# See the License for the specific language governing permissions and\n",
      "# limitations under the License.\n",
      "\n",
      "import dataclasses\n",
      "import abc\n",
      "\n",
      "from flax.core import freeze\n",
      "\n",
      "\n",
      "@dataclasses.dataclass(frozen=True)\n",
      "class ModuleFramework(abc.ABC):\n",
      "    @staticmethod\n",
      "    @abc.abstractmethod\n",
      "    def is_loaded() -> bool:\n",
      "        pass\n",
      "\n",
      "    @staticmethod\n",
      "    @abc.abstractmethod\n",
      "    def is_my_module(module):\n",
      "        pass\n",
      "\n",
      "    @staticmethod\n",
      "    @abc.abstractmethod\n",
      "    def wrap(module):\n",
      "        return module\n",
      "\n",
      "    @staticmethod\n",
      "    def wrap_params(variables):\n",
      "        return freeze({\"params\": variables})\n",
      "\n",
      "    @staticmethod\n",
      "    @abc.abstractmethod\n",
      "    def unwrap_params(wrapped_variables):\n",
      "        return wrapped_variables\n",
      "\n",
      "\n",
      "registered_frameworks = []\n",
      "\n",
      "\n",
      "def framework(clz):\n",
      "    \"\"\"\n",
      "    Registers a framework and it's wrapper methods to make it\n",
      "    behave like a flax framework.\n",
      "    \"\"\"\n",
      "    clz = dataclasses.dataclass(frozen=True)(clz)\n",
      "    registered_frameworks.append(clz)\n",
      "    return clz\n",
      "\n",
      "\n",
      "@dataclasses.dataclass(frozen=True)\n",
      "class UnknownFramework(ModuleFramework):\n",
      "    name: str = \"Unknown\"\n",
      "\n",
      "    @staticmethod\n",
      "    def is_loaded() -> bool:\n",
      "        return True\n",
      "\n",
      "    @staticmethod\n",
      "    def is_my_module(module):\n",
      "        return False\n",
      "\n",
      "    @staticmethod\n",
      "    def wrap(module):\n",
      "        return module\n",
      "\n",
      "    @staticmethod\n",
      "    def unwrap_params(wrapped_variables):\n",
      "        return wrapped_variables\n",
      "\n",
      "\n",
      "def identify_framework(module):\n",
      "    for _framework in registered_frameworks:\n",
      "        if _framework.is_my_module(module):\n",
      "            return _framework\n",
      "\n",
      "    return UnknownFramework\n",
      "\n",
      "\n",
      "def maybe_wrap_module(module):\n",
      "    \"\"\"\n",
      "    Passing a module from an unknown framework (might be user defined module, a jax\n",
      "    module, flax or haiku or anything else really), attempt to identify what is the\n",
      "    package/framework it comes from, and if so it correctly wraps it in order to\n",
      "    make it behave like a flax module (our default).\n",
      "\n",
      "    Also returns a function used to unpack the parameters once we are done.\n",
      "    \"\"\"\n",
      "    framewrk = identify_framework(module)\n",
      "\n",
      "    return framewrk, framewrk.wrap(module)\n"
     ]
    },
    {
     "name": "stderr",
     "output_type": "stream",
     "text": [
      "C:\\Users\\kdeep\\anaconda3\\Lib\\site-packages\\xgboost\\core.py:158: UserWarning: [09:37:56] WARNING: C:\\buildkite-agent\\builds\\buildkite-windows-cpu-autoscaling-group-i-0015a694724fa8361-1\\xgboost\\xgboost-ci-windows\\src\\learner.cc:740: \n",
      "Parameters: { \"use_label_encoder\" } are not used.\n",
      "\n",
      "  warnings.warn(smsg, UserWarning)\n",
      "C:\\Users\\kdeep\\anaconda3\\Lib\\site-packages\\xgboost\\core.py:158: UserWarning: [09:37:56] WARNING: C:\\buildkite-agent\\builds\\buildkite-windows-cpu-autoscaling-group-i-0015a694724fa8361-1\\xgboost\\xgboost-ci-windows\\src\\learner.cc:740: \n",
      "Parameters: { \"use_label_encoder\" } are not used.\n",
      "\n",
      "  warnings.warn(smsg, UserWarning)\n"
     ]
    },
    {
     "name": "stdout",
     "output_type": "stream",
     "text": [
      "Precision: 0.6, Recall: 0.6, Accuracy: 0.6\n",
      "Precision: 0.8, Recall: 0.8, Accuracy: 0.8\n"
     ]
    },
    {
     "name": "stderr",
     "output_type": "stream",
     "text": [
      "C:\\Users\\kdeep\\anaconda3\\Lib\\site-packages\\xgboost\\core.py:158: UserWarning: [09:37:57] WARNING: C:\\buildkite-agent\\builds\\buildkite-windows-cpu-autoscaling-group-i-0015a694724fa8361-1\\xgboost\\xgboost-ci-windows\\src\\learner.cc:740: \n",
      "Parameters: { \"use_label_encoder\" } are not used.\n",
      "\n",
      "  warnings.warn(smsg, UserWarning)\n",
      "C:\\Users\\kdeep\\anaconda3\\Lib\\site-packages\\xgboost\\core.py:158: UserWarning: [09:37:57] WARNING: C:\\buildkite-agent\\builds\\buildkite-windows-cpu-autoscaling-group-i-0015a694724fa8361-1\\xgboost\\xgboost-ci-windows\\src\\learner.cc:740: \n",
      "Parameters: { \"use_label_encoder\" } are not used.\n",
      "\n",
      "  warnings.warn(smsg, UserWarning)\n"
     ]
    },
    {
     "name": "stdout",
     "output_type": "stream",
     "text": [
      "Precision: 0.6666666666666666, Recall: 0.8, Accuracy: 0.7\n",
      "Precision: 0.75, Recall: 0.6, Accuracy: 0.7\n"
     ]
    },
    {
     "name": "stderr",
     "output_type": "stream",
     "text": [
      "C:\\Users\\kdeep\\anaconda3\\Lib\\site-packages\\xgboost\\core.py:158: UserWarning: [09:37:57] WARNING: C:\\buildkite-agent\\builds\\buildkite-windows-cpu-autoscaling-group-i-0015a694724fa8361-1\\xgboost\\xgboost-ci-windows\\src\\learner.cc:740: \n",
      "Parameters: { \"use_label_encoder\" } are not used.\n",
      "\n",
      "  warnings.warn(smsg, UserWarning)\n",
      "C:\\Users\\kdeep\\anaconda3\\Lib\\site-packages\\xgboost\\core.py:158: UserWarning: [09:37:57] WARNING: C:\\buildkite-agent\\builds\\buildkite-windows-cpu-autoscaling-group-i-0015a694724fa8361-1\\xgboost\\xgboost-ci-windows\\src\\learner.cc:740: \n",
      "Parameters: { \"use_label_encoder\" } are not used.\n",
      "\n",
      "  warnings.warn(smsg, UserWarning)\n"
     ]
    },
    {
     "name": "stdout",
     "output_type": "stream",
     "text": [
      "Precision: 0.75, Recall: 0.6, Accuracy: 0.6666666666666666\n",
      "Precision: 0.5555555555555556, Recall: 1.0, Accuracy: 0.5555555555555556\n"
     ]
    },
    {
     "name": "stderr",
     "output_type": "stream",
     "text": [
      "C:\\Users\\kdeep\\anaconda3\\Lib\\site-packages\\xgboost\\core.py:158: UserWarning: [09:37:57] WARNING: C:\\buildkite-agent\\builds\\buildkite-windows-cpu-autoscaling-group-i-0015a694724fa8361-1\\xgboost\\xgboost-ci-windows\\src\\learner.cc:740: \n",
      "Parameters: { \"use_label_encoder\" } are not used.\n",
      "\n",
      "  warnings.warn(smsg, UserWarning)\n",
      "C:\\Users\\kdeep\\anaconda3\\Lib\\site-packages\\xgboost\\core.py:158: UserWarning: [09:37:57] WARNING: C:\\buildkite-agent\\builds\\buildkite-windows-cpu-autoscaling-group-i-0015a694724fa8361-1\\xgboost\\xgboost-ci-windows\\src\\learner.cc:740: \n",
      "Parameters: { \"use_label_encoder\" } are not used.\n",
      "\n",
      "  warnings.warn(smsg, UserWarning)\n"
     ]
    },
    {
     "name": "stdout",
     "output_type": "stream",
     "text": [
      "Precision: 0.8, Recall: 0.8, Accuracy: 0.7777777777777778\n",
      "Precision: 0.5, Recall: 0.5, Accuracy: 0.5555555555555556\n"
     ]
    },
    {
     "name": "stderr",
     "output_type": "stream",
     "text": [
      "C:\\Users\\kdeep\\anaconda3\\Lib\\site-packages\\xgboost\\core.py:158: UserWarning: [09:37:58] WARNING: C:\\buildkite-agent\\builds\\buildkite-windows-cpu-autoscaling-group-i-0015a694724fa8361-1\\xgboost\\xgboost-ci-windows\\src\\learner.cc:740: \n",
      "Parameters: { \"use_label_encoder\" } are not used.\n",
      "\n",
      "  warnings.warn(smsg, UserWarning)\n",
      "C:\\Users\\kdeep\\anaconda3\\Lib\\site-packages\\xgboost\\core.py:158: UserWarning: [09:37:58] WARNING: C:\\buildkite-agent\\builds\\buildkite-windows-cpu-autoscaling-group-i-0015a694724fa8361-1\\xgboost\\xgboost-ci-windows\\src\\learner.cc:740: \n",
      "Parameters: { \"use_label_encoder\" } are not used.\n",
      "\n",
      "  warnings.warn(smsg, UserWarning)\n"
     ]
    },
    {
     "name": "stdout",
     "output_type": "stream",
     "text": [
      "Precision: 0.8, Recall: 1.0, Accuracy: 0.8888888888888888\n",
      "Precision: 0.6666666666666666, Recall: 0.5, Accuracy: 0.6666666666666666\n",
      "Results to be written: eta=0.5, depth=7, dim=100, eps=0.1, (42.3, 42.3, 4.7, 4.7, 0.6888888888888889, 0.72, 0.691111111111111, 75808, 0.5275971800321714, 0.004768070192365239)\n",
      "eta=0.5, depth=7, dim=100, eps=0.3\n",
      "Number of flaky documents: 47\n",
      "Number of non-flaky documents: 47\n",
      "Total number of documents: 94\n",
      "Sample document: # Copyright 2021 The NetKet Authors - All rights reserved.\n",
      "#\n",
      "# Licensed under the Apache License, Version 2.0 (the \"License\");\n",
      "# you may not use this file except in compliance with the License.\n",
      "# You may obtain a copy of the License at\n",
      "#\n",
      "#    http://www.apache.org/licenses/LICENSE-2.0\n",
      "#\n",
      "# Unless required by applicable law or agreed to in writing, software\n",
      "# distributed under the License is distributed on an \"AS IS\" BASIS,\n",
      "# WITHOUT WARRANTIES OR CONDITIONS OF ANY KIND, either express or implied.\n",
      "# See the License for the specific language governing permissions and\n",
      "# limitations under the License.\n",
      "\n",
      "import dataclasses\n",
      "import abc\n",
      "\n",
      "from flax.core import freeze\n",
      "\n",
      "\n",
      "@dataclasses.dataclass(frozen=True)\n",
      "class ModuleFramework(abc.ABC):\n",
      "    @staticmethod\n",
      "    @abc.abstractmethod\n",
      "    def is_loaded() -> bool:\n",
      "        pass\n",
      "\n",
      "    @staticmethod\n",
      "    @abc.abstractmethod\n",
      "    def is_my_module(module):\n",
      "        pass\n",
      "\n",
      "    @staticmethod\n",
      "    @abc.abstractmethod\n",
      "    def wrap(module):\n",
      "        return module\n",
      "\n",
      "    @staticmethod\n",
      "    def wrap_params(variables):\n",
      "        return freeze({\"params\": variables})\n",
      "\n",
      "    @staticmethod\n",
      "    @abc.abstractmethod\n",
      "    def unwrap_params(wrapped_variables):\n",
      "        return wrapped_variables\n",
      "\n",
      "\n",
      "registered_frameworks = []\n",
      "\n",
      "\n",
      "def framework(clz):\n",
      "    \"\"\"\n",
      "    Registers a framework and it's wrapper methods to make it\n",
      "    behave like a flax framework.\n",
      "    \"\"\"\n",
      "    clz = dataclasses.dataclass(frozen=True)(clz)\n",
      "    registered_frameworks.append(clz)\n",
      "    return clz\n",
      "\n",
      "\n",
      "@dataclasses.dataclass(frozen=True)\n",
      "class UnknownFramework(ModuleFramework):\n",
      "    name: str = \"Unknown\"\n",
      "\n",
      "    @staticmethod\n",
      "    def is_loaded() -> bool:\n",
      "        return True\n",
      "\n",
      "    @staticmethod\n",
      "    def is_my_module(module):\n",
      "        return False\n",
      "\n",
      "    @staticmethod\n",
      "    def wrap(module):\n",
      "        return module\n",
      "\n",
      "    @staticmethod\n",
      "    def unwrap_params(wrapped_variables):\n",
      "        return wrapped_variables\n",
      "\n",
      "\n",
      "def identify_framework(module):\n",
      "    for _framework in registered_frameworks:\n",
      "        if _framework.is_my_module(module):\n",
      "            return _framework\n",
      "\n",
      "    return UnknownFramework\n",
      "\n",
      "\n",
      "def maybe_wrap_module(module):\n",
      "    \"\"\"\n",
      "    Passing a module from an unknown framework (might be user defined module, a jax\n",
      "    module, flax or haiku or anything else really), attempt to identify what is the\n",
      "    package/framework it comes from, and if so it correctly wraps it in order to\n",
      "    make it behave like a flax module (our default).\n",
      "\n",
      "    Also returns a function used to unpack the parameters once we are done.\n",
      "    \"\"\"\n",
      "    framewrk = identify_framework(module)\n",
      "\n",
      "    return framewrk, framewrk.wrap(module)\n"
     ]
    },
    {
     "name": "stderr",
     "output_type": "stream",
     "text": [
      "C:\\Users\\kdeep\\anaconda3\\Lib\\site-packages\\xgboost\\core.py:158: UserWarning: [09:37:58] WARNING: C:\\buildkite-agent\\builds\\buildkite-windows-cpu-autoscaling-group-i-0015a694724fa8361-1\\xgboost\\xgboost-ci-windows\\src\\learner.cc:740: \n",
      "Parameters: { \"use_label_encoder\" } are not used.\n",
      "\n",
      "  warnings.warn(smsg, UserWarning)\n",
      "C:\\Users\\kdeep\\anaconda3\\Lib\\site-packages\\xgboost\\core.py:158: UserWarning: [09:37:58] WARNING: C:\\buildkite-agent\\builds\\buildkite-windows-cpu-autoscaling-group-i-0015a694724fa8361-1\\xgboost\\xgboost-ci-windows\\src\\learner.cc:740: \n",
      "Parameters: { \"use_label_encoder\" } are not used.\n",
      "\n",
      "  warnings.warn(smsg, UserWarning)\n"
     ]
    },
    {
     "name": "stdout",
     "output_type": "stream",
     "text": [
      "Precision: 1.0, Recall: 0.4, Accuracy: 0.7\n",
      "Precision: 0.8, Recall: 0.8, Accuracy: 0.8\n"
     ]
    },
    {
     "name": "stderr",
     "output_type": "stream",
     "text": [
      "C:\\Users\\kdeep\\anaconda3\\Lib\\site-packages\\xgboost\\core.py:158: UserWarning: [09:37:59] WARNING: C:\\buildkite-agent\\builds\\buildkite-windows-cpu-autoscaling-group-i-0015a694724fa8361-1\\xgboost\\xgboost-ci-windows\\src\\learner.cc:740: \n",
      "Parameters: { \"use_label_encoder\" } are not used.\n",
      "\n",
      "  warnings.warn(smsg, UserWarning)\n",
      "C:\\Users\\kdeep\\anaconda3\\Lib\\site-packages\\xgboost\\core.py:158: UserWarning: [09:37:59] WARNING: C:\\buildkite-agent\\builds\\buildkite-windows-cpu-autoscaling-group-i-0015a694724fa8361-1\\xgboost\\xgboost-ci-windows\\src\\learner.cc:740: \n",
      "Parameters: { \"use_label_encoder\" } are not used.\n",
      "\n",
      "  warnings.warn(smsg, UserWarning)\n"
     ]
    },
    {
     "name": "stdout",
     "output_type": "stream",
     "text": [
      "Precision: 1.0, Recall: 1.0, Accuracy: 1.0\n",
      "Precision: 1.0, Recall: 0.6, Accuracy: 0.8\n"
     ]
    },
    {
     "name": "stderr",
     "output_type": "stream",
     "text": [
      "C:\\Users\\kdeep\\anaconda3\\Lib\\site-packages\\xgboost\\core.py:158: UserWarning: [09:37:59] WARNING: C:\\buildkite-agent\\builds\\buildkite-windows-cpu-autoscaling-group-i-0015a694724fa8361-1\\xgboost\\xgboost-ci-windows\\src\\learner.cc:740: \n",
      "Parameters: { \"use_label_encoder\" } are not used.\n",
      "\n",
      "  warnings.warn(smsg, UserWarning)\n"
     ]
    },
    {
     "name": "stdout",
     "output_type": "stream",
     "text": [
      "Precision: 0.75, Recall: 0.6, Accuracy: 0.6666666666666666\n",
      "Precision: 0.5, Recall: 0.4, Accuracy: 0.4444444444444444\n"
     ]
    },
    {
     "name": "stderr",
     "output_type": "stream",
     "text": [
      "C:\\Users\\kdeep\\anaconda3\\Lib\\site-packages\\xgboost\\core.py:158: UserWarning: [09:37:59] WARNING: C:\\buildkite-agent\\builds\\buildkite-windows-cpu-autoscaling-group-i-0015a694724fa8361-1\\xgboost\\xgboost-ci-windows\\src\\learner.cc:740: \n",
      "Parameters: { \"use_label_encoder\" } are not used.\n",
      "\n",
      "  warnings.warn(smsg, UserWarning)\n",
      "C:\\Users\\kdeep\\anaconda3\\Lib\\site-packages\\xgboost\\core.py:158: UserWarning: [09:37:59] WARNING: C:\\buildkite-agent\\builds\\buildkite-windows-cpu-autoscaling-group-i-0015a694724fa8361-1\\xgboost\\xgboost-ci-windows\\src\\learner.cc:740: \n",
      "Parameters: { \"use_label_encoder\" } are not used.\n",
      "\n",
      "  warnings.warn(smsg, UserWarning)\n"
     ]
    },
    {
     "name": "stdout",
     "output_type": "stream",
     "text": [
      "Precision: 0.6666666666666666, Recall: 0.8, Accuracy: 0.6666666666666666\n",
      "Precision: 1.0, Recall: 1.0, Accuracy: 1.0\n"
     ]
    },
    {
     "name": "stderr",
     "output_type": "stream",
     "text": [
      "C:\\Users\\kdeep\\anaconda3\\Lib\\site-packages\\xgboost\\core.py:158: UserWarning: [09:37:59] WARNING: C:\\buildkite-agent\\builds\\buildkite-windows-cpu-autoscaling-group-i-0015a694724fa8361-1\\xgboost\\xgboost-ci-windows\\src\\learner.cc:740: \n",
      "Parameters: { \"use_label_encoder\" } are not used.\n",
      "\n",
      "  warnings.warn(smsg, UserWarning)\n",
      "C:\\Users\\kdeep\\anaconda3\\Lib\\site-packages\\xgboost\\core.py:158: UserWarning: [09:38:00] WARNING: C:\\buildkite-agent\\builds\\buildkite-windows-cpu-autoscaling-group-i-0015a694724fa8361-1\\xgboost\\xgboost-ci-windows\\src\\learner.cc:740: \n",
      "Parameters: { \"use_label_encoder\" } are not used.\n",
      "\n",
      "  warnings.warn(smsg, UserWarning)\n"
     ]
    },
    {
     "name": "stdout",
     "output_type": "stream",
     "text": [
      "Precision: 1.0, Recall: 0.5, Accuracy: 0.7777777777777778\n",
      "Precision: 0.5, Recall: 0.75, Accuracy: 0.5555555555555556\n",
      "Results to be written: eta=0.5, depth=7, dim=100, eps=0.3, (42.3, 42.3, 4.7, 4.7, 0.8216666666666667, 0.685, 0.741111111111111, 75808, 0.5651700900751166, 0.004987844772016008)\n",
      "eta=0.5, depth=7, dim=100, eps=0.5\n"
     ]
    },
    {
     "name": "stderr",
     "output_type": "stream",
     "text": [
      "C:\\Users\\kdeep\\anaconda3\\Lib\\site-packages\\xgboost\\core.py:158: UserWarning: [09:38:00] WARNING: C:\\buildkite-agent\\builds\\buildkite-windows-cpu-autoscaling-group-i-0015a694724fa8361-1\\xgboost\\xgboost-ci-windows\\src\\learner.cc:740: \n",
      "Parameters: { \"use_label_encoder\" } are not used.\n",
      "\n",
      "  warnings.warn(smsg, UserWarning)\n"
     ]
    },
    {
     "name": "stdout",
     "output_type": "stream",
     "text": [
      "Number of flaky documents: 47\n",
      "Number of non-flaky documents: 47\n",
      "Total number of documents: 94\n",
      "Sample document: # Copyright 2021 The NetKet Authors - All rights reserved.\n",
      "#\n",
      "# Licensed under the Apache License, Version 2.0 (the \"License\");\n",
      "# you may not use this file except in compliance with the License.\n",
      "# You may obtain a copy of the License at\n",
      "#\n",
      "#    http://www.apache.org/licenses/LICENSE-2.0\n",
      "#\n",
      "# Unless required by applicable law or agreed to in writing, software\n",
      "# distributed under the License is distributed on an \"AS IS\" BASIS,\n",
      "# WITHOUT WARRANTIES OR CONDITIONS OF ANY KIND, either express or implied.\n",
      "# See the License for the specific language governing permissions and\n",
      "# limitations under the License.\n",
      "\n",
      "import dataclasses\n",
      "import abc\n",
      "\n",
      "from flax.core import freeze\n",
      "\n",
      "\n",
      "@dataclasses.dataclass(frozen=True)\n",
      "class ModuleFramework(abc.ABC):\n",
      "    @staticmethod\n",
      "    @abc.abstractmethod\n",
      "    def is_loaded() -> bool:\n",
      "        pass\n",
      "\n",
      "    @staticmethod\n",
      "    @abc.abstractmethod\n",
      "    def is_my_module(module):\n",
      "        pass\n",
      "\n",
      "    @staticmethod\n",
      "    @abc.abstractmethod\n",
      "    def wrap(module):\n",
      "        return module\n",
      "\n",
      "    @staticmethod\n",
      "    def wrap_params(variables):\n",
      "        return freeze({\"params\": variables})\n",
      "\n",
      "    @staticmethod\n",
      "    @abc.abstractmethod\n",
      "    def unwrap_params(wrapped_variables):\n",
      "        return wrapped_variables\n",
      "\n",
      "\n",
      "registered_frameworks = []\n",
      "\n",
      "\n",
      "def framework(clz):\n",
      "    \"\"\"\n",
      "    Registers a framework and it's wrapper methods to make it\n",
      "    behave like a flax framework.\n",
      "    \"\"\"\n",
      "    clz = dataclasses.dataclass(frozen=True)(clz)\n",
      "    registered_frameworks.append(clz)\n",
      "    return clz\n",
      "\n",
      "\n",
      "@dataclasses.dataclass(frozen=True)\n",
      "class UnknownFramework(ModuleFramework):\n",
      "    name: str = \"Unknown\"\n",
      "\n",
      "    @staticmethod\n",
      "    def is_loaded() -> bool:\n",
      "        return True\n",
      "\n",
      "    @staticmethod\n",
      "    def is_my_module(module):\n",
      "        return False\n",
      "\n",
      "    @staticmethod\n",
      "    def wrap(module):\n",
      "        return module\n",
      "\n",
      "    @staticmethod\n",
      "    def unwrap_params(wrapped_variables):\n",
      "        return wrapped_variables\n",
      "\n",
      "\n",
      "def identify_framework(module):\n",
      "    for _framework in registered_frameworks:\n",
      "        if _framework.is_my_module(module):\n",
      "            return _framework\n",
      "\n",
      "    return UnknownFramework\n",
      "\n",
      "\n",
      "def maybe_wrap_module(module):\n",
      "    \"\"\"\n",
      "    Passing a module from an unknown framework (might be user defined module, a jax\n",
      "    module, flax or haiku or anything else really), attempt to identify what is the\n",
      "    package/framework it comes from, and if so it correctly wraps it in order to\n",
      "    make it behave like a flax module (our default).\n",
      "\n",
      "    Also returns a function used to unpack the parameters once we are done.\n",
      "    \"\"\"\n",
      "    framewrk = identify_framework(module)\n",
      "\n",
      "    return framewrk, framewrk.wrap(module)\n"
     ]
    },
    {
     "name": "stderr",
     "output_type": "stream",
     "text": [
      "C:\\Users\\kdeep\\anaconda3\\Lib\\site-packages\\xgboost\\core.py:158: UserWarning: [09:38:00] WARNING: C:\\buildkite-agent\\builds\\buildkite-windows-cpu-autoscaling-group-i-0015a694724fa8361-1\\xgboost\\xgboost-ci-windows\\src\\learner.cc:740: \n",
      "Parameters: { \"use_label_encoder\" } are not used.\n",
      "\n",
      "  warnings.warn(smsg, UserWarning)\n",
      "C:\\Users\\kdeep\\anaconda3\\Lib\\site-packages\\xgboost\\core.py:158: UserWarning: [09:38:01] WARNING: C:\\buildkite-agent\\builds\\buildkite-windows-cpu-autoscaling-group-i-0015a694724fa8361-1\\xgboost\\xgboost-ci-windows\\src\\learner.cc:740: \n",
      "Parameters: { \"use_label_encoder\" } are not used.\n",
      "\n",
      "  warnings.warn(smsg, UserWarning)\n"
     ]
    },
    {
     "name": "stdout",
     "output_type": "stream",
     "text": [
      "Precision: 0.5, Recall: 0.2, Accuracy: 0.5\n",
      "Precision: 1.0, Recall: 0.8, Accuracy: 0.9\n"
     ]
    },
    {
     "name": "stderr",
     "output_type": "stream",
     "text": [
      "C:\\Users\\kdeep\\anaconda3\\Lib\\site-packages\\xgboost\\core.py:158: UserWarning: [09:38:01] WARNING: C:\\buildkite-agent\\builds\\buildkite-windows-cpu-autoscaling-group-i-0015a694724fa8361-1\\xgboost\\xgboost-ci-windows\\src\\learner.cc:740: \n",
      "Parameters: { \"use_label_encoder\" } are not used.\n",
      "\n",
      "  warnings.warn(smsg, UserWarning)\n",
      "C:\\Users\\kdeep\\anaconda3\\Lib\\site-packages\\xgboost\\core.py:158: UserWarning: [09:38:01] WARNING: C:\\buildkite-agent\\builds\\buildkite-windows-cpu-autoscaling-group-i-0015a694724fa8361-1\\xgboost\\xgboost-ci-windows\\src\\learner.cc:740: \n",
      "Parameters: { \"use_label_encoder\" } are not used.\n",
      "\n",
      "  warnings.warn(smsg, UserWarning)\n"
     ]
    },
    {
     "name": "stdout",
     "output_type": "stream",
     "text": [
      "Precision: 1.0, Recall: 0.8, Accuracy: 0.9\n",
      "Precision: 0.8, Recall: 0.8, Accuracy: 0.8\n"
     ]
    },
    {
     "name": "stderr",
     "output_type": "stream",
     "text": [
      "C:\\Users\\kdeep\\anaconda3\\Lib\\site-packages\\xgboost\\core.py:158: UserWarning: [09:38:01] WARNING: C:\\buildkite-agent\\builds\\buildkite-windows-cpu-autoscaling-group-i-0015a694724fa8361-1\\xgboost\\xgboost-ci-windows\\src\\learner.cc:740: \n",
      "Parameters: { \"use_label_encoder\" } are not used.\n",
      "\n",
      "  warnings.warn(smsg, UserWarning)\n",
      "C:\\Users\\kdeep\\anaconda3\\Lib\\site-packages\\xgboost\\core.py:158: UserWarning: [09:38:01] WARNING: C:\\buildkite-agent\\builds\\buildkite-windows-cpu-autoscaling-group-i-0015a694724fa8361-1\\xgboost\\xgboost-ci-windows\\src\\learner.cc:740: \n",
      "Parameters: { \"use_label_encoder\" } are not used.\n",
      "\n",
      "  warnings.warn(smsg, UserWarning)\n"
     ]
    },
    {
     "name": "stdout",
     "output_type": "stream",
     "text": [
      "Precision: 0.75, Recall: 0.6, Accuracy: 0.6666666666666666\n",
      "Precision: 0.5, Recall: 0.8, Accuracy: 0.4444444444444444\n"
     ]
    },
    {
     "name": "stderr",
     "output_type": "stream",
     "text": [
      "C:\\Users\\kdeep\\anaconda3\\Lib\\site-packages\\xgboost\\core.py:158: UserWarning: [09:38:01] WARNING: C:\\buildkite-agent\\builds\\buildkite-windows-cpu-autoscaling-group-i-0015a694724fa8361-1\\xgboost\\xgboost-ci-windows\\src\\learner.cc:740: \n",
      "Parameters: { \"use_label_encoder\" } are not used.\n",
      "\n",
      "  warnings.warn(smsg, UserWarning)\n",
      "C:\\Users\\kdeep\\anaconda3\\Lib\\site-packages\\xgboost\\core.py:158: UserWarning: [09:38:01] WARNING: C:\\buildkite-agent\\builds\\buildkite-windows-cpu-autoscaling-group-i-0015a694724fa8361-1\\xgboost\\xgboost-ci-windows\\src\\learner.cc:740: \n",
      "Parameters: { \"use_label_encoder\" } are not used.\n",
      "\n",
      "  warnings.warn(smsg, UserWarning)\n"
     ]
    },
    {
     "name": "stdout",
     "output_type": "stream",
     "text": [
      "Precision: 0.6, Recall: 0.6, Accuracy: 0.5555555555555556\n",
      "Precision: 0.6666666666666666, Recall: 1.0, Accuracy: 0.7777777777777778\n"
     ]
    },
    {
     "name": "stderr",
     "output_type": "stream",
     "text": [
      "C:\\Users\\kdeep\\anaconda3\\Lib\\site-packages\\xgboost\\core.py:158: UserWarning: [09:38:02] WARNING: C:\\buildkite-agent\\builds\\buildkite-windows-cpu-autoscaling-group-i-0015a694724fa8361-1\\xgboost\\xgboost-ci-windows\\src\\learner.cc:740: \n",
      "Parameters: { \"use_label_encoder\" } are not used.\n",
      "\n",
      "  warnings.warn(smsg, UserWarning)\n",
      "C:\\Users\\kdeep\\anaconda3\\Lib\\site-packages\\xgboost\\core.py:158: UserWarning: [09:38:02] WARNING: C:\\buildkite-agent\\builds\\buildkite-windows-cpu-autoscaling-group-i-0015a694724fa8361-1\\xgboost\\xgboost-ci-windows\\src\\learner.cc:740: \n",
      "Parameters: { \"use_label_encoder\" } are not used.\n",
      "\n",
      "  warnings.warn(smsg, UserWarning)\n"
     ]
    },
    {
     "name": "stdout",
     "output_type": "stream",
     "text": [
      "Precision: 1.0, Recall: 1.0, Accuracy: 1.0\n",
      "Precision: 0.5, Recall: 0.5, Accuracy: 0.5555555555555556\n",
      "Results to be written: eta=0.5, depth=7, dim=100, eps=0.5, (42.3, 42.3, 4.7, 4.7, 0.7316666666666667, 0.71, 0.7099999999999999, 75808, 0.5393281900440344, 0.004928559519581157)\n",
      "eta=0.5, depth=7, dim=200, eps=0.1\n",
      "Number of flaky documents: 47\n",
      "Number of non-flaky documents: 47\n",
      "Total number of documents: 94\n",
      "Sample document: # Copyright 2021 The NetKet Authors - All rights reserved.\n",
      "#\n",
      "# Licensed under the Apache License, Version 2.0 (the \"License\");\n",
      "# you may not use this file except in compliance with the License.\n",
      "# You may obtain a copy of the License at\n",
      "#\n",
      "#    http://www.apache.org/licenses/LICENSE-2.0\n",
      "#\n",
      "# Unless required by applicable law or agreed to in writing, software\n",
      "# distributed under the License is distributed on an \"AS IS\" BASIS,\n",
      "# WITHOUT WARRANTIES OR CONDITIONS OF ANY KIND, either express or implied.\n",
      "# See the License for the specific language governing permissions and\n",
      "# limitations under the License.\n",
      "\n",
      "import dataclasses\n",
      "import abc\n",
      "\n",
      "from flax.core import freeze\n",
      "\n",
      "\n",
      "@dataclasses.dataclass(frozen=True)\n",
      "class ModuleFramework(abc.ABC):\n",
      "    @staticmethod\n",
      "    @abc.abstractmethod\n",
      "    def is_loaded() -> bool:\n",
      "        pass\n",
      "\n",
      "    @staticmethod\n",
      "    @abc.abstractmethod\n",
      "    def is_my_module(module):\n",
      "        pass\n",
      "\n",
      "    @staticmethod\n",
      "    @abc.abstractmethod\n",
      "    def wrap(module):\n",
      "        return module\n",
      "\n",
      "    @staticmethod\n",
      "    def wrap_params(variables):\n",
      "        return freeze({\"params\": variables})\n",
      "\n",
      "    @staticmethod\n",
      "    @abc.abstractmethod\n",
      "    def unwrap_params(wrapped_variables):\n",
      "        return wrapped_variables\n",
      "\n",
      "\n",
      "registered_frameworks = []\n",
      "\n",
      "\n",
      "def framework(clz):\n",
      "    \"\"\"\n",
      "    Registers a framework and it's wrapper methods to make it\n",
      "    behave like a flax framework.\n",
      "    \"\"\"\n",
      "    clz = dataclasses.dataclass(frozen=True)(clz)\n",
      "    registered_frameworks.append(clz)\n",
      "    return clz\n",
      "\n",
      "\n",
      "@dataclasses.dataclass(frozen=True)\n",
      "class UnknownFramework(ModuleFramework):\n",
      "    name: str = \"Unknown\"\n",
      "\n",
      "    @staticmethod\n",
      "    def is_loaded() -> bool:\n",
      "        return True\n",
      "\n",
      "    @staticmethod\n",
      "    def is_my_module(module):\n",
      "        return False\n",
      "\n",
      "    @staticmethod\n",
      "    def wrap(module):\n",
      "        return module\n",
      "\n",
      "    @staticmethod\n",
      "    def unwrap_params(wrapped_variables):\n",
      "        return wrapped_variables\n",
      "\n",
      "\n",
      "def identify_framework(module):\n",
      "    for _framework in registered_frameworks:\n",
      "        if _framework.is_my_module(module):\n",
      "            return _framework\n",
      "\n",
      "    return UnknownFramework\n",
      "\n",
      "\n",
      "def maybe_wrap_module(module):\n",
      "    \"\"\"\n",
      "    Passing a module from an unknown framework (might be user defined module, a jax\n",
      "    module, flax or haiku or anything else really), attempt to identify what is the\n",
      "    package/framework it comes from, and if so it correctly wraps it in order to\n",
      "    make it behave like a flax module (our default).\n",
      "\n",
      "    Also returns a function used to unpack the parameters once we are done.\n",
      "    \"\"\"\n",
      "    framewrk = identify_framework(module)\n",
      "\n",
      "    return framewrk, framewrk.wrap(module)\n"
     ]
    },
    {
     "name": "stderr",
     "output_type": "stream",
     "text": [
      "C:\\Users\\kdeep\\anaconda3\\Lib\\site-packages\\xgboost\\core.py:158: UserWarning: [09:38:02] WARNING: C:\\buildkite-agent\\builds\\buildkite-windows-cpu-autoscaling-group-i-0015a694724fa8361-1\\xgboost\\xgboost-ci-windows\\src\\learner.cc:740: \n",
      "Parameters: { \"use_label_encoder\" } are not used.\n",
      "\n",
      "  warnings.warn(smsg, UserWarning)\n",
      "C:\\Users\\kdeep\\anaconda3\\Lib\\site-packages\\xgboost\\core.py:158: UserWarning: [09:38:02] WARNING: C:\\buildkite-agent\\builds\\buildkite-windows-cpu-autoscaling-group-i-0015a694724fa8361-1\\xgboost\\xgboost-ci-windows\\src\\learner.cc:740: \n",
      "Parameters: { \"use_label_encoder\" } are not used.\n",
      "\n",
      "  warnings.warn(smsg, UserWarning)\n"
     ]
    },
    {
     "name": "stdout",
     "output_type": "stream",
     "text": [
      "Precision: 0.75, Recall: 0.6, Accuracy: 0.7\n",
      "Precision: 1.0, Recall: 0.6, Accuracy: 0.8\n"
     ]
    },
    {
     "name": "stderr",
     "output_type": "stream",
     "text": [
      "C:\\Users\\kdeep\\anaconda3\\Lib\\site-packages\\xgboost\\core.py:158: UserWarning: [09:38:03] WARNING: C:\\buildkite-agent\\builds\\buildkite-windows-cpu-autoscaling-group-i-0015a694724fa8361-1\\xgboost\\xgboost-ci-windows\\src\\learner.cc:740: \n",
      "Parameters: { \"use_label_encoder\" } are not used.\n",
      "\n",
      "  warnings.warn(smsg, UserWarning)\n",
      "C:\\Users\\kdeep\\anaconda3\\Lib\\site-packages\\xgboost\\core.py:158: UserWarning: [09:38:03] WARNING: C:\\buildkite-agent\\builds\\buildkite-windows-cpu-autoscaling-group-i-0015a694724fa8361-1\\xgboost\\xgboost-ci-windows\\src\\learner.cc:740: \n",
      "Parameters: { \"use_label_encoder\" } are not used.\n",
      "\n",
      "  warnings.warn(smsg, UserWarning)\n"
     ]
    },
    {
     "name": "stdout",
     "output_type": "stream",
     "text": [
      "Precision: 1.0, Recall: 0.8, Accuracy: 0.9\n",
      "Precision: 0.6666666666666666, Recall: 0.4, Accuracy: 0.6\n"
     ]
    },
    {
     "name": "stderr",
     "output_type": "stream",
     "text": [
      "C:\\Users\\kdeep\\anaconda3\\Lib\\site-packages\\xgboost\\core.py:158: UserWarning: [09:38:03] WARNING: C:\\buildkite-agent\\builds\\buildkite-windows-cpu-autoscaling-group-i-0015a694724fa8361-1\\xgboost\\xgboost-ci-windows\\src\\learner.cc:740: \n",
      "Parameters: { \"use_label_encoder\" } are not used.\n",
      "\n",
      "  warnings.warn(smsg, UserWarning)\n",
      "C:\\Users\\kdeep\\anaconda3\\Lib\\site-packages\\xgboost\\core.py:158: UserWarning: [09:38:03] WARNING: C:\\buildkite-agent\\builds\\buildkite-windows-cpu-autoscaling-group-i-0015a694724fa8361-1\\xgboost\\xgboost-ci-windows\\src\\learner.cc:740: \n",
      "Parameters: { \"use_label_encoder\" } are not used.\n",
      "\n",
      "  warnings.warn(smsg, UserWarning)\n"
     ]
    },
    {
     "name": "stdout",
     "output_type": "stream",
     "text": [
      "Precision: 0.8, Recall: 0.8, Accuracy: 0.7777777777777778\n",
      "Precision: 0.5, Recall: 0.4, Accuracy: 0.4444444444444444\n"
     ]
    },
    {
     "name": "stderr",
     "output_type": "stream",
     "text": [
      "C:\\Users\\kdeep\\anaconda3\\Lib\\site-packages\\xgboost\\core.py:158: UserWarning: [09:38:03] WARNING: C:\\buildkite-agent\\builds\\buildkite-windows-cpu-autoscaling-group-i-0015a694724fa8361-1\\xgboost\\xgboost-ci-windows\\src\\learner.cc:740: \n",
      "Parameters: { \"use_label_encoder\" } are not used.\n",
      "\n",
      "  warnings.warn(smsg, UserWarning)\n",
      "C:\\Users\\kdeep\\anaconda3\\Lib\\site-packages\\xgboost\\core.py:158: UserWarning: [09:38:03] WARNING: C:\\buildkite-agent\\builds\\buildkite-windows-cpu-autoscaling-group-i-0015a694724fa8361-1\\xgboost\\xgboost-ci-windows\\src\\learner.cc:740: \n",
      "Parameters: { \"use_label_encoder\" } are not used.\n",
      "\n",
      "  warnings.warn(smsg, UserWarning)\n"
     ]
    },
    {
     "name": "stdout",
     "output_type": "stream",
     "text": [
      "Precision: 0.8, Recall: 0.8, Accuracy: 0.7777777777777778\n",
      "Precision: 0.6666666666666666, Recall: 1.0, Accuracy: 0.7777777777777778\n"
     ]
    },
    {
     "name": "stderr",
     "output_type": "stream",
     "text": [
      "C:\\Users\\kdeep\\anaconda3\\Lib\\site-packages\\xgboost\\core.py:158: UserWarning: [09:38:04] WARNING: C:\\buildkite-agent\\builds\\buildkite-windows-cpu-autoscaling-group-i-0015a694724fa8361-1\\xgboost\\xgboost-ci-windows\\src\\learner.cc:740: \n",
      "Parameters: { \"use_label_encoder\" } are not used.\n",
      "\n",
      "  warnings.warn(smsg, UserWarning)\n",
      "C:\\Users\\kdeep\\anaconda3\\Lib\\site-packages\\xgboost\\core.py:158: UserWarning: [09:38:04] WARNING: C:\\buildkite-agent\\builds\\buildkite-windows-cpu-autoscaling-group-i-0015a694724fa8361-1\\xgboost\\xgboost-ci-windows\\src\\learner.cc:740: \n",
      "Parameters: { \"use_label_encoder\" } are not used.\n",
      "\n",
      "  warnings.warn(smsg, UserWarning)\n"
     ]
    },
    {
     "name": "stdout",
     "output_type": "stream",
     "text": [
      "Precision: 1.0, Recall: 0.5, Accuracy: 0.7777777777777778\n",
      "Precision: 0.5, Recall: 0.75, Accuracy: 0.5555555555555556\n",
      "Results to be written: eta=0.5, depth=7, dim=200, eps=0.1, (42.3, 42.3, 4.7, 4.7, 0.7683333333333333, 0.665, 0.711111111111111, 151008, 0.5499444199260324, 0.004988594382013861)\n",
      "eta=0.5, depth=7, dim=200, eps=0.3\n",
      "Number of flaky documents: 47\n",
      "Number of non-flaky documents: 47\n",
      "Total number of documents: 94\n",
      "Sample document: # Copyright 2021 The NetKet Authors - All rights reserved.\n",
      "#\n",
      "# Licensed under the Apache License, Version 2.0 (the \"License\");\n",
      "# you may not use this file except in compliance with the License.\n",
      "# You may obtain a copy of the License at\n",
      "#\n",
      "#    http://www.apache.org/licenses/LICENSE-2.0\n",
      "#\n",
      "# Unless required by applicable law or agreed to in writing, software\n",
      "# distributed under the License is distributed on an \"AS IS\" BASIS,\n",
      "# WITHOUT WARRANTIES OR CONDITIONS OF ANY KIND, either express or implied.\n",
      "# See the License for the specific language governing permissions and\n",
      "# limitations under the License.\n",
      "\n",
      "import dataclasses\n",
      "import abc\n",
      "\n",
      "from flax.core import freeze\n",
      "\n",
      "\n",
      "@dataclasses.dataclass(frozen=True)\n",
      "class ModuleFramework(abc.ABC):\n",
      "    @staticmethod\n",
      "    @abc.abstractmethod\n",
      "    def is_loaded() -> bool:\n",
      "        pass\n",
      "\n",
      "    @staticmethod\n",
      "    @abc.abstractmethod\n",
      "    def is_my_module(module):\n",
      "        pass\n",
      "\n",
      "    @staticmethod\n",
      "    @abc.abstractmethod\n",
      "    def wrap(module):\n",
      "        return module\n",
      "\n",
      "    @staticmethod\n",
      "    def wrap_params(variables):\n",
      "        return freeze({\"params\": variables})\n",
      "\n",
      "    @staticmethod\n",
      "    @abc.abstractmethod\n",
      "    def unwrap_params(wrapped_variables):\n",
      "        return wrapped_variables\n",
      "\n",
      "\n",
      "registered_frameworks = []\n",
      "\n",
      "\n",
      "def framework(clz):\n",
      "    \"\"\"\n",
      "    Registers a framework and it's wrapper methods to make it\n",
      "    behave like a flax framework.\n",
      "    \"\"\"\n",
      "    clz = dataclasses.dataclass(frozen=True)(clz)\n",
      "    registered_frameworks.append(clz)\n",
      "    return clz\n",
      "\n",
      "\n",
      "@dataclasses.dataclass(frozen=True)\n",
      "class UnknownFramework(ModuleFramework):\n",
      "    name: str = \"Unknown\"\n",
      "\n",
      "    @staticmethod\n",
      "    def is_loaded() -> bool:\n",
      "        return True\n",
      "\n",
      "    @staticmethod\n",
      "    def is_my_module(module):\n",
      "        return False\n",
      "\n",
      "    @staticmethod\n",
      "    def wrap(module):\n",
      "        return module\n",
      "\n",
      "    @staticmethod\n",
      "    def unwrap_params(wrapped_variables):\n",
      "        return wrapped_variables\n",
      "\n",
      "\n",
      "def identify_framework(module):\n",
      "    for _framework in registered_frameworks:\n",
      "        if _framework.is_my_module(module):\n",
      "            return _framework\n",
      "\n",
      "    return UnknownFramework\n",
      "\n",
      "\n",
      "def maybe_wrap_module(module):\n",
      "    \"\"\"\n",
      "    Passing a module from an unknown framework (might be user defined module, a jax\n",
      "    module, flax or haiku or anything else really), attempt to identify what is the\n",
      "    package/framework it comes from, and if so it correctly wraps it in order to\n",
      "    make it behave like a flax module (our default).\n",
      "\n",
      "    Also returns a function used to unpack the parameters once we are done.\n",
      "    \"\"\"\n",
      "    framewrk = identify_framework(module)\n",
      "\n",
      "    return framewrk, framewrk.wrap(module)\n"
     ]
    },
    {
     "name": "stderr",
     "output_type": "stream",
     "text": [
      "C:\\Users\\kdeep\\anaconda3\\Lib\\site-packages\\xgboost\\core.py:158: UserWarning: [09:38:05] WARNING: C:\\buildkite-agent\\builds\\buildkite-windows-cpu-autoscaling-group-i-0015a694724fa8361-1\\xgboost\\xgboost-ci-windows\\src\\learner.cc:740: \n",
      "Parameters: { \"use_label_encoder\" } are not used.\n",
      "\n",
      "  warnings.warn(smsg, UserWarning)\n",
      "C:\\Users\\kdeep\\anaconda3\\Lib\\site-packages\\xgboost\\core.py:158: UserWarning: [09:38:05] WARNING: C:\\buildkite-agent\\builds\\buildkite-windows-cpu-autoscaling-group-i-0015a694724fa8361-1\\xgboost\\xgboost-ci-windows\\src\\learner.cc:740: \n",
      "Parameters: { \"use_label_encoder\" } are not used.\n",
      "\n",
      "  warnings.warn(smsg, UserWarning)\n"
     ]
    },
    {
     "name": "stdout",
     "output_type": "stream",
     "text": [
      "Precision: 0.0, Recall: 0.0, Accuracy: 0.5\n",
      "Precision: 1.0, Recall: 0.8, Accuracy: 0.9\n"
     ]
    },
    {
     "name": "stderr",
     "output_type": "stream",
     "text": [
      "C:\\Users\\kdeep\\anaconda3\\Lib\\site-packages\\xgboost\\core.py:158: UserWarning: [09:38:05] WARNING: C:\\buildkite-agent\\builds\\buildkite-windows-cpu-autoscaling-group-i-0015a694724fa8361-1\\xgboost\\xgboost-ci-windows\\src\\learner.cc:740: \n",
      "Parameters: { \"use_label_encoder\" } are not used.\n",
      "\n",
      "  warnings.warn(smsg, UserWarning)\n",
      "C:\\Users\\kdeep\\anaconda3\\Lib\\site-packages\\xgboost\\core.py:158: UserWarning: [09:38:05] WARNING: C:\\buildkite-agent\\builds\\buildkite-windows-cpu-autoscaling-group-i-0015a694724fa8361-1\\xgboost\\xgboost-ci-windows\\src\\learner.cc:740: \n",
      "Parameters: { \"use_label_encoder\" } are not used.\n",
      "\n",
      "  warnings.warn(smsg, UserWarning)\n"
     ]
    },
    {
     "name": "stdout",
     "output_type": "stream",
     "text": [
      "Precision: 1.0, Recall: 0.8, Accuracy: 0.9\n",
      "Precision: 1.0, Recall: 0.4, Accuracy: 0.7\n"
     ]
    },
    {
     "name": "stderr",
     "output_type": "stream",
     "text": [
      "C:\\Users\\kdeep\\anaconda3\\Lib\\site-packages\\xgboost\\core.py:158: UserWarning: [09:38:05] WARNING: C:\\buildkite-agent\\builds\\buildkite-windows-cpu-autoscaling-group-i-0015a694724fa8361-1\\xgboost\\xgboost-ci-windows\\src\\learner.cc:740: \n",
      "Parameters: { \"use_label_encoder\" } are not used.\n",
      "\n",
      "  warnings.warn(smsg, UserWarning)\n",
      "C:\\Users\\kdeep\\anaconda3\\Lib\\site-packages\\xgboost\\core.py:158: UserWarning: [09:38:05] WARNING: C:\\buildkite-agent\\builds\\buildkite-windows-cpu-autoscaling-group-i-0015a694724fa8361-1\\xgboost\\xgboost-ci-windows\\src\\learner.cc:740: \n",
      "Parameters: { \"use_label_encoder\" } are not used.\n",
      "\n",
      "  warnings.warn(smsg, UserWarning)\n"
     ]
    },
    {
     "name": "stdout",
     "output_type": "stream",
     "text": [
      "Precision: 1.0, Recall: 0.6, Accuracy: 0.7777777777777778\n",
      "Precision: 0.5555555555555556, Recall: 1.0, Accuracy: 0.5555555555555556\n"
     ]
    },
    {
     "name": "stderr",
     "output_type": "stream",
     "text": [
      "C:\\Users\\kdeep\\anaconda3\\Lib\\site-packages\\xgboost\\core.py:158: UserWarning: [09:38:06] WARNING: C:\\buildkite-agent\\builds\\buildkite-windows-cpu-autoscaling-group-i-0015a694724fa8361-1\\xgboost\\xgboost-ci-windows\\src\\learner.cc:740: \n",
      "Parameters: { \"use_label_encoder\" } are not used.\n",
      "\n",
      "  warnings.warn(smsg, UserWarning)\n",
      "C:\\Users\\kdeep\\anaconda3\\Lib\\site-packages\\xgboost\\core.py:158: UserWarning: [09:38:06] WARNING: C:\\buildkite-agent\\builds\\buildkite-windows-cpu-autoscaling-group-i-0015a694724fa8361-1\\xgboost\\xgboost-ci-windows\\src\\learner.cc:740: \n",
      "Parameters: { \"use_label_encoder\" } are not used.\n",
      "\n",
      "  warnings.warn(smsg, UserWarning)\n"
     ]
    },
    {
     "name": "stdout",
     "output_type": "stream",
     "text": [
      "Precision: 0.8333333333333334, Recall: 1.0, Accuracy: 0.8888888888888888\n",
      "Precision: 0.5, Recall: 0.5, Accuracy: 0.5555555555555556\n"
     ]
    },
    {
     "name": "stderr",
     "output_type": "stream",
     "text": [
      "C:\\Users\\kdeep\\anaconda3\\Lib\\site-packages\\xgboost\\core.py:158: UserWarning: [09:38:06] WARNING: C:\\buildkite-agent\\builds\\buildkite-windows-cpu-autoscaling-group-i-0015a694724fa8361-1\\xgboost\\xgboost-ci-windows\\src\\learner.cc:740: \n",
      "Parameters: { \"use_label_encoder\" } are not used.\n",
      "\n",
      "  warnings.warn(smsg, UserWarning)\n",
      "C:\\Users\\kdeep\\anaconda3\\Lib\\site-packages\\xgboost\\core.py:158: UserWarning: [09:38:06] WARNING: C:\\buildkite-agent\\builds\\buildkite-windows-cpu-autoscaling-group-i-0015a694724fa8361-1\\xgboost\\xgboost-ci-windows\\src\\learner.cc:740: \n",
      "Parameters: { \"use_label_encoder\" } are not used.\n",
      "\n",
      "  warnings.warn(smsg, UserWarning)\n"
     ]
    },
    {
     "name": "stdout",
     "output_type": "stream",
     "text": [
      "Precision: 0.6666666666666666, Recall: 0.5, Accuracy: 0.6666666666666666\n",
      "Precision: 0.5, Recall: 0.75, Accuracy: 0.5555555555555556\n",
      "Results to be written: eta=0.5, depth=7, dim=200, eps=0.3, (42.3, 42.3, 4.7, 4.7, 0.7055555555555555, 0.635, 0.7, 151008, 0.7205034799640997, 0.006882574277642087)\n",
      "eta=0.5, depth=7, dim=200, eps=0.5\n",
      "Number of flaky documents: 47\n",
      "Number of non-flaky documents: 47\n",
      "Total number of documents: 94\n",
      "Sample document: # Copyright 2021 The NetKet Authors - All rights reserved.\n",
      "#\n",
      "# Licensed under the Apache License, Version 2.0 (the \"License\");\n",
      "# you may not use this file except in compliance with the License.\n",
      "# You may obtain a copy of the License at\n",
      "#\n",
      "#    http://www.apache.org/licenses/LICENSE-2.0\n",
      "#\n",
      "# Unless required by applicable law or agreed to in writing, software\n",
      "# distributed under the License is distributed on an \"AS IS\" BASIS,\n",
      "# WITHOUT WARRANTIES OR CONDITIONS OF ANY KIND, either express or implied.\n",
      "# See the License for the specific language governing permissions and\n",
      "# limitations under the License.\n",
      "\n",
      "import dataclasses\n",
      "import abc\n",
      "\n",
      "from flax.core import freeze\n",
      "\n",
      "\n",
      "@dataclasses.dataclass(frozen=True)\n",
      "class ModuleFramework(abc.ABC):\n",
      "    @staticmethod\n",
      "    @abc.abstractmethod\n",
      "    def is_loaded() -> bool:\n",
      "        pass\n",
      "\n",
      "    @staticmethod\n",
      "    @abc.abstractmethod\n",
      "    def is_my_module(module):\n",
      "        pass\n",
      "\n",
      "    @staticmethod\n",
      "    @abc.abstractmethod\n",
      "    def wrap(module):\n",
      "        return module\n",
      "\n",
      "    @staticmethod\n",
      "    def wrap_params(variables):\n",
      "        return freeze({\"params\": variables})\n",
      "\n",
      "    @staticmethod\n",
      "    @abc.abstractmethod\n",
      "    def unwrap_params(wrapped_variables):\n",
      "        return wrapped_variables\n",
      "\n",
      "\n",
      "registered_frameworks = []\n",
      "\n",
      "\n",
      "def framework(clz):\n",
      "    \"\"\"\n",
      "    Registers a framework and it's wrapper methods to make it\n",
      "    behave like a flax framework.\n",
      "    \"\"\"\n",
      "    clz = dataclasses.dataclass(frozen=True)(clz)\n",
      "    registered_frameworks.append(clz)\n",
      "    return clz\n",
      "\n",
      "\n",
      "@dataclasses.dataclass(frozen=True)\n",
      "class UnknownFramework(ModuleFramework):\n",
      "    name: str = \"Unknown\"\n",
      "\n",
      "    @staticmethod\n",
      "    def is_loaded() -> bool:\n",
      "        return True\n",
      "\n",
      "    @staticmethod\n",
      "    def is_my_module(module):\n",
      "        return False\n",
      "\n",
      "    @staticmethod\n",
      "    def wrap(module):\n",
      "        return module\n",
      "\n",
      "    @staticmethod\n",
      "    def unwrap_params(wrapped_variables):\n",
      "        return wrapped_variables\n",
      "\n",
      "\n",
      "def identify_framework(module):\n",
      "    for _framework in registered_frameworks:\n",
      "        if _framework.is_my_module(module):\n",
      "            return _framework\n",
      "\n",
      "    return UnknownFramework\n",
      "\n",
      "\n",
      "def maybe_wrap_module(module):\n",
      "    \"\"\"\n",
      "    Passing a module from an unknown framework (might be user defined module, a jax\n",
      "    module, flax or haiku or anything else really), attempt to identify what is the\n",
      "    package/framework it comes from, and if so it correctly wraps it in order to\n",
      "    make it behave like a flax module (our default).\n",
      "\n",
      "    Also returns a function used to unpack the parameters once we are done.\n",
      "    \"\"\"\n",
      "    framewrk = identify_framework(module)\n",
      "\n",
      "    return framewrk, framewrk.wrap(module)\n"
     ]
    },
    {
     "name": "stderr",
     "output_type": "stream",
     "text": [
      "C:\\Users\\kdeep\\anaconda3\\Lib\\site-packages\\xgboost\\core.py:158: UserWarning: [09:38:07] WARNING: C:\\buildkite-agent\\builds\\buildkite-windows-cpu-autoscaling-group-i-0015a694724fa8361-1\\xgboost\\xgboost-ci-windows\\src\\learner.cc:740: \n",
      "Parameters: { \"use_label_encoder\" } are not used.\n",
      "\n",
      "  warnings.warn(smsg, UserWarning)\n",
      "C:\\Users\\kdeep\\anaconda3\\Lib\\site-packages\\xgboost\\core.py:158: UserWarning: [09:38:07] WARNING: C:\\buildkite-agent\\builds\\buildkite-windows-cpu-autoscaling-group-i-0015a694724fa8361-1\\xgboost\\xgboost-ci-windows\\src\\learner.cc:740: \n",
      "Parameters: { \"use_label_encoder\" } are not used.\n",
      "\n",
      "  warnings.warn(smsg, UserWarning)\n"
     ]
    },
    {
     "name": "stdout",
     "output_type": "stream",
     "text": [
      "Precision: 0.5, Recall: 0.2, Accuracy: 0.5\n",
      "Precision: 1.0, Recall: 0.8, Accuracy: 0.9\n"
     ]
    },
    {
     "name": "stderr",
     "output_type": "stream",
     "text": [
      "C:\\Users\\kdeep\\anaconda3\\Lib\\site-packages\\xgboost\\core.py:158: UserWarning: [09:38:07] WARNING: C:\\buildkite-agent\\builds\\buildkite-windows-cpu-autoscaling-group-i-0015a694724fa8361-1\\xgboost\\xgboost-ci-windows\\src\\learner.cc:740: \n",
      "Parameters: { \"use_label_encoder\" } are not used.\n",
      "\n",
      "  warnings.warn(smsg, UserWarning)\n",
      "C:\\Users\\kdeep\\anaconda3\\Lib\\site-packages\\xgboost\\core.py:158: UserWarning: [09:38:07] WARNING: C:\\buildkite-agent\\builds\\buildkite-windows-cpu-autoscaling-group-i-0015a694724fa8361-1\\xgboost\\xgboost-ci-windows\\src\\learner.cc:740: \n",
      "Parameters: { \"use_label_encoder\" } are not used.\n",
      "\n",
      "  warnings.warn(smsg, UserWarning)\n"
     ]
    },
    {
     "name": "stdout",
     "output_type": "stream",
     "text": [
      "Precision: 1.0, Recall: 0.8, Accuracy: 0.9\n",
      "Precision: 1.0, Recall: 1.0, Accuracy: 1.0\n"
     ]
    },
    {
     "name": "stderr",
     "output_type": "stream",
     "text": [
      "C:\\Users\\kdeep\\anaconda3\\Lib\\site-packages\\xgboost\\core.py:158: UserWarning: [09:38:07] WARNING: C:\\buildkite-agent\\builds\\buildkite-windows-cpu-autoscaling-group-i-0015a694724fa8361-1\\xgboost\\xgboost-ci-windows\\src\\learner.cc:740: \n",
      "Parameters: { \"use_label_encoder\" } are not used.\n",
      "\n",
      "  warnings.warn(smsg, UserWarning)\n",
      "C:\\Users\\kdeep\\anaconda3\\Lib\\site-packages\\xgboost\\core.py:158: UserWarning: [09:38:08] WARNING: C:\\buildkite-agent\\builds\\buildkite-windows-cpu-autoscaling-group-i-0015a694724fa8361-1\\xgboost\\xgboost-ci-windows\\src\\learner.cc:740: \n",
      "Parameters: { \"use_label_encoder\" } are not used.\n",
      "\n",
      "  warnings.warn(smsg, UserWarning)\n"
     ]
    },
    {
     "name": "stdout",
     "output_type": "stream",
     "text": [
      "Precision: 0.6666666666666666, Recall: 0.4, Accuracy: 0.5555555555555556\n",
      "Precision: 0.7142857142857143, Recall: 1.0, Accuracy: 0.7777777777777778\n"
     ]
    },
    {
     "name": "stderr",
     "output_type": "stream",
     "text": [
      "C:\\Users\\kdeep\\anaconda3\\Lib\\site-packages\\xgboost\\core.py:158: UserWarning: [09:38:08] WARNING: C:\\buildkite-agent\\builds\\buildkite-windows-cpu-autoscaling-group-i-0015a694724fa8361-1\\xgboost\\xgboost-ci-windows\\src\\learner.cc:740: \n",
      "Parameters: { \"use_label_encoder\" } are not used.\n",
      "\n",
      "  warnings.warn(smsg, UserWarning)\n",
      "C:\\Users\\kdeep\\anaconda3\\Lib\\site-packages\\xgboost\\core.py:158: UserWarning: [09:38:08] WARNING: C:\\buildkite-agent\\builds\\buildkite-windows-cpu-autoscaling-group-i-0015a694724fa8361-1\\xgboost\\xgboost-ci-windows\\src\\learner.cc:740: \n",
      "Parameters: { \"use_label_encoder\" } are not used.\n",
      "\n",
      "  warnings.warn(smsg, UserWarning)\n"
     ]
    },
    {
     "name": "stdout",
     "output_type": "stream",
     "text": [
      "Precision: 0.6666666666666666, Recall: 0.8, Accuracy: 0.6666666666666666\n",
      "Precision: 0.5, Recall: 0.75, Accuracy: 0.5555555555555556\n"
     ]
    },
    {
     "name": "stderr",
     "output_type": "stream",
     "text": [
      "C:\\Users\\kdeep\\anaconda3\\Lib\\site-packages\\xgboost\\core.py:158: UserWarning: [09:38:08] WARNING: C:\\buildkite-agent\\builds\\buildkite-windows-cpu-autoscaling-group-i-0015a694724fa8361-1\\xgboost\\xgboost-ci-windows\\src\\learner.cc:740: \n",
      "Parameters: { \"use_label_encoder\" } are not used.\n",
      "\n",
      "  warnings.warn(smsg, UserWarning)\n",
      "C:\\Users\\kdeep\\anaconda3\\Lib\\site-packages\\xgboost\\core.py:158: UserWarning: [09:38:08] WARNING: C:\\buildkite-agent\\builds\\buildkite-windows-cpu-autoscaling-group-i-0015a694724fa8361-1\\xgboost\\xgboost-ci-windows\\src\\learner.cc:740: \n",
      "Parameters: { \"use_label_encoder\" } are not used.\n",
      "\n",
      "  warnings.warn(smsg, UserWarning)\n"
     ]
    },
    {
     "name": "stdout",
     "output_type": "stream",
     "text": [
      "Precision: 0.75, Recall: 0.75, Accuracy: 0.7777777777777778\n",
      "Precision: 0.6, Recall: 0.75, Accuracy: 0.6666666666666666\n",
      "Results to be written: eta=0.5, depth=7, dim=200, eps=0.5, (42.3, 42.3, 4.7, 4.7, 0.7397619047619048, 0.7249999999999999, 0.73, 151008, 0.5847428600187414, 0.005432604664092307)\n",
      "XGBoost analysis completed. Results saved to: params-xgb.csv\n"
     ]
    }
   ],
   "source": [
    "import os\n",
    "import time\n",
    "import zipfile\n",
    "import pickle\n",
    "import numpy as np\n",
    "import xgboost as xgb\n",
    "\n",
    "from sklearn.feature_extraction.text import CountVectorizer\n",
    "from sklearn.random_projection import johnson_lindenstrauss_min_dim, SparseRandomProjection\n",
    "from sklearn.metrics import precision_score, recall_score, accuracy_score\n",
    "from sklearn.model_selection import StratifiedKFold\n",
    "\n",
    "###############################################################################\n",
    "# Utility functions\n",
    "\n",
    "def extract_zip(zip_file, extract_to):\n",
    "    \"\"\"Extracts a zip file to the specified directory.\"\"\"\n",
    "    with zipfile.ZipFile(zip_file, 'r') as zip_ref:\n",
    "        zip_ref.extractall(extract_to)\n",
    "\n",
    "def getDataPoints(path):\n",
    "    \"\"\"Collects content of all .py files within the given directory.\"\"\"\n",
    "    dataPointsList = []\n",
    "    if not os.path.exists(path):\n",
    "        print(f\"Directory does not exist: {path}\")\n",
    "        return dataPointsList\n",
    "\n",
    "    for root, dirs, files in os.walk(path):\n",
    "        for dataPointName in files:\n",
    "            if dataPointName.endswith(\".py\"):  # Only consider Python files\n",
    "                file_path = os.path.join(root, dataPointName)\n",
    "                with open(file_path, encoding=\"utf-8\") as fileIn:\n",
    "                    dp = fileIn.read().strip()\n",
    "                    if dp:  # Ensure the document is not empty\n",
    "                        dataPointsList.append(dp)\n",
    "                    else:\n",
    "                        print(f\"Empty file: {file_path}\")\n",
    "    \n",
    "    if len(dataPointsList) == 0:\n",
    "        print(f\"No valid documents found in directory: {path}\")\n",
    "    \n",
    "    return dataPointsList\n",
    "\n",
    "def computeResults(testLabels, predictLabels):\n",
    "    precision = precision_score(testLabels, predictLabels, zero_division=0)\n",
    "    recall = recall_score(testLabels, predictLabels, zero_division=0)\n",
    "    accuracy = accuracy_score(testLabels, predictLabels)\n",
    "    return precision, recall, accuracy\n",
    "\n",
    "###############################################################################\n",
    "# FLAST functions\n",
    "\n",
    "def flastVectorization(dataPoints, dim=0, eps=0.3):\n",
    "    countVec = CountVectorizer(stop_words=None)  # No stop word removal\n",
    "    Z_full = countVec.fit_transform(dataPoints)\n",
    "    if eps == 0:\n",
    "        Z = Z_full\n",
    "    else:\n",
    "        if dim <= 0:\n",
    "            dim = johnson_lindenstrauss_min_dim(Z_full.shape[0], eps=eps)\n",
    "        srp = SparseRandomProjection(n_components=dim)\n",
    "        Z = srp.fit_transform(Z_full)\n",
    "    return Z\n",
    "\n",
    "def flastXGBClassification(trainData, trainLabels, testData, eta, max_depth, params):\n",
    "    t0 = time.perf_counter()\n",
    "    xgb_model = xgb.XGBClassifier(eta=eta, max_depth=max_depth, use_label_encoder=False, eval_metric=\"logloss\")\n",
    "    xgb_model.fit(trainData, trainLabels)\n",
    "    trainTime = time.perf_counter() - t0\n",
    "\n",
    "    t0 = time.perf_counter()\n",
    "    predictLabels = xgb_model.predict(testData)\n",
    "    testTime = time.perf_counter() - t0\n",
    "\n",
    "    return trainTime, testTime, predictLabels\n",
    "\n",
    "###############################################################################\n",
    "# FLAST XGB analysis\n",
    "\n",
    "def flastXGB(outDir, flakyZip, nonFlakyZip, extractDir, kf, dim, eps, eta, max_depth, params):\n",
    "    v0 = time.perf_counter()\n",
    "\n",
    "    # Extract the zip files\n",
    "    flakyDir = os.path.join(extractDir, 'flaky')\n",
    "    nonFlakyDir = os.path.join(extractDir, 'nonFlaky')\n",
    "    os.makedirs(flakyDir, exist_ok=True)\n",
    "    os.makedirs(nonFlakyDir, exist_ok=True)\n",
    "    \n",
    "    extract_zip(flakyZip, flakyDir)\n",
    "    extract_zip(nonFlakyZip, nonFlakyDir)\n",
    "\n",
    "    dataPointsFlaky = getDataPoints(flakyDir)\n",
    "    dataPointsNonFlaky = getDataPoints(nonFlakyDir)\n",
    "    dataPoints = dataPointsFlaky + dataPointsNonFlaky\n",
    "\n",
    "    print(f\"Number of flaky documents: {len(dataPointsFlaky)}\")\n",
    "    print(f\"Number of non-flaky documents: {len(dataPointsNonFlaky)}\")\n",
    "    print(f\"Total number of documents: {len(dataPoints)}\")\n",
    "    if len(dataPoints) > 0:\n",
    "        print(f\"Sample document: {dataPoints[0]}\")\n",
    "\n",
    "    if len(dataPoints) == 0:\n",
    "        raise ValueError(\"No documents available for vectorization. Please check the input directories.\")\n",
    "\n",
    "    Z = flastVectorization(dataPoints, dim=dim, eps=eps)\n",
    "    dataPointsList = np.array([Z[i].toarray() for i in range(Z.shape[0])])\n",
    "    dataLabelsList = np.array([1]*len(dataPointsFlaky) + [0]*len(dataPointsNonFlaky))\n",
    "    vecTime = time.perf_counter() - v0\n",
    "\n",
    "    # Storage calculation\n",
    "    xgb_data = (dataPointsList, dataLabelsList)\n",
    "    pickleDumpXGB = os.path.join(outDir, f\"flast-xgb-eta{eta}-depth{max_depth}.pickle\")\n",
    "    with open(pickleDumpXGB, \"wb\") as pickleFile:\n",
    "        pickle.dump(xgb_data, pickleFile)\n",
    "    storage = os.path.getsize(pickleDumpXGB)\n",
    "    os.remove(pickleDumpXGB)\n",
    "\n",
    "    avgP, avgR, avgA = 0, 0, 0\n",
    "    avgTPrep, avgTPred = 0, 0\n",
    "    avgFlakyTrain, avgNonFlakyTrain, avgFlakyTest, avgNonFlakyTest = 0, 0, 0, 0\n",
    "    successFold, precisionFold = 0, 0\n",
    "\n",
    "    for trnIdx, tstIdx in kf.split(dataPointsList, dataLabelsList):\n",
    "        trainData, testData = dataPointsList[trnIdx], dataPointsList[tstIdx]\n",
    "        trainLabels, testLabels = dataLabelsList[trnIdx], dataLabelsList[tstIdx]\n",
    "        if sum(trainLabels) == 0 or sum(testLabels) == 0:\n",
    "            print(\"Skipping fold with no flaky/non-flaky examples...\")\n",
    "            continue\n",
    "\n",
    "        successFold += 1\n",
    "        avgFlakyTrain += sum(trainLabels)\n",
    "        avgNonFlakyTrain += len(trainLabels) - sum(trainLabels)\n",
    "        avgFlakyTest += sum(testLabels)\n",
    "        avgNonFlakyTest += len(testLabels) - sum(testLabels)\n",
    "\n",
    "        trainData = trainData.reshape((trainData.shape[0], -1))\n",
    "        testData = testData.reshape((testData.shape[0], -1))\n",
    "\n",
    "        trainTime, testTime, predictLabels = flastXGBClassification(trainData, trainLabels, testData, eta, max_depth, params)\n",
    "        preparationTime = (vecTime * len(trainData) / len(dataPoints)) + trainTime\n",
    "        predictionTime = (vecTime / len(dataPoints)) + (testTime / len(testData))\n",
    "        precision, recall, accuracy = computeResults(testLabels, predictLabels)\n",
    "\n",
    "        print(f\"Precision: {precision}, Recall: {recall}, Accuracy: {accuracy}\")\n",
    "        if precision != \"-\":\n",
    "            precisionFold += 1\n",
    "            avgP += precision\n",
    "            avgA += accuracy\n",
    "        avgR += recall\n",
    "        avgTPrep += preparationTime\n",
    "        avgTPred += predictionTime\n",
    "\n",
    "    if precisionFold > 0:\n",
    "        avgP /= precisionFold\n",
    "        avgA /= precisionFold\n",
    "    else:\n",
    "        avgP = avgA = \"-\"\n",
    "    avgR /= successFold\n",
    "    avgTPrep /= successFold\n",
    "    avgTPred /= successFold\n",
    "    avgFlakyTrain /= successFold\n",
    "    avgNonFlakyTrain /= successFold\n",
    "    avgFlakyTest /= successFold\n",
    "    avgNonFlakyTest /= successFold\n",
    "\n",
    "    return avgFlakyTrain, avgNonFlakyTrain, avgFlakyTest, avgNonFlakyTest, avgP, avgR, avgA, storage, avgTPrep, avgTPred\n",
    "\n",
    "if __name__ == \"__main__\":\n",
    "    # Parameters setup\n",
    "    flakyZip = \"C:/Users/kdeep/Downloads/Flakiness ML/cleaned_flaky_files.zip\"\n",
    "    nonFlakyZip = \"C:/Users/kdeep/Downloads/Flakiness ML/reduced_nonflaky_files.zip\"\n",
    "    extractDir = \"extracted\"\n",
    "    outDir = \"results/\"\n",
    "    os.makedirs(outDir, exist_ok=True)\n",
    "    os.makedirs(extractDir, exist_ok=True)\n",
    "\n",
    "    numSplit = 10\n",
    "    kf = StratifiedKFold(n_splits=numSplit)\n",
    "\n",
    "    outFile = \"params-xgb.csv\"\n",
    "    with open(os.path.join(outDir, outFile), \"w\") as fo:\n",
    "        fo.write(\"eta,max_depth,dim,eps,avgFlakyTrain,avgNonFlakyTrain,avgFlakyTest,avgNonFlakyTest,precision,recall,accuracy,storage,preparationTime,predictionTime\\n\")\n",
    "\n",
    "    # XGB parameters to vary\n",
    "    eta_values = [0.1, 0.3, 0.5]  # Learning rate\n",
    "    depth_values = [3, 5, 7]  # Tree depth\n",
    "    dim_values = [0, 100, 200]  # Dimensionality reduction\n",
    "    eps_values = [0.1, 0.3, 0.5]  # JL epsilon\n",
    "\n",
    "    for eta in eta_values:\n",
    "        for depth in depth_values:\n",
    "            for dim in dim_values:\n",
    "                for eps in eps_values:\n",
    "                    print(f\"eta={eta}, depth={depth}, dim={dim}, eps={eps}\")\n",
    "                    results = flastXGB(outDir, flakyZip, nonFlakyZip, extractDir, kf, dim, eps, eta, depth, {})\n",
    "                    print(f\"Results to be written: eta={eta}, depth={depth}, dim={dim}, eps={eps}, {results}\")\n",
    "                    with open(os.path.join(outDir, outFile), \"a\") as fo:\n",
    "                        fo.write(\"{},{},{},{},{},{},{},{},{},{},{},{},{},{}\\n\".format(eta, depth, dim, eps, *results))\n",
    "\n",
    "    print(\"XGBoost analysis completed. Results saved to:\", outFile)"
   ]
  },
  {
   "cell_type": "code",
   "execution_count": null,
   "id": "19b345de-2d39-41bb-afc8-064eef8746df",
   "metadata": {},
   "outputs": [],
   "source": []
  }
 ],
 "metadata": {
  "kernelspec": {
   "display_name": "Python 3 (ipykernel)",
   "language": "python",
   "name": "python3"
  },
  "language_info": {
   "codemirror_mode": {
    "name": "ipython",
    "version": 3
   },
   "file_extension": ".py",
   "mimetype": "text/x-python",
   "name": "python",
   "nbconvert_exporter": "python",
   "pygments_lexer": "ipython3",
   "version": "3.11.7"
  }
 },
 "nbformat": 4,
 "nbformat_minor": 5
}
